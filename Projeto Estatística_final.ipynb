{
 "cells": [
  {
   "cell_type": "markdown",
   "id": "da423c25-894c-4b6e-a3ec-673cb8b02a57",
   "metadata": {},
   "source": [
    "# Projeto do Módulo | Estatística"
   ]
  },
  {
   "cell_type": "markdown",
   "id": "2510fdd9-4e4d-4e6e-ade1-745b7b66581b",
   "metadata": {},
   "source": [
    ". Turma: 735 | Grupo formado por:\n",
    "\n",
    "    - Adelaide Adurens Kono  \n",
    "    - Flavio Quirino  \n",
    "    - Pedro Bastos Sant Ana  "
   ]
  },
  {
   "cell_type": "markdown",
   "id": "d6e56aeb-e53b-4696-9acc-ff4b055a8f03",
   "metadata": {},
   "source": [
    "### Contextualização"
   ]
  },
  {
   "cell_type": "markdown",
   "id": "3a2eec6e-9fd8-4330-946d-45a0fe6e254e",
   "metadata": {},
   "source": [
    "\n",
    "A Autoridade De Estatística das Filipinas (PSA) lidera a realização da Pesquisa de Renda e Despesa Familiar (FIES) em todo o país. A pesquisa, realizada a cada 3 (três) anos, tem como objetivo fornecer dados sobre renda e despesas familiares, incluindo, entre outros, níveis de consumo por item de despesa, fontes de renda em dinheiro e informações relacionadas que afetam a renda e níveis de despesas e padrões nas Filipinas. Dessa forma, pede-se que seja elaborado um relatório prévio com insights e análise de dados por parte de um cientista de dados."
   ]
  },
  {
   "cell_type": "code",
   "execution_count": 1,
   "id": "eb9c42d0-475c-4386-9ffa-57f93f242e9d",
   "metadata": {},
   "outputs": [],
   "source": [
    "# Importação de bibliotecas\n",
    "\n",
    "import numpy as np\n",
    "import pandas as pd\n",
    "import matplotlib.pyplot as plt\n",
    "import seaborn as sns\n",
    "from sklearn.linear_model import LinearRegression\n",
    "import statsmodels.api as sm\n",
    "from sklearn.metrics import r2_score, mean_squared_error\n",
    "from scipy.stats import norm\n",
    "from statsmodels.stats.weightstats import DescrStatsW, CompareMeans\n",
    "from scipy.stats import pearsonr\n",
    "from sklearn.model_selection import train_test_split"
   ]
  },
  {
   "cell_type": "code",
   "execution_count": 6,
   "id": "0f8bbc32-fc50-4f20-8bc4-f1fb766cb56e",
   "metadata": {},
   "outputs": [
    {
     "data": {
      "text/html": [
       "<div>\n",
       "<style scoped>\n",
       "    .dataframe tbody tr th:only-of-type {\n",
       "        vertical-align: middle;\n",
       "    }\n",
       "\n",
       "    .dataframe tbody tr th {\n",
       "        vertical-align: top;\n",
       "    }\n",
       "\n",
       "    .dataframe thead th {\n",
       "        text-align: right;\n",
       "    }\n",
       "</style>\n",
       "<table border=\"1\" class=\"dataframe\">\n",
       "  <thead>\n",
       "    <tr style=\"text-align: right;\">\n",
       "      <th></th>\n",
       "      <th>Total Household Income</th>\n",
       "      <th>Region</th>\n",
       "      <th>Total Food Expenditure</th>\n",
       "      <th>Main Source of Income</th>\n",
       "      <th>Agricultural Household indicator</th>\n",
       "      <th>Bread and Cereals Expenditure</th>\n",
       "      <th>Total Rice Expenditure</th>\n",
       "      <th>Meat Expenditure</th>\n",
       "      <th>Total Fish and  marine products Expenditure</th>\n",
       "      <th>Fruit Expenditure</th>\n",
       "      <th>...</th>\n",
       "      <th>Number of Refrigerator/Freezer</th>\n",
       "      <th>Number of Washing Machine</th>\n",
       "      <th>Number of Airconditioner</th>\n",
       "      <th>Number of Car, Jeep, Van</th>\n",
       "      <th>Number of Landline/wireless telephones</th>\n",
       "      <th>Number of Cellular phone</th>\n",
       "      <th>Number of Personal Computer</th>\n",
       "      <th>Number of Stove with Oven/Gas Range</th>\n",
       "      <th>Number of Motorized Banca</th>\n",
       "      <th>Number of Motorcycle/Tricycle</th>\n",
       "    </tr>\n",
       "  </thead>\n",
       "  <tbody>\n",
       "    <tr>\n",
       "      <th>0</th>\n",
       "      <td>480332</td>\n",
       "      <td>CAR</td>\n",
       "      <td>117848</td>\n",
       "      <td>Wage/Salaries</td>\n",
       "      <td>0</td>\n",
       "      <td>42140</td>\n",
       "      <td>38300</td>\n",
       "      <td>24676</td>\n",
       "      <td>16806</td>\n",
       "      <td>3325</td>\n",
       "      <td>...</td>\n",
       "      <td>1</td>\n",
       "      <td>1</td>\n",
       "      <td>0</td>\n",
       "      <td>0</td>\n",
       "      <td>0</td>\n",
       "      <td>2</td>\n",
       "      <td>1</td>\n",
       "      <td>0</td>\n",
       "      <td>0</td>\n",
       "      <td>1</td>\n",
       "    </tr>\n",
       "    <tr>\n",
       "      <th>1</th>\n",
       "      <td>198235</td>\n",
       "      <td>CAR</td>\n",
       "      <td>67766</td>\n",
       "      <td>Wage/Salaries</td>\n",
       "      <td>0</td>\n",
       "      <td>17329</td>\n",
       "      <td>13008</td>\n",
       "      <td>17434</td>\n",
       "      <td>11073</td>\n",
       "      <td>2035</td>\n",
       "      <td>...</td>\n",
       "      <td>0</td>\n",
       "      <td>1</td>\n",
       "      <td>0</td>\n",
       "      <td>0</td>\n",
       "      <td>0</td>\n",
       "      <td>3</td>\n",
       "      <td>1</td>\n",
       "      <td>0</td>\n",
       "      <td>0</td>\n",
       "      <td>2</td>\n",
       "    </tr>\n",
       "    <tr>\n",
       "      <th>2</th>\n",
       "      <td>82785</td>\n",
       "      <td>CAR</td>\n",
       "      <td>61609</td>\n",
       "      <td>Wage/Salaries</td>\n",
       "      <td>1</td>\n",
       "      <td>34182</td>\n",
       "      <td>32001</td>\n",
       "      <td>7783</td>\n",
       "      <td>2590</td>\n",
       "      <td>1730</td>\n",
       "      <td>...</td>\n",
       "      <td>0</td>\n",
       "      <td>0</td>\n",
       "      <td>0</td>\n",
       "      <td>0</td>\n",
       "      <td>0</td>\n",
       "      <td>0</td>\n",
       "      <td>0</td>\n",
       "      <td>0</td>\n",
       "      <td>0</td>\n",
       "      <td>0</td>\n",
       "    </tr>\n",
       "    <tr>\n",
       "      <th>3</th>\n",
       "      <td>107589</td>\n",
       "      <td>CAR</td>\n",
       "      <td>78189</td>\n",
       "      <td>Wage/Salaries</td>\n",
       "      <td>0</td>\n",
       "      <td>34030</td>\n",
       "      <td>28659</td>\n",
       "      <td>10914</td>\n",
       "      <td>10812</td>\n",
       "      <td>690</td>\n",
       "      <td>...</td>\n",
       "      <td>0</td>\n",
       "      <td>0</td>\n",
       "      <td>0</td>\n",
       "      <td>0</td>\n",
       "      <td>0</td>\n",
       "      <td>1</td>\n",
       "      <td>0</td>\n",
       "      <td>0</td>\n",
       "      <td>0</td>\n",
       "      <td>0</td>\n",
       "    </tr>\n",
       "    <tr>\n",
       "      <th>4</th>\n",
       "      <td>189322</td>\n",
       "      <td>CAR</td>\n",
       "      <td>94625</td>\n",
       "      <td>Wage/Salaries</td>\n",
       "      <td>0</td>\n",
       "      <td>34820</td>\n",
       "      <td>30167</td>\n",
       "      <td>18391</td>\n",
       "      <td>11309</td>\n",
       "      <td>1395</td>\n",
       "      <td>...</td>\n",
       "      <td>1</td>\n",
       "      <td>0</td>\n",
       "      <td>0</td>\n",
       "      <td>0</td>\n",
       "      <td>0</td>\n",
       "      <td>3</td>\n",
       "      <td>0</td>\n",
       "      <td>0</td>\n",
       "      <td>0</td>\n",
       "      <td>1</td>\n",
       "    </tr>\n",
       "  </tbody>\n",
       "</table>\n",
       "<p>5 rows × 60 columns</p>\n",
       "</div>"
      ],
      "text/plain": [
       "   Total Household Income Region  Total Food Expenditure  \\\n",
       "0                  480332    CAR                  117848   \n",
       "1                  198235    CAR                   67766   \n",
       "2                   82785    CAR                   61609   \n",
       "3                  107589    CAR                   78189   \n",
       "4                  189322    CAR                   94625   \n",
       "\n",
       "  Main Source of Income  Agricultural Household indicator  \\\n",
       "0         Wage/Salaries                                 0   \n",
       "1         Wage/Salaries                                 0   \n",
       "2         Wage/Salaries                                 1   \n",
       "3         Wage/Salaries                                 0   \n",
       "4         Wage/Salaries                                 0   \n",
       "\n",
       "   Bread and Cereals Expenditure  Total Rice Expenditure  Meat Expenditure  \\\n",
       "0                          42140                   38300             24676   \n",
       "1                          17329                   13008             17434   \n",
       "2                          34182                   32001              7783   \n",
       "3                          34030                   28659             10914   \n",
       "4                          34820                   30167             18391   \n",
       "\n",
       "   Total Fish and  marine products Expenditure  Fruit Expenditure  ...  \\\n",
       "0                                        16806               3325  ...   \n",
       "1                                        11073               2035  ...   \n",
       "2                                         2590               1730  ...   \n",
       "3                                        10812                690  ...   \n",
       "4                                        11309               1395  ...   \n",
       "\n",
       "   Number of Refrigerator/Freezer  Number of Washing Machine  \\\n",
       "0                               1                          1   \n",
       "1                               0                          1   \n",
       "2                               0                          0   \n",
       "3                               0                          0   \n",
       "4                               1                          0   \n",
       "\n",
       "   Number of Airconditioner  Number of Car, Jeep, Van  \\\n",
       "0                         0                         0   \n",
       "1                         0                         0   \n",
       "2                         0                         0   \n",
       "3                         0                         0   \n",
       "4                         0                         0   \n",
       "\n",
       "   Number of Landline/wireless telephones  Number of Cellular phone  \\\n",
       "0                                       0                         2   \n",
       "1                                       0                         3   \n",
       "2                                       0                         0   \n",
       "3                                       0                         1   \n",
       "4                                       0                         3   \n",
       "\n",
       "   Number of Personal Computer  Number of Stove with Oven/Gas Range  \\\n",
       "0                            1                                    0   \n",
       "1                            1                                    0   \n",
       "2                            0                                    0   \n",
       "3                            0                                    0   \n",
       "4                            0                                    0   \n",
       "\n",
       "   Number of Motorized Banca  Number of Motorcycle/Tricycle  \n",
       "0                          0                              1  \n",
       "1                          0                              2  \n",
       "2                          0                              0  \n",
       "3                          0                              0  \n",
       "4                          0                              1  \n",
       "\n",
       "[5 rows x 60 columns]"
      ]
     },
     "execution_count": 6,
     "metadata": {},
     "output_type": "execute_result"
    }
   ],
   "source": [
    "# Carregando dataset\n",
    "\n",
    "df = pd.read_csv(\"https://s3-sa-east-1.amazonaws.com/lcpi/97fe77d1-2aec-4660-a799-c6eaccd14ea7.csv\")\n",
    "df.head()"
   ]
  },
  {
   "cell_type": "code",
   "execution_count": 5,
   "id": "10c7422f-ee66-4c29-95b6-95584a3207bf",
   "metadata": {
    "tags": []
   },
   "outputs": [
    {
     "data": {
      "text/plain": [
       "Index(['Total Household Income', 'Region', 'Total Food Expenditure',\n",
       "       'Main Source of Income', 'Agricultural Household indicator',\n",
       "       'Bread and Cereals Expenditure', 'Total Rice Expenditure',\n",
       "       'Meat Expenditure', 'Total Fish and  marine products Expenditure',\n",
       "       'Fruit Expenditure', 'Vegetables Expenditure',\n",
       "       'Restaurant and hotels Expenditure', 'Alcoholic Beverages Expenditure',\n",
       "       'Tobacco Expenditure', 'Clothing, Footwear and Other Wear Expenditure',\n",
       "       'Housing and water Expenditure', 'Imputed House Rental Value',\n",
       "       'Medical Care Expenditure', 'Transportation Expenditure',\n",
       "       'Communication Expenditure', 'Education Expenditure',\n",
       "       'Miscellaneous Goods and Services Expenditure',\n",
       "       'Special Occasions Expenditure', 'Crop Farming and Gardening expenses',\n",
       "       'Total Income from Entrepreneurial Acitivites', 'Household Head Sex',\n",
       "       'Household Head Age', 'Household Head Marital Status',\n",
       "       'Household Head Highest Grade Completed',\n",
       "       'Household Head Job or Business Indicator', 'Household Head Occupation',\n",
       "       'Household Head Class of Worker', 'Type of Household',\n",
       "       'Total Number of Family members',\n",
       "       'Members with age less than 5 year old',\n",
       "       'Members with age 5 - 17 years old',\n",
       "       'Total number of family members employed', 'Type of Building/House',\n",
       "       'Type of Roof', 'Type of Walls', 'House Floor Area', 'House Age',\n",
       "       'Number of bedrooms', 'Tenure Status', 'Toilet Facilities',\n",
       "       'Electricity', 'Main Source of Water Supply', 'Number of Television',\n",
       "       'Number of CD/VCD/DVD', 'Number of Component/Stereo set',\n",
       "       'Number of Refrigerator/Freezer', 'Number of Washing Machine',\n",
       "       'Number of Airconditioner', 'Number of Car, Jeep, Van',\n",
       "       'Number of Landline/wireless telephones', 'Number of Cellular phone',\n",
       "       'Number of Personal Computer', 'Number of Stove with Oven/Gas Range',\n",
       "       'Number of Motorized Banca', 'Number of Motorcycle/Tricycle'],\n",
       "      dtype='object')"
      ]
     },
     "execution_count": 5,
     "metadata": {},
     "output_type": "execute_result"
    }
   ],
   "source": [
    "df.columns"
   ]
  },
  {
   "cell_type": "code",
   "execution_count": 4,
   "id": "8c9a1973-41b3-4bb1-ae78-595cacd3e6e8",
   "metadata": {},
   "outputs": [
    {
     "name": "stdout",
     "output_type": "stream",
     "text": [
      "<class 'pandas.core.frame.DataFrame'>\n",
      "RangeIndex: 41544 entries, 0 to 41543\n",
      "Data columns (total 60 columns):\n",
      " #   Column                                         Non-Null Count  Dtype \n",
      "---  ------                                         --------------  ----- \n",
      " 0   Total Household Income                         41544 non-null  int64 \n",
      " 1   Region                                         41544 non-null  object\n",
      " 2   Total Food Expenditure                         41544 non-null  int64 \n",
      " 3   Main Source of Income                          41544 non-null  object\n",
      " 4   Agricultural Household indicator               41544 non-null  int64 \n",
      " 5   Bread and Cereals Expenditure                  41544 non-null  int64 \n",
      " 6   Total Rice Expenditure                         41544 non-null  int64 \n",
      " 7   Meat Expenditure                               41544 non-null  int64 \n",
      " 8   Total Fish and  marine products Expenditure    41544 non-null  int64 \n",
      " 9   Fruit Expenditure                              41544 non-null  int64 \n",
      " 10  Vegetables Expenditure                         41544 non-null  int64 \n",
      " 11  Restaurant and hotels Expenditure              41544 non-null  int64 \n",
      " 12  Alcoholic Beverages Expenditure                41544 non-null  int64 \n",
      " 13  Tobacco Expenditure                            41544 non-null  int64 \n",
      " 14  Clothing, Footwear and Other Wear Expenditure  41544 non-null  int64 \n",
      " 15  Housing and water Expenditure                  41544 non-null  int64 \n",
      " 16  Imputed House Rental Value                     41544 non-null  int64 \n",
      " 17  Medical Care Expenditure                       41544 non-null  int64 \n",
      " 18  Transportation Expenditure                     41544 non-null  int64 \n",
      " 19  Communication Expenditure                      41544 non-null  int64 \n",
      " 20  Education Expenditure                          41544 non-null  int64 \n",
      " 21  Miscellaneous Goods and Services Expenditure   41544 non-null  int64 \n",
      " 22  Special Occasions Expenditure                  41544 non-null  int64 \n",
      " 23  Crop Farming and Gardening expenses            41544 non-null  int64 \n",
      " 24  Total Income from Entrepreneurial Acitivites   41544 non-null  int64 \n",
      " 25  Household Head Sex                             41544 non-null  object\n",
      " 26  Household Head Age                             41544 non-null  int64 \n",
      " 27  Household Head Marital Status                  41544 non-null  object\n",
      " 28  Household Head Highest Grade Completed         41544 non-null  object\n",
      " 29  Household Head Job or Business Indicator       41544 non-null  object\n",
      " 30  Household Head Occupation                      34008 non-null  object\n",
      " 31  Household Head Class of Worker                 34008 non-null  object\n",
      " 32  Type of Household                              41544 non-null  object\n",
      " 33  Total Number of Family members                 41544 non-null  int64 \n",
      " 34  Members with age less than 5 year old          41544 non-null  int64 \n",
      " 35  Members with age 5 - 17 years old              41544 non-null  int64 \n",
      " 36  Total number of family members employed        41544 non-null  int64 \n",
      " 37  Type of Building/House                         41544 non-null  object\n",
      " 38  Type of Roof                                   41544 non-null  object\n",
      " 39  Type of Walls                                  41544 non-null  object\n",
      " 40  House Floor Area                               41544 non-null  int64 \n",
      " 41  House Age                                      41544 non-null  int64 \n",
      " 42  Number of bedrooms                             41544 non-null  int64 \n",
      " 43  Tenure Status                                  41544 non-null  object\n",
      " 44  Toilet Facilities                              41544 non-null  object\n",
      " 45  Electricity                                    41544 non-null  int64 \n",
      " 46  Main Source of Water Supply                    41544 non-null  object\n",
      " 47  Number of Television                           41544 non-null  int64 \n",
      " 48  Number of CD/VCD/DVD                           41544 non-null  int64 \n",
      " 49  Number of Component/Stereo set                 41544 non-null  int64 \n",
      " 50  Number of Refrigerator/Freezer                 41544 non-null  int64 \n",
      " 51  Number of Washing Machine                      41544 non-null  int64 \n",
      " 52  Number of Airconditioner                       41544 non-null  int64 \n",
      " 53  Number of Car, Jeep, Van                       41544 non-null  int64 \n",
      " 54  Number of Landline/wireless telephones         41544 non-null  int64 \n",
      " 55  Number of Cellular phone                       41544 non-null  int64 \n",
      " 56  Number of Personal Computer                    41544 non-null  int64 \n",
      " 57  Number of Stove with Oven/Gas Range            41544 non-null  int64 \n",
      " 58  Number of Motorized Banca                      41544 non-null  int64 \n",
      " 59  Number of Motorcycle/Tricycle                  41544 non-null  int64 \n",
      "dtypes: int64(45), object(15)\n",
      "memory usage: 19.0+ MB\n"
     ]
    }
   ],
   "source": [
    "df.info()"
   ]
  },
  {
   "cell_type": "markdown",
   "id": "53e564fe-7574-4ec5-baca-a5a2d85612a8",
   "metadata": {},
   "source": [
    "### Milestone 1 - Amostra e Descrição"
   ]
  },
  {
   "cell_type": "markdown",
   "id": "b7b70abf-056c-40a4-80bc-44c2aa0af0d4",
   "metadata": {},
   "source": [
    "1. Calcule o tamanho de amostra ideal, considerando que você deseja estimar a média de dinheiro gasto com saúde (Medical Care Expenditure) com um erro máximo de 500, e um nível de confiança de 95%."
   ]
  },
  {
   "cell_type": "code",
   "execution_count": 7,
   "id": "bd713d6b-c640-4ce1-86d0-ec20226011ca",
   "metadata": {},
   "outputs": [],
   "source": [
    "sigma = df['Medical Care Expenditure'].std()\n",
    "erro_maximo = 500\n",
    "confianca = 0.95\n",
    "significancia = 1 - confianca"
   ]
  },
  {
   "cell_type": "code",
   "execution_count": 8,
   "id": "e5bbaf63-4e4d-4d78-87e8-29b81a11c917",
   "metadata": {},
   "outputs": [
    {
     "data": {
      "text/plain": [
       "1.959963984540054"
      ]
     },
     "execution_count": 8,
     "metadata": {},
     "output_type": "execute_result"
    }
   ],
   "source": [
    "z_alpha_2 = norm.ppf(0.95 + (0.05 / 2))\n",
    "z_alpha_2"
   ]
  },
  {
   "cell_type": "code",
   "execution_count": 9,
   "id": "1eba0448-b006-45f8-a756-9b425739a686",
   "metadata": {},
   "outputs": [],
   "source": [
    "n_minimo = (z_alpha_2 * sigma / erro_maximo)**2"
   ]
  },
  {
   "cell_type": "code",
   "execution_count": 10,
   "id": "0d054643-72a9-46cd-aa76-060bb28dc94c",
   "metadata": {},
   "outputs": [
    {
     "name": "stdout",
     "output_type": "stream",
     "text": [
      "O valor da amostra ideal é de 11121\n"
     ]
    }
   ],
   "source": [
    "n = round(np.ceil(n_minimo))\n",
    "print(f\"O valor da amostra ideal é de {n}\")"
   ]
  },
  {
   "cell_type": "markdown",
   "id": "ccdd9c21-35e3-4fff-ac21-af73f2a9b905",
   "metadata": {},
   "source": [
    "2. Obtenha uma amostra do dataset, considerando o tamanho da amostra que você calculou anteriormente e, em seguida, faça uma análise descritiva dos dados com, pelo menos, 10 variáveis quantitativas."
   ]
  },
  {
   "cell_type": "code",
   "execution_count": 11,
   "id": "1637ec66-ac5c-4a69-9db0-bd7bdfe1b925",
   "metadata": {},
   "outputs": [
    {
     "data": {
      "text/html": [
       "<div>\n",
       "<style scoped>\n",
       "    .dataframe tbody tr th:only-of-type {\n",
       "        vertical-align: middle;\n",
       "    }\n",
       "\n",
       "    .dataframe tbody tr th {\n",
       "        vertical-align: top;\n",
       "    }\n",
       "\n",
       "    .dataframe thead th {\n",
       "        text-align: right;\n",
       "    }\n",
       "</style>\n",
       "<table border=\"1\" class=\"dataframe\">\n",
       "  <thead>\n",
       "    <tr style=\"text-align: right;\">\n",
       "      <th></th>\n",
       "      <th>Total Household Income</th>\n",
       "      <th>Region</th>\n",
       "      <th>Total Food Expenditure</th>\n",
       "      <th>Main Source of Income</th>\n",
       "      <th>Agricultural Household indicator</th>\n",
       "      <th>Bread and Cereals Expenditure</th>\n",
       "      <th>Total Rice Expenditure</th>\n",
       "      <th>Meat Expenditure</th>\n",
       "      <th>Total Fish and  marine products Expenditure</th>\n",
       "      <th>Fruit Expenditure</th>\n",
       "      <th>...</th>\n",
       "      <th>Number of Refrigerator/Freezer</th>\n",
       "      <th>Number of Washing Machine</th>\n",
       "      <th>Number of Airconditioner</th>\n",
       "      <th>Number of Car, Jeep, Van</th>\n",
       "      <th>Number of Landline/wireless telephones</th>\n",
       "      <th>Number of Cellular phone</th>\n",
       "      <th>Number of Personal Computer</th>\n",
       "      <th>Number of Stove with Oven/Gas Range</th>\n",
       "      <th>Number of Motorized Banca</th>\n",
       "      <th>Number of Motorcycle/Tricycle</th>\n",
       "    </tr>\n",
       "  </thead>\n",
       "  <tbody>\n",
       "    <tr>\n",
       "      <th>1849</th>\n",
       "      <td>162566</td>\n",
       "      <td>V - Bicol Region</td>\n",
       "      <td>85025</td>\n",
       "      <td>Enterpreneurial Activities</td>\n",
       "      <td>1</td>\n",
       "      <td>28108</td>\n",
       "      <td>22932</td>\n",
       "      <td>3614</td>\n",
       "      <td>10058</td>\n",
       "      <td>3750</td>\n",
       "      <td>...</td>\n",
       "      <td>0</td>\n",
       "      <td>0</td>\n",
       "      <td>0</td>\n",
       "      <td>0</td>\n",
       "      <td>0</td>\n",
       "      <td>3</td>\n",
       "      <td>0</td>\n",
       "      <td>0</td>\n",
       "      <td>0</td>\n",
       "      <td>0</td>\n",
       "    </tr>\n",
       "    <tr>\n",
       "      <th>29179</th>\n",
       "      <td>218765</td>\n",
       "      <td>IVA - CALABARZON</td>\n",
       "      <td>71775</td>\n",
       "      <td>Other sources of Income</td>\n",
       "      <td>0</td>\n",
       "      <td>30273</td>\n",
       "      <td>20091</td>\n",
       "      <td>7180</td>\n",
       "      <td>4092</td>\n",
       "      <td>1300</td>\n",
       "      <td>...</td>\n",
       "      <td>1</td>\n",
       "      <td>0</td>\n",
       "      <td>0</td>\n",
       "      <td>0</td>\n",
       "      <td>0</td>\n",
       "      <td>3</td>\n",
       "      <td>0</td>\n",
       "      <td>0</td>\n",
       "      <td>0</td>\n",
       "      <td>0</td>\n",
       "    </tr>\n",
       "    <tr>\n",
       "      <th>20513</th>\n",
       "      <td>551982</td>\n",
       "      <td>NCR</td>\n",
       "      <td>214203</td>\n",
       "      <td>Wage/Salaries</td>\n",
       "      <td>0</td>\n",
       "      <td>21228</td>\n",
       "      <td>12326</td>\n",
       "      <td>48055</td>\n",
       "      <td>17536</td>\n",
       "      <td>660</td>\n",
       "      <td>...</td>\n",
       "      <td>1</td>\n",
       "      <td>1</td>\n",
       "      <td>0</td>\n",
       "      <td>0</td>\n",
       "      <td>0</td>\n",
       "      <td>3</td>\n",
       "      <td>2</td>\n",
       "      <td>0</td>\n",
       "      <td>0</td>\n",
       "      <td>0</td>\n",
       "    </tr>\n",
       "    <tr>\n",
       "      <th>28910</th>\n",
       "      <td>443465</td>\n",
       "      <td>I - Ilocos Region</td>\n",
       "      <td>223936</td>\n",
       "      <td>Other sources of Income</td>\n",
       "      <td>0</td>\n",
       "      <td>66348</td>\n",
       "      <td>51000</td>\n",
       "      <td>36404</td>\n",
       "      <td>12411</td>\n",
       "      <td>2172</td>\n",
       "      <td>...</td>\n",
       "      <td>1</td>\n",
       "      <td>1</td>\n",
       "      <td>0</td>\n",
       "      <td>0</td>\n",
       "      <td>0</td>\n",
       "      <td>3</td>\n",
       "      <td>1</td>\n",
       "      <td>0</td>\n",
       "      <td>0</td>\n",
       "      <td>1</td>\n",
       "    </tr>\n",
       "    <tr>\n",
       "      <th>2162</th>\n",
       "      <td>144350</td>\n",
       "      <td>ARMM</td>\n",
       "      <td>80055</td>\n",
       "      <td>Enterpreneurial Activities</td>\n",
       "      <td>1</td>\n",
       "      <td>31586</td>\n",
       "      <td>24864</td>\n",
       "      <td>280</td>\n",
       "      <td>15975</td>\n",
       "      <td>2798</td>\n",
       "      <td>...</td>\n",
       "      <td>0</td>\n",
       "      <td>0</td>\n",
       "      <td>0</td>\n",
       "      <td>0</td>\n",
       "      <td>0</td>\n",
       "      <td>2</td>\n",
       "      <td>0</td>\n",
       "      <td>0</td>\n",
       "      <td>1</td>\n",
       "      <td>0</td>\n",
       "    </tr>\n",
       "  </tbody>\n",
       "</table>\n",
       "<p>5 rows × 60 columns</p>\n",
       "</div>"
      ],
      "text/plain": [
       "       Total Household Income             Region  Total Food Expenditure  \\\n",
       "1849                   162566   V - Bicol Region                   85025   \n",
       "29179                  218765   IVA - CALABARZON                   71775   \n",
       "20513                  551982                NCR                  214203   \n",
       "28910                  443465  I - Ilocos Region                  223936   \n",
       "2162                   144350               ARMM                   80055   \n",
       "\n",
       "            Main Source of Income  Agricultural Household indicator  \\\n",
       "1849   Enterpreneurial Activities                                 1   \n",
       "29179     Other sources of Income                                 0   \n",
       "20513               Wage/Salaries                                 0   \n",
       "28910     Other sources of Income                                 0   \n",
       "2162   Enterpreneurial Activities                                 1   \n",
       "\n",
       "       Bread and Cereals Expenditure  Total Rice Expenditure  \\\n",
       "1849                           28108                   22932   \n",
       "29179                          30273                   20091   \n",
       "20513                          21228                   12326   \n",
       "28910                          66348                   51000   \n",
       "2162                           31586                   24864   \n",
       "\n",
       "       Meat Expenditure  Total Fish and  marine products Expenditure  \\\n",
       "1849               3614                                        10058   \n",
       "29179              7180                                         4092   \n",
       "20513             48055                                        17536   \n",
       "28910             36404                                        12411   \n",
       "2162                280                                        15975   \n",
       "\n",
       "       Fruit Expenditure  ...  Number of Refrigerator/Freezer  \\\n",
       "1849                3750  ...                               0   \n",
       "29179               1300  ...                               1   \n",
       "20513                660  ...                               1   \n",
       "28910               2172  ...                               1   \n",
       "2162                2798  ...                               0   \n",
       "\n",
       "       Number of Washing Machine  Number of Airconditioner  \\\n",
       "1849                           0                         0   \n",
       "29179                          0                         0   \n",
       "20513                          1                         0   \n",
       "28910                          1                         0   \n",
       "2162                           0                         0   \n",
       "\n",
       "       Number of Car, Jeep, Van  Number of Landline/wireless telephones  \\\n",
       "1849                          0                                       0   \n",
       "29179                         0                                       0   \n",
       "20513                         0                                       0   \n",
       "28910                         0                                       0   \n",
       "2162                          0                                       0   \n",
       "\n",
       "       Number of Cellular phone  Number of Personal Computer  \\\n",
       "1849                          3                            0   \n",
       "29179                         3                            0   \n",
       "20513                         3                            2   \n",
       "28910                         3                            1   \n",
       "2162                          2                            0   \n",
       "\n",
       "       Number of Stove with Oven/Gas Range  Number of Motorized Banca  \\\n",
       "1849                                     0                          0   \n",
       "29179                                    0                          0   \n",
       "20513                                    0                          0   \n",
       "28910                                    0                          0   \n",
       "2162                                     0                          1   \n",
       "\n",
       "       Number of Motorcycle/Tricycle  \n",
       "1849                               0  \n",
       "29179                              0  \n",
       "20513                              0  \n",
       "28910                              1  \n",
       "2162                               0  \n",
       "\n",
       "[5 rows x 60 columns]"
      ]
     },
     "execution_count": 11,
     "metadata": {},
     "output_type": "execute_result"
    }
   ],
   "source": [
    "amostra = df.sample(n, random_state = 101)\n",
    "amostra.head()"
   ]
  },
  {
   "cell_type": "markdown",
   "id": "5dd0a37e-fc68-4668-a355-86b24bb7d961",
   "metadata": {},
   "source": [
    "## Exemplos de variáveis QUANTITATIVAS DISCRETAS:\n",
    "\n",
    "**Total Number of Family members**\n",
    "\n",
    "**Total number of family members employed**\n",
    "\n",
    "**Number of bedrooms**\n",
    "\n",
    "**Number of Washing Machine**\n",
    "\n",
    "**Number of Personal Computer** "
   ]
  },
  {
   "cell_type": "markdown",
   "id": "b14f5e3d-b164-458f-a253-1ca02d9faec1",
   "metadata": {},
   "source": [
    "## Exemplos de variáveis QUANTITATIVAS CONTÍNUAS:\n",
    "\n",
    "**Total Household Income**\n",
    "\n",
    "**Total Rice Expenditure**\n",
    "\n",
    "**Transportation Expenditure** \n",
    "\n",
    "**Special Occasions Expenditure** \n",
    "\n",
    "**Total Income from Entrepreneurial Acitivites**"
   ]
  },
  {
   "cell_type": "code",
   "execution_count": 12,
   "id": "aaf5876e-3c57-4e75-a422-ebc921d0f1e4",
   "metadata": {},
   "outputs": [
    {
     "name": "stdout",
     "output_type": "stream",
     "text": [
      "<class 'pandas.core.frame.DataFrame'>\n",
      "Int64Index: 11121 entries, 1849 to 25721\n",
      "Data columns (total 60 columns):\n",
      " #   Column                                         Non-Null Count  Dtype \n",
      "---  ------                                         --------------  ----- \n",
      " 0   Total Household Income                         11121 non-null  int64 \n",
      " 1   Region                                         11121 non-null  object\n",
      " 2   Total Food Expenditure                         11121 non-null  int64 \n",
      " 3   Main Source of Income                          11121 non-null  object\n",
      " 4   Agricultural Household indicator               11121 non-null  int64 \n",
      " 5   Bread and Cereals Expenditure                  11121 non-null  int64 \n",
      " 6   Total Rice Expenditure                         11121 non-null  int64 \n",
      " 7   Meat Expenditure                               11121 non-null  int64 \n",
      " 8   Total Fish and  marine products Expenditure    11121 non-null  int64 \n",
      " 9   Fruit Expenditure                              11121 non-null  int64 \n",
      " 10  Vegetables Expenditure                         11121 non-null  int64 \n",
      " 11  Restaurant and hotels Expenditure              11121 non-null  int64 \n",
      " 12  Alcoholic Beverages Expenditure                11121 non-null  int64 \n",
      " 13  Tobacco Expenditure                            11121 non-null  int64 \n",
      " 14  Clothing, Footwear and Other Wear Expenditure  11121 non-null  int64 \n",
      " 15  Housing and water Expenditure                  11121 non-null  int64 \n",
      " 16  Imputed House Rental Value                     11121 non-null  int64 \n",
      " 17  Medical Care Expenditure                       11121 non-null  int64 \n",
      " 18  Transportation Expenditure                     11121 non-null  int64 \n",
      " 19  Communication Expenditure                      11121 non-null  int64 \n",
      " 20  Education Expenditure                          11121 non-null  int64 \n",
      " 21  Miscellaneous Goods and Services Expenditure   11121 non-null  int64 \n",
      " 22  Special Occasions Expenditure                  11121 non-null  int64 \n",
      " 23  Crop Farming and Gardening expenses            11121 non-null  int64 \n",
      " 24  Total Income from Entrepreneurial Acitivites   11121 non-null  int64 \n",
      " 25  Household Head Sex                             11121 non-null  object\n",
      " 26  Household Head Age                             11121 non-null  int64 \n",
      " 27  Household Head Marital Status                  11121 non-null  object\n",
      " 28  Household Head Highest Grade Completed         11121 non-null  object\n",
      " 29  Household Head Job or Business Indicator       11121 non-null  object\n",
      " 30  Household Head Occupation                      9088 non-null   object\n",
      " 31  Household Head Class of Worker                 9088 non-null   object\n",
      " 32  Type of Household                              11121 non-null  object\n",
      " 33  Total Number of Family members                 11121 non-null  int64 \n",
      " 34  Members with age less than 5 year old          11121 non-null  int64 \n",
      " 35  Members with age 5 - 17 years old              11121 non-null  int64 \n",
      " 36  Total number of family members employed        11121 non-null  int64 \n",
      " 37  Type of Building/House                         11121 non-null  object\n",
      " 38  Type of Roof                                   11121 non-null  object\n",
      " 39  Type of Walls                                  11121 non-null  object\n",
      " 40  House Floor Area                               11121 non-null  int64 \n",
      " 41  House Age                                      11121 non-null  int64 \n",
      " 42  Number of bedrooms                             11121 non-null  int64 \n",
      " 43  Tenure Status                                  11121 non-null  object\n",
      " 44  Toilet Facilities                              11121 non-null  object\n",
      " 45  Electricity                                    11121 non-null  int64 \n",
      " 46  Main Source of Water Supply                    11121 non-null  object\n",
      " 47  Number of Television                           11121 non-null  int64 \n",
      " 48  Number of CD/VCD/DVD                           11121 non-null  int64 \n",
      " 49  Number of Component/Stereo set                 11121 non-null  int64 \n",
      " 50  Number of Refrigerator/Freezer                 11121 non-null  int64 \n",
      " 51  Number of Washing Machine                      11121 non-null  int64 \n",
      " 52  Number of Airconditioner                       11121 non-null  int64 \n",
      " 53  Number of Car, Jeep, Van                       11121 non-null  int64 \n",
      " 54  Number of Landline/wireless telephones         11121 non-null  int64 \n",
      " 55  Number of Cellular phone                       11121 non-null  int64 \n",
      " 56  Number of Personal Computer                    11121 non-null  int64 \n",
      " 57  Number of Stove with Oven/Gas Range            11121 non-null  int64 \n",
      " 58  Number of Motorized Banca                      11121 non-null  int64 \n",
      " 59  Number of Motorcycle/Tricycle                  11121 non-null  int64 \n",
      "dtypes: int64(45), object(15)\n",
      "memory usage: 5.2+ MB\n"
     ]
    }
   ],
   "source": [
    "amostra.info()"
   ]
  },
  {
   "cell_type": "markdown",
   "id": "eac2e59c-ea03-4749-8135-699dd67f95a4",
   "metadata": {},
   "source": [
    "### Milestone 2 - Inferência Estatística"
   ]
  },
  {
   "cell_type": "markdown",
   "id": "dd8790d4-f702-4832-a04d-655829497d10",
   "metadata": {},
   "source": [
    "1. Utilizando um nível de confiança de 95%, calcule o intervalo de confiança do dinheiro gasto com saúde e educação (colunas: Medical Care Expenditure e Education Expenditure)."
   ]
  },
  {
   "cell_type": "code",
   "execution_count": 13,
   "id": "b2bbcbba-469b-458d-bb76-7f8384ae80d9",
   "metadata": {},
   "outputs": [],
   "source": [
    "confianca = 0.95\n",
    "significancia = 1 - confianca\n",
    "media_saude = amostra['Medical Care Expenditure'].mean()\n",
    "n_saude = len(amostra['Medical Care Expenditure'])\n",
    "sigma_saude = amostra['Medical Care Expenditure'].std()\n",
    "\n",
    "media_educacao = amostra['Education Expenditure'].mean()\n",
    "n_educacao = len(amostra['Education Expenditure'])\n",
    "sigma_educacao = amostra['Education Expenditure'].std()"
   ]
  },
  {
   "cell_type": "code",
   "execution_count": 16,
   "id": "ebcd5c45-48c8-483e-bf29-4ded1a098446",
   "metadata": {},
   "outputs": [
    {
     "name": "stdout",
     "output_type": "stream",
     "text": [
      "O intervalo de confiança para gastos com saúde é de (6673.014229441167, 7605.871482275405)\n"
     ]
    }
   ],
   "source": [
    "# Intervalo de confiança gasto com saúde\n",
    "\n",
    "intervalo_conf_saude = norm.interval(confianca, loc=media_saude, scale=sigma_saude / np.sqrt(n_saude))\n",
    "\n",
    "print(f\"O intervalo de confiança para gastos com saúde é de {intervalo_conf_saude}\") "
   ]
  },
  {
   "cell_type": "code",
   "execution_count": 17,
   "id": "ac362a15-d0a7-48b8-940d-8781813ec30a",
   "metadata": {},
   "outputs": [
    {
     "name": "stdout",
     "output_type": "stream",
     "text": [
      "O intervalo de confiança para gastos com educação é de (6923.435952773181, 7650.380610485519)\n"
     ]
    }
   ],
   "source": [
    "# Intervalo de confiança gasto com educação\n",
    "\n",
    "intervalo_conf_educacao = norm.interval(confianca, loc=media_educacao, scale=sigma_educacao / np.sqrt(n_educacao))\n",
    "\n",
    "print(f\"O intervalo de confiança para gastos com educação é de {intervalo_conf_educacao}\") "
   ]
  },
  {
   "cell_type": "markdown",
   "id": "ad3ba360-41e7-4b0b-9db3-000cd54017a5",
   "metadata": {},
   "source": [
    "2. Calcule se há diferença de média de número total de membros da família pelo sexo do chefe de família (Household Head Sex e Total Number of Family members) com 95% de confiança."
   ]
  },
  {
   "cell_type": "code",
   "execution_count": 36,
   "id": "98a3e16e-0122-4c3c-8e83-c6fc2b81eaa9",
   "metadata": {},
   "outputs": [
    {
     "data": {
      "text/plain": [
       "Male      8691\n",
       "Female    2430\n",
       "Name: Household Head Sex, dtype: int64"
      ]
     },
     "execution_count": 36,
     "metadata": {},
     "output_type": "execute_result"
    }
   ],
   "source": [
    "amostra['Household Head Sex'].value_counts()"
   ]
  },
  {
   "cell_type": "code",
   "execution_count": 37,
   "id": "8a7ae2ce-61e5-4f69-a65c-d244e228d066",
   "metadata": {},
   "outputs": [
    {
     "data": {
      "text/plain": [
       "(2430, 60)"
      ]
     },
     "execution_count": 37,
     "metadata": {},
     "output_type": "execute_result"
    }
   ],
   "source": [
    "female_head = amostra[amostra['Household Head Sex'] == 'Female']\n",
    "female_head.shape"
   ]
  },
  {
   "cell_type": "code",
   "execution_count": 38,
   "id": "d08b2c9e-405c-420e-aff0-aa087b8a6161",
   "metadata": {},
   "outputs": [
    {
     "data": {
      "text/plain": [
       "(8691, 60)"
      ]
     },
     "execution_count": 38,
     "metadata": {},
     "output_type": "execute_result"
    }
   ],
   "source": [
    "male_head = amostra[amostra['Household Head Sex'] == 'Male']\n",
    "male_head.shape"
   ]
  },
  {
   "cell_type": "code",
   "execution_count": 39,
   "id": "e276e4fa-e608-47ab-abdb-1b13d08369e9",
   "metadata": {},
   "outputs": [
    {
     "data": {
      "text/plain": [
       "(4.861350822690139, 2.257882949418086)"
      ]
     },
     "execution_count": 39,
     "metadata": {},
     "output_type": "execute_result"
    }
   ],
   "source": [
    "media_m = male_head['Total Number of Family members'].mean()\n",
    "desvio_m = male_head['Total Number of Family members'].std()\n",
    "\n",
    "media_m, desvio_m"
   ]
  },
  {
   "cell_type": "code",
   "execution_count": 40,
   "id": "c582143a-0230-433e-92ce-af6a2281a852",
   "metadata": {},
   "outputs": [
    {
     "data": {
      "text/plain": [
       "(3.8465020576131685, 2.2499023598492838)"
      ]
     },
     "execution_count": 40,
     "metadata": {},
     "output_type": "execute_result"
    }
   ],
   "source": [
    "media_f = female_head['Total Number of Family members'].mean()\n",
    "desvio_f = female_head['Total Number of Family members'].std()\n",
    "\n",
    "media_f, desvio_f"
   ]
  },
  {
   "cell_type": "code",
   "execution_count": 41,
   "id": "56d2f214-9eb4-4670-b7a6-e3b524d5fc05",
   "metadata": {},
   "outputs": [],
   "source": [
    "nM = len(male_head)\n",
    "nF = len(female_head)\n",
    "D0 = 0\n",
    "confianca = 0.95\n",
    "significancia = 1 - confianca #alpha"
   ]
  },
  {
   "cell_type": "code",
   "execution_count": 42,
   "id": "847a70a2-dd28-4c8b-8b20-e54c33813e15",
   "metadata": {},
   "outputs": [
    {
     "data": {
      "text/plain": [
       "1.959963984540054"
      ]
     },
     "execution_count": 42,
     "metadata": {},
     "output_type": "execute_result"
    }
   ],
   "source": [
    "z_alpha_2 = norm.ppf(0.95 + (0.05 / 2))\n",
    "z_alpha_2"
   ]
  },
  {
   "cell_type": "code",
   "execution_count": 43,
   "id": "131dd95e-03d5-44d2-a183-8d3a066dcece",
   "metadata": {},
   "outputs": [],
   "source": [
    "numerador = (media_m - media_f) - D0\n",
    "denominador = np.sqrt((desvio_m **2 / nM) + (desvio_f**2 / nF))"
   ]
  },
  {
   "cell_type": "code",
   "execution_count": 44,
   "id": "c17f09fe-542c-44d1-9118-34bb54f10639",
   "metadata": {},
   "outputs": [
    {
     "data": {
      "text/plain": [
       "19.641145336535892"
      ]
     },
     "execution_count": 44,
     "metadata": {},
     "output_type": "execute_result"
    }
   ],
   "source": [
    "z = numerador / denominador\n",
    "z"
   ]
  },
  {
   "cell_type": "code",
   "execution_count": 45,
   "id": "bd890c56-84a8-41b6-9cb6-20adbb92940c",
   "metadata": {},
   "outputs": [
    {
     "data": {
      "text/plain": [
       "6.882826265315254e-86"
      ]
     },
     "execution_count": 45,
     "metadata": {},
     "output_type": "execute_result"
    }
   ],
   "source": [
    "p_value = norm.sf(z) * 2\n",
    "p_value"
   ]
  },
  {
   "cell_type": "code",
   "execution_count": 46,
   "id": "9463818b-2af2-4377-8022-8eae31088a53",
   "metadata": {},
   "outputs": [
    {
     "data": {
      "text/plain": [
       "True"
      ]
     },
     "execution_count": 46,
     "metadata": {},
     "output_type": "execute_result"
    }
   ],
   "source": [
    "# Rejeitar H0 se z >= z_alpha_2\n",
    "\n",
    "z >= z_alpha_2"
   ]
  },
  {
   "cell_type": "code",
   "execution_count": 47,
   "id": "82fd17ac-efe5-4004-a8b6-13e55b82f961",
   "metadata": {},
   "outputs": [
    {
     "data": {
      "text/plain": [
       "True"
      ]
     },
     "execution_count": 47,
     "metadata": {},
     "output_type": "execute_result"
    }
   ],
   "source": [
    "# Rejeitar H0 se p_value <= alpha\n",
    "\n",
    "p_value <= significancia"
   ]
  },
  {
   "cell_type": "markdown",
   "id": "cee08077-1541-4e6f-8255-f6151518bcf0",
   "metadata": {},
   "source": [
    "### $\\mu_1 \\Rightarrow$ Média do total de membros de família com chefes de domicílios do sexo masculino\n",
    "### $\\mu_2 \\Rightarrow$ Média do total de membros de família com chefes de domicílios do sexo feminino\n",
    "\n",
    "\n",
    "\n",
    "### $\n",
    "\\begin{cases}\n",
    "H_0: \\mu_1 -\\mu_2 = 0\\\\\n",
    "H_1: \\mu_1 -\\mu_2 != 0\n",
    "\\end{cases}\n",
    "$"
   ]
  },
  {
   "cell_type": "code",
   "execution_count": 48,
   "id": "4d1defa5-bcd7-45bd-a50c-78c7cff3b283",
   "metadata": {},
   "outputs": [],
   "source": [
    "teste_male = DescrStatsW(male_head['Total Number of Family members'])"
   ]
  },
  {
   "cell_type": "code",
   "execution_count": 49,
   "id": "a0852400-ec1b-427b-bcb7-4e5338e62620",
   "metadata": {},
   "outputs": [],
   "source": [
    "teste_female = DescrStatsW(female_head['Total Number of Family members'])"
   ]
  },
  {
   "cell_type": "code",
   "execution_count": 50,
   "id": "d428ba8b-ef44-44ae-9db6-5ff70f91962e",
   "metadata": {},
   "outputs": [],
   "source": [
    "teste = CompareMeans(teste_male, teste_female)"
   ]
  },
  {
   "cell_type": "code",
   "execution_count": 51,
   "id": "5131ad39-c5a9-4cd9-ab8f-c2c83fb8d158",
   "metadata": {},
   "outputs": [
    {
     "data": {
      "text/plain": [
       "(19.602027594446085, 1.4858393205614605e-85)"
      ]
     },
     "execution_count": 51,
     "metadata": {},
     "output_type": "execute_result"
    }
   ],
   "source": [
    "teste.ztest_ind()"
   ]
  },
  {
   "cell_type": "markdown",
   "id": "0fa310db-3022-43d7-8954-318531a5fec6",
   "metadata": {},
   "source": [
    "### Com base no estudo há diferença de média de número total de membros da família pelo sexo do chefe de família"
   ]
  },
  {
   "cell_type": "markdown",
   "id": "049dafb5-b1a7-4b92-8221-0b04999fae35",
   "metadata": {},
   "source": [
    "3. Verifique se há diferença de média total de renda da família (Total Household Income) de acordo com a fonte salarial (Main Source of Income).\n",
    "\n",
    "Considere “Enteroreneurial activities” e “other sources of income” como \"outros\"."
   ]
  },
  {
   "cell_type": "code",
   "execution_count": 52,
   "id": "f9e8a5bd-ddb4-4a98-8f28-8a9b67875c16",
   "metadata": {},
   "outputs": [
    {
     "data": {
      "text/plain": [
       "Wage/Salaries                 5517\n",
       "Other sources of Income       2887\n",
       "Enterpreneurial Activities    2717\n",
       "Name: Main Source of Income, dtype: int64"
      ]
     },
     "execution_count": 52,
     "metadata": {},
     "output_type": "execute_result"
    }
   ],
   "source": [
    "amostra['Main Source of Income'].value_counts()"
   ]
  },
  {
   "cell_type": "code",
   "execution_count": 53,
   "id": "ad053761-16eb-4070-9650-b2cc0eee90b2",
   "metadata": {},
   "outputs": [],
   "source": [
    "amostra['Main Source of Income'].replace(['Other sources of Income', 'Enterpreneurial Activities'], 'Other', inplace = True)"
   ]
  },
  {
   "cell_type": "code",
   "execution_count": 54,
   "id": "5bc1074c-01d2-46c6-ae6d-427d48cd22a9",
   "metadata": {},
   "outputs": [
    {
     "data": {
      "text/plain": [
       "Other            5604\n",
       "Wage/Salaries    5517\n",
       "Name: Main Source of Income, dtype: int64"
      ]
     },
     "execution_count": 54,
     "metadata": {},
     "output_type": "execute_result"
    }
   ],
   "source": [
    "amostra['Main Source of Income'].value_counts()"
   ]
  },
  {
   "cell_type": "code",
   "execution_count": 55,
   "id": "8792c507-db54-43eb-ad72-44d05696f0b5",
   "metadata": {},
   "outputs": [
    {
     "data": {
      "text/plain": [
       "(5517, 60)"
      ]
     },
     "execution_count": 55,
     "metadata": {},
     "output_type": "execute_result"
    }
   ],
   "source": [
    "wage = amostra[amostra['Main Source of Income'] == 'Wage/Salaries']\n",
    "wage.shape"
   ]
  },
  {
   "cell_type": "code",
   "execution_count": 56,
   "id": "a5a5c1ef-f83a-4a77-814e-b8fc48eb04cd",
   "metadata": {},
   "outputs": [
    {
     "data": {
      "text/plain": [
       "(5604, 60)"
      ]
     },
     "execution_count": 56,
     "metadata": {},
     "output_type": "execute_result"
    }
   ],
   "source": [
    "other = amostra[amostra['Main Source of Income'] == 'Other']\n",
    "other.shape"
   ]
  },
  {
   "cell_type": "markdown",
   "id": "415fa982-2311-4dfd-a185-fcc8d7d02bd6",
   "metadata": {},
   "source": [
    "### $\\mu_1 \\Rightarrow$ Média do total da renda da familia assalariada\n",
    "### $\\mu_2 \\Rightarrow$ Média do total da renda da familia com outras atividades\n",
    "\n",
    "\n",
    "\n",
    "### $\n",
    "\\begin{cases}\n",
    "H_0: \\mu_1 -\\mu_2 = 0\\\\\n",
    "H_1: \\mu_1 -\\mu_2 != 0\n",
    "\\end{cases}\n",
    "$"
   ]
  },
  {
   "cell_type": "code",
   "execution_count": 57,
   "id": "c602a8c4-4f17-49a1-8158-a468eb67c9c0",
   "metadata": {
    "tags": []
   },
   "outputs": [],
   "source": [
    "teste_wage = DescrStatsW(wage['Total Household Income'])"
   ]
  },
  {
   "cell_type": "code",
   "execution_count": 58,
   "id": "bde160a4-35ec-42a5-94f6-68e6fe1d13ad",
   "metadata": {},
   "outputs": [],
   "source": [
    "teste_other = DescrStatsW(other['Total Household Income'])"
   ]
  },
  {
   "cell_type": "code",
   "execution_count": 59,
   "id": "3401d4cb-4b84-4c70-b66e-f0392f38f9f4",
   "metadata": {},
   "outputs": [],
   "source": [
    "teste = CompareMeans(teste_wage, teste_other)"
   ]
  },
  {
   "cell_type": "code",
   "execution_count": 60,
   "id": "4e94b3d8-6212-4a7a-9517-a3ddb83b5038",
   "metadata": {},
   "outputs": [
    {
     "data": {
      "text/plain": [
       "(7.059219960270567, 1.6743984879045323e-12)"
      ]
     },
     "execution_count": 60,
     "metadata": {},
     "output_type": "execute_result"
    }
   ],
   "source": [
    "z, p_value = teste.ztest_ind()\n",
    "z, p_value"
   ]
  },
  {
   "cell_type": "markdown",
   "id": "76362892-df08-4f4e-a8e4-827ac292410c",
   "metadata": {},
   "source": [
    "### Não foi fornecido confiança e significância para poder comparar, logo consideramos 95% de confiança"
   ]
  },
  {
   "cell_type": "code",
   "execution_count": 61,
   "id": "6c97edd2-c22c-41b3-93e4-f2a58149e812",
   "metadata": {},
   "outputs": [
    {
     "data": {
      "text/plain": [
       "True"
      ]
     },
     "execution_count": 61,
     "metadata": {},
     "output_type": "execute_result"
    }
   ],
   "source": [
    "# Rejeitar H0 se z >= z_alpha_2\n",
    "\n",
    "z >= z_alpha_2"
   ]
  },
  {
   "cell_type": "code",
   "execution_count": 62,
   "id": "4c7249d1-576e-404b-8d7e-6c0ed2ff1beb",
   "metadata": {},
   "outputs": [
    {
     "data": {
      "text/plain": [
       "True"
      ]
     },
     "execution_count": 62,
     "metadata": {},
     "output_type": "execute_result"
    }
   ],
   "source": [
    "# Rejeitar H0 se p_value <= alpha\n",
    "\n",
    "p_value <= significancia"
   ]
  },
  {
   "cell_type": "markdown",
   "id": "85b2cb70-873e-4148-9783-bb58c6671956",
   "metadata": {},
   "source": [
    "### Com base no estudo há diferença de média da renda entre família assalariadas e famílias com outros tipos de renda"
   ]
  },
  {
   "cell_type": "markdown",
   "id": "3b46b97e-221a-47d7-ac2a-7dfcab90ae39",
   "metadata": {},
   "source": [
    "### Milestone 3 - Previsão de Renda Com Regressão Linear"
   ]
  },
  {
   "cell_type": "markdown",
   "id": "46cf10f0-9fdd-4bd0-a21a-45b6fc20dbcf",
   "metadata": {},
   "source": [
    "Usando Regressão Linear, crie um modelo de previsão de renda de forma a minimizar o erro. Considere 70% dos dados para treinar o modelo, e 30% para testá-lo. Por fim, utilize as métricas de avaliação do modelo que foram estudadas para validá-lo."
   ]
  },
  {
   "cell_type": "code",
   "execution_count": 63,
   "id": "180d03a4-1aa5-40a9-b806-f4fbb7984353",
   "metadata": {},
   "outputs": [
    {
     "name": "stdout",
     "output_type": "stream",
     "text": [
      "<class 'pandas.core.frame.DataFrame'>\n",
      "Int64Index: 11121 entries, 1849 to 25721\n",
      "Data columns (total 60 columns):\n",
      " #   Column                                         Non-Null Count  Dtype \n",
      "---  ------                                         --------------  ----- \n",
      " 0   Total Household Income                         11121 non-null  int64 \n",
      " 1   Region                                         11121 non-null  object\n",
      " 2   Total Food Expenditure                         11121 non-null  int64 \n",
      " 3   Main Source of Income                          11121 non-null  object\n",
      " 4   Agricultural Household indicator               11121 non-null  int64 \n",
      " 5   Bread and Cereals Expenditure                  11121 non-null  int64 \n",
      " 6   Total Rice Expenditure                         11121 non-null  int64 \n",
      " 7   Meat Expenditure                               11121 non-null  int64 \n",
      " 8   Total Fish and  marine products Expenditure    11121 non-null  int64 \n",
      " 9   Fruit Expenditure                              11121 non-null  int64 \n",
      " 10  Vegetables Expenditure                         11121 non-null  int64 \n",
      " 11  Restaurant and hotels Expenditure              11121 non-null  int64 \n",
      " 12  Alcoholic Beverages Expenditure                11121 non-null  int64 \n",
      " 13  Tobacco Expenditure                            11121 non-null  int64 \n",
      " 14  Clothing, Footwear and Other Wear Expenditure  11121 non-null  int64 \n",
      " 15  Housing and water Expenditure                  11121 non-null  int64 \n",
      " 16  Imputed House Rental Value                     11121 non-null  int64 \n",
      " 17  Medical Care Expenditure                       11121 non-null  int64 \n",
      " 18  Transportation Expenditure                     11121 non-null  int64 \n",
      " 19  Communication Expenditure                      11121 non-null  int64 \n",
      " 20  Education Expenditure                          11121 non-null  int64 \n",
      " 21  Miscellaneous Goods and Services Expenditure   11121 non-null  int64 \n",
      " 22  Special Occasions Expenditure                  11121 non-null  int64 \n",
      " 23  Crop Farming and Gardening expenses            11121 non-null  int64 \n",
      " 24  Total Income from Entrepreneurial Acitivites   11121 non-null  int64 \n",
      " 25  Household Head Sex                             11121 non-null  object\n",
      " 26  Household Head Age                             11121 non-null  int64 \n",
      " 27  Household Head Marital Status                  11121 non-null  object\n",
      " 28  Household Head Highest Grade Completed         11121 non-null  object\n",
      " 29  Household Head Job or Business Indicator       11121 non-null  object\n",
      " 30  Household Head Occupation                      9088 non-null   object\n",
      " 31  Household Head Class of Worker                 9088 non-null   object\n",
      " 32  Type of Household                              11121 non-null  object\n",
      " 33  Total Number of Family members                 11121 non-null  int64 \n",
      " 34  Members with age less than 5 year old          11121 non-null  int64 \n",
      " 35  Members with age 5 - 17 years old              11121 non-null  int64 \n",
      " 36  Total number of family members employed        11121 non-null  int64 \n",
      " 37  Type of Building/House                         11121 non-null  object\n",
      " 38  Type of Roof                                   11121 non-null  object\n",
      " 39  Type of Walls                                  11121 non-null  object\n",
      " 40  House Floor Area                               11121 non-null  int64 \n",
      " 41  House Age                                      11121 non-null  int64 \n",
      " 42  Number of bedrooms                             11121 non-null  int64 \n",
      " 43  Tenure Status                                  11121 non-null  object\n",
      " 44  Toilet Facilities                              11121 non-null  object\n",
      " 45  Electricity                                    11121 non-null  int64 \n",
      " 46  Main Source of Water Supply                    11121 non-null  object\n",
      " 47  Number of Television                           11121 non-null  int64 \n",
      " 48  Number of CD/VCD/DVD                           11121 non-null  int64 \n",
      " 49  Number of Component/Stereo set                 11121 non-null  int64 \n",
      " 50  Number of Refrigerator/Freezer                 11121 non-null  int64 \n",
      " 51  Number of Washing Machine                      11121 non-null  int64 \n",
      " 52  Number of Airconditioner                       11121 non-null  int64 \n",
      " 53  Number of Car, Jeep, Van                       11121 non-null  int64 \n",
      " 54  Number of Landline/wireless telephones         11121 non-null  int64 \n",
      " 55  Number of Cellular phone                       11121 non-null  int64 \n",
      " 56  Number of Personal Computer                    11121 non-null  int64 \n",
      " 57  Number of Stove with Oven/Gas Range            11121 non-null  int64 \n",
      " 58  Number of Motorized Banca                      11121 non-null  int64 \n",
      " 59  Number of Motorcycle/Tricycle                  11121 non-null  int64 \n",
      "dtypes: int64(45), object(15)\n",
      "memory usage: 5.2+ MB\n"
     ]
    }
   ],
   "source": [
    "amostra.info()"
   ]
  },
  {
   "cell_type": "code",
   "execution_count": 64,
   "id": "352eb9e2-d85d-420c-aac3-17a371bc4ba7",
   "metadata": {},
   "outputs": [
    {
     "data": {
      "text/plain": [
       "['Total Household Income',\n",
       " 'Total Food Expenditure',\n",
       " 'Clothing, Footwear and Other Wear Expenditure',\n",
       " 'Housing and water Expenditure',\n",
       " 'Imputed House Rental Value',\n",
       " 'Transportation Expenditure',\n",
       " 'Communication Expenditure',\n",
       " 'Miscellaneous Goods and Services Expenditure']"
      ]
     },
     "execution_count": 64,
     "metadata": {},
     "output_type": "execute_result"
    }
   ],
   "source": [
    "# Função para ver quais colunas possuem mais correlação com a renda para serem usadas na regressão\n",
    "\n",
    "colunas = []\n",
    "\n",
    "for column in amostra.columns:\n",
    "    \n",
    "    if amostra[column].dtype == 'int64':\n",
    "        correlacao, p_value = pearsonr(amostra['Total Household Income'], amostra[column])\n",
    "\n",
    "        if correlacao > 0.6:\n",
    "            colunas.append(column)\n",
    "colunas    "
   ]
  },
  {
   "cell_type": "code",
   "execution_count": 65,
   "id": "99dd1662-c818-421b-bcd0-9e7bc9c1e358",
   "metadata": {},
   "outputs": [],
   "source": [
    "# Preparação das variáveis para aplicação do LinearRegression\n",
    "\n",
    "X = amostra[['Total Food Expenditure',\n",
    " 'Clothing, Footwear and Other Wear Expenditure',\n",
    " 'Housing and water Expenditure',\n",
    " 'Transportation Expenditure',\n",
    " 'Communication Expenditure',\n",
    " 'Miscellaneous Goods and Services Expenditure']]\n",
    "y = amostra['Total Household Income']"
   ]
  },
  {
   "cell_type": "code",
   "execution_count": 66,
   "id": "ff5b9c8e-cc61-4bf2-b2de-0a6678afcfd2",
   "metadata": {},
   "outputs": [],
   "source": [
    "lr = LinearRegression().fit(X,y)"
   ]
  },
  {
   "cell_type": "code",
   "execution_count": 67,
   "id": "273b1c75-a6ce-4821-973c-da716f7ed02c",
   "metadata": {},
   "outputs": [],
   "source": [
    "y_est = lr.predict(X)"
   ]
  },
  {
   "cell_type": "code",
   "execution_count": 68,
   "id": "3094fd14-6841-4b43-a19a-a1b6446ff8a3",
   "metadata": {},
   "outputs": [
    {
     "data": {
      "text/plain": [
       "0.7477896723387221"
      ]
     },
     "execution_count": 68,
     "metadata": {},
     "output_type": "execute_result"
    }
   ],
   "source": [
    "lr.score(X,y)"
   ]
  },
  {
   "cell_type": "code",
   "execution_count": 69,
   "id": "46605ba5-6f2b-4ba9-ab03-d77747f05e41",
   "metadata": {},
   "outputs": [
    {
     "data": {
      "text/plain": [
       "0.7477896723387221"
      ]
     },
     "execution_count": 69,
     "metadata": {},
     "output_type": "execute_result"
    }
   ],
   "source": [
    "r2_score(y,y_est)"
   ]
  },
  {
   "cell_type": "code",
   "execution_count": 70,
   "id": "1dda34e7-bafa-4c00-954d-948af2297916",
   "metadata": {},
   "outputs": [
    {
     "data": {
      "text/html": [
       "<table class=\"simpletable\">\n",
       "<caption>OLS Regression Results</caption>\n",
       "<tr>\n",
       "  <th>Dep. Variable:</th>    <td>Total Household Income</td> <th>  R-squared:         </th>  <td>   0.748</td>  \n",
       "</tr>\n",
       "<tr>\n",
       "  <th>Model:</th>                      <td>OLS</td>          <th>  Adj. R-squared:    </th>  <td>   0.748</td>  \n",
       "</tr>\n",
       "<tr>\n",
       "  <th>Method:</th>                <td>Least Squares</td>     <th>  F-statistic:       </th>  <td>   5492.</td>  \n",
       "</tr>\n",
       "<tr>\n",
       "  <th>Date:</th>                <td>Thu, 16 Dec 2021</td>    <th>  Prob (F-statistic):</th>   <td>  0.00</td>   \n",
       "</tr>\n",
       "<tr>\n",
       "  <th>Time:</th>                    <td>11:16:00</td>        <th>  Log-Likelihood:    </th> <td>-1.4776e+05</td>\n",
       "</tr>\n",
       "<tr>\n",
       "  <th>No. Observations:</th>         <td> 11121</td>         <th>  AIC:               </th>  <td>2.955e+05</td> \n",
       "</tr>\n",
       "<tr>\n",
       "  <th>Df Residuals:</th>             <td> 11114</td>         <th>  BIC:               </th>  <td>2.956e+05</td> \n",
       "</tr>\n",
       "<tr>\n",
       "  <th>Df Model:</th>                 <td>     6</td>         <th>                     </th>      <td> </td>     \n",
       "</tr>\n",
       "<tr>\n",
       "  <th>Covariance Type:</th>         <td>nonrobust</td>       <th>                     </th>      <td> </td>     \n",
       "</tr>\n",
       "</table>\n",
       "<table class=\"simpletable\">\n",
       "<tr>\n",
       "                        <td></td>                           <th>coef</th>     <th>std err</th>      <th>t</th>      <th>P>|t|</th>  <th>[0.025</th>    <th>0.975]</th>  \n",
       "</tr>\n",
       "<tr>\n",
       "  <th>const</th>                                         <td> 7113.5947</td> <td> 2764.630</td> <td>    2.573</td> <td> 0.010</td> <td> 1694.428</td> <td> 1.25e+04</td>\n",
       "</tr>\n",
       "<tr>\n",
       "  <th>Total Food Expenditure</th>                        <td>    0.7642</td> <td>    0.039</td> <td>   19.806</td> <td> 0.000</td> <td>    0.689</td> <td>    0.840</td>\n",
       "</tr>\n",
       "<tr>\n",
       "  <th>Clothing, Footwear and Other Wear Expenditure</th> <td>    5.3289</td> <td>    0.236</td> <td>   22.537</td> <td> 0.000</td> <td>    4.865</td> <td>    5.792</td>\n",
       "</tr>\n",
       "<tr>\n",
       "  <th>Housing and water Expenditure</th>                 <td>    1.6680</td> <td>    0.031</td> <td>   53.795</td> <td> 0.000</td> <td>    1.607</td> <td>    1.729</td>\n",
       "</tr>\n",
       "<tr>\n",
       "  <th>Transportation Expenditure</th>                    <td>    2.7349</td> <td>    0.104</td> <td>   26.354</td> <td> 0.000</td> <td>    2.531</td> <td>    2.938</td>\n",
       "</tr>\n",
       "<tr>\n",
       "  <th>Communication Expenditure</th>                     <td>    4.4771</td> <td>    0.293</td> <td>   15.271</td> <td> 0.000</td> <td>    3.902</td> <td>    5.052</td>\n",
       "</tr>\n",
       "<tr>\n",
       "  <th>Miscellaneous Goods and Services Expenditure</th>  <td>    2.7639</td> <td>    0.113</td> <td>   24.367</td> <td> 0.000</td> <td>    2.542</td> <td>    2.986</td>\n",
       "</tr>\n",
       "</table>\n",
       "<table class=\"simpletable\">\n",
       "<tr>\n",
       "  <th>Omnibus:</th>       <td>16996.005</td> <th>  Durbin-Watson:     </th>   <td>   1.995</td>  \n",
       "</tr>\n",
       "<tr>\n",
       "  <th>Prob(Omnibus):</th>  <td> 0.000</td>   <th>  Jarque-Bera (JB):  </th> <td>18787897.729</td>\n",
       "</tr>\n",
       "<tr>\n",
       "  <th>Skew:</th>           <td> 9.236</td>   <th>  Prob(JB):          </th>   <td>    0.00</td>  \n",
       "</tr>\n",
       "<tr>\n",
       "  <th>Kurtosis:</th>       <td>203.511</td>  <th>  Cond. No.          </th>   <td>2.38e+05</td>  \n",
       "</tr>\n",
       "</table><br/><br/>Notes:<br/>[1] Standard Errors assume that the covariance matrix of the errors is correctly specified.<br/>[2] The condition number is large, 2.38e+05. This might indicate that there are<br/>strong multicollinearity or other numerical problems."
      ],
      "text/plain": [
       "<class 'statsmodels.iolib.summary.Summary'>\n",
       "\"\"\"\n",
       "                              OLS Regression Results                              \n",
       "==================================================================================\n",
       "Dep. Variable:     Total Household Income   R-squared:                       0.748\n",
       "Model:                                OLS   Adj. R-squared:                  0.748\n",
       "Method:                     Least Squares   F-statistic:                     5492.\n",
       "Date:                    Thu, 16 Dec 2021   Prob (F-statistic):               0.00\n",
       "Time:                            11:16:00   Log-Likelihood:            -1.4776e+05\n",
       "No. Observations:                   11121   AIC:                         2.955e+05\n",
       "Df Residuals:                       11114   BIC:                         2.956e+05\n",
       "Df Model:                               6                                         \n",
       "Covariance Type:                nonrobust                                         \n",
       "=================================================================================================================\n",
       "                                                    coef    std err          t      P>|t|      [0.025      0.975]\n",
       "-----------------------------------------------------------------------------------------------------------------\n",
       "const                                          7113.5947   2764.630      2.573      0.010    1694.428    1.25e+04\n",
       "Total Food Expenditure                            0.7642      0.039     19.806      0.000       0.689       0.840\n",
       "Clothing, Footwear and Other Wear Expenditure     5.3289      0.236     22.537      0.000       4.865       5.792\n",
       "Housing and water Expenditure                     1.6680      0.031     53.795      0.000       1.607       1.729\n",
       "Transportation Expenditure                        2.7349      0.104     26.354      0.000       2.531       2.938\n",
       "Communication Expenditure                         4.4771      0.293     15.271      0.000       3.902       5.052\n",
       "Miscellaneous Goods and Services Expenditure      2.7639      0.113     24.367      0.000       2.542       2.986\n",
       "==============================================================================\n",
       "Omnibus:                    16996.005   Durbin-Watson:                   1.995\n",
       "Prob(Omnibus):                  0.000   Jarque-Bera (JB):         18787897.729\n",
       "Skew:                           9.236   Prob(JB):                         0.00\n",
       "Kurtosis:                     203.511   Cond. No.                     2.38e+05\n",
       "==============================================================================\n",
       "\n",
       "Notes:\n",
       "[1] Standard Errors assume that the covariance matrix of the errors is correctly specified.\n",
       "[2] The condition number is large, 2.38e+05. This might indicate that there are\n",
       "strong multicollinearity or other numerical problems.\n",
       "\"\"\""
      ]
     },
     "execution_count": 70,
     "metadata": {},
     "output_type": "execute_result"
    }
   ],
   "source": [
    "x = sm.add_constant(X)\n",
    "\n",
    "model = sm.OLS(y, x).fit()\n",
    "\n",
    "model.summary()"
   ]
  },
  {
   "cell_type": "markdown",
   "id": "3bfa1e3c-3365-44eb-90d7-bed792931006",
   "metadata": {},
   "source": [
    "## Análise dos resíduos (com outliers):"
   ]
  },
  {
   "cell_type": "code",
   "execution_count": 71,
   "id": "908580b5-718d-48d7-8dd3-4692c3ad09e6",
   "metadata": {},
   "outputs": [
    {
     "data": {
      "text/plain": [
       "2.745144680864615e-10"
      ]
     },
     "execution_count": 71,
     "metadata": {},
     "output_type": "execute_result"
    }
   ],
   "source": [
    "model.resid.mean()"
   ]
  },
  {
   "cell_type": "code",
   "execution_count": 73,
   "id": "74025dbe-0338-46c0-808a-f46ad20414c6",
   "metadata": {},
   "outputs": [
    {
     "data": {
      "image/png": "[encoded data removed]",
      "text/plain": [
       "<Figure size 432x288 with 1 Axes>"
      ]
     },
     "metadata": {
      "needs_background": "light"
     },
     "output_type": "display_data"
    }
   ],
   "source": [
    "sns.histplot(model.resid, kde = True);"
   ]
  },
  {
   "cell_type": "code",
   "execution_count": 74,
   "id": "325877b4-711f-429d-9fcb-621faa2510ab",
   "metadata": {},
   "outputs": [
    {
     "data": {
      "image/png": "[encoded data removed]",
      "text/plain": [
       "<Figure size 432x288 with 1 Axes>"
      ]
     },
     "metadata": {
      "needs_background": "light"
     },
     "output_type": "display_data"
    }
   ],
   "source": [
    "plt.scatter(y, model.resid);"
   ]
  },
  {
   "cell_type": "code",
   "execution_count": 75,
   "id": "102cc6a9-db39-4ddd-ae6e-73303dc48853",
   "metadata": {},
   "outputs": [
    {
     "data": {
      "image/png": "[encoded data removed]",
      "text/plain": [
       "<Figure size 1440x720 with 1 Axes>"
      ]
     },
     "metadata": {
      "needs_background": "light"
     },
     "output_type": "display_data"
    }
   ],
   "source": [
    "df.boxplot(column = colunas, figsize = (20,10));"
   ]
  },
  {
   "cell_type": "code",
   "execution_count": 76,
   "id": "f06bdcae-f9f3-4992-b74d-a8e995bbffb1",
   "metadata": {},
   "outputs": [],
   "source": [
    "# Função para retirar outliers\n",
    "\n",
    "def calc_min_and_max_range(dados_coluna):\n",
    "    Q1 = dados_coluna.quantile(q=0.25) # Primeiro quartil\n",
    "    Q3 = dados_coluna.quantile(q=0.75) # Terceiro quartil\n",
    "\n",
    "    IQR = Q3 - Q1 # Intervalo interquartílico\n",
    "\n",
    "    inf = Q1 - 1.5 * IQR\n",
    "    sup = Q3 + 1.5 * IQR\n",
    "\n",
    "    return inf, sup"
   ]
  },
  {
   "cell_type": "code",
   "execution_count": 77,
   "id": "854621cc-1b5f-48ed-b75b-88d120c92109",
   "metadata": {},
   "outputs": [],
   "source": [
    "for coluna in colunas:\n",
    "    inf, sup = calc_min_and_max_range(df[coluna])\n",
    "    \n",
    "    # Filtro para pegar apenas as linhas cujos dados estão dentro do intervalo aceitável (não outliers)\n",
    "    amostra = amostra[(amostra[coluna] >= inf) & (amostra[coluna] <= sup)]"
   ]
  },
  {
   "cell_type": "markdown",
   "id": "84b743c0-b06f-4e6d-8e22-399cfad0f661",
   "metadata": {},
   "source": [
    "### Separando 70% para treino e 30% para teste"
   ]
  },
  {
   "cell_type": "code",
   "execution_count": 78,
   "id": "ceeaafc2-bcd8-46cb-9bca-4464a636ed39",
   "metadata": {},
   "outputs": [],
   "source": [
    "# Preparação das variáveis, sem outliers, para fazer o modelo separando dados de treino e de teste\n",
    "\n",
    "X_final = amostra[['Total Food Expenditure',\n",
    " 'Clothing, Footwear and Other Wear Expenditure',\n",
    " 'Housing and water Expenditure',\n",
    " 'Transportation Expenditure',\n",
    " 'Communication Expenditure',\n",
    " 'Miscellaneous Goods and Services Expenditure']]\n",
    "y_final = amostra['Total Household Income']"
   ]
  },
  {
   "cell_type": "code",
   "execution_count": 79,
   "id": "5404786c-22aa-4dc3-b50a-c6e5497fcf46",
   "metadata": {},
   "outputs": [],
   "source": [
    "X_train, X_test, y_train, y_test = train_test_split(X_final, y_final, test_size=0.3, random_state=101)"
   ]
  },
  {
   "cell_type": "code",
   "execution_count": 80,
   "id": "7b1018d6-f6fc-47bf-a683-6fd70bc8c915",
   "metadata": {},
   "outputs": [
    {
     "data": {
      "text/plain": [
       "(5933, 6)"
      ]
     },
     "execution_count": 80,
     "metadata": {},
     "output_type": "execute_result"
    }
   ],
   "source": [
    "X_train.shape"
   ]
  },
  {
   "cell_type": "code",
   "execution_count": 81,
   "id": "31304041-8a47-4f4c-a27d-32ca267845a6",
   "metadata": {},
   "outputs": [
    {
     "data": {
      "text/plain": [
       "(8477, 6)"
      ]
     },
     "execution_count": 81,
     "metadata": {},
     "output_type": "execute_result"
    }
   ],
   "source": [
    "X_final.shape"
   ]
  },
  {
   "cell_type": "code",
   "execution_count": 82,
   "id": "b6f6fece-abb7-48d4-85bc-b6441da79db9",
   "metadata": {},
   "outputs": [
    {
     "data": {
      "text/plain": [
       "(2544, 6)"
      ]
     },
     "execution_count": 82,
     "metadata": {},
     "output_type": "execute_result"
    }
   ],
   "source": [
    "X_test.shape"
   ]
  },
  {
   "cell_type": "code",
   "execution_count": 83,
   "id": "5e19891a-bfe1-44ba-b4af-42e255cf458b",
   "metadata": {},
   "outputs": [],
   "source": [
    "lr_final = LinearRegression().fit(X_train, y_train)"
   ]
  },
  {
   "cell_type": "code",
   "execution_count": 84,
   "id": "a7862d45-3ef9-4a34-88f6-533b9d5cfa7d",
   "metadata": {},
   "outputs": [],
   "source": [
    "y_est_final = lr_final.predict(X_test)"
   ]
  },
  {
   "cell_type": "code",
   "execution_count": 85,
   "id": "b0449355-d0da-48b4-9fa0-4f12e08fcab8",
   "metadata": {},
   "outputs": [
    {
     "data": {
      "text/plain": [
       "0.6597460803665744"
      ]
     },
     "execution_count": 85,
     "metadata": {},
     "output_type": "execute_result"
    }
   ],
   "source": [
    "r2_score(y_test, y_est_final)"
   ]
  },
  {
   "cell_type": "code",
   "execution_count": 86,
   "id": "3624630b-01f4-4ee0-9726-a463e9449899",
   "metadata": {},
   "outputs": [
    {
     "data": {
      "text/plain": [
       "0.6679968836588299"
      ]
     },
     "execution_count": 86,
     "metadata": {},
     "output_type": "execute_result"
    }
   ],
   "source": [
    "lr.score(X_train, y_train)"
   ]
  },
  {
   "cell_type": "code",
   "execution_count": 87,
   "id": "645f2866-ca4d-4e31-98be-4f40a26b4ace",
   "metadata": {},
   "outputs": [
    {
     "data": {
      "text/html": [
       "<table class=\"simpletable\">\n",
       "<caption>OLS Regression Results</caption>\n",
       "<tr>\n",
       "  <th>Dep. Variable:</th>    <td>Total Household Income</td> <th>  R-squared:         </th>  <td>   0.674</td>  \n",
       "</tr>\n",
       "<tr>\n",
       "  <th>Model:</th>                      <td>OLS</td>          <th>  Adj. R-squared:    </th>  <td>   0.673</td>  \n",
       "</tr>\n",
       "<tr>\n",
       "  <th>Method:</th>                <td>Least Squares</td>     <th>  F-statistic:       </th>  <td>   2914.</td>  \n",
       "</tr>\n",
       "<tr>\n",
       "  <th>Date:</th>                <td>Thu, 16 Dec 2021</td>    <th>  Prob (F-statistic):</th>   <td>  0.00</td>   \n",
       "</tr>\n",
       "<tr>\n",
       "  <th>Time:</th>                    <td>11:17:07</td>        <th>  Log-Likelihood:    </th> <td>-1.0365e+05</td>\n",
       "</tr>\n",
       "<tr>\n",
       "  <th>No. Observations:</th>         <td>  8477</td>         <th>  AIC:               </th>  <td>2.073e+05</td> \n",
       "</tr>\n",
       "<tr>\n",
       "  <th>Df Residuals:</th>             <td>  8470</td>         <th>  BIC:               </th>  <td>2.074e+05</td> \n",
       "</tr>\n",
       "<tr>\n",
       "  <th>Df Model:</th>                 <td>     6</td>         <th>                     </th>      <td> </td>     \n",
       "</tr>\n",
       "<tr>\n",
       "  <th>Covariance Type:</th>         <td>nonrobust</td>       <th>                     </th>      <td> </td>     \n",
       "</tr>\n",
       "</table>\n",
       "<table class=\"simpletable\">\n",
       "<tr>\n",
       "                        <td></td>                           <th>coef</th>     <th>std err</th>      <th>t</th>      <th>P>|t|</th>  <th>[0.025</th>    <th>0.975]</th>  \n",
       "</tr>\n",
       "<tr>\n",
       "  <th>const</th>                                         <td> 9459.3961</td> <td> 1350.178</td> <td>    7.006</td> <td> 0.000</td> <td> 6812.718</td> <td> 1.21e+04</td>\n",
       "</tr>\n",
       "<tr>\n",
       "  <th>Total Food Expenditure</th>                        <td>    0.9559</td> <td>    0.024</td> <td>   40.063</td> <td> 0.000</td> <td>    0.909</td> <td>    1.003</td>\n",
       "</tr>\n",
       "<tr>\n",
       "  <th>Clothing, Footwear and Other Wear Expenditure</th> <td>    3.7842</td> <td>    0.275</td> <td>   13.767</td> <td> 0.000</td> <td>    3.245</td> <td>    4.323</td>\n",
       "</tr>\n",
       "<tr>\n",
       "  <th>Housing and water Expenditure</th>                 <td>    1.5600</td> <td>    0.044</td> <td>   35.466</td> <td> 0.000</td> <td>    1.474</td> <td>    1.646</td>\n",
       "</tr>\n",
       "<tr>\n",
       "  <th>Transportation Expenditure</th>                    <td>    1.4045</td> <td>    0.110</td> <td>   12.762</td> <td> 0.000</td> <td>    1.189</td> <td>    1.620</td>\n",
       "</tr>\n",
       "<tr>\n",
       "  <th>Communication Expenditure</th>                     <td>    4.8953</td> <td>    0.429</td> <td>   11.421</td> <td> 0.000</td> <td>    4.055</td> <td>    5.736</td>\n",
       "</tr>\n",
       "<tr>\n",
       "  <th>Miscellaneous Goods and Services Expenditure</th>  <td>    2.4883</td> <td>    0.148</td> <td>   16.817</td> <td> 0.000</td> <td>    2.198</td> <td>    2.778</td>\n",
       "</tr>\n",
       "</table>\n",
       "<table class=\"simpletable\">\n",
       "<tr>\n",
       "  <th>Omnibus:</th>       <td>3400.966</td> <th>  Durbin-Watson:     </th> <td>   2.000</td> \n",
       "</tr>\n",
       "<tr>\n",
       "  <th>Prob(Omnibus):</th>  <td> 0.000</td>  <th>  Jarque-Bera (JB):  </th> <td>22241.373</td>\n",
       "</tr>\n",
       "<tr>\n",
       "  <th>Skew:</th>           <td> 1.790</td>  <th>  Prob(JB):          </th> <td>    0.00</td> \n",
       "</tr>\n",
       "<tr>\n",
       "  <th>Kurtosis:</th>       <td>10.082</td>  <th>  Cond. No.          </th> <td>2.00e+05</td> \n",
       "</tr>\n",
       "</table><br/><br/>Notes:<br/>[1] Standard Errors assume that the covariance matrix of the errors is correctly specified.<br/>[2] The condition number is large,  2e+05. This might indicate that there are<br/>strong multicollinearity or other numerical problems."
      ],
      "text/plain": [
       "<class 'statsmodels.iolib.summary.Summary'>\n",
       "\"\"\"\n",
       "                              OLS Regression Results                              \n",
       "==================================================================================\n",
       "Dep. Variable:     Total Household Income   R-squared:                       0.674\n",
       "Model:                                OLS   Adj. R-squared:                  0.673\n",
       "Method:                     Least Squares   F-statistic:                     2914.\n",
       "Date:                    Thu, 16 Dec 2021   Prob (F-statistic):               0.00\n",
       "Time:                            11:17:07   Log-Likelihood:            -1.0365e+05\n",
       "No. Observations:                    8477   AIC:                         2.073e+05\n",
       "Df Residuals:                        8470   BIC:                         2.074e+05\n",
       "Df Model:                               6                                         \n",
       "Covariance Type:                nonrobust                                         \n",
       "=================================================================================================================\n",
       "                                                    coef    std err          t      P>|t|      [0.025      0.975]\n",
       "-----------------------------------------------------------------------------------------------------------------\n",
       "const                                          9459.3961   1350.178      7.006      0.000    6812.718    1.21e+04\n",
       "Total Food Expenditure                            0.9559      0.024     40.063      0.000       0.909       1.003\n",
       "Clothing, Footwear and Other Wear Expenditure     3.7842      0.275     13.767      0.000       3.245       4.323\n",
       "Housing and water Expenditure                     1.5600      0.044     35.466      0.000       1.474       1.646\n",
       "Transportation Expenditure                        1.4045      0.110     12.762      0.000       1.189       1.620\n",
       "Communication Expenditure                         4.8953      0.429     11.421      0.000       4.055       5.736\n",
       "Miscellaneous Goods and Services Expenditure      2.4883      0.148     16.817      0.000       2.198       2.778\n",
       "==============================================================================\n",
       "Omnibus:                     3400.966   Durbin-Watson:                   2.000\n",
       "Prob(Omnibus):                  0.000   Jarque-Bera (JB):            22241.373\n",
       "Skew:                           1.790   Prob(JB):                         0.00\n",
       "Kurtosis:                      10.082   Cond. No.                     2.00e+05\n",
       "==============================================================================\n",
       "\n",
       "Notes:\n",
       "[1] Standard Errors assume that the covariance matrix of the errors is correctly specified.\n",
       "[2] The condition number is large,  2e+05. This might indicate that there are\n",
       "strong multicollinearity or other numerical problems.\n",
       "\"\"\""
      ]
     },
     "execution_count": 87,
     "metadata": {},
     "output_type": "execute_result"
    }
   ],
   "source": [
    "x = sm.add_constant(X_final)\n",
    "\n",
    "model = sm.OLS(y_final, x).fit()\n",
    "\n",
    "model.summary()"
   ]
  },
  {
   "cell_type": "markdown",
   "id": "09940e83-d27b-4c7f-86b1-a631c9bc6238",
   "metadata": {},
   "source": [
    "## Análise dos resíduos da regressão sem outliers e com treino em 70% dos dados"
   ]
  },
  {
   "cell_type": "code",
   "execution_count": 88,
   "id": "5ef5c89e-0947-4305-8975-6cf03ad44fe6",
   "metadata": {},
   "outputs": [
    {
     "data": {
      "text/plain": [
       "2.7349429446542488e-11"
      ]
     },
     "execution_count": 88,
     "metadata": {},
     "output_type": "execute_result"
    }
   ],
   "source": [
    "model.resid.mean()"
   ]
  },
  {
   "cell_type": "code",
   "execution_count": 90,
   "id": "aa22c30d-7a0b-401f-bb3f-df4a87d5a790",
   "metadata": {},
   "outputs": [
    {
     "data": {
      "image/png": "[encoded data removed]",
      "text/plain": [
       "<Figure size 432x288 with 1 Axes>"
      ]
     },
     "metadata": {
      "needs_background": "light"
     },
     "output_type": "display_data"
    }
   ],
   "source": [
    "sns.histplot(model.resid, kde = True);"
   ]
  },
  {
   "cell_type": "code",
   "execution_count": 91,
   "id": "ac35cc52-1de4-4681-9381-1a3e20c5fb0f",
   "metadata": {},
   "outputs": [
    {
     "data": {
      "image/png": "[encoded data removed]",
      "text/plain": [
       "<Figure size 432x288 with 1 Axes>"
      ]
     },
     "metadata": {
      "needs_background": "light"
     },
     "output_type": "display_data"
    }
   ],
   "source": [
    "plt.scatter(y_final, model.resid);"
   ]
  },
  {
   "cell_type": "code",
   "execution_count": 94,
   "id": "30cb2514-e040-4618-be96-e1a90bfcd8d5",
   "metadata": {},
   "outputs": [],
   "source": [
    "# R-QUADRADO  (é bom quando é bem próximo a 1)\n",
    "\n",
    "from sklearn.metrics import r2_score"
   ]
  },
  {
   "cell_type": "code",
   "execution_count": 95,
   "id": "c9f86a6a-32fe-4879-a5f3-305c9a2958b0",
   "metadata": {},
   "outputs": [
    {
     "data": {
      "text/plain": [
       "0.6597460803665744"
      ]
     },
     "execution_count": 95,
     "metadata": {},
     "output_type": "execute_result"
    }
   ],
   "source": [
    "r2_score(y_test, y_est_final)"
   ]
  },
  {
   "cell_type": "code",
   "execution_count": 96,
   "id": "ec415d5c-9483-4f93-b8c4-5fad06fecdcb",
   "metadata": {},
   "outputs": [],
   "source": [
    "# MAE\n",
    "\n",
    "from sklearn.metrics import mean_absolute_error"
   ]
  },
  {
   "cell_type": "code",
   "execution_count": 97,
   "id": "48549c68-a1a1-482b-b959-9147d96b0b44",
   "metadata": {},
   "outputs": [
    {
     "data": {
      "text/plain": [
       "33894.23117621262"
      ]
     },
     "execution_count": 97,
     "metadata": {},
     "output_type": "execute_result"
    }
   ],
   "source": [
    "mean_absolute_error(y_test, y_est_final)"
   ]
  },
  {
   "cell_type": "code",
   "execution_count": 98,
   "id": "6150f801-8412-419b-857f-f35372152c9b",
   "metadata": {},
   "outputs": [],
   "source": [
    "# MSE \n",
    "\n",
    "from sklearn.metrics import mean_squared_error as MSE"
   ]
  },
  {
   "cell_type": "code",
   "execution_count": 99,
   "id": "b9857ec4-81fa-4afa-bff6-cca3c8bb7879",
   "metadata": {},
   "outputs": [
    {
     "data": {
      "text/plain": [
       "2617397397.6983314"
      ]
     },
     "execution_count": 99,
     "metadata": {},
     "output_type": "execute_result"
    }
   ],
   "source": [
    "MSE(y_test, y_est_final)"
   ]
  },
  {
   "cell_type": "code",
   "execution_count": 100,
   "id": "dffd3c20-b6cc-411d-a7de-7e3f83bbe75a",
   "metadata": {},
   "outputs": [],
   "source": [
    "# RMSE\n",
    "\n",
    "from sklearn.metrics import mean_squared_log_error"
   ]
  },
  {
   "cell_type": "code",
   "execution_count": 101,
   "id": "23b44116-4c41-4aeb-ad0c-3ccc6a2c13c6",
   "metadata": {},
   "outputs": [
    {
     "data": {
      "text/plain": [
       "0.07865323733175075"
      ]
     },
     "execution_count": 101,
     "metadata": {},
     "output_type": "execute_result"
    }
   ],
   "source": [
    "mean_squared_log_error(y_test, y_est_final)"
   ]
  }
 ],
 "metadata": {
  "kernelspec": {
   "display_name": "Python 3",
   "language": "python",
   "name": "python3"
  },
  "language_info": {
   "codemirror_mode": {
    "name": "ipython",
    "version": 3
   },
   "file_extension": ".py",
   "mimetype": "text/x-python",
   "name": "python",
   "nbconvert_exporter": "python",
   "pygments_lexer": "ipython3",
   "version": "3.9.5"
  }
 },
 "nbformat": 4,
 "nbformat_minor": 5
}
