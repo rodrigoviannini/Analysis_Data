{
  "nbformat": 4,
  "nbformat_minor": 0,
  "metadata": {
    "colab": {
      "provenance": [],
      "authorship_tag": "ABX9TyMDRQ5vFc12hXImnyS7Vv5Y",
      "include_colab_link": true
    },
    "kernelspec": {
      "name": "python3",
      "display_name": "Python 3"
    },
    "language_info": {
      "name": "python"
    }
  },
  "cells": [
    {
      "cell_type": "markdown",
      "metadata": {
        "id": "view-in-github",
        "colab_type": "text"
      },
      "source": [
        "<a href=\"https://colab.research.google.com/github/rodrigoviannini/Analysis_Data/blob/main/optical_character_recognition_20230620.ipynb\" target=\"_parent\"><img src=\"https://colab.research.google.com/assets/colab-badge.svg\" alt=\"Open In Colab\"/></a>"
      ]
    },
    {
      "cell_type": "markdown",
      "source": [
        "SETTINGS"
      ],
      "metadata": {
        "id": "N4oLqbHdtg_3"
      }
    },
    {
      "cell_type": "code",
      "execution_count": 1,
      "metadata": {
        "colab": {
          "base_uri": "https://localhost:8080/"
        },
        "id": "Bg16X-2RtRl_",
        "outputId": "3d573f36-1249-4853-ada1-b56b01a6f548"
      },
      "outputs": [
        {
          "output_type": "stream",
          "name": "stdout",
          "text": [
            "Looking in indexes: https://pypi.org/simple, https://us-python.pkg.dev/colab-wheels/public/simple/\n",
            "Collecting azure-cognitiveservices-vision-computervision\n",
            "  Downloading azure_cognitiveservices_vision_computervision-0.9.0-py2.py3-none-any.whl (39 kB)\n",
            "Collecting msrest>=0.5.0 (from azure-cognitiveservices-vision-computervision)\n",
            "  Downloading msrest-0.7.1-py3-none-any.whl (85 kB)\n",
            "\u001b[2K     \u001b[90m━━━━━━━━━━━━━━━━━━━━━━━━━━━━━━━━━━━━━━━━\u001b[0m \u001b[32m85.4/85.4 kB\u001b[0m \u001b[31m4.4 MB/s\u001b[0m eta \u001b[36m0:00:00\u001b[0m\n",
            "\u001b[?25hCollecting azure-common~=1.1 (from azure-cognitiveservices-vision-computervision)\n",
            "  Downloading azure_common-1.1.28-py2.py3-none-any.whl (14 kB)\n",
            "Collecting azure-core>=1.24.0 (from msrest>=0.5.0->azure-cognitiveservices-vision-computervision)\n",
            "  Downloading azure_core-1.27.1-py3-none-any.whl (174 kB)\n",
            "\u001b[2K     \u001b[90m━━━━━━━━━━━━━━━━━━━━━━━━━━━━━━━━━━━━━━\u001b[0m \u001b[32m174.5/174.5 kB\u001b[0m \u001b[31m11.5 MB/s\u001b[0m eta \u001b[36m0:00:00\u001b[0m\n",
            "\u001b[?25hRequirement already satisfied: certifi>=2017.4.17 in /usr/local/lib/python3.10/dist-packages (from msrest>=0.5.0->azure-cognitiveservices-vision-computervision) (2022.12.7)\n",
            "Collecting isodate>=0.6.0 (from msrest>=0.5.0->azure-cognitiveservices-vision-computervision)\n",
            "  Downloading isodate-0.6.1-py2.py3-none-any.whl (41 kB)\n",
            "\u001b[2K     \u001b[90m━━━━━━━━━━━━━━━━━━━━━━━━━━━━━━━━━━━━━━━━\u001b[0m \u001b[32m41.7/41.7 kB\u001b[0m \u001b[31m5.2 MB/s\u001b[0m eta \u001b[36m0:00:00\u001b[0m\n",
            "\u001b[?25hRequirement already satisfied: requests-oauthlib>=0.5.0 in /usr/local/lib/python3.10/dist-packages (from msrest>=0.5.0->azure-cognitiveservices-vision-computervision) (1.3.1)\n",
            "Requirement already satisfied: requests~=2.16 in /usr/local/lib/python3.10/dist-packages (from msrest>=0.5.0->azure-cognitiveservices-vision-computervision) (2.27.1)\n",
            "Requirement already satisfied: six>=1.11.0 in /usr/local/lib/python3.10/dist-packages (from azure-core>=1.24.0->msrest>=0.5.0->azure-cognitiveservices-vision-computervision) (1.16.0)\n",
            "Requirement already satisfied: typing-extensions>=4.3.0 in /usr/local/lib/python3.10/dist-packages (from azure-core>=1.24.0->msrest>=0.5.0->azure-cognitiveservices-vision-computervision) (4.5.0)\n",
            "Requirement already satisfied: urllib3<1.27,>=1.21.1 in /usr/local/lib/python3.10/dist-packages (from requests~=2.16->msrest>=0.5.0->azure-cognitiveservices-vision-computervision) (1.26.15)\n",
            "Requirement already satisfied: charset-normalizer~=2.0.0 in /usr/local/lib/python3.10/dist-packages (from requests~=2.16->msrest>=0.5.0->azure-cognitiveservices-vision-computervision) (2.0.12)\n",
            "Requirement already satisfied: idna<4,>=2.5 in /usr/local/lib/python3.10/dist-packages (from requests~=2.16->msrest>=0.5.0->azure-cognitiveservices-vision-computervision) (3.4)\n",
            "Requirement already satisfied: oauthlib>=3.0.0 in /usr/local/lib/python3.10/dist-packages (from requests-oauthlib>=0.5.0->msrest>=0.5.0->azure-cognitiveservices-vision-computervision) (3.2.2)\n",
            "Installing collected packages: azure-common, isodate, azure-core, msrest, azure-cognitiveservices-vision-computervision\n",
            "Successfully installed azure-cognitiveservices-vision-computervision-0.9.0 azure-common-1.1.28 azure-core-1.27.1 isodate-0.6.1 msrest-0.7.1\n"
          ]
        }
      ],
      "source": [
        "# Install\n",
        "!pip install --upgrade azure-cognitiveservices-vision-computervision;"
      ]
    },
    {
      "cell_type": "code",
      "source": [
        "# Imports\n",
        "import os\n",
        "import sys\n",
        "import time\n",
        "import pandas as pd\n",
        "import re\n",
        "from azure.cognitiveservices.vision.computervision import ComputerVisionClient\n",
        "from azure.cognitiveservices.vision.computervision.models import OperationStatusCodes\n",
        "from azure.cognitiveservices.vision.computervision.models import VisualFeatureTypes\n",
        "from msrest.authentication import CognitiveServicesCredentials"
      ],
      "metadata": {
        "id": "t4egO3SZttI8"
      },
      "execution_count": 2,
      "outputs": []
    },
    {
      "cell_type": "markdown",
      "source": [
        "MICROSOFT AZURE"
      ],
      "metadata": {
        "id": "sbPtp_VfuYMr"
      }
    },
    {
      "cell_type": "markdown",
      "source": [
        "Projets: XXX\n",
        "\n",
        "Object: IMAGE\n",
        "\n",
        "Activity: OCR\n",
        "\n",
        "Addicional: RegEX"
      ],
      "metadata": {
        "id": "6Kai3Dv0ug5a"
      }
    },
    {
      "cell_type": "code",
      "source": [
        "# Credentials\n",
        "subscription_key = 'INSERT AZURE KEY'\n",
        "endpoint = 'https://visionleitura.cognitiveservices.azure.com/'\n",
        "computervision_client = ComputerVisionClient(endpoint, CognitiveServicesCredentials(subscription_key))"
      ],
      "metadata": {
        "id": "ltPok6oBuNCl"
      },
      "execution_count": 3,
      "outputs": []
    },
    {
      "cell_type": "code",
      "source": [
        "# Cleanup and exception list\n",
        "def clean_ocr_text(ocr):\n",
        "    \"\"\" This function performs text cleaning using regular expressions (RegEX) and replace function.\n",
        "     This function performs text cleaning using regular expressions (RegEX) and replace function. \"\"\"\n",
        "\n",
        "    # Exception list\n",
        "    del_ = ['Cabo', 'Caber', 'Cab', 'Cont', 'Est',\n",
        "            'ey', 'Com', 'Proc', 'Cool', 'Ext',\n",
        "            'Co', 'abo', 'OPR', 'Rst', 'Fst', 'nt',\n",
        "            'Cahn', 'oi','Caha', 'Caho',\n",
        "            'Cant', 'ANATE', 'ANAT', 'Et', 'Came',\n",
        "            'CABO ÓPTICO', 'V TAL', 'VTAL', '\\n',\n",
        "            'Caha:', 'Caha: ', 'queLa']\n",
        "\n",
        "    text = str(ocr)\n",
        "    for item in del_:\n",
        "        # Character replacement\n",
        "        text = text.replace(str(item) , '').strip()\n",
        "        text = text.replace(' ','')\n",
        "        text = text.replace(\"&\",\"8\")\n",
        "        text = text.replace(\"|\",\"I\")\n",
        "        text = text.replace(\"×\",\"X\")\n",
        "        text = text.replace(\"g\",\"9\")\n",
        "        text = re.sub(r\"[][().:;_\\\"'ـه₦-]\",\"\", text)\n",
        "\n",
        "    return text"
      ],
      "metadata": {
        "id": "XI-1cDmeus2K"
      },
      "execution_count": 6,
      "outputs": []
    },
    {
      "cell_type": "code",
      "source": [
        "# Azure\n",
        "def extract_azure_ocr(filepath):\n",
        "    \"\"\" This function returns OCR (Optical character recognition) which is the process that\n",
        "    converts text in image format to text in human-readable character format. \"\"\"\n",
        "\n",
        "    # Open the file in binary format for reading\n",
        "    content = open(filepath, 'rb')\n",
        "    try:\n",
        "        # Call the Azure Computer Vision client to read the file content\n",
        "        # Set the raw parameter to True to return the raw response\n",
        "        read_response = computervision_client.read_in_stream(content, raw=True)\n",
        "\n",
        "        # Get the operation location from the response headers\n",
        "        read_operation_location = read_response.headers[\"Operation-Location\"]\n",
        "\n",
        "        # Extract the operation ID from the operation location\n",
        "        operation_id = read_operation_location.split(\"/\")[-1]\n",
        "\n",
        "        # Loop to check the status of the read operation\n",
        "        while True:\n",
        "            # Get the read result using the operation ID\n",
        "            read_result = computervision_client.get_read_result(operation_id)\n",
        "\n",
        "            # Check if the status is not 'notstarted' or 'running' to exit the loop\n",
        "            if read_result.status.lower() not in ['notstarted', 'running']:\n",
        "                break\n",
        "\n",
        "            # Wait for a short interval before checking the status again\n",
        "            time.sleep(0.2)\n",
        "\n",
        "        if read_result.status == OperationStatusCodes.succeeded:\n",
        "            # Initialize an empty string to store the extracted text\n",
        "            texts = ''\n",
        "\n",
        "            # Iterate over the read results and extract the text from each line found\n",
        "            for text_result in read_result.analyze_result.read_results:\n",
        "                for line in text_result.lines:\n",
        "                    texts = texts + ' ' + line.text\n",
        "\n",
        "            # Call the clean_ocr_text function to clean the extracted text\n",
        "            return clean_ocr_text(texts)\n",
        "        else:\n",
        "            # If the operation status is not successful, print a message indicating the unexpected status\n",
        "            print('Azure: unexpected status (', read_result.status, ') for file:', filepath)\n",
        "    except:\n",
        "        # If an exception occurs during the OCR request process, print a failure message\n",
        "        print('Azure: fail to request OCR for file:', filepath)\n",
        "\n",
        "    # Return an empty string if no OCR is extracted or an issue occurs\n",
        "    return ''\n"
      ],
      "metadata": {
        "id": "m4an755XvEJB"
      },
      "execution_count": 9,
      "outputs": []
    },
    {
      "cell_type": "code",
      "source": [
        "image = 'add your image path'\n",
        "displaying_text = extract_azure_ocr(image)\n",
        "print(displaying_text)"
      ],
      "metadata": {
        "id": "rq9Oz6tfvGtR"
      },
      "execution_count": 8,
      "outputs": []
    }
  ]
}