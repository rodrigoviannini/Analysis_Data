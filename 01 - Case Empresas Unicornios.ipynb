{
 "cells": [
  {
   "cell_type": "markdown",
   "id": "7adf0c0a-d920-447a-aa8c-8b31c864214e",
   "metadata": {},
   "source": [
    "### Projeto Empresas Unicórnios"
   ]
  },
  {
   "cell_type": "markdown",
   "id": "a8e58d10-8f65-40de-bb99-7a9bae5838b0",
   "metadata": {},
   "source": [
    "\"Unicórnio\" é um termo usado na indústria de capital de risco para descrever uma startup de capital fechado com valor superior a US$ 1 bilhão. O termo foi popularizado pela primeira vez pela capitalista de risco Aileen Lee, fundadora da Cowboy Ventures, um fundo de capital de risco com sede em Palo Alto, Califórnia.\n",
    "\n",
    "Unicórnios também podem se referir a um fenômeno de recrutamento no setor de recursos humanos (RH). Os gerentes de RH podem ter grandes expectativas para preencher um cargo, levando-os a procurar candidatos com qualificações superiores às exigidas para um cargo específico. Em essência, esses gerentes estão procurando um unicórnio, o que leva a uma desconexão entre seu candidato ideal e quem eles podem contratar do grupo de pessoas disponíveis."
   ]
  },
  {
   "cell_type": "code",
   "execution_count": 1,
   "id": "c56e397c-28fa-4091-b559-0a197b88b4f2",
   "metadata": {},
   "outputs": [],
   "source": [
    "# Importar as libs\n",
    "\n",
    "import numpy as np\n",
    "import pandas as pd\n",
    "import matplotlib.pyplot as plt\n",
    "import seaborn as sns\n",
    "\n",
    "import warnings\n",
    "warnings.filterwarnings(\"ignore\")"
   ]
  },
  {
   "cell_type": "code",
   "execution_count": 2,
   "id": "6c132bff-5f45-4a45-b906-12715ad31897",
   "metadata": {},
   "outputs": [
    {
     "data": {
      "text/plain": [
       "(936, 8)"
      ]
     },
     "execution_count": 2,
     "metadata": {},
     "output_type": "execute_result"
    }
   ],
   "source": [
    "# Ler os dados\n",
    "\n",
    "base_dados = pd.read_csv(\"dados/startups.csv\")\n",
    "\n",
    "# Verificar Dimensão\n",
    "\n",
    "base_dados.shape"
   ]
  },
  {
   "cell_type": "code",
   "execution_count": 3,
   "id": "1b9f9824-ff09-4709-9160-2bf104f4027b",
   "metadata": {},
   "outputs": [
    {
     "data": {
      "text/html": [
       "<div>\n",
       "<style scoped>\n",
       "    .dataframe tbody tr th:only-of-type {\n",
       "        vertical-align: middle;\n",
       "    }\n",
       "\n",
       "    .dataframe tbody tr th {\n",
       "        vertical-align: top;\n",
       "    }\n",
       "\n",
       "    .dataframe thead th {\n",
       "        text-align: right;\n",
       "    }\n",
       "</style>\n",
       "<table border=\"1\" class=\"dataframe\">\n",
       "  <thead>\n",
       "    <tr style=\"text-align: right;\">\n",
       "      <th></th>\n",
       "      <th>Unnamed: 0</th>\n",
       "      <th>Company</th>\n",
       "      <th>Valuation ($B)</th>\n",
       "      <th>Date Joined</th>\n",
       "      <th>Country</th>\n",
       "      <th>City</th>\n",
       "      <th>Industry</th>\n",
       "      <th>Select Investors</th>\n",
       "    </tr>\n",
       "  </thead>\n",
       "  <tbody>\n",
       "    <tr>\n",
       "      <th>0</th>\n",
       "      <td>0</td>\n",
       "      <td>Bytedance</td>\n",
       "      <td>$140</td>\n",
       "      <td>4/7/2017</td>\n",
       "      <td>China</td>\n",
       "      <td>Beijing</td>\n",
       "      <td>Artificial intelligence</td>\n",
       "      <td>Sequoia Capital China, SIG Asia Investments, S...</td>\n",
       "    </tr>\n",
       "    <tr>\n",
       "      <th>1</th>\n",
       "      <td>1</td>\n",
       "      <td>SpaceX</td>\n",
       "      <td>$100.3</td>\n",
       "      <td>12/1/2012</td>\n",
       "      <td>United States</td>\n",
       "      <td>Hawthorne</td>\n",
       "      <td>Other</td>\n",
       "      <td>Founders Fund, Draper Fisher Jurvetson, Rothen...</td>\n",
       "    </tr>\n",
       "    <tr>\n",
       "      <th>2</th>\n",
       "      <td>2</td>\n",
       "      <td>Stripe</td>\n",
       "      <td>$95</td>\n",
       "      <td>1/23/2014</td>\n",
       "      <td>United States</td>\n",
       "      <td>San Francisco</td>\n",
       "      <td>Fintech</td>\n",
       "      <td>Khosla Ventures, LowercaseCapital, capitalG</td>\n",
       "    </tr>\n",
       "    <tr>\n",
       "      <th>3</th>\n",
       "      <td>3</td>\n",
       "      <td>Klarna</td>\n",
       "      <td>$45.6</td>\n",
       "      <td>12/12/2011</td>\n",
       "      <td>Sweden</td>\n",
       "      <td>Stockholm</td>\n",
       "      <td>Fintech</td>\n",
       "      <td>Institutional Venture Partners, Sequoia Capita...</td>\n",
       "    </tr>\n",
       "    <tr>\n",
       "      <th>4</th>\n",
       "      <td>4</td>\n",
       "      <td>Canva</td>\n",
       "      <td>$40</td>\n",
       "      <td>1/8/2018</td>\n",
       "      <td>Australia</td>\n",
       "      <td>Surry Hills</td>\n",
       "      <td>Internet software &amp; services</td>\n",
       "      <td>Sequoia Capital China, Blackbird Ventures, Mat...</td>\n",
       "    </tr>\n",
       "  </tbody>\n",
       "</table>\n",
       "</div>"
      ],
      "text/plain": [
       "   Unnamed: 0    Company Valuation ($B) Date Joined        Country  \\\n",
       "0           0  Bytedance           $140    4/7/2017          China   \n",
       "1           1     SpaceX         $100.3   12/1/2012  United States   \n",
       "2           2     Stripe            $95   1/23/2014  United States   \n",
       "3           3     Klarna          $45.6  12/12/2011         Sweden   \n",
       "4           4      Canva            $40    1/8/2018      Australia   \n",
       "\n",
       "            City                      Industry  \\\n",
       "0        Beijing       Artificial intelligence   \n",
       "1      Hawthorne                         Other   \n",
       "2  San Francisco                       Fintech   \n",
       "3      Stockholm                       Fintech   \n",
       "4    Surry Hills  Internet software & services   \n",
       "\n",
       "                                    Select Investors  \n",
       "0  Sequoia Capital China, SIG Asia Investments, S...  \n",
       "1  Founders Fund, Draper Fisher Jurvetson, Rothen...  \n",
       "2        Khosla Ventures, LowercaseCapital, capitalG  \n",
       "3  Institutional Venture Partners, Sequoia Capita...  \n",
       "4  Sequoia Capital China, Blackbird Ventures, Mat...  "
      ]
     },
     "execution_count": 3,
     "metadata": {},
     "output_type": "execute_result"
    }
   ],
   "source": [
    "# Primeiros registros\n",
    "\n",
    "base_dados.head()"
   ]
  },
  {
   "cell_type": "code",
   "execution_count": 4,
   "id": "74992ac3-2e63-41d2-928a-00f425855281",
   "metadata": {},
   "outputs": [
    {
     "data": {
      "text/plain": [
       "Index(['Unnamed: 0', 'Company', 'Valuation ($B)', 'Date Joined', 'Country',\n",
       "       'City', 'Industry', 'Select Investors'],\n",
       "      dtype='object')"
      ]
     },
     "execution_count": 4,
     "metadata": {},
     "output_type": "execute_result"
    }
   ],
   "source": [
    "# Columnas\n",
    "\n",
    "base_dados.columns"
   ]
  },
  {
   "cell_type": "code",
   "execution_count": 5,
   "id": "db4696b6-85b7-406c-a475-250e21839e99",
   "metadata": {},
   "outputs": [],
   "source": [
    "# Renomear\n",
    "\n",
    "base_dados.rename( columns={\n",
    "    \"Unnamed: 0\" : \"Id\",\n",
    "    \"Company\" : \"Empresa\",\n",
    "    \"Valuation ($B)\" : \"Valor ($)\",\n",
    "    \"Date Joined\" : \"Data de Adesão\",\n",
    "    \"Country\" : \"Pais\",\n",
    "    \"City\" : \"Cidade\",\n",
    "    \"Industry\": \"Setor\",\n",
    "    \"Select Investors\": \"Investidores\",\n",
    "}, inplace=True )"
   ]
  },
  {
   "cell_type": "code",
   "execution_count": 6,
   "id": "f10443af-51c2-4ec8-aa59-c600efa6ab95",
   "metadata": {},
   "outputs": [
    {
     "name": "stdout",
     "output_type": "stream",
     "text": [
      "<class 'pandas.core.frame.DataFrame'>\n",
      "RangeIndex: 936 entries, 0 to 935\n",
      "Data columns (total 8 columns):\n",
      " #   Column          Non-Null Count  Dtype \n",
      "---  ------          --------------  ----- \n",
      " 0   Id              936 non-null    int64 \n",
      " 1   Empresa         936 non-null    object\n",
      " 2   Valor ($)       936 non-null    object\n",
      " 3   Data de Adesão  936 non-null    object\n",
      " 4   Pais            936 non-null    object\n",
      " 5   Cidade          921 non-null    object\n",
      " 6   Setor           936 non-null    object\n",
      " 7   Investidores    935 non-null    object\n",
      "dtypes: int64(1), object(7)\n",
      "memory usage: 58.6+ KB\n"
     ]
    }
   ],
   "source": [
    "# Verificar Tipo do informação\n",
    "\n",
    "base_dados.info()"
   ]
  },
  {
   "cell_type": "code",
   "execution_count": 7,
   "id": "d31386ac-2a68-45cf-aba8-5b41c126869b",
   "metadata": {},
   "outputs": [
    {
     "data": {
      "text/plain": [
       "Id                 0\n",
       "Empresa            0\n",
       "Valor ($)          0\n",
       "Data de Adesão     0\n",
       "Pais               0\n",
       "Cidade            15\n",
       "Setor              0\n",
       "Investidores       1\n",
       "dtype: int64"
      ]
     },
     "execution_count": 7,
     "metadata": {},
     "output_type": "execute_result"
    }
   ],
   "source": [
    "# Campos nulos\n",
    "\n",
    "base_dados.isnull().sum()"
   ]
  },
  {
   "cell_type": "code",
   "execution_count": 8,
   "id": "e94fc7e3-547a-41dd-b94b-3111145f7765",
   "metadata": {},
   "outputs": [
    {
     "data": {
      "image/png": "[encoded data removed]",
      "text/plain": [
       "<Figure size 1080x432 with 1 Axes>"
      ]
     },
     "metadata": {
      "needs_background": "light"
     },
     "output_type": "display_data"
    }
   ],
   "source": [
    "# Grafica\n",
    "\n",
    "plt.figure( figsize=(15,6) )\n",
    "plt.title(\"Analisando Campos Nulos\")\n",
    "sns.heatmap( base_dados.isnull(), cbar=False );"
   ]
  },
  {
   "cell_type": "code",
   "execution_count": 9,
   "id": "18cc1739-06e2-456f-8eed-c6679f224fbf",
   "metadata": {},
   "outputs": [
    {
     "data": {
      "text/plain": [
       "Id                936\n",
       "Empresa           935\n",
       "Valor ($)         192\n",
       "Data de Adesão    589\n",
       "Pais               47\n",
       "Cidade            239\n",
       "Setor              17\n",
       "Investidores      920\n",
       "dtype: int64"
      ]
     },
     "execution_count": 9,
     "metadata": {},
     "output_type": "execute_result"
    }
   ],
   "source": [
    "# Campos únicos\n",
    "\n",
    "base_dados.nunique()"
   ]
  },
  {
   "cell_type": "code",
   "execution_count": 10,
   "id": "8f7c3161-ebac-4833-b49c-550b84d128e3",
   "metadata": {},
   "outputs": [
    {
     "data": {
      "text/plain": [
       "array(['Artificial intelligence', 'Other', 'Fintech',\n",
       "       'Internet software & services',\n",
       "       'Supply chain, logistics, & delivery',\n",
       "       'Data management & analytics', 'Edtech',\n",
       "       'E-commerce & direct-to-consumer', 'Hardware', 'Health',\n",
       "       'Consumer & retail', 'Auto & transportation', 'Finttech',\n",
       "       'Cybersecurity', 'Mobile & telecommunications', 'Travel',\n",
       "       'Artificial Intelligence'], dtype=object)"
      ]
     },
     "execution_count": 10,
     "metadata": {},
     "output_type": "execute_result"
    }
   ],
   "source": [
    "# Valores únicos\n",
    "\n",
    "base_dados[\"Setor\"].unique()"
   ]
  },
  {
   "cell_type": "code",
   "execution_count": 11,
   "id": "f1d55420-d644-4335-b945-99d15248489a",
   "metadata": {},
   "outputs": [
    {
     "data": {
      "text/plain": [
       "Fintech                                190\n",
       "Internet software & services           167\n",
       "E-commerce & direct-to-consumer        102\n",
       "Artificial intelligence                 69\n",
       "Health                                  63\n",
       "Supply chain, logistics, & delivery     51\n",
       "Other                                   51\n",
       "Cybersecurity                           41\n",
       "Mobile & telecommunications             37\n",
       "Data management & analytics             36\n",
       "Hardware                                32\n",
       "Auto & transportation                   29\n",
       "Edtech                                  27\n",
       "Consumer & retail                       23\n",
       "Travel                                  13\n",
       "Artificial Intelligence                  4\n",
       "Finttech                                 1\n",
       "Name: Setor, dtype: int64"
      ]
     },
     "execution_count": 11,
     "metadata": {},
     "output_type": "execute_result"
    }
   ],
   "source": [
    "# Valores únicos - Rank\n",
    "\n",
    "base_dados[\"Setor\"].value_counts()"
   ]
  },
  {
   "cell_type": "code",
   "execution_count": 12,
   "id": "c5c72eec-4a22-4f14-8d69-21443eaac940",
   "metadata": {},
   "outputs": [
    {
     "data": {
      "text/plain": [
       "Fintech                                0.202991\n",
       "Internet software & services           0.178419\n",
       "E-commerce & direct-to-consumer        0.108974\n",
       "Artificial intelligence                0.073718\n",
       "Health                                 0.067308\n",
       "Supply chain, logistics, & delivery    0.054487\n",
       "Other                                  0.054487\n",
       "Cybersecurity                          0.043803\n",
       "Mobile & telecommunications            0.039530\n",
       "Data management & analytics            0.038462\n",
       "Hardware                               0.034188\n",
       "Auto & transportation                  0.030983\n",
       "Edtech                                 0.028846\n",
       "Consumer & retail                      0.024573\n",
       "Travel                                 0.013889\n",
       "Artificial Intelligence                0.004274\n",
       "Finttech                               0.001068\n",
       "Name: Setor, dtype: float64"
      ]
     },
     "execution_count": 12,
     "metadata": {},
     "output_type": "execute_result"
    }
   ],
   "source": [
    "# Valores únicos - Rank\n",
    "\n",
    "base_dados[\"Setor\"].value_counts( normalize=True )"
   ]
  },
  {
   "cell_type": "code",
   "execution_count": 13,
   "id": "89e58770-007d-488f-aead-4629abbb255c",
   "metadata": {},
   "outputs": [
    {
     "data": {
      "image/png": "[encoded data removed]",
      "text/plain": [
       "<Figure size 1080x432 with 1 Axes>"
      ]
     },
     "metadata": {
      "needs_background": "light"
     },
     "output_type": "display_data"
    }
   ],
   "source": [
    "plt.figure( figsize=(15,6) )\n",
    "plt.title(\"Análise dos Setores\")\n",
    "plt.bar( base_dados[\"Setor\"].value_counts().index, base_dados[\"Setor\"].value_counts()  )\n",
    "plt.xticks( rotation=45, ha=\"right\" );"
   ]
  },
  {
   "cell_type": "code",
   "execution_count": 14,
   "id": "ab6ae50d-475a-44cd-9f2a-fd94686d207d",
   "metadata": {},
   "outputs": [],
   "source": [
    "Analise = round( base_dados[\"Pais\"].value_counts( normalize=True ) * 100, 1 )"
   ]
  },
  {
   "cell_type": "code",
   "execution_count": 15,
   "id": "49c536d1-db43-49eb-bd90-099bb4dea752",
   "metadata": {},
   "outputs": [
    {
     "data": {
      "image/png": "[encoded data removed]",
      "text/plain": [
       "<Figure size 1080x432 with 1 Axes>"
      ]
     },
     "metadata": {},
     "output_type": "display_data"
    }
   ],
   "source": [
    "# Plot geral dos Países\n",
    "\n",
    "plt.figure( figsize=(15,6) )\n",
    "plt.title(\"Análise dos Países gerador de Unicórnios\")\n",
    "plt.pie(\n",
    "    Analise,\n",
    "    labels = Analise.index,\n",
    "    shadow=True,\n",
    "    startangle=90,\n",
    "    autopct=\"%1.1f%%\"\n",
    ");"
   ]
  },
  {
   "cell_type": "code",
   "execution_count": 16,
   "id": "ae2ae364-1881-4a01-9b46-10d10505a193",
   "metadata": {},
   "outputs": [
    {
     "data": {
      "image/png": "[encoded data removed]",
      "text/plain": [
       "<Figure size 1080x432 with 1 Axes>"
      ]
     },
     "metadata": {},
     "output_type": "display_data"
    }
   ],
   "source": [
    "# Plot geral dos Países\n",
    "\n",
    "plt.figure( figsize=(15,6) )\n",
    "plt.title(\"Análise dos Países gerador de Unicórnios - Top 10\")\n",
    "plt.pie(\n",
    "    Analise.head(10),\n",
    "    labels = Analise.index[0:10],\n",
    "    shadow=True,\n",
    "    startangle=90,\n",
    "    autopct=\"%1.1f%%\"\n",
    ");"
   ]
  },
  {
   "cell_type": "code",
   "execution_count": 17,
   "id": "7717cd31-f28e-418f-98f4-c5c3e0f38352",
   "metadata": {},
   "outputs": [
    {
     "data": {
      "text/plain": [
       "0   2017-04-07\n",
       "1   2012-12-01\n",
       "2   2014-01-23\n",
       "3   2011-12-12\n",
       "4   2018-01-08\n",
       "Name: Data de Adesão, dtype: datetime64[ns]"
      ]
     },
     "execution_count": 17,
     "metadata": {},
     "output_type": "execute_result"
    }
   ],
   "source": [
    "# Conversão para Data\n",
    "\n",
    "base_dados[\"Data de Adesão\"] = pd.to_datetime( base_dados[\"Data de Adesão\"] )\n",
    "\n",
    "base_dados[\"Data de Adesão\"].head()"
   ]
  },
  {
   "cell_type": "code",
   "execution_count": 18,
   "id": "fbbcc076-c5b5-48a8-b666-6366b22c769d",
   "metadata": {},
   "outputs": [
    {
     "data": {
      "text/html": [
       "<div>\n",
       "<style scoped>\n",
       "    .dataframe tbody tr th:only-of-type {\n",
       "        vertical-align: middle;\n",
       "    }\n",
       "\n",
       "    .dataframe tbody tr th {\n",
       "        vertical-align: top;\n",
       "    }\n",
       "\n",
       "    .dataframe thead th {\n",
       "        text-align: right;\n",
       "    }\n",
       "</style>\n",
       "<table border=\"1\" class=\"dataframe\">\n",
       "  <thead>\n",
       "    <tr style=\"text-align: right;\">\n",
       "      <th></th>\n",
       "      <th>Id</th>\n",
       "      <th>Empresa</th>\n",
       "      <th>Valor ($)</th>\n",
       "      <th>Data de Adesão</th>\n",
       "      <th>Pais</th>\n",
       "      <th>Cidade</th>\n",
       "      <th>Setor</th>\n",
       "      <th>Investidores</th>\n",
       "      <th>Mes</th>\n",
       "      <th>Ano</th>\n",
       "    </tr>\n",
       "  </thead>\n",
       "  <tbody>\n",
       "    <tr>\n",
       "      <th>0</th>\n",
       "      <td>0</td>\n",
       "      <td>Bytedance</td>\n",
       "      <td>$140</td>\n",
       "      <td>2017-04-07</td>\n",
       "      <td>China</td>\n",
       "      <td>Beijing</td>\n",
       "      <td>Artificial intelligence</td>\n",
       "      <td>Sequoia Capital China, SIG Asia Investments, S...</td>\n",
       "      <td>4</td>\n",
       "      <td>2017</td>\n",
       "    </tr>\n",
       "    <tr>\n",
       "      <th>1</th>\n",
       "      <td>1</td>\n",
       "      <td>SpaceX</td>\n",
       "      <td>$100.3</td>\n",
       "      <td>2012-12-01</td>\n",
       "      <td>United States</td>\n",
       "      <td>Hawthorne</td>\n",
       "      <td>Other</td>\n",
       "      <td>Founders Fund, Draper Fisher Jurvetson, Rothen...</td>\n",
       "      <td>12</td>\n",
       "      <td>2012</td>\n",
       "    </tr>\n",
       "    <tr>\n",
       "      <th>2</th>\n",
       "      <td>2</td>\n",
       "      <td>Stripe</td>\n",
       "      <td>$95</td>\n",
       "      <td>2014-01-23</td>\n",
       "      <td>United States</td>\n",
       "      <td>San Francisco</td>\n",
       "      <td>Fintech</td>\n",
       "      <td>Khosla Ventures, LowercaseCapital, capitalG</td>\n",
       "      <td>1</td>\n",
       "      <td>2014</td>\n",
       "    </tr>\n",
       "    <tr>\n",
       "      <th>3</th>\n",
       "      <td>3</td>\n",
       "      <td>Klarna</td>\n",
       "      <td>$45.6</td>\n",
       "      <td>2011-12-12</td>\n",
       "      <td>Sweden</td>\n",
       "      <td>Stockholm</td>\n",
       "      <td>Fintech</td>\n",
       "      <td>Institutional Venture Partners, Sequoia Capita...</td>\n",
       "      <td>12</td>\n",
       "      <td>2011</td>\n",
       "    </tr>\n",
       "    <tr>\n",
       "      <th>4</th>\n",
       "      <td>4</td>\n",
       "      <td>Canva</td>\n",
       "      <td>$40</td>\n",
       "      <td>2018-01-08</td>\n",
       "      <td>Australia</td>\n",
       "      <td>Surry Hills</td>\n",
       "      <td>Internet software &amp; services</td>\n",
       "      <td>Sequoia Capital China, Blackbird Ventures, Mat...</td>\n",
       "      <td>1</td>\n",
       "      <td>2018</td>\n",
       "    </tr>\n",
       "  </tbody>\n",
       "</table>\n",
       "</div>"
      ],
      "text/plain": [
       "   Id    Empresa Valor ($) Data de Adesão           Pais         Cidade  \\\n",
       "0   0  Bytedance      $140     2017-04-07          China        Beijing   \n",
       "1   1     SpaceX    $100.3     2012-12-01  United States      Hawthorne   \n",
       "2   2     Stripe       $95     2014-01-23  United States  San Francisco   \n",
       "3   3     Klarna     $45.6     2011-12-12         Sweden      Stockholm   \n",
       "4   4      Canva       $40     2018-01-08      Australia    Surry Hills   \n",
       "\n",
       "                          Setor  \\\n",
       "0       Artificial intelligence   \n",
       "1                         Other   \n",
       "2                       Fintech   \n",
       "3                       Fintech   \n",
       "4  Internet software & services   \n",
       "\n",
       "                                        Investidores  Mes   Ano  \n",
       "0  Sequoia Capital China, SIG Asia Investments, S...    4  2017  \n",
       "1  Founders Fund, Draper Fisher Jurvetson, Rothen...   12  2012  \n",
       "2        Khosla Ventures, LowercaseCapital, capitalG    1  2014  \n",
       "3  Institutional Venture Partners, Sequoia Capita...   12  2011  \n",
       "4  Sequoia Capital China, Blackbird Ventures, Mat...    1  2018  "
      ]
     },
     "execution_count": 18,
     "metadata": {},
     "output_type": "execute_result"
    }
   ],
   "source": [
    "# Extrair o Ano e Mês\n",
    "\n",
    "base_dados[\"Mes\"] = pd.DatetimeIndex( base_dados[\"Data de Adesão\"] ).month\n",
    "base_dados[\"Ano\"] = pd.DatetimeIndex( base_dados[\"Data de Adesão\"] ).year\n",
    "\n",
    "base_dados.head()"
   ]
  },
  {
   "cell_type": "code",
   "execution_count": 19,
   "id": "819182d5-34a3-4020-b869-70e30c3d52b4",
   "metadata": {},
   "outputs": [
    {
     "data": {
      "text/html": [
       "<div>\n",
       "<style scoped>\n",
       "    .dataframe tbody tr th:only-of-type {\n",
       "        vertical-align: middle;\n",
       "    }\n",
       "\n",
       "    .dataframe tbody tr th {\n",
       "        vertical-align: top;\n",
       "    }\n",
       "\n",
       "    .dataframe thead th {\n",
       "        text-align: right;\n",
       "    }\n",
       "</style>\n",
       "<table border=\"1\" class=\"dataframe\">\n",
       "  <thead>\n",
       "    <tr style=\"text-align: right;\">\n",
       "      <th></th>\n",
       "      <th>Pais</th>\n",
       "      <th>Ano</th>\n",
       "      <th>Mes</th>\n",
       "      <th>Empresa</th>\n",
       "      <th>Id</th>\n",
       "    </tr>\n",
       "  </thead>\n",
       "  <tbody>\n",
       "    <tr>\n",
       "      <th>0</th>\n",
       "      <td>Argentina</td>\n",
       "      <td>2021</td>\n",
       "      <td>8</td>\n",
       "      <td>Uala</td>\n",
       "      <td>1</td>\n",
       "    </tr>\n",
       "    <tr>\n",
       "      <th>1</th>\n",
       "      <td>Australia</td>\n",
       "      <td>2018</td>\n",
       "      <td>1</td>\n",
       "      <td>Canva</td>\n",
       "      <td>1</td>\n",
       "    </tr>\n",
       "    <tr>\n",
       "      <th>2</th>\n",
       "      <td>Australia</td>\n",
       "      <td>2019</td>\n",
       "      <td>3</td>\n",
       "      <td>Airwallex</td>\n",
       "      <td>1</td>\n",
       "    </tr>\n",
       "    <tr>\n",
       "      <th>3</th>\n",
       "      <td>Australia</td>\n",
       "      <td>2021</td>\n",
       "      <td>5</td>\n",
       "      <td>SafetyCulture</td>\n",
       "      <td>1</td>\n",
       "    </tr>\n",
       "    <tr>\n",
       "      <th>4</th>\n",
       "      <td>Australia</td>\n",
       "      <td>2021</td>\n",
       "      <td>7</td>\n",
       "      <td>Culture Amp</td>\n",
       "      <td>1</td>\n",
       "    </tr>\n",
       "    <tr>\n",
       "      <th>...</th>\n",
       "      <td>...</td>\n",
       "      <td>...</td>\n",
       "      <td>...</td>\n",
       "      <td>...</td>\n",
       "      <td>...</td>\n",
       "    </tr>\n",
       "    <tr>\n",
       "      <th>931</th>\n",
       "      <td>United States</td>\n",
       "      <td>2021</td>\n",
       "      <td>12</td>\n",
       "      <td>Panther Labs</td>\n",
       "      <td>1</td>\n",
       "    </tr>\n",
       "    <tr>\n",
       "      <th>932</th>\n",
       "      <td>United States</td>\n",
       "      <td>2021</td>\n",
       "      <td>12</td>\n",
       "      <td>ReliaQuest</td>\n",
       "      <td>1</td>\n",
       "    </tr>\n",
       "    <tr>\n",
       "      <th>933</th>\n",
       "      <td>United States</td>\n",
       "      <td>2021</td>\n",
       "      <td>12</td>\n",
       "      <td>YipitData</td>\n",
       "      <td>1</td>\n",
       "    </tr>\n",
       "    <tr>\n",
       "      <th>934</th>\n",
       "      <td>United States,</td>\n",
       "      <td>2021</td>\n",
       "      <td>9</td>\n",
       "      <td>TrialSpark</td>\n",
       "      <td>1</td>\n",
       "    </tr>\n",
       "    <tr>\n",
       "      <th>935</th>\n",
       "      <td>Vietnam</td>\n",
       "      <td>2021</td>\n",
       "      <td>10</td>\n",
       "      <td>Sky Mavis</td>\n",
       "      <td>1</td>\n",
       "    </tr>\n",
       "  </tbody>\n",
       "</table>\n",
       "<p>936 rows × 5 columns</p>\n",
       "</div>"
      ],
      "text/plain": [
       "               Pais   Ano  Mes        Empresa  Id\n",
       "0         Argentina  2021    8           Uala   1\n",
       "1         Australia  2018    1          Canva   1\n",
       "2         Australia  2019    3      Airwallex   1\n",
       "3         Australia  2021    5  SafetyCulture   1\n",
       "4         Australia  2021    7    Culture Amp   1\n",
       "..              ...   ...  ...            ...  ..\n",
       "931   United States  2021   12   Panther Labs   1\n",
       "932   United States  2021   12     ReliaQuest   1\n",
       "933   United States  2021   12      YipitData   1\n",
       "934  United States,  2021    9     TrialSpark   1\n",
       "935         Vietnam  2021   10      Sky Mavis   1\n",
       "\n",
       "[936 rows x 5 columns]"
      ]
     },
     "execution_count": 19,
     "metadata": {},
     "output_type": "execute_result"
    }
   ],
   "source": [
    "# Tabela Analítica\n",
    "\n",
    "Analise_Agrupada = base_dados.groupby( by=[\"Pais\", \"Ano\", \"Mes\", \"Empresa\"] ).count()[\"Id\"].reset_index()\n",
    "\n",
    "Analise_Agrupada"
   ]
  },
  {
   "cell_type": "code",
   "execution_count": 20,
   "id": "edb45902-dacb-48e3-bcf4-209d361c2a2e",
   "metadata": {},
   "outputs": [
    {
     "data": {
      "text/html": [
       "<div>\n",
       "<style scoped>\n",
       "    .dataframe tbody tr th:only-of-type {\n",
       "        vertical-align: middle;\n",
       "    }\n",
       "\n",
       "    .dataframe tbody tr th {\n",
       "        vertical-align: top;\n",
       "    }\n",
       "\n",
       "    .dataframe thead th {\n",
       "        text-align: right;\n",
       "    }\n",
       "</style>\n",
       "<table border=\"1\" class=\"dataframe\">\n",
       "  <thead>\n",
       "    <tr style=\"text-align: right;\">\n",
       "      <th></th>\n",
       "      <th>Pais</th>\n",
       "      <th>Ano</th>\n",
       "      <th>Mes</th>\n",
       "      <th>Empresa</th>\n",
       "      <th>Id</th>\n",
       "    </tr>\n",
       "  </thead>\n",
       "  <tbody>\n",
       "    <tr>\n",
       "      <th>12</th>\n",
       "      <td>Brazil</td>\n",
       "      <td>2018</td>\n",
       "      <td>3</td>\n",
       "      <td>Nubank</td>\n",
       "      <td>1</td>\n",
       "    </tr>\n",
       "    <tr>\n",
       "      <th>13</th>\n",
       "      <td>Brazil</td>\n",
       "      <td>2018</td>\n",
       "      <td>7</td>\n",
       "      <td>Movile</td>\n",
       "      <td>1</td>\n",
       "    </tr>\n",
       "    <tr>\n",
       "      <th>14</th>\n",
       "      <td>Brazil</td>\n",
       "      <td>2018</td>\n",
       "      <td>11</td>\n",
       "      <td>iFood</td>\n",
       "      <td>1</td>\n",
       "    </tr>\n",
       "    <tr>\n",
       "      <th>15</th>\n",
       "      <td>Brazil</td>\n",
       "      <td>2019</td>\n",
       "      <td>6</td>\n",
       "      <td>Loggi</td>\n",
       "      <td>1</td>\n",
       "    </tr>\n",
       "    <tr>\n",
       "      <th>16</th>\n",
       "      <td>Brazil</td>\n",
       "      <td>2019</td>\n",
       "      <td>9</td>\n",
       "      <td>QuintoAndar</td>\n",
       "      <td>1</td>\n",
       "    </tr>\n",
       "    <tr>\n",
       "      <th>17</th>\n",
       "      <td>Brazil</td>\n",
       "      <td>2019</td>\n",
       "      <td>10</td>\n",
       "      <td>EBANX</td>\n",
       "      <td>1</td>\n",
       "    </tr>\n",
       "    <tr>\n",
       "      <th>18</th>\n",
       "      <td>Brazil</td>\n",
       "      <td>2019</td>\n",
       "      <td>12</td>\n",
       "      <td>Wildlife Studios</td>\n",
       "      <td>1</td>\n",
       "    </tr>\n",
       "    <tr>\n",
       "      <th>19</th>\n",
       "      <td>Brazil</td>\n",
       "      <td>2020</td>\n",
       "      <td>1</td>\n",
       "      <td>Loft</td>\n",
       "      <td>1</td>\n",
       "    </tr>\n",
       "    <tr>\n",
       "      <th>20</th>\n",
       "      <td>Brazil</td>\n",
       "      <td>2020</td>\n",
       "      <td>12</td>\n",
       "      <td>C6 Bank</td>\n",
       "      <td>1</td>\n",
       "    </tr>\n",
       "    <tr>\n",
       "      <th>21</th>\n",
       "      <td>Brazil</td>\n",
       "      <td>2020</td>\n",
       "      <td>12</td>\n",
       "      <td>Creditas</td>\n",
       "      <td>1</td>\n",
       "    </tr>\n",
       "    <tr>\n",
       "      <th>22</th>\n",
       "      <td>Brazil</td>\n",
       "      <td>2021</td>\n",
       "      <td>1</td>\n",
       "      <td>MadeiraMadeira</td>\n",
       "      <td>1</td>\n",
       "    </tr>\n",
       "    <tr>\n",
       "      <th>23</th>\n",
       "      <td>Brazil</td>\n",
       "      <td>2021</td>\n",
       "      <td>8</td>\n",
       "      <td>Nuvemshop</td>\n",
       "      <td>1</td>\n",
       "    </tr>\n",
       "    <tr>\n",
       "      <th>24</th>\n",
       "      <td>Brazil</td>\n",
       "      <td>2021</td>\n",
       "      <td>8</td>\n",
       "      <td>Unico</td>\n",
       "      <td>1</td>\n",
       "    </tr>\n",
       "    <tr>\n",
       "      <th>25</th>\n",
       "      <td>Brazil</td>\n",
       "      <td>2021</td>\n",
       "      <td>9</td>\n",
       "      <td>1</td>\n",
       "      <td>1</td>\n",
       "    </tr>\n",
       "    <tr>\n",
       "      <th>26</th>\n",
       "      <td>Brazil</td>\n",
       "      <td>2021</td>\n",
       "      <td>10</td>\n",
       "      <td>CargoX</td>\n",
       "      <td>1</td>\n",
       "    </tr>\n",
       "  </tbody>\n",
       "</table>\n",
       "</div>"
      ],
      "text/plain": [
       "      Pais   Ano  Mes           Empresa  Id\n",
       "12  Brazil  2018    3            Nubank   1\n",
       "13  Brazil  2018    7            Movile   1\n",
       "14  Brazil  2018   11             iFood   1\n",
       "15  Brazil  2019    6             Loggi   1\n",
       "16  Brazil  2019    9       QuintoAndar   1\n",
       "17  Brazil  2019   10             EBANX   1\n",
       "18  Brazil  2019   12  Wildlife Studios   1\n",
       "19  Brazil  2020    1              Loft   1\n",
       "20  Brazil  2020   12           C6 Bank   1\n",
       "21  Brazil  2020   12          Creditas   1\n",
       "22  Brazil  2021    1    MadeiraMadeira   1\n",
       "23  Brazil  2021    8         Nuvemshop   1\n",
       "24  Brazil  2021    8             Unico   1\n",
       "25  Brazil  2021    9                 1   1\n",
       "26  Brazil  2021   10            CargoX   1"
      ]
     },
     "execution_count": 20,
     "metadata": {},
     "output_type": "execute_result"
    }
   ],
   "source": [
    "Analise_Agrupada.loc[\n",
    "  Analise_Agrupada[\"Pais\"] == \"Brazil\"\n",
    "]"
   ]
  },
  {
   "cell_type": "code",
   "execution_count": 21,
   "id": "859448a2-c269-4647-bf64-a4284cf36018",
   "metadata": {},
   "outputs": [
    {
     "data": {
      "text/html": [
       "<div>\n",
       "<style scoped>\n",
       "    .dataframe tbody tr th:only-of-type {\n",
       "        vertical-align: middle;\n",
       "    }\n",
       "\n",
       "    .dataframe tbody tr th {\n",
       "        vertical-align: top;\n",
       "    }\n",
       "\n",
       "    .dataframe thead th {\n",
       "        text-align: right;\n",
       "    }\n",
       "</style>\n",
       "<table border=\"1\" class=\"dataframe\">\n",
       "  <thead>\n",
       "    <tr style=\"text-align: right;\">\n",
       "      <th></th>\n",
       "      <th>Id</th>\n",
       "      <th>Empresa</th>\n",
       "      <th>Valor ($)</th>\n",
       "      <th>Data de Adesão</th>\n",
       "      <th>Pais</th>\n",
       "      <th>Cidade</th>\n",
       "      <th>Setor</th>\n",
       "      <th>Investidores</th>\n",
       "      <th>Mes</th>\n",
       "      <th>Ano</th>\n",
       "    </tr>\n",
       "  </thead>\n",
       "  <tbody>\n",
       "    <tr>\n",
       "      <th>0</th>\n",
       "      <td>0</td>\n",
       "      <td>Bytedance</td>\n",
       "      <td>140.0</td>\n",
       "      <td>2017-04-07</td>\n",
       "      <td>China</td>\n",
       "      <td>Beijing</td>\n",
       "      <td>Artificial intelligence</td>\n",
       "      <td>Sequoia Capital China, SIG Asia Investments, S...</td>\n",
       "      <td>4</td>\n",
       "      <td>2017</td>\n",
       "    </tr>\n",
       "    <tr>\n",
       "      <th>1</th>\n",
       "      <td>1</td>\n",
       "      <td>SpaceX</td>\n",
       "      <td>100.3</td>\n",
       "      <td>2012-12-01</td>\n",
       "      <td>United States</td>\n",
       "      <td>Hawthorne</td>\n",
       "      <td>Other</td>\n",
       "      <td>Founders Fund, Draper Fisher Jurvetson, Rothen...</td>\n",
       "      <td>12</td>\n",
       "      <td>2012</td>\n",
       "    </tr>\n",
       "    <tr>\n",
       "      <th>2</th>\n",
       "      <td>2</td>\n",
       "      <td>Stripe</td>\n",
       "      <td>95.0</td>\n",
       "      <td>2014-01-23</td>\n",
       "      <td>United States</td>\n",
       "      <td>San Francisco</td>\n",
       "      <td>Fintech</td>\n",
       "      <td>Khosla Ventures, LowercaseCapital, capitalG</td>\n",
       "      <td>1</td>\n",
       "      <td>2014</td>\n",
       "    </tr>\n",
       "    <tr>\n",
       "      <th>3</th>\n",
       "      <td>3</td>\n",
       "      <td>Klarna</td>\n",
       "      <td>45.6</td>\n",
       "      <td>2011-12-12</td>\n",
       "      <td>Sweden</td>\n",
       "      <td>Stockholm</td>\n",
       "      <td>Fintech</td>\n",
       "      <td>Institutional Venture Partners, Sequoia Capita...</td>\n",
       "      <td>12</td>\n",
       "      <td>2011</td>\n",
       "    </tr>\n",
       "    <tr>\n",
       "      <th>4</th>\n",
       "      <td>4</td>\n",
       "      <td>Canva</td>\n",
       "      <td>40.0</td>\n",
       "      <td>2018-01-08</td>\n",
       "      <td>Australia</td>\n",
       "      <td>Surry Hills</td>\n",
       "      <td>Internet software &amp; services</td>\n",
       "      <td>Sequoia Capital China, Blackbird Ventures, Mat...</td>\n",
       "      <td>1</td>\n",
       "      <td>2018</td>\n",
       "    </tr>\n",
       "  </tbody>\n",
       "</table>\n",
       "</div>"
      ],
      "text/plain": [
       "   Id    Empresa  Valor ($) Data de Adesão           Pais         Cidade  \\\n",
       "0   0  Bytedance      140.0     2017-04-07          China        Beijing   \n",
       "1   1     SpaceX      100.3     2012-12-01  United States      Hawthorne   \n",
       "2   2     Stripe       95.0     2014-01-23  United States  San Francisco   \n",
       "3   3     Klarna       45.6     2011-12-12         Sweden      Stockholm   \n",
       "4   4      Canva       40.0     2018-01-08      Australia    Surry Hills   \n",
       "\n",
       "                          Setor  \\\n",
       "0       Artificial intelligence   \n",
       "1                         Other   \n",
       "2                       Fintech   \n",
       "3                       Fintech   \n",
       "4  Internet software & services   \n",
       "\n",
       "                                        Investidores  Mes   Ano  \n",
       "0  Sequoia Capital China, SIG Asia Investments, S...    4  2017  \n",
       "1  Founders Fund, Draper Fisher Jurvetson, Rothen...   12  2012  \n",
       "2        Khosla Ventures, LowercaseCapital, capitalG    1  2014  \n",
       "3  Institutional Venture Partners, Sequoia Capita...   12  2011  \n",
       "4  Sequoia Capital China, Blackbird Ventures, Mat...    1  2018  "
      ]
     },
     "execution_count": 21,
     "metadata": {},
     "output_type": "execute_result"
    }
   ],
   "source": [
    "# Transformando a coluna Valor\n",
    "\n",
    "base_dados[\"Valor ($)\"] = pd.to_numeric( base_dados[\"Valor ($)\"].apply( lambda Linha: Linha.replace(\"$\", \"\") ) )\n",
    "\n",
    "base_dados.head()"
   ]
  },
  {
   "cell_type": "code",
   "execution_count": 22,
   "id": "a487cee8-be1c-4c90-9519-93cb77d3d5a0",
   "metadata": {},
   "outputs": [
    {
     "data": {
      "text/html": [
       "<div>\n",
       "<style scoped>\n",
       "    .dataframe tbody tr th:only-of-type {\n",
       "        vertical-align: middle;\n",
       "    }\n",
       "\n",
       "    .dataframe tbody tr th {\n",
       "        vertical-align: top;\n",
       "    }\n",
       "\n",
       "    .dataframe thead th {\n",
       "        text-align: right;\n",
       "    }\n",
       "</style>\n",
       "<table border=\"1\" class=\"dataframe\">\n",
       "  <thead>\n",
       "    <tr style=\"text-align: right;\">\n",
       "      <th></th>\n",
       "      <th>Pais</th>\n",
       "      <th>Valor ($)</th>\n",
       "    </tr>\n",
       "  </thead>\n",
       "  <tbody>\n",
       "    <tr>\n",
       "      <th>0</th>\n",
       "      <td>Argentina</td>\n",
       "      <td>2.45</td>\n",
       "    </tr>\n",
       "    <tr>\n",
       "      <th>1</th>\n",
       "      <td>Australia</td>\n",
       "      <td>50.60</td>\n",
       "    </tr>\n",
       "    <tr>\n",
       "      <th>2</th>\n",
       "      <td>Austria</td>\n",
       "      <td>5.81</td>\n",
       "    </tr>\n",
       "    <tr>\n",
       "      <th>3</th>\n",
       "      <td>Belgium</td>\n",
       "      <td>7.55</td>\n",
       "    </tr>\n",
       "    <tr>\n",
       "      <th>4</th>\n",
       "      <td>Bermuda</td>\n",
       "      <td>1.60</td>\n",
       "    </tr>\n",
       "  </tbody>\n",
       "</table>\n",
       "</div>"
      ],
      "text/plain": [
       "        Pais  Valor ($)\n",
       "0  Argentina       2.45\n",
       "1  Australia      50.60\n",
       "2    Austria       5.81\n",
       "3    Belgium       7.55\n",
       "4    Bermuda       1.60"
      ]
     },
     "execution_count": 22,
     "metadata": {},
     "output_type": "execute_result"
    }
   ],
   "source": [
    "# Tabela Analítica\n",
    "\n",
    "Analise_Pais = base_dados.groupby( by=[\"Pais\"] ).sum()[\"Valor ($)\"].reset_index()\n",
    "\n",
    "Analise_Pais.head()"
   ]
  },
  {
   "cell_type": "code",
   "execution_count": 23,
   "id": "f3b4f5b3-ce5e-40c1-b60e-bb3a11c90d93",
   "metadata": {},
   "outputs": [
    {
     "data": {
      "text/html": [
       "<div>\n",
       "<style scoped>\n",
       "    .dataframe tbody tr th:only-of-type {\n",
       "        vertical-align: middle;\n",
       "    }\n",
       "\n",
       "    .dataframe tbody tr th {\n",
       "        vertical-align: top;\n",
       "    }\n",
       "\n",
       "    .dataframe thead th {\n",
       "        text-align: right;\n",
       "    }\n",
       "</style>\n",
       "<table border=\"1\" class=\"dataframe\">\n",
       "  <thead>\n",
       "    <tr style=\"text-align: right;\">\n",
       "      <th></th>\n",
       "      <th>Pais</th>\n",
       "      <th>Valor ($)</th>\n",
       "    </tr>\n",
       "  </thead>\n",
       "  <tbody>\n",
       "    <tr>\n",
       "      <th>44</th>\n",
       "      <td>United States</td>\n",
       "      <td>1604.03</td>\n",
       "    </tr>\n",
       "    <tr>\n",
       "      <th>8</th>\n",
       "      <td>China</td>\n",
       "      <td>569.48</td>\n",
       "    </tr>\n",
       "    <tr>\n",
       "      <th>43</th>\n",
       "      <td>United Kingdom</td>\n",
       "      <td>150.29</td>\n",
       "    </tr>\n",
       "    <tr>\n",
       "      <th>18</th>\n",
       "      <td>India</td>\n",
       "      <td>148.45</td>\n",
       "    </tr>\n",
       "    <tr>\n",
       "      <th>16</th>\n",
       "      <td>Germany</td>\n",
       "      <td>66.63</td>\n",
       "    </tr>\n",
       "  </tbody>\n",
       "</table>\n",
       "</div>"
      ],
      "text/plain": [
       "              Pais  Valor ($)\n",
       "44   United States    1604.03\n",
       "8            China     569.48\n",
       "43  United Kingdom     150.29\n",
       "18           India     148.45\n",
       "16         Germany      66.63"
      ]
     },
     "execution_count": 23,
     "metadata": {},
     "output_type": "execute_result"
    }
   ],
   "source": [
    "Analise_Valor = Analise_Pais.sort_values(\"Valor ($)\", ascending=False)\n",
    "Analise_Valor.head()"
   ]
  },
  {
   "cell_type": "code",
   "execution_count": 26,
   "id": "f38e2099-68b6-4acb-b23b-1b809c010f1f",
   "metadata": {},
   "outputs": [
    {
     "data": {
      "image/png": "[encoded data removed]",
      "text/plain": [
       "<Figure size 1080x432 with 1 Axes>"
      ]
     },
     "metadata": {
      "needs_background": "light"
     },
     "output_type": "display_data"
    }
   ],
   "source": [
    "plt.figure( figsize=(15,6) )\n",
    "plt.plot( Analise_Valor[\"Pais\"], Analise_Valor[\"Valor ($)\"] )\n",
    "plt.title(\"Análise do Valor por País\")\n",
    "plt.xticks( rotation=45, ha=\"right\");"
   ]
  }
 ],
 "metadata": {
  "kernelspec": {
   "display_name": "Python 3",
   "language": "python",
   "name": "python3"
  },
  "language_info": {
   "codemirror_mode": {
    "name": "ipython",
    "version": 3
   },
   "file_extension": ".py",
   "mimetype": "text/x-python",
   "name": "python",
   "nbconvert_exporter": "python",
   "pygments_lexer": "ipython3",
   "version": "3.9.5"
  }
 },
 "nbformat": 4,
 "nbformat_minor": 5
}
