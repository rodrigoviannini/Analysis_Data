{
  "nbformat": 4,
  "nbformat_minor": 0,
  "metadata": {
    "colab": {
      "provenance": [],
      "authorship_tag": "ABX9TyNi5ejE4+zW8d0BBBzCb2eD",
      "include_colab_link": true
    },
    "kernelspec": {
      "name": "python3",
      "display_name": "Python 3"
    },
    "language_info": {
      "name": "python"
    }
  },
  "cells": [
    {
      "cell_type": "markdown",
      "metadata": {
        "id": "view-in-github",
        "colab_type": "text"
      },
      "source": [
        "<a href=\"https://colab.research.google.com/github/rodrigoviannini/Analysis_Data/blob/main/text_file_verification.ipynb\" target=\"_parent\"><img src=\"https://colab.research.google.com/assets/colab-badge.svg\" alt=\"Open In Colab\"/></a>"
      ]
    },
    {
      "cell_type": "markdown",
      "source": [
        "CONECTION GOOGLE DRIVE"
      ],
      "metadata": {
        "id": "OasNbI_QcEEs"
      }
    },
    {
      "cell_type": "code",
      "source": [
        "from google.colab import drive\n",
        "drive.mount('/content/drive', force_remount=True)"
      ],
      "metadata": {
        "colab": {
          "base_uri": "https://localhost:8080/"
        },
        "id": "xJxYCP-YcDrD",
        "outputId": "89cb4597-75de-4ee6-c4fd-230e9a97b99e"
      },
      "execution_count": 1,
      "outputs": [
        {
          "output_type": "stream",
          "name": "stdout",
          "text": [
            "Mounted at /content/drive\n"
          ]
        }
      ]
    },
    {
      "cell_type": "markdown",
      "metadata": {
        "id": "ovhUCXqlfjVd"
      },
      "source": [
        "##OLD OCR"
      ]
    },
    {
      "cell_type": "markdown",
      "metadata": {
        "id": "SMfCl0lXJ3Jy"
      },
      "source": [
        "###SOCIAL CONTRACT"
      ]
    },
    {
      "cell_type": "markdown",
      "metadata": {
        "id": "7RWsfs7gJ3Jy"
      },
      "source": [
        "UNPACKING"
      ]
    },
    {
      "cell_type": "code",
      "execution_count": 2,
      "metadata": {
        "id": "SbJrq-9kJ3Jz",
        "colab": {
          "base_uri": "https://localhost:8080/"
        },
        "outputId": "51953106-7c20-40b1-d1b7-c914c1be4b3a"
      },
      "outputs": [
        {
          "output_type": "stream",
          "name": "stdout",
          "text": [
            "Archive:  /content/drive/MyDrive/contextus/images/old_ocr/CONTRATO_SOCIAL.zip\n",
            "replace CONTRATO_SOCIAL/neo_contrato_social_0.txt? [y]es, [n]o, [A]ll, [N]one, [r]ename: "
          ]
        }
      ],
      "source": [
        "!unzip /content/drive/MyDrive/contextus/images/old_ocr/CONTRATO_SOCIAL.zip"
      ]
    },
    {
      "cell_type": "markdown",
      "metadata": {
        "id": "C4D9Wh8JJ3Jz"
      },
      "source": [
        "ORGANIZATION OF TEXT FILES"
      ]
    },
    {
      "cell_type": "code",
      "execution_count": 3,
      "metadata": {
        "id": "wR8UpSEGJ3Jz"
      },
      "outputs": [],
      "source": [
        "import os    \n",
        "\n",
        "#lista apenas os arquivos txt da pasta\n",
        "pasta0 = \"/content/CONTRATO_SOCIAL\"\n",
        "caminhos0 = [os.path.join(pasta0, nome) for nome in os.listdir(pasta0)]\n",
        "arquivos0 = [arq for arq in caminhos0 if os.path.isfile(arq)]    \n",
        "arquivos_txt0 = [arq for arq in arquivos0 if arq.lower().endswith(\".txt\")]\n",
        "\n",
        "#cria uma lista para armazenar as saídas\n",
        "saida0 = []\n",
        "idx0 = []    \n",
        "\n",
        "cont = 0\n",
        "#percorre os arquivos\n",
        "for idx, arq in enumerate(arquivos_txt0):    \n",
        "    #abre o arquivo \n",
        "    with open(arq) as f:\n",
        "        linhas = f.readlines()\n",
        "        cont += idx\n",
        "\n",
        "    #guarda na lista de saida  \n",
        "    saida0.append(linhas)\n",
        "    idx0.append(idx)\n",
        "\n",
        "\n",
        "# #grava a lista em um novo arquivo\n",
        "# arq_saida = open('/arquivo_saida.txt', 'w')\n",
        "# arq_saida.writelines(saida)\n",
        "# arq_saida.close()"
      ]
    },
    {
      "cell_type": "code",
      "execution_count": 4,
      "metadata": {
        "id": "zylE6tlJJ3Jz",
        "colab": {
          "base_uri": "https://localhost:8080/"
        },
        "outputId": "76e605e4-c8f4-4372-a224-a352c7776575"
      },
      "outputs": [
        {
          "output_type": "stream",
          "name": "stdout",
          "text": [
            "[[\"DUCESP, JUCESP PROTOCOLO 0.175.643/18-0 S[P 02 03 18 T MINII MINERAÇÃO GRANDES LAGOS LTDA. NIRE 35.215.468.529 CNPJ N.° 02.894.169/0001-68 21A ALTERAÇÃO DE CONTRATO SOCIAL MAURO ANDRÉ SCAMATTI, BRASILEIRO, NATURAL DE FERNANDOPOLIS, ESTADO DE SÃO PAULO, NASCIDO EM 31/05/1962, PORTADOR DA CÉDULA DE IDENTIDADE RG N° 12.145.563-4-SSP/SP EXPEDIDA EM 01/06/1998 E CPF N° 055.165.228-46, CASADO SOB O REGIME DE COMUNHÃO UNIVERSAL DE BENS, INDUSTRIAL, RESIDENTE E DOMICILIADO À RUA BANIA N° 4.028, BAIRRO PATRIMÔNIO NOVO, CIDADE DE VOTUPORANGA, ESTADO DE SÃO PAULO, CEP 15.500-005; EDSON SCAMATTI, BRASILEIRO, NATURAL DA FERNANDÓPOLIS, ESTADO DE SÃO PAULO, NASCIDO EM 24/05/1958, PORTADOR DA CARTEIRA DE IDENTIDADE RG N° 9.329.708 SSP/SP EXPEDIDA EM 07/08/1985 E CPF N°, 040.668.138-44, CASADO SOB O REGIME DE COMUNHÃO UNIVERSAL DE BENS POSTERIORMENTE À LEI N.° 6.515/77, EMPRESÁRIO E ENGENHEIRO CIVIL, RESIDENTE E DOMICILIADO À RUA URUGUAI, N° 4.520, BAIRRO SAN REMO, CIDADE DE VOTUPORANGA, ESTADO DE SÃO PAULO, CEP 15.502-056; PEDRO SCAMATTI FILHO, BRASILEIRO, NATURAL DA FERNANDÓPOLIS, ESTADO DE SÃO PAULO, NASCIDO EM 26/10/1966, PORTADOR DA CARTEIRA DE IDENTIDADE RG N° 16.100.798 SSP/SP EXPEDIDA EM 19/02/1986 E CPF N° 066.761.788-42, SEPARADO JUDICIALMENTE, EMPRESÁRIO, RESIDENTE E DOMICILIADO À RUA DAS BANDEIRAS, N° 4.420, VILA SÃO VICENTE, CIDADE DE VOTUPORANGA, ESTADO DE SÃO PAULO, CEP 15.500-117; E DORIVAL REMEDI SCAMATTI, BRASILEIRO, NATURAL DE FERNANDÓPOLIS, ESTADO DE SÃO PAULO, NASCIDO EM 02/02/1957, PORTADOR DA CARTEIRA DE IDENTIDADE RG N° 8.762.324-SSP/SP EXPEDIDA EM 10/09/1986 E CPF N° 785.278.568-91, DIVORCIADO, EMPRESÁRIO, RESIDENTE E DOMICILIADO À RUA SERGIPE, N° 3985, BAIRRO PATRIMÔNIO VELHO, CIDADE DE VOTUPORANGA, ESTADO DE SÃO PAULO, CEP 15.505-160, ÚNICOS SÓCIOS DA SOCIEDADE EMPRESÁRIA LIMITADA DENOMINADA: MINERAÇÃO GRANDES LAGOS LTDA. COM SEDE SOCIAL À VICINAL TRÊS FRONTEIRAS A PALMEIRA D'OESTE, KM 06, S/N°, ZONA RURAL, NO MUNICÍPIO DE TRÊS FRONTEIRAS, ESTADO DE SÃO PAULO, CEP 15770-000, REGISTRADA NA JUNTA COMERCIAL DO ESTADO DE SÃO PAULO SOB NIRE 35.215.468.529, EM SESSÃO DE 08 DE DEZEMBRO DE 1998, E ÚLTIMA ALTERAÇÃO SOB OʻN° 480.783/15-9, EM SESSÃO DE 23/10/2015, INSCRITA N CNPJ 1 \"], [\"JUCE JUCESP PROTOCOLO SIP 0.585.474/19-9 12 06 19 PAGUE MENOS COMÉRCIO DE PRODUTOS ALIMENTÍCIOS LTDA NIRE: 35.208.597.131 CNPJ N° 60.494.416/0001-35 ALTERAÇÃ O CONTRATUAL ALTERAÇÃO N° 38 1. ANTONIO LUIZ SANTICHIO, BRASILEIRO, CASADO PELO REGIME DA COMUNHÃO DE BENS, EMPRESÁRIO, PORTADOR DA CÉDULA DE IDENTIDADE RG. N° 8.482.045-7 - SSP/SP E DO CPF. N° 736.325.038-34, COM DOMICILIO RESIDENCIAL À RUA CUBA, N° 1205, CASA 07, NO BAIRRO SANTO ANTONIO, CEP. 13.465-773, EM AMERICANA, ESTADO DE SÃO PAULO; 2. JOÃO CARLOS SANTICHIO, BRASILEIRO, CASADO PELO REGIME DA COMUNHÃO PARCIAL DE BENS, EMPRESÁRIO, PORTADOR DA CÉDULA DE IDENTIDADE RG. N° 8.860.868-2 SSP/SP E DO CPF. N° 925.740.258-49, COM DOMICILIO RESIDENCIAL À RUA CUBA, N° 1205, CASA 06, NO BAIRRO SANTO ANTONIO, CEP. 13.465-773, EM AMERICANA, ESTADO DE SÃO PAULO; 3. FRANCISCO LAERTE SANTICHIO, BRASILEIRO, SOLTEIRO, MAIOR, EMPRESÁRIO, PORTADOR DA CÉDULA DE IDENTIDADE RG. N° 15.122.267-8 - SSP/SP E DO CPF. N° 044.418.668-95, COM DOMICILIO RESIDENCIAL À RUA CUBA, N° 1205, CASA 05, NO BAIRRO SANTO ANTONIO, CEP. 13.465-773, EM AMERICANA, ESTADO DE SÃO PAULO; | 4. INEZ SANTICCHIO, BRASILEIRA, CASADA PELO REGIME DA COMUNHÃO PARCIAL DE BENS, EMPRESÁRIA, PORTADORA DA CÉDULA DE IDENTIDADE RG. N° 19.703.716 – SSP/SP E DO CPF. Nº 139.416.468-85, COM DOMICILIO RESIDENÇIAL À RUA CUBA, N° 1205, CASA 06, NO BAIRRO SANTO ANTONIO, CEP. 13.465-773, EM AMERICANA, ESTADO DE SÃO PAULO; ÚNICOS SÓCIOS COMPONENTES DA SOCIEDADE EMPRESÁRIA LIMITADA DENOMINADA PAGUE MENOS COMÉRCIO DE PRODUTOS ALIMENTÍCIOS LTDA SITUADA NA AVENIDA DA AMIZADE, N° 2085, JARDIM EUROPA I, CEP. 13.455-416, EM SANTA BÁRBARA D'OESTE, ESTADO DE SÃO PAULO; INSCRITA NO CNPJ N° 60.494.416/0001- \"], ['CESA 1700 16 CORTTEX INDÚSTRIA TEXTIL LTDA NIRE: 3520091609-1 CNPJ (MF) – 48.606.503/0001-31 INSTRUMENTO PARTICULAR N°.43 ALTERAÇÃO CONTRATUAL COM ALTERAÇÃO DO NOME EMPRESARIAL, OBJETIVO SOCIAL, ABERTURA DE FILIAL EM SC, CORREÇÃO ENDEREÇO FILIAL MS E SP E CONSOLIDAÇÃO DO CONTRATO SOCIAL PELO PRESENTE INSTRUMENTO PARTICULAR AS PARTES: WALTIER GALASSI, BRASILEIRO, CASADO, DIRETOR DE EMPRESAS, PORTADOR DA CÉDULA DE IDENTIDADE RG N° 8.804.778-7 SSP/SP E DO CPF/MF N° 031.800.508-53, RESIDENTE E DOMICILIADO À RUA DOIS N° 26 - IATE CLUBE DE AMERICANA, CIDADE DE AMERICANA | ESTADO DE SÃO PAULO, CEP:13475-172%3; ROBERTO JOSÉ FAÉ, BRASILEIRO, CASADO, DIRETOR DE EMPRESAS, PORTADOR DA CÉDULA DE IDENTIDADE RG N° 4.747.679-5 SSP/SP E DO CPF/MF N° 199.545.908-97, RESIDENTE E DOMICILIADO À AVENIDA COMENDADOR THOMAZ FORTUNATO, N° 1.935 – BAIRRO CHÁCARA LETÔNIA – NO MUNICIPIO DE AMERICANA/SP, CEP. 13.475-010; 1 '], ['7° INSTRUMENTO PARTICULAR DE ALTERAÇÃO CONTRATUAL, E, 6. CONSOLIDAÇÃO DO CONTRATO SOCIAL DE SOCIEDADE LIMITADA CERÂMICA TREVO LTDA JUCESP PROTOCOLO 0.589.845/19-6 NIRE: 35.210.114.176 C.N.P.J.: 65.901.464/0001-14 PELO PRESENTE INSTRUMENTO, E NOS MELHORES TERMOS DE DIREITO, OS ABAIXO ASSINADOS: CARLOS ALBERTO GIANFRANCESCO, BRASILEIRO, CASADO SOB O REGIME DE COMUNHÃO DE BENS, NASCIDO EM 31/07/1951, NATURAL DE JUNDIAL / SP, EMPRESÁRIO, PORTADOR DA C. IDENTIDADE RG N.° 4.689.545-SSP-SP E DO CPF N.° 773.781.998-34, RESIDENTE E DOMICILIADO À AVENIDA RUY RODRIGUES, N° 4.101, PARQUE UNIVERSITÁRIO, CAMPINAS / SP, CEP: 13.056-600; JOSÉ BARBOSA DE BARROS, BRASILEIRO, CASADO SOB O REGIME DE COMUNHÃO DE BENS, NASCIDO EM 24/11/1949, NATURAL DE GETUTINA / SP, EMPRESÁRIO, PORTADOR DA C. IDENTIDADE RG N.° 5,382.150-SSP- SP E DO CPF N.° 720.826.588-72, RESIDENTE E DOMICILIADO NA RUA ORLANDO DE OLIVEIRA N.° 883, JARDIM CAMPINEIRO, CAMPINAS, ESTADO DE SÃO PAULO, CEP: 13082-205; E MARCO ANTONIO CANTARIM, BRASILEIRO, CASADO SOB O REGIME DE COMUNHÃO PARCIAL DE BENS, NASCIDO EM 05/01/1966, NATURAL DE JUNDIAÍ / SP, GERENTE ADMINISTRATIVO, PORTADOR DA C. IDENTIDADE RG N.° 18.674.816-4-SSP-SP E DO CPF N.° 068.417.148-14, RESIDENTE E DOMICILIADO NA RUA PROFESSOR ACÁCIO VIEIRA DE CAMARGO, N.° 420, PARQUE RESIDENCIAL COLINA DAS ESTRELAS, TATUÍ, ESTADO DE SÄO PAULO, CEP: 18.273-68%3; ROGERIO FERNANDO CANTARIM, BRASILEIRO, CASADO SOB O REGIME DE COMUNHÃO PARCIAL DE BENS, NASCIDO EM 13/10/1968, NATURAL DE JUNDIAÍ / SP, EMPRESÁRIO, PORTADOR DA C. IDENTIDADE RG N.° 20.529.701-8-SSP-SP E DO CPF N.° 102.690,638-54, RESIDENTE E DOMICILIADO NA RUA TUPINIQUINS, N.° 175, CONDOMÍNIO VILLAGE DE INSAIÁ, VIA MARIA HELENA, INDAIATUBA, ESTADO DE SÃO PAULO, CEP: 13.335- 540; B. 1 '], ['XXIV ALTERAÇÃO CONTRATUAL E CONSOLIDAÇÃO DO CONTRATO SOCIAL DO IDADE) SIP JUCESF 10 JUCESP PROTOCOLO 2.084.658/19-6 AU0106AH0079912 11 AUTENTICAÇẤD 118059 SECÃO SÃO PAUL NB SP REGISTROCIVIL DAS S00STRRO DE JA UA EHAS KRAIDE 113 JD. S VE DO BRASIL COLÉGIO NOTARIAL JD. SILVEIRA, NATURAIS TABAO LVERA BARUERI SP TEL 4194-0657 15 OUT 19 AUTENTICO A PRE A0 CRIGENAL BELC XXIV ALTERAÇÃO CONTRATUAL E CONSOLIDAÇÃO DO CONTRATO SOCIAL DO HOSPITALIS NÚCLEO HOSPITALAR DE BARUERI LTDA NTICADADE). DE CA CONORME DO QUE DOUTE OHEID ABEIA INSTRUMENTO PARTICULAR CNIEUTORIZDA FONTE AUTNZADO CACÃO RS 3.58 CNPJ - 59.042.622/0001-25 NIRE -35.213.340.487 PELO PRESENTE INSTRUMENTO, OS SÓCIOS - ADMINISTRADORES: 1°) - ARY FUJIHARA – BRASILEIRO, MAIOR, CASADO EM REGIME DE SEPARAÇÃO TOTAL DE BENS, ATRAVÉS DO PACTO - ANTENUPCIAL, DEVIDAMENTE REGISTRADO NO CARTÓRIO DE REGISTRO DE IMÓVEIS E ANEXOS DA COMARCA DE ITU; SOB N.° 004272, MÉDICO, INSCRITO NO CRM-SP SOB O N.° 35.449, NATURAL DE ARAÇATUBA SP, NASCIDO EM 28/04/1954, PORTADOR DA CÉDULA DE IDENTIDADE RG N.° 5.859.122-9 SSP-SP EXPEDIDO EM 09/04/2015 E DO CPF/MF N.° 965.881.608-87, DOMICILIADO À RUA CAMPOS SALES, N. 1160, BAIRRO VILA BOA VISTA, CEP- 06411-150, MUNICÍPIO DE BARUERI - ESTADO DE SÃO PAULO. 2°) - JORGE FUJIHARA - BRASILEIRO, MAIOR, CASADO EM REGIME DE SEPARAÇÃO TOTAL DE BENS, COM PACTO-ANTENUPCIAL, DEVIDAMENTE REGISTRADO NO REGISTRO CIVIL E TABELIONATO DE NOTAS DE SANTANA DE PARNAÍBA - COMARCA DE BARUERI - SP, SOB N.° 5051,MÉDICO INSCRITO NO CRM-SP SOB O N.° 37.383, NATURAL DE ARAÇATUBA, SP, NASCIDO EM 11/06/1955, PORTADOR DA CÉDULA DE IDENTIDADE RG N.° 6.815.722-8 SSP-SP, EXPEDIDO EM 27/11/2011 E DO CPF/MF N.° 985.624.798-53, RESIDENTE E DOMICILIADO À ALAMEDA ARARI, N.° 228, BAIRRO RESIDENCIAL MORADA DOS LAGOS, CEP- 06429-275, MUNICÍPIO DE BARUERI - ESTADO DE SÃO PAULO. 3°) - LARISSA AGOSTINI FUJIHARA, BRASILEIRA, MAIOR, SOLTEIRA, EMPRESÁRIA, PORTADORA DA CÉDULA DE IDENTIDADE RG SOB N° 35.467.310-5, SSP-SP E DO CPF-MF SOB N° 388.361.218-96, RESIDENTE E DOMICILIADA À ALAMEDA LAÇO DE FITA, 28, TERRAS DE SÃO JOSÉ, CEP: 13306-530, MUNICÍPIO DE ITU-ESTADO DE SÃO PAULO. 4°) - BEATRIZ FUJIHARA, BRASILEIRA, MAIOR, SOLTEIRA, ESTUDANTE, PORTADORA DO RG N° 52.494.831-8 - SSP/SP E INSCRITA NO CPF SOB N° 471.242.498-21, RESIDENTE E DOMICILIADA À ALAMEDA ARARI, N.° 228, BAIRRO RESIDENCIAL MORADA DOS LAGOS, CEP- 06429-275, MUNICIPIO DE BARUERI - ESTADO DE SÃO PAULO UNICOS SÓCIOS COMPONENTES DA SOCIEDADE EMPRESÁRIA HOSPITALIS - NÚCLEO HOSPITALAR DE BARUERI LTDA, COM SEDE SOCIAL SITO À RUA CAMPOS SALES, N.°1.160, VILA BOA VISTA, CEP- 06411-150, BARUERI, SP, E OITOFILIAIS, A PRIMEIRA SITUADA NA RUA ANDRÉ VIDAL DE NEGREIROS, 276, CENTRO, CEP - 06600-140, JANDIRA, ESTADO DE SÃO PAULO, CNPJ/MF SOB N° 59.042.622/0002-06, A SEGUNDA SITUADA NA AVENIDA TÂMARA, 273, FUNDOS, CEP 0.6320-020, CARAPICUÍBA, ESTADO DE SÃO PAULO, COM CNPJ/MF SOB. N° 59.042.622/0003-97, A TERCEIRA SITUADA À AVENIDA TENENTE MARQUES, 3.825, PORTAL DOS IPĒS I, POLVILHO, CEP 07791-600, CAJAMAR, ESTADO DE SÃO PAULO, CNPJ/MF SOB. N° 59.042.622/0007-10 A SÉTIMA FILIAL SITUADA À RUA ESCOLÁSTICA CHALUPPE, 30, CENTRO, CEP: 06653-050, ITAPEVI, ESTADO DE SÃO PAULO, COM CNPJ/MF. N° 59.042.622/0008-00, E A OITAVA FILIAL SITUADA A AVENIDA PRESIDENTE MÉDICI, 1 59.042.622/0004-78, A QUARTA FILIAL SITUADA À RUA VERA, 379, PARQUE DOS CAMARGOS, CEP 06436-020, BARUERI, S.P., COM CNPJ/MF. SOB. N° 59.042.622/0005-59, A QUINTA FILIAL SITUADA À RUA DOM FELICIANO, 140, JARDIM MUTINGA, CEP 06463-230, BARUERI, S.P., COM CNPJ/MF. N° 59.042.622/0006-30, A SEXTA FILIAL SITUADA À AVENIDA INOCÊNCIO SERÁFICO, 2380, BAIRRO VILA SILVA RIBEIRO, CEP: 06380-021, CARAPICUÍBA, ESTADO DE SÃO PAULO, COM CNPJ/MF. N° T. 63 ALIANÇA, CEP 06268-000, OSASCO SP, COM CNPJ/MF N° 59.042.622/0009-82COM SEU ATO CONSTITUTIVO 192.168.2.2 HOSPITALIS '], ['CESA 1700 16 CORTTEX INDÚSTRIA TEXTIL LTDA NIRE: 3520091609-1 CNPJ (MF) – 48.606.503/0001-31 INSTRUMENTO PARTICULAR N°.43 ALTERAÇÃO CONTRATUAL COM ALTERAÇÃO DO NOME EMPRESARIAL, OBJETIVO SOCIAL, ABERTURA DE FILIAL EM SC, CORREÇÃO ENDEREÇO FILIAL MS E SP E CONSOLIDAÇÃO DO CONTRATO SOCIAL PELO PRESENTE INSTRUMENTO PARTICULAR AS PARTES: WALTIER GALASSI, BRASILEIRO, CASADO, DIRETOR DE EMPRESAS, PORTADOR DA CÉDULA DE IDENTIDADE RG N° 8.804.778-7 SSP/SP E DO CPF/MF N° 031.800.508-53, RESIDENTE E DOMICILIADO À RUA DOIS N° 26 - IATE CLUBE DE AMERICANA, CIDADE DE AMERICANA | ESTADO DE SÃO PAULO, CEP:13475-172%3; ROBERTO JOSÉ FAÉ, BRASILEIRO, CASADO, DIRETOR DE EMPRESAS, PORTADOR DA CÉDULA DE IDENTIDADE RG N° 4.747.679-5 SSP/SP E DO CPF/MF N° 199.545.908-97, RESIDENTE E DOMICILIADO À AVENIDA COMENDADOR THOMAZ FORTUNATO, N° 1.935 – BAIRRO CHÁCARA LETÔNIA – NO MUNICIPIO DE AMERICANA/SP, CEP. 13.475-010; 1 '], ['ALTERAÇÃO CONTRATUAL DE SOCIEDADE EMPRESÁRIA SOB A FORMA DE LIMITADA PLASBAS - INDÚSTRIA E COMÉRCIO DE PLÁSTICOS LTDA OS ABAIXO ASSINADOS: 1) TATIANE BASTELLI BORGIA, BRASILEIRA, CASADA NO REGIME SEPARAÇÃO TOTAL DE BENS, EMPRESÁRIA, RESIDENTE E DOMICILIADA EM LIMEIRA, ESTADO DE SÃO PAULO, NA RUA PADRE ELIAS FADUL, 850, CASA 20, JARDIM MONTEZUMA, CEP 13.480-357, PORTADORA DA CÉDULA DE IDENTIDADE R.G. N°. 41.134.344-0-SSP-SP, EXPEDIDA PELA SECRETARIA DE SEGURANÇA PUBLICA DE SÃO PAULO, E INSCRITA NO C.P.F. SOB O N°. 334.727.488-18%3B OV 2 2) REINALDO APARECIDO BASTELLI JUNIOR, BRASILEIRO, CASADO, EMPRESÁRIO, INSCRITO NO CPF/MF SOB N°. 220.523.688-17, PORTADOR DA CÉDULA DE IDENTIDADE RG N°. 29.851.138-1-SSP-SP, EXPEDIDA PELA SECRETARIA DE SEGURANÇA PUBLICA DE SÃO PAULO, RESIDENTE E DOMICILIADO EM LIMEIRA, ESTADO DE SÃO PAULO, NA RUA SANTA CRUZ, 1070, APTO 62, CENTRO, CEP 13.480-041%; 3) REINALDO APARECIDO BASTELLI, BRASILEIRO, CASADO, EMPRESÁRIO, RESIDENTE E DOMICILIADO EM LIMEIRA, ESTADO DE SÃO PAULO, À VIA TOSCANA, 205, VILLA SAN MARINO, PORTADOR DA CÉDULA DE IDENTIDADE R.G. N° 6.492.631-SP, EXPEDIDA PELA SECRETARIA DE SEGURANÇA PUBLICA DE SÃO PAULO, INSCRITO NO C.P.F. N° 305.144.368-913; ÚNICOS SÓCIOS COMPONENTES DA SOCIEDADE EMPRESÁRIA, SOB O TIPO JURÍDICO DE SOCIEDADE LIMITADA, QUE GIRA NESTA PRAÇA SOB A DENOMINAÇÃO SOCIAL: PLASBAS - INDÚSTRIA E COMÉRCIO DE PLÁSTICOS LTDA, COM SEDE NA CIDADE DE LIMEIRA, ESTADO DE SÃO PAULO, NA RUA MARQUES GUILLHERME MARCONI, 100, DOS PIRES, CEP 13.486-333, CUJO CONTRATO SOCIAL DEVIDAMENTE ARQUIVADO NA JUNTA COMERCIAL DO ESTADO DE SÃO PAULO JUCESP SOB O N.° 35.226.832.472 EM SESSÃO DO DIA 22/08/2012, INSCRITA NO C.N.P.J. SOB O N° 17.199.991.0001-86; RESOLVEM ALTERAR O MENCIONADO CONTRATO SOCIAL, NAS SEGUINTES CLÁUSULAS E CONDIÇÕES: I RETIRA-SE DA SOCIEDADE NESTE ATO, O SÓCIO REINALDO APARECIDO BASTELLI, CEDENDO E TRANSFERINDO A TOTALIDADE DE SUAS COTAS DA SEGUINTE FORMA: A) PARA A SÓCIA TATIANE BASTELLI BORGIA, CEDE E TRANSFERE 16.667 (DEZESSEIS MIL SEISCENTOS E SESSENTA E SETE) QUOTAS; PELO VALOR CERTO E AJUSTADO DE R$ 16.667,00 (DEZESSEIS MIL SEISCENTOS E SESSENTA E SETE REAIS); QUE O CEDENTE RECEBE NESTE ATO, EM MOEDA CORRENTE NACIONAL, DANDO A MAIS PLENA, GERAL E IRREVOGÁVEL QUITAÇÃO. B) PARA O SÓCIO REINALDO APARECIDO BASTELLI JUNIOR, CEDE E TRANSFERE 16.667 (DEZESSEIS MIL SEISCENTOS E SESSENTA E SETE) QUOTAS; PELO VALOR CERTO E AJUSTADO DE R$ 16.667,00 (DEZESSEIS MIL SEISCENTOS E SESSENTA E SETE REAIS); QUE O CEDENTE RECEBE NESTE ATO, EM MOEDA CORRENTE NACIONAL, DANDO A MAIS PLENA, GERAL E IRREVOGÁVEL QUITAÇÃO. 1 SEM EFEITO '], ['JUCESP PROTOCOLO JUCESP 2.266.926/19-6 128 16 101219 SEXTA ALTERAÇÃO E CONSOLIDAÇÃO DO CONTRATO SOCIAL DE DELTA INDÚSTRIA CERÂMICA LTDA. CNPJ/MF N° 47.595.863/0001-12 NIRE N° 35.204.579.014 DELTA ADMINISTRAÇÃO E PARTICIPAÇÕES LTDA., SOCIEDADE EMPRESÁRIA, INSCRITA NO CNPJ N° 73.166.175/0001-47, NIRE 35212013440, COM SEDE NA RUA 9, CJ 500 – SALA 08, BAIRRO CIDADE JARDIM, CEP 13.501-100, RIO CLARO/SP, REPRESENTADA LEGALMENTE POR LUIZ ORTIGOSA; LUIZ ORTIGOSA, BRASILEIRO, CASADO SOB O REGIME DE COMUNHÃO PARCIAL DE BENS, ENGENHEIRO CIVIL, PORTADOR DA CARTEIRA DE IDENTIDADE TIPO RG NO. 3.656.170-8 SSP/SP E DO CPF/MF NO. 437.582.828-53, RESIDENTE E DOMICILIADO NA ALAMEDA JAÚ, NO. 1.477, APARTAMENTO 151-A, JARDINS, CEP 01420-002, SÃO PAULO/SP; CONCEIÇÃO APARECIDA PASTORI ORTIGOSA, BRASILEIRA, CASADA SOB O REGIME DE COMUNHÃO PARCIAL DE BENS, EMPRESÁRIA, PORTADORA DA CARTEIRA DE IDENTIDADE TIPO RG NO. 7.801.448 SSPISP E DO CPF/MF NO. 797.174.038-72, RESIDENTE E DOMICILIADA NA ALAMEDA JAÚ, NO. 1.477, APARTAMENTO 151-A, CEP 01420-002, JARDINS, SÃO PAULO/SP; ÚNICOS SÓCIOS QUOTISTAS DA SOCIEDADE EMPRESÁRIA LIMITADA, QUE GIRA SOB A DENOMINAÇÃO SOCIAL DE DELTA INDÚSTRIA CERÂMICA LTDA, SEDIADA NA CIDADE DE SÃO PAULO, ESTADO DE SÃO PAULO, NA RUA TABAPUÃ N° 145, 6° ANDAR, SALA 69 – ITAIM BIBI – CEP 04533-010, INSCRITA NO CNPJ SOB N° CNPJ/MF N° 47.595.863/0001-12, COM SEUS ATOS CONSTITUTIVOS REGISTRADOS NA JUNTA COMERCIAL DO ESTADO DE SÃO PAULO SOB N° 35.204.579.014 EM SESSÃO DE 16/07/2015, PELO PRESENTE INSTRUMENTO PARTICULAR, RESOLVEM, DE COMUM ACORDO E NA MELHOR FORMA DE DIREITO, PROCEDER À SEGUINTE ALTERAÇÃO NO CONTRATO SOCIAL, A SABER: '], ['JUCESP PROTOCOLO SIP 0.956.870/12-0 CONFECÇÕES CAEDU L CNPJ/MF N° 46.377.727/0001-93 42* ALTERAÇÃO DE CONTRATO SOCIAL E CONSOLIDAÇÃO PELO PRESENTE INSTRUMENTO PARTICULAR E NA MELHOR FORMA DE DIREITO, AS PARTES: 1°) - JOÃO VICENTE DA PALMA, BRASILEIRO, MAIOR, CASADO EM REGIME DE COMUNHÃO PARCIAL DE BENS, COMERCIANTE, PORTADOR DA CÉDULA DE IDENTIDADE RG. 16.118.532-0 SSP/SP E DO CPF. 063.396.908-74, RESIDENTE E DOMICILIADO NESTA CAPITAL NA RUA CANUTO SARAIVA, N° 429, APTO 32G NO BAIRRO DA MOOCA, CEP 03113-010, SP, 2°) - LUCIANO DA PALMA, BRASILEIRO, MAIOR, CASADO SOB O REGIME DE SEPARAÇÃO TOTAL DE BENS, COMERCIANTE, PORTADOR DA CÉDULA DE IDENTIDADE RG. 23.778.355-1 SSP/SP E DO CPF. 168.979.578-60, RESIDENTE E DOMICILIADO NESTA CAPITAL A RUA JOÃO ANTONIO DE OLIVEIRA, N° 1228, BLOCO 1, APTO 54 NO BAIRRO DA MOOCA, CEP 03111-001, SP, E TO 3°) - LUCILENE DA PALMA PEDROSO, BRASILEIRA, MAIOR, CASADA EM REGIME DE COMUNHÃO PARCIAL DE BENS, COMERCIANTE, PORTADORA DA CÉDULA DE IDENTIDADE RG. 25.189.965-2 SSP/SP E DO CPF, 282.528.728-83, RESIDENTE E DOMICILIADA NESTA CAPITAL NA RUA PEDRO DE GODÓI, N° 269, BLOCO A, APTO 73 NO BAIRRO DO PARQUE DA VILA PRUDENTE, CEP 03138-010, SP. QUOTISTAS REPRESENTANDO A TOTALIDADE DO CAPITAL SOCIAL, DA SOCIEDADE EMPRESÁRIA, ORGANIZADA SOB A FORMA LIMITADA, DENOMINADA \"CONFECÇÕES CAEDU LTDA.\", ESTABELECIDA EIN SÃO PAULO, SP, NA RUA BRESSER, N° 1.150 NO BAIRRO DO BRÁS, CEP: 03053-000, INSCRITA NO CADASTRO NACIONAL DA PESSOA JURÍDICA DO MINISTÉRIO DA FAZENDA, SOB O NÚMERO 46.377.727/0001-93, COM CONTRATO SOCIAL DE CONSTITUIÇÃO ARQUIVADO NA JUCESP SOB O N° 755.431/75 EM SESSÃO DE 14 DE JANEIRO DE 1.975, NIRE SOB O N° 35.201.130.067, E POSTERIORES ALTERAÇÕES SENDO A ULTIMA REGISTRADA SOB O N° 161.649/12-9 EM SESSÃO DE 17 DE ABRIL DE 2.012, RESOLVEM ALTERAR E CONSOLIDAR O MENCIONADO CONTRATO SOCIAL, CONFORME AS CLÁUSULAS A SEGUIR INDICADAS. CLÁUSULA PRIMEIRA – DA ABERTURA DA FILIAL EM SÃO PAULO - VILA FORMOSA A EMPRESA RESOLVE NESTE ATO, ABRIR UMA FILIAL NO MUNICÍPIO DE SÃO PAULO, ESTADO DE SÃO PAULO A AVENIDA DR. EDUARDO COTCHING, N° 2.114 NO BAIRRO DA VILA FORMOSA, CEP: 03356-001, EXERCENDO O RAMO DE ATIVIDADE DE COMERCIO VAREJISTA DE ROUPAS, CALÇADOS E ARTIGOS DO VESTUARIO, SENDO ATRIBUÍDO O CAPITAL SOCIAL DE R$ 100.000,00 (CEM MIL REAIS). CLÁUSULA SEGUNDA - DA ABERTURA DA FILIAL EM SÃO PAULO - JARDIMÄNGELA A EMPRESA RESOLVE NESTE ATO, ABRIR UMA FILIAL NO MUNICÍPIO DE SÃO PAULO, ESTADO DE SÃO PAULO A ESTRADA DO M\\'BOI MIRIM, N° 6074 E 6109 NO BAIRRO DO JARDIM ANGELA, CEP: 04948-030, EXERCENDO O RAMO DE ATIVIDADE DE COMERCIO VAREJISTA DE ROUPAS, CALÇADOS E ARTIGOS DO VESTUARIO, SENDO ATRIBUÍDO O CAPITAL SOCIAL DE R$ 100.000,00 (CEM MIL REAIS). CLÁUSULA TERCEIRA - DA ABERTURA DA FILIAL EM HORTOLÂNDIA/SP A EMPRESA RESOLVE NESTE ATO, ABRIR UMA FILIAL NO MUNICÍPIO DE HORTOLÂNDIA, ESTADO DE SÃO PAULO A RUA LUIZ CAMILO DE CAMARGO, N° 873 E 885 NO BAIRRO DO REMANSO CAMPINEIRO, CEP: 13184-420, EXERCENDO O RAMO DE ATIVIDADE DE COMERCIO VAREJISTA DE ROUPAS, CALÇADOS E ARTIGOS DO VESTUARIO, SENDO ATRIBUÍDO O CAPITAL SOCIAL DE R$ 100.000,00 (CEM MIL REAIS). CONTAZUL CONTABILIDADE LTDA. CONTAZUL TELS.: 2291-3130 / 2291-8475/2291816/ 2291-5965 CONTADILIDADE FAX: 2292-3406 E-MAIL: CONTAZUL@CONTAZULCONTABIDADE.COM.BR RUA BRESSER, 662 - V. SIMEONE - CASA 3 - 1.° E 2.° ANDAR - BRÁS - CEP 03017-000 - SÃO PAULO - SP '], ['JUCESP PROTOCOLO SIP 0.819.498/12-9 29 SINGULAR MAGA SÃO JOÃO COMBUSTIVEIS LTDA ALTERAÇÀO CONTRATUAL SOCIEDADE EMPRESÁRIA LIMITADA CNPJ : 09.210.700/0001-85 PELO PRESENTE INSTRUMENTO PARTICULAR, JOÃO BATISTA MAGALHÃES, BRASILEIRO, SOLTEIRO, EMPRESÁRIO, 40 ANOS DE IDADE, NASCIDO NO DIA 21 DO MÊS DE JUNHO DE 1972, PORTADOR DO RG N.° 20.744.429/SSP-SP E CPF N.° 120.499.278-94, RESIDENTE E DOMICILIADO NA RUA FRANCISQUINHO DIAS, N° 534, APARTAMENTO 21, CENTRO, CEP 13720-000, LUCIANO DE OLIVEIRA MAGALHÃES, BRASILEIRO, SEPARADO, EMPRESÁRIO, 37 ANOS DE IDADE, NASCIDO NO DIA 10 DO MÊS DE NOVEMBRO DE 1974, PORTADOR DO RG N° 24.531.549-4/SSP-SP E CPF N° 168.317.888-23, RESIDENTE E DOMICILIADO NA RUA FRANCISQUINHO DIAS, Nº 534, APARTAMENTO 21, CENTRO, CEP 13720-000, AMBOS RESIDENTES E DOMICILIADOS NA CIDADE DE SÃO JOSÉ DO RIO PARDO, ESTADO DE SÃO PAULO E LUCIANA SCACHETTI CICILIATO E ASSIS, BRASILEIRA, CASADA, EMPRESÁRIA, PORLADORA DO RG N° 16.329.217-6/SSP-SP E CPF N° 137.701.768-04, RESIDENTE E DOMICILIADA NA RUA EMILIO GRESPAN, N° 17, RECANTO DAS PAINEIRAS, CEP 13870-265, NA CIDADE DE SÃO JOÃO DA BOA VISTA, ESTADO DE SÃO PAULO, ÚNICOS SÓCIOS COMPONENTES DA SOCIEDADE EMPRESÁRIA LIMITADA QUE GIRA SOB A DENOMINAÇÃO SOCIAL DE LUCIANA SCACHETTI CICILIATO E ASSIS & CIA LTDA, COM SEDE ESTABELECIDA NA RUA MONSENHOR JOÃO RAMALHO N° 430, VILA BRASIL, CEP 13875-035, NA CIDADE DE SÃO JOÃO DA BOA VISTA, ESTADO DE SÃO PAULO, COM CONTRATO SOCIAL DEVIDAMENTE ARQUIVADO NA JUCESP SOB O N.° 35226473235 EM 17-04-2012, RESOLVEM DE COMUM ACORDO ALTERAR O 4 CONTRATO SOCIAL CONFORME CLÁUSULAS ABAIXO : 1 ']]\n"
          ]
        }
      ],
      "source": [
        "print(saida0)"
      ]
    },
    {
      "cell_type": "markdown",
      "metadata": {
        "id": "kwrf7F7aJ3Jz"
      },
      "source": [
        "CREATING A DATAFRAME"
      ]
    },
    {
      "cell_type": "code",
      "source": [
        "import pandas as pd"
      ],
      "metadata": {
        "id": "3POE-0gOOce_"
      },
      "execution_count": 5,
      "outputs": []
    },
    {
      "cell_type": "code",
      "source": [
        "df0 = pd.DataFrame({'number': idx0,\n",
        "                    'file_text': saida0})"
      ],
      "metadata": {
        "id": "02hv4CDgOeCq"
      },
      "execution_count": 6,
      "outputs": []
    },
    {
      "cell_type": "code",
      "source": [
        "df0.head(2)"
      ],
      "metadata": {
        "id": "NVrPfXbVNBR8",
        "outputId": "4b0d6406-2c97-49d5-fe2a-def12bdf5519",
        "colab": {
          "base_uri": "https://localhost:8080/",
          "height": 112
        }
      },
      "execution_count": 7,
      "outputs": [
        {
          "output_type": "execute_result",
          "data": {
            "text/plain": [
              "   number                                          file_text\n",
              "0       0  [DUCESP, JUCESP PROTOCOLO 0.175.643/18-0 S[P 0...\n",
              "1       1  [JUCE JUCESP PROTOCOLO SIP 0.585.474/19-9 12 0..."
            ],
            "text/html": [
              "\n",
              "  <div id=\"df-49251273-ee8b-4fc3-ae82-4b076a514bbc\">\n",
              "    <div class=\"colab-df-container\">\n",
              "      <div>\n",
              "<style scoped>\n",
              "    .dataframe tbody tr th:only-of-type {\n",
              "        vertical-align: middle;\n",
              "    }\n",
              "\n",
              "    .dataframe tbody tr th {\n",
              "        vertical-align: top;\n",
              "    }\n",
              "\n",
              "    .dataframe thead th {\n",
              "        text-align: right;\n",
              "    }\n",
              "</style>\n",
              "<table border=\"1\" class=\"dataframe\">\n",
              "  <thead>\n",
              "    <tr style=\"text-align: right;\">\n",
              "      <th></th>\n",
              "      <th>number</th>\n",
              "      <th>file_text</th>\n",
              "    </tr>\n",
              "  </thead>\n",
              "  <tbody>\n",
              "    <tr>\n",
              "      <th>0</th>\n",
              "      <td>0</td>\n",
              "      <td>[DUCESP, JUCESP PROTOCOLO 0.175.643/18-0 S[P 0...</td>\n",
              "    </tr>\n",
              "    <tr>\n",
              "      <th>1</th>\n",
              "      <td>1</td>\n",
              "      <td>[JUCE JUCESP PROTOCOLO SIP 0.585.474/19-9 12 0...</td>\n",
              "    </tr>\n",
              "  </tbody>\n",
              "</table>\n",
              "</div>\n",
              "      <button class=\"colab-df-convert\" onclick=\"convertToInteractive('df-49251273-ee8b-4fc3-ae82-4b076a514bbc')\"\n",
              "              title=\"Convert this dataframe to an interactive table.\"\n",
              "              style=\"display:none;\">\n",
              "        \n",
              "  <svg xmlns=\"http://www.w3.org/2000/svg\" height=\"24px\"viewBox=\"0 0 24 24\"\n",
              "       width=\"24px\">\n",
              "    <path d=\"M0 0h24v24H0V0z\" fill=\"none\"/>\n",
              "    <path d=\"M18.56 5.44l.94 2.06.94-2.06 2.06-.94-2.06-.94-.94-2.06-.94 2.06-2.06.94zm-11 1L8.5 8.5l.94-2.06 2.06-.94-2.06-.94L8.5 2.5l-.94 2.06-2.06.94zm10 10l.94 2.06.94-2.06 2.06-.94-2.06-.94-.94-2.06-.94 2.06-2.06.94z\"/><path d=\"M17.41 7.96l-1.37-1.37c-.4-.4-.92-.59-1.43-.59-.52 0-1.04.2-1.43.59L10.3 9.45l-7.72 7.72c-.78.78-.78 2.05 0 2.83L4 21.41c.39.39.9.59 1.41.59.51 0 1.02-.2 1.41-.59l7.78-7.78 2.81-2.81c.8-.78.8-2.07 0-2.86zM5.41 20L4 18.59l7.72-7.72 1.47 1.35L5.41 20z\"/>\n",
              "  </svg>\n",
              "      </button>\n",
              "      \n",
              "  <style>\n",
              "    .colab-df-container {\n",
              "      display:flex;\n",
              "      flex-wrap:wrap;\n",
              "      gap: 12px;\n",
              "    }\n",
              "\n",
              "    .colab-df-convert {\n",
              "      background-color: #E8F0FE;\n",
              "      border: none;\n",
              "      border-radius: 50%;\n",
              "      cursor: pointer;\n",
              "      display: none;\n",
              "      fill: #1967D2;\n",
              "      height: 32px;\n",
              "      padding: 0 0 0 0;\n",
              "      width: 32px;\n",
              "    }\n",
              "\n",
              "    .colab-df-convert:hover {\n",
              "      background-color: #E2EBFA;\n",
              "      box-shadow: 0px 1px 2px rgba(60, 64, 67, 0.3), 0px 1px 3px 1px rgba(60, 64, 67, 0.15);\n",
              "      fill: #174EA6;\n",
              "    }\n",
              "\n",
              "    [theme=dark] .colab-df-convert {\n",
              "      background-color: #3B4455;\n",
              "      fill: #D2E3FC;\n",
              "    }\n",
              "\n",
              "    [theme=dark] .colab-df-convert:hover {\n",
              "      background-color: #434B5C;\n",
              "      box-shadow: 0px 1px 3px 1px rgba(0, 0, 0, 0.15);\n",
              "      filter: drop-shadow(0px 1px 2px rgba(0, 0, 0, 0.3));\n",
              "      fill: #FFFFFF;\n",
              "    }\n",
              "  </style>\n",
              "\n",
              "      <script>\n",
              "        const buttonEl =\n",
              "          document.querySelector('#df-49251273-ee8b-4fc3-ae82-4b076a514bbc button.colab-df-convert');\n",
              "        buttonEl.style.display =\n",
              "          google.colab.kernel.accessAllowed ? 'block' : 'none';\n",
              "\n",
              "        async function convertToInteractive(key) {\n",
              "          const element = document.querySelector('#df-49251273-ee8b-4fc3-ae82-4b076a514bbc');\n",
              "          const dataTable =\n",
              "            await google.colab.kernel.invokeFunction('convertToInteractive',\n",
              "                                                     [key], {});\n",
              "          if (!dataTable) return;\n",
              "\n",
              "          const docLinkHtml = 'Like what you see? Visit the ' +\n",
              "            '<a target=\"_blank\" href=https://colab.research.google.com/notebooks/data_table.ipynb>data table notebook</a>'\n",
              "            + ' to learn more about interactive tables.';\n",
              "          element.innerHTML = '';\n",
              "          dataTable['output_type'] = 'display_data';\n",
              "          await google.colab.output.renderOutput(dataTable, element);\n",
              "          const docLink = document.createElement('div');\n",
              "          docLink.innerHTML = docLinkHtml;\n",
              "          element.appendChild(docLink);\n",
              "        }\n",
              "      </script>\n",
              "    </div>\n",
              "  </div>\n",
              "  "
            ]
          },
          "metadata": {},
          "execution_count": 7
        }
      ]
    },
    {
      "cell_type": "code",
      "execution_count": 8,
      "metadata": {
        "colab": {
          "base_uri": "https://localhost:8080/"
        },
        "id": "ucc6mFyYJ3J0",
        "outputId": "422b0b5d-67ef-43fe-fe07-e9325c6d2b3b"
      },
      "outputs": [
        {
          "output_type": "execute_result",
          "data": {
            "text/plain": [
              "(10, 2)"
            ]
          },
          "metadata": {},
          "execution_count": 8
        }
      ],
      "source": [
        "df0.shape"
      ]
    },
    {
      "cell_type": "code",
      "execution_count": 9,
      "metadata": {
        "id": "D8vKBijJJ3J0"
      },
      "outputs": [],
      "source": [
        "# df0.info"
      ]
    },
    {
      "cell_type": "code",
      "execution_count": 10,
      "metadata": {
        "colab": {
          "base_uri": "https://localhost:8080/"
        },
        "id": "YbtJkF8eJ3J0",
        "outputId": "608331d1-755c-4840-874e-20f003146e25"
      },
      "outputs": [
        {
          "output_type": "execute_result",
          "data": {
            "text/plain": [
              "(9,)"
            ]
          },
          "metadata": {},
          "execution_count": 10
        }
      ],
      "source": [
        "df_unique0 = df0['file_text'].drop_duplicates()\n",
        "df_unique0.shape"
      ]
    },
    {
      "cell_type": "markdown",
      "metadata": {
        "id": "Kl8iFnETkmpK"
      },
      "source": [
        "###ADDRESS PROOF"
      ]
    },
    {
      "cell_type": "markdown",
      "metadata": {
        "id": "-_Zk8_6uBD2k"
      },
      "source": [
        "UNPACKING"
      ]
    },
    {
      "cell_type": "code",
      "execution_count": 11,
      "metadata": {
        "id": "PPryzsmi86Z0",
        "colab": {
          "base_uri": "https://localhost:8080/"
        },
        "outputId": "d7286185-b424-4896-8259-f8ec554d739a"
      },
      "outputs": [
        {
          "output_type": "stream",
          "name": "stdout",
          "text": [
            "Archive:  /content/drive/MyDrive/contextus/images/old_ocr/ADDRESS_PROOF.zip\n",
            "replace ADDRESS_PROOF/address_proof_0.txt? [y]es, [n]o, [A]ll, [N]one, [r]ename: "
          ]
        }
      ],
      "source": [
        "!unzip /content/drive/MyDrive/contextus/images/old_ocr/ADDRESS_PROOF.zip"
      ]
    },
    {
      "cell_type": "markdown",
      "metadata": {
        "id": "Vdb94daPBRoq"
      },
      "source": [
        "ORGANIZATION OF TEXT FILES"
      ]
    },
    {
      "cell_type": "code",
      "execution_count": 12,
      "metadata": {
        "id": "BVUc8ur59bys"
      },
      "outputs": [],
      "source": [
        "import os    \n",
        "\n",
        "#lista apenas os arquivos txt da pasta\n",
        "pasta1 = \"/content/ADDRESS_PROOF\"\n",
        "caminhos1 = [os.path.join(pasta1, nome) for nome in os.listdir(pasta1)]\n",
        "arquivos1 = [arq for arq in caminhos1 if os.path.isfile(arq)]    \n",
        "arquivos_txt1 = [arq for arq in arquivos1 if arq.lower().endswith(\".txt\")]\n",
        "\n",
        "#cria uma lista para armazenar as saídas\n",
        "saida1 = []\n",
        "idx1 = []\n",
        "\n",
        "cont = 0\n",
        "#percorre os arquivos\n",
        "for idx, arq in enumerate(arquivos_txt1):    \n",
        "    #abre o arquivo \n",
        "    with open(arq) as f:\n",
        "        linhas = f.readlines()\n",
        "        cont += idx\n",
        "\n",
        "    #guarda na lista de saida  \n",
        "    saida1.append(linhas)\n",
        "    idx1.append(idx)\n",
        "\n",
        "# #grava a lista em um novo arquivo\n",
        "# arq_saida = open('/arquivo_saida.txt', 'w')\n",
        "# arq_saida.writelines(saida)\n",
        "# arq_saida.close()"
      ]
    },
    {
      "cell_type": "code",
      "execution_count": 13,
      "metadata": {
        "id": "WNvUXeoM_tmc",
        "colab": {
          "base_uri": "https://localhost:8080/"
        },
        "outputId": "42d8f6be-b610-4e0c-8925-e3a6be6bfa70"
      },
      "outputs": [
        {
          "output_type": "stream",
          "name": "stdout",
          "text": [
            "[['Companhia Paulista de Força e Luz Rua Jorge de Figueiredo Correa, 1632 Jardim Professora Tarcília – Campinas/SP - CEP: 13087-397 Inscrição Estadual: 244.163.955.115 Inscrição no CNPJ: 33.050.196/0001-88 CPFL Uma empresa do Grupo CPFL Energia ENERGIA ARTHUR FORTES DA COSTA Nota Fiscal R HERMANTINO COELHO 255 BL 5 AP 23 Conta de Energia Elétrica MAN STO ANTONIO N°. 101096541 série C Pág. 1 de 1 13087-500 CAMPINAS SP Data de Emissão 12/11/2019 Data de Apresentação 18/11/2019 Conta Contrato No 310091689739 Lote Roteiro de leitura Medidor Cliente Reservado ao fisco 07 CAMBUD49-00000853 215857038 0711530431 6A41.8E2C.8245.9B0B.795F.1D76.C5F8.0603 PREZADO (A) CLIENTE Mantenha seus dados sempre atualizados, alguns itens determinam a tarifa e tributação de sua fatura de energia elétrica. Solicite os serviços disponíveis em nosso site com rapidez e segurança e reserve mais tempo para você em seu dia-a-dia. Mais informações acesse o endereço que consta no verso de sua conta. DADOS DA UNIDADE CONSUMIDORA ARTHUR FORTES DA COSTA R HERMANTINO COELHO, 255 BL 5 AP 23 MAN STO ANTONIO CAMPINAS - SP CPF:021.251.723-64 Classificação: Convencional B1 Residencial - Bifásico 220 / 127 V SEU CÓDIGO 8866562 CONTA/MÊS NOV/2019 ΑΤENDIMEΝTΟ PN VENCIMENTO TOTAL A PAGAR (R$) 0800 010 1010 0711530431 09/12/2019 133,52 www.cpfl.com.br DISCRIMINAÇÃO DA OPERAÇÃO - RESERVADO AO FISCO Cod. Descrição da Operação Mês Quant. Unid. Aliq. PIS COFINS Bandeiras Tarifa com Valor Total da Base Cálculo ICMS Base Cálculo 115 N° 900852730174 Ref. Fa 6,13% Tarifárias Med. Tributos Оperaҫӑo ICMS ICMS PIS/COFINS 1,33% 0605 Consumo Uso Sistema [KWh]-TUSD NOV/19 174,000 kWh 0,30448276 52,98 52,98 12,00 6,36 52,98 0,70 3,25 Amarela 20 Dias 3,68 Vermelha P1 0,12 0601 Consumo - TE NOV/19 174,000 kWh 0,34488506 60,01 60,01 12,00 7,20 60,01 0,80 0601 Adicional de Bandeira Amarela NOV/19 2,02 2,02 12,00 0,24 2,02 0,03 12 Dias 0601 Adicional de Bandeira Vermelha NOV/19 3,38 3,38 12,00 0,41 3,38 0,04 0,21 Total Distribuidora 118,39 DÉBITOS DE OUTROS SERVIÇOS 0807 Contrib. Custeio IP-CIP Municipal NOV/19 15,13 TOTAL CONSOLIDADO 133,52 118,39 14,21 118,39 1,57 7,26 HISTÓRICO DE CONSUMO kWh Dias TARIFA ANEEL EQUIPAMENTOS DE MEDIÇÃO / DATAS DE LEITURA Consumo TUSD TE Leitura Leitura Fator Consumo Taxa de Perda Leitura 2019 NO 174 32 Consumo kWh 0,24526000 0,27776000 N° Energia 12/11/2019 11/10/2019 Multipl. [kWh] [%] Próximo Mês OUT 198 31 215857038 ATIVA 11397 11223 1,00 174 13/12/2019 SET 157 29 AGO 221 31 JUL 186 31 JUN 161 29 ΜΑΙ 185 32 ABR 185 29 MAR 183 30 FEV 194 28 JAN 196 32 INDICADORES DE CONTINUIDADE DE FORNECIMENTO DE ENERGIA 2018 DEZ 184 31 Para consulta dos indicadores acesse nosso site www.cpfl.com.br NOV 63 32 INFORMAÇÕES SOBRE A FATURA AVISO IMPORTANTE A partir de 01.01.2020 todos os clientes têm direito a optar pela tarifa branca, saiba mais: www.cpfl.com.br/tarifabranca CódDébAut-Banco 310091689739 Total a Pagar (R$) Data de Vencimento 133,52 Nota Fiscal Conta de Energia Elétrica 101096541 Série C 09/12/2019 Essa conta poderá ser paga no credenciado mais perto de você. Confira a lista completa no site www.cpfl.com.br Loja 2189 - LC-PE M BERNARDES CAMP DROGARIA DOM PEDRO CAMPINAS O MATUTO cpfl paulista R PADRE MANUEL BERNARDES 971 - TAQUARAL AV GUILHERME CAMPOS LJ. 30A 500 - JARDIM SANTA GENEBRA RUA LUIZ OTAVIO, 651 - PARQUE TAQUARAL 836700000018 335200403145 033815126033 100916897398 Autenticação Mecânica '], ['NOTA FISCAL/CONTA DE FORNECIMENTO DE ÁGUA E COLETA DE ESGOTO Regime especial Processo n° E-04/278370/12 - N° 2340667910816 CONCESSÃO DE SERVICOS DE ESGOTO foz NOVA DATA DE EMISSÃO: 04/08/2016 Águas do Brasil CEDAE ZONA OESTE - RIO DE JANEIRO MEDIÇÃO VENCIMENTO LEVANDO QUALIDADE DE VIDA PARA VOCÊ MAIS SAÚDE PARA VOCÊ MAIS CUIDADO COM O MEIO AMBIENTE COMPANHIA ESTADUAL DE ÁGUAS E ESGOTOS - CEDAE CNPJ: 33.352.394/0001-04 I Inscr. Estadual - 84.780.707 Av. Presidente Vargas, 2.655 - Centro - Rio de Janeiro - RJ NOME / CPF-CNPJ 00394429011730 PREF AERONAUTICA DOS AFONSOS Agosto/2016 17/08/2016 ORIGEM MATRÍCULA 1- 15 2340667-9 ENDEREÇO DA LIGAÇÃO RUA PACIFICO PEREIRA, 1 BL 5 - JARDIM SULACAP ROTEIRO 0217801705170 LEITURA ANTERIOR LEITURA ATUAL N° DE DIAS VOLUME FAT.M³ VOLUME APURADO M/DIA 04/07/2016 02/08/2016 | | | | | | 5678 5764 29 87 2.9655 PRÓXIMA LEITURA HIDRÔMETRO TIPO DE FATURAMENTO VOLUME MÉDIO M3/DIA | 31/08/2016 | C10S015920 CONS. APURADO 3.0 | ECONOMIAS POR CATEGORIA PERCENTUAL DE FAT.% SUBCATEGORIA DOM COM IND PUB DOM COM IND PUB 6 0 0 0 | 100 0 0 0 | COMUM FAIXA DE CONSUMO TARIFA CONSUMO VALOR LANÇAMENTOS VALOR R$ R$ FATURADO R$ 0.0-15.0 2,31 87,0 201,66 AGUA DOMICILIAR 201,66 RECURSOS HIDRICOS 0,60 TAXA DE REGULAÇÃO 1,00 ESGOTO DOMICILIAR 187,74 TOTAL CONTA TOTAL A PAGAR 391,00 | 391,00 Val Aprox dos Tributos R$0.0 (0.0%) conforme Lei 12.741/12. BASE DE CÁLCULO ICMS ALÍQUOTA % VALOR INCL. PREÇO/ÁGUA 0,00 18 0,00 Segunda Via MENSAGEM IMPORTANTE ¿De acordo com a lei federal 12.741 de 08/12/2012, a concessionária informa a carga tributária aproximada incidente sobre o valor dos serviços: PIS/COFINS(9,25%). ¿ SISTEMA: Guandu/RJ Ref : 08/16 Padrão da Val Médios Detectados Portaria MS 518/04 Nro Amostras Exig 194 Realiz 35 Cor Aparente 15 UH(max) 6 A 9.5 (1) 5 UT(max) 0.2 A 2.0 MG/L AUSENTE (3) PH Turbidez Cloro Residual 1,9 1,8 35 194 724 694 724 Coliformes Totais Colif. (1)Apenas recomendacao (2)Numero de amostras positivas (3)Sistemas que analisam 40 ou mais amostras/mes, ausencia em 95% das amostras examinadas. Sistemas que analisam menos de 40 amostras/mes, apenas uma amostra podera apresentar resultado positivo 694 724 45 35 1 AUSENTE SAC - Foz Águas 5: 0800 025 0005 I www.fozaguas5.com.br - CEDAE 195 ou 0800 28 21 195 I www.cedae.com.br CONCESSÃO DE SERVIÇOS DE ESGOTO COMPANHIA ESTADUAL DE ÁGUAS E ESGOTOS - CEDAE CNPJ: 33.352.394/0001-04 I Inscr. Estadual - 84.780.707 Av. Presidente Vargas, 2.655 - Centro - Rio de Janeiro - RJ F. AB. ZONA OESTE S.A. I CNPJ: 14.863.079/0001-99 Rua Doze de Fevereiro, 103 - Bangu - Rio de Janeiro-RJ foz NOVA CEDAE Águas do Brasil ZONA OESTE - RIO DE JANEIRO MAIS SAÚDE PARA VOCÊ MAIS CUIDADO COM O MEIO AMBIENTE LEVANDO QUALIDADE DE VIDA PARA VOCÊ CONTROLE DA CEDAE E DA FOZ ÁGUAS 5 MATRÍCULA MEDIÇÃO ORIGEM | | Agosto/2016 1- 15 | 2340667-9 VENCIMENTO TOTAL A PAGAR 17/08/2016 | 391,00 CONCESSÃO DE SERVIÇOS DE ESGOTO NOVA CEDAE foz Grup Águas do Brasil ZONA OESTE - RIO DE JANEIRO 826600000036 910013332341 066790816111 516081700002 ÚLTIMÓS CONSUMOS M3 /DIA '], ['Companhia Paulista de Força e Luz Rua Jorge de Figueiredo Correa, 1632 Jardim Professora Tarcília – Campinas/SP - CEP: 13087-397 Inscrição Estadual: 244.163.955.115 Inscrição no CNPJ: 33.050.196/0001-88 CPFL Uma empresa do Grupo CPFL Energia ENERGIA ARTHUR FORTES DA COSTA Nota Fiscal R HERMANTINO COELHO 255 BL 5 AP 23 Conta de Energia Elétrica MAN STO ANTONIO N°. 110540367 série C Pág. 1 de 1 13087-500 CAMPINAS SP Data de Emissão 14/01/2020 Data de Apresentação 15/01/2020 Conta Contrato No 310091689739 Lote Roteiro de leitura Medidor Cliente Reservado ao fisco 07 CAMBUD49-00000853 215857038 0711530431 FB50.530F.0AEF.3147.8327.ADE5.E164.2966 PREZADO (A) CLIENTE FELIZ ANO NOVO! Que tal começar o ano atualizando seu cadastro? Saiba que a classe da sua conta determina sua tarifa e impostos. Se o imóvel não é RESIDENCIAL, atualize seu cadastro em nossos canais de atendimento. DADOS DA UNIDADE CONSUMIDORA ARTHUR FORTES DA COSTA R HERMANTINO COELHO, 255 BL 5 AP 23 MAN STO ANTONIO CAMPINAS - SP CPF:021.251.723-64 Classificação: Convencional B1 Residencial - Bifásico 220 / 127 V SEU CÓDIGO 8866562 CONTA/MÊS JAN/2020 ATENDIMENTO PN VENCIMENTO TOTAL A PAGAR (R$) 0800 010 1010 0711530431 10/02/2020 142,99 www.cpfl.com.br DISCRIMINAÇÃO DA OPERAÇÃO - RESERVADO AO FISCO Cod. Descrição da Operação Mês Quant. Unid. Aliq. PIS COFINS Bandeiras Tarifa com Valor Total da Base Cálculo ICMS Base Cálculo 115 N° 901052809287 Operação 6,27%| Tarifárias Ref. Fa Med. Tributos ICMS ICMS PIS/COFINS 1,37% 0605 Consumo Uso Sistema [KWh]-TUSD JAN/20 191,000 kWh 0,30513090 58,28 58,28 12,00 6,99 58,28 0,80 3,65 Amarela 18 Dias 0601 Consumo - TE JAN/20 191,000 kWh 0,34560210 66,01 66,01 12,00 7,92 66,01 0,90 4,14 Amarela 0601 Adicional de Bandeira Amarela JAN/20 3,18 3,18 12,00 0,38 3,18 0,04 0,20 14 Dias Total Distribuidora 127,47 DÉBITOS DE OUTROS SERVIÇOS 0807 Contrib. Custeio IP-CIP Municipal JAN/20 15,52 TOTAL CONSOLIDADO 142,99 127,47 15,29 127,47 1,74 7,99 HISTÓRICO DE CONSUMO kWh Dias TARIFA ANEEL EQUIPAMENTOS DE MEDIÇÃO / DATAS DE LEITURA Consumo TUSD TE Leitura Leitura Fator Consumo Taxa de Perda Leitura 2020 JAN 191 32 Consumo kWh 0,24526000 0,27776000 N° Energia 14/01/2020 13/12/2019 Multipl. [kWh] [%] Próximo Mês 2019 DEZ 206 31 215857038 ATIVA 11794 11603 1,00 191 11/02/2020 NOV 174 32 OUT 198 31 SET 157 29 AGO 221 31 JUL 186 31 JUN 161 29 ΜΑΙ 185 32 ABR 185 29 MAR 183 30 INDICADORES DE CONTINUIDADE DE FORNECIMENTO DE ENERGIA FEV 194 28 Para consulta dos indicadores acesse nosso site www.cpfl.com.br JAN 196 32 INFORMAÇÕES SOBRE A FATURA Custeio de iluminação pública: alterado valor de arrecadação conforme Lei Municipal 00011453 de 27.12.2002, com fundamento no Art. 149 A, parágrafo único, da Constituição Federal do Brasil. AVISO IMPORTANTE A partir de 01.01.2020 todos os clientes têm direito a optar pela tarifa branca, saiba mais: www.cpfl.com.br/tarifabranca CódDébAut-Banco 310091689739 Total a Pagar (R$) Data de Vencimento 142,99 Nota Fiscal Conta de Energia Elétrica 110540367 Série C 10/02/2020 Essa conta poderá ser paga no credenciado mais perto de você. Confira a lista completa no site www.cpfl.com.br Loja 2189 - LC-PE M BERNARDES CAMP DROGARIA DOM PEDRO CAMPINAS O MATUTO cpfl paulista R PADRE MANUEL BERNARDES 971 - TAQUARAL AV GUILHERME CAMPOS LJ. 30A 500 - JARDIM SANTA GENEBRA RUA LUIZ OTAVIO, 651 - PARQUE TAQUARAL 836000000015 429900403214 033708095030 100916897398 Autenticação Mecânica '], ['Companhia Paulista de Força e Luz Rua Jorge de Figueiredo Correa, 1632 Jd. Prof. Tarcília - Campinas - SP - CEP 13087-397 CPFL Inscrição Estadual: 244.163.955.115 Inscrição no CNPJ: 33.050.196/0001-88 Uma empresa do Grupo CPFL Energia ENERGIA Nota Fiscal Conta de Energia Elétrica N° 185841460 Série C ARTHUR FORTES DA COSTA R HERMANTINO COELHO 255 BL 5 AP 23 Data de Emissão: 13/05/2021 Data de Apresentação: 14/05/2021 Pág: 01 de 01 Conta Contrato N° 310091689739 Leitura Próximo Mês: 10/06/2021 MAN STO ANTONIO 13087-500 CAMPINAS SP Lote Roteiro de leitura N°. Medidor PN Reservado ao Fisco 07 CAMBUD49-00000853 215857038 711530431 B6CE.1078.B6DE.EE15.E957.8D20.C86D.517A PREZADO(A) CLIENTE Houve Reajuste Tarifário na sua conta a partir de 22/04/2021, aumento médio de 8,64% (Resolução Homologatória n° 2.854/21). Sua conta será faturada com bandeira vermelha patamar 1 a partir de 01/05/2021, no valor de R$4,169 a cada 100 kWh, conforme deter minado pela Aneel. DADOS DA UNIDADE CONSUMIDORA ARTHUR FORTES DA COSTA CPF: 021.251.723-64 R HERMANTINO COELHO, 255 BL 5 AP 23 MAN STO ANTONIO CLASSIFICAÇÃO: Convencional B1 Residencial - Bifásico 220 / 127 V 13087-500 CAMPINAS - SP ATENDIMENTO PN SEU CÓDIGO CONTA MÊS VENCIMENTO TOTAL A PAGAR 0800 010 1010 INSTALAÇÃO 711530431 MAI/2021 08/06/2021 137,78 www.cpfl.com.br 8866562 DISCRIMINAÇÃO DA OPERAÇÃO - RESERVADO AO FISCO Valor Total da Operação R$ Bandeiras Tarifárias Cod. Descrição da Operação Mês Quant. Unid. Tarifa com Base Cálculo Aliq. ICMS Base Cálculo PIS COFINS 115 N° 910901924107 Ref. Faturada Med. Tributos R$ ICMS R$ ICMS PIS/COFINS 0,68% 3,11% (Dias) 0605 Consumo Uso Sistema [KWh]-TUSD ΜΑΙ/21 168,000 kWh 0,34619048 58,16 58,16 12,00 6,98 58,16 0,40 1,81 Amarela 0601 Consumo - TE MAI/21 168,000 kWh 0,34678572 58,26 58,26 12,00 6,99 58,26 0,40 1,81 17 Dias Vermelha P1 0601 Adicional de Bandeira Amarela ΜΑΙ/21 1,51 1,51 12,00 0,18 1,51 0,01 0,05 13 Dias 0601 Adicional de Bandeira Vermelha MAI/21 3,59 3,59 12,00 0,43 3,59 0,02 0,11 Total Distribuidora 121,52 DÉBITOS DE OUTROS SERVIÇOS 0807 Contrib. Custeio IP-CIP Municipal MAI/21 16,26 Total Consolidado 137,78 121,52 14,58 121,52 0,83 3,78 HISTÓRICO DE CONSUMO kWh Dias TARIFA ANEEL EQUIPAMENTOS DE MEDIÇÃO / DATAS DE LEITURAS 2021 MAI 168 30 Consumo N° Energia Leitura Leitura Fator ConsumoTaxa de Perda Leitura TUSD TE ABR 145 32 Multipl. 1,00 Consumo kWh 0,29151067 0,29202667 13/05/2021 13/04/2021 [kWh] [%] Próximo Mês MAR 199 31 215857038 Ativa 15385 15217 168 10/06/2021 FEV 211 28 JAN 176 29 2020 DEZ 166 33 NOV 245 29 OUT 439 32 SET 270 31 AGO 264 32 INDICADORES DE CONTINUIDADE DE FORNECIMENTO DE ENERGIA JUL 251 31 JUN 259 27 Para consulta dos indicadores acesse nosso site www.cpfl.com.br MAI 191 30 INFORMAÇÕES SOBRE A FATURA Considerar quitada se efetuado débito em conta corrente. Caso não ocorra o débito utilize esta conta para pagamento. AVISO IMPORTANTE Nota Fiscal DÉBITO AUTOMÁTICO Total a Pagar (R$) 137,78 CódDébAut-Banco Data de Vencimento Conta de Energia Elétrica 310091689739 08/06/2021 BANCO 077 AGÊNCIA 0001 N° 185841460 Série C Essa conta poderá ser paga no credenciado mais perto de você. Confira a lista completa no site Loja 2189 - LC-PE M BERNARDES CAMP DROGARIA DOM PEDRO CAMPINAS Ο ΜΑTUTO R PADRE MANUEL BERNARDES 971 - TAQUARAL AV GUILHERME CAMPOS LJ. 30A 500 - JARDIM SANTA GENEBRA RUA LUIZ OTAVIO, 651 - PARQUE TAQUARAL Pague aqui - PIX 836600000019 377800403380 433538191035 100916897398 Autenticação Mecânica cpfl paulista Uma empresa do Grupo CPFL Energia '], ['Companhia Paulista de Força e Luz Rua Jorge de Figueiredo Correa, 1632 Jardim Professora Tarcília – Campinas/SP - CEP: 13087-397 Inscrição Estadual: 244.163.955.115 Inscrição no CNPJ: 33.050.196/0001-88 CPFL Uma empresa do Grupo CPFL Energia ENERGIA ARTHUR FORTES DA COSTA Nota Fiscal R HERMANTINO COELHO 255 BL 5 AP 23 Conta de Energia Elétrica MAN STO ANTONIO N°. 096429857 série C Pág. 1 de 1 13087-500 CAMPINAS SP Data de Emissão 11/10/2019 Data de Apresentação 16/10/2019 Conta Contrato No 310091689739 Lote Roteiro de leitura Medidor Cliente Reservado ao fisco 07 CAMBUD49-00000853 215857038 0711530431 F861.12C8.B3E7.AE40.7E46.C925.B269.1BB8 PREZADO (A) CLIENTE Mantenha seus dados sempre atualizados, alguns itens determinam a tarifa e tributação de sua fatura de energia elétrica. Solicite os serviços disponíveis em nosso site com rapidez e segurança e reserve mais tempo para você em seu dia-a-dia. Mais informações acesse o endereço que consta no verso de sua conta. DADOS DA UNIDADE CONSUMIDORA ARTHUR FORTES DA COSTA R HERMANTINO COELHO, 255 BL 5 AP 23 MAN STO ANTONIO CAMPINAS - SP CPF:021.251.723-64 Classificação: Convencional B1 Residencial - Bifásico 220 / 127 V SEU CÓDIGO 8866562 CONTA/MÊS OUT/2019 ATENDIMENTO PN VENCIMENTO TOTAL A PAGAR (R$) 0800 010 1010 0711530431 08/11/2019 148,75 www.cpfl.com.br DISCRIMINAÇÃO DA OPERAÇÃO - RESERVADO AO FISCO Cod. Descrição da Operação Mês Quant. Unid. Tarifa com Valor Total da Base Cálculo Aliq. ICMS Base Cálculo PIS COFINS Bandeiras 115 N° 911451277100 Operação 4,84% | Tarifárias Vermelha P1 Ref. Fa Med. Tributos ICMS ICMS PIS/COFINS 1,06% 0605 Consumo Uso Sistema [KWh]-TUSD OUT/19 198,000 kWh 0,29873738 59,15 59,15 12,00 7,10 59,15 0,63 2,86 20 Dias 0601 Consumo - TE OUT/19 198,000 kWh 0,33828283 66,98 66,98 12,00 8,04 66,98 0,71 3,24 Amarela 0601 Adicional de Bandeira Amarela OUT/19 1,27 1,27 12,00 0,15 1,27 0,01 0,06 11 Dias 0601 Adicional de Bandeira Vermelha OUT/19 6,22 6,22 12,00 0,75 6,22 0,07 0,30 Total Distribuidora 133,62 DÉBITOS DE OUTROS SERVIÇOS 0807 Contrib. Custeio IP-CIP Municipal OUT/19 15,13 TOTAL CONSOLIDADO 148,75 133,62 16,04 133,62 1,42 6,46 HISTÓRICO DE CONSUMO kWh Dias TARIFA ANEEL EQUIPAMENTOS DE MEDIÇÃO / DATAS DE LEITURA Consumo TUSD TE Leitura Leitura Fator Consumo Taxa de Perda Leitura 2019 OUT 198 31 Consumo kWh 0,24526000 0,27776000 N° Energia 11/10/2019 10/09/2019 Multipl. [kWh] [%] Próximo Mês SET 157 29 215857038 ATIVA 11223 11025 1,00 198 12/11/2019 AGO 221 31 JUL 186 31 JUN 161 29 ΜΑΙ 185 32 ABR 185 29 MAR 183 30 FEV 194 28 JAN 196 32 2018 DEZ 184 31 INDICADORES DE CONTINUIDADE DE FORNECIMENTO DE ENERGIA NOV 63 32 Para consulta dos indicadores acesse nosso site www.cpfl.com.br INFORMAÇÕES SOBRE A FATURA AVISO IMPORTANTE A partir de 01.01.2020 todos os clientes têm direito a optar pela tarifa branca, saiba mais: www.cpfl.com.br/tarifabranca CódDébAut-Banco 310091689739 Total a Pagar (R$) Data de Vencimento 148,75 Nota Fiscal Conta de Energia Elétrica 096429857 Série C 08/11/2019 Essa conta poderá ser paga no credenciado mais perto de você. Confira a lista completa no site www.cpfl.com.br Loja 2189 - LC-PE M BERNARDES CAMP DROGARIA DOM PEDRO CAMPINAS O MATUTO cpfl paulista R PADRE MANUEL BERNARDES 971 - TAQUARAL AV GUILHERME CAMPOS LJ. 30A 500 - JARDIM SANTA GENEBRA RUA LUIZ OTAVIO, 651 - PARQUE TAQUARAL 836500000010 487500403141 833762138034 100916897398 Autenticação Mecânica '], ['Companhia Paulista de Força e Luz Rua Jorge de Figueiredo Correa, 1632 Jardim Professora Tarcília – Campinas/SP - CEP: 13087-397 Inscrição Estadual: 244.163.955.115 Inscrição no CNPJ: 33.050.196/0001-88 СPFL Uma empresa do Grupo CPFL Energia ENERGIA RODRIGO MARTINS VIEIRA Nota Fiscal R OLINDO GARDELIN 90 BL 2 AP 4 Conta de Energia Elétrica PQ VALENCA I N°. 111806792 série C Pág. 1 de 1 13058-533 CAMPINAS SP Data de Emissão 20/01/2020 Data de Apresentação 21/01/2020 Conta Contrato No 310053839117 Lote Roteiro de leitura Medidor Cliente Reservado ao fisco 12 CAMBU685-00000300 129203734 0711096154 AABC.549F.421E.26D1.A593.A5A3.824C.D02C PREZADO (A) CLIENTE FELIZ ANO NOVO! Que tal começar o ano atualizando seu cadastro? Saiba que a classe da sua conta determina sua tarifa e impostos. Se o imóvel não é RESIDENCIAL, atualize seu cadastro em nossos canais de atendimento. DADOS DA UNIDADE CONSUMIDORA RODRIGO MARTINS VIEIRA R OLINDO GARDELIN, 90 BL 2 AP 4 PQ VALENCA I CAMPINAS - SP CPF:322.826.108-57 Classificação: Convencional B1 Residencial - Monofásico 127 V SEU CÓDIGO 4000308482 CONTA/MÊS JAN/2020 TOTAL A PAGAR (R$) 189,11 ATENDIMENTO PN VENCIMENTO 0800 010 1010 0711096154 28/01/2020 www.cpfl.com.br DISCRIMINAÇÃO DA OPERAÇÃO - RESERVADO AO FISCO Cod. Descrição da Operação Mês Quant. Unid. Aliq. PIS COFINS Bandeiras Tarifa com Valor Total da Base Cálculo ICMS Base Cálculo 115 N° 908751984791 Ref. Fa Operação 1,37% 6,27% Tarifárias Med. Tributos ICMS ICMS PIS/COFINS 0605 Consumo Uso Sistema [KWh]-TUSD JAN/20 218,000 kWh 0,36408257 79,37 79,37 25,00 19,84 79,37 1,09 4,98 Amarela 12 Dias 0601 Consumo - TE JAN/20 218,000 kWh 0,41233945 89,89 89,89 25,00 22,47 89,89 1,23 5,64 Amarela 0601 Adicional de Bandeira Amarela JAN/20 4,33 4,33 25,00 1,08 4,33 0,06 0,27 20 Dias Total Distribuidora 173,59 DÉBITOS DE OUTROS SERVIÇOS 0807 Contrib. Custeio IP-CIP Municipal JAN/20 15,52 TOTAL CONSOLIDADO 189,11 173,59 43,39 173,59 2,38 10,89 HISTÓRICO DE CONSUMO kWh Dias TARIFA ANEEL EQUIPAMENTOS DE MEDIÇÃO / DATAS DE LEITURA Consumo TUSD TE Leitura Leitura Fator Consumo Taxa de Perda Leitura 2020 JAN 218 32 Consumo kWh 0,24526000 0,27776000 N° Energia 20/01/2020 19/12/2019 Multipl. [kWh] [%] Próximo Mês 2019 DEZ 172 29 129203734 ATIVA 13188 12970 1,00 218 17/02/2020 NOV 219 33 OUT 163 31 SET 165 29 AGO 177 31 JUL 178 31 JUN 137 29 ΜΑΙ 204 33 ABR 157 28 MAR 190 30 INDICADORES DE CONTINUIDADE DE FORNECIMENTO DE ENERGIA FEV 187 28 Para consulta dos indicadores acesse nosso site www.cpfl.com.br JAN 254 33 INFORMAÇÕES SOBRE A FATURA Custeio de iluminação pública: alterado valor de arrecadação conforme Lei Municipal 00011453 de 27.12.2002, com fundamento no Art. 149 A, parágrafo único, da Constituição Federal do Brasil. Considerar quitada se efetuado débito em conta corrente. Caso não ocorra o débito utilize esta conta para pagamento. AVISO IMPORTANTE A partir de 01.01.2020 todos os clientes têm direito a optar pela tarifa branca, saiba mais: www.cpfl.com.br/tarifabranca DÉBITO AUTOMÁTICO Total a Pagar (R$) Data de Vencimento 189,11 Nota Fiscal CódDébAut-Banco Conta de Energia Elétrica 111806792 Série C 310053839117 28/01/2020 Banco 001 Agência 1890 Essa conta poderá ser paga no credenciado mais perto de você. Confira a lista completa no site www.cpfl.com.br CONSCETTA E CONSCETTA LTDA ME SUPERMEROCADO SAO JOAO SUPERMERCADO AMARANTE cpfl paulista R IZIDORO BOSNARDO, 5 - JARDIM MARACANA R DR EDGARD PEREIRA DE SOUZA, 9 - PARQUE VALENCA R LOJA MACONICA INDEPENDENTE 826 - LOT NOVO MUNDO 836100000014 891100403072 933933343032 100538391176 Autenticação Mecânica '], [\"www.vivo.com.br/meuvivo vivo Ta ra SA Rua n Mata e CP -Salvader- BA Fale conosco: Central de Relacionamento *8486 ou www.vivo.aom.britaleconosco Boleto Anexo N'daCarta na Vencimento M de rtar Periade aao 27/04/2020 Da deemiss 3a Total a Pagar - R$ 392,50 Vivo Valoriza MARÇO 2020 VIVO CONTROLE DIGITAL Sakio de pontos aunuada: 2.217 Sato mfaerte a onta 3327259 no Vie Vkrta. Para sad tal enie SMS camapaiaa SALDOpara 011 O que está sendo cobrado Quaritade de Quartidide de Paro/Pacote Numeros Vie PanoPacote Vala RS Indso PanoPate MintosUades Vakr Total RS Seviços Contatados wvo CONTROLEDGTAL2UM VIVO CONTROLESERI DOITAL 0.00 ub 2, 0 vivo Total a Pagar - R$ Vencimento BANCO C6 S.A. 27/04/2020 392,50 N° FATURA 33275259 Mês Referência 03/2020 0000 10009234 90000039250 Autenticação Mecà nica Código de barras falso \"], ['EXTRATO Contrato de Cobrança: CRCASO026836 Periodo de Contabilização 21/12/2020 a 20/01/2021 Pacote: Terra Mail Gigante Email - Data de C Pacote: Email Terra Classics (tfc3) Acesso Unificado - Data de Contabizaçao 20/01/2021 - Valor: RS 0,00 Numero de Conex?es: 0 Franquia de Horas: 720h Email - Data de Contabilização 20/01/2021 - Valor: R$ 68,86 Nro de Cx Postais: 1 INFORMAÇÕES Para efetuar o pagamento de seu titulo mesmo com serviço bloqueado, acesse a Central de Pagamentos Terra: https://central.terra.com.br 13140-330 PAULINIA - SP SANTA CECILIA AVENIDA PRESIDENTE GETULIO VARGAS 362 PAULO SEG CORRETORA DE SEGUROS LTDA CTCE INDAIATUBA SPI PL2 terra IlULLU.lllll Comeos Vivo Correios Eletronica Devolução FAC 7213148850 06711 00000028271 20 260121 Terra Networks Brasil LTDA. Av Carlos Gomes, 258 - 14 andar 90480-000 Porto Alegre RS https://central.terra.com.br EMAIL: atendimento@terra.com.br terra Uso exclusivo dos Correlos Fubrica eteira pracado nopn uppu ata N Endeag insuficiense opc Nro de Cx Posta tzação 20/01/2021 - Valor RS 28,27 '], ['Nome FATURA DE VENCIMENTO PAGAR (R$) oi 08/2015 12/09/2015 26,78 CHEGOU SUA FATURA DA OI. Emissão em 06/08/2015 FATURA DE SERVIÇOS DE COMUNICAÇÕES llו. . . ..ווו. lIllו...l DÉBITO AUTOMÁTICO É SÓ VANTAGEM. CTC JAGUARE SPM PL9 NOME DO CLIENTE RUA DO CLIENTE BAIRRO E NUMERO oi CEP E CIDADE/ESTADO SP COLOQUE A SUA CONTA EM DÉBITO AUTOMÁTICO. É MAIS SIMPLES, MAIS PRÁTICO E MAIS SEGURO. 7209036539555550000000000120010512 LIGUE 106 31 E PEÇA AGORA MESMO. NOME COMPLETO SERVIÇOS UTILIZADOS CPF 000.000.000-00 NÚMERO DO CONTRATO: 11111111 TV POR ASSINATURA 139,90 NÚMERO DA FATUR 00000000000 N° PARA DÉBITO AUTOMÁTICO 00000000 TOTAL DE MENSALIDADES 139,90 PRECISA DE AJUDA ? Além disso, você... Serviços/pacotes adicionais Outros lançamentos 19,90 -134,02 www.O1.COM.BR/MINHAOI TOTAL DA SUA FATURA 25,78 Aqui você acessa e imprime suas faturas, analisa seu consumo, consulta seu saldo e gerencia seus Oi pontos. ENTENDA SEU CONSUMO O valor da sua fatura nos últimos meses Ago 2015 25,78 Jul 2015 159,80 Fique atento. Efetue os pagamentos em dia e evite: - Cobrança de Multa de 2% + juros de 1% ao mês pro rata dia. - Suspensão Parcial e/ou Total do serviço. Cancelamento e inclusão nos Órgãos de Proteção ao Crédito (SPC/Serasa). CLIENTE FATURA DE VENCIMENTO VALOR DÉBITO AUTOMÁTICO 100000000 oi NOME COMPLETO AGO/2015 12/09/2015 25,78 ATENÇÃO : DÉBITO AUTOMÁTICO. SERA DEBITADA EM SUA CONTA CORRENTE NO VENCIMENTO. ESTA NOTA FISCAL OI MOVEL SA 84660000000 0 25780369000 3 00000000000 0 087690320277 SETOR COMERCIAL NORTE, S/N - ASA NORTE BRASILIA - DF / 70.713-900 CNPJ: 05.423.963/0001-11 INSC. ESTADUAL 07.441.356/00/93 INSC. MUNICIPAL: 4.663.103-8 '], ['ELEKTRO SEU CÓDIGO 32799179 ELEKTRO REDES S.A. R. ARY ANTENOR DE SOUZA, 321 - 13053-024- CAMPINAS-SP CNPJ 02 328 280/0001-97- INSC. EST. 244.868.522.118 AV. BALDOMERO LEITUGA, 2032 - 79610-270- TRÊS LAGOAS- MS CNPJ 02 328 280/0002-78-INSC. EST. 28.304.126-9 WWW.ELEKTRO.COM.BR JOMAR ANTONIO ALVARES FERREIRA R ANTONIO PACHECO SOBRINHO, 999 - ADMINISTRACAO - JD ANA ROSA SANTA FE DO SUL - SP - CEP 15775-000 DATA DE EMISSÃO: DATA DE APRESENTAÇÃO: CONTROLE N°: 25/02/2021 03/03/2021 CNPJ/CPF: 00257810811 IE: 01-20216040222401-14 VALOR DA CONTA (R$) R$ 331,34 PRÓXIMA LEITURA NO DA NOTA FISCAL/CONTA DE ENERGIA ELÉTRICA CONTA DO MÊS VENCIMENTO 26/03/2021 100.785.259 FEVEREIRO/2021 10/03/2021 DADOS DE CADASTRO DETALHAMENTO DA CONTA MEDIDOR / CONSTANTE B10847034 CLASSIFICAÇÃO 1 BASE RESIDENCIAL-BIFASICO CCI* DESCRIÇÃO DO PRODUTO TARIFA VALOR ALÍQ. VALOR VALOR TOTAL QUANTIDADE CALCULO FORNEC. FORNECIMENTO IMPOSTO ICMS (FORNEC. + IMPOSTOS) IMPOSTO TENSÃO NOMINAL OU CONTRATADA (V) LIMITE ADEQUADOS DE TENSÃO (V) DÉBITO AUT. 237/0374 220/127 116 A 133 / 201 A 231 0601 CONSUMO TE 459,00 0,252876 116,07 164,91 25,00% 41,22 157,29 0601 CONSUMO TUSD 459,00 0,302170 138,69 0,00 0,00% 0,00 138,69 LEITURA 0601 AD.B.AMAR. 459,00 0,013420 6,16 8,74 25,00% 2,18 8,34 ATUAL ITEM CONSUMO ANTERIOR 0699 COFINS 319,06 3,80% 12,13 DIAS DO PERÍODO 33360 33819 ANTERIOR 0699 PIS 319,06 0,82% 2,61 0699 COBRANCA ILUM PUBLICA PARA A PREFEITURA 0,00 0,00% 0,00 12,28 27/01/2021 28 TOTAL 260,92 43,40 331,34 *CCI - CÓDIGO DE CLASSIFICAÇÃO DO ITEM F. POTÊNCIA MÉDIA ATUAL 24/02/2021 HISTÓRICO DE CONSUMO (KWH) L . 459.0 154.0 189.0 170.0 203.0 182.0 171.0 181.0 186.0 174.0 161.0 151.0 210.0 FEV/21 JAN/21 DEZ/20 NOV/20 OUT/20 SET/20 AGO/20 JUL/20 JUN/20 MAI/20 ABR/20 MAR/20 FEV/20 COMPOSIÇÃO DE FORNECIMENTO ENERGIA R$ 111,60 ENCARGOS R$ 40,89 DISTRIBUIÇÃO R$ 63,24 TRIBUTOS R$ 58,14 TRANSMISSÃO R$ 25,81 PERDAS R$ 19,38 INFORMAÇÕES GERAIS BAND. TARIF. AMARELA:28/01-24/02 FATURA DO MES 01/2021 ARRECADADA POR DEBITO AUTOMATICO VALOR DE IMPOSTOS NAO FATURADOS EM DECORRENCIA DE ACAO JUDICIAL: ICMS 49,26 - COFINS 1,96 - PIS 0,43. A CONTAGEM DO PRAZO PREVISTO NA LEGISLACAO PARA O LANCAMENTO DO ICMS QUE DEIXOU DE SER LANCADO POR FORCA DE DECISAO JUDICIAL INICIAR-SE-A A A PARTIR DO MOMENTO QUE CESSAREM OS EFEITOS DESTA. BŚC NORMAL...: BSC JURIDICO.: 173,65 ICM NORMAL...: 197,06 ICM JURIDICO.: 43,40 49,26 AVISO IMPORTANTE DE DÉBITO / CORTE DÉBITOS ANTERIORES ATENÇÃO ACESSE O NOSSO SITE E REALIZE OS SERVIÇOS COM MAIOR COMODIDADE, PRATICIDADE, RAPIDEZ E SEGURANÇA. WWW.ELEKTRO.COM.BR SEU CÓDIGO 32799179 VENCIMENTO 10/03/2021 TOTAL R$ R$ 331,34 BANCO CONTROLE N° 01-20216040222401-14 AGÊNCIA 0374 237 CONTA EM DÉBITO AUTOMÁTICO CONSIDERAR ESTA CONTA QUITADA SOMENTE APÓS O DÉBITO EM SUA CONTA CORRENTE. SE POR ALGUM MOTIVO DE SEU CONHECIMENTO NÃO OCORRER O DÉBITO AUTOMÁTICO, PAGUE ESTA CONTA EM QUALQUER REDE CONVENIADA. NÃO RECEBER - DÉBITO AUTOMÁTICO - BANCO - 237 - AGÊNCIA - 0374 GBELEKTRO1 (V1.00) '], ['SEGUNDA VIA Light, sempre com você, 24 horas! Informações sobre condições gerais de fornecimento, tarifas, produtos, serviços e tributos? Faltou luz? Envie SMS com o Código da Instalação para o nº 54448. 01 B01 585 21 0428 MIN DEFESA COMDO AERONAUTICA R PACIFICO PEREIRA 1 BL5 SV EF.N°114 JD SULACAP / RIO DE JANEIRO - RJ 21741-160 00001 Z002 000002 Disque-Light Emergência: 0800 021 0196 Emergência Grandes Clientes: 0800 282 1380 Agência Virtual: www.light.com.br Disque-Light Comercial: 0800 282 0120 Deficientes auditivos e de fala: 0800 285 2453 Ouvidoria: 0800 284 0182 (Dias úteis: 8h às 18h) Agências Comerciais Agência Nacional de Energia Elétrica - ANEEL: 167 Ligação gratuita de telefones fixos e móveis. Se você ainda não possui sua conta da Light em Débito Automático, faça a adesão na sua agência bancária, na Agência Virtual (www.light.com.br), no Disque-Light (0800 282 0120) ou nas agências da Light e fique despreocupado! Classe / Subclasse Faltou luz? Light Já! PODER PÚBLICO / PODER PÚBLICO FEDERAL Envie SMS apenas com o Código da Instalação para o n° 54448. Pronto. Agora, é só aguardar o retorno da sua luz. Medidor TRIFÁSICO | N°: 7324409 Serviço de atendimento automático, limitado a 2 SMS por dia, por celular. Disponível para as operadoras Claro, Oi, Vivo, Tim e Nextel. Ref: Mês / Ano Referência Bancária Número da Fatura AGO/2016 030000792003 515703902575 Reservado ao Fisco 5FFC.5047.43AE.65C2.DA38.40EF.9321.F02C SEGUNDA VIA Nota Fiscal - Série 01 no.118600 Conta de Energia Elétrica RE PROC. E-04/053.359/09 - IFE 03 SEPD - Autorização n.08-2005/0006384-9 DATA PREVISTA DA PRÓXIMA LEITURA 01/09/2016 TENSÃO NOMINAL EM VOLTS Disponível: 220/127 Light LIGHT SERVIÇOS DE ELETRICIDADE SA AV. MAL. FLORIANO 168 RIO DE JANEIRO RJ CEP 20080-002 Limites mínimo: 202/117 Limites máximo: 231/133 CNPJ 60.444.437/0001-46 INSC. ESTADUAL 81380.023 INSC MUNICIPAL 00794678 INDICADORES DE QUALIDADE ENERGIA ATIVA Mês de referência: Junho/2016 ENERGIA REATIVA EXCEDENTE Medição Atual Medição Anterior Data |Const Medidor |Consumo kWh Medição Acumulada Atual |Const Medidor |Consumo kWh Conjunto: PADRE MIGUEL N° Data |Leitura |Leitura Dias |Anterior Indicadores TApurado Mensal I Meta Mensal | Meta Trimestral IMeta Anual 01/08/2016 6.647 01/07/2016 6.554 1 93 31 DIC 0,00 4,71 9,43 18,86 Data da Emissão Data de Apresentação FIC 0,00 3,11 6,22 12,45 BLOCO 5 SV - APT 101 R PACIFICO PEREIRA 1 BL5 SV EF.N°114 01/08/2016 08/08/2016 DMIC 0,00 2,60 21741-160 JD SULACAP / RIO DE JANEIRO - RJ CNPJ: 00.394.429/0117-30 DIC - Duração de interrupção individual FIC - Frequência de interrupção individual DMIC - Duração máxima de interrupção contínua DICRI - Duração da interrupção individual em dia crítico CÓDIGO DO CLIENTE CÓDIGO DA INSTALAÇÃO 20003992 0420577631 VALOR DO ENCARGO DE USO DO SISTEMA DE DISTRIBUIÇÃO: DESCRIÇÃO UNIDADE QUANT. PREÇO UNIT R$ VALOR R$ R$ 28,44 CFOP O cliente tem o direito de solicitar a qualquer tempo a apuração dos indicadores DIC, FIIC, DMIC e DICRI e também receber uma compensação, caso sejam violadas as metas de continuidade individuais – mensal, trimestral e anual- relativos à unidade consumidora de sua responsabilidade. CUSTO DISPONIBILIDADE SISTEMA 5.258 kWh 100 0,72853 72,84 CONTRIBUIÇÃO DE ILUMIN PÚBLICA RETENÇÃO NA FONTE - IRPJ RETENÇÃO NA FONTE - CSSL RETENÇÃO NA FONTE - PIS/PASEP RETENÇÃO NA FONTE - COFINS 0000 2,93 0000 -0,87 0000 -0,73 0000 -0,47 0000 -2,19 Subtotal Faturamento (Veja abaixo) Subtotal Outros 72,84 1,33- Após o vencimento haverá multa de 2%, juros e atualização de IGP-M, cobrados em conta posterior (Res. ANEEL n° 414 de 09/09/10 e Lei 10.762 de 11/11/2003) Valor da Energia Valor da Transmissão Valor da Distribuição ICMS R$ 20% Total da Nota Fiscal R$ Base de Cálculo Alíquota Valor (já incluído no preço) 29,87 1,26 11,63 72,84 ********* *72,84 20% Encargos Setoriais 11,60 Tributos Total 14,57 18,48 72,84 VENCIMENTO TOTAL A PAGAR R$ PIS alíquota *********71,51 0,950% COFINS alíquota 4,400% 23/08/2016 R$ 0,69 R$ 3,20 Valores já incluídos no preço (PIS - Lei 10.637/02 / COFINS - Lei 10.833/03 / REH ANEEL vigente) 103 AGO15 SET15 104 Tarifas em R$/kWh (sem impostos) 95 OUT15 NOV15 107 TUSD +TE DEZ15 71 BANDEIRAS TARIFÁRIAS 0,54385 0,55885 0,57385 Bandeira Verde 76 JAN16 Bandeira Amarela FEV16 73 X X AGOSTO 2016 - BANDEIRA VERDE Bandeira Vermelha MAR16 82 ABR16 92 133 X X JULHO 2016 - BANDEIRA VERDE MAI16 JUN16 82 JUL16 91 AGO16 93 TE - Tarifa de Energia e TUSD - Tarifa de Uso do Sistema de Distribuição. MIN DEFESA COMDO AERONAUTICA CONTA EM DÉBITO AUTOMÁTICO BANCO SANTANDER S.A. VENCIMENTO TOTAL A PAGAR CÓDIGO DO CLIENTE 23/08/2016 *********71,51 20003992 AGO/2016 01 B01 585 21 0428 Autenticação Mecânica 83600000000.7.71510053100.6.04499233000.9.30000792003.0 CONSUMO '], ['P da Conta: 0266601256 Mês de referênda: 06/2017 Período: 0205/2017 a 01/06/2017 Data de emissäo: 04/06/2017 www.vivo.com.br/meuvivo vivo Fale conosoo: Central de Relacionamento *8486 ou www.vio.combr/falecoros00 Telefonica Brasil S.A Av. José Boritácio, 245 CEP 90040-130 - Porto Alegre - RS L.E: 096/2949477 CNPJ Matriz 02558.157/0001-62 CNPJ Filial :02.558157/0017-20 GUSTAVO MAFESSONI ZUFFO AV M SOCCOL, 2921 LJ VIVO CENTRO 99250-000 SERAFINA CORREA - RS Vencimento 23/06/2017 Total a Pagar - R$ 157,44 Vivo Valoriza Seus Números Vivo Saldo de pontos acumulados: Na data de: Saldo referente a conta 0266601256 no Vivo Valoriza. Para saldo atual, envie SMS com a palavra SALDO para 8011. 5.861 54-99622-2237 2205/17 Caso você tenha mais linhas, consulte o detalhamento da sua conta. Oque está sendo cobrado Quantidade de Quantidade de Plano/Pacote Valor R$ Induso Uilizado Valor Total Números Vivo PlanoPacote Plano/Pacote Mrutos/Unidades R$ Serviços Contratados VIVO MÓVEL SMARTVIVO POS 3GB FRANQUIA DE INTERNET 139,99 0,00 0,00 0,00 139,99 3,00GB 150 min 796,94MB 09m18s 32m12s MNUTOS LOCAIS LIVRES MNJTOS LOCAIS VIVO ILIMTADO MNUTOS DDD VMVO 0.00 ILIMTADO ROAMNG NACIONAL 0.00 ILIMTADO 106m30s SMS LIVRE 0.00 ILIMTADO PACOTE 5MB PATROCINADO 0.00 15.00MB 0,00 PACOTE INTERNET BONUS 500MB6M 0,00 500,00MB 500.00MB 0,00 Subtotal 139,99 Utilização Acima do Contratado No Brasil - Em Roaming Adicional por Ligações Realizadas Adicional por Ligações Recebides Subtotal 14 0,00 0,00 0,00 9 Serviços Utilizados em Períodos Anteriores Internet - Tarifacão MB/KB Subtotal 362,00KB 0,00 0,00 Continuação de Demonstrativo de Serviços no Verso MENSAGEM IMPORTANTE PARA VOCÊ Orelatório detalhado está disponível em www.vivo.combr/meuvivo e pode ser solicitacdo impresso, de forma permanente ou não. * Desde 06 de Novembro de 2016 foi incluído o número 9 à frente dos celulares dos DDDS 41, 42, 43, 44, 45, 46, 47, 48, 49, 51, 53, 54 e 55 passando ao formato: (DDD)900X-X0x. Mais informações em www.vivo.com.br9digito Agradecemos pagamentos recebidos até a emissão desta corta. Marterha o pagamento emda eevite a suspensão parcial/total dos serviços ea inclusão nos orgãos de proteção do crédito. Para pagamentos após o vencimerto serão cobrados encargos de 2%ejuros de 1% ao mês emoorta futura. vivo Vencimento Total a Pagar - R$ Nome do Cliente GUSTAVO MAFESSONI ZUFFO 23/06/2017 157,44 Cód Débito Automátioo 0266601256-0 P da Conta O266601256 Mês Referência 06/2017 846300000011 574400790014 102666012566 061741706230 Autenticação Mecânica '], ['WILSON DIAS DE SOUSA FILHO Código Vencimento: Valor: 05/04/2014 NET R EUNICE VIRGINIA RAMOS NAVERO 00310 CASA 5 PARQUE ALTO TAQUARAL CAMPINAS SP 052/010944821 424,43 CPF/CNPJ Forma de Pagamento: O MUNDO É DOS NETS 644.681.946-34 débito automático PARA 2ª VIA DA FATURA, DÉBITO AUTOMÁTICO E DÚVIDAS, ACESSE WwW.NETCOMBO.COM.BR 001/005 Importante: Minha NET: descrição total Mantenha seu e-mail e telefones sempre atualizados. Acesse net.com.br, opções Minha NET > Minha Assinatura. Atenção: o cancelamento de seus serviços NET, durante o período de permanência mínima, estará sujeito à cobrança de multa contratual. СB NET TOР NET TV 270,49 HDMAXCINEM FUT RJ CF FD COMBO VIRTUA 20 MEGA FIDELIDADE NET Virtua 112,08 NET Fone 41,86 NETFONE FALE SIMPLES ESPECIAL Valor Total 424,43 O NET TV Mensalidade NET TV 01/03/14 A 31/03/14 MENSALIDADE TV PRINCIPAL SELEÇÃO CB NET TOP HDMAXCINEM FUT RJ CF FD 270,49 Sub-Total Mensalidade NET TV 270,49 Total NET TV 270,49 NET VIRTUA Mensalidade NET VIRTUA 01/03/14 A 31/03/14 MENSALIDADE VIRTUA COMBO VIRTUA 20 MEGA FIDELIDADE 112,08 Sub-Total Mensalidade NET VIRTUA 112,08 Total NET VIRTUA 112,08 O NET Fone DURAÇÃO LIGAÇÕES LOCAIS Oh18m00s 2,38 LIGAÇÕES LOCAIS ENTRE NETFONES Oh33m00s 0,00 COMPLEMENTO DA FRANQUIA 39,48 Total NET Fone 41,86 -Para atendimento presencial consulte os endereços no site net.com.br Evite o desligamento de seu sinal efetuando o pagamento até a data do vencimento. NET filiada ao Serasa/SCPC. - Para pagamentos após o vencimento serão cobrados juros diários de 0,033% e multa de 2%. Caso existam serviços prestados e não cobrados, esses serão inclusos nas suas próximas faturas. Deficiente Auditivo e de Fala ligue 0800 721 7707 - É preciso realizar a ligação com um telefone adaptado com dispositivo TDD (Dispositivo de Telecomunicações para surdos). Ligue 4004-7777 para atendimento técnico, financeiro e compra de serviços (custo de ligação local). Ligue 10621 para informações, reclamações ou cancelamentos (ligação gratuita). Últimos Registros de Atendimento ! 052140635755052, 052140635755011, 052140635754592, 052140635754550, 052140635754527 Autenticação Mecânica EXTRATO PARA SIMPLES CONFERÊNCIA DÉBITO AUTORIZADO ATENÇÃO! ESTE EXTRATOÉ APENAS INFORMATIVO. CASO NÃO OCORRA O DÉBITO EM SUA CONTA CORRENTE, DIRIJA-SE A UM DOS BANCOS CONVENIADOS ABAIXO OU ACESSE WWW.NETCOMBO.COM.BR MINHA NET-FATURA-FATURA NET PARA EFETUAR O PAGAMENTO Atenção efetue seus pagamentos nos bancos conveniados a seguir: BANCO BRADESCO S.A., BANCO COOPERATIVO DO BRASIL SA, BANCO COOPERATIVO SICREDI S/A, BANCO DE BRASILIA SA., BANCO DO BRASIL S.A., BANCO DO ESTADO DO PARA, BANCO ITAU S.A., BANCO MERCANTIL DO BRASIL S.A., BANCO SAFRA S/A, BANCO SANTANDER, BANRISUL, CAIXA ECONOMICA FEDERAL, CITIBANK, CPFL, HSBC BANK BRASIL S.A. Cliente Identificação para Débito Mês Referência Vencimento Valor WILSON DIAS DE SOUSA FILHO NET SERVICOS 0520109448219 Março/2014 05/04/2014 424,43 84670000004-1 24430296201-8 40405052000-0 00065145236-9 '], ['Companhia Paulista de Força e Luz Rua Jorge de Figueiredo Correa, 1632 Jardim Professora Tarcília – Campinas/SP - CEP: 13087-397 Inscrição Estadual: 244.163.955.115 Inscrição no CNPJ: 33.050.196/0001-88 CPFL Uma empresa do Grupo CPFL Energia ENERGIA ARTHUR FORTES DA COSTA Nota Fiscal R HERMANTINO COELHO 255 BL 5 AP 23 Conta de Energia Elétrica MAN STO ANTONIO N°. 101096541 série C Pág. 1 de 1 13087-500 CAMPINAS SP Data de Emissão 12/11/2019 Data de Apresentação 18/11/2019 Conta Contrato No 310091689739 Lote Roteiro de leitura Medidor Cliente Reservado ao fisco 07 CAMBUD49-00000853 215857038 0711530431 6A41.8E2C.8245.9B0B.795F.1D76.C5F8.0603 PREZADO (A) CLIENTE Mantenha seus dados sempre atualizados, alguns itens determinam a tarifa e tributação de sua fatura de energia elétrica. Solicite os serviços disponíveis em nosso site com rapidez e segurança e reserve mais tempo para você em seu dia-a-dia. Mais informações acesse o endereço que consta no verso de sua conta. DADOS DA UNIDADE CONSUMIDORA ARTHUR FORTES DA COSTA R HERMANTINO COELHO, 255 BL 5 AP 23 MAN STO ANTONIO CAMPINAS - SP CPF:021.251.723-64 Classificação: Convencional B1 Residencial - Bifásico 220 / 127 V SEU CÓDIGO 8866562 CONTA/MÊS NOV/2019 ΑΤENDIMEΝTΟ PN VENCIMENTO TOTAL A PAGAR (R$) 0800 010 1010 0711530431 09/12/2019 133,52 www.cpfl.com.br DISCRIMINAÇÃO DA OPERAÇÃO - RESERVADO AO FISCO Cod. Descrição da Operação Mês Quant. Unid. Aliq. PIS COFINS Bandeiras Tarifa com Valor Total da Base Cálculo ICMS Base Cálculo 115 N° 900852730174 Ref. Fa 6,13% Tarifárias Med. Tributos Оperaҫӑo ICMS ICMS PIS/COFINS 1,33% 0605 Consumo Uso Sistema [KWh]-TUSD NOV/19 174,000 kWh 0,30448276 52,98 52,98 12,00 6,36 52,98 0,70 3,25 Amarela 20 Dias 3,68 Vermelha P1 0,12 0601 Consumo - TE NOV/19 174,000 kWh 0,34488506 60,01 60,01 12,00 7,20 60,01 0,80 0601 Adicional de Bandeira Amarela NOV/19 2,02 2,02 12,00 0,24 2,02 0,03 12 Dias 0601 Adicional de Bandeira Vermelha NOV/19 3,38 3,38 12,00 0,41 3,38 0,04 0,21 Total Distribuidora 118,39 DÉBITOS DE OUTROS SERVIÇOS 0807 Contrib. Custeio IP-CIP Municipal NOV/19 15,13 TOTAL CONSOLIDADO 133,52 118,39 14,21 118,39 1,57 7,26 HISTÓRICO DE CONSUMO kWh Dias TARIFA ANEEL EQUIPAMENTOS DE MEDIÇÃO / DATAS DE LEITURA Consumo TUSD TE Leitura Leitura Fator Consumo Taxa de Perda Leitura 2019 NO 174 32 Consumo kWh 0,24526000 0,27776000 N° Energia 12/11/2019 11/10/2019 Multipl. [kWh] [%] Próximo Mês OUT 198 31 215857038 ATIVA 11397 11223 1,00 174 13/12/2019 SET 157 29 AGO 221 31 JUL 186 31 JUN 161 29 ΜΑΙ 185 32 ABR 185 29 MAR 183 30 FEV 194 28 JAN 196 32 INDICADORES DE CONTINUIDADE DE FORNECIMENTO DE ENERGIA 2018 DEZ 184 31 Para consulta dos indicadores acesse nosso site www.cpfl.com.br NOV 63 32 INFORMAÇÕES SOBRE A FATURA AVISO IMPORTANTE A partir de 01.01.2020 todos os clientes têm direito a optar pela tarifa branca, saiba mais: www.cpfl.com.br/tarifabranca CódDébAut-Banco 310091689739 Total a Pagar (R$) Data de Vencimento 133,52 Nota Fiscal Conta de Energia Elétrica 101096541 Série C 09/12/2019 Essa conta poderá ser paga no credenciado mais perto de você. Confira a lista completa no site www.cpfl.com.br Loja 2189 - LC-PE M BERNARDES CAMP DROGARIA DOM PEDRO CAMPINAS O MATUTO cpfl paulista R PADRE MANUEL BERNARDES 971 - TAQUARAL AV GUILHERME CAMPOS LJ. 30A 500 - JARDIM SANTA GENEBRA RUA LUIZ OTAVIO, 651 - PARQUE TAQUARAL 836700000018 335200403145 033815126033 100916897398 Autenticação Mecânica '], ['233717 Companhia Paulista de Força e Luz Umo enpresa da Gripo CPFL Enerala Rua Jorge de Figueiredo Corea, 1632 Jardim Professora Tarcilia - Campinas/SP - CEP: 13087 397 Inscricão Estadual: 244.163.955.115 Inscrição no CNPJ 33.050.196/0001-B8 CPFL ENERGIA ANA RITA QUELHO FERREIRA R OTAVIO MACHADO 225 AP 162 TAQUARAL 13076-160 CAMPINAS SP Nota Fiscal Conta de Energia Eletrica N 114125005 serte C Pag. 1 de 1 Data de Emissao 0s/02/2020 Data de Apresentacan 06e/2020 Conta Certrato No 310009007594 Roteiro de leitura Cliente Reservado ao fisco Medidor 23371769 Lote 0702361459 3257 2DBE 9109.EF53 FCD5.9A83.EC2F.C6E4 03 CAMBU179-00000102 PREZADO (A) CLIENTE ATENCAO Esta conta esta classificada como RESIDENCIAL IssO significe que suns tarifes e impostos serto aplicados de acordo com essa dasse Se o imovel no e residencial, atualize seu cadastro em nossos canais de atendimento DADOS DA UNIDADE CONSUMIDORA ANA RITA QUELHO FERREIRA ROTAVIO MACHADO, 225 AP 162 CPF 049 725.848-07 TAQUARAL CAMPINAS - SP Classificaçlo Convencional B1 Residencial - Bifasico 220 / 127 V SEU CÓDIGO 25154966 ATENDIMENTO PN CONTA/MÊS VENCIMENTO TOTAL A PAGAR (RS) 13/02/2020 0800 010 1010 www.cpfl.com.br DISCRIMINACÃO DA OPERAÇÃO -RESERVADO AO FSCO 0702361459 FEV/2020 Quant Unid. ICMS Base Caiculo PIS COFINS Bandeiras Cod Descrição da Operação Més Tarifa com Valor Total da Base Caiculo Alig 115 N 914001059497 ICMS ICMS PIS/COFINS 0,95% 4,37% Tarifarias Faturada Med Operacão Tributos 0,25000000 Ret Amaria 0605 Custo Disp Uso Sistema TUSD FEV20 23 Dias 0601 Disp Sistema-TE FEV20 wWh 0.29320000 Verde 0601 Adicional D Sist Band Amarela FEV20 05 Dias 0608 Conta do mes JAN/20 Total Distribuidora TOTAL CONSOLIDADO HISTORICO DE CONSUMO kWh Dias TARIFA ANEEL Cantume EQUIPAMENTOS DE MEDIÇÃO/ DATAS DE LEITURA Letura Cansume Ta de Perte pwn TUSD Latura Fator Leitura 2020 FEV 28 Consume n 30 Mutipi Prasimo Mes O 2020 Energia JAN 233717 ATIVA 1.00 L019 DEZ 33 NOV 30 OUT 33 SET AGO 32 JUL 30 JUN 29 MAI 33 ABR 27 INDICADORES DE CONTINUIDADE DE FORNECIMENTO DE ENERGIA 31 Para consulta dos indicadores acesse nosso site www.cpfl.com.br MAR FEV 28 INFORMAÇÕES SOBRE A FATURA Considerar quita da se efetuado débito em conta corrente. Caso não ocorra o debito utilize esta conta para pagamento AVISO IMPORTANTE A partir de 01.01.2020 todos os clientes tem direito a optar pela tarifa branca, saiba mais: www.cpfi.com.br/tarifabranca DEBITO AUTOMĀTICO . ................ .... ...... Nota Fiscal CódDébAut-Banco Total a Pagar (R$) Data de Vencimento Conta de Energia Elétrica 114125005 Série C 13/02/2020 cpfl paulista Essa conta podera ser paga no credenciado mas perto de voce. Confira a lista completa no site www.cpft.com.br SUPERMERCADO TAQUARAL LTDA FAVAROSSI CONFECCOES E COMERCIO LTDA MERCADO CRISTO REI AV. NOSSA SENHORA DE FATIMA 586 - TAQUARAL RARTUR PAIOLI 31 - JARDIM NOSSA SENHORA AUXI R MARIO DE ARAUJO NAVAIS 445 - JARDIM ITAGUACU I 836700000000 572300403175 833814078030 100090075944 Autenticação Mecânica '], ['Companhia Paulista de Força e Luz Rua Jorge de Figueiredo Correa, 1632 Jardim Professora Tarcília – Campinas/SP - CEP: 13087-397 Inscrição Estadual: 244.163.955.115 Inscrição no CNPJ: 33.050.196/0001-88 СPFL Uma empresa do Grupo CPFL Energia ENERGIA RODRIGO MARTINS VIEIRA Nota Fiscal R OLINDO GARDELIN 90 BL 2 AP 4 Conta de Energia Elétrica PQ VALENCA I N°. 111806792 série C Pág. 1 de 1 13058-533 CAMPINAS SP Data de Emissão 20/01/2020 Data de Apresentação 21/01/2020 Conta Contrato No 310053839117 Lote Roteiro de leitura Medidor Cliente Reservado ao fisco 12 CAMBU685-00000300 129203734 0711096154 AABC.549F.421E.26D1.A593.A5A3.824C.D02C PREZADO (A) CLIENTE FELIZ ANO NOVO! Que tal começar o ano atualizando seu cadastro? Saiba que a classe da sua conta determina sua tarifa e impostos. Se o imóvel não é RESIDENCIAL, atualize seu cadastro em nossos canais de atendimento. DADOS DA UNIDADE CONSUMIDORA RODRIGO MARTINS VIEIRA R OLINDO GARDELIN, 90 BL 2 AP 4 PQ VALENCA I CAMPINAS - SP CPF:322.826.108-57 Classificação: Convencional B1 Residencial - Monofásico 127 V SEU CÓDIGO 4000308482 CONTA/MÊS JAN/2020 TOTAL A PAGAR (R$) 189,11 ATENDIMENTO PN VENCIMENTO 0800 010 1010 0711096154 28/01/2020 www.cpfl.com.br DISCRIMINAÇÃO DA OPERAÇÃO - RESERVADO AO FISCO Cod. Descrição da Operação Mês Quant. Unid. Aliq. PIS COFINS Bandeiras Tarifa com Valor Total da Base Cálculo ICMS Base Cálculo 115 N° 908751984791 Ref. Fa Operação 1,37% 6,27% Tarifárias Med. Tributos ICMS ICMS PIS/COFINS 0605 Consumo Uso Sistema [KWh]-TUSD JAN/20 218,000 kWh 0,36408257 79,37 79,37 25,00 19,84 79,37 1,09 4,98 Amarela 12 Dias 0601 Consumo - TE JAN/20 218,000 kWh 0,41233945 89,89 89,89 25,00 22,47 89,89 1,23 5,64 Amarela 0601 Adicional de Bandeira Amarela JAN/20 4,33 4,33 25,00 1,08 4,33 0,06 0,27 20 Dias Total Distribuidora 173,59 DÉBITOS DE OUTROS SERVIÇOS 0807 Contrib. Custeio IP-CIP Municipal JAN/20 15,52 TOTAL CONSOLIDADO 189,11 173,59 43,39 173,59 2,38 10,89 HISTÓRICO DE CONSUMO kWh Dias TARIFA ANEEL EQUIPAMENTOS DE MEDIÇÃO / DATAS DE LEITURA Consumo TUSD TE Leitura Leitura Fator Consumo Taxa de Perda Leitura 2020 JAN 218 32 Consumo kWh 0,24526000 0,27776000 N° Energia 20/01/2020 19/12/2019 Multipl. [kWh] [%] Próximo Mês 2019 DEZ 172 29 129203734 ATIVA 13188 12970 1,00 218 17/02/2020 NOV 219 33 OUT 163 31 SET 165 29 AGO 177 31 JUL 178 31 JUN 137 29 ΜΑΙ 204 33 ABR 157 28 MAR 190 30 INDICADORES DE CONTINUIDADE DE FORNECIMENTO DE ENERGIA FEV 187 28 Para consulta dos indicadores acesse nosso site www.cpfl.com.br JAN 254 33 INFORMAÇÕES SOBRE A FATURA Custeio de iluminação pública: alterado valor de arrecadação conforme Lei Municipal 00011453 de 27.12.2002, com fundamento no Art. 149 A, parágrafo único, da Constituição Federal do Brasil. Considerar quitada se efetuado débito em conta corrente. Caso não ocorra o débito utilize esta conta para pagamento. AVISO IMPORTANTE A partir de 01.01.2020 todos os clientes têm direito a optar pela tarifa branca, saiba mais: www.cpfl.com.br/tarifabranca DÉBITO AUTOMÁTICO Total a Pagar (R$) Data de Vencimento 189,11 Nota Fiscal CódDébAut-Banco Conta de Energia Elétrica 111806792 Série C 310053839117 28/01/2020 Banco 001 Agência 1890 Essa conta poderá ser paga no credenciado mais perto de você. Confira a lista completa no site www.cpfl.com.br CONSCETTA E CONSCETTA LTDA ME SUPERMEROCADO SAO JOAO SUPERMERCADO AMARANTE cpfl paulista R IZIDORO BOSNARDO, 5 - JARDIM MARACANA R DR EDGARD PEREIRA DE SOUZA, 9 - PARQUE VALENCA R LOJA MACONICA INDEPENDENTE 826 - LOT NOVO MUNDO 836100000014 891100403072 933933343032 100538391176 Autenticação Mecânica '], ['vivo N° da Conta: 00001101080299 www.vivo.com.br/meuvivo Mês de referência: 12/2019 Fale conosco: Central de Relacionamento Período: 25/11/2019 a 24/12/2019 *8486 ou www.vivo.com.br/faleconosco Data de emissão: 01/01/2020 Telefonica Brasil S.A. Av. Engenheiro Luiz Carlos Berrini, 1.376 CEP: 04571-936 - São Paulo - SP I.E.: 108383949112 CNPJ Matriz: 02.558.157/0001-62 CNPJ Filial: 02.558.157/0001-62 PATRICIA MIKA SAKUGAWA AVENIDA LINO JARDIM 131 ΑPARTAΜΕΝΤΟ 101 VILA BASTOS 09041-030 SANTO ANDRE - SP Vencimento 10/01/2020 Total a Pagar R$ 54,99 Aguarde informações referentes ao Vivo Valoriza Seus Números Vivo 11-97448-3448 Caso você tenha mais linhas, consulte o detalhamento da sua conta. Planos Anatel 066/POS/SMP - VIVO CTRL DIGITAL-3GB ILIM ənb O que está sendo cobrado Quantidade de Quantidade de Valor R$ Incluso Utilizado Valor Total de 25/11/2019 a 24/12/2019 Plano/Pacote Números Vivo Plano/Pacote Plano/Pacote Minutos/Unidades R$ Serviços Contratados 54,99 0,00 0,00 VIVO CTRL DIGITAL-3GB ILIM 1 1 54,99 VIVO CONTROLE SERV DIGITAL II 1 1 BÔNUS CONTA DIGITAL 1 1 500MB 0,00 Subtotal Serviços Contratados 54,99 TOTAL A PAGAR 54,99 MENSAGEM PARA VOCÊ A conta detalhada está disponível em www.vivo.com.br/meuvivo e pode ser solicitada impressa, de forma permanente ou não. No app Meu Vivo além de ativar conta digital, você acompanha seu consumo de internet e solicita 2ª via de conta. Você também pode ser atendido através do WhatsApp. É muito simples. Adicione o número 11 999 15 15 15 e fale com Vivo. Mantenha o pagamento em dia e evite a suspensão parcial/total dos serviços e a inclusão nos orgãos de proteção ao crédito. Para pagamentos após o vencimento serão cobrados encargos de 2% e juros de 1% ao mês em conta futura. ANATEL 1331 e 1332 para deficientes auditivos. Recurso de atendimento Vivo: ligue com o protocolo em mãos para 1058 e 142 para pessoas com deficiência de fala/audição. vivo Vencimento Total a Pagar - R$ Nome do Cliente PATRICIA MIKA SAKUGAWA 10/01/2020 54,99 Cód. Débito Automático 1101080299-7 N° da Conta 00001101080299 Mês Referência 12/2019 846800000008 549900801008 011010802996 919129722576 Autenticação Mecânica '], ['WILSON DIAS DE SOUSA FILHO R EUNICE VIRGINIA RAMOS NAVERO,310,CS 5 PARQUE ALTO TAQUARAL Código Vencimento Valor: NET 424,42 052/010944821 05/10/2014 13087-765 CAMPINAS SP Forma de Pagamento DÉBITO ĂUTOMÁTICO CPF/CNPJ O MUNDO É DOS NETS 644.681.946-34 PARA 2a VIA DA FATURA, DÉBITO AUTOMÁTICO E DÚVIDAS, ACESSE NET.COM.BR 001/003 Importante: descrição total Minha NET: NET TV 270,49 Mantenha seu e-mail e telefones sempre atualizados. Acesse net.com.br, opções Minha NET > Minha Assinatura. Atenção: o cancelamento de seus serviços NET, durante o período de permanência mínima, estará sujeito à cobrança de multa contratual. CB NET TOP NET Virtua 112,08 HDMAXCINEM FUT RJ CF FD NET Fone 41,85 COMBO VIRTUA 20 MEGA FIDELIDADE NETFONE FALE SIMPLES ESPECIAL Valor total 424,42 NET TV Mensalidade NET TV 01/09/14 A 30/09/14 MENSALIDADE TV PRINCIPAL SELEÇÃO CB NET TOP HDMAXCINEM FUT RJ CF FD Sub-Total Mensalidade NET TV 270,49 270,49 270,49 Total NET TV @ NET VIRTUA Mensalidade NET VIRTUA 01/09/14 A 30/09/14 MENSALIDADE VIRTUA COMBO VIRTUA 20 MEGA FIDELIDADE 112,08 Sub-Total Mensalidade NET VIRTUA 112,08 Total NET VIRTUA 112,08 NET FONE SERVIÇO DURAÇÃO LIGAÇÕES LOCAIS Oh37m30s 5,75 LIGAÇÕES LOCAIS ENTRE NETFONES Oh31 m00s 0,00 LIGAÇÕES DDD ENTRE NETFONES Oh02m48s 0,39 COMPLEMENTO DA FRANQUIA 35,71 Total NET FONE 41,85 REGISTROS DE ATENDIMENTO: -Para atendimento presencial consulte os endereços no site net.com.br realizar a ligação com um telefone adaptado com dispositivo TDD (Dispositivo de Telecomunicações para surdos). Ligue 4004-7777 para atendimento técnico, financeiro e compra de serviços (custo de ligação local). Ligue 10621 para informações, reclamações ou cancelamentos (ligação gratuita). Ouvidoria 0800 701 01 80 ! 052140738702381, 052140738130401, - Evite o desligamento de seu sinal efetuando o pagamento até a data do vencimento. NET filiada ao Serasa/SCPC. 052140738130385, 052140738130369, 052140738130195 - Para pagamentos após o vencimento serão cobrados juros diários de 0,033% e multa de 2%. - Caso existam serviços prestados e não cobrados, esses serão inclusos nas suas próximas faturas. Deficiente Auditivo e de Fala ligue 0800 721 7707 - É preciso A utenticação Mecânica EXTRATO PARA SIMPLES CONFERÊNCIA DÉBITO AUTORIZADO NO BANCO DO BRASIL. ATENÇÃO! O débito da sua fatura em conta corrente já está programado. Caso o débito não ocorra, acesse www.netcombo.com.br/faturanet para efetuar o pagamento. Atenção efetue seus pagamentos nos bancos conveniados a seguir: BANCO BRADESCO S.A., BANCO COOPERATIVO DO BRASIL SA, BANCO COOPERATIVO SICREDI S/A, BANCO DE BRASILIA SA., BANCO DO BRASIL S.A., BANCO DO ESTADO DO PARA, BANCO ITAU S.A., BANCO MERCANTIL DO BRASIL S.A., BANCO SAFRA S/A, BANCO SANTANDER, BANRISUL, CAIXA ECONOMICA FEDERAL, CITIBANK, CPFL, HSBC BANK BRASIL S.A.. Mês Referência Identificação para Débito NET SERVICOS 0520109448219 Cliente Vencimento Valor WILSON DIAS DE SOUSA FILHO Setembro/2014 05/10/2014 424,42 '], ['Companhia Paulista de Força e Luz Rod. Campinas-Mogi Mirim, km 2,5, n° 1755 CP 7005 – CEP 13076-970 – Campinas – SP Inscrição Estadual: 244.163.955.115 Inscrição no CNPJ: 33.050.196/0001-88 CPFL Uma empresa do Grupo CPFL Energia ENERGIA ARNALDO MACIEL BELLATO Nota Fiscal R JASMIM 612 TP 1 AQUARELLE RESIDENCE AP 10 Conta de Energia Elétrica CH PRIMAVERA N°. 001274875 série C Pág. 1 de 1 13087-460 CAMPINAS SP Data de Emissão 11/07/2017 Data de Apresentação 14/07/2017 Conta Contrato No 310054814230 Lote Roteiro de leitura Medidor Cliente Reservado ao fisco 06 CAMBUD02-00000172 220851662 0703613358 122E.1BEE.B107.0208.043C.C67F.CA0E.800E PREZADO (A) CLIENTE Mantenha seus dados sempre atualizados, alguns itens determinam a tarifa e tributação de sua fatura de energia elétrica. Solicite os serviços disponíveis em nosso site com rapidez e segurança e reserve mais tempo para você em seu dia-a-dia. Mais informações acesse o endereço que consta no verso de sua conta. DADOS DA UNIDADE CONSUMIDORA ARNALDO MACIEL BELLATO R JASMIM, 612 TP 1 AQUARELLE RESIDENCE AP 10 CH PRIMAVERA CAMPINAS - SP CPF:290.848.948-12 CLASSIFICAÇÃO: B1 Residencial - Bifásico 220 / 127 V CONTA/MÊS JUL/2017 SEU CÓDIGO TOTAL A PAGAR (R$) 33,66 ATENDIMENTO CPFL PN VENCIMENTO 0800 0 10 10 10 0703613358 4000568483 24/07/2017 www.cpfl.com.br DISCRIMINAÇÃO DA OPERAÇÃO - RESERVADO AO FISCO Cod. Descrição da Operação Mês Quant. Unid. Tarifa com Valor Total da Base Cálculo Aliq. ICMS Base Cálculo PIS COFINS Bandeiras Tarifárias 115 N° 905101672225 Operação (Dias) Ref. turada Med. Tributos ICMS ICMS PIS/COFINS 0,86% 3,95% Verde 0605 Consumo Uso Sistema [KWh]-TUSD JUL/17 78,000 kWh 0,15935898 12,43 12,43 0,11 0,49 22 Dias 0601 Consumo Bandeira Verde - TE JUL/17 78,000 kWh 0,26525642 20,69 20,69 0,18 0,82 Amarela 0601 Adicional de Bandeira Amarela JUL/17 0,54 0,54 0,02 11 Dias Total Distribuidora 33,66 TOTAL CONSOLIDADO 33,66 33,66 0,29 1,33 HISTÓRICO DE CONSUMO kWh Dias TARIFA ANEEL EQUIPAMENTOS DE MEDIÇÃO / DATAS DE LEITURA Consumo TUSD TE Leitura Leitura Fator Consumo Taxa de Perda Leitura 2017 JUL 78 33 Consumo kWh 0,15168000 0,25249000 N° Energia 11/07/2017 08/06/2017 Multipl. [kWh] [%] Próximo Mês JUN 75 29 220851662 ATIVA 3953 3875 1,00 78 09/08/2017 ΜΑΙ 71 33 ABR 88 29 MAR 77 29 FEV 74 29 COMPOSIÇÃO FORNECIMENTO Energia R$ Transmissão R$ JAN 72 29 INDICADORES DE CONTINUIDADE DE FORNECIMENTO DE ENERGIA CAMPINAS 6-TAQUARAL 2016 DEZ 95 33 18,53 Padrão Padrão Padrão Apurado Período Valor do EUSD NOV 80 30 2,48 Trimestral 9,43 6,22 Mensal 0,00 0,00 0,00 0,00 Apuração [R$] Distribuição R$ Perdas R$ DIC FIC DMIC DICRI Mensal 4,71 3,11 2,60 12,22 Anual 18,86 12,45 OUT 79 31 6,19 05/2017 10,76 SET 75 30 2,27 78 30 Encargos R$ Tributos R$ AGO 2,57 JUL 73 32 1,62 INFORMAÇÕES SOBRE A FATURA Considerar quitada se efetuado débito em conta corrente. Caso não ocorra o débito utilize esta conta para pagamento. AVISO IMPORTANTE DÉBITO AUTOMÁTICO Total a Pagar (R$) Data de Vencimento 33,66 Nota Fiscal CódDébAut-Banco 310054814230 Conta de Energia Elétrica 001274875 Série C 24/07/2017 Banco 001 Agência 4053 Essa conta poderá ser paga no credenciado mais perto de você. Confira a lista completa no site www.cpfl.com.br DROGARIA THE MALL DROGARIA DOM PEDRO CAMPINAS AC SHOPPING PARQUE D PEDRO cpfl paulista R. RUTE FERRAZ DE ANGELIS - LJL 01 886 - LOTEAMENTO RESIDENCI AV GUILHERME CAMPOS LJ. 30A 500 - JARDIM SANTA GENEBRA Av Guilherme Campos 500 Loja 004 Aloja 004 A - Pq das Flores 836400000003 336600403008 765287448037 100548142304 Autenticação Mecânica '], ['WILSON DIAS DE SOUSA FILHO Código Vencimento: Valor: 05/04/2014 NET R EUNICE VIRGINIA RAMOS NAVERO 00310 CASA 5 PARQUE ALTO TAQUARAL CAMPINAS SP 052/010944821 424,43 CPF/CNPJ Forma de Pagamento: O MUNDO É DOS NETS 644.681.946-34 débito automático PARA 2ª VIA DA FATURA, DÉBITO AUTOMÁTICO E DÚVIDAS, ACESSE WwW.NETCOMBO.COM.BR 001/005 Importante: Minha NET: descrição total Mantenha seu e-mail e telefones sempre atualizados. Acesse net.com.br, opções Minha NET > Minha Assinatura. Atenção: o cancelamento de seus serviços NET, durante o período de permanência mínima, estará sujeito à cobrança de multa contratual. СB NET TOР NET TV 270,49 HDMAXCINEM FUT RJ CF FD COMBO VIRTUA 20 MEGA FIDELIDADE NET Virtua 112,08 NET Fone 41,86 NETFONE FALE SIMPLES ESPECIAL Valor Total 424,43 O NET TV Mensalidade NET TV 01/03/14 A 31/03/14 MENSALIDADE TV PRINCIPAL SELEÇÃO CB NET TOP HDMAXCINEM FUT RJ CF FD 270,49 Sub-Total Mensalidade NET TV 270,49 Total NET TV 270,49 NET VIRTUA Mensalidade NET VIRTUA 01/03/14 A 31/03/14 MENSALIDADE VIRTUA COMBO VIRTUA 20 MEGA FIDELIDADE 112,08 Sub-Total Mensalidade NET VIRTUA 112,08 Total NET VIRTUA 112,08 O NET Fone DURAÇÃO LIGAÇÕES LOCAIS Oh18m00s 2,38 LIGAÇÕES LOCAIS ENTRE NETFONES Oh33m00s 0,00 COMPLEMENTO DA FRANQUIA 39,48 Total NET Fone 41,86 -Para atendimento presencial consulte os endereços no site net.com.br Evite o desligamento de seu sinal efetuando o pagamento até a data do vencimento. NET filiada ao Serasa/SCPC. - Para pagamentos após o vencimento serão cobrados juros diários de 0,033% e multa de 2%. Caso existam serviços prestados e não cobrados, esses serão inclusos nas suas próximas faturas. Deficiente Auditivo e de Fala ligue 0800 721 7707 - É preciso realizar a ligação com um telefone adaptado com dispositivo TDD (Dispositivo de Telecomunicações para surdos). Ligue 4004-7777 para atendimento técnico, financeiro e compra de serviços (custo de ligação local). Ligue 10621 para informações, reclamações ou cancelamentos (ligação gratuita). Últimos Registros de Atendimento ! 052140635755052, 052140635755011, 052140635754592, 052140635754550, 052140635754527 Autenticação Mecânica EXTRATO PARA SIMPLES CONFERÊNCIA DÉBITO AUTORIZADO ATENÇÃO! ESTE EXTRATOÉ APENAS INFORMATIVO. CASO NÃO OCORRA O DÉBITO EM SUA CONTA CORRENTE, DIRIJA-SE A UM DOS BANCOS CONVENIADOS ABAIXO OU ACESSE WWW.NETCOMBO.COM.BR MINHA NET-FATURA-FATURA NET PARA EFETUAR O PAGAMENTO Atenção efetue seus pagamentos nos bancos conveniados a seguir: BANCO BRADESCO S.A., BANCO COOPERATIVO DO BRASIL SA, BANCO COOPERATIVO SICREDI S/A, BANCO DE BRASILIA SA., BANCO DO BRASIL S.A., BANCO DO ESTADO DO PARA, BANCO ITAU S.A., BANCO MERCANTIL DO BRASIL S.A., BANCO SAFRA S/A, BANCO SANTANDER, BANRISUL, CAIXA ECONOMICA FEDERAL, CITIBANK, CPFL, HSBC BANK BRASIL S.A. Cliente Identificação para Débito Mês Referência Vencimento Valor WILSON DIAS DE SOUSA FILHO NET SERVICOS 0520109448219 Março/2014 05/04/2014 424,43 84670000004-1 24430296201-8 40405052000-0 00065145236-9 '], ['233717 Companhia Paulista de Força e Luz Umo enpresa da Gripo CPFL Enerala Rua Jorge de Figueiredo Corea, 1632 Jardim Professora Tarcilia - Campinas/SP - CEP: 13087 397 Inscricão Estadual: 244.163.955.115 Inscrição no CNPJ 33.050.196/0001-B8 CPFL ENERGIA ANA RITA QUELHO FERREIRA R OTAVIO MACHADO 225 AP 162 TAQUARAL 13076-160 CAMPINAS SP Nota Fiscal Conta de Energia Eletrica N 114125005 serte C Pag. 1 de 1 Data de Emissao 0s/02/2020 Data de Apresentacan 06e/2020 Conta Certrato No 310009007594 Roteiro de leitura Cliente Reservado ao fisco Medidor 23371769 Lote 0702361459 3257 2DBE 9109.EF53 FCD5.9A83.EC2F.C6E4 03 CAMBU179-00000102 PREZADO (A) CLIENTE ATENCAO Esta conta esta classificada como RESIDENCIAL IssO significe que suns tarifes e impostos serto aplicados de acordo com essa dasse Se o imovel no e residencial, atualize seu cadastro em nossos canais de atendimento DADOS DA UNIDADE CONSUMIDORA ANA RITA QUELHO FERREIRA ROTAVIO MACHADO, 225 AP 162 CPF 049 725.848-07 TAQUARAL CAMPINAS - SP Classificaçlo Convencional B1 Residencial - Bifasico 220 / 127 V SEU CÓDIGO 25154966 ATENDIMENTO PN CONTA/MÊS VENCIMENTO TOTAL A PAGAR (RS) 13/02/2020 0800 010 1010 www.cpfl.com.br DISCRIMINACÃO DA OPERAÇÃO -RESERVADO AO FSCO 0702361459 FEV/2020 Quant Unid. ICMS Base Caiculo PIS COFINS Bandeiras Cod Descrição da Operação Més Tarifa com Valor Total da Base Caiculo Alig 115 N 914001059497 ICMS ICMS PIS/COFINS 0,95% 4,37% Tarifarias Faturada Med Operacão Tributos 0,25000000 Ret Amaria 0605 Custo Disp Uso Sistema TUSD FEV20 23 Dias 0601 Disp Sistema-TE FEV20 wWh 0.29320000 Verde 0601 Adicional D Sist Band Amarela FEV20 05 Dias 0608 Conta do mes JAN/20 Total Distribuidora TOTAL CONSOLIDADO HISTORICO DE CONSUMO kWh Dias TARIFA ANEEL Cantume EQUIPAMENTOS DE MEDIÇÃO/ DATAS DE LEITURA Letura Cansume Ta de Perte pwn TUSD Latura Fator Leitura 2020 FEV 28 Consume n 30 Mutipi Prasimo Mes O 2020 Energia JAN 233717 ATIVA 1.00 L019 DEZ 33 NOV 30 OUT 33 SET AGO 32 JUL 30 JUN 29 MAI 33 ABR 27 INDICADORES DE CONTINUIDADE DE FORNECIMENTO DE ENERGIA 31 Para consulta dos indicadores acesse nosso site www.cpfl.com.br MAR FEV 28 INFORMAÇÕES SOBRE A FATURA Considerar quita da se efetuado débito em conta corrente. Caso não ocorra o debito utilize esta conta para pagamento AVISO IMPORTANTE A partir de 01.01.2020 todos os clientes tem direito a optar pela tarifa branca, saiba mais: www.cpfi.com.br/tarifabranca DEBITO AUTOMĀTICO . ................ .... ...... Nota Fiscal CódDébAut-Banco Total a Pagar (R$) Data de Vencimento Conta de Energia Elétrica 114125005 Série C 13/02/2020 cpfl paulista Essa conta podera ser paga no credenciado mas perto de voce. Confira a lista completa no site www.cpft.com.br SUPERMERCADO TAQUARAL LTDA FAVAROSSI CONFECCOES E COMERCIO LTDA MERCADO CRISTO REI AV. NOSSA SENHORA DE FATIMA 586 - TAQUARAL RARTUR PAIOLI 31 - JARDIM NOSSA SENHORA AUXI R MARIO DE ARAUJO NAVAIS 445 - JARDIM ITAGUACU I 836700000000 572300403175 833814078030 100090075944 Autenticação Mecânica '], [\"Companhia Paulista de Força e Luz Rua Jorge de Figueiredo Correa, 1632 Jd. Prof. Tarcília - Campinas - SP - CEP 13087-397 Inscrição Estadual: 244.163.955.115 Inscrição no CNPJ: 33.050.196/0001-88 CPFL Uma empresa do Grupo CPFL Energia ENERGIA Nota Fiscal Conta de Energia Elétrica N° 185696658 Série C GUILHERME ARLOTTA R ANTONIO FRANCISCO DE ANDRADE 335 AP 31 JD PROENCA 13026-140 CAMPINAS SP Data de Emissão: 12/05/2021 Data de Apresentação: 13/05/2021 Pág: 01 de 01 Conta Contrato N° 310038443800 Leitura Próximo Mês: 09/06/2021 Lote Roteiro de leitura N°. Medidor PN Reservado ao Fisco 06 CAMBU339-00000588 203497384 704484481 B846.43C3.5502.0D9B.6B9D.FCAA.4531.80E6 PREZADO(A) CLIENTE Houve Reajuste Tarifário na sua conta a partir de 22/04/2021, aumento médio de 8,64% (Resolução Homologatória n° 2.854/21). Sua conta será faturada com bandeira vermelha patamar 1 a partir de 01/05/2021, no valor de R$4,169 a cada 100 kWh, conforme deter minado pela Aneel. DADOS DA UNIDADE CONSUMIDORA GUILHERME ARLOTTA CPF: 984.054.897-20 RANTONIO FRANCISCO DE ANDRADE, 335 AP 31 JD PROENCA CLASSIFICAÇÃO: Convencional B1 Residencial - Bifásico 220 / 127 V 13026-140 CAMPINAS - SP ATENDIMENTO PN SEU CÓDIGO CONTA MÊS VENCIMENTO TOTAL A PAGAR 0800 010 1010 INSTALAÇÃO 704484481 MAI/2021 20/05/2021 153,87 www.cpfl.com.br 9542272 DISCRIMINAÇÃO DA OPERAÇÃO - RESERVADO AO FISCO Valor Total Bandeiras Tarifárias Cod. Descrição da Operação Mês Quant. Unid. Tarifa com Base Cálculo Aliq. ICMS Base Cálculo PIS COFINS da Operação R$ 115 N° 901103422517 Ref. Faturada Med. Tributos R$ ICMS R$ ICMS PIS/COFINS 0,68% 3,11% (Dias) 0605 Consumo Uso Sistema [KWh]-TUSD ΜΑΙ/21 191,000 kWh 0,34497383 65,89 65,89 12,00 7,91 65,89 0,45 2,05 Amarela 0601 Consumo - TE MAI/21 191,000 kWh 0,34617802 66,12 66,12 12,00 7,93 66,12 0,45 2,06 18 Dias Vermelha P1 0601 Adicional de Bandeira Amarela ΜΑΙ/21 1,82 1,82 12,00 0,22 1,82 0,01 0,06 12 Dias 0601 Adicional de Bandeira Vermelha MAI/21 3,78 3,78 12,00 0,45 3,78 0,03 0,12 Total Distribuidora 137,61 DÉBITOS DE OUTROS SERVIÇOS 0807 Contrib. Custeio IP-CIP Municipal MAI/21 16,26 Total Consolidado 153,87 137,61 16,51 137,61 0,94 4,29 HISTÓRICO DE CONSUMO kWh Dias TARIFA ANEEL EQUIPAMENTOS DE MEDIÇÃO / DATAS DE LEITURAS 2021 MAI 191 30 Consumo TUSD TE N° Energia Leitura Leitura Fator ConsumoTaxa de Perda Leitura ABR 252 32 Multipl. 1,00 Consumo kWh 0,29048200 0,29154000 12/05/2021 12/04/2021 [kWh] [%] Próximo Mês MAR 227 31 203497384 Ativa 61968 61777 191 09/06/2021 FEV 282 28 JAN 226 31 2020 DEZ 253 31 NOV 250 32 OUT 289 29 SET 247 31 AGO 236 33 INDICADORES DE CONTINUIDADE DE FORNECIMENTO DE ENERGIA JUL 231 30 JUN 211 27 Para consulta dos indicadores acesse nosso site www.cpfl.com.br MAI 223 33 INFORMAÇÕES SOBRE A FATURA AVISO IMPORTANTE Nota Fiscal Total a Pagar (R$) 153,87 CódDébAut-Banco Data de Vencimento Conta de Energia Elétrica 310038443800 20/05/2021 N° 185696658 Série C Essa conta poderá ser paga no credenciado mais perto de você. Confira a lista completa no site SUNIGAS III ADMINISTRACAO C LTDA EPP PONTE PRETA CARREFOUR-BAIRRO-SP CAMPINAS-CAP AV PRINCESA D'OESTE 1107 - JD SAO JOAQUIM PRAÇA DR FRANCISCO URSAIA S/N - BOSQUE AV. JOSE SOUZA CAMPOS, S/N QUART 690 - CAMBUI Pague aqui - PIX 836500000010 538700403131 034625538037 100384438006 Autenticação Mecânica cpfl paulista Uma empresa do Grupo CPFL Energia \"], ['Companhia Paulista de Força e Luz CPFL ENERGIA Rod Eng Miguel Noel N. Burnier, kn 2.5 Campinas. SP 13088-900 Inscricão Estadualt 244.163.955.115 Inscrição no CNPA 33.050.196/0001-88 Uma empresa do Grupo CPFL Energia MARCOS ROGERIO DA SILVA PEREIRA R FRANCISCO FADIM, 120 BL 3 AP 301 MORUMBI 13140-726 PAULINIA/SP Nota Fiscal Conta de Energiia Eletrica N 201509003507081 serie C Data de Emissäo 240S2015 Data de Apresentação: 29/0s2015 Pág 01 de 01 Conta Contrato N° 3100519377 Lote Roteiro de Leitura N°. Medidor PN Reservado ao Fisco 60002034 '], ['MARIA DO ROSÁRIO CARVALHO FORTES R PEDRO VASCONCELOS, 01739 ED ANT. REINALDO Código Vencimento Valor 05/06/2021 192,49 Claro- 063/001311702 SOARES BL A APT 201 NOIVOS Forma de Pagamento DÉBITO AUTOMÁTICO CPF/CNPJ 64045-112 TERESINA PI 078.213.013-53 PARA 2a VIA DA FATURA, DÉBITO AUTOMÁTICO E DÚVIDAS, ACESSE MINHACLARO.COM.BR 001/007 Importante: Minha Claro: descrição total Mantenha seu e-mail e telefones sempre atualizados. Acesse claro.com.br/minha-claro, faça seu login ou cadastre-se. NET VIRTUA + NET VIRTUA + 119,99 Atenção: o cancelamento de seus serviços CLAR0, durante o período de permanência mínima, estará sujeito à cobrança de multa NETFONE ILIM BRASIL EXC C NET Fone 9,99 contratual. RET Lei n° 12007/09: Esta declaração substitui, para a comprovação do U SERVIÇOS MÓVEIS O Serviços Móveis 62,51 cumprimento das obrigações do consumidor, a quitação anual dos faturamentos mensais dos débitos com vencimento em 2016,2017,2018,2019,2020, referentes as mensalidades dos serviços prestados pela Claro, exceto Claro net fone VIA EMBRATEL (a declaração referente a este serviço será encaminhada pela EMBRATEL) Claró-clube Valor total 192,49 Cadastre-se em: www.claro.com.br/claro-clube O NET VIRTUA + Mensalidade NET VIRTUA + 01/05/21 A 31/05/21 OFERTA CONJUNTA VIRTUA 240 MEGA + APLICATIVOS 119,99 Sub-Total Mensalidade NET VIRTUA + 119,99 Total NET VIRTUA + 119,99 ( NET Fone SERVIÇO DURAÇÃO ASSINATURA 9,99 Total NET Fone 9,99 U Serviços Móveis Mensalidade Claro 62,51 Total Serviços Móveis 62,51 CONSULTE O SINAL DOS SEUS PRODUTOS NO MINHA CLARO. Acesse, quando quiser, diversos assuntos técnicos, financeiros e sobre seus produtos com muito mais comodidade no Minha Claro. Consulte o sinal, agende a visita e acompanhe o trajeto do técnico até a sua casa pelo Minha Claro. Confira outras facilidades: Suporte Solicitar 2* via da fatura. @. Cadastrar sua Fatura Digital. Mudar para Débito Automático. Reconfigurar rede Wi-Fi. E muito mais! Cadastre-se: Preca ets Minha, Claro- residencial Claro- BAOKE O APP Você merece o novo. \"Para atendimento presencial, consulte o endereço da D loja mais próxima em claro.com.br/encontre-uma-loja\" Evite o desligamento de seu sinal efetuando o pagamento até a data do vencimento. NET filiada ao Serasa/SCPC. - Para pagamentos após o vencimento serão cobrados juros diários de 0,033% e multa de 2%. - Caso existam serviços prestados e não cobrados, esses serão inclusos nas suas próximas faturas. Deficiente Auditivo e de Fala ligue 0800 721 7707 - É preciso realizar a ligação com um telefone adaptado com dispositivo TDD (Dispositivo de Telecomunicações para surdos). Ligue 4004-7777 para atendimento técnico, financeiro e compra de serviços (custo de ligação local). Ligue 10621 para informações, reclamações ou cancelamentos (ligação gratuita). REGISTROS DE ATENDIMENTO: 063213851662489, 063203758593945, 063203758562056, 063203758555217, 063203715565846 Ouvidoria 08007010180 Autenticação Mecânica DÉBITO AUTORIZADO - BANCO DO BRASIL S.A. ATENÇÃO! ESTE EXTRATO É APENAS INFORMATIVO. Caso não ocorra o débito em sua conta corrente, dirija-se a um dos bancos conveniados abaixo ou acesse claro.com.br/minha-claro, faça seu login e efetue o pagamento. Atenção efetue seus pagamentos nos bancos conveniados a seguir: BANCO BRADESCO S.A., BANCO COOPERATIVO DO BRASIL SA, BANCO COOPERATIVO SICREDI S/A, BANCO DE BRASILIA SA., BANCO DO BRASIL S.A., BANCO DO ESTADO DO PARA, BANCO INTER S.A., BANCO ITAU S.A., BANCO MERCANTIL DO BRASIL S.A., BANCO ORIGINAL S.A., BANCO SAFRA S/A, BANCO SANTANDER, BANCO TRIANGULO S.A., BANESE, BANRISUL, CAIXA ECONOMICA FEDERAL, CITIBANK, MULTIPAGOS Mês Referência Maio/2021 Cliente Identificação para Débito NET SERVICOS 0630013117025 Vencimento Valor MARIA DO ROSÁRIO CARVALHO FORTES 05/06/2021 192,49 84680000001-6 92490296202-7 10605063000-8 00212932629-0 m '], ['SEGUNDA VIA Light, sempre com você, 24 horas! Informações sobre condições gerais de fornecimento, tarifas, produtos, serviços e tributos? Faltou luz? Envie SMS com o Código da Instalação para o nº 54448. 01 B01 585 21 0428 MIN DEFESA COMDO AERONAUTICA R PACIFICO PEREIRA 1 BL5 SV EF.N°114 JD SULACAP / RIO DE JANEIRO - RJ 21741-160 00001 Z002 000002 Disque-Light Emergência: 0800 021 0196 Emergência Grandes Clientes: 0800 282 1380 Agência Virtual: www.light.com.br Disque-Light Comercial: 0800 282 0120 Deficientes auditivos e de fala: 0800 285 2453 Ouvidoria: 0800 284 0182 (Dias úteis: 8h às 18h) Agências Comerciais Agência Nacional de Energia Elétrica - ANEEL: 167 Ligação gratuita de telefones fixos e móveis. Se você ainda não possui sua conta da Light em Débito Automático, faça a adesão na sua agência bancária, na Agência Virtual (www.light.com.br), no Disque-Light (0800 282 0120) ou nas agências da Light e fique despreocupado! Faltou luz? Light Já! Classe / Subclasse PODER PÚBLICO / PODER PÚBLICO FEDERAL Envie SMS apenas com o Código da Instalação para o n° 54448. Pronto. Agora, é só aguardar o retorno da sua luz. Medidor TRIFÁSICO | N°: 7324409 Serviço de atendimento automático, limitado a 2 SMS por dia, por celular. Disponível para as operadoras Claro, Oi, Vivo, Tim e Nextel. Ref: Mês / Ano Referência Bancária Número da Fatura OUT/2015 030000792003 513803622547 Reservado ao Fisco E3EC.4D00.DFFC.44EC.7BD6.0953.159E.7D3F SEGUNDA VIA Nota Fiscal - Série 01 no.147729 Conta de Energia Elétrica RE PROC. E-04/053.359/09 - IFE 03 SEPD - Autorização n.08-2005/0006384-9 DATA PREVISTA DA PRÓXIMA LEITURA 03/11/2015 TENSÃO NOMINAL EM VOLTS Disponível: 220/127 Light LIGHT SERVIÇOS DE ELETRICIDADE SA AV. MAL. FLORIANO 168 RIO DE JANEIRO RJ CEP 20080-002 Limites mínimo: 202/117 Limites máximo: 231/133 CNPJ 60.444.437/0001-46 INSC. ESTADUAL 81380.023 INSC MUNICIPAL 00794678 INDICADORES DE QUALIDADE Mês de referência: Agosto/2015 ENERGIA ATIVA ENERGIA REATIVA EXCEDENTE Medição Atual Medição Anterior Data |Const Medidor |Consumo kWh Medição Acumulada Atual |Const Medidor |Consumo kWh Conjunto: PADRE MIGUEL N° Data |Leitura |Leitura Dias |Anterior Indicadores TApurado Mensal I Meta Mensal | Meta Trimestral IMeta Anual 01/10/2015 5.747 01/09/2015 5.652 1 95 30 DIC 0,00 4,71 9,43 18,86 Data da Emissão Data de Apresentação FIC 0,00 3,11 6,22 12,45 BLOCO 5 SV - APT 101 R PACIFICO PEREIRA 1 BL5 SV EF.N°114 01/10/2015 07/10/2015 DMIC 0,00 2,60 21741-160 JD SULACAP / RIO DE JANEIRO - RJ CNPJ: 00.394.429/0117-30 DIC - Duração de interrupção individual FIC - Frequência de interrupção individual DMIC - Duração máxima de interrupção contínua DICRI - Duração da interrupção individual em dia crítico CÓDIGO DO CLIENTE CÓDIGO DA INSTALAÇÃO 20003992 0420577631 VALOR DO ENCARGO DE USO DO SISTEMA DE DISTRIBUIÇÃO: DESCRIÇÃO UNIDADE QUANT. PREÇO UNIT R$ VALOR R$ R$ 26,13 CFOP O cliente tem o direito de solicitar a qualquer tempo a apuração dos indicadores DIC, FIC, DMIC e DICRI e também receber uma compensação, caso sejam violadas as metas de continuidade individuais – mensal, trimestral e anual- relativos à unidade consumidora de sua responsabilidade. CUSTO DISPONIBILIDADE SISTEMA 5.258 kWh 100 0,60432 60,43 ADICIONAL BANDEIRA VERMELHA 5.258 kWh 100 0,05983 5,98 CONTRIBUIÇÃO DE ILUMIN PÚBLICA RETENÇÃO NA FONTE - IRPJ RETENÇÃO NA FONTE - CSSL RETENÇÃO NA FONTE - PIS/PASEP RETENÇÃO NA FONTE - COFINS 0000 2,65 0000 -0,80 0000 -0,66 0000 -0,43 0000 -1,99 Subtotal Faturamento (Veja abaixo) Subtotal Outros 66,41 1,23- Após o vencimento haverá multa de 2%, juros e atualização de IGP-M, cobrados em conta posterior (Res. ANEEL n° 414 de 09/09/10 e Lei 10.762 de 11/11/2003) Valor da Energia Valor da Transmissão Valor da Distribuição ICMS R$ 19% Total da Nota Fiscal R$ Base de Cálculo Alíquota Valor (já incluído no preço) 30,14 1,42 10,44 66,41 19% ********* *66,41 Encargos Setoriais 7,93 Tributos Total 12,63 16,48 66,41 VENCIMENTO TOTAL A PAGAR R$ PIS alíquota COFINS alíquota 4,760% 22/10/2015 ** ****** 1,030% 65,18 R$ 0,68 R$ 3,15 Valores já incluídos no preço (PIS - Lei 10.637/02 / COFINS - Lei 10.833/03 / REH ANEEL vigente) 117 OUT14 NOV14 91 Tarifas em R$/kWh (sem impostos) 82 DEZ14 JAN15 106 TUSD +TE FEV15 69 BANDEIRAS TARIFÁRIAS 0,45451 0,47951 0,49951 Bandeira Verde 91 MAR15 Bandeira Amarela ABR15 75 X X P OUTUBRO 2015 - BANDEIRA VERMELHA Bandeira Vermelha MAI15 108 JUN15 78 X XP SETEMBRO 2015 - BANDEIRA VERMELHA JUL15 84 AGO15 103 SET15 104 OUT15 95 TE - Tarifa de Energia e TUSD - Tarifa de Uso do Sistema de Distribuição. MIN DEFESA COMDO AERONAUTICA CONTA EM DÉBITO AUTOMÁTICO BANCO SANTANDER S.A. VENCIMENTO TOTAL A PAGAR CÓDIGO DO CLIENTE 22/10/2015 *********65,18 20003992 OUT/2015 01 B01 585 21 0428 Autenticação Mecânica 83670000000.0.65180053107.1.65273421200.2.30000792003.0 CONSUMO '], ['ELEKTRO SEU CÓDIGO 43120776 ELEKTRO REDES S.A. R. ARY ANTENOR DE SOUZA, 321 - 13053-024- CAMPINAS-SP CNPJ 02 328 280/0001-97- INSC. EST. 244.868.522.118 AV. BALDOMERO LEITUGA, 2032 - 79610-270 - TRÊS LAGOAS-MS CNPJ 02 328 280/0002-78-INSC. EST. 28.304.126-9 WWW.ELEKTRO.COM.BR VERONICA DE MELO PEROSSO BRO AREIA DOURADA, O - ASSENT FRANCO MONTORO - LT 149 - BRO AREIA MARABA PAULISTA - SP - CEP 19430-000 DATA DE EMISSÃO: 25/02/2021 DATA DE APRESENTAÇÃO: CONTROLE N°: 03/03/2021 CNPJ/CPF: 40054248809 IE: 01-20216040111019-12 VALOR DA CONTA (R$) R$ 72,22 PRÓXIMA LEITURA NO DA NOTA FISCAL/CONTA DE ENERGIA ELÉTRICA CONTA DO MÊS VENCIMENTO 26/03/2021 101.494.568 FEVEREIRO/2021 10/03/2021 DADOS DE CADASTRO DETALHAMENTO DA CONTA MEDIDOR / CONSTANTE 3T5370949 CLASSIFICAÇÃO 1 BASE TARIFA VALOR ALÍQ. VALOR VALOR TOTAL RÉSIDENCIAL-TRIFASICO CCI* DESCRIÇÃO DO PRODUTO QUANTIDADE CALCULO FORNEC. FORNECIMENTO IMPOSTO ICMS (FORNEC. + IMPOSTOS) IMPOSTO TENSÃO NOMINAL OU CONTRATADA (V) LIMITE ADEQUADOS DE TENSÃO (V) DÉBITO AUT. 220/127 116 А 133 /201 А 231 0601 CONSUMO TE 106,00 0,252830 26,80 32,13 12,00% 3,85 30,65 0601 CONSUMO TUSD 106,00 0,302170 32,03 38,40 12,00% 4,60 36,63 LEITURA 0601 AD.B.AMAR. 106,00 0,013396 1,42 1,69 12,00% 0,20 1,62 ANTERIOR ITEM CONSUMO ATUAL 0699 COFINS 72,25 3,80% 2,74 DIAS DO PERÍODO 107 ANTERIOR 0699 PIS 72,25 0,82% 0,58 TOTAL 60,25 8,65 72,22 24/01/2021 31 *CCI - CÓDIGO DE CLASSIFICAÇÃO DO ITEM F. POTÊNCIA MÉDIA ATUAL 24/02/2021 HISTÓRICO DE CONSUMO (KWH) 106.0 0.0 0.0 0.0 0.0 0.0 0.0 0.0 0.0 0.0 0.0 0.0 0.0 FEV/21 JAN/21 DEZ/20 NOV/20 OUT/20 SET/20 AGO/20 JUL/20 JUN/20 МA/20 ABR/20 MAR/20 FEV/20 COMPOSIÇÃO DE FORNECIMENTO ENERGIA R$ 25,78 ENCARGOS R$ 9,44 DISTRIBUIÇÃO R$ 14,60 TRIBUTOS R$ 11,97 TRANSMISSÃO R$ 5,96 PERDAS R$ 4,47 INFORMAÇÕES GERAIS BAND.TARIF. AMARELA:25/01-24/02 AVISO IMPORTANTE DE DÉBITO / CORTE DÉBITOS ANTERIORES ATENÇÃO ACESSE O NOSSO SITE E REALIZE OS SERVIÇOS COM MAIOR COMODIDADE, PRATICIDADE, RAPIDEZ E SEGURANÇA. WWW.ELEKTRO.COM.BR SEU CÓDIGO 43120776 TOTAL R$ R$ 72,22 BANCO AGÊNCIA VENCIMENTO CONTROLE N° 01-20216040111019-12 10/03/2021 836700000000 722200220217 001010202164 040111019127 AUTENTICAÇÃO MECÂNICA GBELEKTRO1 (V1.00) '], ['SEGUNDA VIA Light, sempre com você, 24 horas! Informações sobre condições gerais de fornecimento, tarifas, produtos, serviços e tributos? Faltou luz? Envie SMS com o Código da Instalação para o nº 54448. 01 B01 585 21 0428 MIN DEFESA COMDO AERONAUTICA R PACIFICO PEREIRA 1 BL5 SV EF.N°114 JD SULACAP / RIO DE JANEIRO - RJ 21741-160 00001 Z002 000002 Disque-Light Emergência: 0800 021 0196 Emergência Grandes Clientes: 0800 282 1380 Agência Virtual: www.light.com.br Disque-Light Comercial: 0800 282 0120 Deficientes auditivos e de fala: 0800 285 2453 Ouvidoria: 0800 284 0182 (Dias úteis: 8h às 18h) Agências Comerciais Agência Nacional de Energia Elétrica - ANEEL: 167 Ligação gratuita de telefones fixos e móveis. Se você ainda não possui sua conta da Light em Débito Automático, faça a adesão na sua agência bancária, na Agência Virtual (www.light.com.br), no Disque-Light (0800 282 0120) ou nas agências da Light e fique despreocupado! Classe / Subclasse Faltou luz? Light Já! PODER PÚBLICO / PODER PÚBLICO FEDERAL Envie SMS apenas com o Código da Instalação para o n° 54448. Pronto. Agora, é só aguardar o retorno da sua luz. Medidor TRIFÁSICO | N°: 7324409 Serviço de atendimento automático, limitado a 2 SMS por dia, por celular. Disponível para as operadoras Claro, Oi, Vivo, Tim e Nextel. Ref: Mês / Ano Referência Bancária Número da Fatura MAI/2016 030000792003 549903428619 Reservado ao Fisco 37CE.E268.011D.178B.4776.310D.7430.6235 SEGUNDA VIA Nota Fiscal - Série 01 no.114107 Conta de Energia Elétrica RE PROC. E-04/053.359/09 - IFE 03 SEPD - Autorização n.08-2005/0006384-9 DATA PREVISTA DA PRÓXIMA LEITURA 01/06/2016 TENSÃO NOMINAL EM VOLTS Disponível: 220/127 Light LIGHT SERVIÇOS DE ELETRICIDADE SA AV. MAL. FLORIANO 168 RIO DE JANEIRO RJ CEP 20080-002 Limites mínimo: 202/117 Limites máximo: 231/133 CNPJ 60.444.437/0001-46 INSC. ESTADUAL 81380.023 INSC MUNICIPAL 00794678 INDICADORES DE QUALIDADE Mês de referência: Março/2016 ENERGIA ATIVA ENERGIA REATIVA EXCEDENTE Medição Atual Medição Anterior Data |Const Medidor |Consumo kWh Medição Acumulada Atual |Const Medidor |Consumo kWh Conjunto: PADRE MIGUEL N° Data |Leitura |Leitura Dias |Anterior Indicadores TApurado Mensal I Meta Mensal | Meta Trimestral IMeta Anual 02/05/2016 6.381 01/04/2016 6.248 1 133 31 DIC 1,39 4,71 9,43 18,86 Data da Emissão Data de Apresentação FIC 2,00 3,11 6,22 12,45 BLOCO 5 SV - APT 101 R PACIFICO PEREIRA 1 BL5 SV EF.N°114 02/05/2016 06/05/2016 DMIC 1,17 2,60 21741-160 JD SULACAP / RIO DE JANEIRO - RJ CNPJ: 00.394.429/0117-30 DIC - Duração de interrupção individual FIC - Frequência de interrupção individual DMIC - Duração máxima de interrupção contínua DICRI - Duração da interrupção individual em dia crítico CÓDIGO DO CLIENTE CÓDIGO DA INSTALAÇÃO 20003992 0420577631 VALOR DO ENCARGO DE USO DO SISTEMA DE DISTRIBUIÇÃO: DESCRIÇÃO UNIDADE QUANT. PREÇO UNIT R$ VALOR R$ R$ 28,44 CFOP O cliente tem o direito de solicitar a qualquer tempo a apuração dos indicadores DIC, FIIC, DMIC e DICRI e também receber uma compensação, caso sejam violadas as metas de continuidade individuais – mensal, trimestral e anual- relativos à unidade consumidora de sua responsabilidade. CONSUMO 5.258 kWh 133 0,73699 98,02 CONTRIBUIÇÃO DE ILUMIN PÚBLICA RETENÇÃO NA FONTE - IRPJ RETENÇÃO NA FONTE - CSSL RETENÇÃO NA FONTE - PIS/PASEP RETENÇÃO NA FONTE - COFINS 0000 4,42 0000 -1,18 0000 -0,98 0000 -0,64 0000 -2,94 Subtotal Faturamento (Veja abaixo) Subtotal Outros 98,02 1,32- Após o vencimento haverá multa de 2%, juros e atualização de IGP-M, cobrados em conta posterior (Res. ANEEL n° 414 de 09/09/10 e Lei 10.762 de 11/11/2003) Valor da Energia Valor da Transmissão Valor da Distribuição ICMS R$ 20% Total da Nota Fiscal R$ Base de Cálculo Alíquota Valor (já incluído no preço) 42,47 1,55 14,02 98,02 ********* **98,02 20% Total Encargos Setoriais 14,23 25,75 Tributos 19,62 98,02 VENCIMENTO TOTAL A PAGAR R$ PIS alíquota *********96,70 1,110% COFINS alíquota 5,150% 20/05/2016 R$ 1,08 R$ 5,04 Valores já incluídos no preço (PIS - Lei 10.637/02 / COFINS - Lei 10.833/03 / REH ANEEL vigente) 108 MAI15 JUN15 78 Tarifas em R$/kWh (sem impostos) 84 JUL15 AGO15 103 TUSD +TE SET15 104 BANDEIRAS TARIFÁRIAS 0,54346 0,55846 0,57346 Bandeira Verde 95 OUT15 Bandeira Amarela NOV15 107 X X MAIO 2016 - BANDEIRA VERDE Bandeira Vermelha DEZ15 71 JAN16 76 73 X X ABRIL 2016 - BANDEIRA VERDE FEV16 MAR16 82 ABR16 92 MAI16 133 TE - Tarifa de Energia e TUSD - Tarifa de Uso do Sistema de Distribuição. MIN DEFESA COMDO AERONAUTICA CONTA EM DÉBITO AUTOMÁTICO BANCO SANTANDER S.A. VENCIMENTO TOTAL A PAGAR CÓDIGO DO CLIENTE 20/05/2016 *********96,70 20003992 MAI/2016 01 B01 585 21 0428 Autenticação Mecânica 83650000000.2.96700053107.9.20291299500.0.30000792003.0 CONSUMO '], ['vivo www.vivo.com.br/suaconta Centalde Rebcio na meno Vio \"8486 Fale Conosco: www.vivo.com.br/fa leco nosco Vva SA Av Ay ton Senna, 2200 CEP:22775-00G - Rb de Janeira - RJ IE:ILAS CNPJ 2449 SEZ0181-01 MARCIA RIBE IRO RGOMES BRAGA, 5 AP 202 ANDARAI 20541-140 RDE JANEIRO - RJ Conta: 2014861670 VENCIMENTO: TOTAL A PAGAR - R$ Mês de Referência: 12/2009 Emissäo: Perí odo: 21/12/2009 445,35 10/12/2009 06/11/09 a 05/12/09 Número(s) do(s) Celular(es) 21-7105-5659 21-9614-3144 21-9986-3444 Relação total de celulares está bcalizada na seção Celulares que Compõem sua Fatura. Resumo de Utilização Crédito R$ Débito R$ Lança mentos Diversos Crédito R$ Dé bito R$ Planos Contratados 187,80 28,06 Serviços Adicionais Chamadas Dentro da Área de Registro Chamadas Locais Originadas Chamadas de Longa Distância Total de Créditos/Débitos 0,00 445,35 TOTAL APAGAR 1,99 227,50 445,35 ATÉ A EMISSÃO DESTA FATURA CONSTAVA(M) DÉBITO(S) DE CONTA(S) ANTERIOR(ES) ESTE BOLETO NÃO QUITA DÉBIT OS ANTERIORES. Prezado cliente, mantenha o pagamento em dia evitando a suspensão parcia lbtal dos serviçose a inclusão nosorgãos de proteção ao crédito. Para paga menbs realizados após a data de vencimento serão cobrados na p róxima fatura m ulta de 2% e juros de 1% ao mês. Aute rtbaçio Mecanba --- ---- 846900000049 453500480018 120148616705 120960912216 vivo VENCIMENTO TOTAL A PAGAR - R$ Nome do C liente MARCIA RIBEIRO 21/12/2009 445, 35 Número da Conta Mês Refe rê ncia Ide ntificação de Débib Aubmático 201486 16 70-9 2014861670 12/2009 '], ['Companhia Paulista de Força e Luz Rua Jorge de Figueiredo Correa, 1632 Jardim Professora Tarcília – Campinas/SP - CEP: 13087-397 Inscrição Estadual: 244.163.955.115 Inscrição no CNPJ: 33.050.196/0001-88 CPFL Uma empresa do Grupo CPFL Energia ENERGIA ARTHUR FORTES DA COSTA Nota Fiscal R HERMANTINO COELHO 255 BL 5 AP 23 Conta de Energia Elétrica MAN STO ANTONIO N°. 105883469 série C Pág. 1 de 1 13087-500 CAMPINAS SP Data de Emissão 13/12/2019 Data de Apresentação 18/12/2019 Conta Contrato No 310091689739 Lote Roteiro de leitura Medidor Cliente Reservado ao fisco 07 CAMBUD49-00000853 215857038 0711530431 FF2D.28A1.440C.E740.3903.6019.5F14.E342 PREZADO (A) CLIENTE ATENÇÃO: Esta conta está classificada como RESIDENCIAL. Isso significa que suas tarifas e impostos serão aplicados de acordo com essa classe. Se o imóvel não é residencial, atualize seu cadastro em nossos canais de atendimento. DADOS DA UNIDADE CONSUMIDORA ARTHUR FORTES DA COSTA R HERMANTINO COELHO, 255 BL 5 AP 23 MAN STO ANTONIO CAMPINAS - SP CPF:021.251.723-64 Classificação: Convencional B1 Residencial - Bifásico 220 / 127 V SEU CÓDIGO 8866562 CONTA/MÊS DEZ/2019 ATENDIMENTO PN VENCIMENTO TOTAL A PAGAR (R$) 0800 010 1010 0711530431 08/01/2020 180,56 www.cpfl.com.br DISCRIMINAÇÃO DA OPERAÇÃO - RESERVADO AO FISCO Cod. Descrição da Operação Mês Quant. Unid. Aliq. PIS COFINS Bandeiras Tarifa com Valor Total da Base Cálculo ICMS Base Cálculo 115 N° 908202004487 Operação 5,07% Tarifárias Vermelha P1 Ref. Fa Med. Tributos ICMS ICMS PIS/COFINS 1,09% 0605 Consumo Uso Sistema [KWh]-TUSD DEZ/19 206,000 kWh 0,35626214 73,39 73,39 25,00 18,35 73,39 0,80 3,72 18 Dias 0601 Consumo - TE DEZ/19 206,000 kWh 0,40344661 83,11 83,11 25,00 20,78 83,11 0,91 4,21 Amarela 0601 Adicional de Bandeira Amarela DEZ/19 1,69 1,69 25,00 0,42 1,69 0,02 0,09 13 Dias 0601 Adicional de Bandeira Vermelha DEZ/19 7,24 7,24 25,00 1,81 7,24 0,08 0,37 Total Distribuidora 165,43 DÉBITOS DE OUTROS SERVIÇOS 0807 Contrib. Custeio IP-CIP Municipal DEZ/19 15,13 TOTAL CONSOLIDADO 180,56 165,43 41,36 165,43 1,81 8,39 HISTÓRICO DE CONSUMO kWh Dias TARIFA ANEEL EQUIPAMENTOS DE MEDIÇÃO / DATAS DE LEITURA Consumo TUSD TE Leitura Leitura Fator Consumo Taxa de Perda Leitura 2019 DEZ 206 31 Consumo kWh 0,24526000 0,27776000 N° Energia 13/12/2019 12/11/2019 Multipl. [kWh] [%] Próximo Mês NOV 174 32 215857038 ATIVA 11603 11397 1,00 206 14/01/2020 OUT 198 31 SET 157 29 AGO 221 31 JUL 186 31 JUN 161 29 ΜΑΙ 185 32 ABR 185 29 ΜAR 183 30 FEV 194 28 INDICADORES DE CONTINUIDADE DE FORNECIMENTO DE ENERGIA JAN 196 32 Para consulta dos indicadores acesse nosso site www.cpfl.com.br 2018 DEZ 184 31 INFORMAÇÕES SOBRE A FATURA AVISO IMPORTANTE A partir de 01.01.2020 todos os clientes têm direito a optar pela tarifa branca, saiba mais: www.cpfl.com.br/tarifabranca Total a Pagar (R$) Data de Vencimento 180,56 Nota Fiscal CódDébAut-Banco 310091689739 Conta de Energia Elétrica 105883469 Série C 08/01/2020 Essa conta poderá ser paga no credenciado mais perto de você. Confira a lista completa no site www.cpfl.com.br Loja 2189 - LC-PE M BERNARDES CAMP DROGARIA DOM PEDRO CAMPINAS O MATUTO cpfl paulista R PADRE MANUEL BERNARDES 971 - TAQUARAL AV GUILHERME CAMPOS LJ. 30A 500 - JARDIM SANTA GENEBRA RUA LUIZ OTAVIO, 651 - PARQUE TAQUARAL 836500000010 805600403127 033849335030 100916897398 Autenticação Mecânica '], ['Companhia Paulista de Força e Luz Rua Jorge de Figueiredo Correa, 1632 Jardim Professora Tarcília – Campinas/SP - CEP: 13087-397 Inscrição Estadual: 244.163.955.115 Inscrição no CNPJ: 33.050.196/0001-88 CPFL Uma empresa do Grupo CPFL Energia ENERGIA ARTHUR FORTES DA COSTA Nota Fiscal R HERMANTINO COELHO 255 BL 5 AP 23 Conta de Energia Elétrica MAN STO ANTONIO N°. 101096541 série C Pág. 1 de 1 13087-500 CAMPINAS SP Data de Emissão 12/11/2019 Data de Apresentação 18/11/2019 Conta Contrato No 310091689739 Lote Roteiro de leitura Medidor Cliente Reservado ao fisco 07 CAMBUD49-00000853 215857038 0711530431 6A41.8E2C.8245.9B0B.795F.1D76.C5F8.0603 PREZADO (A) CLIENTE Mantenha seus dados sempre atualizados, alguns itens determinam a tarifa e tributação de sua fatura de energia elétrica. Solicite os serviços disponíveis em nosso site com rapidez e segurança e reserve mais tempo para você em seu dia-a-dia. Mais informações acesse o endereço que consta no verso de sua conta. DADOS DA UNIDADE CONSUMIDORA ARTHUR FORTES DA COSTA R HERMANTINO COELHO, 255 BL 5 AP 23 MAN STO ANTONIO CAMPINAS - SP CPF:021.251.723-64 Classificação: Convencional B1 Residencial - Bifásico 220 / 127 V SEU CÓDIGO 8866562 CONTA/MÊS NOV/2019 ΑΤENDIMEΝTΟ PN VENCIMENTO TOTAL A PAGAR (R$) 0800 010 1010 0711530431 09/12/2019 133,52 www.cpfl.com.br DISCRIMINAÇÃO DA OPERAÇÃO - RESERVADO AO FISCO Cod. Descrição da Operação Mês Quant. Unid. Aliq. PIS COFINS Bandeiras Tarifa com Valor Total da Base Cálculo ICMS Base Cálculo 115 N° 900852730174 Ref. Fa 6,13% Tarifárias Med. Tributos Оperaҫӑo ICMS ICMS PIS/COFINS 1,33% 0605 Consumo Uso Sistema [KWh]-TUSD NOV/19 174,000 kWh 0,30448276 52,98 52,98 12,00 6,36 52,98 0,70 3,25 Amarela 20 Dias 3,68 Vermelha P1 0,12 0601 Consumo - TE NOV/19 174,000 kWh 0,34488506 60,01 60,01 12,00 7,20 60,01 0,80 0601 Adicional de Bandeira Amarela NOV/19 2,02 2,02 12,00 0,24 2,02 0,03 12 Dias 0601 Adicional de Bandeira Vermelha NOV/19 3,38 3,38 12,00 0,41 3,38 0,04 0,21 Total Distribuidora 118,39 DÉBITOS DE OUTROS SERVIÇOS 0807 Contrib. Custeio IP-CIP Municipal NOV/19 15,13 TOTAL CONSOLIDADO 133,52 118,39 14,21 118,39 1,57 7,26 HISTÓRICO DE CONSUMO kWh Dias TARIFA ANEEL EQUIPAMENTOS DE MEDIÇÃO / DATAS DE LEITURA Consumo TUSD TE Leitura Leitura Fator Consumo Taxa de Perda Leitura 2019 NO 174 32 Consumo kWh 0,24526000 0,27776000 N° Energia 12/11/2019 11/10/2019 Multipl. [kWh] [%] Próximo Mês OUT 198 31 215857038 ATIVA 11397 11223 1,00 174 13/12/2019 SET 157 29 AGO 221 31 JUL 186 31 JUN 161 29 ΜΑΙ 185 32 ABR 185 29 MAR 183 30 FEV 194 28 JAN 196 32 INDICADORES DE CONTINUIDADE DE FORNECIMENTO DE ENERGIA 2018 DEZ 184 31 Para consulta dos indicadores acesse nosso site www.cpfl.com.br NOV 63 32 INFORMAÇÕES SOBRE A FATURA AVISO IMPORTANTE A partir de 01.01.2020 todos os clientes têm direito a optar pela tarifa branca, saiba mais: www.cpfl.com.br/tarifabranca CódDébAut-Banco 310091689739 Total a Pagar (R$) Data de Vencimento 133,52 Nota Fiscal Conta de Energia Elétrica 101096541 Série C 09/12/2019 Essa conta poderá ser paga no credenciado mais perto de você. Confira a lista completa no site www.cpfl.com.br Loja 2189 - LC-PE M BERNARDES CAMP DROGARIA DOM PEDRO CAMPINAS O MATUTO cpfl paulista R PADRE MANUEL BERNARDES 971 - TAQUARAL AV GUILHERME CAMPOS LJ. 30A 500 - JARDIM SANTA GENEBRA RUA LUIZ OTAVIO, 651 - PARQUE TAQUARAL 836700000018 335200403145 033815126033 100916897398 Autenticação Mecânica '], ['Companhia Paulista de Força e Luz Uma empresa do Grupo CPFI Energia Campinas SP-13088-900 Inscrição Estadual: 244.163.955.115 Inscrição no CNPI: 33.050.196/0001-88 CPFL ENERGIA ALINE COSTA DA FONTE R PAPA LEAO XIII, 10CA 44 REAL PARQUE 13082-793 CAMPINAS/SP Nota Fiscal Conta de Energia Etrica N022079458 serie C Data de Emissao 26/05/2018 Data de Apresentaçlo: 01/06/2018 Pág 01 de 01 Conta Contrato N 310080287189 N°. Medidor 30902379 Reservado ao Fisco 9999.C1FO.37C6.2FC8.59F9 22A3.8DD5.6229 Lote Roteiro de Leitura PN 702898045 18 CAMBUD44-0000379 PREZADO(A) CLIENTE Martenta seus e resere ma tesh empre analizndos, alguns itwn deteminm a titatritnançko de un fatn dn ergin titriea. Solite os servigos dspnivis em nose site eom rapidezgring tempe para voce em aada Mas informapies neesen o nderogo que consta no ver so de sun corta DADOS DA UNIDADE CONSUMIDORA ALINE COSTA DA FONTE RPAPA LEAO XIL 10CA 44 REAL PARQUE 13082-703 - CAMPINAS -SP CPF137.680.278-30 CLASSIFICAÇÃO B1 Residencial -Bilasion 220 / 127 V ATENDIMENTO CPFL TOTAL A PAGAR PN SEU CÓDIGO CONTA MES VENCIMENTO 0800 010 10 10 www.cpfl.com.br 702898045 41325796 MAI/2018 11/06/2018 62,78 DISCRIMINAÇÃO DA OPERAÇÃO - RESERVADO AO FISCO Cod 115 N° 904502020988 Descrição da Operação Més Ref Quant Faturada Unid. Tarifa com Valor Total da Base Calculo Aliq Med Tributos RS Operação RS Base Calculo PISICOFINS PIS 1,65% COFINS 7,53% Bandeiras Tantarlas ICMS R$ ICMS% ICMS (Dias) 0806 Energi Alve Femeci- TUSD 0601 Energia A Famecid- TE 0601 Adidana de Band Amarle 0606 Enargin Attve injtede TUSD 0801 Energin Ae injeluda TE 0601 Cred Ade land Amari 1.25 5,72 Verde 03 Dias MAUTE 241,000 N 031502075 75,02 76.02 2600 18.98 75.90 MAI8 241,000 h 04211013 101.60 101,60 2100 25,30 101.50 1,67 7.64 MAI8 330 0,06 0,25 Amareia 3,30 330 25.00 MAITE 192,000 kh 0.23625000 45 36 60.48 100 465 28 Dias MAVIE 182,000 wh 0,42119702 80 87. 25. 00 20.22 1,33 .09 263 25.00 263 0.04 0.20 DA0S Custe de D Energie TUSO MAVIS 1,000 MAh 0,30000000 0,30 25 00 0,30 0.02 0, 10 0.01 0,00 0401 Custo de D Enegia EVD-TE Tolal Distribudora DÉNITOE DE OUTROS BERVIÇOS MAI8 1,000 h 041000000 041 041 25,00 041 6257 11,58 CH07 Contibuiean Custeie IACIP CRÉDITOS / DEVOLUÇOES 0e Ressarimento DIC Mensal MAUTH ABR/18 1,37 TOTAL CONSOLIDADO 62,70 7.09 24,48 37.46 0.01 282 HISTÓRICO DE CONSUMO kWh Dias TARIFA ANEEL EQUIPAMENTOS DE MEDIÇÃO / DATAS DE LEITURAS Taxa Leitura Consumo Consumo kWh TUSD 0,20737000 TE 0.27726000 Leitura Laltura 27/04/2018 241 31 Fator Consumo 2018 MAI N Energla Multipl. KWn Perdas (N Proslmo M ABH 263 30 Alva 4407 410 1,00 241 270/201 MAR 88 FEV 0 e JAN A 2017 DEZ 00000 396 30 Iretada 2044 2062 1.00000 192 188 201 363 30 COMPOSIÇÃO FORNECIMENTO (R$) INDICADORES DE CONTINUIDADE DE FORNECIMENTO DE ENERGIA Nov 0 OUT 0000000 000 20 CAMPINAS 11-BARÃO GERALDO Energia Transmissão Distribulção Perdas 67,51 7,66 26,26 9,01 8,98 DIAC 27,92 Valor RS EUSD 306 32 Padrio Mensal Padrão Trimestral Padrão Anual Apurado Mensal Pefodo SET 0 254 31 Apuraçio DIC 4,71 317 343 18,00 12.70 0,00 AGO FIC 0.00 0בת 0,0 0 0 JUN 090 o JLA 284 20 20 0,00 Encargos Tributos 203 30 DICRI 12,22 0,00 MAI S 224 33 INFORMAÇÕES SOBRE A FATURA Participação na geração 100.00% Saldo em Energia da Instalação. Convencional O,0000000000 kWh Saldo a expirar próximo mês: 0,0000000000 kWh AVISO IMPORTANTE DÉBITO AUTOMÁTICO CódDebAut-Banco 310080287189 Total a Pagar (RS) 62,78 Nota Fiscal Data de Vencimento Conta de Energia Elétrica 11/06/2018 BANCO 001 AGÊNCIA 4053 pfl paulista N\" 022079458 série C Essa conta poderá ser paga no credenclado mals perto de você. Confira a lista completa no site www.cpfl.com.br AVENIDA FRANCISCO XAVIER ARRUDA CAMARGO,N 300 - JARDIM SANTANA RUA EUCLYDES CARDIA,RUA EUCLYDES CARDIA 35 - JARDIM FERNANDA RUA LEONICE APARECIDA OLIVEIRA DA SILVA 710, SALA - JARDIM CAMPO BELO II meempe d Grupe CL Erergie MUITOFACIL ARRECADACAO E RECEB OTAVIO HENRIQUE DE LIMA 407693 YATSAR SERVICOS DE TECNOLOGIA 836800000009 627800403008 911880424039 100802871895 Autenticação Mecanica '], ['I Imagem Segunda Via de Conta vivo N° da Conta 023123428 Me de redrnos 122014 Periodo 11n014 012/2014 Data do anicato O01a2014 www.vivo.com.br/meuvivo Fale onosc Cantral de Raloonomento \"8406 cu V o.com butaleconosco Telelarica Brasil SA Av. Nossa Sentan da Perl, 275 - Pgrle A CEP 29066-22- Wera- ES LE: 082 182710 CIPJ Metsz 0 5a 157.0001 82 CIPJF 02568 1570003 24 Voce PEDRO HENRIQUE MILAGRE RUA GRIPINA SIMONATO SPADETO, 172 PEDRO RIGO 29370-000 CONCEICAO DO CASTELO- ES Vencimento 17/12/2014 Total a Pagar - R$ 41,90 Vivo Valoriza Saldo de pentos acumulados Na data de Seldo rolerente a conta 023123M28 no Vivo Valoniza Para sekdo atual, envie SMS Seus Números Vivo 28-99955-3076 28/11/14 Cano voco kerha mas inhas, consulle o detahamento da sua conta com a palava SALDO para 8011 O que esta sendo cobrado Qani cade de Quanidade de Plano/Pacote Nimeros Vivo Vakar RS PenoPaccie Induso PlanoPacote Ulizado MinutosUnidedes Yalor Tetal R$ Serviços Contratados VIVO MÓVEL FLANO SMARTVVO CONTROLE 2SOMB Serviços Telefonica Erasl 41 90 4190 41 90 Subtotal 41,90 Co! TOTAL A PAGAR 41,90 MENSAGEM IMPORTANTE PARA VOCÊ *Conhege una nove nanka de cbtr o andnanto doe sus Produtos de Seguros Ligue 0800570P041, do segunda aota, das as 20hs para Canouianens homagoas Sinistoe Duvidas dos produas oontatados Mapte Conta Piotegida cu apte Protegdo Residardial fembos da paroeria orada especialmente pra vood ente Magte e Vve *Descde 02 de Novemtre de 2014 fai irduidoo tumeo 9 a terta dos cdulares dos DCOs 91. 2 93. 94 6, 96, 97, S6 e99. passando ao lmab: CODSoca o Maisinfomaçoes em www.vo.com.br9k Mantenha o pagamento em dia e evte a suspensao parcialctal dos servpos e a ncusio nes orplos de prote çao do credo Para pagamentos apOs o venamento serlo cobrados encargos de 2% e pros de 1% so més em conta lutura vivo Vendimento Tolal a Pegar - R$ Nome de Clente PEDRO HENRIQUE MILAGRE 17/12/2014 41,90 Cód Debto Aukemáto 0231239428-0 N°da Conta 0231239428 Mis Rekrinaa 12/2014 846000000005 419000600017 102312394285 121451412179 Aukntcapo Mecinca AT Imprimir '], ['Companhia Paulista de Força e Luz Rua Jorge de Figueiredo Correa, 1632 Jardim Professora Tarcília – Campinas/SP - CEP: 13087-397 Inscrição Estadual: 244.163.955.115 Inscrição no CNPJ: 33.050.196/0001-88 СPFL Uma empresa do Grupo CPFL Energia ENERGIA RODRIGO MARTINS VIEIRA Nota Fiscal R OLINDO GARDELIN 90 BL 2 AP 4 Conta de Energia Elétrica PQ VALENCA I N°. 111806792 série C Pág. 1 de 1 13058-533 CAMPINAS SP Data de Emissão 20/01/2020 Data de Apresentação 21/01/2020 Conta Contrato No 310053839117 Lote Roteiro de leitura Medidor Cliente Reservado ao fisco 12 CAMBU685-00000300 129203734 0711096154 AABC.549F.421E.26D1.A593.A5A3.824C.D02C PREZADO (A) CLIENTE FELIZ ANO NOVO! Que tal começar o ano atualizando seu cadastro? Saiba que a classe da sua conta determina sua tarifa e impostos. Se o imóvel não é RESIDENCIAL, atualize seu cadastro em nossos canais de atendimento. DADOS DA UNIDADE CONSUMIDORA RODRIGO MARTINS VIEIRA R OLINDO GARDELIN, 90 BL 2 AP 4 PQ VALENCA I CAMPINAS - SP CPF:322.826.108-57 Classificação: Convencional B1 Residencial - Monofásico 127 V SEU CÓDIGO 4000308482 CONTA/MÊS JAN/2020 TOTAL A PAGAR (R$) 189,11 ATENDIMENTO PN VENCIMENTO 0800 010 1010 0711096154 28/01/2020 www.cpfl.com.br DISCRIMINAÇÃO DA OPERAÇÃO - RESERVADO AO FISCO Cod. Descrição da Operação Mês Quant. Unid. Aliq. PIS COFINS Bandeiras Tarifa com Valor Total da Base Cálculo ICMS Base Cálculo 115 N° 908751984791 Ref. Fa Operação 1,37% 6,27% Tarifárias Med. Tributos ICMS ICMS PIS/COFINS 0605 Consumo Uso Sistema [KWh]-TUSD JAN/20 218,000 kWh 0,36408257 79,37 79,37 25,00 19,84 79,37 1,09 4,98 Amarela 12 Dias 0601 Consumo - TE JAN/20 218,000 kWh 0,41233945 89,89 89,89 25,00 22,47 89,89 1,23 5,64 Amarela 0601 Adicional de Bandeira Amarela JAN/20 4,33 4,33 25,00 1,08 4,33 0,06 0,27 20 Dias Total Distribuidora 173,59 DÉBITOS DE OUTROS SERVIÇOS 0807 Contrib. Custeio IP-CIP Municipal JAN/20 15,52 TOTAL CONSOLIDADO 189,11 173,59 43,39 173,59 2,38 10,89 HISTÓRICO DE CONSUMO kWh Dias TARIFA ANEEL EQUIPAMENTOS DE MEDIÇÃO / DATAS DE LEITURA Consumo TUSD TE Leitura Leitura Fator Consumo Taxa de Perda Leitura 2020 JAN 218 32 Consumo kWh 0,24526000 0,27776000 N° Energia 20/01/2020 19/12/2019 Multipl. [kWh] [%] Próximo Mês 2019 DEZ 172 29 129203734 ATIVA 13188 12970 1,00 218 17/02/2020 NOV 219 33 OUT 163 31 SET 165 29 AGO 177 31 JUL 178 31 JUN 137 29 ΜΑΙ 204 33 ABR 157 28 MAR 190 30 INDICADORES DE CONTINUIDADE DE FORNECIMENTO DE ENERGIA FEV 187 28 Para consulta dos indicadores acesse nosso site www.cpfl.com.br JAN 254 33 INFORMAÇÕES SOBRE A FATURA Custeio de iluminação pública: alterado valor de arrecadação conforme Lei Municipal 00011453 de 27.12.2002, com fundamento no Art. 149 A, parágrafo único, da Constituição Federal do Brasil. Considerar quitada se efetuado débito em conta corrente. Caso não ocorra o débito utilize esta conta para pagamento. AVISO IMPORTANTE A partir de 01.01.2020 todos os clientes têm direito a optar pela tarifa branca, saiba mais: www.cpfl.com.br/tarifabranca DÉBITO AUTOMÁTICO Total a Pagar (R$) Data de Vencimento 189,11 Nota Fiscal CódDébAut-Banco Conta de Energia Elétrica 111806792 Série C 310053839117 28/01/2020 Banco 001 Agência 1890 Essa conta poderá ser paga no credenciado mais perto de você. Confira a lista completa no site www.cpfl.com.br CONSCETTA E CONSCETTA LTDA ME SUPERMEROCADO SAO JOAO SUPERMERCADO AMARANTE cpfl paulista R IZIDORO BOSNARDO, 5 - JARDIM MARACANA R DR EDGARD PEREIRA DE SOUZA, 9 - PARQUE VALENCA R LOJA MACONICA INDEPENDENTE 826 - LOT NOVO MUNDO 836100000014 891100403072 933933343032 100538391176 Autenticação Mecânica '], ['vivo www.vivo.com.br/suaconta Central de Relacionamento Vivo *8486 Fale Conosco: www.vivo.com.br/faleconosco Viva SA Av. Av iton Senna 2200 CEP:22775-003- Rio de Janeira - RJ LE B6202928 CNPJ 02 440 020 181-01 MARCIA RIBEIRO R GOMES BRAGA, 5 AP 202 ANDARAI 20541-140 R DE JANEIRO-RJ Conta: 2014861670 VENCIMENTO: TOTAL A PAGAR - R$ Emissäo: Mês de Referência: Período: 06/11/09 a 05/12/09 21/12/2009 445,35 10/12/2009 12/2009 Número(s) do (s) Celularjes) 21-7105-56 59 21-9614-3144 21-9986-3444 Relação total de ce lulares está bcalizada na seção Celulares que Compõem sua Fatura. Resumo de Utilização Crédito R$ Dé bito R$ Lançamentos Diversos Crédito R$ Débito R$ 187,80 28,06 Planos Contratados Total de Créditos/Débitos Serviços Adicionais Chamadas Dentro da Area de Registro Chamadas Locais Originadas Chamadas de Longa Distância 0,00 445,35 1,99 TOTAL A PAGAR 445,35 227,50 ATÉ A EMISSÃO DESTA FATURA CONSTAVA(M) DÉBITOS) DE CONTA(S) ANTERIOR(ES) ESTE BOLETO NÃO QUITA DÉBITOS ANTERIORES. Prezado cliente, mantenta o pagamenb emda evitando a suspensão parcialtotal dos serviços e a inclusão nos orgãos de proteção ao crédito. Para pagamentos realizados após a data de vencimento serão cobrados na próxima fatura multa de 2% e juros de 1% ao mês. Autenticação Meca nica --- --- 846900000049 453500480018 120148616705 120960912216 vivo VENCIMENTO TOTAL A PAGAR - R$ Nome do Cliente MARCIA RIBEIRO 445, 35 21/12/2009 Mês Referência Identificação de Débito Automático 2014861670-9 Número da Conta 201486 16 70 122009 Atg ER '], ['MARIA DO ROSÁRIO CARVALHO FORTES Código NET 063/001311702 Vencimento Valor NET R PEDRO VASCONCELOS, 01739 ED ANT. REINALDO SOARES BL A APT 201 05/08/2020 165,06 Claró- NOIVOS CPF/CNPJ Forma de Pagamento DÉBITO AUTOMÁTICO 64045-112 TERESINA PI 078.213.013-53 PARA 2° VIA DA FATURA, DÉBITO AUTOMÁTICO E OUTROS SERVIÇOS, ACESSE CLARO.COM.BR/MINHACLARO 001/007 Importante: Minha NET: descrição total Mantenha seu e-mail e telefones sempre atualizados. Acesse net.com.br/minhanet, faça seu login ou cadastre-se. NET VIRTUA + NET VIRTUA + 95,00 Atenção: o cancelamento de seus serviços NET, durante o período de permanência mínima, estará sujeito à cobrança de multa contratual. NETFONE ILIM BRASIL EXC C NET Fone 10,03 RET U SERVIÇOS MÓVEIS O Serviços Móveis 60,03 Claró-clube Valor total 165,06 Cadastre-se em: www.claro.com.br/claro-clube O NET VIRTUA + Mensalidade NET VIRTUA + 01/07/20 A 31/07/20 OFERTA CONJUNTA VIRTUA 35 MEGA FIDELIDADE + APLICATIVOS 95,00 Sub-Total Mensalidade NET VIRTUA + 95,00 Total NET VIRTUA + 95,00 ( NET Fone SERVIÇO DURAÇÃO ASSINATURA 10,03 Total NET Fone 10,03 U Serviços Móveis Mensalidade Claro 60,03 Total Serviços Móveis 60,03 SOLICITE A SEGUNDA VIA DA FATURA NO MINHA CLARO. Tenha mais praticidade no seu dia a dia. Visualize informações da fatura ou solicite a segunda via detalhada por e-mail. É simples, rápido e seguro! Fatura Fatre de Deenre E, para ter ainda mais facilidade no seu próprio atendimento, você também tem a opção de solicitar as informações da sua fatura pelo Minha Claro no WhatsApp. R$ XX,XX sp Wr etaes Minha, Claro residencial BAIKE O APP V venre v bre (11) 9999-10621. Este é o número oficial do WhatsApp do Minha Claro, adicione aos seus contatos ou acesse pelo QR Code. Claro- - Caso existam serviços prestados e não cobrados, esses serão inclusos nas suas próximas faturas. Deficiente Auditivo e de Fala ligue 0800 721 7707 - É preciso realizar a ligação com um telefone adaptado com dispositivo TDD (Dispositivo de Telecomunicações para surdos). Ligue 4004-7777 para atendimento técnico, financeiro e compra de serviços (custo de ligação local). Ligue 10621 para informações, reclamações ou cancelamentos (ligação gratuita). -Para atendimento presencial consulte os endereços no site net.com.br Evite o desligamento de seu sinal efetuando o pagamento até a data do vencimento. NET filiada ao Serasa/SCPC. - Para pagamentos após o vencimento serão cobrados juros diários de 0,033% e multa de 2%. REGISTROS DE ATENDIMENTO: 063203466834284, 063203448709919, 063203448644066, 063203448520340, 063203436319002 Ouvidoria 08007010180 Autenticação Mecânica DÉBITO AUTORIZADO - BANCO DO BRASIL S.A. ATENÇÃO! ESTE EXTRATO É APENAS INFORMATIVO. Caso não ocorra o débito em sua conta corrente, dirija-se a um dos bancos conveniados abaixo ou acesse net.com.br/minhanet, faça seu login e efetue o pagamento. Atenção efetue seus pagamentos nos bancos conveniados a seguir: BANCO BRADESCO S.A., BANCO COOPERATIVO DO BRASIL SA, BANCO COOPERATIVO SICREDI S/A, BANCO DE BRASILIA SA., BANCO DO BRASIL S.A., BANCO DO ESTADO DO PARA, BANCO INTER S.A., BANCO ITAU S.A., BANCO MERCANTIL DO BRASIL S.A., BANCO ORIGINAL S.A., BANCO SAFRA S/A, BANCO SANTANDER, BANCO TRIANGULO S.A., BANESE, BANRISUL, CAIXA ECONOMICA FEDERAL, CITIBANK, MULTIPAGOS Mês Referência Julho/2020 Cliente Identificação para Débito NET SERVICOS 0630013117025 Vencimento Valor MARIA DO ROSÁRIO CARVALHO FORTES 05/08/2020 165,06 84620000001-2 65060296202-1 00805063000-6 00192239174-1 '], [\"www.vivo.com.br/meuvivo vivo N° da Conter 0363738262 Mės de relerência:012019 Pericdo 06 12 2018 a05012019 Datadeenissão: 08'01/2019 Fdeconosca Central de Relacionamerto *8486 ou wwww.vivo.combr/faleconosco Telefonica Brasil SA Av. Getülio Vargas, 1300 CEP 78045-901 - Cuiatá - MT LE: 132123142 CNPJ Matriz :02558 157/0001-62 CNPJ Filia 2.5581570027-00 ONILVA APARECIDA DA CUNHA R DR CICERO DE CAMPOS, 15 CS UNICA JARDIM MARAJOARA 78138-430 VARZEA GRANDE - MT Vencimento 21/01/2019 Total a Pagar - R$ 56,98 Seus Números Vivo Aguarde informações referentes ao Vivo 65-99975-2771 Valoriza Caso você tenhamais linhas, consulte o detalhamento da sua conta. Oque está sendo cobrado Quantidade de Quantidade de PlanoPacote Números Vivo Valor R$ Plano/Pacote Incluso Plano/Pacote Utilizado Minutos/Unidades Valor Total R$ Serviços Contratados MVO CTAL DIGITAL2,5GB ILIM MVO CONTROLESERV DIGITALII 49,99 0,00 49,99 Subtotal 49,99 Outros Lançamentos Serviços de Tereiros 6,99 6,99 Subtotal TOTAL A PAGAR 56,98 MENSAGEM IMPORTANTE PARA VOCÊ Orelatório detal hedo está disponivel emwww.vivo.com.brimeuvivoe pode ser solicitado impresso, de forme permenente ou não. App Meu Vivo. Éojeito mais prátio de acessar a sua conta detalhada, 2 via de conta, consumo de internete muito mais! Baixe agora emvivo.combr/app e navegue sem consumir seu pacote de dados Marterha opagamento em dae evite a suspensão parcialtota dos serviços e a irclusao nos orgios de praeção do crédta Parapagamertos após o vercimento serão cobrados ercagos de 2% e juros de 1%omés em corta futura vivo Vencimento Tda a Pagar - R$ Nome db Clenter ONLVA APARECIDA DA CUNHA 21/01/2019 56,98 Cád. Dabito Automático 0363738262-0 Nda Conta 0363738262 Mis Referencia 01/2019 846600000000 569800550018 103637382625 011941901214 Autenticação Mecarica \"], ['RAZÃO SOCIAL RAZÃO SOCIAL TV ENDEREÇO: MATRIZ CNPJ: MATRIZ CNPJ: INSC. MUNICIPAL: INSC. MUNICIPAL: INSC. ESTADUAL: VELOX FALE COM A GENTE - GRÁTIS: CPF/CNPJ: 00000000000 000 00 NOME DO CLIENTE INSC. MUNICIPAL: CONTRATO: 00000000 DATA EMISSÃO: ENDEREÇO DO CLIENTE VENCIMENTO: 07/12/2011 10/01/2012 MÉS REF.: DEZEMBRO/2011 CÓD. DÉBITO AUT.: 00000000 VALOR TOTAL CONTA: R$ 99,80 NÚMERO DA FATURA: 0000000000 RESUMO DA SUA FATURA VALOR R$ Prezado cliente 0000000000 Fique atento a data de vecimento da sua fatura; PAGANDO ATÉ O VENCIMENTO VOCÉ EVITA: • Cobrança de multa de 2% + juros de 1% ao més - Suspensão da prestação de serviços. • Com + de 75 dias de atraso, inclusão nos cadastros dos Serviços de Proteção 1. INTERNET 49,90 2. TV POR ASSINATURA 49,90 TOTAL A PAGAR 99,80 ao Crédito (Serasa, SPCE similares) e cancelamento do serviço. CONTRIBUIÇÕES: FUST (19%) FUNTEL (0,5%) DO VALOR DOS SERVIÇOS, NÃO REPASSADAS AO ASSINANTE. NOTA FISCAL DE SERVIÇOS DE COMUNICAÇÕES NÚMERO DA NF: 00000 SÉRIE: 0 SUB SÉRIE: 0 CFOP: 0000 TNL PCS S/A RESUMO DOS TRIBUTOS VALOR CNPJ: 04.164.616/0003-10 INSC. ESTADUAL: 062133441.00-10 INSC. MUNICIPAL: 165924/001-5 BASE DE CALCULO DO ICMS 69,86 AV. AFONSO PENA, 4001 - 24º ANDAR - PART FUNCIONARIOS CEP: 30130008 - BELO HORIZONTE - MG ALÍQUOTA 25% Regime Especial PTA N 16.7133 VALOR DO ICMS 17,47 Base de cálculo reduzida em 60% p/o serv. de TV por assinatura - Dec. Estadual n. 43.080/02 - anexo IV, parte 1, item 25 DESCRIÇÃO VALOR (R$) SERVIÇOS MENSAIS 99,80 RESERVADO AO FISCO 0000.0000.0000.0000.0000.0000.0000.0000 TOTAL NOTA FISCAL 99,80 INFORMAÇÕES DA OI TV PRA VOCÉ Reviva as emoções de duas novelas de muito sucesso: Top Model, de segunda a sexta às 15:30, e Barriga de Aluguel, de segunda a sexta às 16:30 no Viva (canal 36). FATURA PARA SIMPLES CONFERÊNCIA Sacado NOME DO CLIENTE ENDEREÇO Sacador/Avalista Autenticação Mecánica Ficha de Compensação '], ['TELEMAR SUDESTE TNL S/A OI CNPJ: 33.000.118/0013-02 - INSC. ESTADUAL: 24.053.350-0 Endereço: R. Barão de Itapetiringa 309- Loja 4 - República, São Paulo - SP, 01042-001 MATRIZ CNPJ: 33.000.118/0001-79 oi PAG.: 1/4 LLLLLULLLLLI| CTC TNL/SP PL11 FULANO DA SILVA RUA JÚLIO DE MESQUITA 2020 BAIRRO 00611-100 CIDADE - ESTADO Referência DEZEMBRO/2019 7213512820 00000 00000004360 30 XXX Telefone Vencimento Total a pagar XX-X-XXXXXXXX 27/01/2020 R$ 89,37 Resumo da sua fatura ΟΙ FIXΟ R$ 34,88 ΟΙ FIXO 4,40 PACOTE DE MINUTOS FIXO-FIXO LOCAL SERVICOS DIGITAIS OUTROS PACOTES E SERVICOS MENSAIS 30,48 0I VELOX R$ 60,17 OFERTA VELOXE SERVICOS DE BANDA LARGA 60,17 ASSINATURA VELOX ANTIVIRUS + BACKUP + EDUCA EXCEDENTES, OUTROS SERVICOS E TAXAS R$ -5,68 OUTROS VALORES -5,68 Desde 06 de novembro de 2016 foi incluído o número 9 CÓDIGO MINHA OI à frente dos celulares dos DDDS 41, 42, 43, 44, 45, 46, 47, 48, 49, 51, 53, 54 е 55 passando ao formato: (DDD) 9xxxx-xxxx. 161300217293 www.oi.com.br/MinhaOi Cadastre-se na Minha Oi e consulte saldo, conta detalhada, histórico de consumo e muito mais. Mais informações em www.oi.com.br/9digito. TELEMAR SUDESTE S/A FULANO DA SILVA Cadastre-se na Minha Oi e consulte saldo, conta detalhada, histórico de consumo CÓDIGO MINHA OI CNPJ: 33.000.118/0013-02 - INSC. ESTADUAL: Endereço: R. Barão de Itapetininga, 309-Loja 4 República 22021-010 CNPJ: 33,000,118/0001-79 TELEFONE/CONTRATO: XXXXXX CJ: 0 SU: 9 oi CONTA 01/2020 LOCAL 2479 DV 7 161300217293 www.oi.com.br/MinhaOi e muito mais. 8XXXX0000 -2 893700XXXX0-9 1002XX> FATURA:. 1300XXXXXXXXXX VENCIMENTO: 27/01/2020 VALOR A PAGAR: R$ 89,37 CÓDIGO PARA DÉBITO AUTOMÁTICO: 1XXXXXX293 XXXXXX0LO0 FIXO_BA - FO123818. MOBL.BA.OT76. EMO6. MO418. TXT.ASCII.TXT - RE:07 MO:E - OBJ:001/04360 - PAG. CLIENTE: 1/4 - PAG. SPOOL: 18365/32268 '], ['Companhia Paulista de Força e Luz Rua Jorge de Figueiredo Correa, 1632 Jardim Professora Tarcília – Campinas/SP - CEP: 13087-397 Inscrição Estadual: 244.163.955.115 Inscrição no CNPJ: 33.050.196/0001-88 CPFL Uma empresa do Grupo CPFL Energia ENERGIA ARTHUR FORTES DA COSTA Nota Fiscal R HERMANTINO COELHO 255 BL 5 AP 23 Conta de Energia Elétrica MAN STO ANTONIO N°. 105883469 série C Pág. 1 de 1 13087-500 CAMPINAS SP Data de Emissão 13/12/2019 Data de Apresentação 18/12/2019 Conta Contrato No 310091689739 Lote Roteiro de leitura Medidor Cliente Reservado ao fisco 07 CAMBUD49-00000853 215857038 0711530431 FF2D.28A1.440C.E740.3903.6019.5F14.E342 PREZADO (A) CLIENTE ATENÇÃO: Esta conta está classificada como RESIDENCIAL. Isso significa que suas tarifas e impostos serão aplicados de acordo com essa classe. Se o imóvel não é residencial, atualize seu cadastro em nossos canais de atendimento. DADOS DA UNIDADE CONSUMIDORA ARTHUR FORTES DA COSTA R HERMANTINO COELHO, 255 BL 5 AP 23 MAN STO ANTONIO CAMPINAS - SP CPF:021.251.723-64 Classificação: Convencional B1 Residencial - Bifásico 220 / 127 V SEU CÓDIGO 8866562 CONTA/MÊS DEZ/2019 ATENDIMENTO PN VENCIMENTO TOTAL A PAGAR (R$) 0800 010 1010 0711530431 08/01/2020 180,56 www.cpfl.com.br DISCRIMINAÇÃO DA OPERAÇÃO - RESERVADO AO FISCO Cod. Descrição da Operação Mês Quant. Unid. Aliq. PIS COFINS Bandeiras Tarifa com Valor Total da Base Cálculo ICMS Base Cálculo 115 N° 908202004487 Operação 5,07% Tarifárias Vermelha P1 Ref. Fa Med. Tributos ICMS ICMS PIS/COFINS 1,09% 0605 Consumo Uso Sistema [KWh]-TUSD DEZ/19 206,000 kWh 0,35626214 73,39 73,39 25,00 18,35 73,39 0,80 3,72 18 Dias 0601 Consumo - TE DEZ/19 206,000 kWh 0,40344661 83,11 83,11 25,00 20,78 83,11 0,91 4,21 Amarela 0601 Adicional de Bandeira Amarela DEZ/19 1,69 1,69 25,00 0,42 1,69 0,02 0,09 13 Dias 0601 Adicional de Bandeira Vermelha DEZ/19 7,24 7,24 25,00 1,81 7,24 0,08 0,37 Total Distribuidora 165,43 DÉBITOS DE OUTROS SERVIÇOS 0807 Contrib. Custeio IP-CIP Municipal DEZ/19 15,13 TOTAL CONSOLIDADO 180,56 165,43 41,36 165,43 1,81 8,39 HISTÓRICO DE CONSUMO kWh Dias TARIFA ANEEL EQUIPAMENTOS DE MEDIÇÃO / DATAS DE LEITURA Consumo TUSD TE Leitura Leitura Fator Consumo Taxa de Perda Leitura 2019 DEZ 206 31 Consumo kWh 0,24526000 0,27776000 N° Energia 13/12/2019 12/11/2019 Multipl. [kWh] [%] Próximo Mês NOV 174 32 215857038 ATIVA 11603 11397 1,00 206 14/01/2020 OUT 198 31 SET 157 29 AGO 221 31 JUL 186 31 JUN 161 29 ΜΑΙ 185 32 ABR 185 29 ΜAR 183 30 FEV 194 28 INDICADORES DE CONTINUIDADE DE FORNECIMENTO DE ENERGIA JAN 196 32 Para consulta dos indicadores acesse nosso site www.cpfl.com.br 2018 DEZ 184 31 INFORMAÇÕES SOBRE A FATURA AVISO IMPORTANTE A partir de 01.01.2020 todos os clientes têm direito a optar pela tarifa branca, saiba mais: www.cpfl.com.br/tarifabranca Total a Pagar (R$) Data de Vencimento 180,56 Nota Fiscal CódDébAut-Banco 310091689739 Conta de Energia Elétrica 105883469 Série C 08/01/2020 Essa conta poderá ser paga no credenciado mais perto de você. Confira a lista completa no site www.cpfl.com.br Loja 2189 - LC-PE M BERNARDES CAMP DROGARIA DOM PEDRO CAMPINAS O MATUTO cpfl paulista R PADRE MANUEL BERNARDES 971 - TAQUARAL AV GUILHERME CAMPOS LJ. 30A 500 - JARDIM SANTA GENEBRA RUA LUIZ OTAVIO, 651 - PARQUE TAQUARAL 836500000010 805600403127 033849335030 100916897398 Autenticação Mecânica '], ['P da Conta: 0266601256 Mês de referênda: 06/2017 Período: 0205/2017 a 01/06/2017 Data de emissäo: 04/06/2017 www.vivo.com.br/meuvivo vivo Fale conosoo: Central de Relacionamento *8486 ou www.vio.combr/falecoros00 Telefonica Brasil S.A Av. José Boritácio, 245 CEP 90040-130 - Porto Alegre - RS L.E: 096/2949477 CNPJ Matriz 02558.157/0001-62 CNPJ Filial :02.558157/0017-20 GUSTAVO MAFESSONI ZUFFO AV M SOCCOL, 2921 LJ VIVO CENTRO 99250-000 SERAFINA CORREA - RS Vencimento 23/06/2017 Total a Pagar - R$ 157,44 Vivo Valoriza Seus Números Vivo Saldo de pontos acumulados: Na data de: Saldo referente a conta 0266601256 no Vivo Valoriza. Para saldo atual, envie SMS com a palavra SALDO para 8011. 5.861 54-99622-2237 2205/17 Caso você tenha mais linhas, consulte o detalhamento da sua conta. Oque está sendo cobrado Quantidade de Quantidade de Plano/Pacote Valor R$ Induso Uilizado Valor Total Números Vivo PlanoPacote Plano/Pacote Mrutos/Unidades R$ Serviços Contratados VIVO MÓVEL SMARTVIVO POS 3GB FRANQUIA DE INTERNET 139,99 0,00 0,00 0,00 139,99 3,00GB 150 min 796,94MB 09m18s 32m12s MNUTOS LOCAIS LIVRES MNJTOS LOCAIS VIVO ILIMTADO MNUTOS DDD VMVO 0.00 ILIMTADO ROAMNG NACIONAL 0.00 ILIMTADO 106m30s SMS LIVRE 0.00 ILIMTADO PACOTE 5MB PATROCINADO 0.00 15.00MB 0,00 PACOTE INTERNET BONUS 500MB6M 0,00 500,00MB 500.00MB 0,00 Subtotal 139,99 Utilização Acima do Contratado No Brasil - Em Roaming Adicional por Ligações Realizadas Adicional por Ligações Recebides Subtotal 14 0,00 0,00 0,00 9 Serviços Utilizados em Períodos Anteriores Internet - Tarifacão MB/KB Subtotal 362,00KB 0,00 0,00 Continuação de Demonstrativo de Serviços no Verso MENSAGEM IMPORTANTE PARA VOCÊ Orelatório detalhado está disponível em www.vivo.combr/meuvivo e pode ser solicitacdo impresso, de forma permanente ou não. * Desde 06 de Novembro de 2016 foi incluído o número 9 à frente dos celulares dos DDDS 41, 42, 43, 44, 45, 46, 47, 48, 49, 51, 53, 54 e 55 passando ao formato: (DDD)900X-X0x. Mais informações em www.vivo.com.br9digito Agradecemos pagamentos recebidos até a emissão desta corta. Marterha o pagamento emda eevite a suspensão parcial/total dos serviços ea inclusão nos orgãos de proteção do crédito. Para pagamentos após o vencimerto serão cobrados encargos de 2%ejuros de 1% ao mês emoorta futura. vivo Vencimento Total a Pagar - R$ Nome do Cliente GUSTAVO MAFESSONI ZUFFO 23/06/2017 157,44 Cód Débito Automátioo 0266601256-0 P da Conta O266601256 Mês Referência 06/2017 846300000011 574400790014 102666012566 061741706230 Autenticação Mecânica '], ['vivo www.vivo.com.br/suaconta Central de Relacionamento Vivo *8486 Fale Conosco: www.vivo.com.br/faleconosco Viva SA Av. Av iton Senna 2200 CEP:22775-003- Rio de Janeira - RJ LE B6202928 CNPJ 02 440 020 181-01 MARCIA RIBEIRO R GOMES BRAGA, 5 AP 202 ANDARAI 20541-140 R DE JANEIRO-RJ Conta: 2014861670 VENCIMENTO: TOTAL A PAGAR - R$ Emissäo: Mês de Referência: Período: 06/11/09 a 05/12/09 21/12/2009 445,35 10/12/2009 12/2009 Número(s) do (s) Celularjes) 21-7105-56 59 21-9614-3144 21-9986-3444 Relação total de ce lulares está bcalizada na seção Celulares que Compõem sua Fatura. Resumo de Utilização Crédito R$ Dé bito R$ Lançamentos Diversos Crédito R$ Débito R$ 187,80 28,06 Planos Contratados Total de Créditos/Débitos Serviços Adicionais Chamadas Dentro da Area de Registro Chamadas Locais Originadas Chamadas de Longa Distância 0,00 445,35 1,99 TOTAL A PAGAR 445,35 227,50 ATÉ A EMISSÃO DESTA FATURA CONSTAVA(M) DÉBITOS) DE CONTA(S) ANTERIOR(ES) ESTE BOLETO NÃO QUITA DÉBITOS ANTERIORES. Prezado cliente, mantenta o pagamenb emda evitando a suspensão parcialtotal dos serviços e a inclusão nos orgãos de proteção ao crédito. Para pagamentos realizados após a data de vencimento serão cobrados na próxima fatura multa de 2% e juros de 1% ao mês. Autenticação Meca nica --- --- 846900000049 453500480018 120148616705 120960912216 vivo VENCIMENTO TOTAL A PAGAR - R$ Nome do Cliente MARCIA RIBEIRO 445, 35 21/12/2009 Mês Referência Identificação de Débito Automático 2014861670-9 Número da Conta 201486 16 70 122009 Atg ER '], ['www.vivo.com.br/meuvivo vivo N° da Conta: 0375746786 Més de eferé ncia: 07/20 19 Fale conosco: Central de Relaciona mento 8486 ou www.vivo.com.br/faleconosco Periodo: 21/06/20 19 a 20/07/20 19 Data de emissão: 23/07/20 19 Te lefonica Be sil SA. Rua Levindo Lopes, 258 CEP 30.140-170 - Belo Horizonte - MG LE.:621904680045 CNPJ Matiz :02.558.157/0001-62 CNPJ Filial 12.558.157/0009-10 LAUDISLAINE ROSA DE LIMA AV DO CONTORNO, 250 BENEVIDE 35240-000 CONSELHEIRO PENA - MG Vencimento 06/08/2019 Total a Pagar - R$ 29,99 Seus Números Vivo 33-99995-3567 Aproveite os beneficios do Vivo Valoriza no App Meu Vivo. Ca so você tenha mais linhas consulte odetalhamento da sua conta. O que está sendo cobrado Quantidade de Valor R$ Quantid ade de Incluso Utilizado Valor Total R$ Plano/Pacote Números Vivo Plano/Pacole Plano/Pacote Minutos/Unidades Serviços Contratados VIVOCTRL DIGITAL 2GB VIVOCONTROLE SERV DIGITALI 1 1 29,99 29,99 1 1 0,00 Subtotal 29,99 TO TAL A PAGAR 29,99 MENSAGEM IMPORTANTE PARA VOCÊ O relatório detalhado está dis poni vel em www.vivo.com.brm euvivo e pode ser solicitado impresso, de foma pemanente ou não. *App MeuViro. E o jeto mais pá ficode acessara sua conta detalhada, 2\" via de conta, consumo de inte met e muito mais! Baixe agoa em vivo.com.brla pp e navegue semconsumir seu pacote de dados \"Fique atento: o e-maloficial utizado pela Vivo para enviara 1° ve da sue conta é contadig tal@vivo.com.br.A vivo nunca envia e-mail de extensõe s como\" @gmail \"e \" hotmar.* Agradecemos pagamentos recebidos até a emissão de sta corta. Mantenha o pagamento emdia e evite a suspensão parcialtotaldos serviçose a inclusão nosorgãos de proleção do crédito. Para pagamertosapós o vencimento serão cobradosencargos de 2% e juưos de 1% ao més em conta futura. ------- vivo Vercimento Totala Pagar - R$ Nome do Clierte LAUDISLA INE ROSA DE LIMA 06/08/2019 29,99 Cód. Débito Automitico 0375746786-0 N° da Corta 0375746786 Mês Referé ncia 07/2019 846400000002 2999006400 10 10375746 7867 071941908064 Autenticação Mecánica '], ['NP da Conta 2XXXXX8 Mēs de referência: 01/2020 Período: 02/01/2020 a 02/02/20 www.vivo.com.br/meuvivo Fale concsco: Central de Relacionamento *8486 ou ww.vivo.combr/faleconosco Data de emissão: 02/03/2020 Teleforica Brasil S.A Av. Carapinima, 2200 - Loja 250 Benfica, Fortaleza - CE, 60015-290 I.E:0962949477 CNPJ Matriz :02.558.157/0001-62 ANPJ Filia :02558 157/0017-20 XXXXXX DA SILVA XXXXX RUA JÚLIO BRAGA XXX JOÃO XXXXXX XXX25-6XXX XXXXXX - XXX Vencimento 02/03/2020 Total a Pagar R$75,71 Vivo Valoriza Seus Números Vivo Saldo de pontos acumulados: Na data de Saldo referente a conta 2128920068 no 7.269 (XX) Х.XXXX-XXXX 02/02/2020 Vivo Valoriza. Para saldo atual, envie SMS coma palavra SAL DO para 8011. Caso você tenha mais linhas, consulte o detalhamento da sua conta Planos Anatel PUC-085 - ANTI IDENTIACADOR DE CHAMADAS 319/PÓS SMP- SMARTVVOPROMO4GB Quantidade de Quantidade de Números Vivo Valor R$ Induso Valor Total R$ O que está sendo cobrado Utilizado PlanoPacote Plano/Pacote Plano/Pacote Mnutos/Uhidades Serviços Contratados Vivo Móvel SMARTVIVO PROMO 2GB+2GB DDD PARA VIVO ILIMTADO 75,99 0,00 0,00 0,00 00 0,00 75,99 11mB6s LOCAL PMIVO ILIMTADO 41m36s OSLOCAL ROAMNGILIMTADO 100 min 13m36s SMSE MMB IVRELIMTADO SMSE MVS P/ VIVO MOVEL ILIMTADO 0.0 FRANQUA INTERNET BONUS CONTA DIGTAL 0,0 00 2,00GB 250,00MB 1,68GB 250,00MB 0,00 Subtotal 75,99 Serviços de Terceiros Telefônica Data COMBODIGITAL 1 1 20,000 20,00 Subtotal 20,00 Utilização Acima do Contratado No Brasil - Em Roaming Adicianal por Ligações Realizadas Ligações de Longa Distância Subtotal 0,00 1,72 1,72 O0m48s MENSAGEM IMPORTANTE PARA VOCÊ Continuação de Demonstrativo de Serviços no Verso Orelatório detalhado está disponível emwww.vivo.combr/meuvivo e pode ser solicitado impresso, de forma pemanente ou não. App Meu Vivo. Eojeito mais prático de acessar a sua conta detalhada, 2 via de conta, consumo de internet e muito mais! Baixe agora em vivo.com.br/appe navegue sem consumir seu pacote de dados Atéemissão desta conta constava(m) débitos de contas anteriores. O pagamento destaconta não quita débitos anteriores. Mantenhao pagamento emdae evite a suspensão parcial/total dos serviços ea indusão nos orgãos de proteção do crédito. Para pagamentos após o vencimento serão cobrados encargos de 2%e juos de 1%ao mêsemcontafutura. vivo Vendimento Total a Pagar - R$ Nome do diente XX XXXXDA SILVA XXXXXXX 02/03/2020 75,71 Cód Débito Automático 212XXXX-0 P dаConta 12ХXXXXXX8 Mês Referência 02/2020 84XXXXX1 04XXXXX 12XXXX689 101XX4 Autenticação Mecânica Número da Conta:XXXXXXXXX68 Mês de Referência: 02/2020 '], ['ANDRE LUIS DA SILVA PESSOA Codigo 053/007234330 Vencimento Valor Claro- 169,99 RJOSE DUARTE DE SOUZA, 00180 APT 103 JARDIM SANTA PAULA 08/06/2021 13584-030 SAO CARLOS SP CPF/CNPJ Forma de Pagamento BOLETO BANCARIO 054.053.163-42 PARA 2a VIA DA FATURA, DÉBITO AUTOMÁTICO E DÚVIDAS, ACESSE MINHACLARO.COM.BR 001/006 Importante: Minha Claro: descrição total Hantenha seu e-mai e telefenes sempe ataalizadas. Acesse claro.com.acminta-slarn, taça seu legin ou cadastre-se. Aençia: a canenlamenta de seus servitos CLARD, duranie o periodo de pernanincia minima, estasi sajeila a sobrança de malta NET VIRTUA NET VIRTUA + 104,99 U SERVIÇOS MÓVEIS O Serviços Móveis 65,00 cantratual. Claro-clube Valor total CatasneseemA.cO.om dan-cube 169,99 NET VIRTUA + Mensalidade NET VIRTUA 52IA1121 OFERTA CONUNTA VIRTUA 24E NEGA FIDELIDADE + APLICATIVOS 19 104.99 104.99 Sub-Tetal Hensalidade NET VIRTUA Tatal NET VIRTUA. O Serviços Móveis Hirulicada Caa Total Serviços Móveis 65,00 CONSULTE O SINAL DOS SEUS PRODUTOS NO MINHA CLARO. Acesse, quando quiser, diversas assuntos técnicos, financeiros e sobre seus produtos com muito mais comodidade no Minha Clare. Consulte o sinal, agende a visita e acompanhe o trajeto do técnico até a sua casa pelo Minha Claro. Confira outras facilidades: Soickar Cadtar Fau D Mater pa Den A Recanligur Cat Claró- Vaci merecea novo. -Caso mstam ervicen presladan enin sobraden, mes Onikeria ceDTEnI Tara atendimenta pencial, tdre O mais prisi clar.cam nt-r i incsos prisinas ta. - Evite o desiiganente de s sisal eletaeda pigamene atia tata da wedmes. HETlata n REGISTROS DE ATENDIMENT Deficiente Autiva e Fala ligan 0 721 7707- Precba realiar aliaco canin lefane adalado em iaponitiva TDD (Dipantive de Teiecemanicaçtn pan - Parn pagametes apds a weesimen sde cobrados s dias de 0,aemte de 2%. Ligen 121 pa krmates, nates cancetamet ai rta Autenticaçio Hlecanica Pagamentes após a vencimento serto cabrades juros diários de 0,033% e multa de 2%. Os encarges de pagamentos etetuatos após o vencimento serao cobrados na prózima tatura. Aenle etetue seus pagarentos nos bances comveniados a seguir. BAMCO BRADESCO SA, BANCO COOPERATIVO DO BRASIL SA BANCO COOPERATIVO SICREDI SIA, BANCO DE BRASILA SA, BANCO DO BRASIL SA, BANCO DO ESTADO DO PARA, BANCO INTER SA, BANCO ITAU SA, BANCO MERCANTIL DO BRASIL SA, BANCO ORIGINAL SA, BANDO SAFRA SA, BANDO SANTANDER, BANCO TRIANGULO SA, BANESE, BAMRISUL, CAIXA EDONOMICA FEDERAL CTBANK, MULTIPAGOS Ciente Identiticaçao para Debito NET SERVICOS 0530072343303 Més Referencia Vencimenta Valor ANDRE LUIS DA SILVA PESSOA Maio/2021 08/06/2021 169,99 84620000001-2 69990296202-5 10608053000-4 00202930962-8 Pague com Pix '], ['CARLOS FATURA DE VENCMENTO PAGAR RSI oi MAR/2019 20/03/2019 21,38 CHEGOUSUA PATTURA DA OL COO MINHA DI Acesse w0om.tMiha Pericco de 2UaraDIa a tatavzoa Illullullullullllullullul CTCE SALVAOOR BA PLI CARLOS MAGNO BARBOSA CALDEIRA TV GONCALO ROSARIO 7 1 AND BOCA DO RIO 41710-480 - SALVADOR - BA QUE TAL FALAR COM A GENTE PELO WHATSAPP? oi Aaciona o kaaistorto Virtu da3 1313 Um ne racco ci de eceter nmactes da enta VICE PRA CONTA O NE SERVÇOGUTLOAOOS CARLOS HADNO BARDDGA CALDERA CPF 032.078995-0 OI MAIS 21,38 NUMERI DO ELENTE: 222a17 NUMERO DA FATURA 13018438 N FARA DEanD AUTOMATICO: 41334IERs e OI MÓVEL • Pacotes Adicionais do Movel 0,00 TOTAL DE MENSALIDADES 21,38 CÓDIGO MINHA OI TOTAL DA SUA FATURA 21,38 401938248685 ww..com.br/Minhati Cadostre-se rointe econtte do centa densitan hiaterien de oanm muto mas ENTENDA SEU CONSUMO D vior ce ua fatura nos atimoe meses Hor 20e Figue atento. Efetue os pagamemos en ea evte: Cobrance de Hu de 2 juas de 00 mis pra ata tia Suansko de orvicn Percial. 15 das spon envio da ntesc onmas 20 thun, Supemlo Total Durnte a piriada de Bagueo Parcal, a issinatura de sua teha sera cobrade nomalmenne de ocorto sen es voleres contratatos. pee ola coninue apta a receber cherracos. Cancelarmentoa inclusonas Orgies de Proteçlo ao Cidite PCSera. 30 das ipds Superate Tetal oi CLENTE DERTO AUTOHATICO FATURA DE VENCIMENTO VALOR 200208 401938248685 CARLOS MAGNO BARS06A CALDEIRA MAR/2019 21.38 GIMOVEL LA 84670000000-9 21380113228-2 26933870130-4 61643800100-3 '], ['SEU CÓDIGO 44107862 ELEKTRO ELEKTRO REDES S.A. R. ARY ANTENOR DE SOUZA, 321 - 13053-024- CAMPINAS-SP CNPJ 02 328 280/0001-97- INSC. EST. 244.868.522.118 AV. BALDOMERO LEITUGA, 2032 - 79610-270 - TRÊS LAGOAS-MS CNPJ 02 328 280/0002-78-INSC. EST. 28.304.126-9 WWW.ELEKTRO.COM.BR VITOR PADOVANI MOLINA R LUIZ LOURENCO RUIZ, 141 - - JARDIM IMPERIAL PIRAPOZINHO - SP - CEP 19200-000 DATA DE EMISSÃO: 25/02/2021 DATA DE APRESENTAÇÃO: 03/03/2021 CNPJ/CPF: 35516377846 IE: CONTROLE N°: 01-20216040122749-67 VALOR DA CONTA (R$) R$ 196,37 PRÓXIMA LEITURA N° DA NOTA FISCAL/CONTA DE ENERGIA ELÉTRICA CONTA DO MÊS VENCIMENTO 26/03/2021 100.948.790 FEVEREIRO/2021 23/03/2021 DADOS DE CADASTRO DETALHAMENTO DA CONTA MEDIDOR / CONSTANTE B19667802 CLASSIFICAÇÃO 1 BASE TARIFA VALOR ALÍQ. VALOR VALOR TOTAL RESIDENCIAL-BIFASICO CCI* DESCRIÇÃO DO PRODUTO QUANTIDADE CALCULO FORNEC. FORNECIMENTO IMPOSTO ICMS (FORNEC. + IMPOSTOS) IMPOSTO TENSÃO NOMINAL OU CONTRATADA (V) LIMITE ADEQUADOS DE TENSÃO (V) DÉBITO AUT. 220/127 116 A 133 / 201 A 231 0601 CONSUMO TE 224,00 0,252857 56,64 80,47 25,00% 20,11 76,75 0601 CONSUMO TUSD 224,00 0,302143 67,68 96,16 25,00% 24,04 91,72 LEITURA 0601 AD.B.AMAR. 224,00 0,013393 3,00 4,25 25,00% 1,06 4,06 ANTERIOR ITEM CONSUMO ATUAL 0699 COFINS 180,89 3,80% 6,87 DIAS DO PERÍODO 225 ANTERIOR 0699 PIS 180,89 0,82% 1,48 0699 COBRANCA ILUM PUBLICA PARA A PREFEITURA 0,00 0,00% 0,00 5,17 13/01/2021 42 0699 VISTORIA 0,00 0,00% 0,00 10,32 TOTAL 127,32 45,21 196,37 F. POTÊNCIA MÉDIA ATUAL *CI - CÓDIGO DE CLASSIFICAÇÃO DO ITEM 24/02/2021 HISTÓRICO DE CONSUMO (KWH) 224.0 0.0 0.0 0.0 0.0 0.0 0.0 0.0 0.0 0.0 0.0 0.0 0.0 FEV/21 JAN/21 DEZ/20 NOV/20 OUT/20 SET/20 AGO/20 JUL/20 JUN/20 MAI/20 ABR/20 MAR/20 FEV/20 COMPOSIÇÃO DE FORNECIMENTO ENERGIA R$ 54,46 ENCARGOS R$ 19,95 DISTRIBUIÇÃO R$ 30,86 TRIBUTOS R$ 53,56 TRANSMISSÃO R$ 12,60 PERDAS R$ 9,45 INFORMAÇÕES GERAIS BAND.TARIF. AMARELA:14/01-24/02 AVISO IMPORTANTE DE DÉBITO / CORTE DÉBITOS ANTERIORES ATENÇÃO ACESSE O NOSSO SITE E REALIZE OS SERVIÇOS COM MAIOR COMODIDADE, PRATICIDADE, RAPIDEZ E SEGURANÇA. WWW.ELEKTRO.COM.BR SEU CÓDIGO 44107862 TOTAL R$ R$ 196,37 AGÊNCIA VENCIMENTO 23/03/2021 BANCO CONTROLE N° 01-20216040122749-67 836400000011 963700220212 001010202164 040122749670 AUTENTICAÇÃO MECÂNICA GBELEKTRO1 (V1.00) '], [\"www.vivo.com.br/meuvivo vivo N° da Conter 0363738262 Mės de relerência:012019 Pericdo 06 12 2018 a05012019 Datadeenissão: 08'01/2019 Fdeconosca Central de Relacionamerto *8486 ou wwww.vivo.combr/faleconosco Telefonica Brasil SA Av. Getülio Vargas, 1300 CEP 78045-901 - Cuiatá - MT LE: 132123142 CNPJ Matriz :02558 157/0001-62 CNPJ Filia 2.5581570027-00 ONILVA APARECIDA DA CUNHA R DR CICERO DE CAMPOS, 15 CS UNICA JARDIM MARAJOARA 78138-430 VARZEA GRANDE - MT Vencimento 21/01/2019 Total a Pagar - R$ 56,98 Seus Números Vivo Aguarde informações referentes ao Vivo 65-99975-2771 Valoriza Caso você tenhamais linhas, consulte o detalhamento da sua conta. Oque está sendo cobrado Quantidade de Quantidade de PlanoPacote Números Vivo Valor R$ Plano/Pacote Incluso Plano/Pacote Utilizado Minutos/Unidades Valor Total R$ Serviços Contratados MVO CTAL DIGITAL2,5GB ILIM MVO CONTROLESERV DIGITALII 49,99 0,00 49,99 Subtotal 49,99 Outros Lançamentos Serviços de Tereiros 6,99 6,99 Subtotal TOTAL A PAGAR 56,98 MENSAGEM IMPORTANTE PARA VOCÊ Orelatório detal hedo está disponivel emwww.vivo.com.brimeuvivoe pode ser solicitado impresso, de forme permenente ou não. App Meu Vivo. Éojeito mais prátio de acessar a sua conta detalhada, 2 via de conta, consumo de internete muito mais! Baixe agora emvivo.combr/app e navegue sem consumir seu pacote de dados Marterha opagamento em dae evite a suspensão parcialtota dos serviços e a irclusao nos orgios de praeção do crédta Parapagamertos após o vercimento serão cobrados ercagos de 2% e juros de 1%omés em corta futura vivo Vencimento Tda a Pagar - R$ Nome db Clenter ONLVA APARECIDA DA CUNHA 21/01/2019 56,98 Cád. Dabito Automático 0363738262-0 Nda Conta 0363738262 Mis Referencia 01/2019 846600000000 569800550018 103637382625 011941901214 Autenticação Mecarica \"], ['Conta Mensal de Serviços de Agua el ou Esgotos a CoITDAtio de seentto besico du eistadu du oultatioep DATA EMISSAO Fatura tipo Fornecimento No. Documento 350615535002 SOR202 13472952 FATURAMENTO 20/04/2021 Codigo para debito automatico: 0350615535 Tipo def ornecimento: COMERCIAL Acesse a Agencia virtual https://agenciavirlual sabesp com br/ para atualzar seu cadastro, segunda via de fatura, consultas e servicos Cliente: PAULO CORRETORA DE SEGUROS SS LTDA CEP: 13140000 End.:AVENIDA PRESIDENTE GETULIO VARGAS, 362 - COMPLPAULO SEG- NOVA PAULINIA PAULINIA SP Cod. Cliente: 000396259 PDE/RGI: 0350615535 Folha 1/1 Insc. Fstadual: Lacre: Hidrometro: Y161 4EE034 Economias: COM 1 Data daapresentacao: 2004/2021 Condicao de leitura: LEITURA NORMAL Tipo deligacao: AGUAE ESGOTO Tipo Mercado: COMUM Proxima leitura: 21/05/2021 Leitura Anterior 20I3/2021 Leitura Atual 469 0 Consumo (M3) 10 ó Periodo 31 Media (M3) in,17 Agua 459 2004/2021 Historico de Consumo (Emissao Consumo em M3) 20/10 2020 131 G 19/12.2020 19:01/2021 18.02/2021 20.03/2021 2 1722. 24 hora 100 757 19/11 2020 Agua 10LG 101G 1OLG 916 516 Agua Esgoto (M3 x Nro. Econom.) (M3) Tarita(RS) Valor(RS) (мэ) Tarifa(RS) Valor(R$) Bubtotal TOTAL (VI Agua + VI Esgoto) Agua Esgoto (MO x Nro Econom.) (M3) Tarifa R$) Valor(R$) (M3) Tarifa(R$) valor(R$) De OAle 10,33 Minimo 5,44 56,15 Minimo 4.35 44,90 Subtotal 56,16 44,90 TOTAL (VI Agua + VI Esgoto) DISCRIMINACAO DO FATURAMENTO 101,06 3930 Agua Esgoto Tx. de Regulaca0 - 56,15 TOTAL (R$) 44,90 101,55 04/05/2021 VENCIMENTO 0,60 0,60 No caso de pagamento em atraso serao cobradas Multa de 2% mais Atualizacao Monetaria com base na variacao do IPCAIBOE do mes anterior mais Juros de Mora de 0,033% 2o dia \"Oferecemos datas opcionais de vencimento para sua conta 01 - 06 - 10 - 15 - 20 - 25. Havendo interesse entra em contato com a SABESP. '], ['www.vivo.com.brimeuvivo vivo Telria SA Ruasa Matra aP411 Sahaer-BA Fale con asca Cental de Relacionamenb LE:SRE OPI Fal 12a ETN- Nda Corta KJe Made ndcin rans Vencimento 1208/2019 Data dei aans Total a Pagar - R$ 399,40 Vivo Valoriza JULHO 2019 Sado de pontos acumados 192 VIVO CONTROLE DIGITAL Sab rekar a arta 1444 ne Vio Vori. Pam sldo atul, enve SS coma palra SALD0pam tot1. O que esta sendo cabrado Quandade de Qani dae de PlanoPate Nueros Vvo Vaor RS RanaPacole Indue Pano Pacole Minutslnidades Utiado Valor Tota RS Serviços Contrad os wo CONTROLE EV GITAL Sta welivesecurity TOTALA PAGAR 300,40 MENSA GEM MPORTANTEPARAVOCE Ondatoto dtalldo eta dporivd an ocombrinuhoe pale aoktatoImpemo, de fama pemerts oune. \"Ensot, coreuaincapaado da Tefnica Data SA. pela trica BrailSA Apartr de 112, ca serdçoa do pratadose itratca pala Teldorica raal, sn TEsidide de qukquer proinda do clerte ca alora eberficia doa seriça pemnarib igaa.\" App eu Vo. É ojuto man pritco de ar orta ddahuda, 2via de cota, orano de intantemutomal Babpraum viocombrip e n oranir supoe de daos Agadicaa pagnerita rcetados aiesio desti onta. Martartao pagnanto en dae a aperalo pacibal da saga eardaonca oicade prduglo do cidio. Para pginertosapda owndentbsudo ctrata eragoa de 2 ejurcade 15 aomla n ontaflum vivo TtlPgr-RS Vancinerto PAGSEGURO INTERNET S.A 12082019 399,40 NFATURA 1626 263 Ma ufairci 07/2019 104987 490 000100044001 6226947N8 Autrcaclo ania '], ['vivo N° da Conta: 00001101080299 www.vivo.com.br/meuvivo Mês de referência: 04/2021 Fale conosco: Central de Relacionamento Período: 25/03/2021 a 24/04/2021 *8486 ou www.vivo.com.br/faleconosco Data de emissão: 01/05/2021 Telefonica Brasil S.A. Av. Engenheiro Luiz Carlos Berrini, 1.376 CEP: 04571-936 - São Paulo - SP I.E.: 108383949112 CNPJ Matriz: 02.558.157/0001-62 CNPJ Filial: 02.558.157/0001-62 PATRICIA MIKA SAKUGAWA AV PRES GETULIO VARGAS 362 SANTA CECILIA 13140-330 PAULINIA - SP Vencimento 10/05/2021 Total a Pagar R$ 59,99 Aguarde informações referentes ao Vivo Valoriza Seus Números Vivo 11-97448-3448 Caso você tenha mais linhas, consulte o detalhamento da sua conta. Planos Anatel 066/POS/SMP- VIVO CTRL DIGITAL-5GB ILIM ənb O que está sendo cobrado Quantidade de Quantidade de Valor R$ Incluso Utilizado Valor Total de 25/03/2021 a 24/04/2021 Plano/Pacote Números Vivo Plano/Pacote Plano/Pacote Minutos/Unidades R$ Serviços Contratados Vivo Ctrl Digital-5GB Ilim_ Vivo Controle Serv Digital II Bônus Conta Digital Subtotal Serviços Contratados 59,99 0,00 0,00 1 1 59,99 1 1 1 1 500MB 0,00 59,99 TOTAL A PAGAR 59,99 MENSAGEM PARA VOCÊ A Telefônica Brasil S/A em cumprimento a Lei Federal n°12.007/09, declara a quitação dos serviços de telefonia móvel faturados nesta conta referentes ao ano 2020. Para comprovação do cumprimento das obrigações do consumidor, esta declaração substitui as contas em referência. Este documento não quita parcelamentos, serviços de telefonia fixa, TV, Banda Larga, valores co-faturados de outras operadoras, cobranças judiciais, serviços prestados e não faturados. A conta detalhada está disponível em www.vivo.com.br/meuvivo e pode ser solicitada impressa, de forma permanente ou não. Mantenha o pagamento em dia e evite a suspensão parcial/total dos serviços e a inclusão nos orgãos de proteção ao crédito. Para pagamentos após o vencimento serão cobrados encargos de 2% e juros de 1% ao mês em conta futura. ANATEL 1331 e 1332 para deficientes auditivos. Recurso de atendimento Vivo: ligue com o protocolo em mãos para 1058 e 142 para pessoas com deficiência de fala/audição. vivo Vencimento Total a Pagar - R$ Nome do Cliente PATRICIA MIKA SAKUGAWA 10/05/2021 59,99 Cód. Débito Automático 1101080299-7 N° da Conta 00001101080299 Mês Referência 04/2021 846500000001 599900801003 011010802996 921043170528 Autenticação Mecânica '], ['Companhia Paulista de Força e Luz Rua Jorge de Figueiredo Correa, 1632 Jardim Professora Tarcília – Campinas/SP - CEP: 13087-397 Inscrição Estadual: 244.163.955.115 Inscrição no CNPJ: 33.050.196/0001-88 CPFL Uma empresa do Grupo CPFL Energia ENERGIA LUCIANA HORTA DE LIMA SILVA Nota Fiscal R MD MARIA VILLAC 188 Conta de Energia Elétrica CD UII N°. 113966629 série C Pág. 1 de 1 13083-815 CAMPINAS SP Data de Emissão 05/02/2020 Data de Apresentação 06/02/2020 Conta Contrato No 310019095836 Lote Roteiro de leitura Medidor Cliente Reservado ao fisco 03 CAMBU164-00000198 201368307 0703079477 15A3.D2AC.C87C.7269.3A7C.6B61.A9FC.7BF3 PREZADO (A) CLIENTE ATENÇÃO: Esta conta está classificada como RESIDENCIAL. Isso significa que suas tarifas e impostos serão aplicados de acordo com essa classe. Se o imóvel não é residencial, atualize seu cadastro em nossos canais de atendimento. DADOS DA UNIDADE CONSUMIDORA LUCIANA HORTA DE LIMA SILVA R MD MARIA VILLAC, 188 CD U II CAMPINAS - SP CPF:172.025.128-23 Classificação: Convencional B1 Residencial - Bifásico 220 / 127 V SEU CÓDIGO 10668462 CONTA/MÊS FEV/2020 ATENDIMENTO PN VENCIMENTO TOTAL A PAGAR (R$) 0800 010 1010 0703079477 13/02/2020 412,51 www.cpfl.com.br DISCRIMINAÇÃO DA OPERAÇÃO - RESERVADO AO FISCO Cod. Descrição da Operação Mês Quant. Unid. Aliq. PIS COFINS Bandeiras Tarifa com Valor Total da Base Cálculo ICMS Base Cálculo 115 N° 907452415750 Ref. Fa 4,37% Tarifárias Med. Tributos Operação ICMS ICMS PIS/COFINS 0,95% 0605 Consumo Uso Sistema [KWh]-TUSD FEV/20 518,000 kWh 0,35196912 182,32 182,32 25,00 45,58 182,32 1,73 7,97 Amarela 23 Dias 0601 Consumo - TE FEV/20 518,000 kWh 0,39859074 206,47 206,47 25,00 51,62 206,47 1,96 9,02 Verde 0601 Adicional de Bandeira Amarela FEV/20 8,20 8,20 25,00 2,05 8,20 0,08 0,36 05 Dias Total Distribuidora 396,99 DÉBITOS DE OUTROS SERVIÇOS 0807 Contrib. Custeio IP-CIP Municipal FEV/20 15,52 TOTAL CONSOLIDADO 412,51 396,99 99,25 396,99 3,77 17,35 HISTÓRICO DE CONSUMO kWh Dias TARIFA ANEEL EQUIPAMENTOS DE MEDIÇÃO / DATAS DE LEITURA Consumo TUSD TE Leitura Leitura Fator Consumo Taxa de Perda Leitura 20 FEV 518 28 Consumo kWh 0,24526000 0,27776000 N° Energia 05/02/2020 08/01/2020 Multipl. [kWh] [%] Próximo Mês JAN 544 30 201368307 ATIVA 4421 3903 1,00 518 06/03/2020 2019 DEZ 664 33 NOV 744 30 OUT 643 33 SET 439 29 AGO 367 32 JUL 384 30 JUN 432 29 ΜΑΙ 504 33 ABR 512 27 INDICADORES DE CONTINUIDADE DE FORNECIMENTO DE ENERGIA ΜAR 631 31 Para consulta dos indicadores acesse nosso site www.cpfl.com.br FEV 771 28 INFORMAÇÕES SOBRE A FATURA Considerar quitada se efetuado débito em conta corrente. Caso não ocorra o débito utilize esta conta para pagamento. AVISO IMPORTANTE A partir de 01.01.2020 todos os clientes têm direito a optar pela tarifa branca, saiba mais: www.cpfl.com.br/tarifabranca DÉBITO AUTOMÁTICO Total a Pagar (R$) Data de Vencimento 412,51 Nota Fiscal CódDébAut-Banco 310019095836 Conta de Energia Elétrica 113966629 Série C 13/02/2020 Banco 001 Agência 5966 Essa conta poderá ser paga no credenciado mais perto de você. Confira a lista completa no site www.cpfl.com.br LEANDRINI CALCADOS SOS FOGOES E CHAVEIRO LTDA ME ACM COGUMELO cpfl paulista AV SANTA ISABEL, 66 - BARAO GERALDO R FRANCISCA RESENDE MERCIAI, 242 - BARAO GERALDO ROD PEDRO I KM 104,5 SP 065 PISTA NORTE S/N S/N - JD SANTA MONICA 836400000045 125100403182 933791757034 100190958361 Autenticação Mecânica '], ['SEGUNDA VIA Light, sempre com você, 24 horas! Informações sobre condições gerais de fornecimento, tarifas, produtos, serviços e tributos? Faltou luz? Envie SMS com o Código da Instalação para o nº 54448. 01 B01 585 21 0428 MIN DEFESA COMDO AERONAUTICA R PACIFICO PEREIRA 1 BL5 SV EF.N°114 JD SULACAP / RIO DE JANEIRO - RJ 21741-160 00001 Z002 000002 Disque-Light Emergência: 0800 021 0196 Emergência Grandes Clientes: 0800 282 1380 Agência Virtual: www.light.com.br Disque-Light Comercial: 0800 282 0120 Deficientes auditivos e de fala: 0800 285 2453 Ouvidoria: 0800 284 0182 (Dias úteis: 8h às 18h) Agências Comerciais Agência Nacional de Energia Elétrica - ANEEL: 167 Ligação gratuita de telefones fixos e móveis. Se você ainda não possui sua conta da Light em Débito Automático, faça a adesão na sua agência bancária, na Agência Virtual (www.light.com.br), no Disque-Light (0800 282 0120) ou nas agências da Light e fique despreocupado! Classe / Subclasse Faltou luz? Light Já! PODER PÚBLICO / PODER PÚBLICO FEDERAL Envie SMS apenas com o Código da Instalação para o n° 54448. Pronto. Agora, é só aguardar o retorno da sua luz. Medidor TRIFÁSICO | N°: 7324409 Serviço de atendimento automático, limitado a 2 SMS por dia, por celular. Disponível para as operadoras Claro, Oi, Vivo, Tim e Nextel. Ref: Mês / Ano Referência Bancária Número da Fatura AGO/2016 030000792003 515703902575 Reservado ao Fisco 5FFC.5047.43AE.65C2.DA38.40EF.9321.F02C SEGUNDA VIA Nota Fiscal - Série 01 no.118600 Conta de Energia Elétrica RE PROC. E-04/053.359/09 - IFE 03 SEPD - Autorização n.08-2005/0006384-9 DATA PREVISTA DA PRÓXIMA LEITURA 01/09/2016 TENSÃO NOMINAL EM VOLTS Disponível: 220/127 Light LIGHT SERVIÇOS DE ELETRICIDADE SA AV. MAL. FLORIANO 168 RIO DE JANEIRO RJ CEP 20080-002 Limites mínimo: 202/117 Limites máximo: 231/133 CNPJ 60.444.437/0001-46 INSC. ESTADUAL 81380.023 INSC MUNICIPAL 00794678 INDICADORES DE QUALIDADE ENERGIA ATIVA Mês de referência: Junho/2016 ENERGIA REATIVA EXCEDENTE Medição Atual Medição Anterior Data |Const Medidor |Consumo kWh Medição Acumulada Atual |Const Medidor |Consumo kWh Conjunto: PADRE MIGUEL N° Data |Leitura |Leitura Dias |Anterior Indicadores TApurado Mensal I Meta Mensal | Meta Trimestral IMeta Anual 01/08/2016 6.647 01/07/2016 6.554 1 93 31 DIC 0,00 4,71 9,43 18,86 Data da Emissão Data de Apresentação FIC 0,00 3,11 6,22 12,45 BLOCO 5 SV - APT 101 R PACIFICO PEREIRA 1 BL5 SV EF.N°114 01/08/2016 08/08/2016 DMIC 0,00 2,60 21741-160 JD SULACAP / RIO DE JANEIRO - RJ CNPJ: 00.394.429/0117-30 DIC - Duração de interrupção individual FIC - Frequência de interrupção individual DMIC - Duração máxima de interrupção contínua DICRI - Duração da interrupção individual em dia crítico CÓDIGO DO CLIENTE CÓDIGO DA INSTALAÇÃO 20003992 0420577631 VALOR DO ENCARGO DE USO DO SISTEMA DE DISTRIBUIÇÃO: DESCRIÇÃO UNIDADE QUANT. PREÇO UNIT R$ VALOR R$ R$ 28,44 CFOP O cliente tem o direito de solicitar a qualquer tempo a apuração dos indicadores DIC, FIIC, DMIC e DICRI e também receber uma compensação, caso sejam violadas as metas de continuidade individuais – mensal, trimestral e anual- relativos à unidade consumidora de sua responsabilidade. CUSTO DISPONIBILIDADE SISTEMA 5.258 kWh 100 0,72853 72,84 CONTRIBUIÇÃO DE ILUMIN PÚBLICA RETENÇÃO NA FONTE - IRPJ RETENÇÃO NA FONTE - CSSL RETENÇÃO NA FONTE - PIS/PASEP RETENÇÃO NA FONTE - COFINS 0000 2,93 0000 -0,87 0000 -0,73 0000 -0,47 0000 -2,19 Subtotal Faturamento (Veja abaixo) Subtotal Outros 72,84 1,33- Após o vencimento haverá multa de 2%, juros e atualização de IGP-M, cobrados em conta posterior (Res. ANEEL n° 414 de 09/09/10 e Lei 10.762 de 11/11/2003) Valor da Energia Valor da Transmissão Valor da Distribuição ICMS R$ 20% Total da Nota Fiscal R$ Base de Cálculo Alíquota Valor (já incluído no preço) 29,87 1,26 11,63 72,84 ********* *72,84 20% Encargos Setoriais 11,60 Tributos Total 14,57 18,48 72,84 VENCIMENTO TOTAL A PAGAR R$ PIS alíquota *********71,51 0,950% COFINS alíquota 4,400% 23/08/2016 R$ 0,69 R$ 3,20 Valores já incluídos no preço (PIS - Lei 10.637/02 / COFINS - Lei 10.833/03 / REH ANEEL vigente) 103 AGO15 SET15 104 Tarifas em R$/kWh (sem impostos) 95 OUT15 NOV15 107 TUSD +TE DEZ15 71 BANDEIRAS TARIFÁRIAS 0,54385 0,55885 0,57385 Bandeira Verde 76 JAN16 Bandeira Amarela FEV16 73 X X AGOSTO 2016 - BANDEIRA VERDE Bandeira Vermelha MAR16 82 ABR16 92 133 X X JULHO 2016 - BANDEIRA VERDE MAI16 JUN16 82 JUL16 91 AGO16 93 TE - Tarifa de Energia e TUSD - Tarifa de Uso do Sistema de Distribuição. MIN DEFESA COMDO AERONAUTICA CONTA EM DÉBITO AUTOMÁTICO BANCO SANTANDER S.A. VENCIMENTO TOTAL A PAGAR CÓDIGO DO CLIENTE 23/08/2016 *********71,51 20003992 AGO/2016 01 B01 585 21 0428 Autenticação Mecânica 83600000000.7.71510053100.6.04499233000.9.30000792003.0 CONSUMO '], ['WILSON DIAS DE SOUSA FILHO R EUNICE VIRGINIA RAMOS NAVERO,310,CS 5 PARQUE ALTO TAQUARAL Código Vencimento Valor: NET 424,42 052/010944821 05/10/2014 13087-765 CAMPINAS SP Forma de Pagamento DÉBITO ĂUTOMÁTICO CPF/CNPJ O MUNDO É DOS NETS 644.681.946-34 PARA 2a VIA DA FATURA, DÉBITO AUTOMÁTICO E DÚVIDAS, ACESSE NET.COM.BR 001/003 Importante: descrição total Minha NET: NET TV 270,49 Mantenha seu e-mail e telefones sempre atualizados. Acesse net.com.br, opções Minha NET > Minha Assinatura. Atenção: o cancelamento de seus serviços NET, durante o período de permanência mínima, estará sujeito à cobrança de multa contratual. CB NET TOP NET Virtua 112,08 HDMAXCINEM FUT RJ CF FD NET Fone 41,85 COMBO VIRTUA 20 MEGA FIDELIDADE NETFONE FALE SIMPLES ESPECIAL Valor total 424,42 NET TV Mensalidade NET TV 01/09/14 A 30/09/14 MENSALIDADE TV PRINCIPAL SELEÇÃO CB NET TOP HDMAXCINEM FUT RJ CF FD Sub-Total Mensalidade NET TV 270,49 270,49 270,49 Total NET TV @ NET VIRTUA Mensalidade NET VIRTUA 01/09/14 A 30/09/14 MENSALIDADE VIRTUA COMBO VIRTUA 20 MEGA FIDELIDADE 112,08 Sub-Total Mensalidade NET VIRTUA 112,08 Total NET VIRTUA 112,08 NET FONE SERVIÇO DURAÇÃO LIGAÇÕES LOCAIS Oh37m30s 5,75 LIGAÇÕES LOCAIS ENTRE NETFONES Oh31 m00s 0,00 LIGAÇÕES DDD ENTRE NETFONES Oh02m48s 0,39 COMPLEMENTO DA FRANQUIA 35,71 Total NET FONE 41,85 REGISTROS DE ATENDIMENTO: -Para atendimento presencial consulte os endereços no site net.com.br realizar a ligação com um telefone adaptado com dispositivo TDD (Dispositivo de Telecomunicações para surdos). Ligue 4004-7777 para atendimento técnico, financeiro e compra de serviços (custo de ligação local). Ligue 10621 para informações, reclamações ou cancelamentos (ligação gratuita). Ouvidoria 0800 701 01 80 ! 052140738702381, 052140738130401, - Evite o desligamento de seu sinal efetuando o pagamento até a data do vencimento. NET filiada ao Serasa/SCPC. 052140738130385, 052140738130369, 052140738130195 - Para pagamentos após o vencimento serão cobrados juros diários de 0,033% e multa de 2%. - Caso existam serviços prestados e não cobrados, esses serão inclusos nas suas próximas faturas. Deficiente Auditivo e de Fala ligue 0800 721 7707 - É preciso A utenticação Mecânica EXTRATO PARA SIMPLES CONFERÊNCIA DÉBITO AUTORIZADO NO BANCO DO BRASIL. ATENÇÃO! O débito da sua fatura em conta corrente já está programado. Caso o débito não ocorra, acesse www.netcombo.com.br/faturanet para efetuar o pagamento. Atenção efetue seus pagamentos nos bancos conveniados a seguir: BANCO BRADESCO S.A., BANCO COOPERATIVO DO BRASIL SA, BANCO COOPERATIVO SICREDI S/A, BANCO DE BRASILIA SA., BANCO DO BRASIL S.A., BANCO DO ESTADO DO PARA, BANCO ITAU S.A., BANCO MERCANTIL DO BRASIL S.A., BANCO SAFRA S/A, BANCO SANTANDER, BANRISUL, CAIXA ECONOMICA FEDERAL, CITIBANK, CPFL, HSBC BANK BRASIL S.A.. Mês Referência Identificação para Débito NET SERVICOS 0520109448219 Cliente Vencimento Valor WILSON DIAS DE SOUSA FILHO Setembro/2014 05/10/2014 424,42 '], [\"vivo www.vivo.com.brimeuvivo N°da Conta: 0367618186 Mês de referência: 02/20 19 Periodo: 210 1/20 19 a 200220 19 Data de emissãe: 230220 19 Fals conosco: Central de Relacionamento *8486 ou www.vivo.com.brfaleconosco Telefonica BrasilS.A Au. Engenheire Deminges Ferreira, 837 CEP $1,011-451 - Recite - PE LE: 029494400 CNPJ Matiz :02.558.157/0001-62 CNPJ Fiial :02.SS8.157/0008-39 EDMO RAMOS DE OLIVEIRA R MACHADO, 122 BAIRRO NOVO 55819-325 CARPINA - PE Vencimento 0610312019 Total a Pagar - R$ 39,99 Seus Números Vivo Aguarde informações referentes ao Vivo 81-98234-1295 Valoriza Caso você tenha mais lirhas, consulte o detalhamento da sua conta. O que está sendo cobrado Quantidade de Quantidade de PlanoPacote Números Vivo Valor R$ Plano/Pacote Incluso PlanoPacote Ublizado Valor Total Minutosuridades R$ Serviços Contratados MVO CTRL DIGITAL_IG8 wvo CONTROLE SERVDIGITAL I 39,99 39,99 0,00 Suttotal 3 9,99 TOTAL A PAGAR 39,99 MENSAGEM IMPORTANTE PARA VOCÊ O relatorio detalhado está dis ponivelem www.VNo.com.beimeuv ivo e pode ser solictado impresso, de forma permanente ou não. App Meu Vivo. É ojeito mais prático de acessar a sua conta detalhada, 2' via de conta, consumo de internet e muito mais! Baixe agora em vivo.com.br/app e navegue sem consumir seu pacote de dados Morterha o pagam ento em dia e evite a suspensão parcialtotal dos serviços e a inclusão nos orgios de proteg ão do crédito. Para pagam entos após o vencim ento serão cokrados encargos de 2% e juros de 1% ao més em conta futura. vivo Vencimento Total a Pagar - R$ Nome do Clierte EDMO RAMOS DE OLIVEIRA 06/0312019 39,99 Cód. Dékito Autom stico 0367618186-9 N° da Conta 0367618186 Més Referência 0212019 846600000000 399902920012 103676181862 021951903067 Autentic agio Meciniea \"], ['WILSON DIAS DE SOUSA FILHO Código Vencimento: Valor: 05/07/2016 NET R EUNICE VIRGINIA RAMOS NAVERO 00310 CASA 5 PARQUE ALTO TAQUARAL 052/010944821 456,09 CAMPINAS SP CPF/CNPJ Forma de Pagamento: O MUNDO É DOS NETS 644.681.946-34 débito automático PARA 2° VIA DA FATURA, DÉBITO AUTOMÁTICO E DÚVIDAS, ACESSE WWW.NETCOMBO.COM.BR 001/004 total Importante: Minha NET: descrição NET TV 295,00 Mantenha seu e-mail e telefones sempre atualizados. Acesse net.com.br, opções Minha NET > Minha Assinatura. Atenção: o cancelamento de seus serviços NET, durante o período de permanência mínima, estará sujeito à cobrança de multa contratual. CBO NET TOP HD MAX CINEMA FUT FID NET Virtua 119,90 COMBO VIRTUA 60 MEGA FID NET Fone 41,19 FONE ILIM LOCAL Valor Total 456,09 @ NET TV Mensalidade NET TV 01/06/16 A 30/06/16 MENSALIDADE TV PRINCIPAL SELEÇÃO CBO NET TOP HD MAX 295,00 CINEMA FUT FID Sub-Total Mensalidade NET TV 295,00 Total NET TV 295,00 NET VIRTUA Mensalidade NET VIRTUA 01/06/16 A 30/06/16 MENSALIDADE VIRTUA COMBO VIRTUA 60 MEGA FID 119,90 Sub-Total Mensalidade NET VÍRTUA 119,90 Total NET VIRTUA 119,90 ONET Fone DURAÇÃO LIGAÇÕES LOCAIS Oh10m18s 1,31 LIGAÇÕES LOCAIS ENTRE NETFONES Oh06m00s 0,00 ASSINATURA 39,88 Total NET Fone 41,19 -Para atendimento presencial consulte os endereços no site net.com.br - Evite o desligamento de seu sinal efetuando o pagamento até a data do vencimento. NET filiada ao Serasa/SCPC. 0,033% e multa de 2%. - Caso existam serviços prestados e não cobrados, esses serão inclusos nas suas próximas faturas. Deficiente Auditivo e de Fala ligue 0800 721 7707 - É preciso realizar a ligação com um telefone adaptado com dispositivo TDD (Dispositivo de Telecomunicações para surdos). Ligue 4004-7777 para atendimento técnico, financeiro e compra de serviços (custo de ligação local). Ligue 10621 para informações, reclamações ou cancelamentos (ligação gratuita). Ouvidoria 08007010180 Últimos Registros de Atendimento ! 052161301861248, 052161227655088, 052161227653927, 052151130853524, - Para pagamentos após o vencimento serão cobrados juros diários de 052151130853508 Autenticação Mecânica EXTRATO PARA SIMPLES CONFERÊNCIA DÉBITO AUTORIZADO ATENÇÃO! ESTE EXTRATOÉ APENAS INFORMATIVO. CASO NÃO OCORRA O DÉBITO EM SUA CONTA CORRENTE, DIRIJA-SE A UM DOS BANCOS CONVENIADOS ABAIXO OU ACESSE NET.COM.BR MINHA NET-FATURA-FATURA NET PARA EFETUAR O PAGAMENTO Atenção efetue seus pagamentos nos bancos conveniados a seguir: BANCO BRADESCO S.A., BANCO COOPERATIVO DO BRASIL SA, BANCO COOPERATIVO SICREDI S/A, BANCO DE BRASILIA SA., BANCO DO BRASIL S.A., BANCO DO ESTADO DO PARA, BANCO ITAU S.A., BANCO MERCANTIL DO BRASIL S.A., BANCO SAFRA S/A, BANCO SANTANDER, BANESE, BANRISUL, CAIXA ECONOMICA FEDERAL, CITIBANK, CPFL, HSBC BANK BRASIL S.A. Cliente Identificação para Débito Mês Referência Vencimento Valor WILSON DIAS DE SOUSA FILHO NET SERVICOS 0520109448219 Junho/2016 05/07/2016 456,09 84600000004-8 56090296201-1 60705052000-8 00097524071-4 '], ['TELEMAR NORTE LESTE S/A CNPU: 33.000.118/0001-79 - INSC. ESTADUAL: 81.680.469 AUA DO LAVRADIO,71 - RIO DE JANEIRO - RJ CEP: 20230-070 MATRIZ CNPJ: 33.000.118/0001-79 oi PAG.: 1/4 llוו..ldlalall.וויוווווהlןli CTC NOVA IGUAÇU RJ PL1 MARCIO SILVA SANTOS SOUZA RUA PAZ E BEM,557 CAMORIM 23912-435 ANGRA DOS REIS RJ Referência ABRIL /2019 7213512820 00000 00000001713 30 260419 Telefone Vencimento Total a pagar ( 24) 3377-3527 R$ 123,80 10/05/2019 Resumo da sua fatura ΟΙ FIXΟ R$ 44,90 OI FIXO PACOTE DE MINUTOS FIXO-FIXO LOCAL PACOTE DE MINUTOS LONGA DISTANCIA COM 31 SERVICOS DIGITAIS 34,90 OUTROS PACOTESE SERVICOS MENSAIS 10,00 0I VELOX R$ 78,90 OFERTA VELOX E SERVICOS DE BANDA LARGA 78,90 ASSINATURA VELOX Desde 06 de novembro de 2016 foi incluído o número 9 à frente dos celulares dos DDDS 41, CÓDIGO MINHA OI 162000314927 42, 43, 44, 45, 46, 47, 48, 49, 51, 53, 54 e 55 passando ao formato: (DDD) 9xxxx-XXXX. www.oi.com.br/MinhaOi Cadastre-se na Minha Oi e consulte saldo, conta detalhada, histórico de Mais informações em www.oi.com.br/9digito. consumo e muito mais. Cadastre-se na Minha Oi e consulte saldo, conta detalhada, histórico de consumo TELEMAR NORTE LESTE S/A CNPJ: 33.000.118/0001-79- INSC. ESTADUAL: HARCIO SILVA SANTOS SOUZA CÓDIGO MINHA OI oi 81.680.409 RUA DO LAVRADIO,71 - RIO DE JANEIRO - RJ CEP: 20230-070 MATRIZ CNPJ: 3.000.118/0001-79 TELEFONE/CONTRATO: 33773527 CJ: O SU: 6 CONTA 04/2019 LOCAL 8861 DV 1 162000314927 www.oi.com.br/Minhaoi e muito mais. 84690000001-5 23800024020-6 24088610337-5 73527061904-3 FATURA:. 2000657625762 VENCIMENTO: 10/05/2019 VALOR A PAGAR: R$ 123,80 CÓDIGO PARA DÉBITO AUTONÁTICO: 162000314927 FDO_RJ - FO43 1910. MOBL. AJ.OT74.EMO8. MO419. TXT .ASCII. TT - RE:07 - MO:E - 0BJ:001/01713 - PG. CLIENTE: 174 - PG. S0OL: 7089/1e5800 '], ['Companhia Paulista de Força e Luz Rua Jorge de Figueiredo Correa, 1632 Jardim Professora Tarcília – Campinas/SP - CEP: 13087-397 Inscrição Estadual: 244.163.955.115 Inscrição no CNPJ: 33.050.196/0001-88 CPFL Uma empresa do Grupo CPFL Energia ENERGIA ARTHUR FORTES DA COSTA Nota Fiscal R HERMANTINO COELHO 255 BL 5 AP 23 Conta de Energia Elétrica MAN STO ANTONIO N°. 110540367 série C Pág. 1 de 1 13087-500 CAMPINAS SP Data de Emissão 14/01/2020 Data de Apresentação 15/01/2020 Conta Contrato No 310091689739 Lote Roteiro de leitura Medidor Cliente Reservado ao fisco 07 CAMBUD49-00000853 215857038 0711530431 FB50.530F.0AEF.3147.8327.ADE5.E164.2966 PREZADO (A) CLIENTE FELIZ ANO NOVO! Que tal começar o ano atualizando seu cadastro? Saiba que a classe da sua conta determina sua tarifa e impostos. Se o imóvel não é RESIDENCIAL, atualize seu cadastro em nossos canais de atendimento. DADOS DA UNIDADE CONSUMIDORA ARTHUR FORTES DA COSTA R HERMANTINO COELHO, 255 BL 5 AP 23 MAN STO ANTONIO CAMPINAS - SP CPF:021.251.723-64 Classificação: Convencional B1 Residencial - Bifásico 220 / 127 V SEU CÓDIGO 8866562 CONTA/MÊS JAN/2020 ATENDIMENTO PN VENCIMENTO TOTAL A PAGAR (R$) 0800 010 1010 0711530431 10/02/2020 142,99 www.cpfl.com.br DISCRIMINAÇÃO DA OPERAÇÃO - RESERVADO AO FISCO Cod. Descrição da Operação Mês Quant. Unid. Aliq. PIS COFINS Bandeiras Tarifa com Valor Total da Base Cálculo ICMS Base Cálculo 115 N° 901052809287 Operação 6,27%| Tarifárias Ref. Fa Med. Tributos ICMS ICMS PIS/COFINS 1,37% 0605 Consumo Uso Sistema [KWh]-TUSD JAN/20 191,000 kWh 0,30513090 58,28 58,28 12,00 6,99 58,28 0,80 3,65 Amarela 18 Dias 0601 Consumo - TE JAN/20 191,000 kWh 0,34560210 66,01 66,01 12,00 7,92 66,01 0,90 4,14 Amarela 0601 Adicional de Bandeira Amarela JAN/20 3,18 3,18 12,00 0,38 3,18 0,04 0,20 14 Dias Total Distribuidora 127,47 DÉBITOS DE OUTROS SERVIÇOS 0807 Contrib. Custeio IP-CIP Municipal JAN/20 15,52 TOTAL CONSOLIDADO 142,99 127,47 15,29 127,47 1,74 7,99 HISTÓRICO DE CONSUMO kWh Dias TARIFA ANEEL EQUIPAMENTOS DE MEDIÇÃO / DATAS DE LEITURA Consumo TUSD TE Leitura Leitura Fator Consumo Taxa de Perda Leitura 2020 JAN 191 32 Consumo kWh 0,24526000 0,27776000 N° Energia 14/01/2020 13/12/2019 Multipl. [kWh] [%] Próximo Mês 2019 DEZ 206 31 215857038 ATIVA 11794 11603 1,00 191 11/02/2020 NOV 174 32 OUT 198 31 SET 157 29 AGO 221 31 JUL 186 31 JUN 161 29 ΜΑΙ 185 32 ABR 185 29 MAR 183 30 INDICADORES DE CONTINUIDADE DE FORNECIMENTO DE ENERGIA FEV 194 28 Para consulta dos indicadores acesse nosso site www.cpfl.com.br JAN 196 32 INFORMAÇÕES SOBRE A FATURA Custeio de iluminação pública: alterado valor de arrecadação conforme Lei Municipal 00011453 de 27.12.2002, com fundamento no Art. 149 A, parágrafo único, da Constituição Federal do Brasil. AVISO IMPORTANTE A partir de 01.01.2020 todos os clientes têm direito a optar pela tarifa branca, saiba mais: www.cpfl.com.br/tarifabranca CódDébAut-Banco 310091689739 Total a Pagar (R$) Data de Vencimento 142,99 Nota Fiscal Conta de Energia Elétrica 110540367 Série C 10/02/2020 Essa conta poderá ser paga no credenciado mais perto de você. Confira a lista completa no site www.cpfl.com.br Loja 2189 - LC-PE M BERNARDES CAMP DROGARIA DOM PEDRO CAMPINAS O MATUTO cpfl paulista R PADRE MANUEL BERNARDES 971 - TAQUARAL AV GUILHERME CAMPOS LJ. 30A 500 - JARDIM SANTA GENEBRA RUA LUIZ OTAVIO, 651 - PARQUE TAQUARAL 836000000015 429900403214 033708095030 100916897398 Autenticação Mecânica '], ['Heider oi FATURA DE VENCIMENTO PAGAR (R$) NOV/2019 12/12/2019 66,05 CHEGOU SUA FATURA DA OL. Acesse www.ol.com.br/Minhaoi CÓDIGO MINHA 01 16871059 Emissão em 05/11/2019 FATURA DE SERVIÇOS DE COMUNICAÇÕES LluLLLUILUULLlII HEIDER NUNES DE MATOS ESTRADA PEDRO FERREIRA, S/N CENTRO 68825-000 MUANA PA DÉBITO AUTOMÁTICO É SÓ VANTAGEM. oi Coloque a sua conta em débito automático. É mais simples, mais prático e mais seguro. LIGUE 106 31 E PEÇA AGORA MESMO. HEIDER NUNES DE MATOS CPF: 664.549.052-68 NÚMERO DO CONTRATO: 16871059 NÚMERO DA FATURA: 5142302078 N° PARA DÉBITO AUTOMÁTICO: 16871059 SERVICOS UTLIZADOS TV POR ASSINATURA 33,16 --------------- TOTAL DE MENSALIDADES 33,16 CÓDIGO MINHA OI Além disso, você... 16871059 Serviços/pacotes adicionais 28,98 www.oi.com.br/Minhaoi SUBTOTAL 62,14 Cadastre-se na Minha Oi e consulte 3,91 | saldo, conta detalhada, histórico de consumo e muito mais. Multa e juros TOTAL DA SUA FATURA 66,05 ENTENDA SEU CONSUMO O valor da sua fatura nos últimos meses Nov 2019 66,05 Out 2019 134,89 Set 2019 134,89 Ago 2019 134,89 Jul 2019 138,58 Jun 2019 138,58 Fique atento. Efetue os pagamentos em dia e evite: - Cobrança de Multa de 2% + juros de 1% ao mês pro rata dia. Suspensão Parcial e/ou Total do serviço. Cancelamento e inclusão nos Orgãos de Proteção ao Crédito (SPC/Serasa). CLIENTE FATURA DE VENCIMENTO VALOR DÉBITO AUTOMÁTICO oi 16871059 HEIDER NUNES DE MATOS NOV/2019 12/12/2019 66,05 84630000000 3 66050369000 1 00000000000 0 05142302078 6 ATENÇÃO: DÉBITO AUTOMÁTICO Verifique se o débito fol efetuado na sua conta corrente. Caso não tenha ocorrido, utilize este boleto para pagamento. OI MOVEL SA OI MOVEL SA SETOR COMERCIAL NORTE, SIN-ASA NORTE CNPJ: D5.423.083/0152-24 INSC. ESTADUAL: 15.32.890-5 BRASILIA - DF/ 70.71-000 NC, MUNIOPAL: 220.14- TVDR MORAES, 121 PD ANEXO TERR NAZARE CEP BROSFOR0 - BELEM- PA INSC. ESTADUAL: 07.441.358/0oV83 INIC. MUNCIPAL: GI6.082 CNPJ: 05.423.003/012-24 9. 011112019 P02 quebra_4_5 '], ['ELEKTRO SEU CÓDIGO 44176066 ELEKTRO REDES S.A. R. ARY ANTENOR DE SOUZA, 321 - 13053-024- CAMPINAS-SP CNPJ 02 328 280/0001-97- INSC. EST. 244.868.522.118 AV. BALDOMERO LEITUGA, 2032 - 79610-270 - TRÊS LAGOAS-MS CNPJ 02 328 280/0002-78-INSC. EST. 28.304.126-9 WWW.ELEKTRO.COM.BR REGINALDO LUIZ RIBEIRO AV ALECIO DE SOUZA CALDEIRA, 205 - - JARDIM SANCHES DATA DE EMISSÃO: 25/02/2021 VALENTIM GENTIL - SP - CEP 15520-000 DATA DE APRESENTAÇÃO: 03/03/2021 CNPJ/CPF: 27328855843 IE: CONTROLE N°: 01-20216040109273-14 PRÓXIMA LEITURA NO DA NOTA FISCAL/CONTA DE ENERGIA ELÉTRICA CONTA DO MÊS VENCIMENTO VALOR DA CONTA (R$) 26/03/2021 101.305.818 FEVEREIRO/2021 23/03/2021 RS ************** DADOS DE CADASTRO DETALHAMENTO DA CONTA MEDIDOR / CONSTANTE B14228312 CLASSIFICAÇÃO 1 BASE TARIFA VALOR ALÍQ. VALOR VALOR TOTAL RESIDENCIAL-BIFASICO CCI* DESCRIÇÃO DO PRODUTO QUANTIDADE CALCULO FORNEC. FORNECIMENTO IMPOSTO ICMS (FORNEC. + IMPOSTOS) IMPOSTO TENSÃO NOMINAL OU CONTRATADA (V) LIMITE ADEQUADOS DE TENSÃO (V) DÉBITO AUT. 220/127 116 A 133 / 201 A 231 0601 CONSUMO TE 70,00 0,252857 17,70 0,00 0,00% 0,00 17,70 0601 CONSUMO TUSD 70,00 0,302143 21,15 0,00 0,00% 0,00 21,15 LEITURA 0601 AD.B.AMAR. 70,00 0,013429 0,94 0,00 0,00% 0,00 0,94 ANTERIOR ATUAL ITEM CONSUMO 0699 COFINS 41,70 3,80% 1,58 DIAS DO PERÍODO 20709 20779 ANTERIOR 0699 PIS 41,70 0,82% 0,34 0699 COBRANCA ILUM PUBLICA PARA A PREFEITURA 0,00 0,00% 0,00 9,61 04/02/2021 20 TOTAL 39,79 0,00 51,32 *CCI - CÓDIGO DE CLASSIFICAÇÃO DO ITEM F. POTÊNCIA MÉDIA ATUAL 24/02/2021 HISTÓRICO DE CONSUMO (KWH) 70.00 0.00 0.00 0.00 0.00 0.00 0.00 0.00 0.00 0.00 0.00 0.00 0.00 FEV/21 JAN/21 DEZ/20 NOV/20 OUT/20 SET/20 AGO/20 JUL/20 JUN/20 MAI/20 ABR/20 MAR/20 FEV/20 COMPOSIÇÃO DE FORNECIMENTO ENERGIA R$ 17,04 ENCARGOS R$ 6,23 DISTRIBUIÇÃO R$ 9,64 TRIBUTOS R$ 1,92 TRANSMISSÃO R$ 3,93 PERDAS R$ 2,95 INFORMAÇÕES GERAIS BAND. TARIF. AMARELA:05/02-24/02 O VALOR DESTA CONTA R$ 51,32 NAO ATINGIU A QUANTIA DE R$ 70,00. ESTE VALOR SERA ACUMULADO, SEM ENCARGOS, PARA COBRANCA NA PROXIMA CONTA. PARA PAGAMENTO MENSAL, CONTATE A EMPRESA. AVISO IMPORTANTE DE DÉBITO / CORTE DÉBITOS ANTERIORES ATENÇÃO ACESSE O NOSSO SITE E REALIZE OS SERVIÇOS COM MAIOR COMODIDADE, PRATICIDADE, RAPIDEZ E SEGURANÇA. WWW.ELEKTRO.COM.BR SEU CÓDIGO 44176066 AGÊNCIA TOTAL R$ VENCIMENTO 23/03/2021 BANCO CONTROLE N° 01-20216040109273-14 R$ ************** NÃO RECEBER - VALOR SERÁ COBRADO NA PRÓXIMA CONTA GBELEKTRO1 (V1.00) '], ['ELEKTRO SEU CÓDIGO 38829800 ELEKTRO REDES S.A. R. ARY ANTENOR DE SOUZA, 321 - 13053-024- CAMPINAS-SP CNPJ 02 328 280/0001-97- INSC. EST. 244.868.522.118 AV. BALDOMERO LEITUGA, 2032 - 79610-270 - TRÊS LAGOAS-MS CNPJ 02 328 280/0002-78-INSC. EST. 28.304.126-9 WWW.ELEKTRO.COM.BR VANDERLI FERNANDO ALEGRIA R RUY PEDROSO, 629 - QD 48, LT 06 - JARDIM BARRETO VALENTIM GENTIL - SP - CEP 15520-000 DATA DE EMISSÃO: 25/02/2021 DATA DE APRESENTAÇÃO: 03/03/2021 CNPJ/CPF: 26117152892 IE: CONTROLE N°: 01-20216040136711-62 PRÓXIMA LEITURA NO DA NOTA FISCAL/CONTA DE ENERGIA ELÉTRICA CONTA DO MÊS VENCIMENTO VALOR DA CONTA (R$) 26/03/2021 101.327.199 FEVEREIRO/2021 10/03/2021 R$ 201,49 DADOS DE CADASTRO DETALHAMENTO DA CONTA MEDIDOR / CONSTANTE B15310381 CLASSIFICAÇÃO 1 BASE TARIFA VALOR ALÍQ. VALOR VALOR TOTAL RESIDENCIAL-BIFASICO CCI* DESCRIÇÃO DO PRODUTO QUANTIDADE CALCULO FORNEC. FORNECIMENTO IMPOSTO ICMS (FORNEC. + IMPOSTOS) IMPOSTO TENSÃO NOMINAL OU CONTRATADA (V) LIMITE ADEQUADOS DE TENSÃO (V) DÉBITO AUT. 220/127 116 A 133 / 201 A 231 0601 CONSUMO TE 234,00 0,252863 59,17 84,06 25,00% 21,01 80,18 0601 CONSUMO TUSD 234,00 0,302137 70,70 100,45 25,00% 25,11 95,81 LEITURA 0601 AD.B.AMAR. 234,00 0,013419 3,14 4,46 25,00% 1,11 4,25 ATUAL ITEM CONSUMO ANTERIOR 0699 COFINS 188,98 3,80% 7,18 DIAS DO PERÍODO 3528 3762 ANTERIOR 0699 PIS 188,98 0,82% 1,55 0699 COBRANCA ILUM PUBLICA PARA A PREFEITURA 0,00 0,00% 0,00 9,61 20/01/2021 35 0699 EMISSAO SEGUNDA VIA 09-2018 0,00 0,00% 0,00 2,91 TOTAL 133,01 47,23 201,49 F. POTÊNCIA MÉDIA ATUAL *CI - CÓDIGO DE CLASSIFICAÇÃO DO ITEM 24/02/2021 HISTÓRICO DE CONSUMO (KWH) 234.0 0.0 0.0 0.0 0.0 0.0 0.0 0.0 0.0 0.0 0.0 0.0 0.0 FEV/21 JAN/21 DEZ/20 NOV/20 OUT/20 SET/20 AGO/20 JUL/20 JUN/20 MAI/20 ABR/20 MAR/20 FEV/20 COMPOSIÇÃO DE FORNECIMENTO ENERGIA R$ 56,89 ENCARGOS R$ 20,84 DISTRIBUIÇÃO R$ 32,24 TRIBUTOS R$ 55,96 TRANSMISSÃO R$ 13,16 PERDAS R$ 9,88 INFORMAÇÕES GERAIS BAND.TARIF. AMARELA:21/01-24/02 AVISO IMPORTANTE DE DÉBITO / CORTE DÉBITOS ANTERIORES ATENÇÃO ACESSE O NOSSO SITE E REALIZE OS SERVIÇOS COM MAIOR COMODIDADE, PRATICIDADE, RAPIDEZ E SEGURANÇA. WWW.ELEKTRO.COM.BR SEU CÓDIGO 38829800 BANCO AGÊNCIA VENCIMENTO TOTAL R$ CONTROLE N° 01-20216040136711-62 R$ 201,49 10/03/2021 836800000025 014900220212 001010202164 040136711625 AUTENTICAÇÃO MECÂNICA GBELEKTRO1 (V1.00) '], ['Companhia Paulista de Força e Luz CPFL ENERGIA Rod Eng Miguel Noel N. Burnier, kn 2.5 Campinas. SP 13088-900 Inscricão Estadualt 244.163.955.115 Inscrição no CNPA 33.050.196/0001-88 Uma empresa do Grupo CPFL Energia MARCOS ROGERIO DA SILVA PEREIRA R FRANCISCO FADIM, 120 BL 3 AP 301 MORUMBI 13140-726 PAULINIA/SP Nota Fiscal Conta de Energiia Eletrica N 201509003507081 serie C Data de Emissäo 240S2015 Data de Apresentação: 29/0s2015 Pág 01 de 01 Conta Contrato N° 3100519377 Lote Roteiro de Leitura N°. Medidor PN Reservado ao Fisco 60002034 '], ['Companhia Paulista de Força e Luz Rua Jorge de Figueiredo Correa, 1632 Jd. Prof. Tarcília - Campinas - SP - CEP 13087-397 CPFL Inscrição Estadual: 244.163.955.115 Inscrição no CNPJ: 33.050.196/0001-88 Uma empresa do Grupo CPFL Energia ENERGIA Nota Fiscal Conta de Energia Elétrica N° 185841460 Série C ARTHUR FORTES DA COSTA R HERMANTINO COELHO 255 BL 5 AP 23 Data de Emissão: 13/05/2021 Data de Apresentação: 14/05/2021 Pág: 01 de 01 Conta Contrato N° 310091689739 Leitura Próximo Mês: 10/06/2021 MAN STO ANTONIO 13087-500 CAMPINAS SP Lote Roteiro de leitura N°. Medidor PN Reservado ao Fisco 07 CAMBUD49-00000853 215857038 711530431 B6CE.1078.B6DE.EE15.E957.8D20.C86D.517A PREZADO(A) CLIENTE Houve Reajuste Tarifário na sua conta a partir de 22/04/2021, aumento médio de 8,64% (Resolução Homologatória n° 2.854/21). Sua conta será faturada com bandeira vermelha patamar 1 a partir de 01/05/2021, no valor de R$4,169 a cada 100 kWh, conforme deter minado pela Aneel. DADOS DA UNIDADE CONSUMIDORA ARTHUR FORTES DA COSTA CPF: 021.251.723-64 R HERMANTINO COELHO, 255 BL 5 AP 23 MAN STO ANTONIO CLASSIFICAÇÃO: Convencional B1 Residencial - Bifásico 220 / 127 V 13087-500 CAMPINAS - SP ATENDIMENTO PN SEU CÓDIGO CONTA MÊS VENCIMENTO TOTAL A PAGAR 0800 010 1010 INSTALAÇÃO 711530431 MAI/2021 08/06/2021 137,78 www.cpfl.com.br 8866562 DISCRIMINAÇÃO DA OPERAÇÃO - RESERVADO AO FISCO Valor Total da Operação R$ Bandeiras Tarifárias Cod. Descrição da Operação Mês Quant. Unid. Tarifa com Base Cálculo Aliq. ICMS Base Cálculo PIS COFINS 115 N° 910901924107 Ref. Faturada Med. Tributos R$ ICMS R$ ICMS PIS/COFINS 0,68% 3,11% (Dias) 0605 Consumo Uso Sistema [KWh]-TUSD ΜΑΙ/21 168,000 kWh 0,34619048 58,16 58,16 12,00 6,98 58,16 0,40 1,81 Amarela 0601 Consumo - TE MAI/21 168,000 kWh 0,34678572 58,26 58,26 12,00 6,99 58,26 0,40 1,81 17 Dias Vermelha P1 0601 Adicional de Bandeira Amarela ΜΑΙ/21 1,51 1,51 12,00 0,18 1,51 0,01 0,05 13 Dias 0601 Adicional de Bandeira Vermelha MAI/21 3,59 3,59 12,00 0,43 3,59 0,02 0,11 Total Distribuidora 121,52 DÉBITOS DE OUTROS SERVIÇOS 0807 Contrib. Custeio IP-CIP Municipal MAI/21 16,26 Total Consolidado 137,78 121,52 14,58 121,52 0,83 3,78 HISTÓRICO DE CONSUMO kWh Dias TARIFA ANEEL EQUIPAMENTOS DE MEDIÇÃO / DATAS DE LEITURAS 2021 MAI 168 30 Consumo N° Energia Leitura Leitura Fator ConsumoTaxa de Perda Leitura TUSD TE ABR 145 32 Multipl. 1,00 Consumo kWh 0,29151067 0,29202667 13/05/2021 13/04/2021 [kWh] [%] Próximo Mês MAR 199 31 215857038 Ativa 15385 15217 168 10/06/2021 FEV 211 28 JAN 176 29 2020 DEZ 166 33 NOV 245 29 OUT 439 32 SET 270 31 AGO 264 32 INDICADORES DE CONTINUIDADE DE FORNECIMENTO DE ENERGIA JUL 251 31 JUN 259 27 Para consulta dos indicadores acesse nosso site www.cpfl.com.br MAI 191 30 INFORMAÇÕES SOBRE A FATURA Considerar quitada se efetuado débito em conta corrente. Caso não ocorra o débito utilize esta conta para pagamento. AVISO IMPORTANTE Nota Fiscal DÉBITO AUTOMÁTICO Total a Pagar (R$) 137,78 CódDébAut-Banco Data de Vencimento Conta de Energia Elétrica 310091689739 08/06/2021 BANCO 077 AGÊNCIA 0001 N° 185841460 Série C Essa conta poderá ser paga no credenciado mais perto de você. Confira a lista completa no site Loja 2189 - LC-PE M BERNARDES CAMP DROGARIA DOM PEDRO CAMPINAS Ο ΜΑTUTO R PADRE MANUEL BERNARDES 971 - TAQUARAL AV GUILHERME CAMPOS LJ. 30A 500 - JARDIM SANTA GENEBRA RUA LUIZ OTAVIO, 651 - PARQUE TAQUARAL Pague aqui - PIX 836600000019 377800403380 433538191035 100916897398 Autenticação Mecânica cpfl paulista Uma empresa do Grupo CPFL Energia '], ['vivo N° da Conta: 00001101080299 www.vivo.com.br/meuvivo Mês de referência: 12/2019 Fale conosco: Central de Relacionamento Período: 25/11/2019 a 24/12/2019 *8486 ou www.vivo.com.br/faleconosco Data de emissão: 01/01/2020 Telefonica Brasil S.A. Av. Engenheiro Luiz Carlos Berrini, 1.376 CEP: 04571-936 - São Paulo - SP I.E.: 108383949112 CNPJ Matriz: 02.558.157/0001-62 CNPJ Filial: 02.558.157/0001-62 PATRICIA MIKA SAKUGAWA AVENIDA LINO JARDIM 131 ΑPARTAΜΕΝΤΟ 101 VILA BASTOS 09041-030 SANTO ANDRE - SP Vencimento 10/01/2020 Total a Pagar R$ 54,99 Aguarde informações referentes ao Vivo Valoriza Seus Números Vivo 11-97448-3448 Caso você tenha mais linhas, consulte o detalhamento da sua conta. Planos Anatel 066/POS/SMP - VIVO CTRL DIGITAL-3GB ILIM ənb O que está sendo cobrado Quantidade de Quantidade de Valor R$ Incluso Utilizado Valor Total de 25/11/2019 a 24/12/2019 Plano/Pacote Números Vivo Plano/Pacote Plano/Pacote Minutos/Unidades R$ Serviços Contratados 54,99 0,00 0,00 VIVO CTRL DIGITAL-3GB ILIM 1 1 54,99 VIVO CONTROLE SERV DIGITAL II 1 1 BÔNUS CONTA DIGITAL 1 1 500MB 0,00 Subtotal Serviços Contratados 54,99 TOTAL A PAGAR 54,99 MENSAGEM PARA VOCÊ A conta detalhada está disponível em www.vivo.com.br/meuvivo e pode ser solicitada impressa, de forma permanente ou não. No app Meu Vivo além de ativar conta digital, você acompanha seu consumo de internet e solicita 2ª via de conta. Você também pode ser atendido através do WhatsApp. É muito simples. Adicione o número 11 999 15 15 15 e fale com Vivo. Mantenha o pagamento em dia e evite a suspensão parcial/total dos serviços e a inclusão nos orgãos de proteção ao crédito. Para pagamentos após o vencimento serão cobrados encargos de 2% e juros de 1% ao mês em conta futura. ANATEL 1331 e 1332 para deficientes auditivos. Recurso de atendimento Vivo: ligue com o protocolo em mãos para 1058 e 142 para pessoas com deficiência de fala/audição. vivo Vencimento Total a Pagar - R$ Nome do Cliente PATRICIA MIKA SAKUGAWA 10/01/2020 54,99 Cód. Débito Automático 1101080299-7 N° da Conta 00001101080299 Mês Referência 12/2019 846800000008 549900801008 011010802996 919129722576 Autenticação Mecânica '], ['vivo *8486 Teletone de Atendiments Vive Viste nosso ste www.whocom.br Fale Conosco: www.vivo.com.britaleconosco vIvO SA Av. Roque Petroni Jr, 1464 Morumbi 04707-000 Sao Paulo LE: 149.403.935.110 CNP: 02.449.992/0056-38 JARAGUE SA01 John Sample Av. Chucri Zaidan, 860 5 andar - Bloco A Morumbi 04005-001 - São Paulo - SP 72980296060257000 10005109210260905 Conta: 000000000 VENCIMENTO TOTAL A PAGAR - RS Emissão Més de referência Periodo 30/01/2005 95,00 25/01/2005 01/2005 15/12/04 a 14/01/05 Número(s) do(s) Celular(es) 11.9999- XXXX 11.9999- XXXX 11-9999-XXXX 11-9999-XXXX 11-9999 XXXX 11- 9999 -XXXX 11-9999- XXXX 11-9999- XXXX Relação total de celulares esta localizada na Seção Celulares que compõem sua fatura em página a seguir. Resumo de litilizacho Crártitn RS Náhitn DS Tancamentne Diverene Cohdian De SRIZEO 00101358 '], ['LIGHT SERVIÇOS DE ELETRICIDADE SA AV. MAL. FLORIANO 168 RIO DE JANEIRO RJ CEP 20080-002 CNPJ 60.444.437/0001-46 INSC. ESTADUAL 81380.023 INSC. MUNICIPAL 00794678 Nota Fiscal - Serie O5 no. 611533 Conta de Energia Eletrica RE Proc. E-04/079/5663/2016-IFE-03 SEPD 08-2005/0006384-9 Light CÓDIGO DO CLIENTE CÓDIGO DA INSTALAÇÃO Classe / Subclasse: Residencial/Residencial Comum 20515186 412434333 Ref. Bancária Ref: Mês / Ano Grupo: B Subgrupo: B1 010011893764 AGO/2019 DATA DA EMISSÃO: 12/08/2019 Medidor: Bifasico N°: 5963383 ERICK ALESSANDRO GONCALVES DOS SANTOS R CARENA 111 BL1 AP 1111 ANDARAI / RIO DE JANEIRO - RJ DATA PREVISTA DA PRÓXIMA LEITURA:11/09/2019 Tensão nominal em volts Disponívek27/220 Limites mín.:117/202 V Limites máx.133/231 V CEP 20540-004 RESERVADO AO FISCO: 4B46.11E9.935A.3FEF.0CE4.AE3B.DFCA.10F8 '], ['TELMAR NOLESTESA CNP onoe-.C ESTAAL RDOLARADO n. CONO MRO P N- MATR n DAA e oi Editar informações Salvar em arquivo PDF lullalılallalılalalualldulllll JOÃO DA SILVA JESUS RMAL DEOCORO A SANTO AMARO 4738-000 SÃO PALLO-SP Referência Julho/2018 Telefone Vencimento Total a pagar 11 91234-5678 10/07/2018 R$ 69,53 Resumo da sua fatura OI FIXO R$ 18,61 12. PADOTE E INUS FE-FID LOAL PACOTE DE EUTes LONA BESTANCA CON 31 oTes PAeTS E SERVos EAES OI VELOX RS 39,04 OFERA VELOKE SERICS E AM LARA ASSEarURA VLe EXCEDENTES, OUTROS SERVICOS E TAXAS R$ 11,88 11. os VALORS '], ['Pagina 000001 de 000006 Fatura de Serviços de Telecomunicações FIXO Oi S.A. Av. Borges de Medeiros, 512 - Centro CEP 90020-902 - Porto Alegre - Rs CNPJ Matriz : 76.535.764/0001-43 CNPJ: 76.535.764/0002-24 I.E: 096/2.845.833 CTC PORTO ALEGRE RS PL 05 Referência SOBRADINHO CAMARA DE VEREADORES R GEN OSORIO 00200 ED ARROIO BONITO CENTRO 96900-000 SOBRADINHO - RS FEVEREIRO/2014 720003989600001000000033933015022014 Total a pagar R$ 349,31 Telefone Vencimento (51) 3742 1510 14/02/2014 Resumo da sua fatura R$ 57,60 OI FIXO OUTROS PACOTES E SERVICOS MENSAIS 57,60 OI VELOX R$ 179,90 ......... OFERTA VELOX E SERVICOS DE BANDA LARGA 179,90 ASSINATURA VELOX EXCEDENTES, OUTROS SERVICOS E TAXAS R$ 111,81 LIGACOES FIXO-FIXO LIGACOES FIXO-MOVEL SERVICOS OUTRAS PRESTADORAS E TERCEIROS OUTROS VALORES 39,94 68,26 3,61 0,00 TUDO DA SUA CONTA ESTÁ AQUI. MAIS FÁCIL DE ENCONTRAR, ENTENDER E CONFERIR. Simplificamos a apresentação dos seus gastos com os serviços Oi para não deixar dúvidas pra você. Sua conta está em débito automático? Facilite a sua vida e não se preocupe mais com a data de vencimento. Acesse www.oi.com.br e saiba mais. Oi S.A. Av. Borges de Medeiros, 512 - Centro CEP 90020-902 - Porto Alegre - Rs CNPJ Matriz : 76.535.764/0001-43 CNPJ: SOBRADINHO CAMARA DE VEREADORES Número do Telefone: 51 3742 1510 oi FIXO 76.535.764/0002-24 LE: 096/2.845.833 Número da Fatura: 1402.000084917 Sequencial: 000972942 201402 01192 Contrato Agrupador: 000.972.942-9 - 1° Via 84650000003 5 49310002000 4 97294220140 1 20119200000 2 Data de Vencimento 14/02/2014 Valor a pagar: 349,31 N° Identificador para Débito Automático: 000.972.942-9 0000103393/ 017781 '], [\"vivo www.vivo.com.br/meuvivo N° da Conta:00001100387243 Més de relerência: 12/2019 Fale conosco: Central de Relacionamento Periodo:25/11/2019 a 24/12/2019 *8486 ou www.vivo.com.br/laleconosco Data de emissio: 01/01/2020 Telefonica Brasil S.A. Rua Silveira Marfins, 1.036 CEP: 41150-000 - Salvador - BA LE: 58378658 CNPJ Matriz: 02.558.157/0001-62 CNPJ Fiiat 02.558.157/0024-59 CAROLINE DE SOUSA FRANCA TRAVESSA ALMIRANTE TAMANDARE 84 FAZENDA GRANDE DO RETIRO Vencimento 10/01/2020 40355-120 SALVADOR - BA Total a Pagar R$ 69,99 Aguarde informações referentes ao Vivo Valoriza Seus Números Vivo 71-99721-3422 Caso você tenha mais linhas, consulte o de talhamento da sua conta Planos Anatel 128/POS/SMP - VIVO CTRL DIGITAL NOVO 5GB Quantidade de Valor R$ Utilizado Oque está sendo cobrado de 25/11/2019 a 24/12/2019 Quantidade de Induso Valor Total Plano/Pacote Números Vivo PlanoPacote Plano/Pacote Minutos/Unidades R$ Serviços Contratados VIVO CTRL DIGITAL NOVO 5GB 69,99 0,00 0,00 69,99 VIVOCONTROLE SERV DIGITAL II BÔNUS CONTA DIGITAL Subtotal Serviços Contratados 500MB 0,00 69,99 TOTAL A PAGAR 69,99 MENSAGEM PARA VOCÊ A conta detalhada está disponível em www.vivo.com.br/meuvivo e pode ser solicita da impressa, de forma permanente ou não. No app Meu Vivo além de ativar conta digital, você acompanha seu consumo de internet e solicita 2 via de conta. Você também pode ser atendido através do WhatsApp. É muito simples. Adicione o número 11 999 15 15 15 e fale com Vivo. Manterha o pagamento em da e evite a suspansão parcialtotal dos serviços e a inclusão nos orgãos de proteção ao crédito. Para pagamentos após o vencimento serão cobrados encargos de 2% e juros de 1% ao mės em conta futura. ANATEL 1331 e 1332 para deficientes auditivos. Recurso de atendimento Vivo: ligue com o protoodlo em mãos para 1058 e 142 para pessoas com de ficiência de tala'audição. vivo Vendimento Total a Pagar - R$ Nome do Cliente CAROLINE DE SOUSA FRANCA 10/01/2020 69,99 Cód. Debito Automáfoo 1100387243-8 N° da Conta 00001100387243 Més Reterencia 12/2019 846300000003 I 699900411009 011003872436 919126228353 Autenicação Mecânica \"], ['vivo PATRICIA MIKA SAKUGAWA CPF/CNPJ: 368.787.688-88 AVENIDA LINO JARDIM 131 Inscrição Estadual: ISENTO APARTAMENTO 101 Número da Conta: 00001101080299 VILA BASTOS 09041-030 SANTO ANDRE - SP NOTA FISCAL DE SERVIÇOS DE TELECOMUNICAÇÕES Nome da Empresa: Telefonica Brasil S.A. Endereço: Av. Engenheiro Luiz Carlos Berrini, 1.376 - Cidade Monções CNPJ: 02.558.157/0001-62 N° NFST: 19361815/03/2020 Período: 25/01/2020 a 24/02/2020 N° Série: BT Sub-Série: 1 Emissão: 01/03/2020 Atende o convênio: 115/2003 CFOP: 5.307 I.E.: 108383949112 Descrição: PF/PJ - OUTROS Seq. Cód. Serviço Descrição Quantidade ICMS Valor R$ 1 1570 Serviços Contratados Vivo Móvel 1 25% 39,00 TOTAL NOTA FISCAL TELEFONICA BRASIL S.A. 39,00 Informações Complementares ICMS 25,00% PIS 0,65% COFINS 3,00% Base de Cálculo R$ 39,00 Base de Cálculo R$ 29,25 Base de Cálculo R$ 29,25 Valor ICMS R$ 9,75 Valor PIS R$ 0,19 Valor COFINS R$ 0,88 Serv. Isentos/Não Tributável Serv. Isentos/Não Tributável Serv. Isentos/Não Tributável R$ 0,00 R$ 0,00 R$ 0,00 Contribuição para o FUST 1% = R$0,28 e FUNTTEL 0,5% = R$0,14 do valor dos serviços - não repassados às tarifas. Autenticação digital: 7f208bb4f8e9d03edb1f5570be3816b2 %3D VEJA O USO DETALHADO DO VIVO MÓVEL 11-97448-3448 SERVIÇOS CONTRATADOS Período Incluso Plano/Pacote Utilizados Minutos/Unidades Valor R$ VIVO CTRL DIGITAL-3GB ILIM_ Serviços Telefônica Brasil Subtotal 39,00 39,00 25/01/20 a 24/02/20 Período Incluso Plano/Pacote Utilizados Minutos/Unidades Valor R$ BÔNUS CONTA DIGITAL 25/01/20 a 24/02/20 500MB 0,00 Período Incluso Plano/Pacote Utilizados Minutos/Unidades Valor R$ VIVO CONTROLE SERV DIGITAL II 25/01/20 a 24/02/20 10,99 Serviços TELEFONICA BRASIL 02.558.157/0135-74 Combo Digital Data Tipo Quantidade Valor R$ 25/01/20 VIVO CONTROLE SERV DIGITAL II 1 5,00 Subtotal 1 5,00 VALOR DO VIVO MÓVEL 11-97448-3448 Valor R$ SERVIÇOS CONTRATADOS Serviços TELEFONICA BRASIL 02.558.157/0135-74 49,99 5,00 Total 54,99 AUTORIZAÇÃO DE DÉBITO AUTOMÁTICO EM CONTA-CORRENTE Autorizo que o pagamento da minha conta telefônica seja efetuado de acordo com os valores informados pela Vivo através do serviço de débito automático em conta-corrente no banco, agência e conta-corrente por mim abaixo indicados. Fico ciente de que qualquer alteração nos mesmos poderá implicar na descontinuidade do serviço de débito automático, cabendo a mim realizar a solicitação de um novo cadastramento. No caso de insuficiência de saldo, estou ciente de que o débito ficará em aberto sendo da minha responsabilidade a sua quitação. Cód. Débito Automático: 1101080299-7 Nome do Cliente: Nome do Correntista: CPF/CNPJ: RG: Órgão Emissor: Banco: Agência: Conta Corrente: Local e data Assinatura do titular da conta corrente 846900000007 549900801008 011010802996 920022569007 Número da Conta: 00001101080299 Mês de Referência: 02/2020 Pág. 02/02 '], ['Companhia Paulista de Força e Luz Rua Jorge de Figueiredo Correa, 1632 Jardim Professora Tarcília – Campinas/SP - CEP: 13087-397 Inscrição Estadual: 244.163.955.115 Inscrição no CNPJ: 33.050.196/0001-88 CPFL Uma empresa do Grupo CPFL Energia ENERGIA ARTHUR FORTES DA COSTA Nota Fiscal R HERMANTINO COELHO 255 BL 5 AP 23 Conta de Energia Elétrica MAN STO ANTONIO N°. 115036877 série C Pág. 1 de 1 13087-500 CAMPINAS SP Data de Emissão 11/02/2020 Data de Apresentação 12/02/2020 Conta Contrato No 310091689739 Lote Roteiro de leitura Medidor Cliente Reservado ao fisco 07 CAMBUD49-00000853 215857038 0711530431 2AA0.76BA.14BD.54E5.81B9.6F1A.CC8B.2F68 PREZADO (A) CLIENTE ATENÇÃO: Esta conta está classificada como RESIDENCIAL. Isso significa que suas tarifas e impostos serão aplicados de acordo com essa classe. Se o imóvel não é residencial, atualize seu cadastro em nossos canais de atendimento. DADOS DA UNIDADE CONSUMIDORA ARTHUR FORTES DA COSTA R HERMANTINO COELHO, 255 BL 5 AP 23 MAN STO ANTONIO CAMPINAS - SP CPF:021.251.723-64 Classificação: Convencional B1 Residencial - Bifásico 220 / 127 V SEU CÓDIGO 8866562 CONTA/MÊS FEV/2020 TOTAL A PAGAR (R$) 129,87 ATENDIMENTO PN VENCIMENTO 0800 010 1010 0711530431 09/03/2020 www.cpfl.com.br DISCRIMINAÇÃO DA OPERAÇÃO - RESERVADO AO FISCO Cod. Descrição da Operação Mês Quant. Unid. Aliq. PIS COFINS Bandeiras Tarifa com Valor Total da Base Cálculo ICMS Base Cálculo 115 N° 911251410985 Ref. Operação PIS 4,37% Tarifárias Fa Med. Tributos ICMS ICMS COFINS 0,95% 0605 Consumo Uso Sistema [KWh]-TUSD FEV/20 178,000 kWh 0,29657304 52,79 52,79 12,00 6,33 52,79 0,50 2,31 Amarela 17 Dias 0601 Consumo - TE FEV/20 178,000 kWh 0,33595506 59,80 59,80 12,00 7,18 59,80 0,57 2,61 Verde 0601 Adicional de Bandeira Amarela FEV/20 1,76 1,76 12,00 0,21 1,76 0,02 0,08 11 Dias Total Distribuidora 114,35 DÉBITOS DE OUTROS SERVIÇOS 0807 Contrib. Custeio IP-CIP Municipal FEV/20 15,52 TOTAL CONSOLIDADO 129,87 114,35 13,72 114,35 1,09 5,00 HISTÓRICO DE CONSUMO kWh Dias TARIFA ANEEL EQUIPAMENTOS DE MEDIÇÃO / DATAS DE LEITURA Consumo TUSD TE Leitura Leitura Fator Consumo Taxa de Perda Leitura 20 FEV 178 28 Consumo kWh 0,24526000 0,27776000 N° Energia 11/02/2020 14/01/2020 Multipl. [kWh] [%] Próximo Mês JAN 191 32 215857038 ATIVA 11972 11794 1,00 178 12/03/2020 2019 DEZ 206 31 NOV 174 32 OUT 198 31 SET 157 29 AGO 221 31 JUL 186 31 JUN 161 29 ΜΑΙ 185 32 ABR 185 29 INDICADORES DE CONTINUIDADE DE FORNECIMENTO DE ENERGIA ΜAR 183 30 Para consulta dos indicadores acesse nosso site www.cpfl.com.br FEV 194 28 INFORMAÇÕES SOBRE A FATURA AVISO IMPORTANTE A partir de 01.01.2020 todos os clientes têm direito a optar pela tarifa branca, saiba mais: www.cpfl.com.br/tarifabranca Total a Pagar (R$) Data de Vencimento 129,87 Nota Fiscal CódDébAut-Banco 310091689739 Conta de Energia Elétrica 115036877 Série C 09/03/2020 Essa conta poderá ser paga no credenciado mais perto de você. Confira a lista completa no site www.cpfl.com.br Loja 2189 - LC-PE M BERNARDES CAMP DROGARIA DOM PEDRO CAMPINAS O MATUTO cpfl paulista R PADRE MANUEL BERNARDES 971 - TAQUARAL AV GUILHERME CAMPOS LJ. 30A 500 - JARDIM SANTA GENEBRA RUA LUIZ OTAVIO, 651 - PARQUE TAQUARAL 836200000013 298700403058 733975970035 100916897398 Autenticação Mecânica '], ['Companhia Paulista de Força e Luz Rua Jorge de Figueiredo Correa, 1632 Jardim Professora Tarcília – Campinas/SP - CEP: 13087-397 Inscrição Estadual: 244.163.955.115 Inscrição no CNPJ: 33.050.196/0001-88 СPFL Uma empresa do Grupo CPFL Energia ENERGIA MARCOS ANDERSON DE SOUSA R JAMES MARCELO BASSAN 5 Nota Fiscal Conta de Energia Elétrica RES LAUERZ N°. 118163329 série C Pág. 1 de 1 13049-620 CAMPINAS SP Data de Emissão 04/03/2020 Data de Apresentação 09/03/2020 Conta Contrato No 310094379315 Lote Roteiro de leitura Medidor Cliente Reservado ao fisco 01 CAMBUE31-00000316 206816774 0712251374 E442.BC06.8B34.140D.60B2.D9BC.4BA3.E688 PREZADO (A) CLIENTE Mantenha seus dados sempre atualizados, alguns itens determinam a tarifa e tributação de sua fatura de energia elétrica. Solicite os serviços disponíveis em nosso site com rapidez e segurança e reserve mais tempo para você em seu dia-a-dia. Mais informações acesse o endereço que consta no verso de sua conta. DADOS DA UNIDADE CONSUMIDORA MARCOS ANDERSON DE SOUSA R JAMES MARCELO BASSAN, 5 RES LAUERZ CAMPINAS - SP CPF:229.856.188-51 Classificação: Convencional B1 Residencial - Bifásico 220 / 127 V SEU CÓDIGO 41943783 CONTA/MÊS MAR/2020 TOTAL A PAGAR (R$) 85,34 ATENDIMENTO PN VENCIMENTO 0800 010 1010 0712251374 16/03/2020 www.cpfl.com.br Segunda Via DISCRIMINAÇÃO DA OPERAÇÃO - RESERVADO AO FISCO Cod. Descrição da Operação Mês Quant. Unid. Aliq. PIS COFINS Bandeiras Tarifa com Valor Total da Base Cálculo ICMS Base Cálculo 115 N° 906852624987 Ref. Fa 2,78% Tarifárias Med. Tributos Оperaҫӑo ICMS ICMS PIS/COFINS 0,59% 0605 Consumo Uso Sistema [KWh]-TUSD MAR/20 113,000 kWh 0,28973452 32,74 32,74 12,00 3,93 32,74 0,19 0,91 Verde 26 Dias 0601 Consumo - TE MAR/20 113,000 kWh 0,32814160 37,08 37,08 12,00 4,45 37,08 0,22 1,03 Verde Total Distribuidora 69,82 04 Dias DÉBITOS DE OUTROS SERVIÇOS 0807 Contrib. Custeio IP-CIP Municipal MAR/20 15,52 TOTAL CONSOLIDADO 85,34 69,82 8,38 69,82 0,41 1,94 HISTÓRICO DE CONSUMO kWh Dias TARIFA ANEEL EQUIPAMENTOS DE MEDIÇÃO / DATAS DE LEITURA Consumo TUSD TE Leitura Leitura Fator Consumo Taxa de Perda Leitura 2020 MAR 113 30 Consumo kWh 0,24526000 0,27776000 N° Energia 04/03/2020 03/02/2020 Multipl. [kWh] [%] Próximo Mês FEV 120 28 206816774 ATIVA 35255 35142 1,00 113 01/04/2020 JAN 162 32 2019 DEZ 122 31 NOV 221 32 OUT 145 31 SET 97 31 AGO 88 30 JUL 89 30 JUN 109 31 ΜΑΙ 140 31 INDICADORES DE CONTINUIDADE DE FORNECIMENTO DE ENERGIA ABR 147 27 Para consulta dos indicadores acesse nosso site www.cpfl.com.br INFORMAÇÕES SOBRE A FATURA Considerar quitada se efetuado débito em conta corrente. Caso não ocorra o débito utilize esta conta para pagamento. AVISO IMPORTANTE DÉBITO AUTOMÁTICO CódDébAut-Banco 310094379315 Total a Pagar (R$) Data de Vencimento 85,34 Nota Fiscal 16/03/2020 Conta de Energia Elétrica 118163329 Série C Banco 104 Agência 4487 Essa conta poderá ser paga no credenciado mais perto de você. Confira a lista completa no site www.cpfl.com.br Loja 58 - LC-SWISS PARK CAMPINAS DELLAQUA STORE PIRIQUITO cpfl paulista AV FRANCISCO ALFREDO JUNIOR 319 - SWISS PARK R DOS NARCISOS 65 - VILA MIMOSA AV. DAS AMOREIRAS 6533 - JD. N. CAMPOS ELISIOS 836400000003 853400403061 834002781039 100943793156 Autenticação Mecânica '], ['Companhia Paulista de Força e Luz Rua Jorge de Figueiredo Correa, 1632 Jardim Professora Tarcília – Campinas/SP - CEP: 13087-397 Inscrição Estadual: 244.163.955.115 Inscrição no CNPJ: 33.050.196/0001-88 CPFL Uma empresa do Grupo CPFL Energia ENERGIA ARTHUR FORTES DA COSTA Nota Fiscal R HERMANTINO COELHO 255 BL 5 AP 23 Conta de Energia Elétrica MAN STO ANTONIO N°. 096429857 série C Pág. 1 de 1 13087-500 CAMPINAS SP Data de Emissão 11/10/2019 Data de Apresentação 16/10/2019 Conta Contrato No 310091689739 Lote Roteiro de leitura Medidor Cliente Reservado ao fisco 07 CAMBUD49-00000853 215857038 0711530431 F861.12C8.B3E7.AE40.7E46.C925.B269.1BB8 PREZADO (A) CLIENTE Mantenha seus dados sempre atualizados, alguns itens determinam a tarifa e tributação de sua fatura de energia elétrica. Solicite os serviços disponíveis em nosso site com rapidez e segurança e reserve mais tempo para você em seu dia-a-dia. Mais informações acesse o endereço que consta no verso de sua conta. DADOS DA UNIDADE CONSUMIDORA ARTHUR FORTES DA COSTA R HERMANTINO COELHO, 255 BL 5 AP 23 MAN STO ANTONIO CAMPINAS - SP CPF:021.251.723-64 Classificação: Convencional B1 Residencial - Bifásico 220 / 127 V SEU CÓDIGO 8866562 CONTA/MÊS OUT/2019 ATENDIMENTO PN VENCIMENTO TOTAL A PAGAR (R$) 0800 010 1010 0711530431 08/11/2019 148,75 www.cpfl.com.br DISCRIMINAÇÃO DA OPERAÇÃO - RESERVADO AO FISCO Cod. Descrição da Operação Mês Quant. Unid. Tarifa com Valor Total da Base Cálculo Aliq. ICMS Base Cálculo PIS COFINS Bandeiras 115 N° 911451277100 Operação 4,84% | Tarifárias Vermelha P1 Ref. Fa Med. Tributos ICMS ICMS PIS/COFINS 1,06% 0605 Consumo Uso Sistema [KWh]-TUSD OUT/19 198,000 kWh 0,29873738 59,15 59,15 12,00 7,10 59,15 0,63 2,86 20 Dias 0601 Consumo - TE OUT/19 198,000 kWh 0,33828283 66,98 66,98 12,00 8,04 66,98 0,71 3,24 Amarela 0601 Adicional de Bandeira Amarela OUT/19 1,27 1,27 12,00 0,15 1,27 0,01 0,06 11 Dias 0601 Adicional de Bandeira Vermelha OUT/19 6,22 6,22 12,00 0,75 6,22 0,07 0,30 Total Distribuidora 133,62 DÉBITOS DE OUTROS SERVIÇOS 0807 Contrib. Custeio IP-CIP Municipal OUT/19 15,13 TOTAL CONSOLIDADO 148,75 133,62 16,04 133,62 1,42 6,46 HISTÓRICO DE CONSUMO kWh Dias TARIFA ANEEL EQUIPAMENTOS DE MEDIÇÃO / DATAS DE LEITURA Consumo TUSD TE Leitura Leitura Fator Consumo Taxa de Perda Leitura 2019 OUT 198 31 Consumo kWh 0,24526000 0,27776000 N° Energia 11/10/2019 10/09/2019 Multipl. [kWh] [%] Próximo Mês SET 157 29 215857038 ATIVA 11223 11025 1,00 198 12/11/2019 AGO 221 31 JUL 186 31 JUN 161 29 ΜΑΙ 185 32 ABR 185 29 MAR 183 30 FEV 194 28 JAN 196 32 2018 DEZ 184 31 INDICADORES DE CONTINUIDADE DE FORNECIMENTO DE ENERGIA NOV 63 32 Para consulta dos indicadores acesse nosso site www.cpfl.com.br INFORMAÇÕES SOBRE A FATURA AVISO IMPORTANTE A partir de 01.01.2020 todos os clientes têm direito a optar pela tarifa branca, saiba mais: www.cpfl.com.br/tarifabranca CódDébAut-Banco 310091689739 Total a Pagar (R$) Data de Vencimento 148,75 Nota Fiscal Conta de Energia Elétrica 096429857 Série C 08/11/2019 Essa conta poderá ser paga no credenciado mais perto de você. Confira a lista completa no site www.cpfl.com.br Loja 2189 - LC-PE M BERNARDES CAMP DROGARIA DOM PEDRO CAMPINAS O MATUTO cpfl paulista R PADRE MANUEL BERNARDES 971 - TAQUARAL AV GUILHERME CAMPOS LJ. 30A 500 - JARDIM SANTA GENEBRA RUA LUIZ OTAVIO, 651 - PARQUE TAQUARAL 836500000010 487500403141 833762138034 100916897398 Autenticação Mecânica '], ['Companhia Paulista de Força e Luz Rua Jorge de Figueiredo Correa, 1632 Jardim Professora Tarcília – Campinas/SP - CEP: 13087-397 Inscrição Estadual: 244.163.955.115 Inscrição no CNPJ: 33.050.196/0001-88 СPFL Uma empresa do Grupo CPFL Energia ENERGIA ARTHUR FORTES DA COSTA Nota Fiscal R HERMANTINO COELHO 255 BL 5 AP 23 Conta de Energia Elétrica MAN STO ANTONIO N°. 064357674 série C Pág. 1 de 1 13087-500 CAMPINAS SP Data de Emissão 13/03/2019 Data de Apresentação 18/03/2019 Conta Contrato No 310091689739 Lote Roteiro de leitura Medidor Cliente Reservado ao fisco 07 CAMBUD49-00000853 215857038 0711530431 0930.5F9D.7E31.A7B9.3E7C.A708.0F11.3BA8 PREZADO (A) CLIENTE Mantenha seus dados sempre atualizados, alguns itens determinam a tarifa e tributação de sua fatura de energia elétrica. Solicite os serviços disponíveis em nosso site com rapidez e segurança e reserve mais tempo para você em seu dia-a-dia. Mais informações acesse o endereço que consta no verso de sua conta. DADOS DA UNIDADE CONSUMIDORA ARTHUR FORTES DA COSTA R HERMANTINO COELHO, 255 BL 5 AP 23 MAN STO ANTONIO CAMPINAS - SP CPF:021.251.723-64 Classificação: Convencional B1 Residencial - Bifásico 220 / 127 V SEU CÓDIGO 8866562 CONTA/MÊS MAR/2019 ATENDIMENTO PN VENCIMENTO TOTAL A PAGAR (R$) 0800 010 1010 0711530431 08/04/2019 125,07 www.cpfl.com.br DISCRIMINAÇÃO DA OPERAÇÃO - RESERVADO AO FISCO Cod. Descrição da Operação Mês Quant. Unid. Base Cálculo Aliq. PIS COFINS Bandeiras Tarifa com Valor Total da ICMS Base Cálculo 115 N° 900802415531 Оperaҫӑo 2,99% Tarifárias Ref. Fa Med. Tributos ICMS ICMS PIS/COFINS 0,64% 0605 Consumo Uso Sistema [KWh]-TUSD MAR/19 183,000 kWh 0,24573771 44,97 44,97 12,00 5,40 44,97 0,29 1,34 Verde 17 Dias 0601 Consumo - TE MAR/19 183,000 kWh 0,32857924 60,13 60,13 12,00 7,22 60,13 0,38 1,80 Verde 0804 Juros de Mora FEV/19 0,20 13 Dias 0805 Multa por Atraso Pgto JAN/19 2,29 0805 Multa por Atraso Pgto FEV/19 2,25 0805 Atualização Monetária FEV/19 0,09 0805 Atualiz. Monet. de CIP JAN/19 0,01 Total Distribuidora 109,94 DÉBITOS DE OUTROS SERVIÇOS 0807 Contrib. Custeio IP-CIP Municipal MAR/19 15,13 TOTAL CONSOLIDADO 125,07 105,10 12,62 105,10 0,67 3,14 HISTÓRICO DE CONSUMO kWh Dias TARIFA ANEEL EQUIPAMENTOS DE MEDIÇÃO / DATAS DE LEITURA Consumo TUSD TE Leitura Leitura Fator Consumo Taxa de Perda Leitura 2019 MAR 183 30 Consumo kWh 0,20737000 0,27726000 N° Energia 13/03/2019 11/02/2019 Multipl. [kWh] [%] Próximo Mês FEV 194 28 215857038 ATIVA 9930 9747 1,00 183 11/04/2019 JAN 196 32 2018 DEZ 184 31 NOV 63 INDICADORES DE CONTINUIDADE DE FORNECIMENTO DE ENERGIA Para consulta dos indicadores acesse nosso site www.cpfl.com.br INFORMAÇÕES SOBRE A FATURA AVISO IMPORTANTE A partir de 01.01.2020 todos os clientes têm direito a optar pela tarifa branca, saiba mais: www.cpfl.com.br/tarifabranca CódDébAut-Banco 310091689739 Total a Pagar (R$) Data de Vencimento 125,07 Nota Fiscal 08/04/2019 Conta de Energia Elétrica 064357674 Série C Essa conta poderá ser paga no credenciado mais perto de você. Confira a lista completa no site www.cpfl.com.br Loja 2189 - LC-PE M BERNARDES CAMP DROGARIA DOM PEDRO CAMPINAS O MATUTO cpfl paulista R PADRE MANUEL BERNARDES 971 - TAQUARAL AV GUILHERME CAMPOS LJ. 30A 500 - JARDIM SANTA GENEBRA RUA LUIZ OTAVIO, 651 - PARQUE TAQUARAL 836200000013 250700403000 537113457031 100916897398 Autenticação Mecânica 32 '], ['Companhia Paulista de Força e Luz Rua Jorge de Figueiredo Correa, 1632 Jardim Professora Tarcília – Campinas/SP - CEP: 13087-397 Inscrição Estadual: 244.163.955.115 Inscrição no CNPJ: 33.050.196/0001-88 СPFL Uma empresa do Grupo CPFL Energia ENERGIA ARTHUR FORTES DA COSTA Nota Fiscal R HERMANTINO COELHO 255 BL 5 AP 23 Conta de Energia Elétrica MAN STO ANTONIO N°. 064357674 série C Pág. 1 de 1 13087-500 CAMPINAS SP Data de Emissão 13/03/2019 Data de Apresentação 18/03/2019 Conta Contrato No 310091689739 Lote Roteiro de leitura Medidor Cliente Reservado ao fisco 07 CAMBUD49-00000853 215857038 0711530431 0930.5F9D.7E31.A7B9.3E7C.A708.0F11.3BA8 PREZADO (A) CLIENTE Mantenha seus dados sempre atualizados, alguns itens determinam a tarifa e tributação de sua fatura de energia elétrica. Solicite os serviços disponíveis em nosso site com rapidez e segurança e reserve mais tempo para você em seu dia-a-dia. Mais informações acesse o endereço que consta no verso de sua conta. DADOS DA UNIDADE CONSUMIDORA ARTHUR FORTES DA COSTA R HERMANTINO COELHO, 255 BL 5 AP 23 MAN STO ANTONIO CAMPINAS - SP CPF:021.251.723-64 Classificação: Convencional B1 Residencial - Bifásico 220 / 127 V SEU CÓDIGO 8866562 CONTA/MÊS MAR/2019 ATENDIMENTO PN VENCIMENTO TOTAL A PAGAR (R$) 0800 010 1010 0711530431 08/04/2019 125,07 www.cpfl.com.br DISCRIMINAÇÃO DA OPERAÇÃO - RESERVADO AO FISCO Cod. Descrição da Operação Mês Quant. Unid. Base Cálculo Aliq. PIS COFINS Bandeiras Tarifa com Valor Total da ICMS Base Cálculo 115 N° 900802415531 Оperaҫӑo 2,99% Tarifárias Ref. Fa Med. Tributos ICMS ICMS PIS/COFINS 0,64% 0605 Consumo Uso Sistema [KWh]-TUSD MAR/19 183,000 kWh 0,24573771 44,97 44,97 12,00 5,40 44,97 0,29 1,34 Verde 17 Dias 0601 Consumo - TE MAR/19 183,000 kWh 0,32857924 60,13 60,13 12,00 7,22 60,13 0,38 1,80 Verde 0804 Juros de Mora FEV/19 0,20 13 Dias 0805 Multa por Atraso Pgto JAN/19 2,29 0805 Multa por Atraso Pgto FEV/19 2,25 0805 Atualização Monetária FEV/19 0,09 0805 Atualiz. Monet. de CIP JAN/19 0,01 Total Distribuidora 109,94 DÉBITOS DE OUTROS SERVIÇOS 0807 Contrib. Custeio IP-CIP Municipal MAR/19 15,13 TOTAL CONSOLIDADO 125,07 105,10 12,62 105,10 0,67 3,14 HISTÓRICO DE CONSUMO kWh Dias TARIFA ANEEL EQUIPAMENTOS DE MEDIÇÃO / DATAS DE LEITURA Consumo TUSD TE Leitura Leitura Fator Consumo Taxa de Perda Leitura 2019 MAR 183 30 Consumo kWh 0,20737000 0,27726000 N° Energia 13/03/2019 11/02/2019 Multipl. [kWh] [%] Próximo Mês FEV 194 28 215857038 ATIVA 9930 9747 1,00 183 11/04/2019 JAN 196 32 2018 DEZ 184 31 NOV 63 INDICADORES DE CONTINUIDADE DE FORNECIMENTO DE ENERGIA Para consulta dos indicadores acesse nosso site www.cpfl.com.br INFORMAÇÕES SOBRE A FATURA AVISO IMPORTANTE A partir de 01.01.2020 todos os clientes têm direito a optar pela tarifa branca, saiba mais: www.cpfl.com.br/tarifabranca CódDébAut-Banco 310091689739 Total a Pagar (R$) Data de Vencimento 125,07 Nota Fiscal 08/04/2019 Conta de Energia Elétrica 064357674 Série C Essa conta poderá ser paga no credenciado mais perto de você. Confira a lista completa no site www.cpfl.com.br Loja 2189 - LC-PE M BERNARDES CAMP DROGARIA DOM PEDRO CAMPINAS O MATUTO cpfl paulista R PADRE MANUEL BERNARDES 971 - TAQUARAL AV GUILHERME CAMPOS LJ. 30A 500 - JARDIM SANTA GENEBRA RUA LUIZ OTAVIO, 651 - PARQUE TAQUARAL 836200000013 250700403000 537113457031 100916897398 Autenticação Mecânica 32 '], ['NOMERO DA FATURA CODIGO DO CONSUMIDOR REGIAO O SANASA CAMPINAS 1.026.568/2020 3.708.765 16 MES REF VENCIMENTO NOME 02/2020 07/04/2020 ARNALDO MACIEL BELLATO NUM. 612 JASMIM RUA APTO o105 CH PRIMAVERA OT EMISSAO 11/03/2020 DT LEIT 05/03 PR LEIT 02/04 DOMIC CATEGORIA RESIDENCIAL 001 MEDIA 6 ME SES ULTIMOS CONSUM S EM M3 6 12/2019 11/2019 10/2019 1/2020 LEIT.ATU. 000272 CONSUMO 000005 LEIT.ANT. HIDROMETRO O008359 000267 VALOR FATURADO DESCRIÇÃO DOS LANÇAMENTOS CAPTACA O DE AGUA BRUTA TRATAMENTO E DIST. DE AGUA COLETA E AFAST . DE ESGOTO TRATAMENTO DE ESGOTO 0,00 36,34 29,07 15,63 VALOR TOTAL R$ 81,04 INCLUIDO 5,00 M3 , REFERENTE A AREA COMUM. ISO 9001 O SANASA CAMP INAS PROCESSAMENTO: 3708765 Data de Vencimento 2020/02 Valor Total Número da Fatura 1.026.568/2020 07/04/2020 R$ 81,04 826100000o007 810401052024 O04073708762 520200291612 ALORES EXPRESSOS EM REAIS AUTENTICAÇAO MECANICA NO VERSO AUTENTICAÇÃO MECANICA NO VERSO '], ['Companhia Paulista de Força e Luz Rua Jorge de Figueiredo Correa, 1632 Jardim Professora Tarcília – Campinas/SP - CEP: 13087-397 Inscrição Estadual: 244.163.955.115 Inscrição no CNPJ: 33.050.196/0001-88 СPFL Uma empresa do Grupo CPFL Energia ENERGIA ARTHUR FORTES DA COSTA Nota Fiscal R HERMANTINO COELHO 255 BL 5 AP 23 Conta de Energia Elétrica MAN STO ANTONIO N°. 064357674 série C Pág. 1 de 1 13087-500 CAMPINAS SP Data de Emissão 13/03/2019 Data de Apresentação 18/03/2019 Conta Contrato No 310091689739 Lote Roteiro de leitura Medidor Cliente Reservado ao fisco 07 CAMBUD49-00000853 215857038 0711530431 0930.5F9D.7E31.A7B9.3E7C.A708.0F11.3BA8 PREZADO (A) CLIENTE Mantenha seus dados sempre atualizados, alguns itens determinam a tarifa e tributação de sua fatura de energia elétrica. Solicite os serviços disponíveis em nosso site com rapidez e segurança e reserve mais tempo para você em seu dia-a-dia. Mais informações acesse o endereço que consta no verso de sua conta. DADOS DA UNIDADE CONSUMIDORA ARTHUR FORTES DA COSTA R HERMANTINO COELHO, 255 BL 5 AP 23 MAN STO ANTONIO CAMPINAS - SP CPF:021.251.723-64 Classificação: Convencional B1 Residencial - Bifásico 220 / 127 V SEU CÓDIGO 8866562 CONTA/MÊS MAR/2019 ATENDIMENTO PN VENCIMENTO TOTAL A PAGAR (R$) 0800 010 1010 0711530431 08/04/2019 125,07 www.cpfl.com.br DISCRIMINAÇÃO DA OPERAÇÃO - RESERVADO AO FISCO Cod. Descrição da Operação Mês Quant. Unid. Base Cálculo Aliq. PIS COFINS Bandeiras Tarifa com Valor Total da ICMS Base Cálculo 115 N° 900802415531 Оperaҫӑo 2,99% Tarifárias Ref. Fa Med. Tributos ICMS ICMS PIS/COFINS 0,64% 0605 Consumo Uso Sistema [KWh]-TUSD MAR/19 183,000 kWh 0,24573771 44,97 44,97 12,00 5,40 44,97 0,29 1,34 Verde 17 Dias 0601 Consumo - TE MAR/19 183,000 kWh 0,32857924 60,13 60,13 12,00 7,22 60,13 0,38 1,80 Verde 0804 Juros de Mora FEV/19 0,20 13 Dias 0805 Multa por Atraso Pgto JAN/19 2,29 0805 Multa por Atraso Pgto FEV/19 2,25 0805 Atualização Monetária FEV/19 0,09 0805 Atualiz. Monet. de CIP JAN/19 0,01 Total Distribuidora 109,94 DÉBITOS DE OUTROS SERVIÇOS 0807 Contrib. Custeio IP-CIP Municipal MAR/19 15,13 TOTAL CONSOLIDADO 125,07 105,10 12,62 105,10 0,67 3,14 HISTÓRICO DE CONSUMO kWh Dias TARIFA ANEEL EQUIPAMENTOS DE MEDIÇÃO / DATAS DE LEITURA Consumo TUSD TE Leitura Leitura Fator Consumo Taxa de Perda Leitura 2019 MAR 183 30 Consumo kWh 0,20737000 0,27726000 N° Energia 13/03/2019 11/02/2019 Multipl. [kWh] [%] Próximo Mês FEV 194 28 215857038 ATIVA 9930 9747 1,00 183 11/04/2019 JAN 196 32 2018 DEZ 184 31 NOV 63 INDICADORES DE CONTINUIDADE DE FORNECIMENTO DE ENERGIA Para consulta dos indicadores acesse nosso site www.cpfl.com.br INFORMAÇÕES SOBRE A FATURA AVISO IMPORTANTE A partir de 01.01.2020 todos os clientes têm direito a optar pela tarifa branca, saiba mais: www.cpfl.com.br/tarifabranca CódDébAut-Banco 310091689739 Total a Pagar (R$) Data de Vencimento 125,07 Nota Fiscal 08/04/2019 Conta de Energia Elétrica 064357674 Série C Essa conta poderá ser paga no credenciado mais perto de você. Confira a lista completa no site www.cpfl.com.br Loja 2189 - LC-PE M BERNARDES CAMP DROGARIA DOM PEDRO CAMPINAS O MATUTO cpfl paulista R PADRE MANUEL BERNARDES 971 - TAQUARAL AV GUILHERME CAMPOS LJ. 30A 500 - JARDIM SANTA GENEBRA RUA LUIZ OTAVIO, 651 - PARQUE TAQUARAL 836200000013 250700403000 537113457031 100916897398 Autenticação Mecânica 32 '], ['NOTA FISCAL/CONTA DE FORNECIMENTO DE ÁGUA E COLETA DE ESGOTO Regime especial Processo n° E-04/278370/12 - N° 2340667911015 CONCESSÃO DE SERVICOS DE ESGOTO foz NOVA Águas do Brasil DATA DE EMISSÃO: 30/09/2015 CEDAE ZONA OESTE - RIO DE JANEIRO MEDIÇÃO VENCIMENTO LEVANDO QUALIDADE DE VIDA PARA VOCÊ MAIS SAÚDE PARA VOCÊ MAIS CUIDADO COM O MEIO AMBIENTE COMPANHIA ESTADUAL DE ÁGUAS E ESGOTOS - CEDAE CNPJ: 33.352.394/0001-04 I Inscr. Estadual - 84.780.707 Av. Presidente Vargas, 2.655 - Centro - Rio de Janeiro - RJ NOME / CPF-CNPJ 00394429011730 PREF AERONAUTICA DOS AFONSOS Outubro/2015 12/10/2015 ORIGEM MATRÍCULA 1- 59 2340667-9 ENDEREÇO DA LIGAÇÃO RUA PACIFICO PEREIRA, 1 BL 5 - JARDIM SULACAP ROTEIRO 0217608205170 LEITURA ANTERIOR LEITURA ATUAL N° DE DIAS VOLUME FAT.M³ VOLUME APURADO M/DIA 26/08/2015 25/09/2015 | | | | | 4654 4741 30 90 2.9 PRÓXIMA LEITURA HIDRÔMETRO TIPO DE FATURAMENTO VOLUME MÉDIO M/DIA | 27/10/2015|| C10S015920 | CONS. APURADO 3.0 | ECONOMIAS POR CATEGORIA PERCENTUAL DE FAT.% SUBCATEGORIA DOM COM IND PUB DOM COM IND PUB 6 0 0 0 | | 100 0 0 0 | COMUM FAIXA DE CONSUMO TARIFA CONSUMO VALOR LANÇAMENTOS VALOR R$ R$ FATURADO R$ 0.0-15.0 2,31 90,0 208,62 AGUA DOMICILIAR 208,62 RECURSOS HIDRICOS 1,68 1,04 177,21 1,43 TAXA DE REGULAÇÃO ESGOTO DOMICILIAR RECURSOS HIDRICOS TOTAL CONTA TOTAL A PAGAR 389,98 389,98 Val Aprox dos Tributos R$0.0 (0.0%) conforme Lei 12.741/12. BASE DE CÁLCULO ICMS ALÍQUOTA % VALOR INCL. PREÇO/ÁGUA 0,00 18 0,00 Segunda Via MENSAGEM IMPORTANTE \"De acordo com a lei federal 12.741 de 08/12/2012, a concessionária informa a carga tributária aproximada incidente sobre o valor dos serviços: PIS/COFINS (9,25%). Desconsiderar as tarifas veiculadas no verso da fatura.\" SISTEMA: Guandu/RJ Ref : 10/15 Padrão da Val Médios Detectados Portaria MS 518/04 Nro Amostras Exig 194 Realiz 35 Cor Aparente 15 UH(max) 6 A 9.5 (1) 5 UT(max) 0.2 A 2.0 MG/L AUSENTE (3) PH Turbidez Cloro Residual 1,9 1,8 35 194 724 694 724 Coliformes Totais Colif. (1)Apenas recomendacao (2)Numero de amostras positivas (3)Sistemas que analisam 40 ou mais amostras/mes, ausencia em 95% das amostras examinadas. Sistemas que analisam menos de 40 amostras/mes, apenas uma amostra podera apresentar resultado positivo 694 724 45 35 1 AUSENTE SAC - Foz Águas 5: 0800 025 0005 I www.fozaguas5.com.br - CEDAE 195 ou 0800 28 21 195 I www.cedae.com.br CONCESSÃO DE SERVIÇOS DE ESGOTO COMPANHIA ESTADUAL DE ÁGUAS E ESGOTOS - CEDAE CNPJ: 33.352.394/0001-04 I Inscr. Estadual - 84.780.707 Av. Presidente Vargas, 2.655 - Centro - Rio de Janeiro - RJ F. AB. ZONA OESTE S.A. I CNPJ: 14.863.079/0001-99 Rua Doze de Fevereiro, 103 - Bangu - Rio de Janeiro-RJ foz NOVA CEDAE Águas do Brasil ZONA OESTE - RIO DE JANEIRO MAIS SAÚDE PARA VOCÊ MAIS CUIDADO COM O MEIO AMBIENTE LEVANDO QUALIDADE DE VIDA PARA VOCÊ CONTROLE DA CEDAE E DA FOZ ÁGUAS 5 MATRÍCULA MEDIÇÃO ORIGEM | 2340667-9 | Outubro/2015 | 1- 59 | VENCIMENTO TOTAL A PAGAR 12/10/2015 | 389,98 CONCESSÃO DE SERVIÇOS DE ESGOTO NOVA CEDAE foz Grup Águas do Brasil ZONA OESTE - RIO DE JANEIRO 82640000003 8 89981333234 8 06679101515 0 91510120006 0 ÚLTIMÓS CONSUMOS M3 /DIA '], ['Companhia Paulista de Força e Luz Rua Jorge de Figueiredo Correa, 1632 Jardim Professora Tarcília – Campinas/SP - CEP: 13087-397 Inscrição Estadual: 244.163.955.115 Inscrição no CNPJ: 33.050.196/0001-88 СPFL Uma empresa do Grupo CPFL Energia ENERGIA ARTHUR FORTES DA COSTA Nota Fiscal R HERMANTINO COELHO 255 BL 5 AP 23 Conta de Energia Elétrica MAN STO ANTONIO N°. 064357674 série C Pág. 1 de 1 13087-500 CAMPINAS SP Data de Emissão 13/03/2019 Data de Apresentação 18/03/2019 Conta Contrato No 310091689739 Lote Roteiro de leitura Medidor Cliente Reservado ao fisco 07 CAMBUD49-00000853 215857038 0711530431 0930.5F9D.7E31.A7B9.3E7C.A708.0F11.3BA8 PREZADO (A) CLIENTE Mantenha seus dados sempre atualizados, alguns itens determinam a tarifa e tributação de sua fatura de energia elétrica. Solicite os serviços disponíveis em nosso site com rapidez e segurança e reserve mais tempo para você em seu dia-a-dia. Mais informações acesse o endereço que consta no verso de sua conta. DADOS DA UNIDADE CONSUMIDORA ARTHUR FORTES DA COSTA R HERMANTINO COELHO, 255 BL 5 AP 23 MAN STO ANTONIO CAMPINAS - SP CPF:021.251.723-64 Classificação: Convencional B1 Residencial - Bifásico 220 / 127 V SEU CÓDIGO 8866562 CONTA/MÊS MAR/2019 ATENDIMENTO PN VENCIMENTO TOTAL A PAGAR (R$) 0800 010 1010 0711530431 08/04/2019 125,07 www.cpfl.com.br DISCRIMINAÇÃO DA OPERAÇÃO - RESERVADO AO FISCO Cod. Descrição da Operação Mês Quant. Unid. Base Cálculo Aliq. PIS COFINS Bandeiras Tarifa com Valor Total da ICMS Base Cálculo 115 N° 900802415531 Оperaҫӑo 2,99% Tarifárias Ref. Fa Med. Tributos ICMS ICMS PIS/COFINS 0,64% 0605 Consumo Uso Sistema [KWh]-TUSD MAR/19 183,000 kWh 0,24573771 44,97 44,97 12,00 5,40 44,97 0,29 1,34 Verde 17 Dias 0601 Consumo - TE MAR/19 183,000 kWh 0,32857924 60,13 60,13 12,00 7,22 60,13 0,38 1,80 Verde 0804 Juros de Mora FEV/19 0,20 13 Dias 0805 Multa por Atraso Pgto JAN/19 2,29 0805 Multa por Atraso Pgto FEV/19 2,25 0805 Atualização Monetária FEV/19 0,09 0805 Atualiz. Monet. de CIP JAN/19 0,01 Total Distribuidora 109,94 DÉBITOS DE OUTROS SERVIÇOS 0807 Contrib. Custeio IP-CIP Municipal MAR/19 15,13 TOTAL CONSOLIDADO 125,07 105,10 12,62 105,10 0,67 3,14 HISTÓRICO DE CONSUMO kWh Dias TARIFA ANEEL EQUIPAMENTOS DE MEDIÇÃO / DATAS DE LEITURA Consumo TUSD TE Leitura Leitura Fator Consumo Taxa de Perda Leitura 2019 MAR 183 30 Consumo kWh 0,20737000 0,27726000 N° Energia 13/03/2019 11/02/2019 Multipl. [kWh] [%] Próximo Mês FEV 194 28 215857038 ATIVA 9930 9747 1,00 183 11/04/2019 JAN 196 32 2018 DEZ 184 31 NOV 63 INDICADORES DE CONTINUIDADE DE FORNECIMENTO DE ENERGIA Para consulta dos indicadores acesse nosso site www.cpfl.com.br INFORMAÇÕES SOBRE A FATURA AVISO IMPORTANTE A partir de 01.01.2020 todos os clientes têm direito a optar pela tarifa branca, saiba mais: www.cpfl.com.br/tarifabranca CódDébAut-Banco 310091689739 Total a Pagar (R$) Data de Vencimento 125,07 Nota Fiscal 08/04/2019 Conta de Energia Elétrica 064357674 Série C Essa conta poderá ser paga no credenciado mais perto de você. Confira a lista completa no site www.cpfl.com.br Loja 2189 - LC-PE M BERNARDES CAMP DROGARIA DOM PEDRO CAMPINAS O MATUTO cpfl paulista R PADRE MANUEL BERNARDES 971 - TAQUARAL AV GUILHERME CAMPOS LJ. 30A 500 - JARDIM SANTA GENEBRA RUA LUIZ OTAVIO, 651 - PARQUE TAQUARAL 836200000013 250700403000 537113457031 100916897398 Autenticação Mecânica 32 '], ['Companhia Paulista de Força e Luz Uma empresa do Grupo CPFI Energia Campinas SP-13088-900 Inscrição Estadual: 244.163.955.115 Inscrição no CNPI: 33.050.196/0001-88 CPFL ENERGIA ALINE COSTA DA FONTE R PAPA LEAO XIII, 10CA 44 REAL PARQUE 13082-793 CAMPINAS/SP Nota Fiscal Conta de Energia Etrica N022079458 serie C Data de Emissao 26/05/2018 Data de Apresentaçlo: 01/06/2018 Pág 01 de 01 Conta Contrato N 310080287189 N°. Medidor 30902379 Reservado ao Fisco 9999.C1FO.37C6.2FC8.59F9 22A3.8DD5.6229 Lote Roteiro de Leitura PN 702898045 18 CAMBUD44-0000379 PREZADO(A) CLIENTE Martenta seus e resere ma tesh empre analizndos, alguns itwn deteminm a titatritnançko de un fatn dn ergin titriea. Solite os servigos dspnivis em nose site eom rapidezgring tempe para voce em aada Mas informapies neesen o nderogo que consta no ver so de sun corta DADOS DA UNIDADE CONSUMIDORA ALINE COSTA DA FONTE RPAPA LEAO XIL 10CA 44 REAL PARQUE 13082-703 - CAMPINAS -SP CPF137.680.278-30 CLASSIFICAÇÃO B1 Residencial -Bilasion 220 / 127 V ATENDIMENTO CPFL TOTAL A PAGAR PN SEU CÓDIGO CONTA MES VENCIMENTO 0800 010 10 10 www.cpfl.com.br 702898045 41325796 MAI/2018 11/06/2018 62,78 DISCRIMINAÇÃO DA OPERAÇÃO - RESERVADO AO FISCO Cod 115 N° 904502020988 Descrição da Operação Més Ref Quant Faturada Unid. Tarifa com Valor Total da Base Calculo Aliq Med Tributos RS Operação RS Base Calculo PISICOFINS PIS 1,65% COFINS 7,53% Bandeiras Tantarlas ICMS R$ ICMS% ICMS (Dias) 0806 Energi Alve Femeci- TUSD 0601 Energia A Famecid- TE 0601 Adidana de Band Amarle 0606 Enargin Attve injtede TUSD 0801 Energin Ae injeluda TE 0601 Cred Ade land Amari 1.25 5,72 Verde 03 Dias MAUTE 241,000 N 031502075 75,02 76.02 2600 18.98 75.90 MAI8 241,000 h 04211013 101.60 101,60 2100 25,30 101.50 1,67 7.64 MAI8 330 0,06 0,25 Amareia 3,30 330 25.00 MAITE 192,000 kh 0.23625000 45 36 60.48 100 465 28 Dias MAVIE 182,000 wh 0,42119702 80 87. 25. 00 20.22 1,33 .09 263 25.00 263 0.04 0.20 DA0S Custe de D Energie TUSO MAVIS 1,000 MAh 0,30000000 0,30 25 00 0,30 0.02 0, 10 0.01 0,00 0401 Custo de D Enegia EVD-TE Tolal Distribudora DÉNITOE DE OUTROS BERVIÇOS MAI8 1,000 h 041000000 041 041 25,00 041 6257 11,58 CH07 Contibuiean Custeie IACIP CRÉDITOS / DEVOLUÇOES 0e Ressarimento DIC Mensal MAUTH ABR/18 1,37 TOTAL CONSOLIDADO 62,70 7.09 24,48 37.46 0.01 282 HISTÓRICO DE CONSUMO kWh Dias TARIFA ANEEL EQUIPAMENTOS DE MEDIÇÃO / DATAS DE LEITURAS Taxa Leitura Consumo Consumo kWh TUSD 0,20737000 TE 0.27726000 Leitura Laltura 27/04/2018 241 31 Fator Consumo 2018 MAI N Energla Multipl. KWn Perdas (N Proslmo M ABH 263 30 Alva 4407 410 1,00 241 270/201 MAR 88 FEV 0 e JAN A 2017 DEZ 00000 396 30 Iretada 2044 2062 1.00000 192 188 201 363 30 COMPOSIÇÃO FORNECIMENTO (R$) INDICADORES DE CONTINUIDADE DE FORNECIMENTO DE ENERGIA Nov 0 OUT 0000000 000 20 CAMPINAS 11-BARÃO GERALDO Energia Transmissão Distribulção Perdas 67,51 7,66 26,26 9,01 8,98 DIAC 27,92 Valor RS EUSD 306 32 Padrio Mensal Padrão Trimestral Padrão Anual Apurado Mensal Pefodo SET 0 254 31 Apuraçio DIC 4,71 317 343 18,00 12.70 0,00 AGO FIC 0.00 0בת 0,0 0 0 JUN 090 o JLA 284 20 20 0,00 Encargos Tributos 203 30 DICRI 12,22 0,00 MAI S 224 33 INFORMAÇÕES SOBRE A FATURA Participação na geração 100.00% Saldo em Energia da Instalação. Convencional O,0000000000 kWh Saldo a expirar próximo mês: 0,0000000000 kWh AVISO IMPORTANTE DÉBITO AUTOMÁTICO CódDebAut-Banco 310080287189 Total a Pagar (RS) 62,78 Nota Fiscal Data de Vencimento Conta de Energia Elétrica 11/06/2018 BANCO 001 AGÊNCIA 4053 pfl paulista N\" 022079458 série C Essa conta poderá ser paga no credenclado mals perto de você. Confira a lista completa no site www.cpfl.com.br AVENIDA FRANCISCO XAVIER ARRUDA CAMARGO,N 300 - JARDIM SANTANA RUA EUCLYDES CARDIA,RUA EUCLYDES CARDIA 35 - JARDIM FERNANDA RUA LEONICE APARECIDA OLIVEIRA DA SILVA 710, SALA - JARDIM CAMPO BELO II meempe d Grupe CL Erergie MUITOFACIL ARRECADACAO E RECEB OTAVIO HENRIQUE DE LIMA 407693 YATSAR SERVICOS DE TECNOLOGIA 836800000009 627800403008 911880424039 100802871895 Autenticação Mecanica '], ['VENCIMENTO 01 B01 585 21 0428 MIN DEFESA COMDO AERONAUTICA R PACIFICO PEREIRA 1 BL5 SV EF.N°114 JD SULACAP / RIO DE JANEIRO - RJ 21741-160 Cliente Mais+ 20/04/2016 00372 Z002 008701 N° DO MEDIDOR Vantagens especiais em: light.com.br/clientemais 7324409 Se você ainda não possui sua conta da Light em Débito Automático, faça a adesão na sua agência bancária, na Agência Virtual (www.light.com.br), no Disque-Light (0800 282 0120) ou nas agências da Light e fique despreocupado. Classe / Subclasse BANDEIRAS TARIFÁRIAS: FIQUE ATENTO À NOVA REGRA Assim, a nova composição dos valores(*) será PODER PÚBLICO / PODER PÚBLICO FEDERAL A partir de 1° de fevereiro/2016, os valores das bandeiras amarela e vermelha serão reduzidos. E a bandeira vermelha terá dois patamares: patamar 1 e 2. - Bandeira verde: a tarifa não sofre nenhum acréscimo, não há cobrança adicional - Bandeira amarela: R$ 1,50 a cada 100 kWh consumidos - Bandeira vermelha patamar 1: R$ 3,00 a cada 100 kWh consumidos - Bandeira vermelha patamar 2: R$ 4,50 a cada 100 kWh consumidos (*)Valor liquido de impostos. Medidor TRIFÁSICO N°: 7324409 Para mais informações, acesse www.aneel.gov.br Ref: Mês / Ano Referência Bancária Número da Fatura ABR/2016 030000792003 519503654074 A461.6D43.F238.CCEF.D804.4AD7.C497.D0A2 Nota Fiscal - Série 01 no. 194301 Reservado ao Fisco Conta de Energia Elétrica RE PROC. E-04/053.359/09 -IFE 03 SEPD - Autorização n.08-2005/0006384-9 DATA PREVISTA DA PRÓXIMA LEITURA 02/05/2016 TENSÃO NOMINAL EM VOLTS Disponível: Limites mínimo: 202/117 Limites máximo: 231/133 220/127 O Light LIGHT SERVIÇOS DE ELETRICIDADE SA AV. MAL. FLORIANO 168 RIO DE JANEIRO RJ CEP 20080-002 CNPJ 60.444.437/0001-46 INSC. ESTADUAL 81380.023 INSC.MUNICIPAL 00794678 INDICADORES DE QUALIDADE Mês de referência: Fevereirol2016 ENERGIA ATIVA ENERGIA REATIVA EXCEDENTE Conjunto: PADRE MIGUEL Medição Acumulada Anterior Consumo Consumo kWh Const Medição Anterior Data Const N° Medição Atual Data Leitura Leitura Medidor Dias Atual Medidor kWh Indicadores Apurado Mensal Meta Mensal Meta Trimestral Meta Anual 01/04/2016 6.248 01/03/2016 6.156 1 92 31 DIC 0,00 4,71 9,43 18,86 Data da Emissão Data de Apresentação FIC 0,00 3,11 6,22 12,45 BLOCO 5 SV - APT 101 R PACIFICO PEREIRA 1 BL5 SV EF.N°114 21741-160 JD SULACAP / RIO DE JANEIRO -RJ CNPJ: 00.394.429/0117-30 01/04/2016 06/04/2016 DMIC 0,00 2,60 DIC - Duração de interrupção individual FIC - Frequência de interrupção individual DMIC - Duração máxima de interrupção contínua DICRI - Duração da interrupção individual em dia crítico CÓDIGO DO CLIENTE CÓDIGO DA INSTALAÇÃO 20003992 0420577631 VALOR DO ENCARGO DE USO DO SISTEMA DE DISTRIBUIÇÃO: DESCRIÇÃO QUANT. PREÇO UNIT R$ VALOR R$ R$ 28,44 CFOP UNIDADE O cliente tem o direito de solicitar a qualquer tempo a apuração dos indicadores DIC, FIC, DMIC e DICRI e também receber uma compensação, caso sejam violadas as metas de continuidade individuais - mensal, trimestrale anual - relativos à unidade consumidora de sua responsabilidade. 5.258 5.258 0000 0000 0000 0000 kWh kWh 100 100 0.72684 0,01941 CUSTO DISPONIBILIDADE SISTEMA ADICIONAL BANDEIRA AMARELA CONTRIBUIÇÃO DE ILUMIN PÚBLICA RETENÇÃO NA FONTE - IRPJ RETENÇÃO NA FONTE - CSSL RETENÇÃO NA FONTE - PIS/PASEP RETENÇÃO NA FONTE - COFINS 72,67 1,93 2,93 -0,90 -0,75 -0,48 -2,24 0000 Subtotal Faturamento (Veja abaixo) 74,60 1,44- Subtotal Outros Após o vencimento haverá multa de 2%, juros e atualização de IGP-M, cobrados em conta posterior (Res. ANEEL n° 414 de 09/09/10 e Lei 10.762 de 11/11/2003) ICMS R$ Valor da Energia Valor da Transmissão Valor da Distribuição 20% Total da Nota Fiscal R$ Base de Cálculo Alíquota Valor (já incluído no preço) 74,60 20% 14,93 33,38 1,16 10,54 *********74,60 Encargos Setoriais Tributos Total 10,70 18,82 74,60 TOTAL A PAGAR RS VENCIMENTO COFINS aliquota 女大*73,16 PIS aliquota 0,930% 4,300% 20/04/2016 *** R$ 0,68 R$ 3,20 Valores já incluídos no preço (PIS - Lei 10.637/02 / COFINS Lei 10.833/03/ REH ANEEL vigente) AERAS II II 75 AA11S IIII 108 其5 ILID 78 Tarifas em R$/kWh (sem impostos) TUSD +TE BANDEIRA 84 D 103 III 104 JUUS BANDEIRAS TARIFÁRIAS ABO15 Bandeira Verde 0,54346 0,55846 0,57346 SENS Bandeira Amarela Bandeira Vermelha PX X ABRIL 2016 - BANDEIRA VERDE OUTIS NOMS IIIII0 107 X X MARÇO 2016 - BANDEIRA AMARELA DEDS III 76 FEMS CIII 73 IITID 82 ABPIS II IIID 2 JANE Tarifa de Energia e TUSD - Tarifa de Uso do Sistema de Distribuição. CONSUMO / kWh 04/2016 '], ['SEGUNDA VIA Light, sempre com você, 24 horas! Informações sobre condições gerais de fornecimento, tarifas, produtos, serviços e tributos? Faltou luz? Envie SMS com o Código da Instalação para o nº 54448. 01 B01 585 21 0428 MIN DEFESA COMDO AERONAUTICA R PACIFICO PEREIRA 1 BL5 SV EF.N°114 JD SULACAP / RIO DE JANEIRO - RJ 21741-160 00001 Z002 000002 Disque-Light Emergência: 0800 021 0196 Emergência Grandes Clientes: 0800 282 1380 Agência Virtual: www.light.com.br Disque-Light Comercial: 0800 282 0120 Deficientes auditivos e de fala: 0800 285 2453 Ouvidoria: 0800 284 0182 (Dias úteis: 8h às 18h) Agências Comerciais Agência Nacional de Energia Elétrica - ANEEL: 167 Ligação gratuita de telefones fixos e móveis. Se você ainda não possui sua conta da Light em Débito Automático, faça a adesão na sua agência bancária, na Agência Virtual (www.light.com.br), no Disque-Light (0800 282 0120) ou nas agências da Light e fique despreocupado! Faltou luz? Light Já! Classe / Subclasse PODER PÚBLICO / PODER PÚBLICO FEDERAL Envie SMS apenas com o Código da Instalação para o n° 54448. Pronto. Agora, é só aguardar o retorno da sua luz. Medidor TRIFÁSICO | N°: 7324409 Serviço de atendimento automático, limitado a 2 SMS por dia, por celular. Disponível para as operadoras Claro, Oi, Vivo, Tim e Nextel. Ref: Mês / Ano Referência Bancária Número da Fatura OUT/2015 030000792003 513803622547 Reservado ao Fisco E3EC.4D00.DFFC.44EC.7BD6.0953.159E.7D3F SEGUNDA VIA Nota Fiscal - Série 01 no.147729 Conta de Energia Elétrica RE PROC. E-04/053.359/09 - IFE 03 SEPD - Autorização n.08-2005/0006384-9 DATA PREVISTA DA PRÓXIMA LEITURA 03/11/2015 TENSÃO NOMINAL EM VOLTS Disponível: 220/127 Light LIGHT SERVIÇOS DE ELETRICIDADE SA AV. MAL. FLORIANO 168 RIO DE JANEIRO RJ CEP 20080-002 Limites mínimo: 202/117 Limites máximo: 231/133 CNPJ 60.444.437/0001-46 INSC. ESTADUAL 81380.023 INSC MUNICIPAL 00794678 INDICADORES DE QUALIDADE Mês de referência: Agosto/2015 ENERGIA ATIVA ENERGIA REATIVA EXCEDENTE Medição Atual Medição Anterior Data |Const Medidor |Consumo kWh Medição Acumulada Atual |Const Medidor |Consumo kWh Conjunto: PADRE MIGUEL N° Data |Leitura |Leitura Dias |Anterior Indicadores TApurado Mensal I Meta Mensal | Meta Trimestral IMeta Anual 01/10/2015 5.747 01/09/2015 5.652 1 95 30 DIC 0,00 4,71 9,43 18,86 Data da Emissão Data de Apresentação FIC 0,00 3,11 6,22 12,45 BLOCO 5 SV - APT 101 R PACIFICO PEREIRA 1 BL5 SV EF.N°114 01/10/2015 07/10/2015 DMIC 0,00 2,60 21741-160 JD SULACAP / RIO DE JANEIRO - RJ CNPJ: 00.394.429/0117-30 DIC - Duração de interrupção individual FIC - Frequência de interrupção individual DMIC - Duração máxima de interrupção contínua DICRI - Duração da interrupção individual em dia crítico CÓDIGO DO CLIENTE CÓDIGO DA INSTALAÇÃO 20003992 0420577631 VALOR DO ENCARGO DE USO DO SISTEMA DE DISTRIBUIÇÃO: DESCRIÇÃO UNIDADE QUANT. PREÇO UNIT R$ VALOR R$ R$ 26,13 CFOP O cliente tem o direito de solicitar a qualquer tempo a apuração dos indicadores DIC, FIC, DMIC e DICRI e também receber uma compensação, caso sejam violadas as metas de continuidade individuais – mensal, trimestral e anual- relativos à unidade consumidora de sua responsabilidade. CUSTO DISPONIBILIDADE SISTEMA 5.258 kWh 100 0,60432 60,43 ADICIONAL BANDEIRA VERMELHA 5.258 kWh 100 0,05983 5,98 CONTRIBUIÇÃO DE ILUMIN PÚBLICA RETENÇÃO NA FONTE - IRPJ RETENÇÃO NA FONTE - CSSL RETENÇÃO NA FONTE - PIS/PASEP RETENÇÃO NA FONTE - COFINS 0000 2,65 0000 -0,80 0000 -0,66 0000 -0,43 0000 -1,99 Subtotal Faturamento (Veja abaixo) Subtotal Outros 66,41 1,23- Após o vencimento haverá multa de 2%, juros e atualização de IGP-M, cobrados em conta posterior (Res. ANEEL n° 414 de 09/09/10 e Lei 10.762 de 11/11/2003) Valor da Energia Valor da Transmissão Valor da Distribuição ICMS R$ 19% Total da Nota Fiscal R$ Base de Cálculo Alíquota Valor (já incluído no preço) 30,14 1,42 10,44 66,41 19% ********* *66,41 Encargos Setoriais 7,93 Tributos Total 12,63 16,48 66,41 VENCIMENTO TOTAL A PAGAR R$ PIS alíquota COFINS alíquota 4,760% 22/10/2015 ** ****** 1,030% 65,18 R$ 0,68 R$ 3,15 Valores já incluídos no preço (PIS - Lei 10.637/02 / COFINS - Lei 10.833/03 / REH ANEEL vigente) 117 OUT14 NOV14 91 Tarifas em R$/kWh (sem impostos) 82 DEZ14 JAN15 106 TUSD +TE FEV15 69 BANDEIRAS TARIFÁRIAS 0,45451 0,47951 0,49951 Bandeira Verde 91 MAR15 Bandeira Amarela ABR15 75 X X P OUTUBRO 2015 - BANDEIRA VERMELHA Bandeira Vermelha MAI15 108 JUN15 78 X XP SETEMBRO 2015 - BANDEIRA VERMELHA JUL15 84 AGO15 103 SET15 104 OUT15 95 TE - Tarifa de Energia e TUSD - Tarifa de Uso do Sistema de Distribuição. MIN DEFESA COMDO AERONAUTICA CONTA EM DÉBITO AUTOMÁTICO BANCO SANTANDER S.A. VENCIMENTO TOTAL A PAGAR CÓDIGO DO CLIENTE 22/10/2015 *********65,18 20003992 OUT/2015 01 B01 585 21 0428 Autenticação Mecânica 83670000000.0.65180053107.1.65273421200.2.30000792003.0 CONSUMO '], [\"CNPJ: 33.000. 118/0002F0 - INSC. ESTADUAL: 080.248.84-5 TELEMAR NORTE LESTE S/A CNPJ: 33.000. 118/0002-50 - INSC. ESTADUAL: 080.248.84-5 RUA CASSIANO ANTONIO MORAES,60 - VÍTORÍA - ÉS CEP: 29060-525 MATRIZ CNPJ: 33.000. 118/0001-79 PAG. : 1/5 oi LULLUULULLUL.U CORRETORA DE SEGUROS MTE ALVARO LTDA ME AV ELDES SCHERRER SOUZA, 44 PQE R LARANJEIRAS 29165-680 CARAPINA-ES Referência MAIO /2015 AO LADO DO CHAVES IMOVEIS Telefone Vencimento Total a pagar ( 27) 180-5828 01/06/2015 R$ 91,68 Resumo da sua fatura OI FIXO. .. R$ 71,97 .. 0I FIXO 71,97 PACOTE DE MINUTOS FIXO-FIXO LOCAL PACOTE DE MINUTOS FIXO-MOVEL LOCAL EXCEDENTES, OUTROS SERVICOS E TAXAS R$ 19,71 LIGACOES FIXO-MOVEL 0,38 SERVICOS OUTRAS PRESTADORAS E DE TERCEIROS 7,90 OUTROS VALORES 11,43 A partir de 31 de maio de 2015, os números celulares dos DDDS 81, 82, 83, 84, 85,86, 87, 88 e 89 passarão a ter 9 dígitos. Será acrescentado o dígito '9' antes do número atual, passando ao formato: (DDD)9xxxx-XXXX. Mais informações em www.oi.com.br/9digito. TELEMAR NORTE LESTE S/A CNPJ: 33.000. 118/0002-50 - INSC. ESTADUAL: 080.248.84-5 RUA CASSIANO ANTONIO MORAES, 60 - VITORIA - ES CEP: 29050-525 MATRIZ CNPJ: 33.000.118/000i-79 CORRETORA DE SEGUROS MTE ALVARO LTDA ME oi FIXO TELEFONE/CONTRATO: 1805828 CJO SU 1 CONTA 05/2015 LOCAL 8663 DV 8 84620000000-4 91680024010-0 28086630018-7 05828011505-4 FATURA N.: 1800072702973 VENCIMENTO: 01/06/2015 VALOR A PAGAR RS 91,68 CÓDIGO PARA DĖBITO AUTOMÁTICO: 131800415923 \"], ['NOTA FISCAL/CONTA DE FORNECIMENTO DE ÁGUA E COLETA DE ESGOTO Regime especial Processo n° E-04/278370/12 - N° 2340667910816 CONCESSÃO DE SERVICOS DE ESGOTO foz NOVA DATA DE EMISSÃO: 04/08/2016 Águas do Brasil CEDAE ZONA OESTE - RIO DE JANEIRO MEDIÇÃO VENCIMENTO LEVANDO QUALIDADE DE VIDA PARA VOCÊ MAIS SAÚDE PARA VOCÊ MAIS CUIDADO COM O MEIO AMBIENTE COMPANHIA ESTADUAL DE ÁGUAS E ESGOTOS - CEDAE CNPJ: 33.352.394/0001-04 I Inscr. Estadual - 84.780.707 Av. Presidente Vargas, 2.655 - Centro - Rio de Janeiro - RJ NOME / CPF-CNPJ 00394429011730 PREF AERONAUTICA DOS AFONSOS Agosto/2016 17/08/2016 ORIGEM MATRÍCULA 1- 15 2340667-9 ENDEREÇO DA LIGAÇÃO RUA PACIFICO PEREIRA, 1 BL 5 - JARDIM SULACAP ROTEIRO 0217801705170 LEITURA ANTERIOR LEITURA ATUAL N° DE DIAS VOLUME FAT.M³ VOLUME APURADO M/DIA 04/07/2016 02/08/2016 | | | | | | 5678 5764 29 87 2.9655 PRÓXIMA LEITURA HIDRÔMETRO TIPO DE FATURAMENTO VOLUME MÉDIO M3/DIA | 31/08/2016 | C10S015920 CONS. APURADO 3.0 | ECONOMIAS POR CATEGORIA PERCENTUAL DE FAT.% SUBCATEGORIA DOM COM IND PUB DOM COM IND PUB 6 0 0 0 | 100 0 0 0 | COMUM FAIXA DE CONSUMO TARIFA CONSUMO VALOR LANÇAMENTOS VALOR R$ R$ FATURADO R$ 0.0-15.0 2,31 87,0 201,66 AGUA DOMICILIAR 201,66 RECURSOS HIDRICOS 0,60 TAXA DE REGULAÇÃO 1,00 ESGOTO DOMICILIAR 187,74 TOTAL CONTA TOTAL A PAGAR 391,00 | 391,00 Val Aprox dos Tributos R$0.0 (0.0%) conforme Lei 12.741/12. BASE DE CÁLCULO ICMS ALÍQUOTA % VALOR INCL. PREÇO/ÁGUA 0,00 18 0,00 Segunda Via MENSAGEM IMPORTANTE ¿De acordo com a lei federal 12.741 de 08/12/2012, a concessionária informa a carga tributária aproximada incidente sobre o valor dos serviços: PIS/COFINS(9,25%). ¿ SISTEMA: Guandu/RJ Ref : 08/16 Padrão da Val Médios Detectados Portaria MS 518/04 Nro Amostras Exig 194 Realiz 35 Cor Aparente 15 UH(max) 6 A 9.5 (1) 5 UT(max) 0.2 A 2.0 MG/L AUSENTE (3) PH Turbidez Cloro Residual 1,9 1,8 35 194 724 694 724 Coliformes Totais Colif. (1)Apenas recomendacao (2)Numero de amostras positivas (3)Sistemas que analisam 40 ou mais amostras/mes, ausencia em 95% das amostras examinadas. Sistemas que analisam menos de 40 amostras/mes, apenas uma amostra podera apresentar resultado positivo 694 724 45 35 1 AUSENTE SAC - Foz Águas 5: 0800 025 0005 I www.fozaguas5.com.br - CEDAE 195 ou 0800 28 21 195 I www.cedae.com.br CONCESSÃO DE SERVIÇOS DE ESGOTO COMPANHIA ESTADUAL DE ÁGUAS E ESGOTOS - CEDAE CNPJ: 33.352.394/0001-04 I Inscr. Estadual - 84.780.707 Av. Presidente Vargas, 2.655 - Centro - Rio de Janeiro - RJ F. AB. ZONA OESTE S.A. I CNPJ: 14.863.079/0001-99 Rua Doze de Fevereiro, 103 - Bangu - Rio de Janeiro-RJ foz NOVA CEDAE Águas do Brasil ZONA OESTE - RIO DE JANEIRO MAIS SAÚDE PARA VOCÊ MAIS CUIDADO COM O MEIO AMBIENTE LEVANDO QUALIDADE DE VIDA PARA VOCÊ CONTROLE DA CEDAE E DA FOZ ÁGUAS 5 MATRÍCULA MEDIÇÃO ORIGEM | | Agosto/2016 1- 15 | 2340667-9 VENCIMENTO TOTAL A PAGAR 17/08/2016 | 391,00 CONCESSÃO DE SERVIÇOS DE ESGOTO NOVA CEDAE foz Grup Águas do Brasil ZONA OESTE - RIO DE JANEIRO 826600000036 910013332341 066790816111 516081700002 ÚLTIMÓS CONSUMOS M3 /DIA '], ['NOTA FISCAL/CONTA DE FORNECIMENTO DE ÁGUA E COLETA DE ESGOTO Regime especial Processo n° E-04/278370/12 - N° 2340667910516 CONCESSÃO DE SERVICOS DE ESGOTO foz NOVA DATA DE EMISSÃO: 05/05/2016 Águas do Brasil CEDAE ZONA OESTE - RIO DE JANEIRO MEDIÇÃO VENCIMENTO LEVANDO QUALIDADE DE VIDA PARA VOCÊ MAIS SAÚDE PARA VOCÊ MAIS CUIDADO COM O MEIO AMBIENTE COMPANHIA ESTADUAL DE ÁGUAS E ESGOTOS - CEDAE CNPJ: 33.352.394/0001-04 I Inscr. Estadual - 84.780.707 Av. Presidente Vargas, 2.655 - Centro - Rio de Janeiro - RJ NOME / CPF-CNPJ 00394429011730 PREF AERONAUTICA DOS AFONSOS Maio/2016 19/05/2016 ORIGEM MATRÍCULA 1- 54 2340667-9 ENDEREÇO DA LIGAÇÃO RUA PACIFICO PEREIRA, 1 BL 5 - JARDIM SULACAP ROTEIRO 0217801705170 LEITURA ANTERIOR LEITURA ATUAL N° DE DIAS VOLUME FAT.M³ VOLUME APURADO M/DIA 04/04/2016 04/05/2016 | | | | | | 5409 5498 30 90 2.9666 PRÓXIMA LEITURA HIDRÔMETRO TIPO DE FATURAMENTO VOLUME MÉDIO M3/DIA | 03/06/2016 | C10S015920 CONS. APURADO 3.0 | ECONOMIAS POR CATEGORIA PERCENTUAL DE FAT.% SUBCATEGORIA DOM COM IND PUB DOM COM IND PUB 6 0 0 0 | 100 0 0 0 | COMUM | FAIXA DE CONSUMO TARIFA CONSUMO VALOR LANÇAMENTOS VALOR R$ R$ FATURADO R$ 0.0-15.0 2,31 90,0 208,62 AGUA DOMICILIAR 208,62 1,08 1,04 194,22 RECURSOS HIDRICOS TAXA DE REGULAÇÃO ESGOTO DOMICILIAR TOTAL CONTA TOTAL A PAGAR 404,96 404,96 Val Aprox dos Tributos R$0.0 (0.0%) conforme Lei 12.741/12. BASE DE CÁLCULO ICMS ALÍQUOTA % VALOR INCL. PREÇO/ÁGUA 0,00 18 0,00 Segunda Via MENSAGEM IMPORTANTE \"De acordo com a lei federal 12.741 de 08/12/2012, a concessionária informa carga tributária sobre o valor dos serviços: PIS/COFINS (9,25%).\" SISTEMA: Guandu/RJ Ref : 05/16 Padrão da Val Médios Detectados Portaria MS 518/04 Nro Amostras Exig 194 Realiz 35 Cor Aparente 15 UH(max) 6 A 9.5 (1) 5 UT(max) 0.2 A 2.0 MG/L AUSENTE (3) PH Turbidez Cloro Residual 1,9 1,8 35 194 724 694 724 Coliformes Totais Colif. (1)Apenas recomendacao (2)Numero de amostras positivas (3)Sistemas que analisam 40 ou mais amostras/mes, ausencia em 95% das amostras examinadas. Sistemas que analisam menos de 40 amostras/mes, apenas uma amostra podera apresentar resultado positivo 694 724 45 35 1 AUSENTE SAC - Foz Águas 5: 0800 025 0005 I www.fozaguas5.com.br - CEDAE 195 ou 0800 28 21 195 I www.cedae.com.br CONCESSÃO DE SERVIÇOS DE ESGOTO COMPANHIA ESTADUAL DE ÁGUAS E ESGOTOS - CEDAE CNPJ: 33.352.394/0001-04 I Inscr. Estadual - 84.780.707 Av. Presidente Vargas, 2.655 - Centro - Rio de Janeiro - RJ F. AB. ZONA OESTE S.A. I CNPJ: 14.863.079/0001-99 Rua Doze de Fevereiro, 103 - Bangu - Rio de Janeiro-RJ foz NOVA CEDAE Águas do Brasil ZONA OESTE - RIO DE JANEIRO MAIS SAÚDE PARA VOCÊ MAIS CUIDADO COM O MEIO AMBIENTE LEVANDO QUALIDADE DE VIDA PARA VOCÊ CONTROLE DA CEDAE E DA FOZ ÁGUAS 5 MATRÍCULA MEDIÇÃO ORIGEM | 2340667-9 | Maio/2016 1- 54 | VENCIMENTO TOTAL A PAGAR 19/05/2016 | 404,96 CONCESSÃO DE SERVIÇOS DE ESGOTO NOVA CEDAE foz Grup Águas do Brasil ZONA OESTE - RIO DE JANEIRO 826000000040 049613332342 066790516158 416051900007 ÚLTIMOS CONSUMOS M3 /DIA '], ['Oi S.A. Av. Madre Benvenuta, 2080 - BAIRRO SANTA MONICA CEP 88036-500 - Florianópolis – sc CNPJ Matriz :76.535.764/0001-43 Fatura de Serviços de Telecomunicações oi CNPJ: 76.535.764/0322-66 L.E: 25.042.764-8 CELSO ROMERO R ARTHUR JOAO LARA 0428E MARIA GORETTI 89801-479 CHAPECO - SC Oi, CELSO. Referência Só na Oi você tem Móvel, Banda Larga, Fixo, DDD e muito mais. E você só tem a ganhar: você aproveita todos os seus beneficios como cliente Oi e, em breve, muitas novidades ainda vêm por aí. FEVEREIRO/2018 Quer saber mais? Acesse www.oi.com.br ou ligue pra 103 14 COMUNICADO IMPORTANTE: Agora voce tem um site completo para resolver sua vida online. Gráficos de consumo, 2. via de contas, ofertas e muito mais. Acesse www.oi.com.br e confira a Minha Oi! Telefone Vencimento Total a pagar 48 F676 1408 27/02/2018 R$ 98,94 Resumo da sua fatura OI FIXO OI FIXO R$ 58,37 39,23 PACOTE DE MINUTOS FIXO-FIXO LOCAL PACOTE DE MINUTOS FIXO-MOVEL LOCAL PACOTE DE MINUTOS LONGA DISTANCIA COM 14 SERVICOS DIGITAIS OUTROS PACOTES E SERVICOS MENSAIS 19,14 @ OI VELOX R$ 40,57 OFERTA VELOX E SERVICOS DE BANDA LARGA ASSINATURA VELOX 40,57 ANTIVIRUS + BACKUP + EDUCA EXCEDENTES, OUTROS SERVICOS E TAXAS R$ 0,00 LIGACOES FIXO-FIXO 0,00 GANHE R$10 DE DESCONTO NOS PRÓXIMOS 3 MESES. CADASTRE SUA CONTA NO DÉBITO AUTOMÁTICO EM CONTA www.oi.com.br/MinhaOi CÓDIGO MINHA OI CORRENTE. Você não se preocupa mais com atrasos no recebimento e no pagamento da sua fatura. E ainda continua recebendo, em casa, o detalhamento impresso da sua conta. Cadastre-se na Minha Oi e consulte saldo, conta detalhada, histórico de consumo e muito mais. 7001821706 Faça o cadastro da sua fatura pela Minha Oi ou pelo telefone 103 14. Para mais informações, acesse www.oi.com.br/oi/oi-pra-voce/minha-oi/debito-automatico. Válida para todas as instituições financeiras - Para os bancos Bradesco, Banco do Brasil, Caixa Econômica, Banrisul ou Itaú, a adesão pode ser diretamente com a Oi ou através do seu banco. Para os demais, entre em contato com o seu banco/instituição financeira e solicite o seu cadastro. Oi S.A. Av. Madre Benvenuta, 2080 - BAIRRO SANTA MONICA CEP 88036-500 - Florianópolis – SC CNPJ Matriz :76.535.764/0001-43 CELSO ROMERO Número do Telefone: 48 F676 1408 Número da Fatura: 1802.000388723 oi FIXO CNPJ: 76.535.764/0322-66 IE: 25.042.764-8 Sequencial: 700182170 201802 01169 Contrato Agrupador: 700.182.170-6 - 1a Via 84620000000 4 98940027700 4 18217020180 6 20116900000 1 Data de Vencimento: 27/02/2018 Valor a pagar: 98,94 N° Identificador para Débito Automático: 700.182.170-6 '], ['WILSON DIAS DE SOUSA FILHO Código Vencimento: Valor: 05/07/2016 NET R EUNICE VIRGINIA RAMOS NAVERO 00310 CASA 5 PARQUE ALTO TAQUARAL 052/010944821 456,09 CAMPINAS SP CPF/CNPJ Forma de Pagamento: O MUNDO É DOS NETS 644.681.946-34 débito automático PARA 2° VIA DA FATURA, DÉBITO AUTOMÁTICO E DÚVIDAS, ACESSE WWW.NETCOMBO.COM.BR 001/004 total Importante: Minha NET: descrição NET TV 295,00 Mantenha seu e-mail e telefones sempre atualizados. Acesse net.com.br, opções Minha NET > Minha Assinatura. Atenção: o cancelamento de seus serviços NET, durante o período de permanência mínima, estará sujeito à cobrança de multa contratual. CBO NET TOP HD MAX CINEMA FUT FID NET Virtua 119,90 COMBO VIRTUA 60 MEGA FID NET Fone 41,19 FONE ILIM LOCAL Valor Total 456,09 @ NET TV Mensalidade NET TV 01/06/16 A 30/06/16 MENSALIDADE TV PRINCIPAL SELEÇÃO CBO NET TOP HD MAX 295,00 CINEMA FUT FID Sub-Total Mensalidade NET TV 295,00 Total NET TV 295,00 NET VIRTUA Mensalidade NET VIRTUA 01/06/16 A 30/06/16 MENSALIDADE VIRTUA COMBO VIRTUA 60 MEGA FID 119,90 Sub-Total Mensalidade NET VÍRTUA 119,90 Total NET VIRTUA 119,90 ONET Fone DURAÇÃO LIGAÇÕES LOCAIS Oh10m18s 1,31 LIGAÇÕES LOCAIS ENTRE NETFONES Oh06m00s 0,00 ASSINATURA 39,88 Total NET Fone 41,19 -Para atendimento presencial consulte os endereços no site net.com.br - Evite o desligamento de seu sinal efetuando o pagamento até a data do vencimento. NET filiada ao Serasa/SCPC. 0,033% e multa de 2%. - Caso existam serviços prestados e não cobrados, esses serão inclusos nas suas próximas faturas. Deficiente Auditivo e de Fala ligue 0800 721 7707 - É preciso realizar a ligação com um telefone adaptado com dispositivo TDD (Dispositivo de Telecomunicações para surdos). Ligue 4004-7777 para atendimento técnico, financeiro e compra de serviços (custo de ligação local). Ligue 10621 para informações, reclamações ou cancelamentos (ligação gratuita). Ouvidoria 08007010180 Últimos Registros de Atendimento ! 052161301861248, 052161227655088, 052161227653927, 052151130853524, - Para pagamentos após o vencimento serão cobrados juros diários de 052151130853508 Autenticação Mecânica EXTRATO PARA SIMPLES CONFERÊNCIA DÉBITO AUTORIZADO ATENÇÃO! ESTE EXTRATOÉ APENAS INFORMATIVO. CASO NÃO OCORRA O DÉBITO EM SUA CONTA CORRENTE, DIRIJA-SE A UM DOS BANCOS CONVENIADOS ABAIXO OU ACESSE NET.COM.BR MINHA NET-FATURA-FATURA NET PARA EFETUAR O PAGAMENTO Atenção efetue seus pagamentos nos bancos conveniados a seguir: BANCO BRADESCO S.A., BANCO COOPERATIVO DO BRASIL SA, BANCO COOPERATIVO SICREDI S/A, BANCO DE BRASILIA SA., BANCO DO BRASIL S.A., BANCO DO ESTADO DO PARA, BANCO ITAU S.A., BANCO MERCANTIL DO BRASIL S.A., BANCO SAFRA S/A, BANCO SANTANDER, BANESE, BANRISUL, CAIXA ECONOMICA FEDERAL, CITIBANK, CPFL, HSBC BANK BRASIL S.A. Cliente Identificação para Débito Mês Referência Vencimento Valor WILSON DIAS DE SOUSA FILHO NET SERVICOS 0520109448219 Junho/2016 05/07/2016 456,09 84600000004-8 56090296201-1 60705052000-8 00097524071-4 '], ['vivo Telefônica Brasil S.A Sua Conta Vivo Fixo Rua Mariniano de Carvalho, 851 - Bela Vista São Paulo/SP - Cep01321-001 Inscrição Estadual 108.383.949.112 2* Via CNPJMF: 02.558.157/0001-62 http://www.telefonica.com.br Local Telefone DV Emissão Regime Especial Proc. DRT 1-14397-90 7 07/10/2016 NRC Uso 08954878707 Residência Total da Fatura Vencimento Més Cliente 89.90 06/10/20 16 09/16 DAVID BRUNO DA SILVA DANIEL SERVIÇOS Outros servicos VALOR (R$) 89.90 2° via Central de Atendimento a Clientes: 103 15 Total a pagar 89.90 ICMS: Base de Cálculo: 0.00 Aliquota: 0.00 Valor do 1CMS: 0.00 Importante: Pagando sua conta em dia, vocé evita multa de 2% e juros de 1% ao més. Para realizar igações de longa distăncia, consulte os Códigos das Prestadoras: 12-CTBC 15-VIVO 17-TRANSIT 18-SPIN TELECOM 19-ÉPSILON 21- EMBRATEL 23-INTELIG 24-DIALDATA 25-GVT 26-IDT 29 T-LESTE 31-TELEMAR 32-CONVERGIA 34-ETML 35-EASYTONE 36-DSI VOX 38-TESA 41-TIM 42-GT GROUP 45-GLOBAL CROSSING 46-HOJE TELECOM 47-BT COMUNICATIONS 49-CAMBRIDGE 57-ITACEU 58-VOITEL 61-NEXUS 62-OTS OPTION 63-HELLO BRAZIL 65-TELECOM 65 67-E-1 72-LOCAWEB 73-PLUMIUM 75-VIPWAY 76-SMART VOIP81-DATORA TELECOM 85- AMERICA NET 89-KONECTA 91-IP CORP TELECOM 96-AMIGO TELECOM 98-ALPHA NOBILIS. ANATEL 1331e 1332 para Deliciertes audiivos. Recurso de atendimento VIVO igue com o protocolo em mãos para 103 15 e 142 para deficientes audiivos. Recibo só será válido com autenticação ou apresentação do extrato bancário Tele fonica Brasil S.A. Telefone Mês DV Compleme nto Local vivo 11550 1031 83760 09/16 1752 6840 2° VIA DO Total da Fatura 89.90 DV Vencimento DEMONSTRATIVO DE DESPESAS DOCUMENTO PARA PAGAMENTO 7 06/10/2016 IPTE 234 1029 6280 1155 0103 1837 6000 Internet Não rasure ou perfure este documento, pois se á utilizado no processamento Auterticação do Agente Autorizado. Não vale como recibo 846400000002 899010290455 303270012014 609289999995 '], ['I Imagem Segunda Via de Conta vivo N° da Conta 023123428 Me de redrnos 122014 Periodo 11n014 012/2014 Data do anicato O01a2014 www.vivo.com.br/meuvivo Fale onosc Cantral de Raloonomento \"8406 cu V o.com butaleconosco Telelarica Brasil SA Av. Nossa Sentan da Perl, 275 - Pgrle A CEP 29066-22- Wera- ES LE: 082 182710 CIPJ Metsz 0 5a 157.0001 82 CIPJF 02568 1570003 24 Voce PEDRO HENRIQUE MILAGRE RUA GRIPINA SIMONATO SPADETO, 172 PEDRO RIGO 29370-000 CONCEICAO DO CASTELO- ES Vencimento 17/12/2014 Total a Pagar - R$ 41,90 Vivo Valoriza Saldo de pentos acumulados Na data de Seldo rolerente a conta 023123M28 no Vivo Valoniza Para sekdo atual, envie SMS Seus Números Vivo 28-99955-3076 28/11/14 Cano voco kerha mas inhas, consulle o detahamento da sua conta com a palava SALDO para 8011 O que esta sendo cobrado Qani cade de Quanidade de Plano/Pacote Nimeros Vivo Vakar RS PenoPaccie Induso PlanoPacote Ulizado MinutosUnidedes Yalor Tetal R$ Serviços Contratados VIVO MÓVEL FLANO SMARTVVO CONTROLE 2SOMB Serviços Telefonica Erasl 41 90 4190 41 90 Subtotal 41,90 Co! TOTAL A PAGAR 41,90 MENSAGEM IMPORTANTE PARA VOCÊ *Conhege una nove nanka de cbtr o andnanto doe sus Produtos de Seguros Ligue 0800570P041, do segunda aota, das as 20hs para Canouianens homagoas Sinistoe Duvidas dos produas oontatados Mapte Conta Piotegida cu apte Protegdo Residardial fembos da paroeria orada especialmente pra vood ente Magte e Vve *Descde 02 de Novemtre de 2014 fai irduidoo tumeo 9 a terta dos cdulares dos DCOs 91. 2 93. 94 6, 96, 97, S6 e99. passando ao lmab: CODSoca o Maisinfomaçoes em www.vo.com.br9k Mantenha o pagamento em dia e evte a suspensao parcialctal dos servpos e a ncusio nes orplos de prote çao do credo Para pagamentos apOs o venamento serlo cobrados encargos de 2% e pros de 1% so més em conta lutura vivo Vendimento Tolal a Pegar - R$ Nome de Clente PEDRO HENRIQUE MILAGRE 17/12/2014 41,90 Cód Debto Aukemáto 0231239428-0 N°da Conta 0231239428 Mis Rekrinaa 12/2014 846000000005 419000600017 102312394285 121451412179 Aukntcapo Mecinca AT Imprimir '], ['Fatura de Serviços de Telecomunicações Página 000001 de 000004 oi FIXO OI S.A Travessa Teixeira de Freitas, 75- Merces CEP 80410-040 - Curitiba - PR CNPJ Matriz : 76.535.764/0001-43 CNPJ: 76.535.764/0321-85 LE: 90.206.136-34 II.llLLL..lLLU EMILSON RICHARD WERNER R DILERMANDO PEREIRA ALMEIDA 00039 SB4 PINHEIRINHO 81870-070 CURITIBA - PR Referência JANEIRO/2017 Telefone Vencimento Total a pagar (41) 3564 6159 09/01/2017 R$ 103,37 Resumo da sua fatura R$ 35,49 OI FIXO OI FIXO 35,49 PACOTE DE MINUTOS FIXO-FIXO LOCAL PACOTE DE MINUTOS FIXO-MOVEL LOCAL PACOTE DE MINUTOS LONGA DISTANCIA COM 14 SERVICOS DIGITAIS R$ 42,76 OI VELOX OFERTA VELOX E SERVICOS DE BANDA LARGA ...... 42,76 ASSINATURA VELOX + 1@ EXCEDENTES, OUTROS SERVICOS E TAXAS .. R$ 25,12 LIGACOES FIXO-FIXO 0,00 1,12 24,00 LIGACOES FIXO-MOVEL SERVICOS OUTRAS PRESTADORAS E TERCEIROS GANHE R$10 DE DESCONTO NOS PRÓXIMOS 3 MESES. CADASTRE SUA CONTA NO DÉBITO AUTOMÁTICO EM CONTA CORRENTE. Você não se preocupa mais com atrasos no recebimento e no pagamento da sua fatura. E ainda continua recebendo, em casa, o detalhamento impresso da sua conta. Faça o cadastro da sua fatura pela Minha Oi ou pelo telefone 103 14. Para mais informações, acesse www.oi.com.br/oi/oi-pra-voce/minha-oi/debito-automatico Valida para todas as instituições financeiras - Para os bancos Bradesco, Banco do Brasil, Caixa Econdemica, Banrisul ou Itaú, a adesio pode ser OI S.A. Travessa Texeira de Freitas, 75 - Mercés CEP 80410-040 - Curitiba - PR CNPJ Matriz : 76.535.764/0001-43 CNPJ: EMILSON RICHARD WERNER Número do Telefone: 41 3564 6159 FIXO 76.535.764/0321-85 L.E: 90.206.136-34 Número da Fatura: 1701.000824644 Sequencial: 818804291 201701 01179 Contrato Agrupador: 818.804.291-7-1 Via IPTE: 2340 0201 0100 8149 1949 CTRL: 10100 8149 1949a Data de Vencimento 09/01/2017 84660000001 8 03370020818 5 80429120170 0 10117900000 1 Valor a pagar: 103,37 N° Identificador para Débito Automático: 818.804.291-7 '], ['Companhia Paulista de Força e Luz Rua Jorge de Figueiredo Correa, 1632 Jardim Professora Tarcília – Campinas/SP - CEP: 13087-397 Inscrição Estadual: 244.163.955.115 Inscrição no CNPJ: 33.050.196/0001-88 СPFL Uma empresa do Grupo CPFL Energia ENERGIA ARTHUR FORTES DA COSTA Nota Fiscal R HERMANTINO COELHO 255 BL 5 AP 23 Conta de Energia Elétrica MAN STO ANTONIO N°. 064357674 série C Pág. 1 de 1 13087-500 CAMPINAS SP Data de Emissão 13/03/2019 Data de Apresentação 18/03/2019 Conta Contrato No 310091689739 Lote Roteiro de leitura Medidor Cliente Reservado ao fisco 07 CAMBUD49-00000853 215857038 0711530431 0930.5F9D.7E31.A7B9.3E7C.A708.0F11.3BA8 PREZADO (A) CLIENTE Mantenha seus dados sempre atualizados, alguns itens determinam a tarifa e tributação de sua fatura de energia elétrica. Solicite os serviços disponíveis em nosso site com rapidez e segurança e reserve mais tempo para você em seu dia-a-dia. Mais informações acesse o endereço que consta no verso de sua conta. DADOS DA UNIDADE CONSUMIDORA ARTHUR FORTES DA COSTA R HERMANTINO COELHO, 255 BL 5 AP 23 MAN STO ANTONIO CAMPINAS - SP CPF:021.251.723-64 Classificação: Convencional B1 Residencial - Bifásico 220 / 127 V SEU CÓDIGO 8866562 CONTA/MÊS MAR/2019 ATENDIMENTO PN VENCIMENTO TOTAL A PAGAR (R$) 0800 010 1010 0711530431 08/04/2019 125,07 www.cpfl.com.br DISCRIMINAÇÃO DA OPERAÇÃO - RESERVADO AO FISCO Cod. Descrição da Operação Mês Quant. Unid. Base Cálculo Aliq. PIS COFINS Bandeiras Tarifa com Valor Total da ICMS Base Cálculo 115 N° 900802415531 Оperaҫӑo 2,99% Tarifárias Ref. Fa Med. Tributos ICMS ICMS PIS/COFINS 0,64% 0605 Consumo Uso Sistema [KWh]-TUSD MAR/19 183,000 kWh 0,24573771 44,97 44,97 12,00 5,40 44,97 0,29 1,34 Verde 17 Dias 0601 Consumo - TE MAR/19 183,000 kWh 0,32857924 60,13 60,13 12,00 7,22 60,13 0,38 1,80 Verde 0804 Juros de Mora FEV/19 0,20 13 Dias 0805 Multa por Atraso Pgto JAN/19 2,29 0805 Multa por Atraso Pgto FEV/19 2,25 0805 Atualização Monetária FEV/19 0,09 0805 Atualiz. Monet. de CIP JAN/19 0,01 Total Distribuidora 109,94 DÉBITOS DE OUTROS SERVIÇOS 0807 Contrib. Custeio IP-CIP Municipal MAR/19 15,13 TOTAL CONSOLIDADO 125,07 105,10 12,62 105,10 0,67 3,14 HISTÓRICO DE CONSUMO kWh Dias TARIFA ANEEL EQUIPAMENTOS DE MEDIÇÃO / DATAS DE LEITURA Consumo TUSD TE Leitura Leitura Fator Consumo Taxa de Perda Leitura 2019 MAR 183 30 Consumo kWh 0,20737000 0,27726000 N° Energia 13/03/2019 11/02/2019 Multipl. [kWh] [%] Próximo Mês FEV 194 28 215857038 ATIVA 9930 9747 1,00 183 11/04/2019 JAN 196 32 2018 DEZ 184 31 NOV 63 INDICADORES DE CONTINUIDADE DE FORNECIMENTO DE ENERGIA Para consulta dos indicadores acesse nosso site www.cpfl.com.br INFORMAÇÕES SOBRE A FATURA AVISO IMPORTANTE A partir de 01.01.2020 todos os clientes têm direito a optar pela tarifa branca, saiba mais: www.cpfl.com.br/tarifabranca CódDébAut-Banco 310091689739 Total a Pagar (R$) Data de Vencimento 125,07 Nota Fiscal 08/04/2019 Conta de Energia Elétrica 064357674 Série C Essa conta poderá ser paga no credenciado mais perto de você. Confira a lista completa no site www.cpfl.com.br Loja 2189 - LC-PE M BERNARDES CAMP DROGARIA DOM PEDRO CAMPINAS O MATUTO cpfl paulista R PADRE MANUEL BERNARDES 971 - TAQUARAL AV GUILHERME CAMPOS LJ. 30A 500 - JARDIM SANTA GENEBRA RUA LUIZ OTAVIO, 651 - PARQUE TAQUARAL 836200000013 250700403000 537113457031 100916897398 Autenticação Mecânica 32 '], ['LIGHT SERVIÇOS DE ELETRICIDADE SA AV. MAL. FLORIANO 168 RIO DE JANEIRO RJ CEP 20080-002 CNPJ 60.444.437/0001-46 INSC. ESTADUAL 81380.023 INSC. MUNICIPAL 00794678 Nota Fiscal - Serie O5 no. 611533 Conta de Energia Eletrica RE Proc. E-04/079/5663/2016-IFE-03 SEPD 08-2005/0006384-9 Light CÓDIGO DO CLIENTE CÓDIGO DA INSTALAÇÃO Classe / Subclasse: Residencial/Residencial Comum 20515186 412434333 Ref. Bancária Ref: Mês / Ano Grupo: B Subgrupo: B1 010011893764 AGO/2019 DATA DA EMISSÃO: 12/08/2019 Medidor: Bifasico N°: 5963383 ERICK ALESSANDRO GONCALVES DOS SANTOS R CARENA 111 BL1 AP 1111 ANDARAI / RIO DE JANEIRO - RJ DATA PREVISTA DA PRÓXIMA LEITURA:11/09/2019 Tensão nominal em volts Disponívek27/220 Limites mín.:117/202 V Limites máx.133/231 V CEP 20540-004 RESERVADO AO FISCO: 4B46.11E9.935A.3FEF.0CE4.AE3B.DFCA.10F8 '], ['SEGUNDA VIA Light, sempre com você, 24 horas! Informações sobre condições gerais de fornecimento, tarifas, produtos, serviços e tributos? Faltou luz? Envie SMS com o Código da Instalação para o nº 54448. 01 B01 585 21 0428 MIN DEFESA COMDO AERONAUTICA R PACIFICO PEREIRA 1 BL5 SV EF.N°114 JD SULACAP / RIO DE JANEIRO - RJ 21741-160 00001 Z002 000002 Disque-Light Emergência: 0800 021 0196 Emergência Grandes Clientes: 0800 282 1380 Agência Virtual: www.light.com.br Disque-Light Comercial: 0800 282 0120 Deficientes auditivos e de fala: 0800 285 2453 Ouvidoria: 0800 284 0182 (Dias úteis: 8h às 18h) Agências Comerciais Agência Nacional de Energia Elétrica - ANEEL: 167 Ligação gratuita de telefones fixos e móveis. Se você ainda não possui sua conta da Light em Débito Automático, faça a adesão na sua agência bancária, na Agência Virtual (www.light.com.br), no Disque-Light (0800 282 0120) ou nas agências da Light e fique despreocupado! Classe / Subclasse Faltou luz? Light Já! PODER PÚBLICO / PODER PÚBLICO FEDERAL Envie SMS apenas com o Código da Instalação para o n° 54448. Pronto. Agora, é só aguardar o retorno da sua luz. Medidor TRIFÁSICO | N°: 7324409 Serviço de atendimento automático, limitado a 2 SMS por dia, por celular. Disponível para as operadoras Claro, Oi, Vivo, Tim e Nextel. Ref: Mês / Ano Referência Bancária Número da Fatura JUN/2016 030000792003 540403426071 Reservado ao Fisco 41E9.B101.12D8.0E79.4863.1536.BE00.9C9D SEGUNDA VIA Nota Fiscal - Série 01 no.198305 Conta de Energia Elétrica RE PROC. E-04/053.359/09 - IFE 03 SEPD - Autorização n.08-2005/0006384-9 DATA PREVISTA DA PRÓXIMA LEITURA 01/07/2016 TENSÃO NOMINAL EM VOLTS Disponível: 220/127 Light LIGHT SERVIÇOS DE ELETRICIDADE SA AV. MAL. FLORIANO 168 RIO DE JANEIRO RJ CEP 20080-002 Limites mínimo: 202/117 Limites máximo: 231/133 CNPJ 60.444.437/0001-46 INSC. ESTADUAL 81380.023 INSC MUNICIPAL 00794678 INDICADORES DE QUALIDADE ENERGIA ATIVA Mês de referência: Abril/2016 ENERGIA REATIVA EXCEDENTE Medição Atual Medição Anterior Data |Const Medidor |Consumo kWh Medição Acumulada Atual |Const Medidor |Consumo kWh Conjunto: PADRE MIGUEL N° Data |Leitura |Leitura Dias |Anterior Indicadores TApurado Mensal I Meta Mensal | Meta Trimestral IMeta Anual 01/06/2016 6.463 02/05/2016 6.381 1 82 30 DIC 0,23 4,71 9,43 18,86 Data da Emissão Data de Apresentação FIC 1,00 3,11 6,22 12,45 BLOCO 5 SV - APT 101 R PACIFICO PEREIRA 1 BL5 SV EF.N°114 01/06/2016 07/06/2016 DMIC 0,23 2,60 21741-160 JD SULACAP / RIO DE JANEIRO - RJ CNPJ: 00.394.429/0117-30 DIC - Duração de interrupção individual FIC - Frequência de interrupção individual DMIC - Duração máxima de interrupção contínua DICRI - Duração da interrupção individual em dia crítico CÓDIGO DO CLIENTE CÓDIGO DA INSTALAÇÃO 20003992 0420577631 VALOR DO ENCARGO DE USO DO SISTEMA DE DISTRIBUIÇÃO: DESCRIÇÃO UNIDADE QUANT. PREÇO UNIT R$ VALOR R$ R$ 28,44 CFOP O cliente tem o direito de solicitar a qualquer tempo a apuração dos indicadores DIC, FIIC, DMIC e DICRI e também receber uma compensação, caso sejam violadas as metas de continuidade individuais – mensal, trimestral e anual- relativos à unidade consumidora de sua responsabilidade. CUSTO DISPONIBILIDADE SISTEMA 5.258 kWh 100 0,73442 73,43 CONTRIBUIÇÃO DE ILUMIN PÚBLICA RETENÇÃO NA FONTE - IRPJ RETENÇÃO NA FONTE - CSSL RETENÇÃO NA FONTE - PIS/PASEP RETENÇÃO NA FONTE - COFINS 0000 2,93 0000 -0,88 0000 -0,73 0000 -0,48 0000 -2,20 Subtotal Faturamento (Veja abaixo) Subtotal Outros 73,43 1,36- Após o vencimento haverá multa de 2%, juros e atualização de IGP-M, cobrados em conta posterior (Res. ANEEL n° 414 de 09/09/10 e Lei 10.762 de 11/11/2003) Valor da Energia Valor da Transmissão Valor da Distribuição ICMS R$ 20% Total da Nota Fiscal R$ Base de Cálculo Alíquota Valor (já incluído no preço) 29,87 1,26 11,63 73,43 ********* *73,43 20% Total Encargos Setoriais 11,60 Tributos 14,69 19,07 73,43 VENCIMENTO TOTAL A PAGAR R$ PIS alíquota *********72,07 1,060% COFINS aliquota 4,890% 21/06/2016 R$ 0,77 R$ 3,59 Valores já incluídos no preço (PIS - Lei 10.637/02 / COFINS - Lei 10.833/03 / REH ANEEL vigente) 78 JUN15 Republicação das Tarifas JUL15 84 Tarifas em R$/kWh (sem impostos) 103 AGO15 SET15 104 A ANEEL, através da Resolução n° 2.069/2016, republicou as tarifas de energia elétrica homologadas pela Resolução n° 1982/2015. TUSD +TE OUT15 95 BANDEIRAS TARIFÁRIAS 0,54385 0,55885 0,57385 Bandeira Verde NOV15 107 Bandeira Amarela DEZ15 71 X X JUNHO 2016 - BANDEIRA VERDE Bandeira Vermelha JAN16 76 FEV16 73 O impacto adicional médio sobre as tarifas de Baixa Tensão é de 0,09%, a partir de 04/05/2016. 82 X X MAIO 2016 - BANDEIRA VERDE MAR16 ABR16 92 MAI16 133 JUN16 82 TE - Tarifa de Energia e TUSD - Tarifa de Uso do Sistema de Distribuição. MIN DEFESA COMDO AERONAUTICA CONTA EM DÉBITO AUTOMÁTICO BANCO SANTANDER S.A. VENCIMENTO TOTAL A PAGAR CÓDIGO DO CLIENTE 21/06/2016 *********72,07 20003992 JUN/2016 01 B01 585 21 0428 Autenticação Mecânica 83620000000.5.72070053107.5.02302892100.7.30000792003.0 CONSUMO %3D '], ['NOTA FISCAL/CONTA DE FORNECIMENTO DE ÁGUA E COLETA DE ESGOTO Regime especial Processo n° E-04/278370/12 - N° 2340667910616 CONCESSÃO DE SERVICOS DE ESGOTO foz NOVA DATA DE EMISSÃO: 09/06/2016 Águas do Brasil CEDAE ZONA OESTE - RIO DE JANEIRO MEDIÇÃO VENCIMENTO LEVANDO QUALIDADE DE VIDA PARA VOCÊ MAIS SAÚDE PARA VOCÊ MAIS CUIDADO COM O MEIO AMBIENTE COMPANHIA ESTADUAL DE ÁGUAS E ESGOTOS - CEDAE CNPJ: 33.352.394/0001-04 I Inscr. Estadual - 84.780.707 Av. Presidente Vargas, 2.655 - Centro - Rio de Janeiro - RJ NOME / CPF-CNPJ 00394429011730 PREF AERONAUTICA DOS AFONSOS Junho/2016 18/06/2016 ORIGEM MATRÍCULA 1- 08 2340667-9 ENDEREÇO DA LIGAÇÃO RUA PACIFICO PEREIRA, 1 BL 5 - JARDIM SULACAP ROTEIRO 0217801705170 LEITURA ANTERIOR LEITURA ATUAL N° DE DIAS VOLUME FAT.M³ VOLUME APURADO M/DIA 04/05/2016 03/06/2016 | | | | | 5498 5584 30 90 2.8666 PRÓXIMA LEITURA HIDRÔMETRO TIPO DE FATURAMENTO VOLUME MÉDIO M3/DIA | 04/07/2016 | C10S015920 CONS. APURADO 3.0 | ECONOMIAS POR CATEGORIA PERCENTUAL DE FAT.% SUBCATEGORIA DOM COM IND PUB DOM COM IND PUB 6 0 0 0 | 100 0 0 0 | COMUM | FAIXA DE CONSUMO TARIFA CONSUMO VALOR LANÇAMENTOS VALOR R$ R$ FATURADO R$ 0.0-15.0 2,31 90,0 208,62 AGUA DOMICILIAR 208,62 1,08 1,04 194,22 RECURSOS HIDRICOS TAXA DE REGULAÇÃO ESGOTO DOMICILIAR TOTAL CONTA TOTAL A PAGAR 404,96 404,96 Val Aprox dos Tributos R$0.0 (0.0%) conforme Lei 12.741/12. BASE DE CÁLCULO ICMS ALÍQUOTA % VALOR INCL. PREÇO/ÁGUA 0,00 18 0,00 Segunda Via MENSAGEM IMPORTANTE \"De acordo com a lei federal 12.741 de 08/12/2012, a concessionária informa a carga tributária aproximada incidente sobre o valor dos serviços: PIS/COFINS (9,25%).\" SISTEMA: Guandu/RJ Ref : 06/16 Padrão da Val Médios Detectados Portaria MS 518/04 Nro Amostras Exig 194 Realiz 35 Cor Aparente 15 UH(max) 6 A 9.5 (1) 5 UT(max) 0.2 A 2.0 MG/L AUSENTE (3) PH Turbidez Cloro Residual 1,9 1,8 35 194 724 694 724 Coliformes Totais Colif. (1)Apenas recomendacao (2)Numero de amostras positivas (3)Sistemas que analisam 40 ou mais amostras/mes, ausencia em 95% das amostras examinadas. Sistemas que analisam menos de 40 amostras/mes, apenas uma amostra podera apresentar resultado positivo 694 724 45 35 1 AUSENTE SAC - Foz Águas 5: 0800 025 0005 I www.fozaguas5.com.br - CEDAE 195 ou 0800 28 21 195 I www.cedae.com.br CONCESSÃO DE SERVIÇOS DE ESGOTO COMPANHIA ESTADUAL DE ÁGUAS E ESGOTOS - CEDAE CNPJ: 33.352.394/0001-04 I Inscr. Estadual - 84.780.707 Av. Presidente Vargas, 2.655 - Centro - Rio de Janeiro - RJ F. AB. ZONA OESTE S.A. I CNPJ: 14.863.079/0001-99 Rua Doze de Fevereiro, 103 - Bangu - Rio de Janeiro-RJ foz NOVA CEDAE Águas do Brasil ZONA OESTE - RIO DE JANEIRO MAIS SAÚDE PARA VOCÊ MAIS CUIDADO COM O MEIO AMBIENTE LEVANDO QUALIDADE DE VIDA PARA VOCÊ CONTROLE DA CEDAE E DA FOZ ÁGUAS 5 MATRÍCULA MEDIÇÃO ORIGEM | 2340667-9 | Junho/2016 1- 08 VENCIMENTO TOTAL A PAGAR 18/06/2016 | 404,96 CONCESSÃO DE SERVIÇOS DE ESGOTO NOVA CEDAE foz Grup Águas do Brasil ZONA OESTE - RIO DE JANEIRO 826500000045 049613332342 066790616107 816061800008 ÚLTIMÓS CONSUMOS M3 /DIA '], ['SEGUNDA VIA Light, sempre com você, 24 horas! Informações sobre condições gerais de fornecimento, tarifas, produtos, serviços e tributos? Faltou luz? Envie SMS com o Código da Instalação para o nº 54448. 01 B01 585 21 0428 MIN DEFESA COMDO AERONAUTICA R PACIFICO PEREIRA 1 BL5 SV EF.N°114 JD SULACAP / RIO DE JANEIRO - RJ 21741-160 00001 Z002 000002 Disque-Light Emergência: 0800 021 0196 Emergência Grandes Clientes: 0800 282 1380 Agência Virtual: www.light.com.br Disque-Light Comercial: 0800 282 0120 Deficientes auditivos e de fala: 0800 285 2453 Ouvidoria: 0800 284 0182 (Dias úteis: 8h às 18h) Agências Comerciais Agência Nacional de Energia Elétrica - ANEEL: 167 Ligação gratuita de telefones fixos e móveis. Se você ainda não possui sua conta da Light em Débito Automático, faça a adesão na sua agência bancária, na Agência Virtual (www.light.com.br), no Disque-Light (0800 282 0120) ou nas agências da Light e fique despreocupado! Classe / Subclasse Faltou luz? Light Já! PODER PÚBLICO / PODER PÚBLICO FEDERAL Envie SMS apenas com o Código da Instalação para o n° 54448. Pronto. Agora, é só aguardar o retorno da sua luz. Medidor TRIFÁSICO | N°: 7324409 Serviço de atendimento automático, limitado a 2 SMS por dia, por celular. Disponível para as operadoras Claro, Oi, Vivo, Tim e Nextel. Ref: Mês / Ano Referência Bancária Número da Fatura JUN/2016 030000792003 540403426071 Reservado ao Fisco 41E9.B101.12D8.0E79.4863.1536.BE00.9C9D SEGUNDA VIA Nota Fiscal - Série 01 no.198305 Conta de Energia Elétrica RE PROC. E-04/053.359/09 - IFE 03 SEPD - Autorização n.08-2005/0006384-9 DATA PREVISTA DA PRÓXIMA LEITURA 01/07/2016 TENSÃO NOMINAL EM VOLTS Disponível: 220/127 Light LIGHT SERVIÇOS DE ELETRICIDADE SA AV. MAL. FLORIANO 168 RIO DE JANEIRO RJ CEP 20080-002 Limites mínimo: 202/117 Limites máximo: 231/133 CNPJ 60.444.437/0001-46 INSC. ESTADUAL 81380.023 INSC MUNICIPAL 00794678 INDICADORES DE QUALIDADE ENERGIA ATIVA Mês de referência: Abril/2016 ENERGIA REATIVA EXCEDENTE Medição Atual Medição Anterior Data |Const Medidor |Consumo kWh Medição Acumulada Atual |Const Medidor |Consumo kWh Conjunto: PADRE MIGUEL N° Data |Leitura |Leitura Dias |Anterior Indicadores TApurado Mensal I Meta Mensal | Meta Trimestral IMeta Anual 01/06/2016 6.463 02/05/2016 6.381 1 82 30 DIC 0,23 4,71 9,43 18,86 Data da Emissão Data de Apresentação FIC 1,00 3,11 6,22 12,45 BLOCO 5 SV - APT 101 R PACIFICO PEREIRA 1 BL5 SV EF.N°114 01/06/2016 07/06/2016 DMIC 0,23 2,60 21741-160 JD SULACAP / RIO DE JANEIRO - RJ CNPJ: 00.394.429/0117-30 DIC - Duração de interrupção individual FIC - Frequência de interrupção individual DMIC - Duração máxima de interrupção contínua DICRI - Duração da interrupção individual em dia crítico CÓDIGO DO CLIENTE CÓDIGO DA INSTALAÇÃO 20003992 0420577631 VALOR DO ENCARGO DE USO DO SISTEMA DE DISTRIBUIÇÃO: DESCRIÇÃO UNIDADE QUANT. PREÇO UNIT R$ VALOR R$ R$ 28,44 CFOP O cliente tem o direito de solicitar a qualquer tempo a apuração dos indicadores DIC, FIIC, DMIC e DICRI e também receber uma compensação, caso sejam violadas as metas de continuidade individuais – mensal, trimestral e anual- relativos à unidade consumidora de sua responsabilidade. CUSTO DISPONIBILIDADE SISTEMA 5.258 kWh 100 0,73442 73,43 CONTRIBUIÇÃO DE ILUMIN PÚBLICA RETENÇÃO NA FONTE - IRPJ RETENÇÃO NA FONTE - CSSL RETENÇÃO NA FONTE - PIS/PASEP RETENÇÃO NA FONTE - COFINS 0000 2,93 0000 -0,88 0000 -0,73 0000 -0,48 0000 -2,20 Subtotal Faturamento (Veja abaixo) Subtotal Outros 73,43 1,36- Após o vencimento haverá multa de 2%, juros e atualização de IGP-M, cobrados em conta posterior (Res. ANEEL n° 414 de 09/09/10 e Lei 10.762 de 11/11/2003) Valor da Energia Valor da Transmissão Valor da Distribuição ICMS R$ 20% Total da Nota Fiscal R$ Base de Cálculo Alíquota Valor (já incluído no preço) 29,87 1,26 11,63 73,43 ********* *73,43 20% Total Encargos Setoriais 11,60 Tributos 14,69 19,07 73,43 VENCIMENTO TOTAL A PAGAR R$ PIS alíquota *********72,07 1,060% COFINS aliquota 4,890% 21/06/2016 R$ 0,77 R$ 3,59 Valores já incluídos no preço (PIS - Lei 10.637/02 / COFINS - Lei 10.833/03 / REH ANEEL vigente) 78 JUN15 Republicação das Tarifas JUL15 84 Tarifas em R$/kWh (sem impostos) 103 AGO15 SET15 104 A ANEEL, através da Resolução n° 2.069/2016, republicou as tarifas de energia elétrica homologadas pela Resolução n° 1982/2015. TUSD +TE OUT15 95 BANDEIRAS TARIFÁRIAS 0,54385 0,55885 0,57385 Bandeira Verde NOV15 107 Bandeira Amarela DEZ15 71 X X JUNHO 2016 - BANDEIRA VERDE Bandeira Vermelha JAN16 76 FEV16 73 O impacto adicional médio sobre as tarifas de Baixa Tensão é de 0,09%, a partir de 04/05/2016. 82 X X MAIO 2016 - BANDEIRA VERDE MAR16 ABR16 92 MAI16 133 JUN16 82 TE - Tarifa de Energia e TUSD - Tarifa de Uso do Sistema de Distribuição. MIN DEFESA COMDO AERONAUTICA CONTA EM DÉBITO AUTOMÁTICO BANCO SANTANDER S.A. VENCIMENTO TOTAL A PAGAR CÓDIGO DO CLIENTE 21/06/2016 *********72,07 20003992 JUN/2016 01 B01 585 21 0428 Autenticação Mecânica 83620000000.5.72070053107.5.02302892100.7.30000792003.0 CONSUMO %3D '], ['vivo *8486 she w Telatone de Atendimente Vie Fale Canosco wwwvacom.bfalecanosca VIVO SA Av. Roque Petroni , 1404 Monumbi 04707000 sao Paule LE- 149.403935.110 CNP: 02449.992/0056-38 JARAGUE S er John Sample Av. Chucri Zaidan, 860 5 andar - Bloco A Morumbi 04005-001 - Såo Paulo - SP 729802960602570001000S10210260os Conta: 000000000 VENCIMENTO TOTAL A PAGAR -RS Emissão Mes de referencia Periodo 30/01/2005 95,00 25/01/2005 01/2005 15/12/04 a 1401/0s Número(s) do(s) Celular(es) 11-9999 X0X 11-9999 -X00X 11-9999- XX 11-9999-XXX 11-9999- XKXX 11-9999-XXX 11-9999-XX 11-9999 X0X Relação total de celulares esta localizada na Seão Celulares que complem sua fatura em pagina a seguir. Resumo de Utilizacao Crfen DS ancamentrs Dercos Cobdian De SZED '], ['Claró- TELEFONICA BRASIL SIA R. São Bento, 219 - Centro São Paulo - SP, 01011-000 CNPJ 02.558.157/0010-53 Inscrição Estadual: 9025 Modelo: 22 series R Via Única Regime Especial Processo Data de Emissäo: 20/09/2018 Periodo: 18/08/2018 á 18/09/2018 CEOP 5402 Nota Fiscal de Serviços de Telecomunicações N 00 ANTONIO CARLOS RUA OLÍV JARDIM SOR A- SP 180 Atendimento Claro - Ligue 1052. (Pontos no Claro Clube Saldo em 10/09/18 Expirados em 23/09/18 Resgatados em 09/18 1.137 Via Adicional de Nota Fiscal Fatura de Telecomunicações - Válida Somente para Pagamento Número do seu Claro Período de Uso Vencimento Total a Pagar 11 98 de 18/08/2018 a 18/09/2018 22/10/2018 R$ 49,90 Veja aqui o que está sendo cobrado Plano 3,5GB + 500MB bônus de portabilidade) + LIGAÇÕES ILIMITADAS - de 18/08/2018 a 18/09/2018 Plano 3,5GB + 50OMB bônus de portabilidade) + LIGAÇÕES ILIMITADAS - de 18/08/2018 a 18/09/2018 Sob Medida - Ligações para Fixo e qualquer Celular Sob Medida - Torpedo Ligações Interurbanas Ligações e serviços adicionais Juros e Multa R$ R$ R$ 0,00 49,90 0,00 0,00 RS R$ 0,00 0,00 0,00 0,00 RS R$ Descontos R$ Total do Mês R$ 49,90 Total a Pagar R$ 49,90 Declaração de Quitação de Débitos A Claro declara que, para os fins da Lei 12.007, de 29/07/2009, as faturas relativas ao ano de 2010 e anos anteriores, no que se refere aos serviços por ela prestados, se encontram quitadas. Esta declaração substitui as quitações mensais das mencionadas faturas do ano 2010 e anos anteriores. A presente quitação não abrange os serviços prestados por outras empresas que eventualmente tenham sido cobrados nas faturas da Claro e não produz qualquer efeito juríidico liberatório em relação a faturamentos de débitos que sejam objeto de demanda judicial. \"A contestação de pagamentos de faturas através de cartão de crédito após a devida baixa, implicará a revogação automática da presente quitação\" Pague sua conta nos Bancos e Locais credenciados.Encargos por atraso serão cobrados na próxima conta. Contribuições para o FUST e FUNTTEL (1% e 0,5% do valor dos serviços) não repassadas aos preços. Central de Atendimento da Anatet 1331 - Ao ligar, informe o n da reclamação registrada na prestadora. Autenticação Mecânica: -.................... Para uso do banco Sr. Caixa, receber pagamento em dinheiro. Este boleto não quita débitos de meses anteriores. Claro- Pague sua conta nos bancos credenciados preferencialmente: Itaú, HSBC, Banco do Brasil, Santander e outros. Total R$ 49,90 Vencimento 22/10/18 Cliente Código Débito Automático Periodo de Uso ANTONIO CARLOS 118 18/08/18 a 18/09/18 Cla o SP DDD 11 a 19 84 _ 000_ - Q|82_601_ 582 611122-0 - - - Autenticação Mecanica solicitamos não rasurar, dobrar ou perfurar esta parte da fatura, para não danificar o código de barras. Pág. 1/ 5 '], ['www.vivo.com.br/meuvivo vivo N° da Conta: 0375746786 Més de eferé ncia: 07/20 19 Fale conosco: Central de Relaciona mento 8486 ou www.vivo.com.br/faleconosco Periodo: 21/06/20 19 a 20/07/20 19 Data de emissão: 23/07/20 19 Te lefonica Be sil SA. Rua Levindo Lopes, 258 CEP 30.140-170 - Belo Horizonte - MG LE.:621904680045 CNPJ Matiz :02.558.157/0001-62 CNPJ Filial 12.558.157/0009-10 LAUDISLAINE ROSA DE LIMA AV DO CONTORNO, 250 BENEVIDE 35240-000 CONSELHEIRO PENA - MG Vencimento 06/08/2019 Total a Pagar - R$ 29,99 Seus Números Vivo 33-99995-3567 Aproveite os beneficios do Vivo Valoriza no App Meu Vivo. Ca so você tenha mais linhas consulte odetalhamento da sua conta. O que está sendo cobrado Quantidade de Valor R$ Quantid ade de Incluso Utilizado Valor Total R$ Plano/Pacote Números Vivo Plano/Pacole Plano/Pacote Minutos/Unidades Serviços Contratados VIVOCTRL DIGITAL 2GB VIVOCONTROLE SERV DIGITALI 1 1 29,99 29,99 1 1 0,00 Subtotal 29,99 TO TAL A PAGAR 29,99 MENSAGEM IMPORTANTE PARA VOCÊ O relatório detalhado está dis poni vel em www.vivo.com.brm euvivo e pode ser solicitado impresso, de foma pemanente ou não. *App MeuViro. E o jeto mais pá ficode acessara sua conta detalhada, 2\" via de conta, consumo de inte met e muito mais! Baixe agoa em vivo.com.brla pp e navegue semconsumir seu pacote de dados \"Fique atento: o e-maloficial utizado pela Vivo para enviara 1° ve da sue conta é contadig tal@vivo.com.br.A vivo nunca envia e-mail de extensõe s como\" @gmail \"e \" hotmar.* Agradecemos pagamentos recebidos até a emissão de sta corta. Mantenha o pagamento emdia e evite a suspensão parcialtotaldos serviçose a inclusão nosorgãos de proleção do crédito. Para pagamertosapós o vencimento serão cobradosencargos de 2% e juưos de 1% ao més em conta futura. ------- vivo Vercimento Totala Pagar - R$ Nome do Clierte LAUDISLA INE ROSA DE LIMA 06/08/2019 29,99 Cód. Débito Automitico 0375746786-0 N° da Corta 0375746786 Mês Referé ncia 07/2019 846400000002 2999006400 10 10375746 7867 071941908064 Autenticação Mecánica '], ['NOTA FISCAL/CONTA DE FORNECIMENTO DE ÁGUA E COLETA DE ESGOTO Regime especial Processo n° E-04/278370/12 - N° 2340667911015 CONCESSÃO DE SERVICOS DE ESGOTO foz NOVA Águas do Brasil DATA DE EMISSÃO: 30/09/2015 CEDAE ZONA OESTE - RIO DE JANEIRO MEDIÇÃO VENCIMENTO LEVANDO QUALIDADE DE VIDA PARA VOCÊ MAIS SAÚDE PARA VOCÊ MAIS CUIDADO COM O MEIO AMBIENTE COMPANHIA ESTADUAL DE ÁGUAS E ESGOTOS - CEDAE CNPJ: 33.352.394/0001-04 I Inscr. Estadual - 84.780.707 Av. Presidente Vargas, 2.655 - Centro - Rio de Janeiro - RJ NOME / CPF-CNPJ 00394429011730 PREF AERONAUTICA DOS AFONSOS Outubro/2015 12/10/2015 ORIGEM MATRÍCULA 1- 59 2340667-9 ENDEREÇO DA LIGAÇÃO RUA PACIFICO PEREIRA, 1 BL 5 - JARDIM SULACAP ROTEIRO 0217608205170 LEITURA ANTERIOR LEITURA ATUAL N° DE DIAS VOLUME FAT.M³ VOLUME APURADO M/DIA 26/08/2015 25/09/2015 | | | | | 4654 4741 30 90 2.9 PRÓXIMA LEITURA HIDRÔMETRO TIPO DE FATURAMENTO VOLUME MÉDIO M/DIA | 27/10/2015|| C10S015920 | CONS. APURADO 3.0 | ECONOMIAS POR CATEGORIA PERCENTUAL DE FAT.% SUBCATEGORIA DOM COM IND PUB DOM COM IND PUB 6 0 0 0 | | 100 0 0 0 | COMUM FAIXA DE CONSUMO TARIFA CONSUMO VALOR LANÇAMENTOS VALOR R$ R$ FATURADO R$ 0.0-15.0 2,31 90,0 208,62 AGUA DOMICILIAR 208,62 RECURSOS HIDRICOS 1,68 1,04 177,21 1,43 TAXA DE REGULAÇÃO ESGOTO DOMICILIAR RECURSOS HIDRICOS TOTAL CONTA TOTAL A PAGAR 389,98 389,98 Val Aprox dos Tributos R$0.0 (0.0%) conforme Lei 12.741/12. BASE DE CÁLCULO ICMS ALÍQUOTA % VALOR INCL. PREÇO/ÁGUA 0,00 18 0,00 Segunda Via MENSAGEM IMPORTANTE \"De acordo com a lei federal 12.741 de 08/12/2012, a concessionária informa a carga tributária aproximada incidente sobre o valor dos serviços: PIS/COFINS (9,25%). Desconsiderar as tarifas veiculadas no verso da fatura.\" SISTEMA: Guandu/RJ Ref : 10/15 Padrão da Val Médios Detectados Portaria MS 518/04 Nro Amostras Exig 194 Realiz 35 Cor Aparente 15 UH(max) 6 A 9.5 (1) 5 UT(max) 0.2 A 2.0 MG/L AUSENTE (3) PH Turbidez Cloro Residual 1,9 1,8 35 194 724 694 724 Coliformes Totais Colif. (1)Apenas recomendacao (2)Numero de amostras positivas (3)Sistemas que analisam 40 ou mais amostras/mes, ausencia em 95% das amostras examinadas. Sistemas que analisam menos de 40 amostras/mes, apenas uma amostra podera apresentar resultado positivo 694 724 45 35 1 AUSENTE SAC - Foz Águas 5: 0800 025 0005 I www.fozaguas5.com.br - CEDAE 195 ou 0800 28 21 195 I www.cedae.com.br CONCESSÃO DE SERVIÇOS DE ESGOTO COMPANHIA ESTADUAL DE ÁGUAS E ESGOTOS - CEDAE CNPJ: 33.352.394/0001-04 I Inscr. Estadual - 84.780.707 Av. Presidente Vargas, 2.655 - Centro - Rio de Janeiro - RJ F. AB. ZONA OESTE S.A. I CNPJ: 14.863.079/0001-99 Rua Doze de Fevereiro, 103 - Bangu - Rio de Janeiro-RJ foz NOVA CEDAE Águas do Brasil ZONA OESTE - RIO DE JANEIRO MAIS SAÚDE PARA VOCÊ MAIS CUIDADO COM O MEIO AMBIENTE LEVANDO QUALIDADE DE VIDA PARA VOCÊ CONTROLE DA CEDAE E DA FOZ ÁGUAS 5 MATRÍCULA MEDIÇÃO ORIGEM | 2340667-9 | Outubro/2015 | 1- 59 | VENCIMENTO TOTAL A PAGAR 12/10/2015 | 389,98 CONCESSÃO DE SERVIÇOS DE ESGOTO NOVA CEDAE foz Grup Águas do Brasil ZONA OESTE - RIO DE JANEIRO 82640000003 8 89981333234 8 06679101515 0 91510120006 0 ÚLTIMÓS CONSUMOS M3 /DIA '], ['vivo Cadastro do Assinante Telefônica Brasil S/A Nome: ARTHUR FORTES DA COSTA Av. Engenheiro Luiz Carlos Berrini, 1376, Ed. Eco Berrini Cidade Monções CEP: 04571-936-São Paulo - SP CNPJ: 02.558.157/0001-62 Endereço: RUA HERMANTINO COELHO 255 AP 23 BL 5 MANSOES SANTO ANTONIO - 13087-500 - CAMPINAS / SP Código do cliente: 8999 5229 4150 DV: 8 Mês de referência: Março/2021 Número da fatura: 1252239111-0 Tipo de cliente: Residencial 08/04/2021 108,68 Número do telefone: 1932560214 Data de emissão: 23/03/2021 Insc Est: 108383949112 Estado de instalação: São Paulo http://www.vivo.com.br Descrição da sua fatura VALOR (R$) Histórico de consumo RESUMO Plano Contratado / Serviços Mensais Internet + Serviços Digitais e Técnicos Vivo Fibra 300 Mbps (102) Serviços Digitais III 109,99 Total utilizado em min:seg das faturas com vencimento em: Total 109,99 Tipo de Ligação Fevereiro Março Abril Serviços Eventuais Ressarcimento por interrupção do serviço de telefonia fixa -1,31 -1,31 Total TOTAL GERAL A PAGAR 108,68 Vivo Valoriza Aproveite os benefícios do Vivo Valoriza no App Meu Vivo. Para informações detalhadas da sua conta acesse o aplicativo Meu Vivo.O detalhamento também está disponível em www.vivo.com.br/meuvivo e pode ser solicitado impresso, de forma permanente ou não. Caso ainda tenha dúvidas, ligue para nossa Central de Relacionamento no 103 15. Pessoas com necessidades especiais de fala/audição: 142. Mensagem para você Informação é sua maior defesa, por isso, lembramos que a 1a via da sua conta de Serviços Vivo da Sua Casa sempre será enviada pelo endereço \"contadigital@vivo.com.br\". Ao realizar o pagamento, sempre confira se o seu nome, endereço e números de telefone aparecem no boleto. Para a prestação de serviços descrita nessa fatura incidem os seguintes impostos: 25% ICMS, 0,65% PIS, 3% COFINS para Telecom e 2% ISS, 1,65% PIS e 7,6% COFINS para SVAS e 12% ICMS para Comunicações. Importante: mantenha o pagamento em dia e evite a suspensão parcial/total dos serviços e a inclusão nos orgãos de proteção do crédito. Para pagamentos após o vencimento serão cobrados encargos de 2% e juros de 1% ao mês em conta futura. O ressarcimento por inoperância é realizado em conformidade com as Resoluções: Para STFC artigo 32° da Resolução Anatel n° 426/2005; para SCM artigo 46° da Resolução Anatel n° 614/2013 e para TV artigo 6° da Resolução 488/2007. Central de Atendimento Anatel: 1331 (Geral), 1332 (Deficientes Auditivos) e www.anatel.gov.br. Recurso de atendimento VIVO, ligue com o protocolo em mãos para 10315 e 142 para pessoas com necessidades especiais de fala/audição. (102) PSABL/047/POS/SCM Destaque Aqui Autenticação Mecânica Nome do Cliente Sr. Caixa, favor não receber pagamento parcial. ARTHUR FORTES DA COSTA Código para Cadastramento Código do cliente Número da Fatura Data de Vencimento Valor a Pagar (R$) de Débito Automático 8999 5229 4150 899952294150-8 1252239111-0 08/04/2021 108,68 vivo 84670000001 7 08680082089 5 99522941501 4 25223911199 7 '], ['Companhia Paulista de Força e Luz Rua Jorge de Figueiredo Correa, 1632 Jardim Professora Tarcília – Campinas/SP - CEP: 13087-397 Inscrição Estadual: 244.163.955.115 Inscrição no CNPJ: 33.050.196/0001-88 CPFL Uma empresa do Grupo CPFL Energia ENERGIA ARTHUR FORTES DA COSTA Nota Fiscal R HERMANTINO COELHO 255 BL 5 AP 23 Conta de Energia Elétrica MAN STO ANTONIO N°. 110540367 série C Pág. 1 de 1 13087-500 CAMPINAS SP Data de Emissão 14/01/2020 Data de Apresentação 15/01/2020 Conta Contrato No 310091689739 Lote Roteiro de leitura Medidor Cliente Reservado ao fisco 07 CAMBUD49-00000853 215857038 0711530431 FB50.530F.0AEF.3147.8327.ADE5.E164.2966 PREZADO (A) CLIENTE FELIZ ANO NOVO! Que tal começar o ano atualizando seu cadastro? Saiba que a classe da sua conta determina sua tarifa e impostos. Se o imóvel não é RESIDENCIAL, atualize seu cadastro em nossos canais de atendimento. DADOS DA UNIDADE CONSUMIDORA ARTHUR FORTES DA COSTA R HERMANTINO COELHO, 255 BL 5 AP 23 MAN STO ANTONIO CAMPINAS - SP CPF:021.251.723-64 Classificação: Convencional B1 Residencial - Bifásico 220 / 127 V SEU CÓDIGO 8866562 CONTA/MÊS JAN/2020 ATENDIMENTO PN VENCIMENTO TOTAL A PAGAR (R$) 0800 010 1010 0711530431 10/02/2020 142,99 www.cpfl.com.br DISCRIMINAÇÃO DA OPERAÇÃO - RESERVADO AO FISCO Cod. Descrição da Operação Mês Quant. Unid. Aliq. PIS COFINS Bandeiras Tarifa com Valor Total da Base Cálculo ICMS Base Cálculo 115 N° 901052809287 Operação 6,27%| Tarifárias Ref. Fa Med. Tributos ICMS ICMS PIS/COFINS 1,37% 0605 Consumo Uso Sistema [KWh]-TUSD JAN/20 191,000 kWh 0,30513090 58,28 58,28 12,00 6,99 58,28 0,80 3,65 Amarela 18 Dias 0601 Consumo - TE JAN/20 191,000 kWh 0,34560210 66,01 66,01 12,00 7,92 66,01 0,90 4,14 Amarela 0601 Adicional de Bandeira Amarela JAN/20 3,18 3,18 12,00 0,38 3,18 0,04 0,20 14 Dias Total Distribuidora 127,47 DÉBITOS DE OUTROS SERVIÇOS 0807 Contrib. Custeio IP-CIP Municipal JAN/20 15,52 TOTAL CONSOLIDADO 142,99 127,47 15,29 127,47 1,74 7,99 HISTÓRICO DE CONSUMO kWh Dias TARIFA ANEEL EQUIPAMENTOS DE MEDIÇÃO / DATAS DE LEITURA Consumo TUSD TE Leitura Leitura Fator Consumo Taxa de Perda Leitura 2020 JAN 191 32 Consumo kWh 0,24526000 0,27776000 N° Energia 14/01/2020 13/12/2019 Multipl. [kWh] [%] Próximo Mês 2019 DEZ 206 31 215857038 ATIVA 11794 11603 1,00 191 11/02/2020 NOV 174 32 OUT 198 31 SET 157 29 AGO 221 31 JUL 186 31 JUN 161 29 ΜΑΙ 185 32 ABR 185 29 MAR 183 30 INDICADORES DE CONTINUIDADE DE FORNECIMENTO DE ENERGIA FEV 194 28 Para consulta dos indicadores acesse nosso site www.cpfl.com.br JAN 196 32 INFORMAÇÕES SOBRE A FATURA Custeio de iluminação pública: alterado valor de arrecadação conforme Lei Municipal 00011453 de 27.12.2002, com fundamento no Art. 149 A, parágrafo único, da Constituição Federal do Brasil. AVISO IMPORTANTE A partir de 01.01.2020 todos os clientes têm direito a optar pela tarifa branca, saiba mais: www.cpfl.com.br/tarifabranca CódDébAut-Banco 310091689739 Total a Pagar (R$) Data de Vencimento 142,99 Nota Fiscal Conta de Energia Elétrica 110540367 Série C 10/02/2020 Essa conta poderá ser paga no credenciado mais perto de você. Confira a lista completa no site www.cpfl.com.br Loja 2189 - LC-PE M BERNARDES CAMP DROGARIA DOM PEDRO CAMPINAS O MATUTO cpfl paulista R PADRE MANUEL BERNARDES 971 - TAQUARAL AV GUILHERME CAMPOS LJ. 30A 500 - JARDIM SANTA GENEBRA RUA LUIZ OTAVIO, 651 - PARQUE TAQUARAL 836000000015 429900403214 033708095030 100916897398 Autenticação Mecânica '], ['ELEKTRO RUA ARY ANTENOR DE SOUZA, 321 - 13053-024 CAMPINAS - SP-CNPJ 02 328 280/0001-97 INSC. EST. 244.868.522.118 AV. BALDOMERO LEITUGA, 2032-79610-270- TRÊS LAGOAS- MS CNP) 02 328 280/0002-78 - INSC. EST. 28.304.126-9 SEU CÓDIGO ELEKTRO REDES S.A. WWW.ELEKTRO.COM.BR 35227400 MARIA JOSE DE PAULA DOURADO R ANTONIO LEITE CAVALCANTE, 389 - RUA 1 N 389 - VL PROGRESSO MAGDA - SP - CEP 15310-000 DATA DE EMISSÃO: 25/02/2021 DATA DE APRESENTAÇÃO: 03/03/2021 CNPJ/CPF: 14783929831 IE: CONTROLE N°: 01-20216040171803-07 PRÓXIMA LEITURA N° DA NOTA FISCAL/CONTA DE ENERGIA ELÉTRICA CONTA DO MÊS VENCIMENTO VALOR DA CONTA (R$) 26/03/2021 101.348.995 FEVEREIRO/2021 10/03/2021 R$ 588,43 DADOS DE CADASTRO DETALHAMENTO DA CONTA MEDIDOR / CONSTANTE B09135832 TENSÃO NOMINAL OU CONTRATADA (V) LIMITE ADEQUADOS DE TENSÃO (V) DÉBITO AUT. CLASSIFICAÇÃO COMERCIAL,SERVICOS,OUTRAS BASE TARIFA VALOR ALÍQ. VALOR VALOR TOTAL CCI* DESCRIÇÃO DO PRODUTO QUANTIDADE CALCULO FORNEC. FORNECIMENTO IMPOSTO ICMS (FORNEC. + IMPOSTOS) IMPOSTO 220/127 116 A 133 / 201 A 231 0601 CONSUMO TE 801,00 0,252871 202,55 261,76 18,00% 47,11 249,66 0601 CONSUMO TUSD 801,00 0,302160 242,03 312,78 18,00% 56,30 298,33 ANTERIOR LEITURA ATUAL ITEM 0601 AD.B.AMAR. 801,00 0,013421 10,75 13,89 18,00% 2,50 13,25 CONSUMO 46768 47569 ANTERIOR DIAS DO PERÍODO 0699 COFINS 588,43 3,80% 22,37 27/01/2021 28 0699 PIS 588,43 0,82% 4,82 ATUAL F. POTÊNCIA MÉDIA TOTAL 455,33 105,91 588,43 24/02/2021 *CCI - CÓDIGO DE CLASSIFICAÇÃO DO ITEM HISTÓRICO DE CONSUMO (KWH) 801.0 50.0 50.0 50.0 50.0 50.0 50.0 50.0 50.0 50.0 284.0 339.0 389.0 FEV/21 JAN/21 DEZ/20 NOV/20 OUT/20 SET/20 AGO/20 JUL/20 JUN/20 MAI/20 ABR/20 MAR/20 FEV/20 COMPOSIÇÃO DE FORNECIMENTO ENERGIA DISTRIBUIÇÃO R$ 194,74 ENCARGOS R$ 110,36 TRIBUTOS R$ 71,36 R$ 133,10 TRANSMISSÃO R$ 45,05 PERDAS R$ 33,82 INFORMAÇÕES GERAIS BAND.TARIF. AMARELA:28/01-24/02 AVISO IMPORTANTE DE DÉBIT0 / CORTE ESTA UNIDADE CONSUMIDORA ESTARA SUJEITA A SUSPENSAO DO FORNECIMENTO A PARTIR DE 18/03/2021, CASO O PAGAMENTO NAO SEJA REALIZADO. O ENCERRAMENTO DE RELACAO CONTRATUAL PODERA OCORRER 2 (DOIS) CICLOS DE FATURAMENTO APOS A SUSPENSAO DE FORNECIMENTO. NO CICLO DA SUSPENSAO OU RELIGACAO PODERA SER COBRADO O CUSTO DE DISPONIBILIDADE.CASO O PAGAMENTO JA TENHA SIDO REALIZADO, FAVOR DESCONSIDERAR ESTA NOTIFICACAO. DÉBITOS ANTERIORES DEBITOS: 10/02/2021 R$ 89,68 ATENÇÃO ESSE O NOSSO SITE E REALIZE OS SERVIÇOS COM MAIOR COMODIDADE, PRATICIDADE, RAPIDEZ E SEGURANÇA. WWW.ELEKTRO.COM.BR BANCO DO BRASIL 001-9 00190.00009 03194.643007 13292.404178 885550000058843 LOCAL DE PAGAMENTO PAGÁVEL EM QUALQUER AGENCIA BANCARIA VENCIMENTO 10/03/2021 BENEFICIÁRIO AGÊNCIA / CÓDIGO CEDENTE ELEKTRO REDES S/A 3064-3/0002261-6 ESPÉCIE DOC. DM DATA DO DOCUMENTO N° DO DOCUMENTO ACEITE DATA DE PROCESSAMENTO NOSSO NÚMERO 25/02/2021 FAT-01-20216040171803.7 N 25/02/2021 31946430013292404-1 USO DO BANCO CARTEIRA ESPÉCIE VALOR DO DOCUMENTO 17 R$ R$ 588,43 INSTRUÇÕES () DESCONTO / ABATIMENTO (+) MORA / MULTA (=) VALOR COBRADO PAGADOR MARIA JOSE DE PAULA DOURADO R ANTONIO LEITE CAVALCANTE, 389 - RUA 1 N 389 - VL PROGRESSO MAGDA - SP - CEP 15310-000 SACADOR / AVALISTA AUTENTICAÇÃO MECÂNICA FICHA DE COMPENSAÇÃO GBELEKF1 (V1.00) '], ['VENCIMENTO 01 B01 585 21 0428 MIN DEFESA COMDO AERONAUTICA R PACIFICO PEREIRA 1 BL5 SV EF.N°114 JD SULACAP / RIO DE JANEIRO - RJ 21741-160 Cliente Mais+ 20/04/2016 00372 Z002 008701 N° DO MEDIDOR Vantagens especiais em: light.com.br/clientemais 7324409 Se você ainda não possui sua conta da Light em Débito Automático, faça a adesão na sua agência bancária, na Agência Virtual (www.light.com.br), no Disque-Light (0800 282 0120) ou nas agências da Light e fique despreocupado. Classe / Subclasse BANDEIRAS TARIFÁRIAS: FIQUE ATENTO À NOVA REGRA Assim, a nova composição dos valores(*) será PODER PÚBLICO / PODER PÚBLICO FEDERAL A partir de 1° de fevereiro/2016, os valores das bandeiras amarela e vermelha serão reduzidos. E a bandeira vermelha terá dois patamares: patamar 1 e 2. - Bandeira verde: a tarifa não sofre nenhum acréscimo, não há cobrança adicional - Bandeira amarela: R$ 1,50 a cada 100 kWh consumidos - Bandeira vermelha patamar 1: R$ 3,00 a cada 100 kWh consumidos - Bandeira vermelha patamar 2: R$ 4,50 a cada 100 kWh consumidos (*)Valor liquido de impostos. Medidor TRIFÁSICO N°: 7324409 Para mais informações, acesse www.aneel.gov.br Ref: Mês / Ano Referência Bancária Número da Fatura ABR/2016 030000792003 519503654074 A461.6D43.F238.CCEF.D804.4AD7.C497.D0A2 Nota Fiscal - Série 01 no. 194301 Reservado ao Fisco Conta de Energia Elétrica RE PROC. E-04/053.359/09 -IFE 03 SEPD - Autorização n.08-2005/0006384-9 DATA PREVISTA DA PRÓXIMA LEITURA 02/05/2016 TENSÃO NOMINAL EM VOLTS Disponível: Limites mínimo: 202/117 Limites máximo: 231/133 220/127 O Light LIGHT SERVIÇOS DE ELETRICIDADE SA AV. MAL. FLORIANO 168 RIO DE JANEIRO RJ CEP 20080-002 CNPJ 60.444.437/0001-46 INSC. ESTADUAL 81380.023 INSC.MUNICIPAL 00794678 INDICADORES DE QUALIDADE Mês de referência: Fevereirol2016 ENERGIA ATIVA ENERGIA REATIVA EXCEDENTE Conjunto: PADRE MIGUEL Medição Acumulada Anterior Consumo Consumo kWh Const Medição Anterior Data Const N° Medição Atual Data Leitura Leitura Medidor Dias Atual Medidor kWh Indicadores Apurado Mensal Meta Mensal Meta Trimestral Meta Anual 01/04/2016 6.248 01/03/2016 6.156 1 92 31 DIC 0,00 4,71 9,43 18,86 Data da Emissão Data de Apresentação FIC 0,00 3,11 6,22 12,45 BLOCO 5 SV - APT 101 R PACIFICO PEREIRA 1 BL5 SV EF.N°114 21741-160 JD SULACAP / RIO DE JANEIRO -RJ CNPJ: 00.394.429/0117-30 01/04/2016 06/04/2016 DMIC 0,00 2,60 DIC - Duração de interrupção individual FIC - Frequência de interrupção individual DMIC - Duração máxima de interrupção contínua DICRI - Duração da interrupção individual em dia crítico CÓDIGO DO CLIENTE CÓDIGO DA INSTALAÇÃO 20003992 0420577631 VALOR DO ENCARGO DE USO DO SISTEMA DE DISTRIBUIÇÃO: DESCRIÇÃO QUANT. PREÇO UNIT R$ VALOR R$ R$ 28,44 CFOP UNIDADE O cliente tem o direito de solicitar a qualquer tempo a apuração dos indicadores DIC, FIC, DMIC e DICRI e também receber uma compensação, caso sejam violadas as metas de continuidade individuais - mensal, trimestrale anual - relativos à unidade consumidora de sua responsabilidade. 5.258 5.258 0000 0000 0000 0000 kWh kWh 100 100 0.72684 0,01941 CUSTO DISPONIBILIDADE SISTEMA ADICIONAL BANDEIRA AMARELA CONTRIBUIÇÃO DE ILUMIN PÚBLICA RETENÇÃO NA FONTE - IRPJ RETENÇÃO NA FONTE - CSSL RETENÇÃO NA FONTE - PIS/PASEP RETENÇÃO NA FONTE - COFINS 72,67 1,93 2,93 -0,90 -0,75 -0,48 -2,24 0000 Subtotal Faturamento (Veja abaixo) 74,60 1,44- Subtotal Outros Após o vencimento haverá multa de 2%, juros e atualização de IGP-M, cobrados em conta posterior (Res. ANEEL n° 414 de 09/09/10 e Lei 10.762 de 11/11/2003) ICMS R$ Valor da Energia Valor da Transmissão Valor da Distribuição 20% Total da Nota Fiscal R$ Base de Cálculo Alíquota Valor (já incluído no preço) 74,60 20% 14,93 33,38 1,16 10,54 *********74,60 Encargos Setoriais Tributos Total 10,70 18,82 74,60 TOTAL A PAGAR RS VENCIMENTO COFINS aliquota 女大*73,16 PIS aliquota 0,930% 4,300% 20/04/2016 *** R$ 0,68 R$ 3,20 Valores já incluídos no preço (PIS - Lei 10.637/02 / COFINS Lei 10.833/03/ REH ANEEL vigente) AERAS II II 75 AA11S IIII 108 其5 ILID 78 Tarifas em R$/kWh (sem impostos) TUSD +TE BANDEIRA 84 D 103 III 104 JUUS BANDEIRAS TARIFÁRIAS ABO15 Bandeira Verde 0,54346 0,55846 0,57346 SENS Bandeira Amarela Bandeira Vermelha PX X ABRIL 2016 - BANDEIRA VERDE OUTIS NOMS IIIII0 107 X X MARÇO 2016 - BANDEIRA AMARELA DEDS III 76 FEMS CIII 73 IITID 82 ABPIS II IIID 2 JANE Tarifa de Energia e TUSD - Tarifa de Uso do Sistema de Distribuição. CONSUMO / kWh 04/2016 '], ['SEGUNDA VIA Light, sempre com você, 24 horas! Informações sobre condições gerais de fornecimento, tarifas, produtos, serviços e tributos? Faltou luz? Envie SMS com o Código da Instalação para o nº 54448. 01 B01 585 21 0428 MIN DEFESA COMDO AERONAUTICA R PACIFICO PEREIRA 1 BL5 SV EF.N°114 JD SULACAP / RIO DE JANEIRO - RJ 21741-160 00001 Z002 000002 Disque-Light Emergência: 0800 021 0196 Emergência Grandes Clientes: 0800 282 1380 Agência Virtual: www.light.com.br Disque-Light Comercial: 0800 282 0120 Deficientes auditivos e de fala: 0800 285 2453 Ouvidoria: 0800 284 0182 (Dias úteis: 8h às 18h) Agências Comerciais Agência Nacional de Energia Elétrica - ANEEL: 167 Ligação gratuita de telefones fixos e móveis. Se você ainda não possui sua conta da Light em Débito Automático, faça a adesão na sua agência bancária, na Agência Virtual (www.light.com.br), no Disque-Light (0800 282 0120) ou nas agências da Light e fique despreocupado! DECLARAÇÃO DE QUITAÇÃO DE DÉBITOS Classe / Subclasse Esta substitui a quitação dos anos anteriores a partir de 2009 (Lei 12.007/09) PODER PÚBLICO / PODER PÚBLICO FEDERAL Recibo n° 1603201552013306700 responsabilidade nesta unidade consumidora para o ano de 2015. Não constam débitos sob sua Medidor Esta substitui as quitações mensais das contas de energia do ano em referência e dos anos anteriores quitados. Estão excluídos dessa declaração valores, de irregularidades por eventuais constatações posteriores e/ou revisão do faturamento. TRIFÁSICO | N°: 7324409 Ref: Mês / Ano Referência Bancária Número da Fatura MAR/2016 030000792003 605003334428 Reservado ao Fisco 3FBB.97A8.E60B.2C8F.BBDD.24D1.3F50.32D1 SEGUNDA VIA Nota Fiscal - Série 01 no.195374 Conta de Energia Elétrica RE PROC. E-04/053.359/09 - IFE 03 SEPD - Autorização n.08-2005/0006384-9 DATA PREVISTA DA PRÓXIMA LEITURA 01/04/2016 TENSÃO NOMINAL EM VOLTS Disponível: 220/127 Light LIGHT SERVIÇOS DE ELETRICIDADE SA AV. MAL. FLORIANO 168 RIO DE JANEIRO RJ CEP 20080-002 Limites mínimo: 202/117 Limites máximo: 231/133 CNPJ 60.444.437/0001-46 INSC. ESTADUAL 81380.023 INSC MUNICIPAL 00794678 INDICADORES DE QUALIDADE ENERGIA ATIVA Mês de referência: Janeiro/2016 ENERGIA REATIVA EXCEDENTE Medição Atual Medição Anterior Data |Const Medidor |Consumo kWh Medição Acumulada Atual |Const Medidor |Consumo kWh Conjunto: PADRE MIGUEL N° Data |Leitura |Leitura Dias |Anterior Indicadores TApurado Mensal I Meta Mensal | Meta Trimestral IMeta Anual 01/03/2016 6.156 01/02/2016 6.074 1 82 28 DIC 0,00 4,71 9,43 18,86 Data da Emissão Data de Apresentação FIC 0,00 3,11 6,22 12,45 BLOCO 5 SV - APT 101 R PACIFICO PEREIRA 1 BL5 SV EF.N°114 01/03/2016 07/03/2016 DMIC 0,00 2,60 21741-160 JD SULACAP / RIO DE JANEIRO - RJ CNPJ: 00.394.429/0117-30 DIC - Duração de interrupção individual FIC - Frequência de interrupção individual DMIC - Duração máxima de interrupção contínua DICRI - Duração da interrupção individual em dia crítico CÓDIGO DO CLIENTE CÓDIGO DA INSTALAÇÃO 20003992 0420577631 VALOR DO ENCARGO DE USO DO SISTEMA DE DISTRIBUIÇÃO: DESCRIÇÃO UNIDADE QUANT. PREÇO UNIT R$ VALOR R$ R$ 28,44 CFOP O cliente tem o direito de solicitar a qualquer tempo a apuração dos indicadores DIC, FIIC, DMIC e DICRI e também receber uma compensação, caso sejam violadas as metas de continuidade individuais – mensal, trimestral e anual- relativos à unidade consumidora de sua responsabilidade. CUSTO DISPONIBILIDADE SISTEMA 5.258 kWh 100 0,72713 72,70 ADICIONAL BANDEIRA VERMELHA 5.258 kWh 100 0,03876 3,86 ADICIONAL BANDEIRA AMARELA 5.258 kWh 100 0,00069 0,06 CONTRIBUIÇÃO DE ILUMIN PÚBLICA RETENÇÃO NA FONTE - IRPJ RETENÇÃO NA FONTE - CSSL RETENÇÃO NA FONTE - PIS/PASEP RETENÇÃO NA FONTE - COFINS 0000 2,93 0000 -0,92 0000 -0,77 0000 -0,50 0000 -2,30 Subtotal Faturamento (Veja abaixo) Subtotal Outros 76,62 1,56- Após o vencimento haverá multa de 2%, juros e atualização de IGP-M, cobrados em conta posterior (Res. ANEEL n° 414 de 09/09/10 e Lei 10.762 de 11/11/2003) Valor da Energia Valor da Transmissão Valor da Distribuição ICMS R$ 19% Total da Nota Fiscal R$ 10,54 Base de Cálculo Alíquota Valor (já incluído no preço) 34,87 1,16 76,62 19% ******** *76,62 Total Encargos Setoriais 10,70 Tributos 14,57 19,35 76,62 VENCIMENTO TOTAL A PAGAR R$ PIS alíquota *********75,06 1,110% COFINS alíquota 5,150% 21/03/2016 R$ 0,84 R$ 3,93 Valores já incluídos no preço (PIS - Lei 10.637/02 / COFINS - Lei 10.833/03 / REH ANEEL vigente) 91 MAR15 ABR15 75 Tarifas em R$/kWh (sem impostos) 108 MAI15 JUN15 78 TUSD +TE JUL15 84 BANDEIRAS TARIFÁRIAS 0,54346 0,55846 0,57346 Bandeira Verde 103 AGO15 Bandeira Amarela SET15 104 Bandeira Vermelha A MARÇO 2016 - BANDEIRA AMARELA OUT15 95 NOV15 107 X XP FEVEREIRO 2016 - BANDEIRA VERMELHA DEZ15 71 JAN16 76 FEV16 73 MAR16 82 TE - Tarifa de Energia e TUSD - Tarifa de Uso do Sistema de Distribuição. MIN DEFESA COMDO AERONAUTICA CONTA EM DÉBITO AUTOMÁTICO BANCO SANTANDER S.A. VENCIMENTO TOTAL A PAGAR CÓDIGO DO CLIENTE 21/03/2016 *********75,06 20003992 MAR/2016 01 B01 585 21 0428 Autenticação Mecânica 83660000000.1.75060053107.3.53280710800.8.30000792003.0 CONSUMO '], ['SEGUNDA VIA Light, sempre com você, 24 horas! Informações sobre condições gerais de fornecimento, tarifas, produtos, serviços e tributos? Faltou luz? Envie SMS com o Código da Instalação para o nº 54448. 01 B01 585 21 0428 MIN DEFESA COMDO AERONAUTICA R PACIFICO PEREIRA 1 BL5 SV EF.N°114 JD SULACAP / RIO DE JANEIRO - RJ 21741-160 00001 Z002 000002 Disque-Light Emergência: 0800 021 0196 Emergência Grandes Clientes: 0800 282 1380 Agência Virtual: www.light.com.br Disque-Light Comercial: 0800 282 0120 Deficientes auditivos e de fala: 0800 285 2453 Ouvidoria: 0800 284 0182 (Dias úteis: 8h às 18h) Agências Comerciais Agência Nacional de Energia Elétrica - ANEEL: 167 Ligação gratuita de telefones fixos e móveis. Se você ainda não possui sua conta da Light em Débito Automático, faça a adesão na sua agência bancária, na Agência Virtual (www.light.com.br), no Disque-Light (0800 282 0120) ou nas agências da Light e fique despreocupado! DECLARAÇÃO DE QUITAÇÃO DE DÉBITOS Classe / Subclasse Esta substitui a quitação dos anos anteriores a partir de 2009 (Lei 12.007/09) PODER PÚBLICO / PODER PÚBLICO FEDERAL Recibo n° 1603201552013306700 responsabilidade nesta unidade consumidora para o ano de 2015. Não constam débitos sob sua Medidor Esta substitui as quitações mensais das contas de energia do ano em referência e dos anos anteriores quitados. Estão excluídos dessa declaração valores, de irregularidades por eventuais constatações posteriores e/ou revisão do faturamento. TRIFÁSICO | N°: 7324409 Ref: Mês / Ano Referência Bancária Número da Fatura MAR/2016 030000792003 605003334428 Reservado ao Fisco 3FBB.97A8.E60B.2C8F.BBDD.24D1.3F50.32D1 SEGUNDA VIA Nota Fiscal - Série 01 no.195374 Conta de Energia Elétrica RE PROC. E-04/053.359/09 - IFE 03 SEPD - Autorização n.08-2005/0006384-9 DATA PREVISTA DA PRÓXIMA LEITURA 01/04/2016 TENSÃO NOMINAL EM VOLTS Disponível: 220/127 Light LIGHT SERVIÇOS DE ELETRICIDADE SA AV. MAL. FLORIANO 168 RIO DE JANEIRO RJ CEP 20080-002 Limites mínimo: 202/117 Limites máximo: 231/133 CNPJ 60.444.437/0001-46 INSC. ESTADUAL 81380.023 INSC MUNICIPAL 00794678 INDICADORES DE QUALIDADE ENERGIA ATIVA Mês de referência: Janeiro/2016 ENERGIA REATIVA EXCEDENTE Medição Atual Medição Anterior Data |Const Medidor |Consumo kWh Medição Acumulada Atual |Const Medidor |Consumo kWh Conjunto: PADRE MIGUEL N° Data |Leitura |Leitura Dias |Anterior Indicadores TApurado Mensal I Meta Mensal | Meta Trimestral IMeta Anual 01/03/2016 6.156 01/02/2016 6.074 1 82 28 DIC 0,00 4,71 9,43 18,86 Data da Emissão Data de Apresentação FIC 0,00 3,11 6,22 12,45 BLOCO 5 SV - APT 101 R PACIFICO PEREIRA 1 BL5 SV EF.N°114 01/03/2016 07/03/2016 DMIC 0,00 2,60 21741-160 JD SULACAP / RIO DE JANEIRO - RJ CNPJ: 00.394.429/0117-30 DIC - Duração de interrupção individual FIC - Frequência de interrupção individual DMIC - Duração máxima de interrupção contínua DICRI - Duração da interrupção individual em dia crítico CÓDIGO DO CLIENTE CÓDIGO DA INSTALAÇÃO 20003992 0420577631 VALOR DO ENCARGO DE USO DO SISTEMA DE DISTRIBUIÇÃO: DESCRIÇÃO UNIDADE QUANT. PREÇO UNIT R$ VALOR R$ R$ 28,44 CFOP O cliente tem o direito de solicitar a qualquer tempo a apuração dos indicadores DIC, FIIC, DMIC e DICRI e também receber uma compensação, caso sejam violadas as metas de continuidade individuais – mensal, trimestral e anual- relativos à unidade consumidora de sua responsabilidade. CUSTO DISPONIBILIDADE SISTEMA 5.258 kWh 100 0,72713 72,70 ADICIONAL BANDEIRA VERMELHA 5.258 kWh 100 0,03876 3,86 ADICIONAL BANDEIRA AMARELA 5.258 kWh 100 0,00069 0,06 CONTRIBUIÇÃO DE ILUMIN PÚBLICA RETENÇÃO NA FONTE - IRPJ RETENÇÃO NA FONTE - CSSL RETENÇÃO NA FONTE - PIS/PASEP RETENÇÃO NA FONTE - COFINS 0000 2,93 0000 -0,92 0000 -0,77 0000 -0,50 0000 -2,30 Subtotal Faturamento (Veja abaixo) Subtotal Outros 76,62 1,56- Após o vencimento haverá multa de 2%, juros e atualização de IGP-M, cobrados em conta posterior (Res. ANEEL n° 414 de 09/09/10 e Lei 10.762 de 11/11/2003) Valor da Energia Valor da Transmissão Valor da Distribuição ICMS R$ 19% Total da Nota Fiscal R$ 10,54 Base de Cálculo Alíquota Valor (já incluído no preço) 34,87 1,16 76,62 19% ******** *76,62 Total Encargos Setoriais 10,70 Tributos 14,57 19,35 76,62 VENCIMENTO TOTAL A PAGAR R$ PIS alíquota *********75,06 1,110% COFINS alíquota 5,150% 21/03/2016 R$ 0,84 R$ 3,93 Valores já incluídos no preço (PIS - Lei 10.637/02 / COFINS - Lei 10.833/03 / REH ANEEL vigente) 91 MAR15 ABR15 75 Tarifas em R$/kWh (sem impostos) 108 MAI15 JUN15 78 TUSD +TE JUL15 84 BANDEIRAS TARIFÁRIAS 0,54346 0,55846 0,57346 Bandeira Verde 103 AGO15 Bandeira Amarela SET15 104 Bandeira Vermelha A MARÇO 2016 - BANDEIRA AMARELA OUT15 95 NOV15 107 X XP FEVEREIRO 2016 - BANDEIRA VERMELHA DEZ15 71 JAN16 76 FEV16 73 MAR16 82 TE - Tarifa de Energia e TUSD - Tarifa de Uso do Sistema de Distribuição. MIN DEFESA COMDO AERONAUTICA CONTA EM DÉBITO AUTOMÁTICO BANCO SANTANDER S.A. VENCIMENTO TOTAL A PAGAR CÓDIGO DO CLIENTE 21/03/2016 *********75,06 20003992 MAR/2016 01 B01 585 21 0428 Autenticação Mecânica 83660000000.1.75060053107.3.53280710800.8.30000792003.0 CONSUMO '], ['CARLOS FATURA DE VENCMENTO PAGAR RSI oi MAR/2019 20/03/2019 21,38 CHEGOUSUA PATTURA DA OL COO MINHA DI Acesse w0om.tMiha Pericco de 2UaraDIa a tatavzoa Illullullullullllullullul CTCE SALVAOOR BA PLI CARLOS MAGNO BARBOSA CALDEIRA TV GONCALO ROSARIO 7 1 AND BOCA DO RIO 41710-480 - SALVADOR - BA QUE TAL FALAR COM A GENTE PELO WHATSAPP? oi Aaciona o kaaistorto Virtu da3 1313 Um ne racco ci de eceter nmactes da enta VICE PRA CONTA O NE SERVÇOGUTLOAOOS CARLOS HADNO BARDDGA CALDERA CPF 032.078995-0 OI MAIS 21,38 NUMERI DO ELENTE: 222a17 NUMERO DA FATURA 13018438 N FARA DEanD AUTOMATICO: 41334IERs e OI MÓVEL • Pacotes Adicionais do Movel 0,00 TOTAL DE MENSALIDADES 21,38 CÓDIGO MINHA OI TOTAL DA SUA FATURA 21,38 401938248685 ww..com.br/Minhati Cadostre-se rointe econtte do centa densitan hiaterien de oanm muto mas ENTENDA SEU CONSUMO D vior ce ua fatura nos atimoe meses Hor 20e Figue atento. Efetue os pagamemos en ea evte: Cobrance de Hu de 2 juas de 00 mis pra ata tia Suansko de orvicn Percial. 15 das spon envio da ntesc onmas 20 thun, Supemlo Total Durnte a piriada de Bagueo Parcal, a issinatura de sua teha sera cobrade nomalmenne de ocorto sen es voleres contratatos. pee ola coninue apta a receber cherracos. Cancelarmentoa inclusonas Orgies de Proteçlo ao Cidite PCSera. 30 das ipds Superate Tetal oi CLENTE DERTO AUTOHATICO FATURA DE VENCIMENTO VALOR 200208 401938248685 CARLOS MAGNO BARS06A CALDEIRA MAR/2019 21.38 GIMOVEL LA 84670000000-9 21380113228-2 26933870130-4 61643800100-3 '], ['vivo Cadastro do Assinante Telefônica Brasil S/A Av. Engenheiro Luiz Carlos Berrini, 1376, Ed. Eco Berrini Cidade Monções CEP: 04571-936-São Paulo - SP CNPJ: 02.558.157/0001-62 Nome: CELSO TAKEO SAKUGAWA Endereço: AV LINO JARDIM 131 COMPL AP 101 VL BASTOS - 09041-030 - SANTO ANDRE/ SP Código do cliente: 8999 3739 4282 DV: 6 Mês de referência: Julho/2020 Número da fatura: 1101729748-0 Tipo de cliente: Não residencial 01/08/2020 192,66 Número do telefone: 1149719042/1149721667 Data de emissão: 15/07/2020 Estado de instalação: São Paulo Insc Est: 108383949112 http://www.vivo.com.br Descrição da sua fatura VALOR (R$) Histórico de consumo RESUMO Plano Contratado / Serviços Mensais Serviços Outros Serviços Plano Contratado / Serviços Mensais Telefone 9,34 Total utilizado em min:seg das faturas com vencimento em: Fixo-Fixo Local 300 min (165) Fixo-Móvel Local 30 min (201) Assinatura de Linhas Compartilhadas (202) 106,50 34,08 42,44 192,36 Julho Agosto Tipo de Ligação Minutos Locais Utilizados Junho 2:30 1:00 49:00 Total Lig Locais Celular (VC1) 0:30 19:00 Ligações Ligações Locais Excedentes Ligações Locais para Celular (VC1) 0,30 0,00 Total 0,30 TOTAL GERAL A PAGAR 192,66 Vivo Valoriza Aproveite os benefícios do Vivo Valoriza no App Meu Vivo. Para informações detalhadas da sua conta acesse o aplicativo Meu Vivo.O detalhamento também está disponível em www.vivo.com.br/meuvivo e pode ser solicitado impresso, de forma permanente ou não. Caso ainda tenha dúvidas, ligue para nossa Central de Relacionamento no 103 15. Pessoas com necessidades especiais de fala/audição: 142. Mensagem para você Fique de olho! Os e-mails que a Vivo utiliza para enviar a Conta Digital são sempre terminados em \"@vivo.com.br\". Tenha cuidado com outros remetentes, pois eles podem apresentar riscos. Importante: mantenha o pagamento em dia e evite a suspensão parcial/total dos serviços e a inclusão nos orgãos de proteção do crédito. Para pagamentos após o vencimento serão cobrados encargos de 2% e juros de 1% ao mês em conta futura. O ressarcimento por inoperância é realizado em conformidade com as Resoluções: Para STFC artigo 32° da Resolução Anatel n° 426/2005; para SCM artigo 46° da Resolução Anatel n° 614/2013 e para TV artigo 6° da Resolução 488/2007. Central de Atendimento Anatel: 1331 (Geral), 1332 (Deficientes Auditivos) e www.anatel.gov.br. Recurso de atendimento VIVO, ligue com o protocolo em mãos para 10315 e 142 para pessoas com necessidades especiais de fala/audição. (165) PA 96 - Vivo Fixo Classica Meus Minutos (201) PA 277 - Planos de Minutos Locais Corporativos Super Fim de Semana (202) PA 96 - Vivo Fixo Clássica Meus Minutos Autenticação Mecânica DÉBITO AUTOMÁTICO EM CONTA CORRENTE Banco Bradesco, Agência 1794 Destaque Aqui Nome do Cliente Sr. Caixa, favor não receber pagamento parcial. CELSO TAKEO SAKUGAWA Código para Cadastramento Código do cliente Número da Fatura Data de Vencimento Valor a Pagar (R$) de Débito Automático 8999 3739 4282 899937394282-6 1101729748-0 01/08/2020 192,66 84620000001 2 92660082089 4 99373942821 3 10172974899 2 vivo '], ['Companhia Paulista de Força e Luz Rua Jorge de Figueiredo Correa, 1632 Jardim Professora Tarcília – Campinas/SP - CEP: 13087-397 Inscrição Estadual: 244.163.955.115 Inscrição no CNPJ: 33.050.196/0001-88 СPFL Uma empresa do Grupo CPFL Energia ENERGIA RODRIGO MARTINS VIEIRA Nota Fiscal R OLINDO GARDELIN 90 BL 2 AP 4 Conta de Energia Elétrica PQ VALENCA I N°. 111806792 série C Pág. 1 de 1 13058-533 CAMPINAS SP Data de Emissão 20/01/2020 Data de Apresentação 21/01/2020 Conta Contrato No 310053839117 Lote Roteiro de leitura Medidor Cliente Reservado ao fisco 12 CAMBU685-00000300 129203734 0711096154 AABC.549F.421E.26D1.A593.A5A3.824C.D02C PREZADO (A) CLIENTE FELIZ ANO NOVO! Que tal começar o ano atualizando seu cadastro? Saiba que a classe da sua conta determina sua tarifa e impostos. Se o imóvel não é RESIDENCIAL, atualize seu cadastro em nossos canais de atendimento. DADOS DA UNIDADE CONSUMIDORA RODRIGO MARTINS VIEIRA R OLINDO GARDELIN, 90 BL 2 AP 4 PQ VALENCA I CAMPINAS - SP CPF:322.826.108-57 Classificação: Convencional B1 Residencial - Monofásico 127 V SEU CÓDIGO 4000308482 CONTA/MÊS JAN/2020 TOTAL A PAGAR (R$) 189,11 ATENDIMENTO PN VENCIMENTO 0800 010 1010 0711096154 28/01/2020 www.cpfl.com.br DISCRIMINAÇÃO DA OPERAÇÃO - RESERVADO AO FISCO Cod. Descrição da Operação Mês Quant. Unid. Aliq. PIS COFINS Bandeiras Tarifa com Valor Total da Base Cálculo ICMS Base Cálculo 115 N° 908751984791 Ref. Fa Operação 1,37% 6,27% Tarifárias Med. Tributos ICMS ICMS PIS/COFINS 0605 Consumo Uso Sistema [KWh]-TUSD JAN/20 218,000 kWh 0,36408257 79,37 79,37 25,00 19,84 79,37 1,09 4,98 Amarela 12 Dias 0601 Consumo - TE JAN/20 218,000 kWh 0,41233945 89,89 89,89 25,00 22,47 89,89 1,23 5,64 Amarela 0601 Adicional de Bandeira Amarela JAN/20 4,33 4,33 25,00 1,08 4,33 0,06 0,27 20 Dias Total Distribuidora 173,59 DÉBITOS DE OUTROS SERVIÇOS 0807 Contrib. Custeio IP-CIP Municipal JAN/20 15,52 TOTAL CONSOLIDADO 189,11 173,59 43,39 173,59 2,38 10,89 HISTÓRICO DE CONSUMO kWh Dias TARIFA ANEEL EQUIPAMENTOS DE MEDIÇÃO / DATAS DE LEITURA Consumo TUSD TE Leitura Leitura Fator Consumo Taxa de Perda Leitura 2020 JAN 218 32 Consumo kWh 0,24526000 0,27776000 N° Energia 20/01/2020 19/12/2019 Multipl. [kWh] [%] Próximo Mês 2019 DEZ 172 29 129203734 ATIVA 13188 12970 1,00 218 17/02/2020 NOV 219 33 OUT 163 31 SET 165 29 AGO 177 31 JUL 178 31 JUN 137 29 ΜΑΙ 204 33 ABR 157 28 MAR 190 30 INDICADORES DE CONTINUIDADE DE FORNECIMENTO DE ENERGIA FEV 187 28 Para consulta dos indicadores acesse nosso site www.cpfl.com.br JAN 254 33 INFORMAÇÕES SOBRE A FATURA Custeio de iluminação pública: alterado valor de arrecadação conforme Lei Municipal 00011453 de 27.12.2002, com fundamento no Art. 149 A, parágrafo único, da Constituição Federal do Brasil. Considerar quitada se efetuado débito em conta corrente. Caso não ocorra o débito utilize esta conta para pagamento. AVISO IMPORTANTE A partir de 01.01.2020 todos os clientes têm direito a optar pela tarifa branca, saiba mais: www.cpfl.com.br/tarifabranca DÉBITO AUTOMÁTICO Total a Pagar (R$) Data de Vencimento 189,11 Nota Fiscal CódDébAut-Banco Conta de Energia Elétrica 111806792 Série C 310053839117 28/01/2020 Banco 001 Agência 1890 Essa conta poderá ser paga no credenciado mais perto de você. Confira a lista completa no site www.cpfl.com.br CONSCETTA E CONSCETTA LTDA ME SUPERMEROCADO SAO JOAO SUPERMERCADO AMARANTE cpfl paulista R IZIDORO BOSNARDO, 5 - JARDIM MARACANA R DR EDGARD PEREIRA DE SOUZA, 9 - PARQUE VALENCA R LOJA MACONICA INDEPENDENTE 826 - LOT NOVO MUNDO 836100000014 891100403072 933933343032 100538391176 Autenticação Mecânica '], ['THIAGO FAVARO PADILHA Código Vencimento Valor Claro- R MANOEL S DE FREITAS FILHO, 01277 BL 5 APT 505 JD NOVA EUROPA 20/05/2021 169,98 052/020885807 13040-089 CAMPINAS SP Forma de Pagamento DÉBITO AUTOMÁTICO CPF/CNPJ 309.674.348-74 PARA 2a VIA DA FATURA, DÉBITO AUTOMÁTICO E DÚVIDAS, ACESSE MINHACLARO.COM.BR 001/006 Importante: Minha Claro: descrição total Mantenha seu e-mail e telefones sempre atualizados. Acesse claro.com.br/minha-claro, faça seu login ou cadastre-se. NET VIRTUA + NET VIRTUA + 119,99 Atenção: o cancelamento de seus serviços CLAR0, durante o período de permanência mínima, estará sujeito à cobrança de multa contratual. O Serviços Móveis SERVIÇOS MÓVEIS 49,99 Claró-clube Valor total Saldo de pontos em 02/05/21 Pontos resgatados em 04/21 169,98 270 NET VIRTUA + Mensalidade Proporcional VIRTUA + 01/04/21 A 27/04/21 OFERTA CONJUNTA PROPORCIONAL VIRTUA 120 MEGA FIDELIDADE + AP 107,99 28/04/21 A 30/04/21 MENS PROPORCIONAL VIRTUA VIRTUA 240 MEGA 12,00 Sub-Total Mensalidade Proporcional VIRTUA + 119,99 Total NET VIRTUA + 119,99 U Serviços Móveis Mensalidade Claro 49,99 Total Serviços Móveis 49,99 FIQUE ATENTO ÀS TENTATIVAS DE FRAUDE PARA TER MAIS SEGURANÇA NO SEU DIA A DIA. Consulte a 2° via e confirme o valor da fatura no app Minha Claro residencial. Minha Claro- residencial Tentativas de fraudes com boletos, infelizmente, são uma realidade em nosso dia a dia. Por isso, a Claro compartilha informações para que você esteja protegido nestas situações: Confira outras dicas de segurança em claro.com.br/seguranca. O remetente da fatura Claro é faturadigitalaminhaclaro.com.br e para abri-la, digite os 5 primeiros digitos do CPF ou CNPJ do titular. Verifique o código de barras. Os boletos da Claro sempre se iniciam com \"846\" ou \"848\". Caso prefira, você pode ver o valor e o código de barras através do site, app Minha Claro ou pelo WhatsApp oficial (11) 9999-10621. Claro- Você merece o novo. Atendimento presencial Av.John Boyd Dunlop, 501 VI.São - Caso existam serviços prestados e não cobrados, esses Bento Campinas Consulte outras lojas em claro.com.br Evite o desligamento de seu sinal efetuando o pagamento até a data do vencimento. NET filiada ao Serasa/SCPC. - Para pagamentos após o vencimento serão cobrados juros diários de 0,033% e multa de 2%. Ligue 10621 para informações, reclamações ou cancelamentos (ligação gratuita). serão inclusos nas suas próximas faturas. Deficiente Auditivo e de Fala ligue 0800 721 7707 - É preciso realizar a ligação com um telefone adaptado com dispositivo TDD (Dispositivo de Telecomunicações para surdos). Ligue 4004-7777 para atendimento técnico, financeiro e compra de serviços (custo de ligação local). REGISTROS DE ATENDIMENTO: 052212967807007, 052202864953004, 052202782786650, 052202782442478, 052202780260815 Ouvidoria 08007010180 Autenticação Mecânica DÉBITO AUTORIZADO - BANCO ITAU S.A. ATENÇÃO! ESTE EXTRATO É APENAS INFORMATIVO. Caso não ocorra o débito em sua conta corrente, dirija-se a um dos bancos conveniados abaixo ou acesse claro.com.br/minha-claro, faça seu login e efetue o pagamento. Atenção efetue seus pagamentos nos bancos conveniados a seguir: BANCO BRADESCO S.A., BANCO COOPERATIVO DO BRASIL SA, BANCO COOPERATIVO SICREDI S/A, BANCO DE BRASILIA SA., BANCO DO BRASIL S.A., BANCO DO ESTADO DO PARA, BANCO INTER S.A., BANCO ITAU S.A., BANCO MERCANTIL DO BRASIL S.A., BANCO ORIGINAL S.A., BANCO SAFRA S/A, BANCO SANTANDER, BANCO TRIANGULO S.A., BANESE, BANRISUL, CAIXA ECONOMICA FEDERAL, CITIBANK, MULTIPAGOS Cliente Identificação para Débito NET SERVICOS 0520208858075 Mês Referência Abril/2021 Vencimento Valor THIAGO FAVARO PADILHA 20/05/2021 169,98 84670000001-7 69980296202-6 10520052000-2 00202346887-5 '], ['vivo www.vivo.com.br/suaconta Centalde Rebcio na meno Vio \"8486 Fale Conosco: www.vivo.com.br/fa leco nosco Vva SA Av Ay ton Senna, 2200 CEP:22775-00G - Rb de Janeira - RJ IE:ILAS CNPJ 2449 SEZ0181-01 MARCIA RIBE IRO RGOMES BRAGA, 5 AP 202 ANDARAI 20541-140 RDE JANEIRO - RJ Conta: 2014861670 VENCIMENTO: TOTAL A PAGAR - R$ Mês de Referência: 12/2009 Emissäo: Perí odo: 21/12/2009 445,35 10/12/2009 06/11/09 a 05/12/09 Número(s) do(s) Celular(es) 21-7105-5659 21-9614-3144 21-9986-3444 Relação total de celulares está bcalizada na seção Celulares que Compõem sua Fatura. Resumo de Utilização Crédito R$ Débito R$ Lança mentos Diversos Crédito R$ Dé bito R$ Planos Contratados 187,80 28,06 Serviços Adicionais Chamadas Dentro da Área de Registro Chamadas Locais Originadas Chamadas de Longa Distância Total de Créditos/Débitos 0,00 445,35 TOTAL APAGAR 1,99 227,50 445,35 ATÉ A EMISSÃO DESTA FATURA CONSTAVA(M) DÉBITO(S) DE CONTA(S) ANTERIOR(ES) ESTE BOLETO NÃO QUITA DÉBIT OS ANTERIORES. Prezado cliente, mantenha o pagamento em dia evitando a suspensão parcia lbtal dos serviçose a inclusão nosorgãos de proteção ao crédito. Para paga menbs realizados após a data de vencimento serão cobrados na p róxima fatura m ulta de 2% e juros de 1% ao mês. Aute rtbaçio Mecanba --- ---- 846900000049 453500480018 120148616705 120960912216 vivo VENCIMENTO TOTAL A PAGAR - R$ Nome do C liente MARCIA RIBEIRO 21/12/2009 445, 35 Número da Conta Mês Refe rê ncia Ide ntificação de Débib Aubmático 201486 16 70-9 2014861670 12/2009 '], ['Companhia Paulista de Força e Luz Rod. Campinas-Mogi Mirim, km 2,5, n° 1755 CP 7005 – CEP 13076-970 – Campinas – SP Inscrição Estadual: 244.163.955.115 Inscrição no CNPJ: 33.050.196/0001-88 CPFL Uma empresa do Grupo CPFL Energia ENERGIA ARNALDO MACIEL BELLATO Nota Fiscal R JASMIM 612 TP 1 AQUARELLE RESIDENCE AP 10 Conta de Energia Elétrica CH PRIMAVERA N°. 001274875 série C Pág. 1 de 1 13087-460 CAMPINAS SP Data de Emissão 11/07/2017 Data de Apresentação 14/07/2017 Conta Contrato No 310054814230 Lote Roteiro de leitura Medidor Cliente Reservado ao fisco 06 CAMBUD02-00000172 220851662 0703613358 122E.1BEE.B107.0208.043C.C67F.CA0E.800E PREZADO (A) CLIENTE Mantenha seus dados sempre atualizados, alguns itens determinam a tarifa e tributação de sua fatura de energia elétrica. Solicite os serviços disponíveis em nosso site com rapidez e segurança e reserve mais tempo para você em seu dia-a-dia. Mais informações acesse o endereço que consta no verso de sua conta. DADOS DA UNIDADE CONSUMIDORA ARNALDO MACIEL BELLATO R JASMIM, 612 TP 1 AQUARELLE RESIDENCE AP 10 CH PRIMAVERA CAMPINAS - SP CPF:290.848.948-12 CLASSIFICAÇÃO: B1 Residencial - Bifásico 220 / 127 V CONTA/MÊS JUL/2017 SEU CÓDIGO TOTAL A PAGAR (R$) 33,66 ATENDIMENTO CPFL PN VENCIMENTO 0800 0 10 10 10 0703613358 4000568483 24/07/2017 www.cpfl.com.br DISCRIMINAÇÃO DA OPERAÇÃO - RESERVADO AO FISCO Cod. Descrição da Operação Mês Quant. Unid. Tarifa com Valor Total da Base Cálculo Aliq. ICMS Base Cálculo PIS COFINS Bandeiras Tarifárias 115 N° 905101672225 Operação (Dias) Ref. turada Med. Tributos ICMS ICMS PIS/COFINS 0,86% 3,95% Verde 0605 Consumo Uso Sistema [KWh]-TUSD JUL/17 78,000 kWh 0,15935898 12,43 12,43 0,11 0,49 22 Dias 0601 Consumo Bandeira Verde - TE JUL/17 78,000 kWh 0,26525642 20,69 20,69 0,18 0,82 Amarela 0601 Adicional de Bandeira Amarela JUL/17 0,54 0,54 0,02 11 Dias Total Distribuidora 33,66 TOTAL CONSOLIDADO 33,66 33,66 0,29 1,33 HISTÓRICO DE CONSUMO kWh Dias TARIFA ANEEL EQUIPAMENTOS DE MEDIÇÃO / DATAS DE LEITURA Consumo TUSD TE Leitura Leitura Fator Consumo Taxa de Perda Leitura 2017 JUL 78 33 Consumo kWh 0,15168000 0,25249000 N° Energia 11/07/2017 08/06/2017 Multipl. [kWh] [%] Próximo Mês JUN 75 29 220851662 ATIVA 3953 3875 1,00 78 09/08/2017 ΜΑΙ 71 33 ABR 88 29 MAR 77 29 FEV 74 29 COMPOSIÇÃO FORNECIMENTO Energia R$ Transmissão R$ JAN 72 29 INDICADORES DE CONTINUIDADE DE FORNECIMENTO DE ENERGIA CAMPINAS 6-TAQUARAL 2016 DEZ 95 33 18,53 Padrão Padrão Padrão Apurado Período Valor do EUSD NOV 80 30 2,48 Trimestral 9,43 6,22 Mensal 0,00 0,00 0,00 0,00 Apuração [R$] Distribuição R$ Perdas R$ DIC FIC DMIC DICRI Mensal 4,71 3,11 2,60 12,22 Anual 18,86 12,45 OUT 79 31 6,19 05/2017 10,76 SET 75 30 2,27 78 30 Encargos R$ Tributos R$ AGO 2,57 JUL 73 32 1,62 INFORMAÇÕES SOBRE A FATURA Considerar quitada se efetuado débito em conta corrente. Caso não ocorra o débito utilize esta conta para pagamento. AVISO IMPORTANTE DÉBITO AUTOMÁTICO Total a Pagar (R$) Data de Vencimento 33,66 Nota Fiscal CódDébAut-Banco 310054814230 Conta de Energia Elétrica 001274875 Série C 24/07/2017 Banco 001 Agência 4053 Essa conta poderá ser paga no credenciado mais perto de você. Confira a lista completa no site www.cpfl.com.br DROGARIA THE MALL DROGARIA DOM PEDRO CAMPINAS AC SHOPPING PARQUE D PEDRO cpfl paulista R. RUTE FERRAZ DE ANGELIS - LJL 01 886 - LOTEAMENTO RESIDENCI AV GUILHERME CAMPOS LJ. 30A 500 - JARDIM SANTA GENEBRA Av Guilherme Campos 500 Loja 004 Aloja 004 A - Pq das Flores 836400000003 336600403008 765287448037 100548142304 Autenticação Mecânica '], ['TEGEUAK ORE LESTE SA CNP 39 000 B0016-74.INSC. ESTADUAL O 1oe2os- 2* Via PAS FIXO OSE MARTINS DE ANORADE FORTALEZA-CE Raferencia SETEMBRO 2013 Telefone Vencimento Totel a pagar (85) 3214-4702 15/09/2012 RS 113,05 Resumo da Bua fatura OL FIXO. m RS 42,89 PACOYA OR MHUTOS FuoNOLOGAL PACOYE Dn venre FKOMOVEL LOGAL PACOTE DB MNUYO FNOINO LOHGA DISTAHCIA 31 OUTROR PACOTESE ERVICOS MESA OI VELOX. -- OFERTA VELOKE ERVCOS DE BAHDA LAROA AINATURA VELOX R$ ¢1.00 1.2 EXCEDENTES, OUTROS SERVICOS E TAXAS JERICOs QUTRAPRESTADORASE DE YERCEIROS QUTROR VALORES R$ 8.18 TUDO DA SUA CONTA ESTÁ AQUI. MAIS FACIL DE ENCONTRAR. ENTENDER E CONPERIR, Simpificamos a apresorvação dos teus gastos com os serviços Oi pra não deixar duvidas pra voce. Soba male no verso. SUA CONTA ESTA EMDÉBITO AUTOMATICO PH nko eeoupe A ema d antedeesewww.Aern a mais TELEMARNOATE LESTE JOSE MARTING DE AHOIADE FIXO MATE cij 01- YELEFO ccermATO CONTA: 02013 LOGAL OAT PAYURA N VENCETO VALORA PAGARE 11300 '], ['LEIA COM ATENÇÃO OSANASA CAMPINAS Sociedade de Abastecimento de Agua e Saneamento S/A Av. da Saudade, 500 - Ponte Preta - CEP 13041-903 - Campinas - SP Inscrição Estadual 244.371.725.111 - CNPJ 46.119.855/0001-37 ISO 9001 1060 00005 SEQ. MARCOS ANDERSON DE SOUSA JAMES MARCELO BASSAN RES LAUERZ RUA SWISS PARK CAMPINAS SP 13049-620 P91309 MES DE REFERENCIA: 09/2019 HIDROME TRO: 0046171 ROTEIRO: 060312130O CONSUMIDOR: 3.203.916 REGIAO: 07 01 DT. VENCIMENTO: 15/ 10/2019 N. DOM: CATEG. : 23 RESIDENCIAL 826200000006 937001052011 910153203914 620190950712 COLETADAS • 30 DIAS APOS O VENCIMENTO, o CONSUMIDOR PODERÁ TER ABASTECIMENTO INTERROMPIDO POR FALTA DE PAGAMENTO. ATENDIMENTO SANASA: 0800-7721195 www.sanasa.com.br '], ['TELMAR NOLESTESA CNP onoe-.C ESTAAL RDOLARADO n. CONO MRO P N- MATR n DAA e oi Editar informações Salvar em arquivo PDF lullalılallalılalalualldulllll JOÃO DA SILVA JESUS RMAL DEOCORO A SANTO AMARO 4738-000 SÃO PALLO-SP Referência Julho/2018 Telefone Vencimento Total a pagar 11 91234-5678 10/07/2018 R$ 69,53 Resumo da sua fatura OI FIXO R$ 18,61 12. PADOTE E INUS FE-FID LOAL PACOTE DE EUTes LONA BESTANCA CON 31 oTes PAeTS E SERVos EAES OI VELOX RS 39,04 OFERA VELOKE SERICS E AM LARA ASSEarURA VLe EXCEDENTES, OUTROS SERVICOS E TAXAS R$ 11,88 11. os VALORS '], ['Companhia Paulista de Força e Luz Rua Jorge de Figueiredo Correa, 1632 Jardim Professora Tarcília – Campinas/SP - CEP: 13087-397 Inscrição Estadual: 244.163.955.115 Inscrição no CNPJ: 33.050.196/0001-88 CPFL Uma empresa do Grupo CPFL Energia ENERGIA ARTHUR FORTES DA COSTA Nota Fiscal R HERMANTINO COELHO 255 BL 5 AP 23 Conta de Energia Elétrica MAN STO ANTONIO N°. 101096541 série C Pág. 1 de 1 13087-500 CAMPINAS SP Data de Emissão 12/11/2019 Data de Apresentação 18/11/2019 Conta Contrato No 310091689739 Lote Roteiro de leitura Medidor Cliente Reservado ao fisco 07 CAMBUD49-00000853 215857038 0711530431 6A41.8E2C.8245.9B0B.795F.1D76.C5F8.0603 PREZADO (A) CLIENTE Mantenha seus dados sempre atualizados, alguns itens determinam a tarifa e tributação de sua fatura de energia elétrica. Solicite os serviços disponíveis em nosso site com rapidez e segurança e reserve mais tempo para você em seu dia-a-dia. Mais informações acesse o endereço que consta no verso de sua conta. DADOS DA UNIDADE CONSUMIDORA ARTHUR FORTES DA COSTA R HERMANTINO COELHO, 255 BL 5 AP 23 MAN STO ANTONIO CAMPINAS - SP CPF:021.251.723-64 Classificação: Convencional B1 Residencial - Bifásico 220 / 127 V SEU CÓDIGO 8866562 CONTA/MÊS NOV/2019 ΑΤENDIMEΝTΟ PN VENCIMENTO TOTAL A PAGAR (R$) 0800 010 1010 0711530431 09/12/2019 133,52 www.cpfl.com.br DISCRIMINAÇÃO DA OPERAÇÃO - RESERVADO AO FISCO Cod. Descrição da Operação Mês Quant. Unid. Aliq. PIS COFINS Bandeiras Tarifa com Valor Total da Base Cálculo ICMS Base Cálculo 115 N° 900852730174 Ref. Fa 6,13% Tarifárias Med. Tributos Оperaҫӑo ICMS ICMS PIS/COFINS 1,33% 0605 Consumo Uso Sistema [KWh]-TUSD NOV/19 174,000 kWh 0,30448276 52,98 52,98 12,00 6,36 52,98 0,70 3,25 Amarela 20 Dias 3,68 Vermelha P1 0,12 0601 Consumo - TE NOV/19 174,000 kWh 0,34488506 60,01 60,01 12,00 7,20 60,01 0,80 0601 Adicional de Bandeira Amarela NOV/19 2,02 2,02 12,00 0,24 2,02 0,03 12 Dias 0601 Adicional de Bandeira Vermelha NOV/19 3,38 3,38 12,00 0,41 3,38 0,04 0,21 Total Distribuidora 118,39 DÉBITOS DE OUTROS SERVIÇOS 0807 Contrib. Custeio IP-CIP Municipal NOV/19 15,13 TOTAL CONSOLIDADO 133,52 118,39 14,21 118,39 1,57 7,26 HISTÓRICO DE CONSUMO kWh Dias TARIFA ANEEL EQUIPAMENTOS DE MEDIÇÃO / DATAS DE LEITURA Consumo TUSD TE Leitura Leitura Fator Consumo Taxa de Perda Leitura 2019 NO 174 32 Consumo kWh 0,24526000 0,27776000 N° Energia 12/11/2019 11/10/2019 Multipl. [kWh] [%] Próximo Mês OUT 198 31 215857038 ATIVA 11397 11223 1,00 174 13/12/2019 SET 157 29 AGO 221 31 JUL 186 31 JUN 161 29 ΜΑΙ 185 32 ABR 185 29 MAR 183 30 FEV 194 28 JAN 196 32 INDICADORES DE CONTINUIDADE DE FORNECIMENTO DE ENERGIA 2018 DEZ 184 31 Para consulta dos indicadores acesse nosso site www.cpfl.com.br NOV 63 32 INFORMAÇÕES SOBRE A FATURA AVISO IMPORTANTE A partir de 01.01.2020 todos os clientes têm direito a optar pela tarifa branca, saiba mais: www.cpfl.com.br/tarifabranca CódDébAut-Banco 310091689739 Total a Pagar (R$) Data de Vencimento 133,52 Nota Fiscal Conta de Energia Elétrica 101096541 Série C 09/12/2019 Essa conta poderá ser paga no credenciado mais perto de você. Confira a lista completa no site www.cpfl.com.br Loja 2189 - LC-PE M BERNARDES CAMP DROGARIA DOM PEDRO CAMPINAS O MATUTO cpfl paulista R PADRE MANUEL BERNARDES 971 - TAQUARAL AV GUILHERME CAMPOS LJ. 30A 500 - JARDIM SANTA GENEBRA RUA LUIZ OTAVIO, 651 - PARQUE TAQUARAL 836700000018 335200403145 033815126033 100916897398 Autenticação Mecânica '], ['vivo PATRICIA MIKA SAKUGAWA CPF/CNPJ: 368.787.688-88 AVENIDA LINO JARDIM 131 Inscrição Estadual: ISENTO APARTAMENTO 101 Número da Conta: 00001101080299 VILA BASTOS 09041-030 SANTO ANDRE - SP NOTA FISCAL DE SERVIÇOS DE TELECOMUNICAÇÕES Nome da Empresa: Telefonica Brasil S.A. Endereço: Av. Engenheiro Luiz Carlos Berrini, 1.376 - Cidade Monções CNPJ: 02.558.157/0001-62 N° NFST: 19361815/03/2020 Período: 25/01/2020 a 24/02/2020 N° Série: BT Sub-Série: 1 Emissão: 01/03/2020 Atende o convênio: 115/2003 CFOP: 5.307 I.E.: 108383949112 Descrição: PF/PJ - OUTROS Seq. Cód. Serviço Descrição Quantidade ICMS Valor R$ 1 1570 Serviços Contratados Vivo Móvel 1 25% 39,00 TOTAL NOTA FISCAL TELEFONICA BRASIL S.A. 39,00 Informações Complementares ICMS 25,00% PIS 0,65% COFINS 3,00% Base de Cálculo R$ 39,00 Base de Cálculo R$ 29,25 Base de Cálculo R$ 29,25 Valor ICMS R$ 9,75 Valor PIS R$ 0,19 Valor COFINS R$ 0,88 Serv. Isentos/Não Tributável Serv. Isentos/Não Tributável Serv. Isentos/Não Tributável R$ 0,00 R$ 0,00 R$ 0,00 Contribuição para o FUST 1% = R$0,28 e FUNTTEL 0,5% = R$0,14 do valor dos serviços - não repassados às tarifas. Autenticação digital: 7f208bb4f8e9d03edb1f5570be3816b2 %3D VEJA O USO DETALHADO DO VIVO MÓVEL 11-97448-3448 SERVIÇOS CONTRATADOS Período Incluso Plano/Pacote Utilizados Minutos/Unidades Valor R$ VIVO CTRL DIGITAL-3GB ILIM_ Serviços Telefônica Brasil Subtotal 39,00 39,00 25/01/20 a 24/02/20 Período Incluso Plano/Pacote Utilizados Minutos/Unidades Valor R$ BÔNUS CONTA DIGITAL 25/01/20 a 24/02/20 500MB 0,00 Período Incluso Plano/Pacote Utilizados Minutos/Unidades Valor R$ VIVO CONTROLE SERV DIGITAL II 25/01/20 a 24/02/20 10,99 Serviços TELEFONICA BRASIL 02.558.157/0135-74 Combo Digital Data Tipo Quantidade Valor R$ 25/01/20 VIVO CONTROLE SERV DIGITAL II 1 5,00 Subtotal 1 5,00 VALOR DO VIVO MÓVEL 11-97448-3448 Valor R$ SERVIÇOS CONTRATADOS Serviços TELEFONICA BRASIL 02.558.157/0135-74 49,99 5,00 Total 54,99 AUTORIZAÇÃO DE DÉBITO AUTOMÁTICO EM CONTA-CORRENTE Autorizo que o pagamento da minha conta telefônica seja efetuado de acordo com os valores informados pela Vivo através do serviço de débito automático em conta-corrente no banco, agência e conta-corrente por mim abaixo indicados. Fico ciente de que qualquer alteração nos mesmos poderá implicar na descontinuidade do serviço de débito automático, cabendo a mim realizar a solicitação de um novo cadastramento. No caso de insuficiência de saldo, estou ciente de que o débito ficará em aberto sendo da minha responsabilidade a sua quitação. Cód. Débito Automático: 1101080299-7 Nome do Cliente: Nome do Correntista: CPF/CNPJ: RG: Órgão Emissor: Banco: Agência: Conta Corrente: Local e data Assinatura do titular da conta corrente 846900000007 549900801008 011010802996 920022569007 Número da Conta: 00001101080299 Mês de Referência: 02/2020 Pág. 02/02 '], ['Fatura de Serviços de Telecomunicações Página 0001 de 0002 oi FIXO OI S.A. Av. Borges de Medeiros, 512 - PARTE - Centro CEP 90020-902 - Porto Alegre - RS CNPJ Matriz : 76.535.764/0001-43 CNPJ: 76.535.764/0002-24 LE: 096/2.845.833 SOBRADINHO CAMARA DE VEREADORES R. GEN OSORIO, 00200 - 10215 CENTRO 96055-080 SOBRADINHO - RS Referência ABRIL/2014 Telefone Vencimento Total a Pagar (51) 3742 1510 15/04/2014 R$ 395,62 Resumo da sua Fatura OI FIXO R$ 57,60 OUTROS PACOTES E SERVICOS MENSAIS 57,60 OI VELOX R$ 192,52 .... OFERTA VELOXE SERVICOS DE BANDA LARGA 192,52 ASSINATURA VELOX (+@ EXCEDENTES, OUTROS SERVICOS E TAXAS.... R$ 145,50 LIGACOES FIXO-FIXO 42,55 102,95 0,00 LIGACOES FIXO-MOVEL OUTROS VALORES TUDO DA SUA CONTA ESTÁ AQUI. MAIS FÁCIL DE ENCONTRAR, ENTENDER E CONFERIR. Simplificamos a apresentação dos seus gastos com os serviços Oi pra não deixar dúvidas pra você. SUA CONTA ESTÁ EM DÉBITO AUTOMÁTIC0? Facilite a sua vida e não se preocupe mais com a data de vencimento. Acesse www.oi.com.br e saiba mais. ---------------------------- --- - OI S.A. Av. Borges de Medeiros, 512 - PARTE - Centro CEP 90020-902 - Porto Alegre - RS CNPJ Matriz : 76.535.764/0001-43 CNPJ: 76.535.764/0002-24 I.E: 096/2.845.833 SOBRADINHO CAMARA DE VEREADORES Número do Telefone: 51 3742 1510 Número da Fatura: 1404.00083373 Sequencial: 00097294220140401191 Contrato Agrupador: 000.972.942-9 2* Via 84670000003 3 95620002000 9 97294220140 1 40119100000 9 FATURA N.: 1404.00083373 VENCIMENTO: 15/04/2014 VALOR A PAGAR R$ 395.62 '], ['Pagina 000001 de 000006 Fatura de Serviços de Telecomunicações FIXO Oi S.A. Av. Borges de Medeiros, 512 - Centro CEP 90020-902 - Porto Alegre - Rs CNPJ Matriz : 76.535.764/0001-43 CNPJ: 76.535.764/0002-24 I.E: 096/2.845.833 CTC PORTO ALEGRE RS PL 05 Referência SOBRADINHO CAMARA DE VEREADORES R GEN OSORIO 00200 ED ARROIO BONITO CENTRO 96900-000 SOBRADINHO - RS FEVEREIRO/2014 720003989600001000000033933015022014 Total a pagar R$ 349,31 Telefone Vencimento (51) 3742 1510 14/02/2014 Resumo da sua fatura R$ 57,60 OI FIXO OUTROS PACOTES E SERVICOS MENSAIS 57,60 OI VELOX R$ 179,90 ......... OFERTA VELOX E SERVICOS DE BANDA LARGA 179,90 ASSINATURA VELOX EXCEDENTES, OUTROS SERVICOS E TAXAS R$ 111,81 LIGACOES FIXO-FIXO LIGACOES FIXO-MOVEL SERVICOS OUTRAS PRESTADORAS E TERCEIROS OUTROS VALORES 39,94 68,26 3,61 0,00 TUDO DA SUA CONTA ESTÁ AQUI. MAIS FÁCIL DE ENCONTRAR, ENTENDER E CONFERIR. Simplificamos a apresentação dos seus gastos com os serviços Oi para não deixar dúvidas pra você. Sua conta está em débito automático? Facilite a sua vida e não se preocupe mais com a data de vencimento. Acesse www.oi.com.br e saiba mais. Oi S.A. Av. Borges de Medeiros, 512 - Centro CEP 90020-902 - Porto Alegre - Rs CNPJ Matriz : 76.535.764/0001-43 CNPJ: SOBRADINHO CAMARA DE VEREADORES Número do Telefone: 51 3742 1510 oi FIXO 76.535.764/0002-24 LE: 096/2.845.833 Número da Fatura: 1402.000084917 Sequencial: 000972942 201402 01192 Contrato Agrupador: 000.972.942-9 - 1° Via 84650000003 5 49310002000 4 97294220140 1 20119200000 2 Data de Vencimento 14/02/2014 Valor a pagar: 349,31 N° Identificador para Débito Automático: 000.972.942-9 0000103393/ 017781 '], ['Companhia Paulista de Força e Luz Rua Jorge de Figueiredo Correa, 1632 Jardim Professora Tarcília – Campinas/SP - CEP: 13087-397 Inscrição Estadual: 244.163.955.115 Inscrição no CNPJ: 33.050.196/0001-88 СPFL Uma empresa do Grupo CPFL Energia ENERGIA MARCOS ANDERSON DE SOUSA R JAMES MARCELO BASSAN 5 Nota Fiscal Conta de Energia Elétrica RES LAUERZ N°. 118163329 série C Pág. 1 de 1 13049-620 CAMPINAS SP Data de Emissão 04/03/2020 Data de Apresentação 09/03/2020 Conta Contrato No 310094379315 Lote Roteiro de leitura Medidor Cliente Reservado ao fisco 01 CAMBUE31-00000316 206816774 0712251374 E442.BC06.8B34.140D.60B2.D9BC.4BA3.E688 PREZADO (A) CLIENTE Mantenha seus dados sempre atualizados, alguns itens determinam a tarifa e tributação de sua fatura de energia elétrica. Solicite os serviços disponíveis em nosso site com rapidez e segurança e reserve mais tempo para você em seu dia-a-dia. Mais informações acesse o endereço que consta no verso de sua conta. DADOS DA UNIDADE CONSUMIDORA MARCOS ANDERSON DE SOUSA R JAMES MARCELO BASSAN, 5 RES LAUERZ CAMPINAS - SP CPF:229.856.188-51 Classificação: Convencional B1 Residencial - Bifásico 220 / 127 V SEU CÓDIGO 41943783 CONTA/MÊS MAR/2020 TOTAL A PAGAR (R$) 85,34 ATENDIMENTO PN VENCIMENTO 0800 010 1010 0712251374 16/03/2020 www.cpfl.com.br Segunda Via DISCRIMINAÇÃO DA OPERAÇÃO - RESERVADO AO FISCO Cod. Descrição da Operação Mês Quant. Unid. Aliq. PIS COFINS Bandeiras Tarifa com Valor Total da Base Cálculo ICMS Base Cálculo 115 N° 906852624987 Ref. Fa 2,78% Tarifárias Med. Tributos Оperaҫӑo ICMS ICMS PIS/COFINS 0,59% 0605 Consumo Uso Sistema [KWh]-TUSD MAR/20 113,000 kWh 0,28973452 32,74 32,74 12,00 3,93 32,74 0,19 0,91 Verde 26 Dias 0601 Consumo - TE MAR/20 113,000 kWh 0,32814160 37,08 37,08 12,00 4,45 37,08 0,22 1,03 Verde Total Distribuidora 69,82 04 Dias DÉBITOS DE OUTROS SERVIÇOS 0807 Contrib. Custeio IP-CIP Municipal MAR/20 15,52 TOTAL CONSOLIDADO 85,34 69,82 8,38 69,82 0,41 1,94 HISTÓRICO DE CONSUMO kWh Dias TARIFA ANEEL EQUIPAMENTOS DE MEDIÇÃO / DATAS DE LEITURA Consumo TUSD TE Leitura Leitura Fator Consumo Taxa de Perda Leitura 2020 MAR 113 30 Consumo kWh 0,24526000 0,27776000 N° Energia 04/03/2020 03/02/2020 Multipl. [kWh] [%] Próximo Mês FEV 120 28 206816774 ATIVA 35255 35142 1,00 113 01/04/2020 JAN 162 32 2019 DEZ 122 31 NOV 221 32 OUT 145 31 SET 97 31 AGO 88 30 JUL 89 30 JUN 109 31 ΜΑΙ 140 31 INDICADORES DE CONTINUIDADE DE FORNECIMENTO DE ENERGIA ABR 147 27 Para consulta dos indicadores acesse nosso site www.cpfl.com.br INFORMAÇÕES SOBRE A FATURA Considerar quitada se efetuado débito em conta corrente. Caso não ocorra o débito utilize esta conta para pagamento. AVISO IMPORTANTE DÉBITO AUTOMÁTICO CódDébAut-Banco 310094379315 Total a Pagar (R$) Data de Vencimento 85,34 Nota Fiscal 16/03/2020 Conta de Energia Elétrica 118163329 Série C Banco 104 Agência 4487 Essa conta poderá ser paga no credenciado mais perto de você. Confira a lista completa no site www.cpfl.com.br Loja 58 - LC-SWISS PARK CAMPINAS DELLAQUA STORE PIRIQUITO cpfl paulista AV FRANCISCO ALFREDO JUNIOR 319 - SWISS PARK R DOS NARCISOS 65 - VILA MIMOSA AV. DAS AMOREIRAS 6533 - JD. N. CAMPOS ELISIOS 836400000003 853400403061 834002781039 100943793156 Autenticação Mecânica '], ['vivo www.vivo.com.br/suaconta Central de Relacionamento Vivo *8486 Fale Conosco: www.vivo.com.br/faleconosco Viva SA Av. Av iton Senna 2200 CEP:22775-003- Rio de Janeira - RJ LE B6202928 CNPJ 02 440 020 181-01 MARCIA RIBEIRO R GOMES BRAGA, 5 AP 202 ANDARAI 20541-140 R DE JANEIRO-RJ Conta: 2014861670 VENCIMENTO: TOTAL A PAGAR - R$ Emissäo: Mês de Referência: Período: 06/11/09 a 05/12/09 21/12/2009 445,35 10/12/2009 12/2009 Número(s) do (s) Celularjes) 21-7105-56 59 21-9614-3144 21-9986-3444 Relação total de ce lulares está bcalizada na seção Celulares que Compõem sua Fatura. Resumo de Utilização Crédito R$ Dé bito R$ Lançamentos Diversos Crédito R$ Débito R$ 187,80 28,06 Planos Contratados Total de Créditos/Débitos Serviços Adicionais Chamadas Dentro da Area de Registro Chamadas Locais Originadas Chamadas de Longa Distância 0,00 445,35 1,99 TOTAL A PAGAR 445,35 227,50 ATÉ A EMISSÃO DESTA FATURA CONSTAVA(M) DÉBITOS) DE CONTA(S) ANTERIOR(ES) ESTE BOLETO NÃO QUITA DÉBITOS ANTERIORES. Prezado cliente, mantenta o pagamenb emda evitando a suspensão parcialtotal dos serviços e a inclusão nos orgãos de proteção ao crédito. Para pagamentos realizados após a data de vencimento serão cobrados na próxima fatura multa de 2% e juros de 1% ao mês. Autenticação Meca nica --- --- 846900000049 453500480018 120148616705 120960912216 vivo VENCIMENTO TOTAL A PAGAR - R$ Nome do Cliente MARCIA RIBEIRO 445, 35 21/12/2009 Mês Referência Identificação de Débito Automático 2014861670-9 Número da Conta 201486 16 70 122009 Atg ER '], [\"vivo www.vivo.com.brimeuvivo N°da Conta: 0367618186 Mês de referência: 02/20 19 Periodo: 210 1/20 19 a 200220 19 Data de emissãe: 230220 19 Fals conosco: Central de Relacionamento *8486 ou www.vivo.com.brfaleconosco Telefonica BrasilS.A Au. Engenheire Deminges Ferreira, 837 CEP $1,011-451 - Recite - PE LE: 029494400 CNPJ Matiz :02.558.157/0001-62 CNPJ Fiial :02.SS8.157/0008-39 EDMO RAMOS DE OLIVEIRA R MACHADO, 122 BAIRRO NOVO 55819-325 CARPINA - PE Vencimento 0610312019 Total a Pagar - R$ 39,99 Seus Números Vivo Aguarde informações referentes ao Vivo 81-98234-1295 Valoriza Caso você tenha mais lirhas, consulte o detalhamento da sua conta. O que está sendo cobrado Quantidade de Quantidade de PlanoPacote Números Vivo Valor R$ Plano/Pacote Incluso PlanoPacote Ublizado Valor Total Minutosuridades R$ Serviços Contratados MVO CTRL DIGITAL_IG8 wvo CONTROLE SERVDIGITAL I 39,99 39,99 0,00 Suttotal 3 9,99 TOTAL A PAGAR 39,99 MENSAGEM IMPORTANTE PARA VOCÊ O relatorio detalhado está dis ponivelem www.VNo.com.beimeuv ivo e pode ser solictado impresso, de forma permanente ou não. App Meu Vivo. É ojeito mais prático de acessar a sua conta detalhada, 2' via de conta, consumo de internet e muito mais! Baixe agora em vivo.com.br/app e navegue sem consumir seu pacote de dados Morterha o pagam ento em dia e evite a suspensão parcialtotal dos serviços e a inclusão nos orgios de proteg ão do crédito. Para pagam entos após o vencim ento serão cokrados encargos de 2% e juros de 1% ao més em conta futura. vivo Vencimento Total a Pagar - R$ Nome do Clierte EDMO RAMOS DE OLIVEIRA 06/0312019 39,99 Cód. Dékito Autom stico 0367618186-9 N° da Conta 0367618186 Més Referência 0212019 846600000000 399902920012 103676181862 021951903067 Autentic agio Meciniea \"], [\"CNPJ: 33.000. 118/0002F0 - INSC. ESTADUAL: 080.248.84-5 TELEMAR NORTE LESTE S/A CNPJ: 33.000. 118/0002-50 - INSC. ESTADUAL: 080.248.84-5 RUA CASSIANO ANTONIO MORAES,60 - VÍTORÍA - ÉS CEP: 29060-525 MATRIZ CNPJ: 33.000. 118/0001-79 PAG. : 1/5 oi LULLUULULLUL.U CORRETORA DE SEGUROS MTE ALVARO LTDA ME AV ELDES SCHERRER SOUZA, 44 PQE R LARANJEIRAS 29165-680 CARAPINA-ES Referência MAIO /2015 AO LADO DO CHAVES IMOVEIS Telefone Vencimento Total a pagar ( 27) 180-5828 01/06/2015 R$ 91,68 Resumo da sua fatura OI FIXO. .. R$ 71,97 .. 0I FIXO 71,97 PACOTE DE MINUTOS FIXO-FIXO LOCAL PACOTE DE MINUTOS FIXO-MOVEL LOCAL EXCEDENTES, OUTROS SERVICOS E TAXAS R$ 19,71 LIGACOES FIXO-MOVEL 0,38 SERVICOS OUTRAS PRESTADORAS E DE TERCEIROS 7,90 OUTROS VALORES 11,43 A partir de 31 de maio de 2015, os números celulares dos DDDS 81, 82, 83, 84, 85,86, 87, 88 e 89 passarão a ter 9 dígitos. Será acrescentado o dígito '9' antes do número atual, passando ao formato: (DDD)9xxxx-XXXX. Mais informações em www.oi.com.br/9digito. TELEMAR NORTE LESTE S/A CNPJ: 33.000. 118/0002-50 - INSC. ESTADUAL: 080.248.84-5 RUA CASSIANO ANTONIO MORAES, 60 - VITORIA - ES CEP: 29050-525 MATRIZ CNPJ: 33.000.118/000i-79 CORRETORA DE SEGUROS MTE ALVARO LTDA ME oi FIXO TELEFONE/CONTRATO: 1805828 CJO SU 1 CONTA 05/2015 LOCAL 8663 DV 8 84620000000-4 91680024010-0 28086630018-7 05828011505-4 FATURA N.: 1800072702973 VENCIMENTO: 01/06/2015 VALOR A PAGAR RS 91,68 CÓDIGO PARA DĖBITO AUTOMÁTICO: 131800415923 \"], ['ELEKTRO SEU CÓDIGO 43998844 ELEKTRO REDES S.A. R. ARY ANTENOR DE SOUZA, 321 - 13053-024- CAMPINAS-SP CNPJ 02 328 280/0001-97- INSC. EST. 244.868.522.118 AV. BALDOMERO LEITUGA, 2032 - 79610-270 - TRÊS LAGOAS-MS CNPJ 02 328 280/0002-78-INSC. EST. 28.304.126-9 WWW.ELEKTRO.COM.BR DAURO NUNES DOS SANTOS FILHO R JAU, 81206 - ESTRADA MUNICIPAL, - RURAL ORINDIUVA - SP - CEP 15480-000 DATA DE EMISSÃO: 25/02/2021 DATA DE APRESENTAÇÃO: 03/03/2021 CNPJ/CPF: 08389293000152 IE: 490054891112 CONTROLE N°: 01-20216040126339-77 PRÓXIMA LEITURA NO DA NOTA FISCAL/CONTA DE ENERGIA ELÉTRICA CONTA DO MÊS VENCIMENTO VALOR DA CONTA (R$) 26/03/2021 101.495.006 FEVEREIRO/2021 10/03/2021 R$ 643,57 DADOS DE CADASTRO DETALHAMENTO DA CONTA MEDIDOR / CONSTANTE 3T5412056 CLASSIFICAÇÃO 1 BASE TARIFA VALOR ALÍQ. VALOR VALOR TOTAL RÉSIDENCIAL-TRIFASICO CCI* DESCRIÇÃO DO PRODUTO QUANTIDADE CALCULO FORNEC. FORNECIMENTO IMPOSTO ICMS (FORNEC. + IMPOSTOS) IMPOSTO TENSÃO NOMINAL OU CONTRATADA (V) LIMITE ADEQUADOS DE TENSÃO (V) DÉBITO AUT. 220/127 116 А 133 /201 А 231 0601 CONSUMO TE 793,00 0,252875 200,53 284,93 25,00% 71,23 271,76 0601 CONSUMO TUSD 793,00 0,302169 239,62 340,46 25,00% 85,11 324,73 LEITURA 0601 AD.B.AMAR. 793,00 0,013417 10,64 15,10 25,00% 3,77 14,41 ATUAL ITEM CONSUMO ANTERIOR 0699 COFINS 640,49 3,80% 24,34 DIAS DO PERÍODO 65 858 ANTERIOR 0699 PIS 640,49 0,82% 5,25 0899 CORRECAO MONETARIA POR ATRASO 12-2020 0,00 0,00% 0,00 0,93 27/01/2021 28 0804 JUROS CONTA ANTERIOR 12-2020 0,00 0,00% 0,00 0,67 0806 MULTA CONTA ANTERIOR 12-2020 0,00 0,00% 0,00 1,48 F. POTÊNCIA MÉDIA ATUAL TOTAL 450,79 160,11 643,57 *CI - CÓDIGO DE CLASSIFICAÇÃO DO ITEM 24/02/2021 HISTÓRICO DE CONSUMO (KWH) L. 793.0 100.0 100.0 0.0 0.0 0.0 0.0 0.0 0.0 0.0 0.0 0.0 0.0 FEV/21 JAN/21 DEZ/20 NOV/20 OUT/20 SET/20 AGO/20 JUL/20 JUN/20 МA/20 ABR/20 MAR/20 FEV/20 COMPOSIÇÃO DE FORNECIMENTO ENERGIA R$ 192,82 ENCARGOS R$ 70,64 DISTRIBUIÇÃO R$ 109,25 TRIBUTOS R$ 189,70 TRANSMISSÃO R$ 44,60 PERDAS R$ 33,48 INFORMAÇÕES GERAIS BAND.TARIF. AMARELA:28/01-24/02 AVISO IMPORTANTE DE DÉBITO / CORTE DÉBITOS ANTERIORES DEBITOS: 10/02/2021 R$ 184,94 ESTA UNIDADE CONSUMIDORA ESTARA SUJEITA A SUSPENSAO DO FORNECIMENTO A PARTIR DE 18/03/2021, CASO O PAGAMENTO NAO SEJA REALIZADO. O ENCERRAMENTO DE RELACAO CONTRATUAL PODERA OCORRER 2 (DOIS) CICLOS DE FATURAMENTO APOS A SUSPENSAO DE FORNECIMENTO. NO CICLO DA SUSPENSAO OU RELIGACAO PODERA SER COBRADO O CUSTO DE DISPONIBILIDADE.CASO O PAGAMENTO JA TENHA SIDO REALIZADO, FAVOR DESCONSIDERAR ESTA NOTIFICACAO. ATENÇÃO ACESSE O NOSSO SITE E REALIZE OS SERVIÇOS COM MAIOR COMODIDADE, PRATICIDADE, RAPIDEZ E SEGURANÇA. WWW.ELEKTRO.COM.BR SEU CÓDIGO 43998844 TOTAL R$ R$ 643,57 BANCO AGÊNCIA VENCIMENTO CONTROLE N° 01-20216040126339-77 10/03/2021 836300000061 435700220211 001010202164 040126339775 AUTENTICAÇÃO MECÂNICA GBELEKTRO1 (V1.00) '], ['NOMERO DA FATURA CODIGO DO CONSUMIDOR REGIAO O SANASA CAMPINAS 1.026.568/2020 3.708.765 16 MES REF VENCIMENTO NOME 02/2020 07/04/2020 ARNALDO MACIEL BELLATO NUM. 612 JASMIM RUA APTO o105 CH PRIMAVERA OT EMISSAO 11/03/2020 DT LEIT 05/03 PR LEIT 02/04 DOMIC CATEGORIA RESIDENCIAL 001 MEDIA 6 ME SES ULTIMOS CONSUM S EM M3 6 12/2019 11/2019 10/2019 1/2020 LEIT.ATU. 000272 CONSUMO 000005 LEIT.ANT. HIDROMETRO O008359 000267 VALOR FATURADO DESCRIÇÃO DOS LANÇAMENTOS CAPTACA O DE AGUA BRUTA TRATAMENTO E DIST. DE AGUA COLETA E AFAST . DE ESGOTO TRATAMENTO DE ESGOTO 0,00 36,34 29,07 15,63 VALOR TOTAL R$ 81,04 INCLUIDO 5,00 M3 , REFERENTE A AREA COMUM. ISO 9001 O SANASA CAMP INAS PROCESSAMENTO: 3708765 Data de Vencimento 2020/02 Valor Total Número da Fatura 1.026.568/2020 07/04/2020 R$ 81,04 826100000o007 810401052024 O04073708762 520200291612 ALORES EXPRESSOS EM REAIS AUTENTICAÇAO MECANICA NO VERSO AUTENTICAÇÃO MECANICA NO VERSO '], ['Fatura de Serviços de Telecomunicações Oi S.A. ROD. BR 153- S/N - KM 06 - PARTE - VILA RE DENÇÃO CEP 74845-060 - Goiània – GO CNPJ Matriz: 76.535.764/0001-43 CNPJ: 76.535.764/0328-51 I.E: 10.325.318-1 Oi, ADONIO. Só na Oi você tem Móvel, Banda Larga, Foxo, DDD muito mais. E vocé só tem a ganhar: você aproveita todos os seus beneficios como cliente Oi e, em breve, muitas novidades ainda vēm por ai Quer saber mais? Acesse www.oi.com.br ou ligue pra 103 14. COMUNICADO IMPORTANTE: Agora você tem um site completo para resolver sua vida online. Gráficos de consumo, 2* via de contas, ofertas e muito mais. Acesse www.oi.com.br e confira a Minha Oil וי ויוייוו\"יוייןיו\"ויויוו\"יוייייןוין CTCE GOIANIA GO PLA ADONIO RAIMUNDO COSTA SILVA R H74 Q 199 LT24 CIDADE VERA CRUZ 74936-260 APARECIDA DE GO - GO Referência JULHO/2016 7213512820530880000001470930270616 Telefone Vencimento Total a pagar 62 3242 6040 05/07/2016 R$ 260,22 Resumo da sua fatura OI FIXO OI FIXO R$ 39,54 39,54 PACOTE DE MINUTOS FIXO-FIXO LOCAL SERVICOS DIGITAIS R$ 74,63 OI VELOX OFERTA VELOX E SERVICOS DE BANDA LARGA ASSINATURA VELOX @ 74,63 ANTIVIRUS + BACKUP + EDUCA EXCEDENTES, OUTROS SERVICOS E TAXAS R$ 6,76 6,76 OUTROS VALORES TV OI TV R$ 139,29 GANHE R$10 DE DESCONTO NOS PRÓXIMOS 3 MESES. CADASTRE SUA CONTA NO DÉBITO AUTOMÁTICO EM CONTA CORRENTE. Você não se preocupa mais com atrasos no recebimento e no pagamento da sua fatura. E ainda continua recebendo, em casa, o detalhamento impresso da sua conta. Faça o cadastro da sua fatura pela Minha Oi ou pelo telefone 103 14. Para mais informações, acesse www.oi.com.br/oi/oi-pra-voce/minha-oi/debito-automatico Válida para todas as instituições financeiras - Para os bancos Bradesco, Banco do Brasil, Caixa Econom ica, Banr isul ou Itaú, a adesão pode ser diretamente com a Ol ou através do seu banco. Para os demais, entre em contato com o seu banca/institução finance ira e solicite o seu cadastro. Oi S.A. ROD. BR 153 - S/N - KM 06 - PARTE - VILA REDENÇÃO ADONIO RAIMUNDO COSTA SILVA Número do Telefone: 62 3242 6040 CEP 74845-060 - Goiánia – GO CNPJ Matriz: 76.535.764/0001-43 CNPJ: Número da Fatura: 1607.000408968 oi FIXO Sequencial: 117274193 201607 01177 Contrato Agrupador: 117.274.193-7 - 1° Via 76.535.764/0328-51 I.E: 10.325.318-1 Data de Vencimento: 05/07/2016 Valor a pagar: 260,22 DÉBITO AUTOMÁTICO EM CONTA CORRENTE Caso sua fatura não tenha sido debitada, você poderá efetuar o pagamento em qualquer casa lotérica. Caso tenha dúvidas, fale conosco: 103 14 N° Identificador para Débito Automático: 117.274.193-7 0281008173 '], ['SEU CÓDIGO 35927046 ELEKTRO ELEKTRO REDES S.A. R. ARY ANTENOR DE SOUZA, 321 - 13053-024- CAMPINAS-SP CNPJ 02 328 280/0001-97- INSC. EST. 244.868.522.118 AV. BALDOMERO LEITUGA, 2032 - 79610-270- TRÊS LAGOAS- MS CNPJ 02 328 280/0002-78-INSC. EST. 28.304.126-9 WWW.ELEKTRO.COM.BR CENTRO EDUCACIONAL DE VOTUPORANGA LTDA - EPP AV ANTONIO FREDERICO, 2163 - - JARDIM UNIVERSITARIO VOTUPORANGA - SP - CEP 15503-450 DATA DE EMISSÃO: 25/02/2021 DATA DE APRESENTAÇÃO: 03/03/2021 %3D CNPJ/CPF: 07515032000179 IE: 718120050114 CONTROLE N°: 01-20216040123871-04 VALOR DA CONTA (R$) R$ 5.035,29 PRÓXIMA LEITURA NO DA NOTA FISCAL/CONTA DE ENERGIA ELÉTRICA CONTA DO MÊS VENCIMENTO 26/03/2021 101.494.599 FEVEREIRO/2021 10/03/2021 DADOS DE CADASTRO MEDIDOR / CONSTANTE ARO062694 DETALHAMENTO DA CONTA CLASSIFICAÇÃO 40DUTRAS ÀTIVIDADES-TRIFASICO BASE TARIFA VALOR ALÍQ. VALOR VALOR TOTAL CCI* DESCRIÇÃO DO PRODUTO QUANTIDADE CALCULO FORNEC. FORNECIMENTO IMPOSTO ICMS (FORNEC. + IMPOSTOS) IMPOSTO TENSÃO NOMINAL OU CONTRATADA (V) LIMITE ADEQUADOS DE TENSÃO (V) DÉBITO AUT. 001/0268 /13800 12834 A 14490 / A 0601 CONSUMO TE 6.642,00 0,252879 1.679,62 2.170,60 18,00% 390,70 2.070,32 0601 CONSUMO TUSD 6.642,00 0,302170 2.007,01 2.593,70 18,00% 466,86 2.473,87 LEITURA ANTERIOR 0601 AD.B.AMAR. 6.642,00 0,013430 89,20 115,27 18,00% 20,74 109,94 ATUAL ITEM CONSUMO 0699 COFINS 4.879,58 3,80% 185,42 DIAS DO PERÍODO 24596 24758 ANTERIOR 0699 PIS 4.879,58 0,82% 40,02 ENER.REATIVA 3561 3585 0699 0,00 155,72 COBRANCA ILUM PUBLICA PARA A PREFEITURA 0,00 0,00% 27/01/2021 28 TOTAL 3.775,83 878,30 5.035,29 *CCI - CÓDIGO DE CLASSIFICAÇÃO DO ITEM F. POTÊNCIA MÉDIA ATUAL 24/02/2021 .98 HISTÓRICO DE CONSUMO (KWH) 6642 3895 4346 4551 5002 4141 3690 3731 3608 3813 4264 8856 11726 FEV/21 JAN/21 DEZ/20 NOV/20 OUT/20 SET/20 AGO/20 JUL/20 JUN/20 MAI/20 ABR/20 MAR/20 FEV/20 COMPOSIÇÃO DE FORNECIMENTO ENERGIA R$ 1.614,87 ENCARGOS R$ 591,73 DISTRIBUIÇÃO R$ 915,13 TRIBUTOS R$ 1.103,74 TRANSMISSÃO R$ 373,61 PERDAS R$ 280,49 INFORMAÇÕES GERAIS BAND. TARIF. AMARELA:28/01-24/02 FATURA DO MES 01/2021 ARRECADADA POR DEBITO AUTOMATICO AVISO IMPORTANTE DE DÉBITO / CORTE DÉBITOS ANTERIORES ATENÇÃO ACESSE O NOSSO SITE E REALIZE OS SERVIÇOS COM MAIOR COMODIDADE, PRATICIDADE, RAPIDEZ E SEGURANÇA. WWW.ELEKTRO.COM.BR SEU CÓDIGO 35927046 AGÊNCIA 0268 VENCIMENTO 10/03/2021 TOTAL R$ R$ 5.035,29 BANCO CONTROLE N° 01-20216040123871-04 001 CONTA EM DÉBITO AUTOMÁTICO CONSIDERAR ESTA CONTA QUITADA SOMENTE APÓS O DÉBITO EM SUA CONTA CORRENTE. SE POR ALGUM MOTIVO DE SEU CONHECIMENTO NÃO OCORRER O DÉBITO AUTOMÁTICO, PAGUE ESTA CONTA EM QUALQUER REDE CONVENIADA. NÃO RECEBER - DÉBITO AUTOMÁTICO - BANCO - 001 - AGÊNCIA - 0268 GBELEKTRO1 (V1.00) '], ['Talafone vivo Cadastro do Assinante Telefönica Brasll SIA A. Engerheiro L Cartos Beri 137, Nome: PAULA ALCANTARA SILVACAMPANE Ed. Eco Bentri Cidade Mangbes CEP: 045700 - ao Paulo - SP CNRE 2 55A. 1570001-62 Endereço: RUA BERNARDINO DE CAMPOS 1039 AP 42 CENTRO - 13010-151 -CAMPINAS I SP Codigo do cliente 00 8613 9083 DV: 0 Més de referéncia Junho2018 Nümero da fatura: 0626294702-0 Tipo de ciente: Residencial Número do belefone 1932314547 Data de emissia 010201 8 Estado de instalação Sio Paulo 15/06/2018 152,45 Inee Est 108383040112 pwww.o.combr Descrição da sua fatura RESUMO VALOR (RS) PRESTADORA TELEFONICA Plano Contratado / Serviços Mensale Internet Histórico de consumo Total utilizado em min seg des faturas com vencimento em: vo Fibra 50 Mbps 89.99 Telefone Imitedo Fxo Local - Frangua Mensal limitado Fxo Local- Assinatura Mensal e Tipo de Ligação Mnutos Locais Utilizados Abril 19.00 Maio Junho 7.00 42,99 14 00 1:00 Total 139,98 Lig Locais Celular (VCT) 23:42 030 Ligaçdes Ligecões Locais Excedentes Ligecbes Locais para Celuler (VCt) Total 0,00 0.20 0,20 Serviços Eventual T Encargos (Juros/Multa) Total 2,23 2,23 OUTRAS PRESTADORAS Serviços Prestados/Tercelros Cobranca De Servicos De Terceiros VALORCRS) 10,04 10,04 TOTAL GERAL A PAGAR 152,45 Serviço de Atendimento ao Consumidor (SAC). Telefonia fixa e internet: 103 15. Para TV por assinatura: 106 15. Pessoas com necessidades especiais de fala/audição, ligue 142. Para saber qual a loja Vivo mais perto de voce acesse www.vivo.com.br O relatório detalhado está disponivel em www.vivo.com.br/meuvivo e pode ser solicitado impresso, de forma pemanente ou não. Mensagem para voce Esta fatura refere-se a declaraçio de quitação anual de debitos e afirma o cumprimento de suas obrigagoes de jan a dez/2017, exceto parcelamentos, serviços de outras operadoras, serviços não faturados, debitos em juizo e outros, ndo previstos na Lei 12.007/2009 Importante: mantenha o pagamento em dia e evito a suspensto parcialtotal dos serviços ea inclusdo nos orgaos de proteção do credito. Para pagamentos apos o vencimento sarbo cobrados encargos de 2 o juroe de 1% ao môe am conta futura O ressarcimento par inoperancia e realizado em confomidade com as Resoluçtes Para STFC artigo 32 da Resdluçlo Anatel n 4282006, para SCM atgo 4 da Resduçto Anatel n 614/2013 e para TV artigo e de Resoluçto 4a/2007. Central de Atondimento Anatot 1301 (Goral) 1332 (Doficiontos Auditivos) o www.anatol.gov.br. Recurso de atondimento VIVO, ligue com o protocolo em maos para 10315 e 142 para possoas com necesaidadon ospecials de falalaudiglo. atendimento VIVO, ligue com o protocolo em maos para 10315 142 paa pessoan com neceeeldede (089) PSABL044POS/SCM (ern PA6-imitado Fixo Local A ME ----- Nome do Cliente Sr. Catca, favor não receber pagamento parcial. PAULA ALCANTARA SILVA CAMPANE Codigo do cliente Código para Cadastramento de Débito Automátioo Valor a Pagar (R$) Número da Fatura Data de Vencimento 8999 8613 9083 899986139083-0 0626294702-0 15/06/2018 152,45 84640000001 0 52450082089 8 99861390830 5 62629470299 0 vivo '], ['O SANASA 2° VIA Sociedade de Abastecimento de Água e Saneamento S/A Av. da Saudade, 500 - Ponte Preta - Cx. Postal 615 - CEP 13041-670 Inscrição Estadual: 244.371.725.111 - CNPJ: 46.119.855/0001-37 CAMPINAS CÓDIGO DO CONSUMIDOR REGIÃO NÚMERO DA FATURA ROTEIRO MÊS / REFERÊNCIA DATA DE VENCIMENTO 3.203.916 7 1.634.939 / 2021 0603121300 4 / 2021 17/05/2021 NOME CATEGORIA DOMICÍLIO MARCOS ANDERSON DE SOUSA RESIDENOCIAL 1 ENDEREÇO DA LIGAÇÃO RUA JAMES MARCELO BASSAN, SWISS PARK CAMPINAS SP CEP 13049-510 DATA DE EMISSÃO DATA DA LEITURA PRÓXIMA LEITURA NÚM. HIDRÔMETRO LEITURA ATUAL LEITURA ANTERIOR CONSUMO M³ |15/05/202112/04/2021 12/05/2021 46171 840 827 13 ÚLTIMOS CONSUMOS M3 MÉDIA 04/2021 13 01/2021 12 10/2020 14 07/2020 12 03 meses = 12 03/2021 14 12/2020 20 09/2020 12 06/2020 12 06 meses = 13 02/2021 10 11/2020 8 08/2020 13 05/2020 12 12 meses = 12 CÁLCULO DE CONSUMO DE ÁGUA POR DOMICÍLIO M3 COBRADO (X) VALOR M3 () REDUTOR (-) DIF. TARIFA VALOR DO SERVIÇO 0,00 0,000 0,00 0,000 0,000 * Lei Federal 12.741/2012 - Pasep 0,65% Cofins 3% * VALOR DO SERVIÇO X NÚMERO DE DOMICÍLIOS 0,00 DESCRIÇÃO DOS LANÇAMENTOS VALOR FATURADO 0,00 56,59 45,27 24,30 CAPTACAO DE AGUA BRUTA. TRATAMENTO E DISTRIBUICAO DE AGUA COLETA E AFASTAMENTO DE ESGOTO TRATAMENTO DE ESGOTO **** NAO CONSTAM DEBITOS NO ANO DE 2020 **** VALOR TOTAL 126,16 INFORMAÇÕES SOBRE A CONTA E PLANTÃO DE SERVIÇOS - FONE: 0800-7721195 - Evite danos ao hidrômetro para não ser responsabilizado pelo custo do conserto ou substituição. - Autorize o banco de sua preferência a debitar a sua fatura de água. E- Esta fatura deve ser paga até a data do vencimento. A atualização monetária pelo IGP-M, multa de 0,22% por dia de atraso limitada a 2% e juros de mora 1% ao mês, serão cobrados na próxima fatura. Sem o pagamento o imóvel ficará sujeito a suspensão do fornecimento. - Em caso de corte de fornecimento, a religação somente será feita com a quitação do débito eo pagamento do respectivo serviço. - Verificando anormalidades no consumo de água, ligue 0800-7721195 ou procure os postos de atendimento para orientações e esclarecimentos de dúvidas. - As reclamações serão aceitas somente até 60 (sessenta) dias após o vencimento da fatura. PREFEITURA: www.campinas.gov.br SANASA: www.sanasa.com.br AUTENTICAÇÃO MECÂNICA 826100000015 261601052028 105173203917 620210420712 PROCESSAMENTO 2° VIA O SANASA 3203916 2021 / 4 2 NÚMERO DA FATURA DATA DE VENCIMENTO VALOR TOTAL CAMPINAS 1.634.939 / 2021 17/05/2021 126,16 AUTENTICAÇÃO MECÂNICA ATEN AO '], ['LEIA COM ATENÇÃO OSANASA CAMPINAS Sociedade de Abastecimento de Agua e Saneamento S/A Av. da Saudade, 500 - Ponte Preta - CEP 13041-903 - Campinas - SP Inscrição Estadual 244.371.725.111 - CNPJ 46.119.855/0001-37 ISO 9001 1060 00005 SEQ. MARCOS ANDERSON DE SOUSA JAMES MARCELO BASSAN RES LAUERZ RUA SWISS PARK CAMPINAS SP 13049-620 P91309 MES DE REFERENCIA: 09/2019 HIDROME TRO: 0046171 ROTEIRO: 060312130O CONSUMIDOR: 3.203.916 REGIAO: 07 01 DT. VENCIMENTO: 15/ 10/2019 N. DOM: CATEG. : 23 RESIDENCIAL 826200000006 937001052011 910153203914 620190950712 COLETADAS • 30 DIAS APOS O VENCIMENTO, o CONSUMIDOR PODERÁ TER ABASTECIMENTO INTERROMPIDO POR FALTA DE PAGAMENTO. ATENDIMENTO SANASA: 0800-7721195 www.sanasa.com.br '], ['Fatura de Serviços de Telecomunicações Oi S.A. ROD. BR 153- S/N - KM 06 - PARTE - VILA RE DENÇÃO CEP 74845-060 - Goiània – GO CNPJ Matriz: 76.535.764/0001-43 CNPJ: 76.535.764/0328-51 I.E: 10.325.318-1 Oi, ADONIO. Só na Oi você tem Móvel, Banda Larga, Foxo, DDD muito mais. E vocé só tem a ganhar: você aproveita todos os seus beneficios como cliente Oi e, em breve, muitas novidades ainda vēm por ai Quer saber mais? Acesse www.oi.com.br ou ligue pra 103 14. COMUNICADO IMPORTANTE: Agora você tem um site completo para resolver sua vida online. Gráficos de consumo, 2* via de contas, ofertas e muito mais. Acesse www.oi.com.br e confira a Minha Oil וי ויוייוו\"יוייןיו\"ויויוו\"יוייייןוין CTCE GOIANIA GO PLA ADONIO RAIMUNDO COSTA SILVA R H74 Q 199 LT24 CIDADE VERA CRUZ 74936-260 APARECIDA DE GO - GO Referência JULHO/2016 7213512820530880000001470930270616 Telefone Vencimento Total a pagar 62 3242 6040 05/07/2016 R$ 260,22 Resumo da sua fatura OI FIXO OI FIXO R$ 39,54 39,54 PACOTE DE MINUTOS FIXO-FIXO LOCAL SERVICOS DIGITAIS R$ 74,63 OI VELOX OFERTA VELOX E SERVICOS DE BANDA LARGA ASSINATURA VELOX @ 74,63 ANTIVIRUS + BACKUP + EDUCA EXCEDENTES, OUTROS SERVICOS E TAXAS R$ 6,76 6,76 OUTROS VALORES TV OI TV R$ 139,29 GANHE R$10 DE DESCONTO NOS PRÓXIMOS 3 MESES. CADASTRE SUA CONTA NO DÉBITO AUTOMÁTICO EM CONTA CORRENTE. Você não se preocupa mais com atrasos no recebimento e no pagamento da sua fatura. E ainda continua recebendo, em casa, o detalhamento impresso da sua conta. Faça o cadastro da sua fatura pela Minha Oi ou pelo telefone 103 14. Para mais informações, acesse www.oi.com.br/oi/oi-pra-voce/minha-oi/debito-automatico Válida para todas as instituições financeiras - Para os bancos Bradesco, Banco do Brasil, Caixa Econom ica, Banr isul ou Itaú, a adesão pode ser diretamente com a Ol ou através do seu banco. Para os demais, entre em contato com o seu banca/institução finance ira e solicite o seu cadastro. Oi S.A. ROD. BR 153 - S/N - KM 06 - PARTE - VILA REDENÇÃO ADONIO RAIMUNDO COSTA SILVA Número do Telefone: 62 3242 6040 CEP 74845-060 - Goiánia – GO CNPJ Matriz: 76.535.764/0001-43 CNPJ: Número da Fatura: 1607.000408968 oi FIXO Sequencial: 117274193 201607 01177 Contrato Agrupador: 117.274.193-7 - 1° Via 76.535.764/0328-51 I.E: 10.325.318-1 Data de Vencimento: 05/07/2016 Valor a pagar: 260,22 DÉBITO AUTOMÁTICO EM CONTA CORRENTE Caso sua fatura não tenha sido debitada, você poderá efetuar o pagamento em qualquer casa lotérica. Caso tenha dúvidas, fale conosco: 103 14 N° Identificador para Débito Automático: 117.274.193-7 0281008173 '], ['Talafone vivo Cadastro do Assinante Telefönica Brasll SIA A. Engerheiro L Cartos Beri 137, Nome: PAULA ALCANTARA SILVACAMPANE Ed. Eco Bentri Cidade Mangbes CEP: 045700 - ao Paulo - SP CNRE 2 55A. 1570001-62 Endereço: RUA BERNARDINO DE CAMPOS 1039 AP 42 CENTRO - 13010-151 -CAMPINAS I SP Codigo do cliente 00 8613 9083 DV: 0 Més de referéncia Junho2018 Nümero da fatura: 0626294702-0 Tipo de ciente: Residencial Número do belefone 1932314547 Data de emissia 010201 8 Estado de instalação Sio Paulo 15/06/2018 152,45 Inee Est 108383040112 pwww.o.combr Descrição da sua fatura RESUMO VALOR (RS) PRESTADORA TELEFONICA Plano Contratado / Serviços Mensale Internet Histórico de consumo Total utilizado em min seg des faturas com vencimento em: vo Fibra 50 Mbps 89.99 Telefone Imitedo Fxo Local - Frangua Mensal limitado Fxo Local- Assinatura Mensal e Tipo de Ligação Mnutos Locais Utilizados Abril 19.00 Maio Junho 7.00 42,99 14 00 1:00 Total 139,98 Lig Locais Celular (VCT) 23:42 030 Ligaçdes Ligecões Locais Excedentes Ligecbes Locais para Celuler (VCt) Total 0,00 0.20 0,20 Serviços Eventual T Encargos (Juros/Multa) Total 2,23 2,23 OUTRAS PRESTADORAS Serviços Prestados/Tercelros Cobranca De Servicos De Terceiros VALORCRS) 10,04 10,04 TOTAL GERAL A PAGAR 152,45 Serviço de Atendimento ao Consumidor (SAC). Telefonia fixa e internet: 103 15. Para TV por assinatura: 106 15. Pessoas com necessidades especiais de fala/audição, ligue 142. Para saber qual a loja Vivo mais perto de voce acesse www.vivo.com.br O relatório detalhado está disponivel em www.vivo.com.br/meuvivo e pode ser solicitado impresso, de forma pemanente ou não. Mensagem para voce Esta fatura refere-se a declaraçio de quitação anual de debitos e afirma o cumprimento de suas obrigagoes de jan a dez/2017, exceto parcelamentos, serviços de outras operadoras, serviços não faturados, debitos em juizo e outros, ndo previstos na Lei 12.007/2009 Importante: mantenha o pagamento em dia e evito a suspensto parcialtotal dos serviços ea inclusdo nos orgaos de proteção do credito. Para pagamentos apos o vencimento sarbo cobrados encargos de 2 o juroe de 1% ao môe am conta futura O ressarcimento par inoperancia e realizado em confomidade com as Resoluçtes Para STFC artigo 32 da Resdluçlo Anatel n 4282006, para SCM atgo 4 da Resduçto Anatel n 614/2013 e para TV artigo e de Resoluçto 4a/2007. Central de Atondimento Anatot 1301 (Goral) 1332 (Doficiontos Auditivos) o www.anatol.gov.br. Recurso de atondimento VIVO, ligue com o protocolo em maos para 10315 e 142 para possoas com necesaidadon ospecials de falalaudiglo. atendimento VIVO, ligue com o protocolo em maos para 10315 142 paa pessoan com neceeeldede (089) PSABL044POS/SCM (ern PA6-imitado Fixo Local A ME ----- Nome do Cliente Sr. Catca, favor não receber pagamento parcial. PAULA ALCANTARA SILVA CAMPANE Codigo do cliente Código para Cadastramento de Débito Automátioo Valor a Pagar (R$) Número da Fatura Data de Vencimento 8999 8613 9083 899986139083-0 0626294702-0 15/06/2018 152,45 84640000001 0 52450082089 8 99861390830 5 62629470299 0 vivo '], ['ELEKTRO RUA ARY ANTENOR DE SOUZA, 321 - 13053-024 CAMPINAS - SP-CNPJ 02 328 280/0001-97 INSC. EST. 244.868.522.118 AV. BALDOMERO LEITUGA, 2032-79610-270- TRÊS LAGOAS- MS CNP) 02 328 280/0002-78 - INSC. EST. 28.304.126-9 SEU CÓDIGO ELEKTRO REDES S.A. WWW.ELEKTRO.COM.BR 41508351 WARLEY GONSALVES RODRIGUES R RODOLFO CESAR DOMINGOS, 6156 - - LOT RES VILAR III VOTUPORANGA - SP - CEP 15502-061 DATA DE EMISSÃO: 25/02/2021 DATA DE APRESENTAÇÃO: 03/03/2021 CNPJ/CPF: 43998587888 IE: CONTROLE N°: 01-20216040161066-34 PRÓXIMA LEITURA NO DA NOTA FISCAL/CONTA DE ENERGIA ELÉTRICA CONTA DO MÊS VENCIMENTO VALOR DA CONTA (R$) 26/03/2021 101.340.300 FEVEREIRO/2021 10/03/2021 R$ 423,65 DADOS DE CADASTRO DETALHAMENTO DA CONTA MEDIDOR / CONSTANTE B18199031 CLASSIFICAÇÃO RESIDENCIAL-BIFASICO BASE TARIFA VALOR ALÍQ. VALOR VALOR TOTAL CCI* DESCRIÇÃO DO PRODUTO QUANTIDADE CALCULO FORNEC. FORNECIMENTO IMPOSTO ICMS (FORNEC. + IMPOSTOS) IMPOSTO TENSÃO NOMINAL OU CONTRATADA (V) LIMITE ADEQUADOS DE TENSÃO (V) DÉBITO AUT. 220/127 116 A 133 / 201 A 231 0601 CONSUMO TE 424,00 0,252877 107,22 152,34 25,00% 38,08 145,30 0601 CONSUMO TUSD 424,00 0,302170 128,12 182,04 25,00% 45,51 173,63 LEITURA ATUAL ITEM ANTERIOR 0601 AD.B.AMAR. 424,00 0,013420 5,69 8,09 25,00% 2,02 7,71 CONSUMO 357 781 ANTERIOR DIAS DO PERÍODO 0699 COFINS 342,46 3,80% 13,02 27/01/2021 28 0699 PIS 342,46 0,82% 2,81 ATUAL F. POTÊNCIA MÉDIA 0699 COBRANCA ILUM PUBLICA PARA A PREFEITURA 0,00 0,00% 0,00 19,28 24/02/2021 0699 VALOR REF.CONTA DO MES 12/2020 0,00 0,00% 0,00 32,10 0699 VALOR REF.CONTA DO MES 01/2021 0,00 0,00% 0,00 29,80 HISTÓRICO DE CONSUMO (KWH) TOTAL 241,03 85,61 423,65 *CCI - CÓDIGO DE CLASSIFICAÇÃO DO ITEM 424.0 50.0 50.0 50.0 50.0 50.0 50.0 50.0 50.0 50.0 50.0 50.0 50.0 FEV/21 JAN/21 DEZ/20 NOV/20 OUT/20 SET/20 AGO/20 JUL/20 JUN/20 MAI/20 ABR/20 MAR/20 FEV/20 COMPOSIÇÃO DE FORNECIMENTO R$ 103,10 ENCARGOS ENERGIA DISTRIBUIÇÃO R$ 37,77 R$ 101,44 R$ 58,41 TRIBUTOS TRANSMISSÃO R$ 23,85 PERDAS R$ 17,90 INFORMAÇÕES GERAIS BAND. TARIF. AMARELA:28/01-24/02 ESTA UNIDADE CONSUMIDORA ESTA SUJEITA A SUSPENSAO DE FORNECIMENTO AVISO IMPORTANTE DE DÉBITO / CORTE DÉBITOS ANTERIORES DEBITOS: 10/09/2020 R$ 90,89 10/12/2020 R$ 88,47 ATENÇÃO ACESSE O NOSSO SITE E REALIZE OS SERVIÇOS COM MAIOR COMODIDADE, PRATICIDADE, RAPIDEZ E SEGURANÇA. WWW.ELEKTRO.COM.BR BANCO DO BRASIL 001-9 00190.00009 03194.643007 13288.055174 1 85550000042365 LOCAL DE PAGAMENTO PAGÁVEL EM QUALQUER AGENCIA BANCARIA VENCIMENTO 10/03/2021 BENEFICIÁRIO AGÊNCIA / CÓDIGO CEDENTE ELEKTRO REDES S/A 3064-3/0002261-6 DATA DE PROCESSAMENTO NOSSO NÚMERO ESPÉCIE DOC. DM DATA DO DOCUMENTO N° DO DOCUMENTO ACEITE 25/02/2021 SOM-01-20216040161066.34 N 25/02/2021 31946430013288055-9 USO DO BANCO CARTEIRA ESPÉCIE VALOR DO DOCUMENTO 17 R$ R$ 423,65 INSTRUÇÕES (-) DESCONTO / ABATIMENTO (+) MORA / MULTA (=) VALOR COBRADO PAGADOR WARLEY GONSALVES RODRIGUES R RODOLFO CESAR DOMINGOS, 6156 - VOTUPORANGA - SP - CEP 15502-061 LOT RES VILAR III SACADOR / AVALISTA AUTENTICAÇÃO MECÂNICA FICHA DE COMPENSAÇÃO GBELEKF1 (V1.00) '], ['Companhia Paulista de Força e Luz Rua Jorge de Figueiredo Correa, 1632 Jardim Professora Tarcília – Campinas/SP - CEP: 13087-397 Inscrição Estadual: 244.163.955.115 Inscrição no CNPJ: 33.050.196/0001-88 CPFL Uma empresa do Grupo CPFL Energia ENERGIA ARTHUR FORTES DA COSTA Nota Fiscal R HERMANTINO COELHO 255 BL 5 AP 23 Conta de Energia Elétrica MAN STO ANTONIO N°. 115036877 série C Pág. 1 de 1 13087-500 CAMPINAS SP Data de Emissão 11/02/2020 Data de Apresentação 12/02/2020 Conta Contrato No 310091689739 Lote Roteiro de leitura Medidor Cliente Reservado ao fisco 07 CAMBUD49-00000853 215857038 0711530431 2AA0.76BA.14BD.54E5.81B9.6F1A.CC8B.2F68 PREZADO (A) CLIENTE ATENÇÃO: Esta conta está classificada como RESIDENCIAL. Isso significa que suas tarifas e impostos serão aplicados de acordo com essa classe. Se o imóvel não é residencial, atualize seu cadastro em nossos canais de atendimento. DADOS DA UNIDADE CONSUMIDORA ARTHUR FORTES DA COSTA R HERMANTINO COELHO, 255 BL 5 AP 23 MAN STO ANTONIO CAMPINAS - SP CPF:021.251.723-64 Classificação: Convencional B1 Residencial - Bifásico 220 / 127 V SEU CÓDIGO 8866562 CONTA/MÊS FEV/2020 TOTAL A PAGAR (R$) 129,87 ATENDIMENTO PN VENCIMENTO 0800 010 1010 0711530431 09/03/2020 www.cpfl.com.br DISCRIMINAÇÃO DA OPERAÇÃO - RESERVADO AO FISCO Cod. Descrição da Operação Mês Quant. Unid. Aliq. PIS COFINS Bandeiras Tarifa com Valor Total da Base Cálculo ICMS Base Cálculo 115 N° 911251410985 Ref. Operação PIS 4,37% Tarifárias Fa Med. Tributos ICMS ICMS COFINS 0,95% 0605 Consumo Uso Sistema [KWh]-TUSD FEV/20 178,000 kWh 0,29657304 52,79 52,79 12,00 6,33 52,79 0,50 2,31 Amarela 17 Dias 0601 Consumo - TE FEV/20 178,000 kWh 0,33595506 59,80 59,80 12,00 7,18 59,80 0,57 2,61 Verde 0601 Adicional de Bandeira Amarela FEV/20 1,76 1,76 12,00 0,21 1,76 0,02 0,08 11 Dias Total Distribuidora 114,35 DÉBITOS DE OUTROS SERVIÇOS 0807 Contrib. Custeio IP-CIP Municipal FEV/20 15,52 TOTAL CONSOLIDADO 129,87 114,35 13,72 114,35 1,09 5,00 HISTÓRICO DE CONSUMO kWh Dias TARIFA ANEEL EQUIPAMENTOS DE MEDIÇÃO / DATAS DE LEITURA Consumo TUSD TE Leitura Leitura Fator Consumo Taxa de Perda Leitura 20 FEV 178 28 Consumo kWh 0,24526000 0,27776000 N° Energia 11/02/2020 14/01/2020 Multipl. [kWh] [%] Próximo Mês JAN 191 32 215857038 ATIVA 11972 11794 1,00 178 12/03/2020 2019 DEZ 206 31 NOV 174 32 OUT 198 31 SET 157 29 AGO 221 31 JUL 186 31 JUN 161 29 ΜΑΙ 185 32 ABR 185 29 INDICADORES DE CONTINUIDADE DE FORNECIMENTO DE ENERGIA ΜAR 183 30 Para consulta dos indicadores acesse nosso site www.cpfl.com.br FEV 194 28 INFORMAÇÕES SOBRE A FATURA AVISO IMPORTANTE A partir de 01.01.2020 todos os clientes têm direito a optar pela tarifa branca, saiba mais: www.cpfl.com.br/tarifabranca Total a Pagar (R$) Data de Vencimento 129,87 Nota Fiscal CódDébAut-Banco 310091689739 Conta de Energia Elétrica 115036877 Série C 09/03/2020 Essa conta poderá ser paga no credenciado mais perto de você. Confira a lista completa no site www.cpfl.com.br Loja 2189 - LC-PE M BERNARDES CAMP DROGARIA DOM PEDRO CAMPINAS O MATUTO cpfl paulista R PADRE MANUEL BERNARDES 971 - TAQUARAL AV GUILHERME CAMPOS LJ. 30A 500 - JARDIM SANTA GENEBRA RUA LUIZ OTAVIO, 651 - PARQUE TAQUARAL 836200000013 298700403058 733975970035 100916897398 Autenticação Mecânica '], ['SEGUNDA VIA Light, sempre com você, 24 horas! Informações sobre condições gerais de fornecimento, tarifas, produtos, serviços e tributos? Faltou luz? Envie SMS com o Código da Instalação para o nº 54448. 01 B01 585 21 0428 MIN DEFESA COMDO AERONAUTICA R PACIFICO PEREIRA 1 BL5 SV EF.N°114 JD SULACAP / RIO DE JANEIRO - RJ 21741-160 00001 Z002 000002 Disque-Light Emergência: 0800 021 0196 Emergência Grandes Clientes: 0800 282 1380 Agência Virtual: www.light.com.br Disque-Light Comercial: 0800 282 0120 Deficientes auditivos e de fala: 0800 285 2453 Ouvidoria: 0800 284 0182 (Dias úteis: 8h às 18h) Agências Comerciais Agência Nacional de Energia Elétrica - ANEEL: 167 Ligação gratuita de telefones fixos e móveis. Se você ainda não possui sua conta da Light em Débito Automático, faça a adesão na sua agência bancária, na Agência Virtual (www.light.com.br), no Disque-Light (0800 282 0120) ou nas agências da Light e fique despreocupado! Classe / Subclasse Faltou luz? Light Já! PODER PÚBLICO / PODER PÚBLICO FEDERAL Envie SMS apenas com o Código da Instalação para o n° 54448. Pronto. Agora, é só aguardar o retorno da sua luz. Medidor TRIFÁSICO | N°: 7324409 Serviço de atendimento automático, limitado a 2 SMS por dia, por celular. Disponível para as operadoras Claro, Oi, Vivo, Tim e Nextel. Ref: Mês / Ano Referência Bancária Número da Fatura MAI/2016 030000792003 549903428619 Reservado ao Fisco 37CE.E268.011D.178B.4776.310D.7430.6235 SEGUNDA VIA Nota Fiscal - Série 01 no.114107 Conta de Energia Elétrica RE PROC. E-04/053.359/09 - IFE 03 SEPD - Autorização n.08-2005/0006384-9 DATA PREVISTA DA PRÓXIMA LEITURA 01/06/2016 TENSÃO NOMINAL EM VOLTS Disponível: 220/127 Light LIGHT SERVIÇOS DE ELETRICIDADE SA AV. MAL. FLORIANO 168 RIO DE JANEIRO RJ CEP 20080-002 Limites mínimo: 202/117 Limites máximo: 231/133 CNPJ 60.444.437/0001-46 INSC. ESTADUAL 81380.023 INSC MUNICIPAL 00794678 INDICADORES DE QUALIDADE Mês de referência: Março/2016 ENERGIA ATIVA ENERGIA REATIVA EXCEDENTE Medição Atual Medição Anterior Data |Const Medidor |Consumo kWh Medição Acumulada Atual |Const Medidor |Consumo kWh Conjunto: PADRE MIGUEL N° Data |Leitura |Leitura Dias |Anterior Indicadores TApurado Mensal I Meta Mensal | Meta Trimestral IMeta Anual 02/05/2016 6.381 01/04/2016 6.248 1 133 31 DIC 1,39 4,71 9,43 18,86 Data da Emissão Data de Apresentação FIC 2,00 3,11 6,22 12,45 BLOCO 5 SV - APT 101 R PACIFICO PEREIRA 1 BL5 SV EF.N°114 02/05/2016 06/05/2016 DMIC 1,17 2,60 21741-160 JD SULACAP / RIO DE JANEIRO - RJ CNPJ: 00.394.429/0117-30 DIC - Duração de interrupção individual FIC - Frequência de interrupção individual DMIC - Duração máxima de interrupção contínua DICRI - Duração da interrupção individual em dia crítico CÓDIGO DO CLIENTE CÓDIGO DA INSTALAÇÃO 20003992 0420577631 VALOR DO ENCARGO DE USO DO SISTEMA DE DISTRIBUIÇÃO: DESCRIÇÃO UNIDADE QUANT. PREÇO UNIT R$ VALOR R$ R$ 28,44 CFOP O cliente tem o direito de solicitar a qualquer tempo a apuração dos indicadores DIC, FIIC, DMIC e DICRI e também receber uma compensação, caso sejam violadas as metas de continuidade individuais – mensal, trimestral e anual- relativos à unidade consumidora de sua responsabilidade. CONSUMO 5.258 kWh 133 0,73699 98,02 CONTRIBUIÇÃO DE ILUMIN PÚBLICA RETENÇÃO NA FONTE - IRPJ RETENÇÃO NA FONTE - CSSL RETENÇÃO NA FONTE - PIS/PASEP RETENÇÃO NA FONTE - COFINS 0000 4,42 0000 -1,18 0000 -0,98 0000 -0,64 0000 -2,94 Subtotal Faturamento (Veja abaixo) Subtotal Outros 98,02 1,32- Após o vencimento haverá multa de 2%, juros e atualização de IGP-M, cobrados em conta posterior (Res. ANEEL n° 414 de 09/09/10 e Lei 10.762 de 11/11/2003) Valor da Energia Valor da Transmissão Valor da Distribuição ICMS R$ 20% Total da Nota Fiscal R$ Base de Cálculo Alíquota Valor (já incluído no preço) 42,47 1,55 14,02 98,02 ********* **98,02 20% Total Encargos Setoriais 14,23 25,75 Tributos 19,62 98,02 VENCIMENTO TOTAL A PAGAR R$ PIS alíquota *********96,70 1,110% COFINS alíquota 5,150% 20/05/2016 R$ 1,08 R$ 5,04 Valores já incluídos no preço (PIS - Lei 10.637/02 / COFINS - Lei 10.833/03 / REH ANEEL vigente) 108 MAI15 JUN15 78 Tarifas em R$/kWh (sem impostos) 84 JUL15 AGO15 103 TUSD +TE SET15 104 BANDEIRAS TARIFÁRIAS 0,54346 0,55846 0,57346 Bandeira Verde 95 OUT15 Bandeira Amarela NOV15 107 X X MAIO 2016 - BANDEIRA VERDE Bandeira Vermelha DEZ15 71 JAN16 76 73 X X ABRIL 2016 - BANDEIRA VERDE FEV16 MAR16 82 ABR16 92 MAI16 133 TE - Tarifa de Energia e TUSD - Tarifa de Uso do Sistema de Distribuição. MIN DEFESA COMDO AERONAUTICA CONTA EM DÉBITO AUTOMÁTICO BANCO SANTANDER S.A. VENCIMENTO TOTAL A PAGAR CÓDIGO DO CLIENTE 20/05/2016 *********96,70 20003992 MAI/2016 01 B01 585 21 0428 Autenticação Mecânica 83650000000.2.96700053107.9.20291299500.0.30000792003.0 CONSUMO '], [\"vivo www.vivo.com.br/meuvivo N° da Conta:00001100387243 Més de relerência: 12/2019 Fale conosco: Central de Relacionamento Periodo:25/11/2019 a 24/12/2019 *8486 ou www.vivo.com.br/laleconosco Data de emissio: 01/01/2020 Telefonica Brasil S.A. Rua Silveira Marfins, 1.036 CEP: 41150-000 - Salvador - BA LE: 58378658 CNPJ Matriz: 02.558.157/0001-62 CNPJ Fiiat 02.558.157/0024-59 CAROLINE DE SOUSA FRANCA TRAVESSA ALMIRANTE TAMANDARE 84 FAZENDA GRANDE DO RETIRO Vencimento 10/01/2020 40355-120 SALVADOR - BA Total a Pagar R$ 69,99 Aguarde informações referentes ao Vivo Valoriza Seus Números Vivo 71-99721-3422 Caso você tenha mais linhas, consulte o de talhamento da sua conta Planos Anatel 128/POS/SMP - VIVO CTRL DIGITAL NOVO 5GB Quantidade de Valor R$ Utilizado Oque está sendo cobrado de 25/11/2019 a 24/12/2019 Quantidade de Induso Valor Total Plano/Pacote Números Vivo PlanoPacote Plano/Pacote Minutos/Unidades R$ Serviços Contratados VIVO CTRL DIGITAL NOVO 5GB 69,99 0,00 0,00 69,99 VIVOCONTROLE SERV DIGITAL II BÔNUS CONTA DIGITAL Subtotal Serviços Contratados 500MB 0,00 69,99 TOTAL A PAGAR 69,99 MENSAGEM PARA VOCÊ A conta detalhada está disponível em www.vivo.com.br/meuvivo e pode ser solicita da impressa, de forma permanente ou não. No app Meu Vivo além de ativar conta digital, você acompanha seu consumo de internet e solicita 2 via de conta. Você também pode ser atendido através do WhatsApp. É muito simples. Adicione o número 11 999 15 15 15 e fale com Vivo. Manterha o pagamento em da e evite a suspansão parcialtotal dos serviços e a inclusão nos orgãos de proteção ao crédito. Para pagamentos após o vencimento serão cobrados encargos de 2% e juros de 1% ao mės em conta futura. ANATEL 1331 e 1332 para deficientes auditivos. Recurso de atendimento Vivo: ligue com o protoodlo em mãos para 1058 e 142 para pessoas com de ficiência de tala'audição. vivo Vendimento Total a Pagar - R$ Nome do Cliente CAROLINE DE SOUSA FRANCA 10/01/2020 69,99 Cód. Debito Automáfoo 1100387243-8 N° da Conta 00001100387243 Més Reterencia 12/2019 846300000003 I 699900411009 011003872436 919126228353 Autenicação Mecânica \"], ['Nome do Cliente Periodo: 03/10/2011 a 03/11/2011 Resumo da sua conta Oi Oi: 00 0000 0000 Multas e Juros Valor (R$) 185,61 3,37 Total a pagar: 188,98 Resumo do seu Oi: 00 0000 0000 Seu Plano Oi Beneficio pra toda vida Oi Ligações Locais Mensagens/Internet Móvel Valor (R$) 37,32 -16,48 158,61 6,16 Total a pagar do seu Oi: 00 0000 0000 185,61 Seu Plano Oi Período: 03/10/2011 a 22/10/2011 Valor (R$) Oi 60 60 minutos em ligações locais 30 Oi Torpedos Caixa Postal Oi Chamada em Espera Conferência Siga-me Identificador de Chamadas 0000000001 Total 37,32 Benefício pra toda vida Oi Descrição Oi Conta - Beneficio pra toda vida Oi Valor(R$) - 16,48 0000000002 Total -16,48 Total Seu Plano Oi 20,84 Ligações Locais Data Hora Telefone Origem Destino Duração Horário Valor (R$) Ligações de Oi para Oi 0000000003 03/10/2011 23:30:32 0000000000 0000000004 04/10/2011 00:05:21 0000000005 04/10/2011 12:18:50 0000000006 04/10/2011 17:52:08 0000000000 0000000000 0000000000 XXXXXX XXXXXX XXXXXX XXXXXX XX COD. AREA XX XX COD. AREA XX XX COD. AREA XX XX COD. AREA XX 00:00:36 00:01:06 00:00:30 00:03:36 03:15:42 2 а6 2 а6 2 а6 2 а6 0,00 0,00 0,00 0,00 Duração Total Ligações de Oi para Fixo XX COD. AREA XX XX COD. AREA XX XX COD. AREA XX XX COD. AREA XX 0000000111 03/10/2011 10:25:58 0000000000 XXXXXX XXXXXX XXXXXX XXXXXX 00:04:30 00:00:30 00:01:12 00:00:30 00:20:18 2 а6 2 а6 2 а6 2 ав 0,00 0,00 0,00 0,00 0000000000 0000000000 0000000113 03/10/2011 22:07:43 0000000114 04/10/2011 21:54:19 0000000000 Duração Total Ligações de Oi para outros celulares 0000000127 05/10/2011 12:23:21 0000000000 0000000128 05/10/2011 17:38:20 0000000000 0000000129 05/10/2011 18:31:57 0000000000 Duração Total XXXXXX XXXXXX XXXXXX XX COD. AREA XX XX COD, AREA XX XX COD. AREA XX 00:00:30 00:03:18 00:07:18 00:20:18 2° a6 2° a 6 2° a6* 0,00 0,00 0,00 '], ['Conta Mensal de Serviços de Agua el ou Esgotos a CoITDAtio de seentto besico du eistadu du oultatioep DATA EMISSAO Fatura tipo Fornecimento No. Documento 350615535002 SOR202 13472952 FATURAMENTO 20/04/2021 Codigo para debito automatico: 0350615535 Tipo def ornecimento: COMERCIAL Acesse a Agencia virtual https://agenciavirlual sabesp com br/ para atualzar seu cadastro, segunda via de fatura, consultas e servicos Cliente: PAULO CORRETORA DE SEGUROS SS LTDA CEP: 13140000 End.:AVENIDA PRESIDENTE GETULIO VARGAS, 362 - COMPLPAULO SEG- NOVA PAULINIA PAULINIA SP Cod. Cliente: 000396259 PDE/RGI: 0350615535 Folha 1/1 Insc. Fstadual: Lacre: Hidrometro: Y161 4EE034 Economias: COM 1 Data daapresentacao: 2004/2021 Condicao de leitura: LEITURA NORMAL Tipo deligacao: AGUAE ESGOTO Tipo Mercado: COMUM Proxima leitura: 21/05/2021 Leitura Anterior 20I3/2021 Leitura Atual 469 0 Consumo (M3) 10 ó Periodo 31 Media (M3) in,17 Agua 459 2004/2021 Historico de Consumo (Emissao Consumo em M3) 20/10 2020 131 G 19/12.2020 19:01/2021 18.02/2021 20.03/2021 2 1722. 24 hora 100 757 19/11 2020 Agua 10LG 101G 1OLG 916 516 Agua Esgoto (M3 x Nro. Econom.) (M3) Tarita(RS) Valor(RS) (мэ) Tarifa(RS) Valor(R$) Bubtotal TOTAL (VI Agua + VI Esgoto) Agua Esgoto (MO x Nro Econom.) (M3) Tarifa R$) Valor(R$) (M3) Tarifa(R$) valor(R$) De OAle 10,33 Minimo 5,44 56,15 Minimo 4.35 44,90 Subtotal 56,16 44,90 TOTAL (VI Agua + VI Esgoto) DISCRIMINACAO DO FATURAMENTO 101,06 3930 Agua Esgoto Tx. de Regulaca0 - 56,15 TOTAL (R$) 44,90 101,55 04/05/2021 VENCIMENTO 0,60 0,60 No caso de pagamento em atraso serao cobradas Multa de 2% mais Atualizacao Monetaria com base na variacao do IPCAIBOE do mes anterior mais Juros de Mora de 0,033% 2o dia \"Oferecemos datas opcionais de vencimento para sua conta 01 - 06 - 10 - 15 - 20 - 25. Havendo interesse entra em contato com a SABESP. '], ['NOTA FISCAL/CONTA DE FORNECIMENTO DE ÁGUA E COLETA DE ESGOTO Regime especial Processo n° E-04/278370/12 - N° 2340667910316 CONCESSÃO DE SERVICOS DE ESGOTO foz NOVA DATA DE EMISSÃO: 04/03/2016 Águas do Brasil CEDAE ZONA OESTE - RIO DE JANEIRO MEDIÇÃO VENCIMENTO LEVANDO QUALIDADE DE VIDA PARA VOCÊ MAIS SAÚDE PARA VOCÊ MAIS CUIDADO COM O MEIO AMBIENTE COMPANHIA ESTADUAL DE ÁGUAS E ESGOTOS - CEDAE CNPJ: 33.352.394/0001-04 I Inscr. Estadual - 84.780.707 Av. Presidente Vargas, 2.655 - Centro - Rio de Janeiro - RJ NOME / CPF-CNPJ 00394429011730 PREF AERONAUTICA DOS AFONSOS Março/2016 15/03/2016 ORIGEM MATRÍCULA 1- 47 2340667-9 ENDEREÇO DA LIGAÇÃO RUA PACIFICO PEREIRA, 1 BL 5 - JARDIM SULACAP ROTEIRO 0217608205170 LEITURA ANTERIOR LEITURA ATUAL N° DE DIAS VOLUME FAT.M³ VOLUME APURADO M/DIA 29/01/2016 02/03/2016 | | | | | | 5187 5282 31 99 2.8787 PRÓXIMA LEITURA HIDRÔMETRO TIPO DE FATURAMENTO VOLUME MÉDIO M3/DIA | 31/03/2016 | C10S015920 | CONS. APURADO 3.0 | ECONOMIAS POR CATEGORIA PERCENTUAL DE FAT.% SUBCATEGORIA DOM COM IND PUB DOM COM IND PUB 6 0 0 0 | | 100 0 0 0 | COMUM | FAIXA DE CONSUMO TARIFA CONSUMO VALOR LANÇAMENTOS VALOR R$ R$ FATURADO R$ 0.0-15.0 2,31 99,0 229,48 AGUA DOMICILIAR 229,48 RECURSOS HIDRICOS TAXA DE REGULAÇÃO 1,19 1,14 ESGOTO DOMICILIAR 213,64 RECURSOS HIDRICOS 1,11 TOTAL CONTA TOTAL A PAGAR 446,56 446,56 Val Aprox dos Tributos R$0.0 (0.0%) conforme Lei 12.741/12. BASE DE CÁLCULO ICMS ALÍQUOTA % VALOR INCL. PREÇO/ÁGUA 0,00 18 0,00 Segunda Via MENSAGEM IMPORTANTE ¿A partir da medição 04/2016, serão aplicados ajustes nas rotas de leitura, visando melhorar o desempenho dos agentes comerciais em campo, devido a isso, sua conta poderá sofrer alteração de -4 a +4 dias, em relação ao vencimento atual. Qualquer dúvida ligue para 0 0800 025 0005\" SISTEMA: Guandu/RJ Ref : 03/16 Padrão da Val Médios Detectados Portaria MS 518/04 Nro Amostras Exig 194 Realiz 35 Cor Aparente 15 UH(max) 6 A 9.5 (1) 5 UT(max) 0.2 A 2.0 MG/L AUSENTE (3) PH Turbidez Cloro Residual 1,9 1,8 35 194 724 694 724 Coliformes Totais Colif. (1)Apenas recomendacao (2)Numero de amostras positivas (3)Sistemas que analisam 40 ou mais amostras/mes, ausencia em 95% das amostras examinadas. Sistemas que analisam menos de 40 amostras/mes, apenas uma amostra podera apresentar resultado positivo 694 724 45 35 1 AUSENTE SAC - Foz Águas 5: 0800 025 0005 I www.fozaguas5.com.br - CEDAE 195 ou 0800 28 21 195 I www.cedae.com.br CONCESSÃO DE SERVIÇOS DE ESGOTO COMPANHIA ESTADUAL DE ÁGUAS E ESGOTOS - CEDAE CNPJ: 33.352.394/0001-04 I Inscr. Estadual - 84.780.707 Av. Presidente Vargas, 2.655 - Centro - Rio de Janeiro - RJ F. AB. ZONA OESTE S.A. I CNPJ: 14.863.079/0001-99 Rua Doze de Fevereiro, 103 - Bangu - Rio de Janeiro-RJ foz NOVA CEDAE Águas do Brasil ZONA OESTE - RIO DE JANEIRO MAIS SAÚDE PARA VOCÊ MAIS CUIDADO COM O MEIO AMBIENTE LEVANDO QUALIDADE DE VIDA PARA VOCÊ CONTROLE DA CEDAE E DA FOZ ÁGUAS 5 MATRÍCULA MEDIÇÃO ORIGEM | | Março/2016 1- 47 | 2340667-9 VENCIMENTO TOTAL A PAGAR 15/03/2016 | 446,56 CONCESSÃO DE SERVIÇOS DE ESGOTO NOVA CEDAE foz Grup Águas do Brasil ZONA OESTE - RIO DE JANEIRO 826700000043 465613332340 066790316146 716031500003 ÚLTIMÓS CONSUMOS M3 /DIA '], ['Fatura de Serviços de Telecomunicações Página 0001 de 0002 oi FIXO OI S.A. Av. Borges de Medeiros, 512 - PARTE - Centro CEP 90020-902 - Porto Alegre - RS CNPJ Matriz : 76.535.764/0001-43 CNPJ: 76.535.764/0002-24 LE: 096/2.845.833 SOBRADINHO CAMARA DE VEREADORES R. GEN OSORIO, 00200 - 10215 CENTRO 96055-080 SOBRADINHO - RS Referência ABRIL/2014 Telefone Vencimento Total a Pagar (51) 3742 1510 15/04/2014 R$ 395,62 Resumo da sua Fatura OI FIXO R$ 57,60 OUTROS PACOTES E SERVICOS MENSAIS 57,60 OI VELOX R$ 192,52 .... OFERTA VELOXE SERVICOS DE BANDA LARGA 192,52 ASSINATURA VELOX (+@ EXCEDENTES, OUTROS SERVICOS E TAXAS.... R$ 145,50 LIGACOES FIXO-FIXO 42,55 102,95 0,00 LIGACOES FIXO-MOVEL OUTROS VALORES TUDO DA SUA CONTA ESTÁ AQUI. MAIS FÁCIL DE ENCONTRAR, ENTENDER E CONFERIR. Simplificamos a apresentação dos seus gastos com os serviços Oi pra não deixar dúvidas pra você. SUA CONTA ESTÁ EM DÉBITO AUTOMÁTIC0? Facilite a sua vida e não se preocupe mais com a data de vencimento. Acesse www.oi.com.br e saiba mais. ---------------------------- --- - OI S.A. Av. Borges de Medeiros, 512 - PARTE - Centro CEP 90020-902 - Porto Alegre - RS CNPJ Matriz : 76.535.764/0001-43 CNPJ: 76.535.764/0002-24 I.E: 096/2.845.833 SOBRADINHO CAMARA DE VEREADORES Número do Telefone: 51 3742 1510 Número da Fatura: 1404.00083373 Sequencial: 00097294220140401191 Contrato Agrupador: 000.972.942-9 2* Via 84670000003 3 95620002000 9 97294220140 1 40119100000 9 FATURA N.: 1404.00083373 VENCIMENTO: 15/04/2014 VALOR A PAGAR R$ 395.62 '], ['vivo *8486 she w Telatone de Atendimente Vie Fale Canosco wwwvacom.bfalecanosca VIVO SA Av. Roque Petroni , 1404 Monumbi 04707000 sao Paule LE- 149.403935.110 CNP: 02449.992/0056-38 JARAGUE S er John Sample Av. Chucri Zaidan, 860 5 andar - Bloco A Morumbi 04005-001 - Såo Paulo - SP 729802960602570001000S10210260os Conta: 000000000 VENCIMENTO TOTAL A PAGAR -RS Emissão Mes de referencia Periodo 30/01/2005 95,00 25/01/2005 01/2005 15/12/04 a 1401/0s Número(s) do(s) Celular(es) 11-9999 X0X 11-9999 -X00X 11-9999- XX 11-9999-XXX 11-9999- XKXX 11-9999-XXX 11-9999-XX 11-9999 X0X Relação total de celulares esta localizada na Seão Celulares que complem sua fatura em pagina a seguir. Resumo de Utilizacao Crfen DS ancamentrs Dercos Cobdian De SZED '], ['Companhia Paulista de Força e Luz Rua Jorge de Figueiredo Correa, 1632 Jardim Professora Tarcília – Campinas/SP - CEP: 13087-397 Inscrição Estadual: 244.163.955.115 Inscrição no CNPJ: 33.050.196/0001-88 СPFL Uma empresa do Grupo CPFL Energia ENERGIA ARTHUR FORTES DA COSTA Nota Fiscal R HERMANTINO COELHO 255 BL 5 AP 23 Conta de Energia Elétrica MAN STO ANTONIO N°. 064357674 série C Pág. 1 de 1 13087-500 CAMPINAS SP Data de Emissão 13/03/2019 Data de Apresentação 18/03/2019 Conta Contrato No 310091689739 Lote Roteiro de leitura Medidor Cliente Reservado ao fisco 07 CAMBUD49-00000853 215857038 0711530431 0930.5F9D.7E31.A7B9.3E7C.A708.0F11.3BA8 PREZADO (A) CLIENTE Mantenha seus dados sempre atualizados, alguns itens determinam a tarifa e tributação de sua fatura de energia elétrica. Solicite os serviços disponíveis em nosso site com rapidez e segurança e reserve mais tempo para você em seu dia-a-dia. Mais informações acesse o endereço que consta no verso de sua conta. DADOS DA UNIDADE CONSUMIDORA ARTHUR FORTES DA COSTA R HERMANTINO COELHO, 255 BL 5 AP 23 MAN STO ANTONIO CAMPINAS - SP CPF:021.251.723-64 Classificação: Convencional B1 Residencial - Bifásico 220 / 127 V SEU CÓDIGO 8866562 CONTA/MÊS MAR/2019 ATENDIMENTO PN VENCIMENTO TOTAL A PAGAR (R$) 0800 010 1010 0711530431 08/04/2019 125,07 www.cpfl.com.br DISCRIMINAÇÃO DA OPERAÇÃO - RESERVADO AO FISCO Cod. Descrição da Operação Mês Quant. Unid. Base Cálculo Aliq. PIS COFINS Bandeiras Tarifa com Valor Total da ICMS Base Cálculo 115 N° 900802415531 Оperaҫӑo 2,99% Tarifárias Ref. Fa Med. Tributos ICMS ICMS PIS/COFINS 0,64% 0605 Consumo Uso Sistema [KWh]-TUSD MAR/19 183,000 kWh 0,24573771 44,97 44,97 12,00 5,40 44,97 0,29 1,34 Verde 17 Dias 0601 Consumo - TE MAR/19 183,000 kWh 0,32857924 60,13 60,13 12,00 7,22 60,13 0,38 1,80 Verde 0804 Juros de Mora FEV/19 0,20 13 Dias 0805 Multa por Atraso Pgto JAN/19 2,29 0805 Multa por Atraso Pgto FEV/19 2,25 0805 Atualização Monetária FEV/19 0,09 0805 Atualiz. Monet. de CIP JAN/19 0,01 Total Distribuidora 109,94 DÉBITOS DE OUTROS SERVIÇOS 0807 Contrib. Custeio IP-CIP Municipal MAR/19 15,13 TOTAL CONSOLIDADO 125,07 105,10 12,62 105,10 0,67 3,14 HISTÓRICO DE CONSUMO kWh Dias TARIFA ANEEL EQUIPAMENTOS DE MEDIÇÃO / DATAS DE LEITURA Consumo TUSD TE Leitura Leitura Fator Consumo Taxa de Perda Leitura 2019 MAR 183 30 Consumo kWh 0,20737000 0,27726000 N° Energia 13/03/2019 11/02/2019 Multipl. [kWh] [%] Próximo Mês FEV 194 28 215857038 ATIVA 9930 9747 1,00 183 11/04/2019 JAN 196 32 2018 DEZ 184 31 NOV 63 INDICADORES DE CONTINUIDADE DE FORNECIMENTO DE ENERGIA Para consulta dos indicadores acesse nosso site www.cpfl.com.br INFORMAÇÕES SOBRE A FATURA AVISO IMPORTANTE A partir de 01.01.2020 todos os clientes têm direito a optar pela tarifa branca, saiba mais: www.cpfl.com.br/tarifabranca CódDébAut-Banco 310091689739 Total a Pagar (R$) Data de Vencimento 125,07 Nota Fiscal 08/04/2019 Conta de Energia Elétrica 064357674 Série C Essa conta poderá ser paga no credenciado mais perto de você. Confira a lista completa no site www.cpfl.com.br Loja 2189 - LC-PE M BERNARDES CAMP DROGARIA DOM PEDRO CAMPINAS O MATUTO cpfl paulista R PADRE MANUEL BERNARDES 971 - TAQUARAL AV GUILHERME CAMPOS LJ. 30A 500 - JARDIM SANTA GENEBRA RUA LUIZ OTAVIO, 651 - PARQUE TAQUARAL 836200000013 250700403000 537113457031 100916897398 Autenticação Mecânica 32 '], ['Oi S.A. Av. Madre Benvenuta, 2080 - BAIRRO SANTA MONICA CEP 88036-500 - Florianópolis – sc CNPJ Matriz :76.535.764/0001-43 Fatura de Serviços de Telecomunicações oi CNPJ: 76.535.764/0322-66 L.E: 25.042.764-8 CELSO ROMERO R ARTHUR JOAO LARA 0428E MARIA GORETTI 89801-479 CHAPECO - SC Oi, CELSO. Referência Só na Oi você tem Móvel, Banda Larga, Fixo, DDD e muito mais. E você só tem a ganhar: você aproveita todos os seus beneficios como cliente Oi e, em breve, muitas novidades ainda vêm por aí. FEVEREIRO/2018 Quer saber mais? Acesse www.oi.com.br ou ligue pra 103 14 COMUNICADO IMPORTANTE: Agora voce tem um site completo para resolver sua vida online. Gráficos de consumo, 2. via de contas, ofertas e muito mais. Acesse www.oi.com.br e confira a Minha Oi! Telefone Vencimento Total a pagar 48 F676 1408 27/02/2018 R$ 98,94 Resumo da sua fatura OI FIXO OI FIXO R$ 58,37 39,23 PACOTE DE MINUTOS FIXO-FIXO LOCAL PACOTE DE MINUTOS FIXO-MOVEL LOCAL PACOTE DE MINUTOS LONGA DISTANCIA COM 14 SERVICOS DIGITAIS OUTROS PACOTES E SERVICOS MENSAIS 19,14 @ OI VELOX R$ 40,57 OFERTA VELOX E SERVICOS DE BANDA LARGA ASSINATURA VELOX 40,57 ANTIVIRUS + BACKUP + EDUCA EXCEDENTES, OUTROS SERVICOS E TAXAS R$ 0,00 LIGACOES FIXO-FIXO 0,00 GANHE R$10 DE DESCONTO NOS PRÓXIMOS 3 MESES. CADASTRE SUA CONTA NO DÉBITO AUTOMÁTICO EM CONTA www.oi.com.br/MinhaOi CÓDIGO MINHA OI CORRENTE. Você não se preocupa mais com atrasos no recebimento e no pagamento da sua fatura. E ainda continua recebendo, em casa, o detalhamento impresso da sua conta. Cadastre-se na Minha Oi e consulte saldo, conta detalhada, histórico de consumo e muito mais. 7001821706 Faça o cadastro da sua fatura pela Minha Oi ou pelo telefone 103 14. Para mais informações, acesse www.oi.com.br/oi/oi-pra-voce/minha-oi/debito-automatico. Válida para todas as instituições financeiras - Para os bancos Bradesco, Banco do Brasil, Caixa Econômica, Banrisul ou Itaú, a adesão pode ser diretamente com a Oi ou através do seu banco. Para os demais, entre em contato com o seu banco/instituição financeira e solicite o seu cadastro. Oi S.A. Av. Madre Benvenuta, 2080 - BAIRRO SANTA MONICA CEP 88036-500 - Florianópolis – SC CNPJ Matriz :76.535.764/0001-43 CELSO ROMERO Número do Telefone: 48 F676 1408 Número da Fatura: 1802.000388723 oi FIXO CNPJ: 76.535.764/0322-66 IE: 25.042.764-8 Sequencial: 700182170 201802 01169 Contrato Agrupador: 700.182.170-6 - 1a Via 84620000000 4 98940027700 4 18217020180 6 20116900000 1 Data de Vencimento: 27/02/2018 Valor a pagar: 98,94 N° Identificador para Débito Automático: 700.182.170-6 '], ['Heider oi FATURA DE VENCIMENTO PAGAR (R$) NOV/2019 12/12/2019 66,05 CHEGOU SUA FATURA DA OL. Acesse www.ol.com.br/Minhaoi CÓDIGO MINHA 01 16871059 Emissão em 05/11/2019 FATURA DE SERVIÇOS DE COMUNICAÇÕES LluLLLUILUULLlII HEIDER NUNES DE MATOS ESTRADA PEDRO FERREIRA, S/N CENTRO 68825-000 MUANA PA DÉBITO AUTOMÁTICO É SÓ VANTAGEM. oi Coloque a sua conta em débito automático. É mais simples, mais prático e mais seguro. LIGUE 106 31 E PEÇA AGORA MESMO. HEIDER NUNES DE MATOS CPF: 664.549.052-68 NÚMERO DO CONTRATO: 16871059 NÚMERO DA FATURA: 5142302078 N° PARA DÉBITO AUTOMÁTICO: 16871059 SERVICOS UTLIZADOS TV POR ASSINATURA 33,16 --------------- TOTAL DE MENSALIDADES 33,16 CÓDIGO MINHA OI Além disso, você... 16871059 Serviços/pacotes adicionais 28,98 www.oi.com.br/Minhaoi SUBTOTAL 62,14 Cadastre-se na Minha Oi e consulte 3,91 | saldo, conta detalhada, histórico de consumo e muito mais. Multa e juros TOTAL DA SUA FATURA 66,05 ENTENDA SEU CONSUMO O valor da sua fatura nos últimos meses Nov 2019 66,05 Out 2019 134,89 Set 2019 134,89 Ago 2019 134,89 Jul 2019 138,58 Jun 2019 138,58 Fique atento. Efetue os pagamentos em dia e evite: - Cobrança de Multa de 2% + juros de 1% ao mês pro rata dia. Suspensão Parcial e/ou Total do serviço. Cancelamento e inclusão nos Orgãos de Proteção ao Crédito (SPC/Serasa). CLIENTE FATURA DE VENCIMENTO VALOR DÉBITO AUTOMÁTICO oi 16871059 HEIDER NUNES DE MATOS NOV/2019 12/12/2019 66,05 84630000000 3 66050369000 1 00000000000 0 05142302078 6 ATENÇÃO: DÉBITO AUTOMÁTICO Verifique se o débito fol efetuado na sua conta corrente. Caso não tenha ocorrido, utilize este boleto para pagamento. OI MOVEL SA OI MOVEL SA SETOR COMERCIAL NORTE, SIN-ASA NORTE CNPJ: D5.423.083/0152-24 INSC. ESTADUAL: 15.32.890-5 BRASILIA - DF/ 70.71-000 NC, MUNIOPAL: 220.14- TVDR MORAES, 121 PD ANEXO TERR NAZARE CEP BROSFOR0 - BELEM- PA INSC. ESTADUAL: 07.441.358/0oV83 INIC. MUNCIPAL: GI6.082 CNPJ: 05.423.003/012-24 9. 011112019 P02 quebra_4_5 '], ['NOTA FISCAL/CONTA DE FORNECIMENTO DE ÁGUA E COLETA DE ESGOTO Regime especial Processo n° E-04/278370/12 - N° 2340667910516 CONCESSÃO DE SERVICOS DE ESGOTO foz NOVA DATA DE EMISSÃO: 05/05/2016 Águas do Brasil CEDAE ZONA OESTE - RIO DE JANEIRO MEDIÇÃO VENCIMENTO LEVANDO QUALIDADE DE VIDA PARA VOCÊ MAIS SAÚDE PARA VOCÊ MAIS CUIDADO COM O MEIO AMBIENTE COMPANHIA ESTADUAL DE ÁGUAS E ESGOTOS - CEDAE CNPJ: 33.352.394/0001-04 I Inscr. Estadual - 84.780.707 Av. Presidente Vargas, 2.655 - Centro - Rio de Janeiro - RJ NOME / CPF-CNPJ 00394429011730 PREF AERONAUTICA DOS AFONSOS Maio/2016 19/05/2016 ORIGEM MATRÍCULA 1- 54 2340667-9 ENDEREÇO DA LIGAÇÃO RUA PACIFICO PEREIRA, 1 BL 5 - JARDIM SULACAP ROTEIRO 0217801705170 LEITURA ANTERIOR LEITURA ATUAL N° DE DIAS VOLUME FAT.M³ VOLUME APURADO M/DIA 04/04/2016 04/05/2016 | | | | | | 5409 5498 30 90 2.9666 PRÓXIMA LEITURA HIDRÔMETRO TIPO DE FATURAMENTO VOLUME MÉDIO M3/DIA | 03/06/2016 | C10S015920 CONS. APURADO 3.0 | ECONOMIAS POR CATEGORIA PERCENTUAL DE FAT.% SUBCATEGORIA DOM COM IND PUB DOM COM IND PUB 6 0 0 0 | 100 0 0 0 | COMUM | FAIXA DE CONSUMO TARIFA CONSUMO VALOR LANÇAMENTOS VALOR R$ R$ FATURADO R$ 0.0-15.0 2,31 90,0 208,62 AGUA DOMICILIAR 208,62 1,08 1,04 194,22 RECURSOS HIDRICOS TAXA DE REGULAÇÃO ESGOTO DOMICILIAR TOTAL CONTA TOTAL A PAGAR 404,96 404,96 Val Aprox dos Tributos R$0.0 (0.0%) conforme Lei 12.741/12. BASE DE CÁLCULO ICMS ALÍQUOTA % VALOR INCL. PREÇO/ÁGUA 0,00 18 0,00 Segunda Via MENSAGEM IMPORTANTE \"De acordo com a lei federal 12.741 de 08/12/2012, a concessionária informa carga tributária sobre o valor dos serviços: PIS/COFINS (9,25%).\" SISTEMA: Guandu/RJ Ref : 05/16 Padrão da Val Médios Detectados Portaria MS 518/04 Nro Amostras Exig 194 Realiz 35 Cor Aparente 15 UH(max) 6 A 9.5 (1) 5 UT(max) 0.2 A 2.0 MG/L AUSENTE (3) PH Turbidez Cloro Residual 1,9 1,8 35 194 724 694 724 Coliformes Totais Colif. (1)Apenas recomendacao (2)Numero de amostras positivas (3)Sistemas que analisam 40 ou mais amostras/mes, ausencia em 95% das amostras examinadas. Sistemas que analisam menos de 40 amostras/mes, apenas uma amostra podera apresentar resultado positivo 694 724 45 35 1 AUSENTE SAC - Foz Águas 5: 0800 025 0005 I www.fozaguas5.com.br - CEDAE 195 ou 0800 28 21 195 I www.cedae.com.br CONCESSÃO DE SERVIÇOS DE ESGOTO COMPANHIA ESTADUAL DE ÁGUAS E ESGOTOS - CEDAE CNPJ: 33.352.394/0001-04 I Inscr. Estadual - 84.780.707 Av. Presidente Vargas, 2.655 - Centro - Rio de Janeiro - RJ F. AB. ZONA OESTE S.A. I CNPJ: 14.863.079/0001-99 Rua Doze de Fevereiro, 103 - Bangu - Rio de Janeiro-RJ foz NOVA CEDAE Águas do Brasil ZONA OESTE - RIO DE JANEIRO MAIS SAÚDE PARA VOCÊ MAIS CUIDADO COM O MEIO AMBIENTE LEVANDO QUALIDADE DE VIDA PARA VOCÊ CONTROLE DA CEDAE E DA FOZ ÁGUAS 5 MATRÍCULA MEDIÇÃO ORIGEM | 2340667-9 | Maio/2016 1- 54 | VENCIMENTO TOTAL A PAGAR 19/05/2016 | 404,96 CONCESSÃO DE SERVIÇOS DE ESGOTO NOVA CEDAE foz Grup Águas do Brasil ZONA OESTE - RIO DE JANEIRO 826000000040 049613332342 066790516158 416051900007 ÚLTIMOS CONSUMOS M3 /DIA '], ['vivo VO NOTA FISCAL FATURA DE SERVIÇO DE COMUNICAÇÃO - MOD. 21 Cadastro do Assinante Telefônica Brasil S/A Av. Engenheiro Luiz Carlos Berrini, 1376, Ed. Eco Beini Cidade Monções CEP: 04571-936-São Paulo - SP CNPJ: 02.558.157/0001-62 Nome: WILSON DIAS DE SOUSA FILHO Endereço: REUNICE V RAMOS NAVEROEDI RES CASAS INGLESAS GARDEN HILL 310 CS 5 PRQALTO TAQUARAL - 13087-765 - CAMPINAS / SP Código do cliente: 8999 6687 4163 DV: 5 CNPJ/CPF: 64468194634 Insc Est: 108383949112 Tipo de cliente: Residencial Estado de instalação: São Paulo http://www.vivo.com.br DETALHAMENTO DOS SERVIÇOS DE TV NFFST 2058181-SP Prestadora Telefonica série: TV subsérie: 2 Telefonica Brasil S.A. | Rua Sete de Abril, 295 11 andar- Sala 03 - Parte - 01043-907 São Paulo SP CNPJ:02.558.157/0176-42 - Insc. Est.: 108383949112 | Prestação de serviço de comunicação - CFOP 5300 Alíquota PIS/COFINS 25% TV por Assinatura 7 TV-CAS-814OZ4S6MT-050 8 9 SUBTOTAL TOTAL TOTAL DA NOTA FISCAL DA TELEFONICA Plano Contratado / Serviços Mensais / Descontos Full HD Futebol Fibra Desconto Prom. Full HD Futebol R$ 70.00 10/12 FOX+ Data / Período 19/10/2018 a 18/11/2018 19/10/2018 a 18/11/2018 19/10/2018 a 18/11/2018 Valor(R$) 301,99 -70,00 26,39 258,38 258,38 258,38 3,65% 25% 3,65% Reservado ao Fisco ec03.4e8b.9b6f.0708.4983.f038.d7de.adld ICMS PIS/COFINS Base de cálculo: 124,02 Base de cálculo: 227,37 Alíquota: 25% Alíquota: 3,65% Valor do ICMS: 31,01 Valor do PIS/COFINS: 8,29 A TELEFONICA contribui c/ 1% do valor de serviços de Telecom ao FUST e 0,5% ao FUNTTEL sem repasse ao consumidor. Redução de Base de Cálculo conforme disposições do Anexo II, item 25 do RICMS/PR (Decreto n° 1.980/07) TOTAL GERAL A PAGAR 411,63 '], ['vivo N° da Conta: 00001101080299 www.vivo.com.br/meuvivo Mês de referência: 04/2021 Fale conosco: Central de Relacionamento Período: 25/03/2021 a 24/04/2021 *8486 ou www.vivo.com.br/faleconosco Data de emissão: 01/05/2021 Telefonica Brasil S.A. Av. Engenheiro Luiz Carlos Berrini, 1.376 CEP: 04571-936 - São Paulo - SP I.E.: 108383949112 CNPJ Matriz: 02.558.157/0001-62 CNPJ Filial: 02.558.157/0001-62 PATRICIA MIKA SAKUGAWA AV PRES GETULIO VARGAS 362 SANTA CECILIA 13140-330 PAULINIA - SP Vencimento 10/05/2021 Total a Pagar R$ 59,99 Aguarde informações referentes ao Vivo Valoriza Seus Números Vivo 11-97448-3448 Caso você tenha mais linhas, consulte o detalhamento da sua conta. Planos Anatel 066/POS/SMP- VIVO CTRL DIGITAL-5GB ILIM ənb O que está sendo cobrado Quantidade de Quantidade de Valor R$ Incluso Utilizado Valor Total de 25/03/2021 a 24/04/2021 Plano/Pacote Números Vivo Plano/Pacote Plano/Pacote Minutos/Unidades R$ Serviços Contratados Vivo Ctrl Digital-5GB Ilim_ Vivo Controle Serv Digital II Bônus Conta Digital Subtotal Serviços Contratados 59,99 0,00 0,00 1 1 59,99 1 1 1 1 500MB 0,00 59,99 TOTAL A PAGAR 59,99 MENSAGEM PARA VOCÊ A Telefônica Brasil S/A em cumprimento a Lei Federal n°12.007/09, declara a quitação dos serviços de telefonia móvel faturados nesta conta referentes ao ano 2020. Para comprovação do cumprimento das obrigações do consumidor, esta declaração substitui as contas em referência. Este documento não quita parcelamentos, serviços de telefonia fixa, TV, Banda Larga, valores co-faturados de outras operadoras, cobranças judiciais, serviços prestados e não faturados. A conta detalhada está disponível em www.vivo.com.br/meuvivo e pode ser solicitada impressa, de forma permanente ou não. Mantenha o pagamento em dia e evite a suspensão parcial/total dos serviços e a inclusão nos orgãos de proteção ao crédito. Para pagamentos após o vencimento serão cobrados encargos de 2% e juros de 1% ao mês em conta futura. ANATEL 1331 e 1332 para deficientes auditivos. Recurso de atendimento Vivo: ligue com o protocolo em mãos para 1058 e 142 para pessoas com deficiência de fala/audição. vivo Vencimento Total a Pagar - R$ Nome do Cliente PATRICIA MIKA SAKUGAWA 10/05/2021 59,99 Cód. Débito Automático 1101080299-7 N° da Conta 00001101080299 Mês Referência 04/2021 846500000001 599900801003 011010802996 921043170528 Autenticação Mecânica '], ['NOTA FISCAL/CONTA DE FORNECIMENTO DE ÁGUA E COLETA DE ESGOTO Regime especial Processo n° E-04/278370/12 - N° 2340667910616 CONCESSÃO DE SERVICOS DE ESGOTO foz NOVA DATA DE EMISSÃO: 09/06/2016 Águas do Brasil CEDAE ZONA OESTE - RIO DE JANEIRO MEDIÇÃO VENCIMENTO LEVANDO QUALIDADE DE VIDA PARA VOCÊ MAIS SAÚDE PARA VOCÊ MAIS CUIDADO COM O MEIO AMBIENTE COMPANHIA ESTADUAL DE ÁGUAS E ESGOTOS - CEDAE CNPJ: 33.352.394/0001-04 I Inscr. Estadual - 84.780.707 Av. Presidente Vargas, 2.655 - Centro - Rio de Janeiro - RJ NOME / CPF-CNPJ 00394429011730 PREF AERONAUTICA DOS AFONSOS Junho/2016 18/06/2016 ORIGEM MATRÍCULA 1- 08 2340667-9 ENDEREÇO DA LIGAÇÃO RUA PACIFICO PEREIRA, 1 BL 5 - JARDIM SULACAP ROTEIRO 0217801705170 LEITURA ANTERIOR LEITURA ATUAL N° DE DIAS VOLUME FAT.M³ VOLUME APURADO M/DIA 04/05/2016 03/06/2016 | | | | | 5498 5584 30 90 2.8666 PRÓXIMA LEITURA HIDRÔMETRO TIPO DE FATURAMENTO VOLUME MÉDIO M3/DIA | 04/07/2016 | C10S015920 CONS. APURADO 3.0 | ECONOMIAS POR CATEGORIA PERCENTUAL DE FAT.% SUBCATEGORIA DOM COM IND PUB DOM COM IND PUB 6 0 0 0 | 100 0 0 0 | COMUM | FAIXA DE CONSUMO TARIFA CONSUMO VALOR LANÇAMENTOS VALOR R$ R$ FATURADO R$ 0.0-15.0 2,31 90,0 208,62 AGUA DOMICILIAR 208,62 1,08 1,04 194,22 RECURSOS HIDRICOS TAXA DE REGULAÇÃO ESGOTO DOMICILIAR TOTAL CONTA TOTAL A PAGAR 404,96 404,96 Val Aprox dos Tributos R$0.0 (0.0%) conforme Lei 12.741/12. BASE DE CÁLCULO ICMS ALÍQUOTA % VALOR INCL. PREÇO/ÁGUA 0,00 18 0,00 Segunda Via MENSAGEM IMPORTANTE \"De acordo com a lei federal 12.741 de 08/12/2012, a concessionária informa a carga tributária aproximada incidente sobre o valor dos serviços: PIS/COFINS (9,25%).\" SISTEMA: Guandu/RJ Ref : 06/16 Padrão da Val Médios Detectados Portaria MS 518/04 Nro Amostras Exig 194 Realiz 35 Cor Aparente 15 UH(max) 6 A 9.5 (1) 5 UT(max) 0.2 A 2.0 MG/L AUSENTE (3) PH Turbidez Cloro Residual 1,9 1,8 35 194 724 694 724 Coliformes Totais Colif. (1)Apenas recomendacao (2)Numero de amostras positivas (3)Sistemas que analisam 40 ou mais amostras/mes, ausencia em 95% das amostras examinadas. Sistemas que analisam menos de 40 amostras/mes, apenas uma amostra podera apresentar resultado positivo 694 724 45 35 1 AUSENTE SAC - Foz Águas 5: 0800 025 0005 I www.fozaguas5.com.br - CEDAE 195 ou 0800 28 21 195 I www.cedae.com.br CONCESSÃO DE SERVIÇOS DE ESGOTO COMPANHIA ESTADUAL DE ÁGUAS E ESGOTOS - CEDAE CNPJ: 33.352.394/0001-04 I Inscr. Estadual - 84.780.707 Av. Presidente Vargas, 2.655 - Centro - Rio de Janeiro - RJ F. AB. ZONA OESTE S.A. I CNPJ: 14.863.079/0001-99 Rua Doze de Fevereiro, 103 - Bangu - Rio de Janeiro-RJ foz NOVA CEDAE Águas do Brasil ZONA OESTE - RIO DE JANEIRO MAIS SAÚDE PARA VOCÊ MAIS CUIDADO COM O MEIO AMBIENTE LEVANDO QUALIDADE DE VIDA PARA VOCÊ CONTROLE DA CEDAE E DA FOZ ÁGUAS 5 MATRÍCULA MEDIÇÃO ORIGEM | 2340667-9 | Junho/2016 1- 08 VENCIMENTO TOTAL A PAGAR 18/06/2016 | 404,96 CONCESSÃO DE SERVIÇOS DE ESGOTO NOVA CEDAE foz Grup Águas do Brasil ZONA OESTE - RIO DE JANEIRO 826500000045 049613332342 066790616107 816061800008 ÚLTIMÓS CONSUMOS M3 /DIA '], ['vivo Cadastro do Assinante Telefônica Brasil S/A Nome: ARTHUR FORTES DA COSTA Av. Engenheiro Luiz Carlos Berrini, 1376, Ed. Eco Berrini Cidade Monções CEP: 04571-936-São Paulo - SP CNPJ: 02.558.157/0001-62 Endereço: RUA HERMANTINO COELHO 255 AP 23 BL 5 MANSOES SANTO ANTONIO - 13087-500 - CAMPINAS / SP Código do cliente: 8999 5229 4150 DV: 8 Mês de referência: Abril/2021 Número da fatura: 1270664715-0 Tipo de cliente: Residencial 08/05/2021 109,99 Número do telefone: Data de emissão: 23/04/2021 Insc Est: 108383949112 Estado de instalação: São Paulo http://www.vivo.com.br Descrição da sua fatura VALOR (R$) Histórico de consumo RESUMO Plano Contratado / Serviços Mensais Internet + Serviços Digitais e Técnicos Vivo Fibra 300 Mbps (102) Serviços Digitais III 109,99 Total utilizado em min:seg das faturas com vencimento em: Total 109,99 Tipo de Ligação Março Abril Maio TOTAL GERAL A PAGAR 109,99 Vivo Valoriza Aproveite os benefícios do Vivo Valoriza no App Meu Vivo. Para informações detalhadas da sua conta acesse o aplicativo Meu Vivo.O detalhamento também está disponível em www.vivo.com.br/meuvivo e pode ser solicitado impresso, de forma permanente ou não. Caso ainda tenha dúvidas, ligue para nossa Central de Relacionamento no 103 15. Pessoas com necessidades especiais de fala/audição: 142. Mensagem para você Informação é sua maior defesa, por isso, lembramos que a 1a via da sua conta de Serviços Vivo da Sua Casa sempre será enviada pelo endereço \"contadigital@vivo.com.br\". Ao realizar o pagamento, sempre confira se o seu nome, endereço e números de telefone aparecem no boleto. Para a prestação de serviços descrita nessa fatura incidem os seguintes impostos: 25% ICMS, 0,65% PIS, 3% COFINS para Telecom e 2% ISS, 1,65% PIS e 7,6% COFINS para SVAS e 12% ICMS para Comunicações. Ser transparente é uma das nossas prioridades, por isso informamos que não existem débitos pendentes no contrato mencionado nesta conta, dos serviços Vivo para sua casa, no período de 01/2020 a 12/2020. Esse comunicado não inclui quitações de parcelamentos de contas, serviços prestados e não faturados, débitos discutidos judicial e administrativamente, de cobranças de serviços de outras operadoras que ocorreram na sua conta Vivo, entre outras que não estejam mencionadas na Lei 12.007/2009. Importante: mantenha o pagamento em dia e evite a suspensão parcial/total dos serviços e a inclusão nos orgãos de proteção do crédito. Para pagamentos após o vencimento serão cobrados encargos de 2% e juros de 1% ao mês em conta futura. O ressarcimento por inoperância é realizado em conformidade com as Resoluções: Para STFC artigo 32° da Resolução Anatel n° 426/2005; para SCM artigo 46° da Resolução Anatel n° 614/2013 e para TV artigo 6° da Resolução 488/2007. Central de Atendimento Anatel: 1331 (Geral), 1332 (Deficientes Auditivos) e www.anatel.gov.br. Recurso de atendimento VIVO, ligue com o protocolo em mãos para 10315 e 142 para pessoas com necessidades especiais de fala/audição. (102) PSABL/047/POS/SCM Destaque Aqui Autenticação Mecânica Nome do Cliente Sr. Caixa, favor não receber pagamento parcial. ARTHUR FORTES DA COSTA Código para Cadastramento Código do cliente Número da Fatura Data de Vencimento Valor a Pagar (R$) de Débito Automático 8999 5229 4150 899952294150-8 1270664715-0 08/05/2021 109,99 vivo 84630000001 1 09990082089 7 99522941501 4 27066471599 1 '], ['Companhia Paulista de Força e Luz Rua Jorge de Figueiredo Correa, 1632 Jardim Professora Tarcília – Campinas/SP - CEP: 13087-397 Inscrição Estadual: 244.163.955.115 Inscrição no CNPJ: 33.050.196/0001-88 CPFL Uma empresa do Grupo CPFL Energia ENERGIA LUCIANA HORTA DE LIMA SILVA Nota Fiscal R MD MARIA VILLAC 188 Conta de Energia Elétrica CD UII N°. 113966629 série C Pág. 1 de 1 13083-815 CAMPINAS SP Data de Emissão 05/02/2020 Data de Apresentação 06/02/2020 Conta Contrato No 310019095836 Lote Roteiro de leitura Medidor Cliente Reservado ao fisco 03 CAMBU164-00000198 201368307 0703079477 15A3.D2AC.C87C.7269.3A7C.6B61.A9FC.7BF3 PREZADO (A) CLIENTE ATENÇÃO: Esta conta está classificada como RESIDENCIAL. Isso significa que suas tarifas e impostos serão aplicados de acordo com essa classe. Se o imóvel não é residencial, atualize seu cadastro em nossos canais de atendimento. DADOS DA UNIDADE CONSUMIDORA LUCIANA HORTA DE LIMA SILVA R MD MARIA VILLAC, 188 CD U II CAMPINAS - SP CPF:172.025.128-23 Classificação: Convencional B1 Residencial - Bifásico 220 / 127 V SEU CÓDIGO 10668462 CONTA/MÊS FEV/2020 ATENDIMENTO PN VENCIMENTO TOTAL A PAGAR (R$) 0800 010 1010 0703079477 13/02/2020 412,51 www.cpfl.com.br DISCRIMINAÇÃO DA OPERAÇÃO - RESERVADO AO FISCO Cod. Descrição da Operação Mês Quant. Unid. Aliq. PIS COFINS Bandeiras Tarifa com Valor Total da Base Cálculo ICMS Base Cálculo 115 N° 907452415750 Ref. Fa 4,37% Tarifárias Med. Tributos Operação ICMS ICMS PIS/COFINS 0,95% 0605 Consumo Uso Sistema [KWh]-TUSD FEV/20 518,000 kWh 0,35196912 182,32 182,32 25,00 45,58 182,32 1,73 7,97 Amarela 23 Dias 0601 Consumo - TE FEV/20 518,000 kWh 0,39859074 206,47 206,47 25,00 51,62 206,47 1,96 9,02 Verde 0601 Adicional de Bandeira Amarela FEV/20 8,20 8,20 25,00 2,05 8,20 0,08 0,36 05 Dias Total Distribuidora 396,99 DÉBITOS DE OUTROS SERVIÇOS 0807 Contrib. Custeio IP-CIP Municipal FEV/20 15,52 TOTAL CONSOLIDADO 412,51 396,99 99,25 396,99 3,77 17,35 HISTÓRICO DE CONSUMO kWh Dias TARIFA ANEEL EQUIPAMENTOS DE MEDIÇÃO / DATAS DE LEITURA Consumo TUSD TE Leitura Leitura Fator Consumo Taxa de Perda Leitura 20 FEV 518 28 Consumo kWh 0,24526000 0,27776000 N° Energia 05/02/2020 08/01/2020 Multipl. [kWh] [%] Próximo Mês JAN 544 30 201368307 ATIVA 4421 3903 1,00 518 06/03/2020 2019 DEZ 664 33 NOV 744 30 OUT 643 33 SET 439 29 AGO 367 32 JUL 384 30 JUN 432 29 ΜΑΙ 504 33 ABR 512 27 INDICADORES DE CONTINUIDADE DE FORNECIMENTO DE ENERGIA ΜAR 631 31 Para consulta dos indicadores acesse nosso site www.cpfl.com.br FEV 771 28 INFORMAÇÕES SOBRE A FATURA Considerar quitada se efetuado débito em conta corrente. Caso não ocorra o débito utilize esta conta para pagamento. AVISO IMPORTANTE A partir de 01.01.2020 todos os clientes têm direito a optar pela tarifa branca, saiba mais: www.cpfl.com.br/tarifabranca DÉBITO AUTOMÁTICO Total a Pagar (R$) Data de Vencimento 412,51 Nota Fiscal CódDébAut-Banco 310019095836 Conta de Energia Elétrica 113966629 Série C 13/02/2020 Banco 001 Agência 5966 Essa conta poderá ser paga no credenciado mais perto de você. Confira a lista completa no site www.cpfl.com.br LEANDRINI CALCADOS SOS FOGOES E CHAVEIRO LTDA ME ACM COGUMELO cpfl paulista AV SANTA ISABEL, 66 - BARAO GERALDO R FRANCISCA RESENDE MERCIAI, 242 - BARAO GERALDO ROD PEDRO I KM 104,5 SP 065 PISTA NORTE S/N S/N - JD SANTA MONICA 836400000045 125100403182 933791757034 100190958361 Autenticação Mecânica '], ['ELEKTRO SEU CÓDIGO 44003358 ELEKTRO REDES S.A. R. ARY ANTENOR DE SOUZA, 321 - 13053-024- CAMPINAS-SP CNPJ 02 328 280/0001-97- INSC. EST. 244.868.522.118 AV. BALDOMERO LEITUGA, 2032 - 79610-270- TRÊS LAGOAS- MS CNPJ 02 328 280/0002-78-INSC. EST. 28.304.126-9 WWW.ELEKTRO.COM.BR ELIAS JOSE CAMARGO MARINHO LIN JUNQUEIRA, 407 - CASA B - RURAL DATA DE EMISSÃO: 25/02/2021 CASTILHO - SP - CEP 16920-000 DATA DE APRESENTAÇÃO: 03/03/2021 CNPJ/CPF: 31972487833 IE: CONTROLE N°: 01-20216040212062-02 PRÓXIMA LEITURA NO DA NOTA FISCAL/CONTA DE ENERGIA ELÉTRICA CONTA DO MÊS VENCIMENTO VALOR DA CONTA (R$) 26/03/2021 100.894.131 FEVEREIRO/2021 10/03/2021 R$ 214,47 DADOS DE CADASTRO DETALHAMENTO DA CONTA MEDIDOR / CONSTANTE B18291191 CLASSIFICAÇÃO 1 BASE TARIFA VALOR ALÍQ. VALOR VALOR TOTAL RURAL-BIFASICO CCI* DESCRIÇÃO DO PRODUTO QUANTIDADE CALCULO FORNEC. FORNECIMENTO IMPOSTO ICMS (FORNEC. + IMPOSTOS) IMPOSTO TENSÃO NOMINAL OU CONTRATADA (V) LIMITE ADEQUADOS DE TENSÃO (V) DÉBITO AUT. 220/127 116 A 133 / 201 A 231 0601 CONSUMO TE 338,00 0,207337 70,08 90,56 18,00% 16,30 86,38 0601 CONSUMO TUSD 338,00 0,247751 83,74 108,21 18,00% 19,47 103,21 LEITURA 0601 SUBSIDIO TARIFARIO TE 15,39 19,88 18,00% 3,57 18,96 ATUAL ITEM CONSUMO ANTERIOR 0601 SUBSIDIO TARIFARIO TUSD 18,39 23,75 18,00% 4,27 22,66 DIAS DO PERÍODO 10347 10685 ANTERIOR 0601 AD.B.AMAR. 338,00 0,013402 4,53 5,85 18,00% 1,05 5,58 0699 COFINS 248,26 3,80% 9,43 27/01/2021 28 0699 PIS 248,26 0,82% 2,03 0699 SUBSIDIO TARIFARIO LIQUIDO 0,00 0,00% 0,00 -33,78 F. POTÊNCIA MÉDIA ATUAL TOTAL 192,13 44,66 214,47 *CI - CÓDIGO DE CLASSIFICAÇÃO DO ITEM 24/02/2021 HISTÓRICO DE CONSUMO (KWH) 338.0 0.0 0.0 0.0 0.0 0.0 0.0 0.0 0.0 0.0 0.0 0.0 0.0 FEV/21 JAN/21 DEZ/20 NOV/20 OUT/20 SET/20 AGO/20 JUL/20 JUN/20 МA/20 ABR/20 MAR/20 FEV/20 COMPOSIÇÃO DE FORNECIMENTO R$ 101,98 ENCARGOS ENERGIA R$ 24,69 DISTRIBUIÇÃO R$ 38,18 TRIBUTOS R$ 56,12 TRANSMISSÃO R$ 15,58 PERDAS R$ 11,70 INFORMAÇÕES GERAIS BAND. TARIF. AMARELA:28/01-24/02 DESCONTO SOBRE TARIFA: R$ 33,78 AVISO IMPORTANTE DE DÉBITO / CORTE DÉBITOS ANTERIORES ATENÇÃO ACESSE O NOSSO SITE E REALIZE OS SERVIÇOS COM MAIOR COMODIDADE, PRATICIDADE, RAPIDEZ E SEGURANÇA. WWW.ELEKTRO.COM.BR SEU CÓDIGO 44003358 TOTAL R$ R$ 214,47 BANCO AGÊNCIA VENCIMENTO CONTROLE N° 01-20216040212062-02 10/03/2021 836600000027 144700220219 001010202164 040212062026 AUTENTICAÇÃO MECÂNICA GBELEKTRO1 (V1.00) '], ['Companhia Paulista de Força e Luz Rua Jorge de Figueiredo Correa, 1632 Jardim Professora Tarcília – Campinas/SP - CEP: 13087-397 Inscrição Estadual: 244.163.955.115 Inscrição no CNPJ: 33.050.196/0001-88 CPFL Uma empresa do Grupo CPFL Energia ENERGIA ARTHUR FORTES DA COSTA Nota Fiscal R HERMANTINO COELHO 255 BL 5 AP 23 Conta de Energia Elétrica MAN STO ANTONIO N°. 110540367 série C Pág. 1 de 1 13087-500 CAMPINAS SP Data de Emissão 14/01/2020 Data de Apresentação 15/01/2020 Conta Contrato No 310091689739 Lote Roteiro de leitura Medidor Cliente Reservado ao fisco 07 CAMBUD49-00000853 215857038 0711530431 FB50.530F.0AEF.3147.8327.ADE5.E164.2966 PREZADO (A) CLIENTE FELIZ ANO NOVO! Que tal começar o ano atualizando seu cadastro? Saiba que a classe da sua conta determina sua tarifa e impostos. Se o imóvel não é RESIDENCIAL, atualize seu cadastro em nossos canais de atendimento. DADOS DA UNIDADE CONSUMIDORA ARTHUR FORTES DA COSTA R HERMANTINO COELHO, 255 BL 5 AP 23 MAN STO ANTONIO CAMPINAS - SP CPF:021.251.723-64 Classificação: Convencional B1 Residencial - Bifásico 220 / 127 V SEU CÓDIGO 8866562 CONTA/MÊS JAN/2020 ATENDIMENTO PN VENCIMENTO TOTAL A PAGAR (R$) 0800 010 1010 0711530431 10/02/2020 142,99 www.cpfl.com.br DISCRIMINAÇÃO DA OPERAÇÃO - RESERVADO AO FISCO Cod. Descrição da Operação Mês Quant. Unid. Aliq. PIS COFINS Bandeiras Tarifa com Valor Total da Base Cálculo ICMS Base Cálculo 115 N° 901052809287 Operação 6,27%| Tarifárias Ref. Fa Med. Tributos ICMS ICMS PIS/COFINS 1,37% 0605 Consumo Uso Sistema [KWh]-TUSD JAN/20 191,000 kWh 0,30513090 58,28 58,28 12,00 6,99 58,28 0,80 3,65 Amarela 18 Dias 0601 Consumo - TE JAN/20 191,000 kWh 0,34560210 66,01 66,01 12,00 7,92 66,01 0,90 4,14 Amarela 0601 Adicional de Bandeira Amarela JAN/20 3,18 3,18 12,00 0,38 3,18 0,04 0,20 14 Dias Total Distribuidora 127,47 DÉBITOS DE OUTROS SERVIÇOS 0807 Contrib. Custeio IP-CIP Municipal JAN/20 15,52 TOTAL CONSOLIDADO 142,99 127,47 15,29 127,47 1,74 7,99 HISTÓRICO DE CONSUMO kWh Dias TARIFA ANEEL EQUIPAMENTOS DE MEDIÇÃO / DATAS DE LEITURA Consumo TUSD TE Leitura Leitura Fator Consumo Taxa de Perda Leitura 2020 JAN 191 32 Consumo kWh 0,24526000 0,27776000 N° Energia 14/01/2020 13/12/2019 Multipl. [kWh] [%] Próximo Mês 2019 DEZ 206 31 215857038 ATIVA 11794 11603 1,00 191 11/02/2020 NOV 174 32 OUT 198 31 SET 157 29 AGO 221 31 JUL 186 31 JUN 161 29 ΜΑΙ 185 32 ABR 185 29 MAR 183 30 INDICADORES DE CONTINUIDADE DE FORNECIMENTO DE ENERGIA FEV 194 28 Para consulta dos indicadores acesse nosso site www.cpfl.com.br JAN 196 32 INFORMAÇÕES SOBRE A FATURA Custeio de iluminação pública: alterado valor de arrecadação conforme Lei Municipal 00011453 de 27.12.2002, com fundamento no Art. 149 A, parágrafo único, da Constituição Federal do Brasil. AVISO IMPORTANTE A partir de 01.01.2020 todos os clientes têm direito a optar pela tarifa branca, saiba mais: www.cpfl.com.br/tarifabranca CódDébAut-Banco 310091689739 Total a Pagar (R$) Data de Vencimento 142,99 Nota Fiscal Conta de Energia Elétrica 110540367 Série C 10/02/2020 Essa conta poderá ser paga no credenciado mais perto de você. Confira a lista completa no site www.cpfl.com.br Loja 2189 - LC-PE M BERNARDES CAMP DROGARIA DOM PEDRO CAMPINAS O MATUTO cpfl paulista R PADRE MANUEL BERNARDES 971 - TAQUARAL AV GUILHERME CAMPOS LJ. 30A 500 - JARDIM SANTA GENEBRA RUA LUIZ OTAVIO, 651 - PARQUE TAQUARAL 836000000015 429900403214 033708095030 100916897398 Autenticação Mecânica '], ['NOTA FISCAL/CONTA DE FORNECIMENTO DE ÁGUA E COLETA DE ESGOTO Regime especial Processo n° E-04/278370/12 - N° 2340667910316 CONCESSÃO DE SERVICOS DE ESGOTO foz NOVA DATA DE EMISSÃO: 04/03/2016 Águas do Brasil CEDAE ZONA OESTE - RIO DE JANEIRO MEDIÇÃO VENCIMENTO LEVANDO QUALIDADE DE VIDA PARA VOCÊ MAIS SAÚDE PARA VOCÊ MAIS CUIDADO COM O MEIO AMBIENTE COMPANHIA ESTADUAL DE ÁGUAS E ESGOTOS - CEDAE CNPJ: 33.352.394/0001-04 I Inscr. Estadual - 84.780.707 Av. Presidente Vargas, 2.655 - Centro - Rio de Janeiro - RJ NOME / CPF-CNPJ 00394429011730 PREF AERONAUTICA DOS AFONSOS Março/2016 15/03/2016 ORIGEM MATRÍCULA 1- 47 2340667-9 ENDEREÇO DA LIGAÇÃO RUA PACIFICO PEREIRA, 1 BL 5 - JARDIM SULACAP ROTEIRO 0217608205170 LEITURA ANTERIOR LEITURA ATUAL N° DE DIAS VOLUME FAT.M³ VOLUME APURADO M/DIA 29/01/2016 02/03/2016 | | | | | | 5187 5282 31 99 2.8787 PRÓXIMA LEITURA HIDRÔMETRO TIPO DE FATURAMENTO VOLUME MÉDIO M3/DIA | 31/03/2016 | C10S015920 | CONS. APURADO 3.0 | ECONOMIAS POR CATEGORIA PERCENTUAL DE FAT.% SUBCATEGORIA DOM COM IND PUB DOM COM IND PUB 6 0 0 0 | | 100 0 0 0 | COMUM | FAIXA DE CONSUMO TARIFA CONSUMO VALOR LANÇAMENTOS VALOR R$ R$ FATURADO R$ 0.0-15.0 2,31 99,0 229,48 AGUA DOMICILIAR 229,48 RECURSOS HIDRICOS TAXA DE REGULAÇÃO 1,19 1,14 ESGOTO DOMICILIAR 213,64 RECURSOS HIDRICOS 1,11 TOTAL CONTA TOTAL A PAGAR 446,56 446,56 Val Aprox dos Tributos R$0.0 (0.0%) conforme Lei 12.741/12. BASE DE CÁLCULO ICMS ALÍQUOTA % VALOR INCL. PREÇO/ÁGUA 0,00 18 0,00 Segunda Via MENSAGEM IMPORTANTE ¿A partir da medição 04/2016, serão aplicados ajustes nas rotas de leitura, visando melhorar o desempenho dos agentes comerciais em campo, devido a isso, sua conta poderá sofrer alteração de -4 a +4 dias, em relação ao vencimento atual. Qualquer dúvida ligue para 0 0800 025 0005\" SISTEMA: Guandu/RJ Ref : 03/16 Padrão da Val Médios Detectados Portaria MS 518/04 Nro Amostras Exig 194 Realiz 35 Cor Aparente 15 UH(max) 6 A 9.5 (1) 5 UT(max) 0.2 A 2.0 MG/L AUSENTE (3) PH Turbidez Cloro Residual 1,9 1,8 35 194 724 694 724 Coliformes Totais Colif. (1)Apenas recomendacao (2)Numero de amostras positivas (3)Sistemas que analisam 40 ou mais amostras/mes, ausencia em 95% das amostras examinadas. Sistemas que analisam menos de 40 amostras/mes, apenas uma amostra podera apresentar resultado positivo 694 724 45 35 1 AUSENTE SAC - Foz Águas 5: 0800 025 0005 I www.fozaguas5.com.br - CEDAE 195 ou 0800 28 21 195 I www.cedae.com.br CONCESSÃO DE SERVIÇOS DE ESGOTO COMPANHIA ESTADUAL DE ÁGUAS E ESGOTOS - CEDAE CNPJ: 33.352.394/0001-04 I Inscr. Estadual - 84.780.707 Av. Presidente Vargas, 2.655 - Centro - Rio de Janeiro - RJ F. AB. ZONA OESTE S.A. I CNPJ: 14.863.079/0001-99 Rua Doze de Fevereiro, 103 - Bangu - Rio de Janeiro-RJ foz NOVA CEDAE Águas do Brasil ZONA OESTE - RIO DE JANEIRO MAIS SAÚDE PARA VOCÊ MAIS CUIDADO COM O MEIO AMBIENTE LEVANDO QUALIDADE DE VIDA PARA VOCÊ CONTROLE DA CEDAE E DA FOZ ÁGUAS 5 MATRÍCULA MEDIÇÃO ORIGEM | | Março/2016 1- 47 | 2340667-9 VENCIMENTO TOTAL A PAGAR 15/03/2016 | 446,56 CONCESSÃO DE SERVIÇOS DE ESGOTO NOVA CEDAE foz Grup Águas do Brasil ZONA OESTE - RIO DE JANEIRO 826700000043 465613332340 066790316146 716031500003 ÚLTIMÓS CONSUMOS M3 /DIA '], ['Fatura de Serviços de Telecomunicações Página 000001 de 000004 oi FIXO OI S.A Travessa Teixeira de Freitas, 75- Merces CEP 80410-040 - Curitiba - PR CNPJ Matriz : 76.535.764/0001-43 CNPJ: 76.535.764/0321-85 LE: 90.206.136-34 II.llLLL..lLLU EMILSON RICHARD WERNER R DILERMANDO PEREIRA ALMEIDA 00039 SB4 PINHEIRINHO 81870-070 CURITIBA - PR Referência JANEIRO/2017 Telefone Vencimento Total a pagar (41) 3564 6159 09/01/2017 R$ 103,37 Resumo da sua fatura R$ 35,49 OI FIXO OI FIXO 35,49 PACOTE DE MINUTOS FIXO-FIXO LOCAL PACOTE DE MINUTOS FIXO-MOVEL LOCAL PACOTE DE MINUTOS LONGA DISTANCIA COM 14 SERVICOS DIGITAIS R$ 42,76 OI VELOX OFERTA VELOX E SERVICOS DE BANDA LARGA ...... 42,76 ASSINATURA VELOX + 1@ EXCEDENTES, OUTROS SERVICOS E TAXAS .. R$ 25,12 LIGACOES FIXO-FIXO 0,00 1,12 24,00 LIGACOES FIXO-MOVEL SERVICOS OUTRAS PRESTADORAS E TERCEIROS GANHE R$10 DE DESCONTO NOS PRÓXIMOS 3 MESES. CADASTRE SUA CONTA NO DÉBITO AUTOMÁTICO EM CONTA CORRENTE. Você não se preocupa mais com atrasos no recebimento e no pagamento da sua fatura. E ainda continua recebendo, em casa, o detalhamento impresso da sua conta. Faça o cadastro da sua fatura pela Minha Oi ou pelo telefone 103 14. Para mais informações, acesse www.oi.com.br/oi/oi-pra-voce/minha-oi/debito-automatico Valida para todas as instituições financeiras - Para os bancos Bradesco, Banco do Brasil, Caixa Econdemica, Banrisul ou Itaú, a adesio pode ser OI S.A. Travessa Texeira de Freitas, 75 - Mercés CEP 80410-040 - Curitiba - PR CNPJ Matriz : 76.535.764/0001-43 CNPJ: EMILSON RICHARD WERNER Número do Telefone: 41 3564 6159 FIXO 76.535.764/0321-85 L.E: 90.206.136-34 Número da Fatura: 1701.000824644 Sequencial: 818804291 201701 01179 Contrato Agrupador: 818.804.291-7-1 Via IPTE: 2340 0201 0100 8149 1949 CTRL: 10100 8149 1949a Data de Vencimento 09/01/2017 84660000001 8 03370020818 5 80429120170 0 10117900000 1 Valor a pagar: 103,37 N° Identificador para Débito Automático: 818.804.291-7 ']]\n"
          ]
        }
      ],
      "source": [
        "print(saida1)"
      ]
    },
    {
      "cell_type": "markdown",
      "metadata": {
        "id": "s31l-UpcBihg"
      },
      "source": [
        "CREATING A DATAFRAME"
      ]
    },
    {
      "cell_type": "code",
      "source": [
        "df1 = pd.DataFrame({'number': idx1,\n",
        "                    'file_text': saida1})"
      ],
      "metadata": {
        "id": "B3qZIY75O7Lt"
      },
      "execution_count": 14,
      "outputs": []
    },
    {
      "cell_type": "code",
      "source": [
        "df1.head(2)"
      ],
      "metadata": {
        "id": "hIimlGkmPUmQ",
        "outputId": "6e26b4fb-5d80-4a69-ef71-c61062d5de0a",
        "colab": {
          "base_uri": "https://localhost:8080/",
          "height": 112
        }
      },
      "execution_count": 15,
      "outputs": [
        {
          "output_type": "execute_result",
          "data": {
            "text/plain": [
              "   number                                          file_text\n",
              "0       0  [Companhia Paulista de Força e Luz Rua Jorge d...\n",
              "1       1  [NOTA FISCAL/CONTA DE FORNECIMENTO DE ÁGUA E C..."
            ],
            "text/html": [
              "\n",
              "  <div id=\"df-8076908a-4526-4e1e-a8e8-284e75b3d9dd\">\n",
              "    <div class=\"colab-df-container\">\n",
              "      <div>\n",
              "<style scoped>\n",
              "    .dataframe tbody tr th:only-of-type {\n",
              "        vertical-align: middle;\n",
              "    }\n",
              "\n",
              "    .dataframe tbody tr th {\n",
              "        vertical-align: top;\n",
              "    }\n",
              "\n",
              "    .dataframe thead th {\n",
              "        text-align: right;\n",
              "    }\n",
              "</style>\n",
              "<table border=\"1\" class=\"dataframe\">\n",
              "  <thead>\n",
              "    <tr style=\"text-align: right;\">\n",
              "      <th></th>\n",
              "      <th>number</th>\n",
              "      <th>file_text</th>\n",
              "    </tr>\n",
              "  </thead>\n",
              "  <tbody>\n",
              "    <tr>\n",
              "      <th>0</th>\n",
              "      <td>0</td>\n",
              "      <td>[Companhia Paulista de Força e Luz Rua Jorge d...</td>\n",
              "    </tr>\n",
              "    <tr>\n",
              "      <th>1</th>\n",
              "      <td>1</td>\n",
              "      <td>[NOTA FISCAL/CONTA DE FORNECIMENTO DE ÁGUA E C...</td>\n",
              "    </tr>\n",
              "  </tbody>\n",
              "</table>\n",
              "</div>\n",
              "      <button class=\"colab-df-convert\" onclick=\"convertToInteractive('df-8076908a-4526-4e1e-a8e8-284e75b3d9dd')\"\n",
              "              title=\"Convert this dataframe to an interactive table.\"\n",
              "              style=\"display:none;\">\n",
              "        \n",
              "  <svg xmlns=\"http://www.w3.org/2000/svg\" height=\"24px\"viewBox=\"0 0 24 24\"\n",
              "       width=\"24px\">\n",
              "    <path d=\"M0 0h24v24H0V0z\" fill=\"none\"/>\n",
              "    <path d=\"M18.56 5.44l.94 2.06.94-2.06 2.06-.94-2.06-.94-.94-2.06-.94 2.06-2.06.94zm-11 1L8.5 8.5l.94-2.06 2.06-.94-2.06-.94L8.5 2.5l-.94 2.06-2.06.94zm10 10l.94 2.06.94-2.06 2.06-.94-2.06-.94-.94-2.06-.94 2.06-2.06.94z\"/><path d=\"M17.41 7.96l-1.37-1.37c-.4-.4-.92-.59-1.43-.59-.52 0-1.04.2-1.43.59L10.3 9.45l-7.72 7.72c-.78.78-.78 2.05 0 2.83L4 21.41c.39.39.9.59 1.41.59.51 0 1.02-.2 1.41-.59l7.78-7.78 2.81-2.81c.8-.78.8-2.07 0-2.86zM5.41 20L4 18.59l7.72-7.72 1.47 1.35L5.41 20z\"/>\n",
              "  </svg>\n",
              "      </button>\n",
              "      \n",
              "  <style>\n",
              "    .colab-df-container {\n",
              "      display:flex;\n",
              "      flex-wrap:wrap;\n",
              "      gap: 12px;\n",
              "    }\n",
              "\n",
              "    .colab-df-convert {\n",
              "      background-color: #E8F0FE;\n",
              "      border: none;\n",
              "      border-radius: 50%;\n",
              "      cursor: pointer;\n",
              "      display: none;\n",
              "      fill: #1967D2;\n",
              "      height: 32px;\n",
              "      padding: 0 0 0 0;\n",
              "      width: 32px;\n",
              "    }\n",
              "\n",
              "    .colab-df-convert:hover {\n",
              "      background-color: #E2EBFA;\n",
              "      box-shadow: 0px 1px 2px rgba(60, 64, 67, 0.3), 0px 1px 3px 1px rgba(60, 64, 67, 0.15);\n",
              "      fill: #174EA6;\n",
              "    }\n",
              "\n",
              "    [theme=dark] .colab-df-convert {\n",
              "      background-color: #3B4455;\n",
              "      fill: #D2E3FC;\n",
              "    }\n",
              "\n",
              "    [theme=dark] .colab-df-convert:hover {\n",
              "      background-color: #434B5C;\n",
              "      box-shadow: 0px 1px 3px 1px rgba(0, 0, 0, 0.15);\n",
              "      filter: drop-shadow(0px 1px 2px rgba(0, 0, 0, 0.3));\n",
              "      fill: #FFFFFF;\n",
              "    }\n",
              "  </style>\n",
              "\n",
              "      <script>\n",
              "        const buttonEl =\n",
              "          document.querySelector('#df-8076908a-4526-4e1e-a8e8-284e75b3d9dd button.colab-df-convert');\n",
              "        buttonEl.style.display =\n",
              "          google.colab.kernel.accessAllowed ? 'block' : 'none';\n",
              "\n",
              "        async function convertToInteractive(key) {\n",
              "          const element = document.querySelector('#df-8076908a-4526-4e1e-a8e8-284e75b3d9dd');\n",
              "          const dataTable =\n",
              "            await google.colab.kernel.invokeFunction('convertToInteractive',\n",
              "                                                     [key], {});\n",
              "          if (!dataTable) return;\n",
              "\n",
              "          const docLinkHtml = 'Like what you see? Visit the ' +\n",
              "            '<a target=\"_blank\" href=https://colab.research.google.com/notebooks/data_table.ipynb>data table notebook</a>'\n",
              "            + ' to learn more about interactive tables.';\n",
              "          element.innerHTML = '';\n",
              "          dataTable['output_type'] = 'display_data';\n",
              "          await google.colab.output.renderOutput(dataTable, element);\n",
              "          const docLink = document.createElement('div');\n",
              "          docLink.innerHTML = docLinkHtml;\n",
              "          element.appendChild(docLink);\n",
              "        }\n",
              "      </script>\n",
              "    </div>\n",
              "  </div>\n",
              "  "
            ]
          },
          "metadata": {},
          "execution_count": 15
        }
      ]
    },
    {
      "cell_type": "code",
      "execution_count": 16,
      "metadata": {
        "colab": {
          "base_uri": "https://localhost:8080/"
        },
        "id": "73rbh8rnATDh",
        "outputId": "0e47c697-d639-40a9-c92a-7fcc3b01fc19"
      },
      "outputs": [
        {
          "output_type": "execute_result",
          "data": {
            "text/plain": [
              "(152, 2)"
            ]
          },
          "metadata": {},
          "execution_count": 16
        }
      ],
      "source": [
        "df1.shape"
      ]
    },
    {
      "cell_type": "code",
      "execution_count": 17,
      "metadata": {
        "id": "aOL9H-PeCIqW"
      },
      "outputs": [],
      "source": [
        "# df1.info"
      ]
    },
    {
      "cell_type": "code",
      "execution_count": 18,
      "metadata": {
        "colab": {
          "base_uri": "https://localhost:8080/"
        },
        "id": "wFa8fwU1A7Vt",
        "outputId": "673face6-0b4c-45ab-b19e-b707a2259efa"
      },
      "outputs": [
        {
          "output_type": "execute_result",
          "data": {
            "text/plain": [
              "(87,)"
            ]
          },
          "metadata": {},
          "execution_count": 18
        }
      ],
      "source": [
        "df_unique1 = df1['file_text'].drop_duplicates()\n",
        "df_unique1.shape"
      ]
    },
    {
      "cell_type": "markdown",
      "source": [
        "###MERGE OLD"
      ],
      "metadata": {
        "id": "T4pJ4AMLIQAw"
      }
    },
    {
      "cell_type": "code",
      "source": [
        "df0.head(2)"
      ],
      "metadata": {
        "colab": {
          "base_uri": "https://localhost:8080/",
          "height": 112
        },
        "id": "RaahLfW5I7nz",
        "outputId": "acb1ce2d-39ea-4b2f-8a51-fd3267e29063"
      },
      "execution_count": 19,
      "outputs": [
        {
          "output_type": "execute_result",
          "data": {
            "text/plain": [
              "   number                                          file_text\n",
              "0       0  [DUCESP, JUCESP PROTOCOLO 0.175.643/18-0 S[P 0...\n",
              "1       1  [JUCE JUCESP PROTOCOLO SIP 0.585.474/19-9 12 0..."
            ],
            "text/html": [
              "\n",
              "  <div id=\"df-981159ce-8917-4e04-ae54-47018ff28b2d\">\n",
              "    <div class=\"colab-df-container\">\n",
              "      <div>\n",
              "<style scoped>\n",
              "    .dataframe tbody tr th:only-of-type {\n",
              "        vertical-align: middle;\n",
              "    }\n",
              "\n",
              "    .dataframe tbody tr th {\n",
              "        vertical-align: top;\n",
              "    }\n",
              "\n",
              "    .dataframe thead th {\n",
              "        text-align: right;\n",
              "    }\n",
              "</style>\n",
              "<table border=\"1\" class=\"dataframe\">\n",
              "  <thead>\n",
              "    <tr style=\"text-align: right;\">\n",
              "      <th></th>\n",
              "      <th>number</th>\n",
              "      <th>file_text</th>\n",
              "    </tr>\n",
              "  </thead>\n",
              "  <tbody>\n",
              "    <tr>\n",
              "      <th>0</th>\n",
              "      <td>0</td>\n",
              "      <td>[DUCESP, JUCESP PROTOCOLO 0.175.643/18-0 S[P 0...</td>\n",
              "    </tr>\n",
              "    <tr>\n",
              "      <th>1</th>\n",
              "      <td>1</td>\n",
              "      <td>[JUCE JUCESP PROTOCOLO SIP 0.585.474/19-9 12 0...</td>\n",
              "    </tr>\n",
              "  </tbody>\n",
              "</table>\n",
              "</div>\n",
              "      <button class=\"colab-df-convert\" onclick=\"convertToInteractive('df-981159ce-8917-4e04-ae54-47018ff28b2d')\"\n",
              "              title=\"Convert this dataframe to an interactive table.\"\n",
              "              style=\"display:none;\">\n",
              "        \n",
              "  <svg xmlns=\"http://www.w3.org/2000/svg\" height=\"24px\"viewBox=\"0 0 24 24\"\n",
              "       width=\"24px\">\n",
              "    <path d=\"M0 0h24v24H0V0z\" fill=\"none\"/>\n",
              "    <path d=\"M18.56 5.44l.94 2.06.94-2.06 2.06-.94-2.06-.94-.94-2.06-.94 2.06-2.06.94zm-11 1L8.5 8.5l.94-2.06 2.06-.94-2.06-.94L8.5 2.5l-.94 2.06-2.06.94zm10 10l.94 2.06.94-2.06 2.06-.94-2.06-.94-.94-2.06-.94 2.06-2.06.94z\"/><path d=\"M17.41 7.96l-1.37-1.37c-.4-.4-.92-.59-1.43-.59-.52 0-1.04.2-1.43.59L10.3 9.45l-7.72 7.72c-.78.78-.78 2.05 0 2.83L4 21.41c.39.39.9.59 1.41.59.51 0 1.02-.2 1.41-.59l7.78-7.78 2.81-2.81c.8-.78.8-2.07 0-2.86zM5.41 20L4 18.59l7.72-7.72 1.47 1.35L5.41 20z\"/>\n",
              "  </svg>\n",
              "      </button>\n",
              "      \n",
              "  <style>\n",
              "    .colab-df-container {\n",
              "      display:flex;\n",
              "      flex-wrap:wrap;\n",
              "      gap: 12px;\n",
              "    }\n",
              "\n",
              "    .colab-df-convert {\n",
              "      background-color: #E8F0FE;\n",
              "      border: none;\n",
              "      border-radius: 50%;\n",
              "      cursor: pointer;\n",
              "      display: none;\n",
              "      fill: #1967D2;\n",
              "      height: 32px;\n",
              "      padding: 0 0 0 0;\n",
              "      width: 32px;\n",
              "    }\n",
              "\n",
              "    .colab-df-convert:hover {\n",
              "      background-color: #E2EBFA;\n",
              "      box-shadow: 0px 1px 2px rgba(60, 64, 67, 0.3), 0px 1px 3px 1px rgba(60, 64, 67, 0.15);\n",
              "      fill: #174EA6;\n",
              "    }\n",
              "\n",
              "    [theme=dark] .colab-df-convert {\n",
              "      background-color: #3B4455;\n",
              "      fill: #D2E3FC;\n",
              "    }\n",
              "\n",
              "    [theme=dark] .colab-df-convert:hover {\n",
              "      background-color: #434B5C;\n",
              "      box-shadow: 0px 1px 3px 1px rgba(0, 0, 0, 0.15);\n",
              "      filter: drop-shadow(0px 1px 2px rgba(0, 0, 0, 0.3));\n",
              "      fill: #FFFFFF;\n",
              "    }\n",
              "  </style>\n",
              "\n",
              "      <script>\n",
              "        const buttonEl =\n",
              "          document.querySelector('#df-981159ce-8917-4e04-ae54-47018ff28b2d button.colab-df-convert');\n",
              "        buttonEl.style.display =\n",
              "          google.colab.kernel.accessAllowed ? 'block' : 'none';\n",
              "\n",
              "        async function convertToInteractive(key) {\n",
              "          const element = document.querySelector('#df-981159ce-8917-4e04-ae54-47018ff28b2d');\n",
              "          const dataTable =\n",
              "            await google.colab.kernel.invokeFunction('convertToInteractive',\n",
              "                                                     [key], {});\n",
              "          if (!dataTable) return;\n",
              "\n",
              "          const docLinkHtml = 'Like what you see? Visit the ' +\n",
              "            '<a target=\"_blank\" href=https://colab.research.google.com/notebooks/data_table.ipynb>data table notebook</a>'\n",
              "            + ' to learn more about interactive tables.';\n",
              "          element.innerHTML = '';\n",
              "          dataTable['output_type'] = 'display_data';\n",
              "          await google.colab.output.renderOutput(dataTable, element);\n",
              "          const docLink = document.createElement('div');\n",
              "          docLink.innerHTML = docLinkHtml;\n",
              "          element.appendChild(docLink);\n",
              "        }\n",
              "      </script>\n",
              "    </div>\n",
              "  </div>\n",
              "  "
            ]
          },
          "metadata": {},
          "execution_count": 19
        }
      ]
    },
    {
      "cell_type": "code",
      "source": [
        "df1.head(2)"
      ],
      "metadata": {
        "colab": {
          "base_uri": "https://localhost:8080/",
          "height": 112
        },
        "id": "30UOtkpDJIYl",
        "outputId": "afa89b54-79f4-4ae7-cc84-274fb96e35e7"
      },
      "execution_count": 20,
      "outputs": [
        {
          "output_type": "execute_result",
          "data": {
            "text/plain": [
              "   number                                          file_text\n",
              "0       0  [Companhia Paulista de Força e Luz Rua Jorge d...\n",
              "1       1  [NOTA FISCAL/CONTA DE FORNECIMENTO DE ÁGUA E C..."
            ],
            "text/html": [
              "\n",
              "  <div id=\"df-cdb6afd3-e08d-4b13-a8c1-5a2d237ba748\">\n",
              "    <div class=\"colab-df-container\">\n",
              "      <div>\n",
              "<style scoped>\n",
              "    .dataframe tbody tr th:only-of-type {\n",
              "        vertical-align: middle;\n",
              "    }\n",
              "\n",
              "    .dataframe tbody tr th {\n",
              "        vertical-align: top;\n",
              "    }\n",
              "\n",
              "    .dataframe thead th {\n",
              "        text-align: right;\n",
              "    }\n",
              "</style>\n",
              "<table border=\"1\" class=\"dataframe\">\n",
              "  <thead>\n",
              "    <tr style=\"text-align: right;\">\n",
              "      <th></th>\n",
              "      <th>number</th>\n",
              "      <th>file_text</th>\n",
              "    </tr>\n",
              "  </thead>\n",
              "  <tbody>\n",
              "    <tr>\n",
              "      <th>0</th>\n",
              "      <td>0</td>\n",
              "      <td>[Companhia Paulista de Força e Luz Rua Jorge d...</td>\n",
              "    </tr>\n",
              "    <tr>\n",
              "      <th>1</th>\n",
              "      <td>1</td>\n",
              "      <td>[NOTA FISCAL/CONTA DE FORNECIMENTO DE ÁGUA E C...</td>\n",
              "    </tr>\n",
              "  </tbody>\n",
              "</table>\n",
              "</div>\n",
              "      <button class=\"colab-df-convert\" onclick=\"convertToInteractive('df-cdb6afd3-e08d-4b13-a8c1-5a2d237ba748')\"\n",
              "              title=\"Convert this dataframe to an interactive table.\"\n",
              "              style=\"display:none;\">\n",
              "        \n",
              "  <svg xmlns=\"http://www.w3.org/2000/svg\" height=\"24px\"viewBox=\"0 0 24 24\"\n",
              "       width=\"24px\">\n",
              "    <path d=\"M0 0h24v24H0V0z\" fill=\"none\"/>\n",
              "    <path d=\"M18.56 5.44l.94 2.06.94-2.06 2.06-.94-2.06-.94-.94-2.06-.94 2.06-2.06.94zm-11 1L8.5 8.5l.94-2.06 2.06-.94-2.06-.94L8.5 2.5l-.94 2.06-2.06.94zm10 10l.94 2.06.94-2.06 2.06-.94-2.06-.94-.94-2.06-.94 2.06-2.06.94z\"/><path d=\"M17.41 7.96l-1.37-1.37c-.4-.4-.92-.59-1.43-.59-.52 0-1.04.2-1.43.59L10.3 9.45l-7.72 7.72c-.78.78-.78 2.05 0 2.83L4 21.41c.39.39.9.59 1.41.59.51 0 1.02-.2 1.41-.59l7.78-7.78 2.81-2.81c.8-.78.8-2.07 0-2.86zM5.41 20L4 18.59l7.72-7.72 1.47 1.35L5.41 20z\"/>\n",
              "  </svg>\n",
              "      </button>\n",
              "      \n",
              "  <style>\n",
              "    .colab-df-container {\n",
              "      display:flex;\n",
              "      flex-wrap:wrap;\n",
              "      gap: 12px;\n",
              "    }\n",
              "\n",
              "    .colab-df-convert {\n",
              "      background-color: #E8F0FE;\n",
              "      border: none;\n",
              "      border-radius: 50%;\n",
              "      cursor: pointer;\n",
              "      display: none;\n",
              "      fill: #1967D2;\n",
              "      height: 32px;\n",
              "      padding: 0 0 0 0;\n",
              "      width: 32px;\n",
              "    }\n",
              "\n",
              "    .colab-df-convert:hover {\n",
              "      background-color: #E2EBFA;\n",
              "      box-shadow: 0px 1px 2px rgba(60, 64, 67, 0.3), 0px 1px 3px 1px rgba(60, 64, 67, 0.15);\n",
              "      fill: #174EA6;\n",
              "    }\n",
              "\n",
              "    [theme=dark] .colab-df-convert {\n",
              "      background-color: #3B4455;\n",
              "      fill: #D2E3FC;\n",
              "    }\n",
              "\n",
              "    [theme=dark] .colab-df-convert:hover {\n",
              "      background-color: #434B5C;\n",
              "      box-shadow: 0px 1px 3px 1px rgba(0, 0, 0, 0.15);\n",
              "      filter: drop-shadow(0px 1px 2px rgba(0, 0, 0, 0.3));\n",
              "      fill: #FFFFFF;\n",
              "    }\n",
              "  </style>\n",
              "\n",
              "      <script>\n",
              "        const buttonEl =\n",
              "          document.querySelector('#df-cdb6afd3-e08d-4b13-a8c1-5a2d237ba748 button.colab-df-convert');\n",
              "        buttonEl.style.display =\n",
              "          google.colab.kernel.accessAllowed ? 'block' : 'none';\n",
              "\n",
              "        async function convertToInteractive(key) {\n",
              "          const element = document.querySelector('#df-cdb6afd3-e08d-4b13-a8c1-5a2d237ba748');\n",
              "          const dataTable =\n",
              "            await google.colab.kernel.invokeFunction('convertToInteractive',\n",
              "                                                     [key], {});\n",
              "          if (!dataTable) return;\n",
              "\n",
              "          const docLinkHtml = 'Like what you see? Visit the ' +\n",
              "            '<a target=\"_blank\" href=https://colab.research.google.com/notebooks/data_table.ipynb>data table notebook</a>'\n",
              "            + ' to learn more about interactive tables.';\n",
              "          element.innerHTML = '';\n",
              "          dataTable['output_type'] = 'display_data';\n",
              "          await google.colab.output.renderOutput(dataTable, element);\n",
              "          const docLink = document.createElement('div');\n",
              "          docLink.innerHTML = docLinkHtml;\n",
              "          element.appendChild(docLink);\n",
              "        }\n",
              "      </script>\n",
              "    </div>\n",
              "  </div>\n",
              "  "
            ]
          },
          "metadata": {},
          "execution_count": 20
        }
      ]
    },
    {
      "cell_type": "code",
      "source": [
        "df_merge_two_sheets = pd.merge(df0, df1, how='outer', on='number')\n",
        "df_merge_two_sheets.head(2)"
      ],
      "metadata": {
        "colab": {
          "base_uri": "https://localhost:8080/",
          "height": 112
        },
        "id": "mTXvXVqCIRqn",
        "outputId": "118f1e1d-c699-47f7-9c51-67ca10a2370e"
      },
      "execution_count": 21,
      "outputs": [
        {
          "output_type": "execute_result",
          "data": {
            "text/plain": [
              "   number                                        file_text_x  \\\n",
              "0       0  [DUCESP, JUCESP PROTOCOLO 0.175.643/18-0 S[P 0...   \n",
              "1       1  [JUCE JUCESP PROTOCOLO SIP 0.585.474/19-9 12 0...   \n",
              "\n",
              "                                         file_text_y  \n",
              "0  [Companhia Paulista de Força e Luz Rua Jorge d...  \n",
              "1  [NOTA FISCAL/CONTA DE FORNECIMENTO DE ÁGUA E C...  "
            ],
            "text/html": [
              "\n",
              "  <div id=\"df-21838895-8a74-4121-b069-ae8e29ab84da\">\n",
              "    <div class=\"colab-df-container\">\n",
              "      <div>\n",
              "<style scoped>\n",
              "    .dataframe tbody tr th:only-of-type {\n",
              "        vertical-align: middle;\n",
              "    }\n",
              "\n",
              "    .dataframe tbody tr th {\n",
              "        vertical-align: top;\n",
              "    }\n",
              "\n",
              "    .dataframe thead th {\n",
              "        text-align: right;\n",
              "    }\n",
              "</style>\n",
              "<table border=\"1\" class=\"dataframe\">\n",
              "  <thead>\n",
              "    <tr style=\"text-align: right;\">\n",
              "      <th></th>\n",
              "      <th>number</th>\n",
              "      <th>file_text_x</th>\n",
              "      <th>file_text_y</th>\n",
              "    </tr>\n",
              "  </thead>\n",
              "  <tbody>\n",
              "    <tr>\n",
              "      <th>0</th>\n",
              "      <td>0</td>\n",
              "      <td>[DUCESP, JUCESP PROTOCOLO 0.175.643/18-0 S[P 0...</td>\n",
              "      <td>[Companhia Paulista de Força e Luz Rua Jorge d...</td>\n",
              "    </tr>\n",
              "    <tr>\n",
              "      <th>1</th>\n",
              "      <td>1</td>\n",
              "      <td>[JUCE JUCESP PROTOCOLO SIP 0.585.474/19-9 12 0...</td>\n",
              "      <td>[NOTA FISCAL/CONTA DE FORNECIMENTO DE ÁGUA E C...</td>\n",
              "    </tr>\n",
              "  </tbody>\n",
              "</table>\n",
              "</div>\n",
              "      <button class=\"colab-df-convert\" onclick=\"convertToInteractive('df-21838895-8a74-4121-b069-ae8e29ab84da')\"\n",
              "              title=\"Convert this dataframe to an interactive table.\"\n",
              "              style=\"display:none;\">\n",
              "        \n",
              "  <svg xmlns=\"http://www.w3.org/2000/svg\" height=\"24px\"viewBox=\"0 0 24 24\"\n",
              "       width=\"24px\">\n",
              "    <path d=\"M0 0h24v24H0V0z\" fill=\"none\"/>\n",
              "    <path d=\"M18.56 5.44l.94 2.06.94-2.06 2.06-.94-2.06-.94-.94-2.06-.94 2.06-2.06.94zm-11 1L8.5 8.5l.94-2.06 2.06-.94-2.06-.94L8.5 2.5l-.94 2.06-2.06.94zm10 10l.94 2.06.94-2.06 2.06-.94-2.06-.94-.94-2.06-.94 2.06-2.06.94z\"/><path d=\"M17.41 7.96l-1.37-1.37c-.4-.4-.92-.59-1.43-.59-.52 0-1.04.2-1.43.59L10.3 9.45l-7.72 7.72c-.78.78-.78 2.05 0 2.83L4 21.41c.39.39.9.59 1.41.59.51 0 1.02-.2 1.41-.59l7.78-7.78 2.81-2.81c.8-.78.8-2.07 0-2.86zM5.41 20L4 18.59l7.72-7.72 1.47 1.35L5.41 20z\"/>\n",
              "  </svg>\n",
              "      </button>\n",
              "      \n",
              "  <style>\n",
              "    .colab-df-container {\n",
              "      display:flex;\n",
              "      flex-wrap:wrap;\n",
              "      gap: 12px;\n",
              "    }\n",
              "\n",
              "    .colab-df-convert {\n",
              "      background-color: #E8F0FE;\n",
              "      border: none;\n",
              "      border-radius: 50%;\n",
              "      cursor: pointer;\n",
              "      display: none;\n",
              "      fill: #1967D2;\n",
              "      height: 32px;\n",
              "      padding: 0 0 0 0;\n",
              "      width: 32px;\n",
              "    }\n",
              "\n",
              "    .colab-df-convert:hover {\n",
              "      background-color: #E2EBFA;\n",
              "      box-shadow: 0px 1px 2px rgba(60, 64, 67, 0.3), 0px 1px 3px 1px rgba(60, 64, 67, 0.15);\n",
              "      fill: #174EA6;\n",
              "    }\n",
              "\n",
              "    [theme=dark] .colab-df-convert {\n",
              "      background-color: #3B4455;\n",
              "      fill: #D2E3FC;\n",
              "    }\n",
              "\n",
              "    [theme=dark] .colab-df-convert:hover {\n",
              "      background-color: #434B5C;\n",
              "      box-shadow: 0px 1px 3px 1px rgba(0, 0, 0, 0.15);\n",
              "      filter: drop-shadow(0px 1px 2px rgba(0, 0, 0, 0.3));\n",
              "      fill: #FFFFFF;\n",
              "    }\n",
              "  </style>\n",
              "\n",
              "      <script>\n",
              "        const buttonEl =\n",
              "          document.querySelector('#df-21838895-8a74-4121-b069-ae8e29ab84da button.colab-df-convert');\n",
              "        buttonEl.style.display =\n",
              "          google.colab.kernel.accessAllowed ? 'block' : 'none';\n",
              "\n",
              "        async function convertToInteractive(key) {\n",
              "          const element = document.querySelector('#df-21838895-8a74-4121-b069-ae8e29ab84da');\n",
              "          const dataTable =\n",
              "            await google.colab.kernel.invokeFunction('convertToInteractive',\n",
              "                                                     [key], {});\n",
              "          if (!dataTable) return;\n",
              "\n",
              "          const docLinkHtml = 'Like what you see? Visit the ' +\n",
              "            '<a target=\"_blank\" href=https://colab.research.google.com/notebooks/data_table.ipynb>data table notebook</a>'\n",
              "            + ' to learn more about interactive tables.';\n",
              "          element.innerHTML = '';\n",
              "          dataTable['output_type'] = 'display_data';\n",
              "          await google.colab.output.renderOutput(dataTable, element);\n",
              "          const docLink = document.createElement('div');\n",
              "          docLink.innerHTML = docLinkHtml;\n",
              "          element.appendChild(docLink);\n",
              "        }\n",
              "      </script>\n",
              "    </div>\n",
              "  </div>\n",
              "  "
            ]
          },
          "metadata": {},
          "execution_count": 21
        }
      ]
    },
    {
      "cell_type": "code",
      "source": [
        "df_merge_two_sheets.shape"
      ],
      "metadata": {
        "colab": {
          "base_uri": "https://localhost:8080/"
        },
        "id": "NnqjgO7zShUi",
        "outputId": "cf45dba8-6e12-4598-e0bb-629ded18795a"
      },
      "execution_count": 22,
      "outputs": [
        {
          "output_type": "execute_result",
          "data": {
            "text/plain": [
              "(152, 3)"
            ]
          },
          "metadata": {},
          "execution_count": 22
        }
      ]
    },
    {
      "cell_type": "markdown",
      "source": [
        "####TRANSFORMING TWO COLUMNS INTO ONE"
      ],
      "metadata": {
        "id": "Ud7ELxx9debO"
      }
    },
    {
      "cell_type": "code",
      "source": [
        "list_concat = []\n",
        "list_index = []\n",
        "\n",
        "for idx1, linha1 in enumerate(df_merge_two_sheets['file_text_x']):\n",
        "    list_concat.append(linha1)\n",
        "    list_index.append(idx1)\n",
        "    for idx2, linha2 in enumerate(df_merge_two_sheets['file_text_y']):\n",
        "        list_concat.append(linha2)\n",
        "        list_index.append(idx2+1)\n",
        "\n",
        "df_concat1 = pd.DataFrame({'number': list_index,\n",
        "                           'file_text': list_concat})\n",
        "\n",
        "df_concat_unique = df_concat1['file_text'].drop_duplicates()\n",
        "df_concat_unique.shape\n",
        "\n",
        "\n",
        "list_lines = []\n",
        "list_idx = []\n",
        "cont = 0\n",
        "for idx_final, lines_final in enumerate(df_concat_unique):\n",
        "    list_lines.append(lines_final)\n",
        "    list_idx.append(idx_final)\n",
        "    cont += idx_final\n",
        "\n",
        "df_concat_final_1 = pd.DataFrame({'number': list_idx,\n",
        "                                'file_text': list_lines})\n",
        "\n",
        "df_concat_final_1"
      ],
      "metadata": {
        "colab": {
          "base_uri": "https://localhost:8080/",
          "height": 424
        },
        "id": "8VtVqINBP282",
        "outputId": "66876097-2fe1-41d7-8ce2-d8306f84bb2b"
      },
      "execution_count": 23,
      "outputs": [
        {
          "output_type": "execute_result",
          "data": {
            "text/plain": [
              "    number                                          file_text\n",
              "0        0  [DUCESP, JUCESP PROTOCOLO 0.175.643/18-0 S[P 0...\n",
              "1        1  [Companhia Paulista de Força e Luz Rua Jorge d...\n",
              "2        2  [NOTA FISCAL/CONTA DE FORNECIMENTO DE ÁGUA E C...\n",
              "3        3  [Companhia Paulista de Força e Luz Rua Jorge d...\n",
              "4        4  [Companhia Paulista de Força e Luz Rua Jorge d...\n",
              "..     ...                                                ...\n",
              "92      92  [ALTERAÇÃO CONTRATUAL DE SOCIEDADE EMPRESÁRIA ...\n",
              "93      93  [JUCESP PROTOCOLO JUCESP 2.266.926/19-6 128 16...\n",
              "94      94  [JUCESP PROTOCOLO SIP 0.956.870/12-0 CONFECÇÕE...\n",
              "95      95  [JUCESP PROTOCOLO SIP 0.819.498/12-9 29 SINGUL...\n",
              "96      96                                                NaN\n",
              "\n",
              "[97 rows x 2 columns]"
            ],
            "text/html": [
              "\n",
              "  <div id=\"df-62be1c7a-99d5-4b01-a69d-bafcef56d746\">\n",
              "    <div class=\"colab-df-container\">\n",
              "      <div>\n",
              "<style scoped>\n",
              "    .dataframe tbody tr th:only-of-type {\n",
              "        vertical-align: middle;\n",
              "    }\n",
              "\n",
              "    .dataframe tbody tr th {\n",
              "        vertical-align: top;\n",
              "    }\n",
              "\n",
              "    .dataframe thead th {\n",
              "        text-align: right;\n",
              "    }\n",
              "</style>\n",
              "<table border=\"1\" class=\"dataframe\">\n",
              "  <thead>\n",
              "    <tr style=\"text-align: right;\">\n",
              "      <th></th>\n",
              "      <th>number</th>\n",
              "      <th>file_text</th>\n",
              "    </tr>\n",
              "  </thead>\n",
              "  <tbody>\n",
              "    <tr>\n",
              "      <th>0</th>\n",
              "      <td>0</td>\n",
              "      <td>[DUCESP, JUCESP PROTOCOLO 0.175.643/18-0 S[P 0...</td>\n",
              "    </tr>\n",
              "    <tr>\n",
              "      <th>1</th>\n",
              "      <td>1</td>\n",
              "      <td>[Companhia Paulista de Força e Luz Rua Jorge d...</td>\n",
              "    </tr>\n",
              "    <tr>\n",
              "      <th>2</th>\n",
              "      <td>2</td>\n",
              "      <td>[NOTA FISCAL/CONTA DE FORNECIMENTO DE ÁGUA E C...</td>\n",
              "    </tr>\n",
              "    <tr>\n",
              "      <th>3</th>\n",
              "      <td>3</td>\n",
              "      <td>[Companhia Paulista de Força e Luz Rua Jorge d...</td>\n",
              "    </tr>\n",
              "    <tr>\n",
              "      <th>4</th>\n",
              "      <td>4</td>\n",
              "      <td>[Companhia Paulista de Força e Luz Rua Jorge d...</td>\n",
              "    </tr>\n",
              "    <tr>\n",
              "      <th>...</th>\n",
              "      <td>...</td>\n",
              "      <td>...</td>\n",
              "    </tr>\n",
              "    <tr>\n",
              "      <th>92</th>\n",
              "      <td>92</td>\n",
              "      <td>[ALTERAÇÃO CONTRATUAL DE SOCIEDADE EMPRESÁRIA ...</td>\n",
              "    </tr>\n",
              "    <tr>\n",
              "      <th>93</th>\n",
              "      <td>93</td>\n",
              "      <td>[JUCESP PROTOCOLO JUCESP 2.266.926/19-6 128 16...</td>\n",
              "    </tr>\n",
              "    <tr>\n",
              "      <th>94</th>\n",
              "      <td>94</td>\n",
              "      <td>[JUCESP PROTOCOLO SIP 0.956.870/12-0 CONFECÇÕE...</td>\n",
              "    </tr>\n",
              "    <tr>\n",
              "      <th>95</th>\n",
              "      <td>95</td>\n",
              "      <td>[JUCESP PROTOCOLO SIP 0.819.498/12-9 29 SINGUL...</td>\n",
              "    </tr>\n",
              "    <tr>\n",
              "      <th>96</th>\n",
              "      <td>96</td>\n",
              "      <td>NaN</td>\n",
              "    </tr>\n",
              "  </tbody>\n",
              "</table>\n",
              "<p>97 rows × 2 columns</p>\n",
              "</div>\n",
              "      <button class=\"colab-df-convert\" onclick=\"convertToInteractive('df-62be1c7a-99d5-4b01-a69d-bafcef56d746')\"\n",
              "              title=\"Convert this dataframe to an interactive table.\"\n",
              "              style=\"display:none;\">\n",
              "        \n",
              "  <svg xmlns=\"http://www.w3.org/2000/svg\" height=\"24px\"viewBox=\"0 0 24 24\"\n",
              "       width=\"24px\">\n",
              "    <path d=\"M0 0h24v24H0V0z\" fill=\"none\"/>\n",
              "    <path d=\"M18.56 5.44l.94 2.06.94-2.06 2.06-.94-2.06-.94-.94-2.06-.94 2.06-2.06.94zm-11 1L8.5 8.5l.94-2.06 2.06-.94-2.06-.94L8.5 2.5l-.94 2.06-2.06.94zm10 10l.94 2.06.94-2.06 2.06-.94-2.06-.94-.94-2.06-.94 2.06-2.06.94z\"/><path d=\"M17.41 7.96l-1.37-1.37c-.4-.4-.92-.59-1.43-.59-.52 0-1.04.2-1.43.59L10.3 9.45l-7.72 7.72c-.78.78-.78 2.05 0 2.83L4 21.41c.39.39.9.59 1.41.59.51 0 1.02-.2 1.41-.59l7.78-7.78 2.81-2.81c.8-.78.8-2.07 0-2.86zM5.41 20L4 18.59l7.72-7.72 1.47 1.35L5.41 20z\"/>\n",
              "  </svg>\n",
              "      </button>\n",
              "      \n",
              "  <style>\n",
              "    .colab-df-container {\n",
              "      display:flex;\n",
              "      flex-wrap:wrap;\n",
              "      gap: 12px;\n",
              "    }\n",
              "\n",
              "    .colab-df-convert {\n",
              "      background-color: #E8F0FE;\n",
              "      border: none;\n",
              "      border-radius: 50%;\n",
              "      cursor: pointer;\n",
              "      display: none;\n",
              "      fill: #1967D2;\n",
              "      height: 32px;\n",
              "      padding: 0 0 0 0;\n",
              "      width: 32px;\n",
              "    }\n",
              "\n",
              "    .colab-df-convert:hover {\n",
              "      background-color: #E2EBFA;\n",
              "      box-shadow: 0px 1px 2px rgba(60, 64, 67, 0.3), 0px 1px 3px 1px rgba(60, 64, 67, 0.15);\n",
              "      fill: #174EA6;\n",
              "    }\n",
              "\n",
              "    [theme=dark] .colab-df-convert {\n",
              "      background-color: #3B4455;\n",
              "      fill: #D2E3FC;\n",
              "    }\n",
              "\n",
              "    [theme=dark] .colab-df-convert:hover {\n",
              "      background-color: #434B5C;\n",
              "      box-shadow: 0px 1px 3px 1px rgba(0, 0, 0, 0.15);\n",
              "      filter: drop-shadow(0px 1px 2px rgba(0, 0, 0, 0.3));\n",
              "      fill: #FFFFFF;\n",
              "    }\n",
              "  </style>\n",
              "\n",
              "      <script>\n",
              "        const buttonEl =\n",
              "          document.querySelector('#df-62be1c7a-99d5-4b01-a69d-bafcef56d746 button.colab-df-convert');\n",
              "        buttonEl.style.display =\n",
              "          google.colab.kernel.accessAllowed ? 'block' : 'none';\n",
              "\n",
              "        async function convertToInteractive(key) {\n",
              "          const element = document.querySelector('#df-62be1c7a-99d5-4b01-a69d-bafcef56d746');\n",
              "          const dataTable =\n",
              "            await google.colab.kernel.invokeFunction('convertToInteractive',\n",
              "                                                     [key], {});\n",
              "          if (!dataTable) return;\n",
              "\n",
              "          const docLinkHtml = 'Like what you see? Visit the ' +\n",
              "            '<a target=\"_blank\" href=https://colab.research.google.com/notebooks/data_table.ipynb>data table notebook</a>'\n",
              "            + ' to learn more about interactive tables.';\n",
              "          element.innerHTML = '';\n",
              "          dataTable['output_type'] = 'display_data';\n",
              "          await google.colab.output.renderOutput(dataTable, element);\n",
              "          const docLink = document.createElement('div');\n",
              "          docLink.innerHTML = docLinkHtml;\n",
              "          element.appendChild(docLink);\n",
              "        }\n",
              "      </script>\n",
              "    </div>\n",
              "  </div>\n",
              "  "
            ]
          },
          "metadata": {},
          "execution_count": 23
        }
      ]
    },
    {
      "cell_type": "markdown",
      "metadata": {
        "id": "TcJKaTJFfoIQ"
      },
      "source": [
        "##NEW OCR"
      ]
    },
    {
      "cell_type": "markdown",
      "metadata": {
        "id": "nPIDn-L1iK06"
      },
      "source": [
        "###CONTRACT\n"
      ]
    },
    {
      "cell_type": "code",
      "execution_count": 24,
      "metadata": {
        "id": "pK2WtKWZfqXq"
      },
      "outputs": [],
      "source": [
        "import os\n",
        "\n",
        "#lista apenas os arquivos txt da pasta\n",
        "pasta2 = \"/content/drive/MyDrive/contextus/ocr/ocr_results/contract\"\n",
        "caminhos2 = [os.path.join(pasta2, nome) for nome in os.listdir(pasta2)]\n",
        "arquivos2 = [arq for arq in caminhos2 if os.path.isfile(arq)]    \n",
        "arquivos_txt2 = [arq for arq in arquivos2 if arq.lower().endswith(\".txt\")]\n",
        "\n",
        "#cria uma lista para armazenar as saídas\n",
        "saida2 = []    \n",
        "idx2 = []\n",
        "\n",
        "cont = 0\n",
        "#percorre os arquivos\n",
        "for idx, arq in enumerate(arquivos_txt2):    \n",
        "    #abre o arquivo \n",
        "    with open(arq) as f:\n",
        "        linhas = f.readlines()\n",
        "        cont += idx\n",
        "\n",
        "    #guarda na lista de saida  \n",
        "    saida2.append(linhas)\n",
        "    idx2.append(idx)\n",
        "\n",
        "# #grava a lista em um novo arquivo\n",
        "# arq_saida = open('/arquivo_saida.txt', 'w')\n",
        "# arq_saida.writelines(saida)\n",
        "# arq_saida.close()"
      ]
    },
    {
      "cell_type": "markdown",
      "metadata": {
        "id": "nncnLXwMgcIc"
      },
      "source": [
        "CREATING A DATAFRAME"
      ]
    },
    {
      "cell_type": "code",
      "execution_count": 25,
      "metadata": {
        "id": "7qZ-tro7gcId"
      },
      "outputs": [],
      "source": [
        "df2 = pd.DataFrame(saida2)\n",
        "df2 = df2.rename(columns={0: 'file_text'})"
      ]
    },
    {
      "cell_type": "code",
      "source": [
        "df2 = pd.DataFrame({'number': idx2,\n",
        "                    'file_text': saida2})"
      ],
      "metadata": {
        "id": "P2oQwlL2VVT7"
      },
      "execution_count": 26,
      "outputs": []
    },
    {
      "cell_type": "code",
      "execution_count": 27,
      "metadata": {
        "colab": {
          "base_uri": "https://localhost:8080/"
        },
        "id": "cK98huLXgcIe",
        "outputId": "6add6ea4-8979-4f74-f9ec-8b35e7002322"
      },
      "outputs": [
        {
          "output_type": "execute_result",
          "data": {
            "text/plain": [
              "(75, 2)"
            ]
          },
          "metadata": {},
          "execution_count": 27
        }
      ],
      "source": [
        "df2.shape"
      ]
    },
    {
      "cell_type": "code",
      "execution_count": 28,
      "metadata": {
        "id": "SIIWkfCVgcIe"
      },
      "outputs": [],
      "source": [
        "# df2.info"
      ]
    },
    {
      "cell_type": "code",
      "execution_count": 29,
      "metadata": {
        "colab": {
          "base_uri": "https://localhost:8080/"
        },
        "id": "XMyoxumRgcIe",
        "outputId": "c86b94b0-4e73-4a3f-9b5a-810646cc0ee6"
      },
      "outputs": [
        {
          "output_type": "execute_result",
          "data": {
            "text/plain": [
              "(74,)"
            ]
          },
          "metadata": {},
          "execution_count": 29
        }
      ],
      "source": [
        "df_unique2 = df2['file_text'].drop_duplicates()\n",
        "df_unique2.shape"
      ]
    },
    {
      "cell_type": "markdown",
      "metadata": {
        "id": "PtChMIU_iOzH"
      },
      "source": [
        "###RENT\n"
      ]
    },
    {
      "cell_type": "code",
      "execution_count": 30,
      "metadata": {
        "id": "MDrBpk9ciOzI"
      },
      "outputs": [],
      "source": [
        "import os\n",
        "\n",
        "#lista apenas os arquivos txt da pasta\n",
        "pasta3 = \"/content/drive/MyDrive/contextus/ocr/ocr_results/rent\"\n",
        "caminhos3 = [os.path.join(pasta3, nome) for nome in os.listdir(pasta3)]\n",
        "arquivos3 = [arq for arq in caminhos3 if os.path.isfile(arq)]    \n",
        "arquivos_txt3 = [arq for arq in arquivos3 if arq.lower().endswith(\".txt\")]\n",
        "\n",
        "#cria uma lista para armazenar as saídas\n",
        "saida3 = []    \n",
        "idx3 = []\n",
        "\n",
        "cont = 0\n",
        "#percorre os arquivos\n",
        "for idx, arq in enumerate(arquivos_txt3):    \n",
        "    #abre o arquivo \n",
        "    with open(arq) as f:\n",
        "        linhas = f.readlines()\n",
        "        cont += idx\n",
        "\n",
        "    #guarda na lista de saida  \n",
        "    saida3.append(linhas)\n",
        "    idx3.append(idx)\n",
        "\n",
        "# #grava a lista em um novo arquivo\n",
        "# arq_saida = open('/arquivo_saida.txt', 'w')\n",
        "# arq_saida.writelines(saida)\n",
        "# arq_saida.close()"
      ]
    },
    {
      "cell_type": "markdown",
      "metadata": {
        "id": "rnAhdXOEiOzJ"
      },
      "source": [
        "CREATING A DATAFRAME"
      ]
    },
    {
      "cell_type": "code",
      "execution_count": 31,
      "metadata": {
        "id": "ZONjM1CDiOzK"
      },
      "outputs": [],
      "source": [
        "df3 = pd.DataFrame(saida3)\n",
        "df3 = df3.rename(columns={0: 'file_text'})"
      ]
    },
    {
      "cell_type": "code",
      "source": [
        "df3 = pd.DataFrame({'number': idx3,\n",
        "                    'file_text': saida3})"
      ],
      "metadata": {
        "id": "ldDKXh98WLkA"
      },
      "execution_count": 32,
      "outputs": []
    },
    {
      "cell_type": "code",
      "execution_count": 33,
      "metadata": {
        "colab": {
          "base_uri": "https://localhost:8080/"
        },
        "id": "Sl_ZIDiJiOzK",
        "outputId": "44772efa-c4e8-4d4e-c550-d134607524a4"
      },
      "outputs": [
        {
          "output_type": "execute_result",
          "data": {
            "text/plain": [
              "(54, 2)"
            ]
          },
          "metadata": {},
          "execution_count": 33
        }
      ],
      "source": [
        "df3.shape"
      ]
    },
    {
      "cell_type": "code",
      "execution_count": 34,
      "metadata": {
        "id": "71xiuJViiOzL"
      },
      "outputs": [],
      "source": [
        "# df3.info"
      ]
    },
    {
      "cell_type": "code",
      "execution_count": 35,
      "metadata": {
        "colab": {
          "base_uri": "https://localhost:8080/"
        },
        "id": "URQo9aPCiOzL",
        "outputId": "ca009df9-3996-4207-ee01-f8830dfb65da"
      },
      "outputs": [
        {
          "output_type": "execute_result",
          "data": {
            "text/plain": [
              "(54,)"
            ]
          },
          "metadata": {},
          "execution_count": 35
        }
      ],
      "source": [
        "df_unique3 = df3['file_text'].drop_duplicates()\n",
        "df_unique3.shape"
      ]
    },
    {
      "cell_type": "markdown",
      "metadata": {
        "id": "AOXkAT4-ix8w"
      },
      "source": [
        "###SALE\n"
      ]
    },
    {
      "cell_type": "code",
      "execution_count": 36,
      "metadata": {
        "id": "NXyCze69ix8y"
      },
      "outputs": [],
      "source": [
        "import os\n",
        "\n",
        "#lista apenas os arquivos txt da pasta\n",
        "pasta4 = \"/content/drive/MyDrive/contextus/ocr/ocr_results/sale\"\n",
        "caminhos4 = [os.path.join(pasta4, nome) for nome in os.listdir(pasta4)]\n",
        "arquivos4 = [arq for arq in caminhos4 if os.path.isfile(arq)]    \n",
        "arquivos_txt4 = [arq for arq in arquivos4 if arq.lower().endswith(\".txt\")]\n",
        "\n",
        "#cria uma lista para armazenar as saídas\n",
        "saida4 = []    \n",
        "idx4 = []\n",
        "\n",
        "cont = 0\n",
        "#percorre os arquivos\n",
        "for idx, arq in enumerate(arquivos_txt4):    \n",
        "    #abre o arquivo \n",
        "    with open(arq) as f:\n",
        "        linhas = f.readlines()\n",
        "        cont += idx\n",
        "\n",
        "    #guarda na lista de saida  \n",
        "    saida4.append(linhas)\n",
        "    idx4.append(idx)\n",
        "\n",
        "# #grava a lista em um novo arquivo\n",
        "# arq_saida = open('/arquivo_saida.txt', 'w')\n",
        "# arq_saida.writelines(saida)\n",
        "# arq_saida.close()"
      ]
    },
    {
      "cell_type": "markdown",
      "metadata": {
        "id": "a7Vdp11iix8y"
      },
      "source": [
        "CREATING A DATAFRAME"
      ]
    },
    {
      "cell_type": "code",
      "execution_count": 37,
      "metadata": {
        "id": "yvZC8anVix8y"
      },
      "outputs": [],
      "source": [
        "df4 = pd.DataFrame(saida4)\n",
        "df4 = df4.rename(columns={0: 'file_text'})"
      ]
    },
    {
      "cell_type": "code",
      "source": [
        "df4 = pd.DataFrame({'number': idx4,\n",
        "                    'file_text': saida4})"
      ],
      "metadata": {
        "id": "AkgtoZhmWffP"
      },
      "execution_count": 38,
      "outputs": []
    },
    {
      "cell_type": "code",
      "execution_count": 39,
      "metadata": {
        "colab": {
          "base_uri": "https://localhost:8080/"
        },
        "id": "vbAg-tLSix8z",
        "outputId": "1369bb0f-04f9-4372-c146-f0be313fff0b"
      },
      "outputs": [
        {
          "output_type": "execute_result",
          "data": {
            "text/plain": [
              "(37, 2)"
            ]
          },
          "metadata": {},
          "execution_count": 39
        }
      ],
      "source": [
        "df4.shape"
      ]
    },
    {
      "cell_type": "code",
      "execution_count": 40,
      "metadata": {
        "id": "5c5dTHqRix8z"
      },
      "outputs": [],
      "source": [
        "# df4.info"
      ]
    },
    {
      "cell_type": "code",
      "execution_count": 41,
      "metadata": {
        "colab": {
          "base_uri": "https://localhost:8080/"
        },
        "id": "qD2focDcix8z",
        "outputId": "c51ab243-1b68-4522-f4ea-95c277e74aaa"
      },
      "outputs": [
        {
          "output_type": "execute_result",
          "data": {
            "text/plain": [
              "(37,)"
            ]
          },
          "metadata": {},
          "execution_count": 41
        }
      ],
      "source": [
        "df_unique4 = df4['file_text'].drop_duplicates()\n",
        "df_unique4.shape"
      ]
    },
    {
      "cell_type": "markdown",
      "source": [
        "###MERGE NEW"
      ],
      "metadata": {
        "id": "qqmDxHkLWpDY"
      }
    },
    {
      "cell_type": "code",
      "source": [
        "df2.head(2)"
      ],
      "metadata": {
        "outputId": "979dfeb8-a6b6-4739-e583-e7ebc0dc7419",
        "colab": {
          "base_uri": "https://localhost:8080/",
          "height": 112
        },
        "id": "UjzDLnWGWpDY"
      },
      "execution_count": 42,
      "outputs": [
        {
          "output_type": "execute_result",
          "data": {
            "text/plain": [
              "   number                                          file_text\n",
              "0       0  [ SS CELL SITE MAD SOLUTIONS 2 Cell Site Solut...\n",
              "1       1  [ CONTRATO DE CESSÃO DE USO DE INFRAESTRUTURA ..."
            ],
            "text/html": [
              "\n",
              "  <div id=\"df-c89a8910-0581-4e82-9457-f7860f58e6b0\">\n",
              "    <div class=\"colab-df-container\">\n",
              "      <div>\n",
              "<style scoped>\n",
              "    .dataframe tbody tr th:only-of-type {\n",
              "        vertical-align: middle;\n",
              "    }\n",
              "\n",
              "    .dataframe tbody tr th {\n",
              "        vertical-align: top;\n",
              "    }\n",
              "\n",
              "    .dataframe thead th {\n",
              "        text-align: right;\n",
              "    }\n",
              "</style>\n",
              "<table border=\"1\" class=\"dataframe\">\n",
              "  <thead>\n",
              "    <tr style=\"text-align: right;\">\n",
              "      <th></th>\n",
              "      <th>number</th>\n",
              "      <th>file_text</th>\n",
              "    </tr>\n",
              "  </thead>\n",
              "  <tbody>\n",
              "    <tr>\n",
              "      <th>0</th>\n",
              "      <td>0</td>\n",
              "      <td>[ SS CELL SITE MAD SOLUTIONS 2 Cell Site Solut...</td>\n",
              "    </tr>\n",
              "    <tr>\n",
              "      <th>1</th>\n",
              "      <td>1</td>\n",
              "      <td>[ CONTRATO DE CESSÃO DE USO DE INFRAESTRUTURA ...</td>\n",
              "    </tr>\n",
              "  </tbody>\n",
              "</table>\n",
              "</div>\n",
              "      <button class=\"colab-df-convert\" onclick=\"convertToInteractive('df-c89a8910-0581-4e82-9457-f7860f58e6b0')\"\n",
              "              title=\"Convert this dataframe to an interactive table.\"\n",
              "              style=\"display:none;\">\n",
              "        \n",
              "  <svg xmlns=\"http://www.w3.org/2000/svg\" height=\"24px\"viewBox=\"0 0 24 24\"\n",
              "       width=\"24px\">\n",
              "    <path d=\"M0 0h24v24H0V0z\" fill=\"none\"/>\n",
              "    <path d=\"M18.56 5.44l.94 2.06.94-2.06 2.06-.94-2.06-.94-.94-2.06-.94 2.06-2.06.94zm-11 1L8.5 8.5l.94-2.06 2.06-.94-2.06-.94L8.5 2.5l-.94 2.06-2.06.94zm10 10l.94 2.06.94-2.06 2.06-.94-2.06-.94-.94-2.06-.94 2.06-2.06.94z\"/><path d=\"M17.41 7.96l-1.37-1.37c-.4-.4-.92-.59-1.43-.59-.52 0-1.04.2-1.43.59L10.3 9.45l-7.72 7.72c-.78.78-.78 2.05 0 2.83L4 21.41c.39.39.9.59 1.41.59.51 0 1.02-.2 1.41-.59l7.78-7.78 2.81-2.81c.8-.78.8-2.07 0-2.86zM5.41 20L4 18.59l7.72-7.72 1.47 1.35L5.41 20z\"/>\n",
              "  </svg>\n",
              "      </button>\n",
              "      \n",
              "  <style>\n",
              "    .colab-df-container {\n",
              "      display:flex;\n",
              "      flex-wrap:wrap;\n",
              "      gap: 12px;\n",
              "    }\n",
              "\n",
              "    .colab-df-convert {\n",
              "      background-color: #E8F0FE;\n",
              "      border: none;\n",
              "      border-radius: 50%;\n",
              "      cursor: pointer;\n",
              "      display: none;\n",
              "      fill: #1967D2;\n",
              "      height: 32px;\n",
              "      padding: 0 0 0 0;\n",
              "      width: 32px;\n",
              "    }\n",
              "\n",
              "    .colab-df-convert:hover {\n",
              "      background-color: #E2EBFA;\n",
              "      box-shadow: 0px 1px 2px rgba(60, 64, 67, 0.3), 0px 1px 3px 1px rgba(60, 64, 67, 0.15);\n",
              "      fill: #174EA6;\n",
              "    }\n",
              "\n",
              "    [theme=dark] .colab-df-convert {\n",
              "      background-color: #3B4455;\n",
              "      fill: #D2E3FC;\n",
              "    }\n",
              "\n",
              "    [theme=dark] .colab-df-convert:hover {\n",
              "      background-color: #434B5C;\n",
              "      box-shadow: 0px 1px 3px 1px rgba(0, 0, 0, 0.15);\n",
              "      filter: drop-shadow(0px 1px 2px rgba(0, 0, 0, 0.3));\n",
              "      fill: #FFFFFF;\n",
              "    }\n",
              "  </style>\n",
              "\n",
              "      <script>\n",
              "        const buttonEl =\n",
              "          document.querySelector('#df-c89a8910-0581-4e82-9457-f7860f58e6b0 button.colab-df-convert');\n",
              "        buttonEl.style.display =\n",
              "          google.colab.kernel.accessAllowed ? 'block' : 'none';\n",
              "\n",
              "        async function convertToInteractive(key) {\n",
              "          const element = document.querySelector('#df-c89a8910-0581-4e82-9457-f7860f58e6b0');\n",
              "          const dataTable =\n",
              "            await google.colab.kernel.invokeFunction('convertToInteractive',\n",
              "                                                     [key], {});\n",
              "          if (!dataTable) return;\n",
              "\n",
              "          const docLinkHtml = 'Like what you see? Visit the ' +\n",
              "            '<a target=\"_blank\" href=https://colab.research.google.com/notebooks/data_table.ipynb>data table notebook</a>'\n",
              "            + ' to learn more about interactive tables.';\n",
              "          element.innerHTML = '';\n",
              "          dataTable['output_type'] = 'display_data';\n",
              "          await google.colab.output.renderOutput(dataTable, element);\n",
              "          const docLink = document.createElement('div');\n",
              "          docLink.innerHTML = docLinkHtml;\n",
              "          element.appendChild(docLink);\n",
              "        }\n",
              "      </script>\n",
              "    </div>\n",
              "  </div>\n",
              "  "
            ]
          },
          "metadata": {},
          "execution_count": 42
        }
      ]
    },
    {
      "cell_type": "code",
      "source": [
        "df3.head(2)"
      ],
      "metadata": {
        "outputId": "c4d691ca-076b-402f-a924-7c1e1f4b4753",
        "colab": {
          "base_uri": "https://localhost:8080/",
          "height": 112
        },
        "id": "Pub06yJwWpDY"
      },
      "execution_count": 43,
      "outputs": [
        {
          "output_type": "execute_result",
          "data": {
            "text/plain": [
              "   number                                          file_text\n",
              "0       0  [ CONTRATO DE LOCAÇÃO Os signatários deste ins...\n",
              "1       1  [ CONTRATO DE LOCAÇÃO DE IMÓVEL URBANO ROBERTO..."
            ],
            "text/html": [
              "\n",
              "  <div id=\"df-838cb1bd-dd1d-4da3-b947-b96194a2c819\">\n",
              "    <div class=\"colab-df-container\">\n",
              "      <div>\n",
              "<style scoped>\n",
              "    .dataframe tbody tr th:only-of-type {\n",
              "        vertical-align: middle;\n",
              "    }\n",
              "\n",
              "    .dataframe tbody tr th {\n",
              "        vertical-align: top;\n",
              "    }\n",
              "\n",
              "    .dataframe thead th {\n",
              "        text-align: right;\n",
              "    }\n",
              "</style>\n",
              "<table border=\"1\" class=\"dataframe\">\n",
              "  <thead>\n",
              "    <tr style=\"text-align: right;\">\n",
              "      <th></th>\n",
              "      <th>number</th>\n",
              "      <th>file_text</th>\n",
              "    </tr>\n",
              "  </thead>\n",
              "  <tbody>\n",
              "    <tr>\n",
              "      <th>0</th>\n",
              "      <td>0</td>\n",
              "      <td>[ CONTRATO DE LOCAÇÃO Os signatários deste ins...</td>\n",
              "    </tr>\n",
              "    <tr>\n",
              "      <th>1</th>\n",
              "      <td>1</td>\n",
              "      <td>[ CONTRATO DE LOCAÇÃO DE IMÓVEL URBANO ROBERTO...</td>\n",
              "    </tr>\n",
              "  </tbody>\n",
              "</table>\n",
              "</div>\n",
              "      <button class=\"colab-df-convert\" onclick=\"convertToInteractive('df-838cb1bd-dd1d-4da3-b947-b96194a2c819')\"\n",
              "              title=\"Convert this dataframe to an interactive table.\"\n",
              "              style=\"display:none;\">\n",
              "        \n",
              "  <svg xmlns=\"http://www.w3.org/2000/svg\" height=\"24px\"viewBox=\"0 0 24 24\"\n",
              "       width=\"24px\">\n",
              "    <path d=\"M0 0h24v24H0V0z\" fill=\"none\"/>\n",
              "    <path d=\"M18.56 5.44l.94 2.06.94-2.06 2.06-.94-2.06-.94-.94-2.06-.94 2.06-2.06.94zm-11 1L8.5 8.5l.94-2.06 2.06-.94-2.06-.94L8.5 2.5l-.94 2.06-2.06.94zm10 10l.94 2.06.94-2.06 2.06-.94-2.06-.94-.94-2.06-.94 2.06-2.06.94z\"/><path d=\"M17.41 7.96l-1.37-1.37c-.4-.4-.92-.59-1.43-.59-.52 0-1.04.2-1.43.59L10.3 9.45l-7.72 7.72c-.78.78-.78 2.05 0 2.83L4 21.41c.39.39.9.59 1.41.59.51 0 1.02-.2 1.41-.59l7.78-7.78 2.81-2.81c.8-.78.8-2.07 0-2.86zM5.41 20L4 18.59l7.72-7.72 1.47 1.35L5.41 20z\"/>\n",
              "  </svg>\n",
              "      </button>\n",
              "      \n",
              "  <style>\n",
              "    .colab-df-container {\n",
              "      display:flex;\n",
              "      flex-wrap:wrap;\n",
              "      gap: 12px;\n",
              "    }\n",
              "\n",
              "    .colab-df-convert {\n",
              "      background-color: #E8F0FE;\n",
              "      border: none;\n",
              "      border-radius: 50%;\n",
              "      cursor: pointer;\n",
              "      display: none;\n",
              "      fill: #1967D2;\n",
              "      height: 32px;\n",
              "      padding: 0 0 0 0;\n",
              "      width: 32px;\n",
              "    }\n",
              "\n",
              "    .colab-df-convert:hover {\n",
              "      background-color: #E2EBFA;\n",
              "      box-shadow: 0px 1px 2px rgba(60, 64, 67, 0.3), 0px 1px 3px 1px rgba(60, 64, 67, 0.15);\n",
              "      fill: #174EA6;\n",
              "    }\n",
              "\n",
              "    [theme=dark] .colab-df-convert {\n",
              "      background-color: #3B4455;\n",
              "      fill: #D2E3FC;\n",
              "    }\n",
              "\n",
              "    [theme=dark] .colab-df-convert:hover {\n",
              "      background-color: #434B5C;\n",
              "      box-shadow: 0px 1px 3px 1px rgba(0, 0, 0, 0.15);\n",
              "      filter: drop-shadow(0px 1px 2px rgba(0, 0, 0, 0.3));\n",
              "      fill: #FFFFFF;\n",
              "    }\n",
              "  </style>\n",
              "\n",
              "      <script>\n",
              "        const buttonEl =\n",
              "          document.querySelector('#df-838cb1bd-dd1d-4da3-b947-b96194a2c819 button.colab-df-convert');\n",
              "        buttonEl.style.display =\n",
              "          google.colab.kernel.accessAllowed ? 'block' : 'none';\n",
              "\n",
              "        async function convertToInteractive(key) {\n",
              "          const element = document.querySelector('#df-838cb1bd-dd1d-4da3-b947-b96194a2c819');\n",
              "          const dataTable =\n",
              "            await google.colab.kernel.invokeFunction('convertToInteractive',\n",
              "                                                     [key], {});\n",
              "          if (!dataTable) return;\n",
              "\n",
              "          const docLinkHtml = 'Like what you see? Visit the ' +\n",
              "            '<a target=\"_blank\" href=https://colab.research.google.com/notebooks/data_table.ipynb>data table notebook</a>'\n",
              "            + ' to learn more about interactive tables.';\n",
              "          element.innerHTML = '';\n",
              "          dataTable['output_type'] = 'display_data';\n",
              "          await google.colab.output.renderOutput(dataTable, element);\n",
              "          const docLink = document.createElement('div');\n",
              "          docLink.innerHTML = docLinkHtml;\n",
              "          element.appendChild(docLink);\n",
              "        }\n",
              "      </script>\n",
              "    </div>\n",
              "  </div>\n",
              "  "
            ]
          },
          "metadata": {},
          "execution_count": 43
        }
      ]
    },
    {
      "cell_type": "code",
      "source": [
        "df4.head(2)"
      ],
      "metadata": {
        "id": "KWkjakBMWvnr",
        "outputId": "2fa48711-dcb0-429c-ceb5-5d1be52b08d1",
        "colab": {
          "base_uri": "https://localhost:8080/",
          "height": 112
        }
      },
      "execution_count": 44,
      "outputs": [
        {
          "output_type": "execute_result",
          "data": {
            "text/plain": [
              "   number                                          file_text\n",
              "0       0  [ QUADRA: 52 05 LOTE: * VALOR DA VENDA TABAPOR...\n",
              "1       1  [ CONTRATO PARTICULAR DE COMPROMISSO DE COMPRA..."
            ],
            "text/html": [
              "\n",
              "  <div id=\"df-40352e65-45f8-425d-ab6a-1ad0034866af\">\n",
              "    <div class=\"colab-df-container\">\n",
              "      <div>\n",
              "<style scoped>\n",
              "    .dataframe tbody tr th:only-of-type {\n",
              "        vertical-align: middle;\n",
              "    }\n",
              "\n",
              "    .dataframe tbody tr th {\n",
              "        vertical-align: top;\n",
              "    }\n",
              "\n",
              "    .dataframe thead th {\n",
              "        text-align: right;\n",
              "    }\n",
              "</style>\n",
              "<table border=\"1\" class=\"dataframe\">\n",
              "  <thead>\n",
              "    <tr style=\"text-align: right;\">\n",
              "      <th></th>\n",
              "      <th>number</th>\n",
              "      <th>file_text</th>\n",
              "    </tr>\n",
              "  </thead>\n",
              "  <tbody>\n",
              "    <tr>\n",
              "      <th>0</th>\n",
              "      <td>0</td>\n",
              "      <td>[ QUADRA: 52 05 LOTE: * VALOR DA VENDA TABAPOR...</td>\n",
              "    </tr>\n",
              "    <tr>\n",
              "      <th>1</th>\n",
              "      <td>1</td>\n",
              "      <td>[ CONTRATO PARTICULAR DE COMPROMISSO DE COMPRA...</td>\n",
              "    </tr>\n",
              "  </tbody>\n",
              "</table>\n",
              "</div>\n",
              "      <button class=\"colab-df-convert\" onclick=\"convertToInteractive('df-40352e65-45f8-425d-ab6a-1ad0034866af')\"\n",
              "              title=\"Convert this dataframe to an interactive table.\"\n",
              "              style=\"display:none;\">\n",
              "        \n",
              "  <svg xmlns=\"http://www.w3.org/2000/svg\" height=\"24px\"viewBox=\"0 0 24 24\"\n",
              "       width=\"24px\">\n",
              "    <path d=\"M0 0h24v24H0V0z\" fill=\"none\"/>\n",
              "    <path d=\"M18.56 5.44l.94 2.06.94-2.06 2.06-.94-2.06-.94-.94-2.06-.94 2.06-2.06.94zm-11 1L8.5 8.5l.94-2.06 2.06-.94-2.06-.94L8.5 2.5l-.94 2.06-2.06.94zm10 10l.94 2.06.94-2.06 2.06-.94-2.06-.94-.94-2.06-.94 2.06-2.06.94z\"/><path d=\"M17.41 7.96l-1.37-1.37c-.4-.4-.92-.59-1.43-.59-.52 0-1.04.2-1.43.59L10.3 9.45l-7.72 7.72c-.78.78-.78 2.05 0 2.83L4 21.41c.39.39.9.59 1.41.59.51 0 1.02-.2 1.41-.59l7.78-7.78 2.81-2.81c.8-.78.8-2.07 0-2.86zM5.41 20L4 18.59l7.72-7.72 1.47 1.35L5.41 20z\"/>\n",
              "  </svg>\n",
              "      </button>\n",
              "      \n",
              "  <style>\n",
              "    .colab-df-container {\n",
              "      display:flex;\n",
              "      flex-wrap:wrap;\n",
              "      gap: 12px;\n",
              "    }\n",
              "\n",
              "    .colab-df-convert {\n",
              "      background-color: #E8F0FE;\n",
              "      border: none;\n",
              "      border-radius: 50%;\n",
              "      cursor: pointer;\n",
              "      display: none;\n",
              "      fill: #1967D2;\n",
              "      height: 32px;\n",
              "      padding: 0 0 0 0;\n",
              "      width: 32px;\n",
              "    }\n",
              "\n",
              "    .colab-df-convert:hover {\n",
              "      background-color: #E2EBFA;\n",
              "      box-shadow: 0px 1px 2px rgba(60, 64, 67, 0.3), 0px 1px 3px 1px rgba(60, 64, 67, 0.15);\n",
              "      fill: #174EA6;\n",
              "    }\n",
              "\n",
              "    [theme=dark] .colab-df-convert {\n",
              "      background-color: #3B4455;\n",
              "      fill: #D2E3FC;\n",
              "    }\n",
              "\n",
              "    [theme=dark] .colab-df-convert:hover {\n",
              "      background-color: #434B5C;\n",
              "      box-shadow: 0px 1px 3px 1px rgba(0, 0, 0, 0.15);\n",
              "      filter: drop-shadow(0px 1px 2px rgba(0, 0, 0, 0.3));\n",
              "      fill: #FFFFFF;\n",
              "    }\n",
              "  </style>\n",
              "\n",
              "      <script>\n",
              "        const buttonEl =\n",
              "          document.querySelector('#df-40352e65-45f8-425d-ab6a-1ad0034866af button.colab-df-convert');\n",
              "        buttonEl.style.display =\n",
              "          google.colab.kernel.accessAllowed ? 'block' : 'none';\n",
              "\n",
              "        async function convertToInteractive(key) {\n",
              "          const element = document.querySelector('#df-40352e65-45f8-425d-ab6a-1ad0034866af');\n",
              "          const dataTable =\n",
              "            await google.colab.kernel.invokeFunction('convertToInteractive',\n",
              "                                                     [key], {});\n",
              "          if (!dataTable) return;\n",
              "\n",
              "          const docLinkHtml = 'Like what you see? Visit the ' +\n",
              "            '<a target=\"_blank\" href=https://colab.research.google.com/notebooks/data_table.ipynb>data table notebook</a>'\n",
              "            + ' to learn more about interactive tables.';\n",
              "          element.innerHTML = '';\n",
              "          dataTable['output_type'] = 'display_data';\n",
              "          await google.colab.output.renderOutput(dataTable, element);\n",
              "          const docLink = document.createElement('div');\n",
              "          docLink.innerHTML = docLinkHtml;\n",
              "          element.appendChild(docLink);\n",
              "        }\n",
              "      </script>\n",
              "    </div>\n",
              "  </div>\n",
              "  "
            ]
          },
          "metadata": {},
          "execution_count": 44
        }
      ]
    },
    {
      "cell_type": "code",
      "source": [
        "df2.shape"
      ],
      "metadata": {
        "colab": {
          "base_uri": "https://localhost:8080/"
        },
        "id": "I02JLhGMmZwx",
        "outputId": "1abb5abe-d585-460b-ed0b-44bf19d7eb5d"
      },
      "execution_count": 61,
      "outputs": [
        {
          "output_type": "execute_result",
          "data": {
            "text/plain": [
              "(75, 2)"
            ]
          },
          "metadata": {},
          "execution_count": 61
        }
      ]
    },
    {
      "cell_type": "code",
      "source": [
        "df3.shape"
      ],
      "metadata": {
        "colab": {
          "base_uri": "https://localhost:8080/"
        },
        "id": "beYMhnMcmbg1",
        "outputId": "90312929-cdeb-4a80-d31f-d5ed344e2269"
      },
      "execution_count": 62,
      "outputs": [
        {
          "output_type": "execute_result",
          "data": {
            "text/plain": [
              "(54, 2)"
            ]
          },
          "metadata": {},
          "execution_count": 62
        }
      ]
    },
    {
      "cell_type": "code",
      "source": [
        "df_merge_two_sheets_new = pd.merge(df2, df3, how='outer', on='number')\n",
        "df_merge_two_sheets_new.head(2)"
      ],
      "metadata": {
        "outputId": "a7622d99-3923-4796-c7a0-ca3e79995f15",
        "colab": {
          "base_uri": "https://localhost:8080/",
          "height": 156
        },
        "id": "B0x4uJifWpDZ"
      },
      "execution_count": 63,
      "outputs": [
        {
          "output_type": "execute_result",
          "data": {
            "text/plain": [
              "   number                                        file_text_x  \\\n",
              "0       0  [ SS CELL SITE MAD SOLUTIONS 2 Cell Site Solut...   \n",
              "1       1  [ CONTRATO DE CESSÃO DE USO DE INFRAESTRUTURA ...   \n",
              "\n",
              "                                         file_text_y  \n",
              "0  [ CONTRATO DE LOCAÇÃO Os signatários deste ins...  \n",
              "1  [ CONTRATO DE LOCAÇÃO DE IMÓVEL URBANO ROBERTO...  "
            ],
            "text/html": [
              "\n",
              "  <div id=\"df-d82f6985-45ed-422d-b1f3-9dc854d9d8c7\">\n",
              "    <div class=\"colab-df-container\">\n",
              "      <div>\n",
              "<style scoped>\n",
              "    .dataframe tbody tr th:only-of-type {\n",
              "        vertical-align: middle;\n",
              "    }\n",
              "\n",
              "    .dataframe tbody tr th {\n",
              "        vertical-align: top;\n",
              "    }\n",
              "\n",
              "    .dataframe thead th {\n",
              "        text-align: right;\n",
              "    }\n",
              "</style>\n",
              "<table border=\"1\" class=\"dataframe\">\n",
              "  <thead>\n",
              "    <tr style=\"text-align: right;\">\n",
              "      <th></th>\n",
              "      <th>number</th>\n",
              "      <th>file_text_x</th>\n",
              "      <th>file_text_y</th>\n",
              "    </tr>\n",
              "  </thead>\n",
              "  <tbody>\n",
              "    <tr>\n",
              "      <th>0</th>\n",
              "      <td>0</td>\n",
              "      <td>[ SS CELL SITE MAD SOLUTIONS 2 Cell Site Solut...</td>\n",
              "      <td>[ CONTRATO DE LOCAÇÃO Os signatários deste ins...</td>\n",
              "    </tr>\n",
              "    <tr>\n",
              "      <th>1</th>\n",
              "      <td>1</td>\n",
              "      <td>[ CONTRATO DE CESSÃO DE USO DE INFRAESTRUTURA ...</td>\n",
              "      <td>[ CONTRATO DE LOCAÇÃO DE IMÓVEL URBANO ROBERTO...</td>\n",
              "    </tr>\n",
              "  </tbody>\n",
              "</table>\n",
              "</div>\n",
              "      <button class=\"colab-df-convert\" onclick=\"convertToInteractive('df-d82f6985-45ed-422d-b1f3-9dc854d9d8c7')\"\n",
              "              title=\"Convert this dataframe to an interactive table.\"\n",
              "              style=\"display:none;\">\n",
              "        \n",
              "  <svg xmlns=\"http://www.w3.org/2000/svg\" height=\"24px\"viewBox=\"0 0 24 24\"\n",
              "       width=\"24px\">\n",
              "    <path d=\"M0 0h24v24H0V0z\" fill=\"none\"/>\n",
              "    <path d=\"M18.56 5.44l.94 2.06.94-2.06 2.06-.94-2.06-.94-.94-2.06-.94 2.06-2.06.94zm-11 1L8.5 8.5l.94-2.06 2.06-.94-2.06-.94L8.5 2.5l-.94 2.06-2.06.94zm10 10l.94 2.06.94-2.06 2.06-.94-2.06-.94-.94-2.06-.94 2.06-2.06.94z\"/><path d=\"M17.41 7.96l-1.37-1.37c-.4-.4-.92-.59-1.43-.59-.52 0-1.04.2-1.43.59L10.3 9.45l-7.72 7.72c-.78.78-.78 2.05 0 2.83L4 21.41c.39.39.9.59 1.41.59.51 0 1.02-.2 1.41-.59l7.78-7.78 2.81-2.81c.8-.78.8-2.07 0-2.86zM5.41 20L4 18.59l7.72-7.72 1.47 1.35L5.41 20z\"/>\n",
              "  </svg>\n",
              "      </button>\n",
              "      \n",
              "  <style>\n",
              "    .colab-df-container {\n",
              "      display:flex;\n",
              "      flex-wrap:wrap;\n",
              "      gap: 12px;\n",
              "    }\n",
              "\n",
              "    .colab-df-convert {\n",
              "      background-color: #E8F0FE;\n",
              "      border: none;\n",
              "      border-radius: 50%;\n",
              "      cursor: pointer;\n",
              "      display: none;\n",
              "      fill: #1967D2;\n",
              "      height: 32px;\n",
              "      padding: 0 0 0 0;\n",
              "      width: 32px;\n",
              "    }\n",
              "\n",
              "    .colab-df-convert:hover {\n",
              "      background-color: #E2EBFA;\n",
              "      box-shadow: 0px 1px 2px rgba(60, 64, 67, 0.3), 0px 1px 3px 1px rgba(60, 64, 67, 0.15);\n",
              "      fill: #174EA6;\n",
              "    }\n",
              "\n",
              "    [theme=dark] .colab-df-convert {\n",
              "      background-color: #3B4455;\n",
              "      fill: #D2E3FC;\n",
              "    }\n",
              "\n",
              "    [theme=dark] .colab-df-convert:hover {\n",
              "      background-color: #434B5C;\n",
              "      box-shadow: 0px 1px 3px 1px rgba(0, 0, 0, 0.15);\n",
              "      filter: drop-shadow(0px 1px 2px rgba(0, 0, 0, 0.3));\n",
              "      fill: #FFFFFF;\n",
              "    }\n",
              "  </style>\n",
              "\n",
              "      <script>\n",
              "        const buttonEl =\n",
              "          document.querySelector('#df-d82f6985-45ed-422d-b1f3-9dc854d9d8c7 button.colab-df-convert');\n",
              "        buttonEl.style.display =\n",
              "          google.colab.kernel.accessAllowed ? 'block' : 'none';\n",
              "\n",
              "        async function convertToInteractive(key) {\n",
              "          const element = document.querySelector('#df-d82f6985-45ed-422d-b1f3-9dc854d9d8c7');\n",
              "          const dataTable =\n",
              "            await google.colab.kernel.invokeFunction('convertToInteractive',\n",
              "                                                     [key], {});\n",
              "          if (!dataTable) return;\n",
              "\n",
              "          const docLinkHtml = 'Like what you see? Visit the ' +\n",
              "            '<a target=\"_blank\" href=https://colab.research.google.com/notebooks/data_table.ipynb>data table notebook</a>'\n",
              "            + ' to learn more about interactive tables.';\n",
              "          element.innerHTML = '';\n",
              "          dataTable['output_type'] = 'display_data';\n",
              "          await google.colab.output.renderOutput(dataTable, element);\n",
              "          const docLink = document.createElement('div');\n",
              "          docLink.innerHTML = docLinkHtml;\n",
              "          element.appendChild(docLink);\n",
              "        }\n",
              "      </script>\n",
              "    </div>\n",
              "  </div>\n",
              "  "
            ]
          },
          "metadata": {},
          "execution_count": 63
        }
      ]
    },
    {
      "cell_type": "code",
      "source": [
        "df_merge_two_sheets_new.shape"
      ],
      "metadata": {
        "outputId": "511695ea-f417-405f-f62a-bd18e1f01c2b",
        "colab": {
          "base_uri": "https://localhost:8080/"
        },
        "id": "WslxznrDWpDZ"
      },
      "execution_count": 64,
      "outputs": [
        {
          "output_type": "execute_result",
          "data": {
            "text/plain": [
              "(75, 3)"
            ]
          },
          "metadata": {},
          "execution_count": 64
        }
      ]
    },
    {
      "cell_type": "markdown",
      "source": [
        "####TRANSFORMING TWO COLUMNS INTO ONE | NEW | PART 1.\n",
        "\n"
      ],
      "metadata": {
        "id": "852ddvn4eTus"
      }
    },
    {
      "cell_type": "code",
      "source": [
        "list_concat_new = []\n",
        "list_index_new = []\n",
        "\n",
        "for idx1, linha1 in enumerate(df_merge_two_sheets_new['file_text_x']):\n",
        "    list_concat_new.append(linha1)\n",
        "    list_index_new.append(idx1)\n",
        "    for idx2, linha2 in enumerate(df_merge_two_sheets_new['file_text_y']):\n",
        "        list_concat_new.append(linha2)\n",
        "        list_index_new.append(idx2+1)\n",
        "\n",
        "df_concat_new_1 = pd.DataFrame({'number': list_index_new,\n",
        "                           'file_text': list_concat_new})\n",
        "\n",
        "df_concat_unique_new = df_concat_new_1['file_text'].drop_duplicates()\n",
        "df_concat_unique_new.shape\n",
        "\n",
        "\n",
        "list_lines_new = []\n",
        "list_idx_new = []\n",
        "cont = 0\n",
        "for idx_final, lines_final in enumerate(df_concat_unique_new):\n",
        "    list_lines_new.append(lines_final)\n",
        "    list_idx_new.append(idx_final)\n",
        "    cont += idx_final\n",
        "\n",
        "df_concat_final_new_1 = pd.DataFrame({'number': list_idx_new,\n",
        "                                'file_text': list_lines_new})\n",
        "\n",
        "df_concat_final_new_1.head(2)"
      ],
      "metadata": {
        "outputId": "6eaef8a5-d5fa-49cc-f3d5-8b9b01e71f61",
        "colab": {
          "base_uri": "https://localhost:8080/",
          "height": 112
        },
        "id": "Z0-DwAvCWpDZ"
      },
      "execution_count": 65,
      "outputs": [
        {
          "output_type": "execute_result",
          "data": {
            "text/plain": [
              "   number                                          file_text\n",
              "0       0  [ SS CELL SITE MAD SOLUTIONS 2 Cell Site Solut...\n",
              "1       1  [ CONTRATO DE LOCAÇÃO Os signatários deste ins..."
            ],
            "text/html": [
              "\n",
              "  <div id=\"df-fa3d55d2-e882-4140-9810-e465d1402c36\">\n",
              "    <div class=\"colab-df-container\">\n",
              "      <div>\n",
              "<style scoped>\n",
              "    .dataframe tbody tr th:only-of-type {\n",
              "        vertical-align: middle;\n",
              "    }\n",
              "\n",
              "    .dataframe tbody tr th {\n",
              "        vertical-align: top;\n",
              "    }\n",
              "\n",
              "    .dataframe thead th {\n",
              "        text-align: right;\n",
              "    }\n",
              "</style>\n",
              "<table border=\"1\" class=\"dataframe\">\n",
              "  <thead>\n",
              "    <tr style=\"text-align: right;\">\n",
              "      <th></th>\n",
              "      <th>number</th>\n",
              "      <th>file_text</th>\n",
              "    </tr>\n",
              "  </thead>\n",
              "  <tbody>\n",
              "    <tr>\n",
              "      <th>0</th>\n",
              "      <td>0</td>\n",
              "      <td>[ SS CELL SITE MAD SOLUTIONS 2 Cell Site Solut...</td>\n",
              "    </tr>\n",
              "    <tr>\n",
              "      <th>1</th>\n",
              "      <td>1</td>\n",
              "      <td>[ CONTRATO DE LOCAÇÃO Os signatários deste ins...</td>\n",
              "    </tr>\n",
              "  </tbody>\n",
              "</table>\n",
              "</div>\n",
              "      <button class=\"colab-df-convert\" onclick=\"convertToInteractive('df-fa3d55d2-e882-4140-9810-e465d1402c36')\"\n",
              "              title=\"Convert this dataframe to an interactive table.\"\n",
              "              style=\"display:none;\">\n",
              "        \n",
              "  <svg xmlns=\"http://www.w3.org/2000/svg\" height=\"24px\"viewBox=\"0 0 24 24\"\n",
              "       width=\"24px\">\n",
              "    <path d=\"M0 0h24v24H0V0z\" fill=\"none\"/>\n",
              "    <path d=\"M18.56 5.44l.94 2.06.94-2.06 2.06-.94-2.06-.94-.94-2.06-.94 2.06-2.06.94zm-11 1L8.5 8.5l.94-2.06 2.06-.94-2.06-.94L8.5 2.5l-.94 2.06-2.06.94zm10 10l.94 2.06.94-2.06 2.06-.94-2.06-.94-.94-2.06-.94 2.06-2.06.94z\"/><path d=\"M17.41 7.96l-1.37-1.37c-.4-.4-.92-.59-1.43-.59-.52 0-1.04.2-1.43.59L10.3 9.45l-7.72 7.72c-.78.78-.78 2.05 0 2.83L4 21.41c.39.39.9.59 1.41.59.51 0 1.02-.2 1.41-.59l7.78-7.78 2.81-2.81c.8-.78.8-2.07 0-2.86zM5.41 20L4 18.59l7.72-7.72 1.47 1.35L5.41 20z\"/>\n",
              "  </svg>\n",
              "      </button>\n",
              "      \n",
              "  <style>\n",
              "    .colab-df-container {\n",
              "      display:flex;\n",
              "      flex-wrap:wrap;\n",
              "      gap: 12px;\n",
              "    }\n",
              "\n",
              "    .colab-df-convert {\n",
              "      background-color: #E8F0FE;\n",
              "      border: none;\n",
              "      border-radius: 50%;\n",
              "      cursor: pointer;\n",
              "      display: none;\n",
              "      fill: #1967D2;\n",
              "      height: 32px;\n",
              "      padding: 0 0 0 0;\n",
              "      width: 32px;\n",
              "    }\n",
              "\n",
              "    .colab-df-convert:hover {\n",
              "      background-color: #E2EBFA;\n",
              "      box-shadow: 0px 1px 2px rgba(60, 64, 67, 0.3), 0px 1px 3px 1px rgba(60, 64, 67, 0.15);\n",
              "      fill: #174EA6;\n",
              "    }\n",
              "\n",
              "    [theme=dark] .colab-df-convert {\n",
              "      background-color: #3B4455;\n",
              "      fill: #D2E3FC;\n",
              "    }\n",
              "\n",
              "    [theme=dark] .colab-df-convert:hover {\n",
              "      background-color: #434B5C;\n",
              "      box-shadow: 0px 1px 3px 1px rgba(0, 0, 0, 0.15);\n",
              "      filter: drop-shadow(0px 1px 2px rgba(0, 0, 0, 0.3));\n",
              "      fill: #FFFFFF;\n",
              "    }\n",
              "  </style>\n",
              "\n",
              "      <script>\n",
              "        const buttonEl =\n",
              "          document.querySelector('#df-fa3d55d2-e882-4140-9810-e465d1402c36 button.colab-df-convert');\n",
              "        buttonEl.style.display =\n",
              "          google.colab.kernel.accessAllowed ? 'block' : 'none';\n",
              "\n",
              "        async function convertToInteractive(key) {\n",
              "          const element = document.querySelector('#df-fa3d55d2-e882-4140-9810-e465d1402c36');\n",
              "          const dataTable =\n",
              "            await google.colab.kernel.invokeFunction('convertToInteractive',\n",
              "                                                     [key], {});\n",
              "          if (!dataTable) return;\n",
              "\n",
              "          const docLinkHtml = 'Like what you see? Visit the ' +\n",
              "            '<a target=\"_blank\" href=https://colab.research.google.com/notebooks/data_table.ipynb>data table notebook</a>'\n",
              "            + ' to learn more about interactive tables.';\n",
              "          element.innerHTML = '';\n",
              "          dataTable['output_type'] = 'display_data';\n",
              "          await google.colab.output.renderOutput(dataTable, element);\n",
              "          const docLink = document.createElement('div');\n",
              "          docLink.innerHTML = docLinkHtml;\n",
              "          element.appendChild(docLink);\n",
              "        }\n",
              "      </script>\n",
              "    </div>\n",
              "  </div>\n",
              "  "
            ]
          },
          "metadata": {},
          "execution_count": 65
        }
      ]
    },
    {
      "cell_type": "markdown",
      "source": [
        "PART. 2"
      ],
      "metadata": {
        "id": "jBze_JBbXlt_"
      }
    },
    {
      "cell_type": "code",
      "source": [
        "df4.head(2)"
      ],
      "metadata": {
        "id": "q4Txoj2HXpF8",
        "outputId": "c9d0afcc-4b17-42b9-939e-3c973fe9f30f",
        "colab": {
          "base_uri": "https://localhost:8080/",
          "height": 112
        }
      },
      "execution_count": 67,
      "outputs": [
        {
          "output_type": "execute_result",
          "data": {
            "text/plain": [
              "   number                                          file_text\n",
              "0       0  [ QUADRA: 52 05 LOTE: * VALOR DA VENDA TABAPOR...\n",
              "1       1  [ CONTRATO PARTICULAR DE COMPROMISSO DE COMPRA..."
            ],
            "text/html": [
              "\n",
              "  <div id=\"df-3b6ada79-26e3-4eea-ae59-96021adb1a33\">\n",
              "    <div class=\"colab-df-container\">\n",
              "      <div>\n",
              "<style scoped>\n",
              "    .dataframe tbody tr th:only-of-type {\n",
              "        vertical-align: middle;\n",
              "    }\n",
              "\n",
              "    .dataframe tbody tr th {\n",
              "        vertical-align: top;\n",
              "    }\n",
              "\n",
              "    .dataframe thead th {\n",
              "        text-align: right;\n",
              "    }\n",
              "</style>\n",
              "<table border=\"1\" class=\"dataframe\">\n",
              "  <thead>\n",
              "    <tr style=\"text-align: right;\">\n",
              "      <th></th>\n",
              "      <th>number</th>\n",
              "      <th>file_text</th>\n",
              "    </tr>\n",
              "  </thead>\n",
              "  <tbody>\n",
              "    <tr>\n",
              "      <th>0</th>\n",
              "      <td>0</td>\n",
              "      <td>[ QUADRA: 52 05 LOTE: * VALOR DA VENDA TABAPOR...</td>\n",
              "    </tr>\n",
              "    <tr>\n",
              "      <th>1</th>\n",
              "      <td>1</td>\n",
              "      <td>[ CONTRATO PARTICULAR DE COMPROMISSO DE COMPRA...</td>\n",
              "    </tr>\n",
              "  </tbody>\n",
              "</table>\n",
              "</div>\n",
              "      <button class=\"colab-df-convert\" onclick=\"convertToInteractive('df-3b6ada79-26e3-4eea-ae59-96021adb1a33')\"\n",
              "              title=\"Convert this dataframe to an interactive table.\"\n",
              "              style=\"display:none;\">\n",
              "        \n",
              "  <svg xmlns=\"http://www.w3.org/2000/svg\" height=\"24px\"viewBox=\"0 0 24 24\"\n",
              "       width=\"24px\">\n",
              "    <path d=\"M0 0h24v24H0V0z\" fill=\"none\"/>\n",
              "    <path d=\"M18.56 5.44l.94 2.06.94-2.06 2.06-.94-2.06-.94-.94-2.06-.94 2.06-2.06.94zm-11 1L8.5 8.5l.94-2.06 2.06-.94-2.06-.94L8.5 2.5l-.94 2.06-2.06.94zm10 10l.94 2.06.94-2.06 2.06-.94-2.06-.94-.94-2.06-.94 2.06-2.06.94z\"/><path d=\"M17.41 7.96l-1.37-1.37c-.4-.4-.92-.59-1.43-.59-.52 0-1.04.2-1.43.59L10.3 9.45l-7.72 7.72c-.78.78-.78 2.05 0 2.83L4 21.41c.39.39.9.59 1.41.59.51 0 1.02-.2 1.41-.59l7.78-7.78 2.81-2.81c.8-.78.8-2.07 0-2.86zM5.41 20L4 18.59l7.72-7.72 1.47 1.35L5.41 20z\"/>\n",
              "  </svg>\n",
              "      </button>\n",
              "      \n",
              "  <style>\n",
              "    .colab-df-container {\n",
              "      display:flex;\n",
              "      flex-wrap:wrap;\n",
              "      gap: 12px;\n",
              "    }\n",
              "\n",
              "    .colab-df-convert {\n",
              "      background-color: #E8F0FE;\n",
              "      border: none;\n",
              "      border-radius: 50%;\n",
              "      cursor: pointer;\n",
              "      display: none;\n",
              "      fill: #1967D2;\n",
              "      height: 32px;\n",
              "      padding: 0 0 0 0;\n",
              "      width: 32px;\n",
              "    }\n",
              "\n",
              "    .colab-df-convert:hover {\n",
              "      background-color: #E2EBFA;\n",
              "      box-shadow: 0px 1px 2px rgba(60, 64, 67, 0.3), 0px 1px 3px 1px rgba(60, 64, 67, 0.15);\n",
              "      fill: #174EA6;\n",
              "    }\n",
              "\n",
              "    [theme=dark] .colab-df-convert {\n",
              "      background-color: #3B4455;\n",
              "      fill: #D2E3FC;\n",
              "    }\n",
              "\n",
              "    [theme=dark] .colab-df-convert:hover {\n",
              "      background-color: #434B5C;\n",
              "      box-shadow: 0px 1px 3px 1px rgba(0, 0, 0, 0.15);\n",
              "      filter: drop-shadow(0px 1px 2px rgba(0, 0, 0, 0.3));\n",
              "      fill: #FFFFFF;\n",
              "    }\n",
              "  </style>\n",
              "\n",
              "      <script>\n",
              "        const buttonEl =\n",
              "          document.querySelector('#df-3b6ada79-26e3-4eea-ae59-96021adb1a33 button.colab-df-convert');\n",
              "        buttonEl.style.display =\n",
              "          google.colab.kernel.accessAllowed ? 'block' : 'none';\n",
              "\n",
              "        async function convertToInteractive(key) {\n",
              "          const element = document.querySelector('#df-3b6ada79-26e3-4eea-ae59-96021adb1a33');\n",
              "          const dataTable =\n",
              "            await google.colab.kernel.invokeFunction('convertToInteractive',\n",
              "                                                     [key], {});\n",
              "          if (!dataTable) return;\n",
              "\n",
              "          const docLinkHtml = 'Like what you see? Visit the ' +\n",
              "            '<a target=\"_blank\" href=https://colab.research.google.com/notebooks/data_table.ipynb>data table notebook</a>'\n",
              "            + ' to learn more about interactive tables.';\n",
              "          element.innerHTML = '';\n",
              "          dataTable['output_type'] = 'display_data';\n",
              "          await google.colab.output.renderOutput(dataTable, element);\n",
              "          const docLink = document.createElement('div');\n",
              "          docLink.innerHTML = docLinkHtml;\n",
              "          element.appendChild(docLink);\n",
              "        }\n",
              "      </script>\n",
              "    </div>\n",
              "  </div>\n",
              "  "
            ]
          },
          "metadata": {},
          "execution_count": 67
        }
      ]
    },
    {
      "cell_type": "code",
      "source": [
        "df_concat_final_new_1.shape"
      ],
      "metadata": {
        "colab": {
          "base_uri": "https://localhost:8080/"
        },
        "id": "LbiCGWxEex2J",
        "outputId": "298790e8-d7c4-4c88-b6a5-530da4b141a7"
      },
      "execution_count": 68,
      "outputs": [
        {
          "output_type": "execute_result",
          "data": {
            "text/plain": [
              "(129, 2)"
            ]
          },
          "metadata": {},
          "execution_count": 68
        }
      ]
    },
    {
      "cell_type": "code",
      "source": [
        "df4.shape"
      ],
      "metadata": {
        "colab": {
          "base_uri": "https://localhost:8080/"
        },
        "id": "vYPZOx9ie6rY",
        "outputId": "a2983074-35d2-4421-b585-deeeadcea0f5"
      },
      "execution_count": 50,
      "outputs": [
        {
          "output_type": "execute_result",
          "data": {
            "text/plain": [
              "(37, 2)"
            ]
          },
          "metadata": {},
          "execution_count": 50
        }
      ]
    },
    {
      "cell_type": "code",
      "source": [
        "df_merge_two_sheets_new_2 = pd.merge(df4, df_concat_final_new_1, how='outer', on='number')\n",
        "df_merge_two_sheets_new_2.head(2)"
      ],
      "metadata": {
        "id": "lyZaB-YdXuvT",
        "outputId": "c41f9955-94be-4ffb-df53-0d9c4e39941b",
        "colab": {
          "base_uri": "https://localhost:8080/",
          "height": 112
        }
      },
      "execution_count": 69,
      "outputs": [
        {
          "output_type": "execute_result",
          "data": {
            "text/plain": [
              "   number                                        file_text_x  \\\n",
              "0       0  [ QUADRA: 52 05 LOTE: * VALOR DA VENDA TABAPOR...   \n",
              "1       1  [ CONTRATO PARTICULAR DE COMPROMISSO DE COMPRA...   \n",
              "\n",
              "                                         file_text_y  \n",
              "0  [ SS CELL SITE MAD SOLUTIONS 2 Cell Site Solut...  \n",
              "1  [ CONTRATO DE LOCAÇÃO Os signatários deste ins...  "
            ],
            "text/html": [
              "\n",
              "  <div id=\"df-f2e474ef-223b-41d9-8f45-d9017e52b2a3\">\n",
              "    <div class=\"colab-df-container\">\n",
              "      <div>\n",
              "<style scoped>\n",
              "    .dataframe tbody tr th:only-of-type {\n",
              "        vertical-align: middle;\n",
              "    }\n",
              "\n",
              "    .dataframe tbody tr th {\n",
              "        vertical-align: top;\n",
              "    }\n",
              "\n",
              "    .dataframe thead th {\n",
              "        text-align: right;\n",
              "    }\n",
              "</style>\n",
              "<table border=\"1\" class=\"dataframe\">\n",
              "  <thead>\n",
              "    <tr style=\"text-align: right;\">\n",
              "      <th></th>\n",
              "      <th>number</th>\n",
              "      <th>file_text_x</th>\n",
              "      <th>file_text_y</th>\n",
              "    </tr>\n",
              "  </thead>\n",
              "  <tbody>\n",
              "    <tr>\n",
              "      <th>0</th>\n",
              "      <td>0</td>\n",
              "      <td>[ QUADRA: 52 05 LOTE: * VALOR DA VENDA TABAPOR...</td>\n",
              "      <td>[ SS CELL SITE MAD SOLUTIONS 2 Cell Site Solut...</td>\n",
              "    </tr>\n",
              "    <tr>\n",
              "      <th>1</th>\n",
              "      <td>1</td>\n",
              "      <td>[ CONTRATO PARTICULAR DE COMPROMISSO DE COMPRA...</td>\n",
              "      <td>[ CONTRATO DE LOCAÇÃO Os signatários deste ins...</td>\n",
              "    </tr>\n",
              "  </tbody>\n",
              "</table>\n",
              "</div>\n",
              "      <button class=\"colab-df-convert\" onclick=\"convertToInteractive('df-f2e474ef-223b-41d9-8f45-d9017e52b2a3')\"\n",
              "              title=\"Convert this dataframe to an interactive table.\"\n",
              "              style=\"display:none;\">\n",
              "        \n",
              "  <svg xmlns=\"http://www.w3.org/2000/svg\" height=\"24px\"viewBox=\"0 0 24 24\"\n",
              "       width=\"24px\">\n",
              "    <path d=\"M0 0h24v24H0V0z\" fill=\"none\"/>\n",
              "    <path d=\"M18.56 5.44l.94 2.06.94-2.06 2.06-.94-2.06-.94-.94-2.06-.94 2.06-2.06.94zm-11 1L8.5 8.5l.94-2.06 2.06-.94-2.06-.94L8.5 2.5l-.94 2.06-2.06.94zm10 10l.94 2.06.94-2.06 2.06-.94-2.06-.94-.94-2.06-.94 2.06-2.06.94z\"/><path d=\"M17.41 7.96l-1.37-1.37c-.4-.4-.92-.59-1.43-.59-.52 0-1.04.2-1.43.59L10.3 9.45l-7.72 7.72c-.78.78-.78 2.05 0 2.83L4 21.41c.39.39.9.59 1.41.59.51 0 1.02-.2 1.41-.59l7.78-7.78 2.81-2.81c.8-.78.8-2.07 0-2.86zM5.41 20L4 18.59l7.72-7.72 1.47 1.35L5.41 20z\"/>\n",
              "  </svg>\n",
              "      </button>\n",
              "      \n",
              "  <style>\n",
              "    .colab-df-container {\n",
              "      display:flex;\n",
              "      flex-wrap:wrap;\n",
              "      gap: 12px;\n",
              "    }\n",
              "\n",
              "    .colab-df-convert {\n",
              "      background-color: #E8F0FE;\n",
              "      border: none;\n",
              "      border-radius: 50%;\n",
              "      cursor: pointer;\n",
              "      display: none;\n",
              "      fill: #1967D2;\n",
              "      height: 32px;\n",
              "      padding: 0 0 0 0;\n",
              "      width: 32px;\n",
              "    }\n",
              "\n",
              "    .colab-df-convert:hover {\n",
              "      background-color: #E2EBFA;\n",
              "      box-shadow: 0px 1px 2px rgba(60, 64, 67, 0.3), 0px 1px 3px 1px rgba(60, 64, 67, 0.15);\n",
              "      fill: #174EA6;\n",
              "    }\n",
              "\n",
              "    [theme=dark] .colab-df-convert {\n",
              "      background-color: #3B4455;\n",
              "      fill: #D2E3FC;\n",
              "    }\n",
              "\n",
              "    [theme=dark] .colab-df-convert:hover {\n",
              "      background-color: #434B5C;\n",
              "      box-shadow: 0px 1px 3px 1px rgba(0, 0, 0, 0.15);\n",
              "      filter: drop-shadow(0px 1px 2px rgba(0, 0, 0, 0.3));\n",
              "      fill: #FFFFFF;\n",
              "    }\n",
              "  </style>\n",
              "\n",
              "      <script>\n",
              "        const buttonEl =\n",
              "          document.querySelector('#df-f2e474ef-223b-41d9-8f45-d9017e52b2a3 button.colab-df-convert');\n",
              "        buttonEl.style.display =\n",
              "          google.colab.kernel.accessAllowed ? 'block' : 'none';\n",
              "\n",
              "        async function convertToInteractive(key) {\n",
              "          const element = document.querySelector('#df-f2e474ef-223b-41d9-8f45-d9017e52b2a3');\n",
              "          const dataTable =\n",
              "            await google.colab.kernel.invokeFunction('convertToInteractive',\n",
              "                                                     [key], {});\n",
              "          if (!dataTable) return;\n",
              "\n",
              "          const docLinkHtml = 'Like what you see? Visit the ' +\n",
              "            '<a target=\"_blank\" href=https://colab.research.google.com/notebooks/data_table.ipynb>data table notebook</a>'\n",
              "            + ' to learn more about interactive tables.';\n",
              "          element.innerHTML = '';\n",
              "          dataTable['output_type'] = 'display_data';\n",
              "          await google.colab.output.renderOutput(dataTable, element);\n",
              "          const docLink = document.createElement('div');\n",
              "          docLink.innerHTML = docLinkHtml;\n",
              "          element.appendChild(docLink);\n",
              "        }\n",
              "      </script>\n",
              "    </div>\n",
              "  </div>\n",
              "  "
            ]
          },
          "metadata": {},
          "execution_count": 69
        }
      ]
    },
    {
      "cell_type": "code",
      "source": [
        "df_merge_two_sheets_new_2.shape"
      ],
      "metadata": {
        "id": "kahhsVTkX8rS",
        "outputId": "bb496de4-5cf3-42cc-e01f-37eba368f060",
        "colab": {
          "base_uri": "https://localhost:8080/"
        }
      },
      "execution_count": 70,
      "outputs": [
        {
          "output_type": "execute_result",
          "data": {
            "text/plain": [
              "(129, 3)"
            ]
          },
          "metadata": {},
          "execution_count": 70
        }
      ]
    },
    {
      "cell_type": "markdown",
      "source": [
        "####TRANSFORMING TWO COLUMNS INTO ONE | NEW | PART 2.\n"
      ],
      "metadata": {
        "id": "S8htOQIBe-PM"
      }
    },
    {
      "cell_type": "code",
      "source": [
        "list_concat_new_2 = []\n",
        "list_index_new_2  = []\n",
        "\n",
        "for idx1, linha1 in enumerate(df_merge_two_sheets_new_2 ['file_text_x']):\n",
        "    list_concat_new_2.append(linha1)\n",
        "    list_index_new_2.append(idx1)\n",
        "    for idx2, linha2 in enumerate(df_merge_two_sheets_new_2 ['file_text_y']):\n",
        "        list_concat_new_2 .append(linha2)\n",
        "        list_index_new_2 .append(idx2+1)\n",
        "\n",
        "df_concat_new_2  = pd.DataFrame({'number': list_index_new_2,\n",
        "                           'file_text': list_concat_new_2})\n",
        "\n",
        "df_concat_unique_new_2 = df_concat_new_2['file_text'].drop_duplicates()\n",
        "df_concat_unique_new_2 .shape\n",
        "\n",
        "\n",
        "list_lines_new_2  = []\n",
        "list_idx_new_2  = []\n",
        "cont = 0\n",
        "for idx_final, lines_final in enumerate(df_concat_unique_new_2 ):\n",
        "    list_lines_new_2 .append(lines_final)\n",
        "    list_idx_new_2 .append(idx_final)\n",
        "    cont += idx_final\n",
        "\n",
        "df_concat_final_new_2  = pd.DataFrame({'number': list_idx_new_2, \n",
        "                                       'file_text': list_lines_new_2})\n",
        "\n",
        "df_concat_final_new_2.shape"
      ],
      "metadata": {
        "id": "ompjDlmHYBzW",
        "outputId": "a4665f97-50da-465a-dc03-8a7a32588602",
        "colab": {
          "base_uri": "https://localhost:8080/"
        }
      },
      "execution_count": 71,
      "outputs": [
        {
          "output_type": "execute_result",
          "data": {
            "text/plain": [
              "(166, 2)"
            ]
          },
          "metadata": {},
          "execution_count": 71
        }
      ]
    },
    {
      "cell_type": "markdown",
      "source": [
        "MERGE OLD + NEW"
      ],
      "metadata": {
        "id": "TEVkz4MFYsKS"
      }
    },
    {
      "cell_type": "code",
      "source": [
        "df_concat_final_1.shape"
      ],
      "metadata": {
        "id": "kyngSEy9ZJLC",
        "outputId": "90e20451-e852-4826-879d-2684f0a1deff",
        "colab": {
          "base_uri": "https://localhost:8080/"
        }
      },
      "execution_count": 72,
      "outputs": [
        {
          "output_type": "execute_result",
          "data": {
            "text/plain": [
              "(97, 2)"
            ]
          },
          "metadata": {},
          "execution_count": 72
        }
      ]
    },
    {
      "cell_type": "code",
      "source": [
        "df_concat_final_new_2.shape"
      ],
      "metadata": {
        "id": "DneXOmFRZMPD",
        "outputId": "fa87c33b-1803-4c1e-f7eb-56a7cfa53563",
        "colab": {
          "base_uri": "https://localhost:8080/"
        }
      },
      "execution_count": 73,
      "outputs": [
        {
          "output_type": "execute_result",
          "data": {
            "text/plain": [
              "(166, 2)"
            ]
          },
          "metadata": {},
          "execution_count": 73
        }
      ]
    },
    {
      "cell_type": "code",
      "source": [
        "df_merge_final = pd.merge(df_concat_final_1, df_concat_final_new_2, how='outer', on='number')\n",
        "df_merge_final.head(2)"
      ],
      "metadata": {
        "id": "LTB2GggyYur0",
        "outputId": "95bf8b69-0672-488d-9577-ff21f138abaf",
        "colab": {
          "base_uri": "https://localhost:8080/",
          "height": 112
        }
      },
      "execution_count": 74,
      "outputs": [
        {
          "output_type": "execute_result",
          "data": {
            "text/plain": [
              "   number                                        file_text_x  \\\n",
              "0       0  [DUCESP, JUCESP PROTOCOLO 0.175.643/18-0 S[P 0...   \n",
              "1       1  [Companhia Paulista de Força e Luz Rua Jorge d...   \n",
              "\n",
              "                                         file_text_y  \n",
              "0  [ QUADRA: 52 05 LOTE: * VALOR DA VENDA TABAPOR...  \n",
              "1  [ SS CELL SITE MAD SOLUTIONS 2 Cell Site Solut...  "
            ],
            "text/html": [
              "\n",
              "  <div id=\"df-af127c7e-1704-4723-b973-ee01b746d813\">\n",
              "    <div class=\"colab-df-container\">\n",
              "      <div>\n",
              "<style scoped>\n",
              "    .dataframe tbody tr th:only-of-type {\n",
              "        vertical-align: middle;\n",
              "    }\n",
              "\n",
              "    .dataframe tbody tr th {\n",
              "        vertical-align: top;\n",
              "    }\n",
              "\n",
              "    .dataframe thead th {\n",
              "        text-align: right;\n",
              "    }\n",
              "</style>\n",
              "<table border=\"1\" class=\"dataframe\">\n",
              "  <thead>\n",
              "    <tr style=\"text-align: right;\">\n",
              "      <th></th>\n",
              "      <th>number</th>\n",
              "      <th>file_text_x</th>\n",
              "      <th>file_text_y</th>\n",
              "    </tr>\n",
              "  </thead>\n",
              "  <tbody>\n",
              "    <tr>\n",
              "      <th>0</th>\n",
              "      <td>0</td>\n",
              "      <td>[DUCESP, JUCESP PROTOCOLO 0.175.643/18-0 S[P 0...</td>\n",
              "      <td>[ QUADRA: 52 05 LOTE: * VALOR DA VENDA TABAPOR...</td>\n",
              "    </tr>\n",
              "    <tr>\n",
              "      <th>1</th>\n",
              "      <td>1</td>\n",
              "      <td>[Companhia Paulista de Força e Luz Rua Jorge d...</td>\n",
              "      <td>[ SS CELL SITE MAD SOLUTIONS 2 Cell Site Solut...</td>\n",
              "    </tr>\n",
              "  </tbody>\n",
              "</table>\n",
              "</div>\n",
              "      <button class=\"colab-df-convert\" onclick=\"convertToInteractive('df-af127c7e-1704-4723-b973-ee01b746d813')\"\n",
              "              title=\"Convert this dataframe to an interactive table.\"\n",
              "              style=\"display:none;\">\n",
              "        \n",
              "  <svg xmlns=\"http://www.w3.org/2000/svg\" height=\"24px\"viewBox=\"0 0 24 24\"\n",
              "       width=\"24px\">\n",
              "    <path d=\"M0 0h24v24H0V0z\" fill=\"none\"/>\n",
              "    <path d=\"M18.56 5.44l.94 2.06.94-2.06 2.06-.94-2.06-.94-.94-2.06-.94 2.06-2.06.94zm-11 1L8.5 8.5l.94-2.06 2.06-.94-2.06-.94L8.5 2.5l-.94 2.06-2.06.94zm10 10l.94 2.06.94-2.06 2.06-.94-2.06-.94-.94-2.06-.94 2.06-2.06.94z\"/><path d=\"M17.41 7.96l-1.37-1.37c-.4-.4-.92-.59-1.43-.59-.52 0-1.04.2-1.43.59L10.3 9.45l-7.72 7.72c-.78.78-.78 2.05 0 2.83L4 21.41c.39.39.9.59 1.41.59.51 0 1.02-.2 1.41-.59l7.78-7.78 2.81-2.81c.8-.78.8-2.07 0-2.86zM5.41 20L4 18.59l7.72-7.72 1.47 1.35L5.41 20z\"/>\n",
              "  </svg>\n",
              "      </button>\n",
              "      \n",
              "  <style>\n",
              "    .colab-df-container {\n",
              "      display:flex;\n",
              "      flex-wrap:wrap;\n",
              "      gap: 12px;\n",
              "    }\n",
              "\n",
              "    .colab-df-convert {\n",
              "      background-color: #E8F0FE;\n",
              "      border: none;\n",
              "      border-radius: 50%;\n",
              "      cursor: pointer;\n",
              "      display: none;\n",
              "      fill: #1967D2;\n",
              "      height: 32px;\n",
              "      padding: 0 0 0 0;\n",
              "      width: 32px;\n",
              "    }\n",
              "\n",
              "    .colab-df-convert:hover {\n",
              "      background-color: #E2EBFA;\n",
              "      box-shadow: 0px 1px 2px rgba(60, 64, 67, 0.3), 0px 1px 3px 1px rgba(60, 64, 67, 0.15);\n",
              "      fill: #174EA6;\n",
              "    }\n",
              "\n",
              "    [theme=dark] .colab-df-convert {\n",
              "      background-color: #3B4455;\n",
              "      fill: #D2E3FC;\n",
              "    }\n",
              "\n",
              "    [theme=dark] .colab-df-convert:hover {\n",
              "      background-color: #434B5C;\n",
              "      box-shadow: 0px 1px 3px 1px rgba(0, 0, 0, 0.15);\n",
              "      filter: drop-shadow(0px 1px 2px rgba(0, 0, 0, 0.3));\n",
              "      fill: #FFFFFF;\n",
              "    }\n",
              "  </style>\n",
              "\n",
              "      <script>\n",
              "        const buttonEl =\n",
              "          document.querySelector('#df-af127c7e-1704-4723-b973-ee01b746d813 button.colab-df-convert');\n",
              "        buttonEl.style.display =\n",
              "          google.colab.kernel.accessAllowed ? 'block' : 'none';\n",
              "\n",
              "        async function convertToInteractive(key) {\n",
              "          const element = document.querySelector('#df-af127c7e-1704-4723-b973-ee01b746d813');\n",
              "          const dataTable =\n",
              "            await google.colab.kernel.invokeFunction('convertToInteractive',\n",
              "                                                     [key], {});\n",
              "          if (!dataTable) return;\n",
              "\n",
              "          const docLinkHtml = 'Like what you see? Visit the ' +\n",
              "            '<a target=\"_blank\" href=https://colab.research.google.com/notebooks/data_table.ipynb>data table notebook</a>'\n",
              "            + ' to learn more about interactive tables.';\n",
              "          element.innerHTML = '';\n",
              "          dataTable['output_type'] = 'display_data';\n",
              "          await google.colab.output.renderOutput(dataTable, element);\n",
              "          const docLink = document.createElement('div');\n",
              "          docLink.innerHTML = docLinkHtml;\n",
              "          element.appendChild(docLink);\n",
              "        }\n",
              "      </script>\n",
              "    </div>\n",
              "  </div>\n",
              "  "
            ]
          },
          "metadata": {},
          "execution_count": 74
        }
      ]
    },
    {
      "cell_type": "code",
      "source": [
        "df_merge_final.shape"
      ],
      "metadata": {
        "id": "kQmAr7i7Zi3I",
        "outputId": "ba5b075a-762a-442a-f740-d1a2d2a81557",
        "colab": {
          "base_uri": "https://localhost:8080/"
        }
      },
      "execution_count": 75,
      "outputs": [
        {
          "output_type": "execute_result",
          "data": {
            "text/plain": [
              "(166, 3)"
            ]
          },
          "metadata": {},
          "execution_count": 75
        }
      ]
    },
    {
      "cell_type": "markdown",
      "source": [
        "####TRANSFORMING TWO COLUMNS INTO ONE | NEW | PART 3.\n"
      ],
      "metadata": {
        "id": "0Dv8wS1_iKXH"
      }
    },
    {
      "cell_type": "code",
      "source": [
        "list_concat_new_3 = []\n",
        "list_index_new_3 = []\n",
        "\n",
        "for idx1, linha1 in enumerate(df_merge_final['file_text_x']):\n",
        "    list_concat_new_3.append(linha1)\n",
        "    list_index_new_3.append(idx1)\n",
        "    for idx2, linha2 in enumerate(df_merge_final['file_text_y']):\n",
        "        list_concat_new_3.append(linha2)\n",
        "        list_index_new_3.append(idx2+1)\n",
        "\n",
        "df_concat_new_3  = pd.DataFrame({'number': list_index_new_3,\n",
        "                           'file_text': list_concat_new_3})\n",
        "\n",
        "df_concat_unique_new_3 = df_concat_new_3['file_text'].drop_duplicates()\n",
        "print(f'{df_concat_unique_new_3.shape}')\n",
        "\n",
        "\n",
        "list_lines_new_3 = []\n",
        "list_idx_new_3 = []\n",
        "cont = 0\n",
        "for idx_final, lines_final in enumerate(df_concat_unique_new_3):\n",
        "    list_lines_new_3.append(lines_final)\n",
        "    list_idx_new_3.append(idx_final)\n",
        "    cont += idx_final\n",
        "\n",
        "df_concat_final_new_3 = pd.DataFrame({'number': list_idx_new_3, \n",
        "                                       'file_text': list_lines_new_3})\n",
        "\n",
        "print(f'{df_concat_final_new_3.shape}')"
      ],
      "metadata": {
        "outputId": "8fb2eac1-d30c-421d-fb04-5cf50ee49cae",
        "colab": {
          "base_uri": "https://localhost:8080/"
        },
        "id": "qNHA06RriKXI"
      },
      "execution_count": 76,
      "outputs": [
        {
          "output_type": "stream",
          "name": "stdout",
          "text": [
            "(262,)\n",
            "(262, 2)\n"
          ]
        }
      ]
    },
    {
      "cell_type": "code",
      "source": [
        "#PARA GARANTIR\n",
        "TEST_DUPLICATES = df_concat_final_new_3['file_text'].drop_duplicates()\n",
        "len(TEST_DUPLICATES)"
      ],
      "metadata": {
        "colab": {
          "base_uri": "https://localhost:8080/"
        },
        "id": "XODl4ZdYm7xU",
        "outputId": "5c343126-7731-4821-e31a-50c4f1a77193"
      },
      "execution_count": 78,
      "outputs": [
        {
          "output_type": "execute_result",
          "data": {
            "text/plain": [
              "262"
            ]
          },
          "metadata": {},
          "execution_count": 78
        }
      ]
    },
    {
      "cell_type": "code",
      "source": [
        "df_concat_final_new_3.head(2)"
      ],
      "metadata": {
        "colab": {
          "base_uri": "https://localhost:8080/",
          "height": 112
        },
        "id": "rWq_ujManb9_",
        "outputId": "9a680d9b-7771-4052-b4e4-4f8c558bf2d6"
      },
      "execution_count": 79,
      "outputs": [
        {
          "output_type": "execute_result",
          "data": {
            "text/plain": [
              "   number                                          file_text\n",
              "0       0  [DUCESP, JUCESP PROTOCOLO 0.175.643/18-0 S[P 0...\n",
              "1       1  [ QUADRA: 52 05 LOTE: * VALOR DA VENDA TABAPOR..."
            ],
            "text/html": [
              "\n",
              "  <div id=\"df-64275a82-7e7a-4305-aa8d-66a059483d3d\">\n",
              "    <div class=\"colab-df-container\">\n",
              "      <div>\n",
              "<style scoped>\n",
              "    .dataframe tbody tr th:only-of-type {\n",
              "        vertical-align: middle;\n",
              "    }\n",
              "\n",
              "    .dataframe tbody tr th {\n",
              "        vertical-align: top;\n",
              "    }\n",
              "\n",
              "    .dataframe thead th {\n",
              "        text-align: right;\n",
              "    }\n",
              "</style>\n",
              "<table border=\"1\" class=\"dataframe\">\n",
              "  <thead>\n",
              "    <tr style=\"text-align: right;\">\n",
              "      <th></th>\n",
              "      <th>number</th>\n",
              "      <th>file_text</th>\n",
              "    </tr>\n",
              "  </thead>\n",
              "  <tbody>\n",
              "    <tr>\n",
              "      <th>0</th>\n",
              "      <td>0</td>\n",
              "      <td>[DUCESP, JUCESP PROTOCOLO 0.175.643/18-0 S[P 0...</td>\n",
              "    </tr>\n",
              "    <tr>\n",
              "      <th>1</th>\n",
              "      <td>1</td>\n",
              "      <td>[ QUADRA: 52 05 LOTE: * VALOR DA VENDA TABAPOR...</td>\n",
              "    </tr>\n",
              "  </tbody>\n",
              "</table>\n",
              "</div>\n",
              "      <button class=\"colab-df-convert\" onclick=\"convertToInteractive('df-64275a82-7e7a-4305-aa8d-66a059483d3d')\"\n",
              "              title=\"Convert this dataframe to an interactive table.\"\n",
              "              style=\"display:none;\">\n",
              "        \n",
              "  <svg xmlns=\"http://www.w3.org/2000/svg\" height=\"24px\"viewBox=\"0 0 24 24\"\n",
              "       width=\"24px\">\n",
              "    <path d=\"M0 0h24v24H0V0z\" fill=\"none\"/>\n",
              "    <path d=\"M18.56 5.44l.94 2.06.94-2.06 2.06-.94-2.06-.94-.94-2.06-.94 2.06-2.06.94zm-11 1L8.5 8.5l.94-2.06 2.06-.94-2.06-.94L8.5 2.5l-.94 2.06-2.06.94zm10 10l.94 2.06.94-2.06 2.06-.94-2.06-.94-.94-2.06-.94 2.06-2.06.94z\"/><path d=\"M17.41 7.96l-1.37-1.37c-.4-.4-.92-.59-1.43-.59-.52 0-1.04.2-1.43.59L10.3 9.45l-7.72 7.72c-.78.78-.78 2.05 0 2.83L4 21.41c.39.39.9.59 1.41.59.51 0 1.02-.2 1.41-.59l7.78-7.78 2.81-2.81c.8-.78.8-2.07 0-2.86zM5.41 20L4 18.59l7.72-7.72 1.47 1.35L5.41 20z\"/>\n",
              "  </svg>\n",
              "      </button>\n",
              "      \n",
              "  <style>\n",
              "    .colab-df-container {\n",
              "      display:flex;\n",
              "      flex-wrap:wrap;\n",
              "      gap: 12px;\n",
              "    }\n",
              "\n",
              "    .colab-df-convert {\n",
              "      background-color: #E8F0FE;\n",
              "      border: none;\n",
              "      border-radius: 50%;\n",
              "      cursor: pointer;\n",
              "      display: none;\n",
              "      fill: #1967D2;\n",
              "      height: 32px;\n",
              "      padding: 0 0 0 0;\n",
              "      width: 32px;\n",
              "    }\n",
              "\n",
              "    .colab-df-convert:hover {\n",
              "      background-color: #E2EBFA;\n",
              "      box-shadow: 0px 1px 2px rgba(60, 64, 67, 0.3), 0px 1px 3px 1px rgba(60, 64, 67, 0.15);\n",
              "      fill: #174EA6;\n",
              "    }\n",
              "\n",
              "    [theme=dark] .colab-df-convert {\n",
              "      background-color: #3B4455;\n",
              "      fill: #D2E3FC;\n",
              "    }\n",
              "\n",
              "    [theme=dark] .colab-df-convert:hover {\n",
              "      background-color: #434B5C;\n",
              "      box-shadow: 0px 1px 3px 1px rgba(0, 0, 0, 0.15);\n",
              "      filter: drop-shadow(0px 1px 2px rgba(0, 0, 0, 0.3));\n",
              "      fill: #FFFFFF;\n",
              "    }\n",
              "  </style>\n",
              "\n",
              "      <script>\n",
              "        const buttonEl =\n",
              "          document.querySelector('#df-64275a82-7e7a-4305-aa8d-66a059483d3d button.colab-df-convert');\n",
              "        buttonEl.style.display =\n",
              "          google.colab.kernel.accessAllowed ? 'block' : 'none';\n",
              "\n",
              "        async function convertToInteractive(key) {\n",
              "          const element = document.querySelector('#df-64275a82-7e7a-4305-aa8d-66a059483d3d');\n",
              "          const dataTable =\n",
              "            await google.colab.kernel.invokeFunction('convertToInteractive',\n",
              "                                                     [key], {});\n",
              "          if (!dataTable) return;\n",
              "\n",
              "          const docLinkHtml = 'Like what you see? Visit the ' +\n",
              "            '<a target=\"_blank\" href=https://colab.research.google.com/notebooks/data_table.ipynb>data table notebook</a>'\n",
              "            + ' to learn more about interactive tables.';\n",
              "          element.innerHTML = '';\n",
              "          dataTable['output_type'] = 'display_data';\n",
              "          await google.colab.output.renderOutput(dataTable, element);\n",
              "          const docLink = document.createElement('div');\n",
              "          docLink.innerHTML = docLinkHtml;\n",
              "          element.appendChild(docLink);\n",
              "        }\n",
              "      </script>\n",
              "    </div>\n",
              "  </div>\n",
              "  "
            ]
          },
          "metadata": {},
          "execution_count": 79
        }
      ]
    },
    {
      "cell_type": "code",
      "source": [
        "df_concat_final_new_3.shape"
      ],
      "metadata": {
        "colab": {
          "base_uri": "https://localhost:8080/"
        },
        "id": "_1L_RJIMnj5F",
        "outputId": "cd0cd40d-f1a2-4397-f5f1-6e5eaf299949"
      },
      "execution_count": 81,
      "outputs": [
        {
          "output_type": "execute_result",
          "data": {
            "text/plain": [
              "(262, 2)"
            ]
          },
          "metadata": {},
          "execution_count": 81
        }
      ]
    },
    {
      "cell_type": "markdown",
      "source": [
        "####TRANSFORM DATAFRAME INTO TEXT FILE"
      ],
      "metadata": {
        "id": "4ZHKm72cfRxz"
      }
    },
    {
      "cell_type": "code",
      "source": [
        "df_concat_final_new_3_final = df_concat_final_new_3.values.tolist()\n",
        "df_concat_final_new_3_final"
      ],
      "metadata": {
        "id": "usK0Zbw6gn_g"
      },
      "execution_count": null,
      "outputs": []
    },
    {
      "cell_type": "code",
      "source": [
        "df_concat_final_new_3 = df_concat_final_new_3.drop(columns=['number'])\n",
        "df_concat_final_new_3.head()"
      ],
      "metadata": {
        "colab": {
          "base_uri": "https://localhost:8080/",
          "height": 206
        },
        "id": "9oya1KwAn-Ri",
        "outputId": "ad6298ce-8d33-4af4-e470-ccdebd911185"
      },
      "execution_count": 87,
      "outputs": [
        {
          "output_type": "execute_result",
          "data": {
            "text/plain": [
              "                                           file_text\n",
              "0  [DUCESP, JUCESP PROTOCOLO 0.175.643/18-0 S[P 0...\n",
              "1  [ QUADRA: 52 05 LOTE: * VALOR DA VENDA TABAPOR...\n",
              "2  [ SS CELL SITE MAD SOLUTIONS 2 Cell Site Solut...\n",
              "3  [ CONTRATO DE LOCAÇÃO Os signatários deste ins...\n",
              "4  [ CONTRATO DE LOCAÇÃO DE IMÓVEL URBANO ROBERTO..."
            ],
            "text/html": [
              "\n",
              "  <div id=\"df-03a4c742-533a-439d-a056-7a77ceade335\">\n",
              "    <div class=\"colab-df-container\">\n",
              "      <div>\n",
              "<style scoped>\n",
              "    .dataframe tbody tr th:only-of-type {\n",
              "        vertical-align: middle;\n",
              "    }\n",
              "\n",
              "    .dataframe tbody tr th {\n",
              "        vertical-align: top;\n",
              "    }\n",
              "\n",
              "    .dataframe thead th {\n",
              "        text-align: right;\n",
              "    }\n",
              "</style>\n",
              "<table border=\"1\" class=\"dataframe\">\n",
              "  <thead>\n",
              "    <tr style=\"text-align: right;\">\n",
              "      <th></th>\n",
              "      <th>file_text</th>\n",
              "    </tr>\n",
              "  </thead>\n",
              "  <tbody>\n",
              "    <tr>\n",
              "      <th>0</th>\n",
              "      <td>[DUCESP, JUCESP PROTOCOLO 0.175.643/18-0 S[P 0...</td>\n",
              "    </tr>\n",
              "    <tr>\n",
              "      <th>1</th>\n",
              "      <td>[ QUADRA: 52 05 LOTE: * VALOR DA VENDA TABAPOR...</td>\n",
              "    </tr>\n",
              "    <tr>\n",
              "      <th>2</th>\n",
              "      <td>[ SS CELL SITE MAD SOLUTIONS 2 Cell Site Solut...</td>\n",
              "    </tr>\n",
              "    <tr>\n",
              "      <th>3</th>\n",
              "      <td>[ CONTRATO DE LOCAÇÃO Os signatários deste ins...</td>\n",
              "    </tr>\n",
              "    <tr>\n",
              "      <th>4</th>\n",
              "      <td>[ CONTRATO DE LOCAÇÃO DE IMÓVEL URBANO ROBERTO...</td>\n",
              "    </tr>\n",
              "  </tbody>\n",
              "</table>\n",
              "</div>\n",
              "      <button class=\"colab-df-convert\" onclick=\"convertToInteractive('df-03a4c742-533a-439d-a056-7a77ceade335')\"\n",
              "              title=\"Convert this dataframe to an interactive table.\"\n",
              "              style=\"display:none;\">\n",
              "        \n",
              "  <svg xmlns=\"http://www.w3.org/2000/svg\" height=\"24px\"viewBox=\"0 0 24 24\"\n",
              "       width=\"24px\">\n",
              "    <path d=\"M0 0h24v24H0V0z\" fill=\"none\"/>\n",
              "    <path d=\"M18.56 5.44l.94 2.06.94-2.06 2.06-.94-2.06-.94-.94-2.06-.94 2.06-2.06.94zm-11 1L8.5 8.5l.94-2.06 2.06-.94-2.06-.94L8.5 2.5l-.94 2.06-2.06.94zm10 10l.94 2.06.94-2.06 2.06-.94-2.06-.94-.94-2.06-.94 2.06-2.06.94z\"/><path d=\"M17.41 7.96l-1.37-1.37c-.4-.4-.92-.59-1.43-.59-.52 0-1.04.2-1.43.59L10.3 9.45l-7.72 7.72c-.78.78-.78 2.05 0 2.83L4 21.41c.39.39.9.59 1.41.59.51 0 1.02-.2 1.41-.59l7.78-7.78 2.81-2.81c.8-.78.8-2.07 0-2.86zM5.41 20L4 18.59l7.72-7.72 1.47 1.35L5.41 20z\"/>\n",
              "  </svg>\n",
              "      </button>\n",
              "      \n",
              "  <style>\n",
              "    .colab-df-container {\n",
              "      display:flex;\n",
              "      flex-wrap:wrap;\n",
              "      gap: 12px;\n",
              "    }\n",
              "\n",
              "    .colab-df-convert {\n",
              "      background-color: #E8F0FE;\n",
              "      border: none;\n",
              "      border-radius: 50%;\n",
              "      cursor: pointer;\n",
              "      display: none;\n",
              "      fill: #1967D2;\n",
              "      height: 32px;\n",
              "      padding: 0 0 0 0;\n",
              "      width: 32px;\n",
              "    }\n",
              "\n",
              "    .colab-df-convert:hover {\n",
              "      background-color: #E2EBFA;\n",
              "      box-shadow: 0px 1px 2px rgba(60, 64, 67, 0.3), 0px 1px 3px 1px rgba(60, 64, 67, 0.15);\n",
              "      fill: #174EA6;\n",
              "    }\n",
              "\n",
              "    [theme=dark] .colab-df-convert {\n",
              "      background-color: #3B4455;\n",
              "      fill: #D2E3FC;\n",
              "    }\n",
              "\n",
              "    [theme=dark] .colab-df-convert:hover {\n",
              "      background-color: #434B5C;\n",
              "      box-shadow: 0px 1px 3px 1px rgba(0, 0, 0, 0.15);\n",
              "      filter: drop-shadow(0px 1px 2px rgba(0, 0, 0, 0.3));\n",
              "      fill: #FFFFFF;\n",
              "    }\n",
              "  </style>\n",
              "\n",
              "      <script>\n",
              "        const buttonEl =\n",
              "          document.querySelector('#df-03a4c742-533a-439d-a056-7a77ceade335 button.colab-df-convert');\n",
              "        buttonEl.style.display =\n",
              "          google.colab.kernel.accessAllowed ? 'block' : 'none';\n",
              "\n",
              "        async function convertToInteractive(key) {\n",
              "          const element = document.querySelector('#df-03a4c742-533a-439d-a056-7a77ceade335');\n",
              "          const dataTable =\n",
              "            await google.colab.kernel.invokeFunction('convertToInteractive',\n",
              "                                                     [key], {});\n",
              "          if (!dataTable) return;\n",
              "\n",
              "          const docLinkHtml = 'Like what you see? Visit the ' +\n",
              "            '<a target=\"_blank\" href=https://colab.research.google.com/notebooks/data_table.ipynb>data table notebook</a>'\n",
              "            + ' to learn more about interactive tables.';\n",
              "          element.innerHTML = '';\n",
              "          dataTable['output_type'] = 'display_data';\n",
              "          await google.colab.output.renderOutput(dataTable, element);\n",
              "          const docLink = document.createElement('div');\n",
              "          docLink.innerHTML = docLinkHtml;\n",
              "          element.appendChild(docLink);\n",
              "        }\n",
              "      </script>\n",
              "    </div>\n",
              "  </div>\n",
              "  "
            ]
          },
          "metadata": {},
          "execution_count": 87
        }
      ]
    },
    {
      "cell_type": "code",
      "source": [
        "df_concat_final_new_3.to_excel('output_file_.xlsx')"
      ],
      "metadata": {
        "id": "nj9KegU_ZjjK"
      },
      "execution_count": 102,
      "outputs": []
    },
    {
      "cell_type": "code",
      "source": [
        "df_concat_final_new_3.to_csv('output_file_.csv')"
      ],
      "metadata": {
        "id": "JZR0_upJonzu"
      },
      "execution_count": 90,
      "outputs": []
    },
    {
      "cell_type": "code",
      "source": [
        "df_concat_final_new_3.to_json('output_file_.json')"
      ],
      "metadata": {
        "id": "rnnBc-giozdI"
      },
      "execution_count": 92,
      "outputs": []
    },
    {
      "cell_type": "code",
      "source": [
        "df_concat_final_new_3.to_json('output_file_.jsonl')"
      ],
      "metadata": {
        "id": "V5XAcfCfo4Hv"
      },
      "execution_count": 93,
      "outputs": []
    },
    {
      "cell_type": "code",
      "source": [
        "df_concat_final_new_3.to_string('output_file_.txt')"
      ],
      "metadata": {
        "id": "du2wzHU8pAIf"
      },
      "execution_count": 96,
      "outputs": []
    },
    {
      "cell_type": "code",
      "source": [
        "%cp -r /content/output_file_.xlsx /content/drive/MyDrive/contextus/datasets"
      ],
      "metadata": {
        "id": "ZCgtJfp5h7BM"
      },
      "execution_count": 103,
      "outputs": []
    },
    {
      "cell_type": "code",
      "source": [
        "%cp -r /content/output_file_.csv /content/drive/MyDrive/contextus/datasets"
      ],
      "metadata": {
        "id": "v8ziXZBlostf"
      },
      "execution_count": 91,
      "outputs": []
    },
    {
      "cell_type": "code",
      "source": [
        "%cp -r /content/output_file_.json /content/drive/MyDrive/contextus/datasets"
      ],
      "metadata": {
        "id": "4DZeU-mpo7Ao"
      },
      "execution_count": 94,
      "outputs": []
    },
    {
      "cell_type": "code",
      "source": [
        "%cp -r /content/output_file_.jsonl /content/drive/MyDrive/contextus/datasets"
      ],
      "metadata": {
        "id": "rx-i_bWMo7Ko"
      },
      "execution_count": 95,
      "outputs": []
    },
    {
      "cell_type": "code",
      "source": [
        "%cp -r /content/output_file_.txt /content/drive/MyDrive/contextus/datasets"
      ],
      "metadata": {
        "id": "5k5Q9TRrpOs5"
      },
      "execution_count": 100,
      "outputs": []
    },
    {
      "cell_type": "code",
      "source": [
        "from openpyxl import load_workbook\n",
        "path = \"/content/teste.xlsx\"\n",
        "wb_obj = load_workbook(path) \n",
        "f = open(\"update_text2.txt\",\"w+\")\n",
        "sheet_obj = wb_obj.active \n",
        "\n",
        "for i in range(2, 8): \n",
        "\tif sheet_obj.cell(row = i, column = 1).value is not None:\n",
        "\t\tf.write(\"UPDATE OPERACOES SET DESCRICAO = '\" + str(sheet_obj.cell(row = i, column = 3).value) + \"' WHERE ID_OPERACAO = \" + str((sheet_obj.cell(row = i, column = 4).value))[:-2] + \";\\n\")\n",
        "f.close() "
      ],
      "metadata": {
        "id": "MPivJrmavnzF"
      },
      "execution_count": 114,
      "outputs": []
    },
    {
      "cell_type": "code",
      "source": [
        "test = pd.read_excel('/content/drive/MyDrive/contextus/datasets/output_file_.xlsx')\n",
        "test = test.drop(columns=['Unnamed: 0'])\n",
        "test.to_excel('teste.xlsx')"
      ],
      "metadata": {
        "id": "iEgODb4kvn1_"
      },
      "execution_count": 111,
      "outputs": []
    },
    {
      "cell_type": "code",
      "source": [
        "%cp -r /content/update_text2.txt /content/drive/MyDrive/contextus/datasets"
      ],
      "metadata": {
        "id": "-H1nEbgtvn4t"
      },
      "execution_count": 119,
      "outputs": []
    }
  ]
}